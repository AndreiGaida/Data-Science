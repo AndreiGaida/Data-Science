{
 "cells": [
  {
   "cell_type": "markdown",
   "metadata": {
    "toc": true
   },
   "source": [
    "<h1>Содержание<span class=\"tocSkip\"></span></h1>\n",
    "<div class=\"toc\"><ul class=\"toc-item\"><li><span><a href=\"#Прогнозирование-заказов-такси\" data-toc-modified-id=\"Прогнозирование-заказов-такси-1\">Прогнозирование заказов такси</a></span></li><li><span><a href=\"#Подготовка\" data-toc-modified-id=\"Подготовка-2\">Подготовка</a></span></li><li><span><a href=\"#Анализ\" data-toc-modified-id=\"Анализ-3\">Анализ</a></span></li><li><span><a href=\"#Обучение-моделей\" data-toc-modified-id=\"Обучение-моделей-4\">Обучение моделей</a></span></li><li><span><a href=\"#Тестирование-наилучшей-модели\" data-toc-modified-id=\"Тестирование-наилучшей-модели-5\">Тестирование наилучшей модели</a></span></li><li><span><a href=\"#Вывод\" data-toc-modified-id=\"Вывод-6\">Вывод</a></span></li></ul></div>"
   ]
  },
  {
   "cell_type": "markdown",
   "metadata": {},
   "source": [
    "#  Прогнозирование заказов такси"
   ]
  },
  {
   "cell_type": "markdown",
   "metadata": {},
   "source": [
    "Компания «Чётенькое такси» собрала исторические данные о заказах такси в аэропортах. Чтобы привлекать больше водителей в период пиковой нагрузки, нужно спрогнозировать количество заказов такси на следующий час. Постройте модель для такого предсказания.\n",
    "\n",
    "Значение метрики *RMSE* на тестовой выборке должно быть не больше 48."
   ]
  },
  {
   "cell_type": "markdown",
   "metadata": {},
   "source": [
    "# Подготовка"
   ]
  },
  {
   "cell_type": "code",
   "execution_count": 1,
   "metadata": {},
   "outputs": [],
   "source": [
    "import pandas as pd\n",
    "import numpy as np\n",
    "from statsmodels.tsa.seasonal import seasonal_decompose\n",
    "import matplotlib.pyplot as plt\n",
    "from sklearn.model_selection import train_test_split\n",
    "from sklearn.model_selection import cross_val_score\n",
    "from sklearn.model_selection import GridSearchCV\n",
    "from sklearn.model_selection import TimeSeriesSplit\n",
    "from sklearn.metrics import mean_squared_error\n",
    "from sklearn.linear_model import LinearRegression\n",
    "from sklearn.ensemble import RandomForestRegressor\n",
    "from catboost import CatBoostRegressor\n",
    "from lightgbm import LGBMRegressor\n",
    "import warnings\n",
    "warnings.filterwarnings('ignore')"
   ]
  },
  {
   "cell_type": "code",
   "execution_count": 2,
   "metadata": {},
   "outputs": [],
   "source": [
    "try:\n",
    "    data = pd.read_csv('C:/Users/datasets/taxi.csv') \n",
    "except:\n",
    "    data = pd.read_csv('//datasets/taxi.csv') "
   ]
  },
  {
   "cell_type": "markdown",
   "metadata": {},
   "source": [
    "*Изучим общую информацию*"
   ]
  },
  {
   "cell_type": "code",
   "execution_count": 3,
   "metadata": {},
   "outputs": [
    {
     "data": {
      "text/html": [
       "<div>\n",
       "<style scoped>\n",
       "    .dataframe tbody tr th:only-of-type {\n",
       "        vertical-align: middle;\n",
       "    }\n",
       "\n",
       "    .dataframe tbody tr th {\n",
       "        vertical-align: top;\n",
       "    }\n",
       "\n",
       "    .dataframe thead th {\n",
       "        text-align: right;\n",
       "    }\n",
       "</style>\n",
       "<table border=\"1\" class=\"dataframe\">\n",
       "  <thead>\n",
       "    <tr style=\"text-align: right;\">\n",
       "      <th></th>\n",
       "      <th>datetime</th>\n",
       "      <th>num_orders</th>\n",
       "    </tr>\n",
       "  </thead>\n",
       "  <tbody>\n",
       "    <tr>\n",
       "      <th>0</th>\n",
       "      <td>2018-03-01 00:00:00</td>\n",
       "      <td>9</td>\n",
       "    </tr>\n",
       "    <tr>\n",
       "      <th>1</th>\n",
       "      <td>2018-03-01 00:10:00</td>\n",
       "      <td>14</td>\n",
       "    </tr>\n",
       "    <tr>\n",
       "      <th>2</th>\n",
       "      <td>2018-03-01 00:20:00</td>\n",
       "      <td>28</td>\n",
       "    </tr>\n",
       "    <tr>\n",
       "      <th>3</th>\n",
       "      <td>2018-03-01 00:30:00</td>\n",
       "      <td>20</td>\n",
       "    </tr>\n",
       "    <tr>\n",
       "      <th>4</th>\n",
       "      <td>2018-03-01 00:40:00</td>\n",
       "      <td>32</td>\n",
       "    </tr>\n",
       "  </tbody>\n",
       "</table>\n",
       "</div>"
      ],
      "text/plain": [
       "              datetime  num_orders\n",
       "0  2018-03-01 00:00:00           9\n",
       "1  2018-03-01 00:10:00          14\n",
       "2  2018-03-01 00:20:00          28\n",
       "3  2018-03-01 00:30:00          20\n",
       "4  2018-03-01 00:40:00          32"
      ]
     },
     "execution_count": 3,
     "metadata": {},
     "output_type": "execute_result"
    }
   ],
   "source": [
    "data.head()"
   ]
  },
  {
   "cell_type": "code",
   "execution_count": 4,
   "metadata": {},
   "outputs": [
    {
     "name": "stdout",
     "output_type": "stream",
     "text": [
      "<class 'pandas.core.frame.DataFrame'>\n",
      "RangeIndex: 26496 entries, 0 to 26495\n",
      "Data columns (total 2 columns):\n",
      " #   Column      Non-Null Count  Dtype \n",
      "---  ------      --------------  ----- \n",
      " 0   datetime    26496 non-null  object\n",
      " 1   num_orders  26496 non-null  int64 \n",
      "dtypes: int64(1), object(1)\n",
      "memory usage: 414.1+ KB\n"
     ]
    }
   ],
   "source": [
    "data.info()"
   ]
  },
  {
   "cell_type": "markdown",
   "metadata": {},
   "source": [
    "*Изменим тип данных с object на datetime64*"
   ]
  },
  {
   "cell_type": "code",
   "execution_count": 5,
   "metadata": {},
   "outputs": [],
   "source": [
    "data['datetime'] = pd.to_datetime(data['datetime'])"
   ]
  },
  {
   "cell_type": "markdown",
   "metadata": {},
   "source": [
    "*Установите индекс таблицы равным столбцу datetime.*"
   ]
  },
  {
   "cell_type": "code",
   "execution_count": 6,
   "metadata": {},
   "outputs": [],
   "source": [
    "data = data.set_index('datetime')"
   ]
  },
  {
   "cell_type": "markdown",
   "metadata": {},
   "source": [
    "*Проверим, в хронологическом ли порядке расположены даты и время.*"
   ]
  },
  {
   "cell_type": "code",
   "execution_count": 7,
   "metadata": {},
   "outputs": [
    {
     "data": {
      "text/plain": [
       "True"
      ]
     },
     "execution_count": 7,
     "metadata": {},
     "output_type": "execute_result"
    }
   ],
   "source": [
    "data.index.is_monotonic"
   ]
  },
  {
   "cell_type": "markdown",
   "metadata": {},
   "source": [
    "<div class=\"alert alert-block alert-success\">\n",
    "<b>✔️ Успех:</b>\n",
    "\n",
    "Признак даты сделали индексом, тем самым преобразовали датафрейм во временной ряд 👍\n",
    "</div>"
   ]
  },
  {
   "cell_type": "markdown",
   "metadata": {},
   "source": [
    "# Анализ"
   ]
  },
  {
   "cell_type": "markdown",
   "metadata": {},
   "source": [
    "*Выполним ресемплирование по одному часу и просуммируем заказы такси.*"
   ]
  },
  {
   "cell_type": "code",
   "execution_count": 8,
   "metadata": {},
   "outputs": [
    {
     "data": {
      "image/png": "[encoded data removed]",
      "text/plain": [
       "<Figure size 1008x432 with 1 Axes>"
      ]
     },
     "metadata": {
      "needs_background": "light"
     },
     "output_type": "display_data"
    }
   ],
   "source": [
    "data = data.resample('1H').sum()\n",
    "data.plot(figsize=(14,6), legend=False);"
   ]
  },
  {
   "cell_type": "markdown",
   "metadata": {},
   "source": [
    "*Воспользуемся декомпозицией и разложим временной ряд на три составляющие: тренд, сезонность и остаток.*"
   ]
  },
  {
   "cell_type": "code",
   "execution_count": 9,
   "metadata": {},
   "outputs": [],
   "source": [
    "decomposed = seasonal_decompose(data)"
   ]
  },
  {
   "cell_type": "code",
   "execution_count": 10,
   "metadata": {},
   "outputs": [
    {
     "data": {
      "image/png": "[encoded data removed]",
      "text/plain": [
       "<Figure size 864x864 with 3 Axes>"
      ]
     },
     "metadata": {
      "needs_background": "light"
     },
     "output_type": "display_data"
    }
   ],
   "source": [
    "plt.figure(figsize=(12, 12))\n",
    "plt.subplot(311)\n",
    "\n",
    "decomposed.trend.plot(ax=plt.gca())\n",
    "plt.title('Trend')\n",
    "plt.subplot(312)\n",
    "decomposed.seasonal.plot(ax=plt.gca()) \n",
    "plt.title('Seasonality')\n",
    "plt.subplot(313)\n",
    "decomposed.resid.plot(ax=plt.gca()) \n",
    "plt.title('Residuals')\n",
    "plt.tight_layout()"
   ]
  },
  {
   "cell_type": "markdown",
   "metadata": {},
   "source": [
    "На графике \"Trend\"  мы можем наблюдать увеличение количества заказов. Из чего мы можем сделать вывод, что временной ряд не является стационарным."
   ]
  },
  {
   "cell_type": "markdown",
   "metadata": {},
   "source": [
    "# Обучение моделей"
   ]
  },
  {
   "cell_type": "markdown",
   "metadata": {},
   "source": [
    "*Напишем функцию которая создаст новые признаки.*"
   ]
  },
  {
   "cell_type": "code",
   "execution_count": 11,
   "metadata": {},
   "outputs": [],
   "source": [
    "def make_features(data, max_lag, rolling_mean_size):\n",
    "    data['month'] = data.index.month\n",
    "    data['day'] = data.index.day\n",
    "    data['dayofweek'] = data.index.dayofweek\n",
    "    \n",
    "    for lag in range(1, max_lag + 1):\n",
    "        data['lag_{}'.format(lag)] = data['num_orders'].shift(lag)\n",
    "\n",
    "    data['rolling_mean'] = data['num_orders'].shift().rolling(rolling_mean_size).mean()"
   ]
  },
  {
   "cell_type": "markdown",
   "metadata": {},
   "source": [
    "Подберём значения в цикле для max_lag и rolling_mean_size на примере линейной регрессии."
   ]
  },
  {
   "cell_type": "code",
   "execution_count": 12,
   "metadata": {},
   "outputs": [
    {
     "name": "stdout",
     "output_type": "stream",
     "text": [
      "RMSE: 27.007382703073027 \n",
      "max_lag: 25 \n",
      "Rolling_mean_size: 22\n",
      "CPU times: user 1min 39s, sys: 3min 46s, total: 5min 25s\n",
      "Wall time: 5min 26s\n"
     ]
    }
   ],
   "source": [
    "%%time\n",
    "\n",
    "df = data.copy() \n",
    "best_rmse = 48\n",
    "best_w = 0\n",
    "best_k = 0\n",
    "values = [i for i in range(1, 26)]\n",
    "for w in values:\n",
    "    for k in values:\n",
    "        make_features(df, w, k)\n",
    "        \n",
    "        data_train, data_test = train_test_split(df, shuffle=False, test_size=0.1) \n",
    "        data_train.dropna(inplace=True)\n",
    "        \n",
    "        x_train = data_train.drop('num_orders', axis=1)\n",
    "        y_train = data_train['num_orders']\n",
    "        x_test = data_test.drop('num_orders', axis=1)\n",
    "        y_test = data_test['num_orders']\n",
    "        \n",
    "        tscv = TimeSeriesSplit(n_splits=5)  \n",
    "    \n",
    "        model = LinearRegression()\n",
    "        rmse_lr = ((-cross_val_score(model, x_train, y_train, cv=tscv, scoring='neg_mean_squared_error'))**0.5).mean()\n",
    "        \n",
    "        if rmse_lr < best_rmse:\n",
    "            best_rmse = rmse_lr\n",
    "            best_w = w\n",
    "            best_k = k\n",
    "            \n",
    "print('RMSE:', best_rmse, '\\nmax_lag:', best_w, '\\nRolling_mean_size:', best_k)"
   ]
  },
  {
   "cell_type": "markdown",
   "metadata": {},
   "source": [
    "*Запустим созданную нами функцию со значениями max_lag и rolling_mean_size.*"
   ]
  },
  {
   "cell_type": "code",
   "execution_count": 13,
   "metadata": {},
   "outputs": [],
   "source": [
    "make_features(data, best_w, best_k)\n"
   ]
  },
  {
   "cell_type": "markdown",
   "metadata": {},
   "source": [
    "*Разделим данные на обучающую и тестовую выборки*"
   ]
  },
  {
   "cell_type": "code",
   "execution_count": 14,
   "metadata": {},
   "outputs": [],
   "source": [
    "train, test = train_test_split(data, shuffle=False, test_size=0.1)\n",
    "train = train.dropna()"
   ]
  },
  {
   "cell_type": "markdown",
   "metadata": {},
   "source": [
    "*Признаки и целевой признак*"
   ]
  },
  {
   "cell_type": "code",
   "execution_count": 15,
   "metadata": {},
   "outputs": [],
   "source": [
    "train_features = train.drop('num_orders', axis=1)\n",
    "train_target = train['num_orders']\n",
    "test_features = test.drop('num_orders', axis=1)\n",
    "test_target = test['num_orders']"
   ]
  },
  {
   "cell_type": "markdown",
   "metadata": {},
   "source": [
    "*RandomForest*"
   ]
  },
  {
   "cell_type": "code",
   "execution_count": 16,
   "metadata": {},
   "outputs": [
    {
     "name": "stdout",
     "output_type": "stream",
     "text": [
      "RMSE: 26.736254212652693 при значениях гиперпараметров: {'max_depth': 9, 'n_estimators': 31}\n",
      "CPU times: user 34.7 s, sys: 0 ns, total: 34.7 s\n",
      "Wall time: 34.9 s\n"
     ]
    }
   ],
   "source": [
    "%%time\n",
    "\n",
    "params_grid = {'max_depth': range(2, 10),\n",
    "              'n_estimators': range(1, 35, 10)}\n",
    "model = RandomForestRegressor(random_state=12345)\n",
    "search = GridSearchCV(model, params_grid, cv=tscv, scoring='neg_mean_squared_error')\n",
    "search.fit(train_features, train_target)\n",
    "\n",
    "print('RMSE: {} при значениях гиперпараметров: {}'.format((-search.best_score_)**0.5, search.best_params_))"
   ]
  },
  {
   "cell_type": "markdown",
   "metadata": {},
   "source": [
    "*CatBoostRegressor*"
   ]
  },
  {
   "cell_type": "code",
   "execution_count": 17,
   "metadata": {},
   "outputs": [
    {
     "name": "stdout",
     "output_type": "stream",
     "text": [
      "RMSE: 25.274508796296427 при значениях гиперпараметров: {'learning_rate': 0.1}\n",
      "CPU times: user 2min 30s, sys: 3.74 s, total: 2min 34s\n",
      "Wall time: 3min 4s\n"
     ]
    }
   ],
   "source": [
    "%%time\n",
    "\n",
    "params_grid = {'learning_rate': [x/10 for x in range(1, 6)]}\n",
    "model = CatBoostRegressor(random_state=12345, verbose=False)\n",
    "search = GridSearchCV(model, params_grid, cv=tscv, scoring='neg_mean_squared_error')\n",
    "search.fit(train_features, train_target)\n",
    "\n",
    "print('RMSE: {} при значениях гиперпараметров: {}'.format((-search.best_score_)**0.5, search.best_params_))"
   ]
  },
  {
   "cell_type": "markdown",
   "metadata": {},
   "source": [
    "*LGBMRegressor*"
   ]
  },
  {
   "cell_type": "code",
   "execution_count": 18,
   "metadata": {},
   "outputs": [
    {
     "name": "stdout",
     "output_type": "stream",
     "text": [
      "RMSE: 25.89595494489954 при значениях гиперпараметров: {'learning_rate': 0.1}\n"
     ]
    }
   ],
   "source": [
    "params_grid = {'learning_rate': [x/10 for x in range(1, 6)]}\n",
    "\n",
    "model = LGBMRegressor(random_state=12345)\n",
    "search = GridSearchCV(model, params_grid, cv=tscv, scoring='neg_mean_squared_error')\n",
    "search.fit(train_features, train_target)\n",
    "\n",
    "print('RMSE: {} при значениях гиперпараметров: {}'.format((-search.best_score_)**0.5, search.best_params_))"
   ]
  },
  {
   "cell_type": "code",
   "execution_count": 25,
   "metadata": {},
   "outputs": [
    {
     "data": {
      "text/html": [
       "<div>\n",
       "<style scoped>\n",
       "    .dataframe tbody tr th:only-of-type {\n",
       "        vertical-align: middle;\n",
       "    }\n",
       "\n",
       "    .dataframe tbody tr th {\n",
       "        vertical-align: top;\n",
       "    }\n",
       "\n",
       "    .dataframe thead th {\n",
       "        text-align: right;\n",
       "    }\n",
       "</style>\n",
       "<table border=\"1\" class=\"dataframe\">\n",
       "  <thead>\n",
       "    <tr style=\"text-align: right;\">\n",
       "      <th></th>\n",
       "      <th>RMSE_train</th>\n",
       "    </tr>\n",
       "  </thead>\n",
       "  <tbody>\n",
       "    <tr>\n",
       "      <th>LinearRegression</th>\n",
       "      <td>27.00</td>\n",
       "    </tr>\n",
       "    <tr>\n",
       "      <th>RandomForest</th>\n",
       "      <td>26.73</td>\n",
       "    </tr>\n",
       "    <tr>\n",
       "      <th>CatBoost</th>\n",
       "      <td>25.27</td>\n",
       "    </tr>\n",
       "    <tr>\n",
       "      <th>LightGBM</th>\n",
       "      <td>25.89</td>\n",
       "    </tr>\n",
       "  </tbody>\n",
       "</table>\n",
       "</div>"
      ],
      "text/plain": [
       "                  RMSE_train\n",
       "LinearRegression       27.00\n",
       "RandomForest           26.73\n",
       "CatBoost               25.27\n",
       "LightGBM               25.89"
      ]
     },
     "execution_count": 25,
     "metadata": {},
     "output_type": "execute_result"
    }
   ],
   "source": [
    "results = [[27.00], [26.73], [25.27], [25.89]]\n",
    "models = ['LinearRegression', 'RandomForest','CatBoost', 'LightGBM']\n",
    "\n",
    "pd.DataFrame(data=results, index=models, columns=['RMSE_train'])"
   ]
  },
  {
   "cell_type": "markdown",
   "metadata": {},
   "source": [
    "# Тестирование наилучшей модели"
   ]
  },
  {
   "cell_type": "code",
   "execution_count": 22,
   "metadata": {},
   "outputs": [
    {
     "name": "stdout",
     "output_type": "stream",
     "text": [
      "RMSE: 41.25496882112546\n",
      "CPU times: user 7.72 s, sys: 134 ms, total: 7.85 s\n",
      "Wall time: 9.37 s\n"
     ]
    },
    {
     "data": {
      "text/plain": [
       "[<matplotlib.lines.Line2D at 0x7f858c53df10>,\n",
       " <matplotlib.lines.Line2D at 0x7f858c4e0f10>]"
      ]
     },
     "execution_count": 22,
     "metadata": {},
     "output_type": "execute_result"
    },
    {
     "data": {
      "image/png": "[encoded data removed]",
      "text/plain": [
       "<Figure size 1008x432 with 1 Axes>"
      ]
     },
     "metadata": {
      "needs_background": "light"
     },
     "output_type": "display_data"
    }
   ],
   "source": [
    "%%time\n",
    "\n",
    "model = CatBoostRegressor(learning_rate=0.1, random_state=12345, verbose=False)\n",
    "model.fit(train_features, train_target)\n",
    "target_predict = model.predict(test_features)\n",
    "print('RMSE:', mean_squared_error(test_target, target_predict) ** 0.5)\n",
    "\n",
    "plt.figure(figsize=(14,6))\n",
    "plt.plot(test_target.index, \n",
    "         test_target, \n",
    "         'b-', \n",
    "         test_target.index, \n",
    "         target_predict,\n",
    "         'r-');"
   ]
  },
  {
   "cell_type": "markdown",
   "metadata": {},
   "source": [
    "# Вывод"
   ]
  },
  {
   "cell_type": "markdown",
   "metadata": {},
   "source": [
    "Наилучший результат показала модель CatBoost - 41.25496882112546"
   ]
  }
 ],
 "metadata": {
  "ExecuteTimeLog": [
   {
    "duration": 2026,
    "start_time": "2023-07-12T13:45:41.625Z"
   },
   {
    "duration": 244,
    "start_time": "2023-07-12T13:45:43.654Z"
   },
   {
    "duration": 15,
    "start_time": "2023-07-12T13:45:43.901Z"
   },
   {
    "duration": 35,
    "start_time": "2023-07-12T13:45:43.918Z"
   },
   {
    "duration": 21,
    "start_time": "2023-07-12T13:45:43.956Z"
   },
   {
    "duration": 51,
    "start_time": "2023-07-12T13:45:43.980Z"
   },
   {
    "duration": 192,
    "start_time": "2023-07-12T13:45:44.035Z"
   },
   {
    "duration": 0,
    "start_time": "2023-07-12T13:45:44.229Z"
   },
   {
    "duration": 0,
    "start_time": "2023-07-12T13:45:44.231Z"
   },
   {
    "duration": 0,
    "start_time": "2023-07-12T13:45:44.233Z"
   },
   {
    "duration": 5,
    "start_time": "2023-07-12T13:45:55.073Z"
   },
   {
    "duration": 417,
    "start_time": "2023-07-12T13:45:56.796Z"
   },
   {
    "duration": 12,
    "start_time": "2023-07-12T13:45:59.993Z"
   },
   {
    "duration": 1159,
    "start_time": "2023-07-12T13:46:22.205Z"
   },
   {
    "duration": 976,
    "start_time": "2023-07-12T13:46:58.551Z"
   },
   {
    "duration": 943,
    "start_time": "2023-07-12T13:47:16.971Z"
   },
   {
    "duration": 1076,
    "start_time": "2023-07-12T13:47:31.715Z"
   },
   {
    "duration": 904,
    "start_time": "2023-07-12T13:47:41.404Z"
   },
   {
    "duration": 859,
    "start_time": "2023-07-12T13:47:50.029Z"
   },
   {
    "duration": 1104,
    "start_time": "2023-07-12T13:47:59.468Z"
   },
   {
    "duration": 4,
    "start_time": "2023-07-12T16:18:43.692Z"
   },
   {
    "duration": 6,
    "start_time": "2023-07-12T16:18:48.485Z"
   },
   {
    "duration": 5,
    "start_time": "2023-07-12T16:18:50.581Z"
   },
   {
    "duration": 7,
    "start_time": "2023-07-12T16:18:52.048Z"
   },
   {
    "duration": 803,
    "start_time": "2023-07-12T16:19:25.593Z"
   },
   {
    "duration": 235,
    "start_time": "2023-07-12T16:20:45.403Z"
   },
   {
    "duration": 592,
    "start_time": "2023-07-12T16:22:58.343Z"
   },
   {
    "duration": 6,
    "start_time": "2023-07-12T16:23:43.690Z"
   },
   {
    "duration": 225,
    "start_time": "2023-07-12T16:23:46.136Z"
   },
   {
    "duration": 4,
    "start_time": "2023-07-12T16:24:08.647Z"
   },
   {
    "duration": 260,
    "start_time": "2023-07-12T16:24:08.654Z"
   },
   {
    "duration": 9,
    "start_time": "2023-07-12T16:24:08.916Z"
   },
   {
    "duration": 24,
    "start_time": "2023-07-12T16:24:08.926Z"
   },
   {
    "duration": 16,
    "start_time": "2023-07-12T16:24:08.953Z"
   },
   {
    "duration": 8,
    "start_time": "2023-07-12T16:24:08.971Z"
   },
   {
    "duration": 7,
    "start_time": "2023-07-12T16:24:08.981Z"
   },
   {
    "duration": 296,
    "start_time": "2023-07-12T16:24:08.989Z"
   },
   {
    "duration": 8,
    "start_time": "2023-07-12T16:24:09.287Z"
   },
   {
    "duration": 989,
    "start_time": "2023-07-12T16:24:09.296Z"
   },
   {
    "duration": 4,
    "start_time": "2023-07-12T16:24:10.287Z"
   },
   {
    "duration": 31,
    "start_time": "2023-07-12T16:24:10.293Z"
   },
   {
    "duration": 9,
    "start_time": "2023-07-12T16:24:10.327Z"
   },
   {
    "duration": 7,
    "start_time": "2023-07-12T16:24:10.339Z"
   },
   {
    "duration": 191,
    "start_time": "2023-07-12T16:24:10.348Z"
   },
   {
    "duration": 0,
    "start_time": "2023-07-12T16:24:10.541Z"
   },
   {
    "duration": 254,
    "start_time": "2023-07-12T16:24:45.586Z"
   },
   {
    "duration": 5,
    "start_time": "2023-07-12T16:29:11.942Z"
   },
   {
    "duration": 10,
    "start_time": "2023-07-12T16:29:14.096Z"
   },
   {
    "duration": 4,
    "start_time": "2023-07-12T16:30:22.186Z"
   },
   {
    "duration": 6,
    "start_time": "2023-07-12T16:30:23.169Z"
   },
   {
    "duration": 7,
    "start_time": "2023-07-12T16:30:23.738Z"
   },
   {
    "duration": 7,
    "start_time": "2023-07-12T16:30:24.327Z"
   },
   {
    "duration": 184,
    "start_time": "2023-07-12T16:30:25.094Z"
   },
   {
    "duration": 98,
    "start_time": "2023-07-12T19:03:46.070Z"
   },
   {
    "duration": 4,
    "start_time": "2023-07-12T21:28:54.817Z"
   },
   {
    "duration": 1618,
    "start_time": "2023-07-12T21:29:01.310Z"
   },
   {
    "duration": 86,
    "start_time": "2023-07-12T21:29:03.508Z"
   },
   {
    "duration": 12,
    "start_time": "2023-07-12T21:29:04.857Z"
   },
   {
    "duration": 14,
    "start_time": "2023-07-12T21:29:05.709Z"
   },
   {
    "duration": 9,
    "start_time": "2023-07-12T21:29:07.006Z"
   },
   {
    "duration": 5,
    "start_time": "2023-07-12T21:29:08.233Z"
   },
   {
    "duration": 5,
    "start_time": "2023-07-12T21:29:09.459Z"
   },
   {
    "duration": 280,
    "start_time": "2023-07-12T21:29:12.904Z"
   },
   {
    "duration": 20,
    "start_time": "2023-07-12T21:29:14.210Z"
   },
   {
    "duration": 995,
    "start_time": "2023-07-12T21:29:16.024Z"
   },
   {
    "duration": 125,
    "start_time": "2023-07-12T21:29:21.710Z"
   },
   {
    "duration": 6,
    "start_time": "2023-07-12T21:29:44.248Z"
   },
   {
    "duration": 7,
    "start_time": "2023-07-12T21:29:50.444Z"
   },
   {
    "duration": 6,
    "start_time": "2023-07-12T21:29:53.026Z"
   },
   {
    "duration": 192,
    "start_time": "2023-07-12T21:30:25.009Z"
   },
   {
    "duration": 190,
    "start_time": "2023-07-12T21:30:57.752Z"
   },
   {
    "duration": 165,
    "start_time": "2023-07-12T21:31:27.940Z"
   },
   {
    "duration": 1640,
    "start_time": "2023-07-12T21:31:52.006Z"
   },
   {
    "duration": 114,
    "start_time": "2023-07-12T21:31:54.367Z"
   },
   {
    "duration": 12,
    "start_time": "2023-07-12T21:31:56.342Z"
   },
   {
    "duration": 14,
    "start_time": "2023-07-12T21:31:57.342Z"
   },
   {
    "duration": 9,
    "start_time": "2023-07-12T21:31:59.115Z"
   },
   {
    "duration": 4,
    "start_time": "2023-07-12T21:32:00.702Z"
   },
   {
    "duration": 5,
    "start_time": "2023-07-12T21:32:02.268Z"
   },
   {
    "duration": 282,
    "start_time": "2023-07-12T21:32:04.619Z"
   },
   {
    "duration": 9,
    "start_time": "2023-07-12T21:32:06.243Z"
   },
   {
    "duration": 953,
    "start_time": "2023-07-12T21:32:07.416Z"
   },
   {
    "duration": 5,
    "start_time": "2023-07-12T21:32:13.110Z"
   },
   {
    "duration": 6,
    "start_time": "2023-07-12T21:32:14.141Z"
   },
   {
    "duration": 6,
    "start_time": "2023-07-12T21:32:14.947Z"
   },
   {
    "duration": 1624,
    "start_time": "2023-07-12T21:34:23.649Z"
   },
   {
    "duration": 83,
    "start_time": "2023-07-12T21:34:25.275Z"
   },
   {
    "duration": 12,
    "start_time": "2023-07-12T21:34:26.558Z"
   },
   {
    "duration": 17,
    "start_time": "2023-07-12T21:34:27.206Z"
   },
   {
    "duration": 9,
    "start_time": "2023-07-12T21:34:29.061Z"
   },
   {
    "duration": 6,
    "start_time": "2023-07-12T21:34:30.006Z"
   },
   {
    "duration": 5,
    "start_time": "2023-07-12T21:34:31.068Z"
   },
   {
    "duration": 278,
    "start_time": "2023-07-12T21:34:32.776Z"
   },
   {
    "duration": 8,
    "start_time": "2023-07-12T21:34:34.198Z"
   },
   {
    "duration": 950,
    "start_time": "2023-07-12T21:34:34.833Z"
   },
   {
    "duration": 5,
    "start_time": "2023-07-12T21:34:40.406Z"
   },
   {
    "duration": 128,
    "start_time": "2023-07-12T21:34:41.436Z"
   },
   {
    "duration": 29,
    "start_time": "2023-07-12T21:34:59.305Z"
   },
   {
    "duration": 8,
    "start_time": "2023-07-12T21:35:01.932Z"
   },
   {
    "duration": 7,
    "start_time": "2023-07-12T21:35:02.821Z"
   },
   {
    "duration": 7,
    "start_time": "2023-07-12T21:35:04.526Z"
   },
   {
    "duration": 116808,
    "start_time": "2023-07-12T21:35:05.729Z"
   },
   {
    "duration": 287614,
    "start_time": "2023-07-12T21:38:32.614Z"
   },
   {
    "duration": 57534,
    "start_time": "2023-07-12T21:43:29.864Z"
   },
   {
    "duration": 25165,
    "start_time": "2023-07-12T21:47:43.499Z"
   },
   {
    "duration": 696358,
    "start_time": "2023-07-12T21:48:32.214Z"
   },
   {
    "duration": 23550,
    "start_time": "2023-07-12T22:18:54.849Z"
   },
   {
    "duration": 30,
    "start_time": "2023-07-12T22:20:18.024Z"
   },
   {
    "duration": 60750,
    "start_time": "2023-07-12T22:21:20.850Z"
   },
   {
    "duration": 10,
    "start_time": "2023-07-12T22:24:06.292Z"
   },
   {
    "duration": 1560,
    "start_time": "2023-07-12T23:35:06.700Z"
   },
   {
    "duration": 83,
    "start_time": "2023-07-12T23:35:10.031Z"
   },
   {
    "duration": 12,
    "start_time": "2023-07-12T23:35:12.542Z"
   },
   {
    "duration": 14,
    "start_time": "2023-07-12T23:35:14.096Z"
   },
   {
    "duration": 9,
    "start_time": "2023-07-12T23:35:15.363Z"
   },
   {
    "duration": 5,
    "start_time": "2023-07-12T23:35:16.461Z"
   },
   {
    "duration": 4,
    "start_time": "2023-07-12T23:35:18.650Z"
   },
   {
    "duration": 275,
    "start_time": "2023-07-12T23:35:19.744Z"
   },
   {
    "duration": 8,
    "start_time": "2023-07-12T23:35:21.204Z"
   },
   {
    "duration": 941,
    "start_time": "2023-07-12T23:35:23.107Z"
   },
   {
    "duration": 4,
    "start_time": "2023-07-12T23:35:31.706Z"
   },
   {
    "duration": 4,
    "start_time": "2023-07-12T23:35:44.282Z"
   },
   {
    "duration": 117,
    "start_time": "2023-07-12T23:36:03.215Z"
   },
   {
    "duration": 4,
    "start_time": "2023-07-12T23:36:21.292Z"
   },
   {
    "duration": 11,
    "start_time": "2023-07-12T23:36:28.359Z"
   },
   {
    "duration": 1502,
    "start_time": "2023-07-12T23:42:15.064Z"
   },
   {
    "duration": 81,
    "start_time": "2023-07-12T23:42:16.568Z"
   },
   {
    "duration": 12,
    "start_time": "2023-07-12T23:42:16.651Z"
   },
   {
    "duration": 17,
    "start_time": "2023-07-12T23:42:16.664Z"
   },
   {
    "duration": 13,
    "start_time": "2023-07-12T23:42:16.683Z"
   },
   {
    "duration": 21,
    "start_time": "2023-07-12T23:42:16.697Z"
   },
   {
    "duration": 11,
    "start_time": "2023-07-12T23:42:16.720Z"
   },
   {
    "duration": 269,
    "start_time": "2023-07-12T23:42:16.733Z"
   },
   {
    "duration": 12,
    "start_time": "2023-07-12T23:42:17.003Z"
   },
   {
    "duration": 960,
    "start_time": "2023-07-12T23:42:17.016Z"
   },
   {
    "duration": 6,
    "start_time": "2023-07-12T23:42:17.978Z"
   },
   {
    "duration": 9,
    "start_time": "2023-07-12T23:42:17.985Z"
   },
   {
    "duration": 6,
    "start_time": "2023-07-12T23:42:18.008Z"
   },
   {
    "duration": 7,
    "start_time": "2023-07-12T23:42:18.016Z"
   },
   {
    "duration": 283,
    "start_time": "2023-07-12T23:42:18.025Z"
   },
   {
    "duration": 0,
    "start_time": "2023-07-12T23:42:18.309Z"
   },
   {
    "duration": 0,
    "start_time": "2023-07-12T23:42:18.311Z"
   },
   {
    "duration": 0,
    "start_time": "2023-07-12T23:42:18.312Z"
   },
   {
    "duration": 0,
    "start_time": "2023-07-12T23:42:18.313Z"
   },
   {
    "duration": 0,
    "start_time": "2023-07-12T23:42:18.314Z"
   },
   {
    "duration": 0,
    "start_time": "2023-07-12T23:42:18.315Z"
   },
   {
    "duration": 0,
    "start_time": "2023-07-12T23:42:18.316Z"
   },
   {
    "duration": 1552,
    "start_time": "2023-07-12T23:43:49.791Z"
   },
   {
    "duration": 92,
    "start_time": "2023-07-12T23:43:51.345Z"
   },
   {
    "duration": 12,
    "start_time": "2023-07-12T23:43:51.439Z"
   },
   {
    "duration": 38,
    "start_time": "2023-07-12T23:43:51.452Z"
   },
   {
    "duration": 27,
    "start_time": "2023-07-12T23:43:51.493Z"
   },
   {
    "duration": 25,
    "start_time": "2023-07-12T23:43:51.522Z"
   },
   {
    "duration": 31,
    "start_time": "2023-07-12T23:43:51.549Z"
   },
   {
    "duration": 274,
    "start_time": "2023-07-12T23:43:51.582Z"
   },
   {
    "duration": 9,
    "start_time": "2023-07-12T23:43:51.858Z"
   },
   {
    "duration": 984,
    "start_time": "2023-07-12T23:43:51.868Z"
   },
   {
    "duration": 4,
    "start_time": "2023-07-12T23:43:52.854Z"
   },
   {
    "duration": 35,
    "start_time": "2023-07-12T23:43:52.860Z"
   },
   {
    "duration": 7,
    "start_time": "2023-07-12T23:43:52.897Z"
   },
   {
    "duration": 7,
    "start_time": "2023-07-12T23:43:52.906Z"
   },
   {
    "duration": 9,
    "start_time": "2023-07-12T23:43:52.915Z"
   },
   {
    "duration": 48089,
    "start_time": "2023-07-12T23:43:52.926Z"
   },
   {
    "duration": 634944,
    "start_time": "2023-07-12T23:44:41.017Z"
   },
   {
    "duration": 1480960,
    "start_time": "2023-07-12T23:55:15.963Z"
   },
   {
    "duration": 58227,
    "start_time": "2023-07-13T00:19:56.925Z"
   },
   {
    "duration": 970,
    "start_time": "2023-07-13T00:20:55.154Z"
   },
   {
    "duration": 10,
    "start_time": "2023-07-13T00:20:56.126Z"
   },
   {
    "duration": 40,
    "start_time": "2023-07-13T00:20:56.138Z"
   },
   {
    "duration": 29,
    "start_time": "2023-07-13T00:20:56.180Z"
   },
   {
    "duration": 1594,
    "start_time": "2023-07-13T00:56:26.451Z"
   },
   {
    "duration": 78,
    "start_time": "2023-07-13T00:56:28.047Z"
   },
   {
    "duration": 12,
    "start_time": "2023-07-13T00:56:28.127Z"
   },
   {
    "duration": 13,
    "start_time": "2023-07-13T00:56:28.141Z"
   },
   {
    "duration": 9,
    "start_time": "2023-07-13T00:56:28.157Z"
   },
   {
    "duration": 30,
    "start_time": "2023-07-13T00:56:28.167Z"
   },
   {
    "duration": 13,
    "start_time": "2023-07-13T00:56:28.199Z"
   },
   {
    "duration": 298,
    "start_time": "2023-07-13T00:56:28.214Z"
   },
   {
    "duration": 9,
    "start_time": "2023-07-13T00:56:28.514Z"
   },
   {
    "duration": 1026,
    "start_time": "2023-07-13T00:56:28.524Z"
   },
   {
    "duration": 5,
    "start_time": "2023-07-13T00:56:29.552Z"
   },
   {
    "duration": 230,
    "start_time": "2023-07-13T00:56:29.559Z"
   },
   {
    "duration": 15,
    "start_time": "2023-07-13T00:56:29.791Z"
   },
   {
    "duration": 6957,
    "start_time": "2023-07-13T00:56:29.809Z"
   },
   {
    "duration": 1522,
    "start_time": "2023-07-13T00:57:16.116Z"
   },
   {
    "duration": 80,
    "start_time": "2023-07-13T00:57:17.640Z"
   },
   {
    "duration": 12,
    "start_time": "2023-07-13T00:57:17.722Z"
   },
   {
    "duration": 13,
    "start_time": "2023-07-13T00:57:17.736Z"
   },
   {
    "duration": 10,
    "start_time": "2023-07-13T00:57:17.752Z"
   },
   {
    "duration": 6,
    "start_time": "2023-07-13T00:57:17.764Z"
   },
   {
    "duration": 36,
    "start_time": "2023-07-13T00:57:17.772Z"
   },
   {
    "duration": 275,
    "start_time": "2023-07-13T00:57:17.810Z"
   },
   {
    "duration": 8,
    "start_time": "2023-07-13T00:57:18.087Z"
   },
   {
    "duration": 973,
    "start_time": "2023-07-13T00:57:18.097Z"
   },
   {
    "duration": 5,
    "start_time": "2023-07-13T00:57:19.072Z"
   },
   {
    "duration": 240,
    "start_time": "2023-07-13T00:57:19.079Z"
   },
   {
    "duration": 16,
    "start_time": "2023-07-13T00:57:19.321Z"
   },
   {
    "duration": 6823,
    "start_time": "2023-07-13T00:57:19.340Z"
   },
   {
    "duration": 1552,
    "start_time": "2023-07-13T00:57:43.441Z"
   },
   {
    "duration": 93,
    "start_time": "2023-07-13T00:57:44.995Z"
   },
   {
    "duration": 12,
    "start_time": "2023-07-13T00:57:45.090Z"
   },
   {
    "duration": 35,
    "start_time": "2023-07-13T00:57:45.104Z"
   },
   {
    "duration": 15,
    "start_time": "2023-07-13T00:57:45.140Z"
   },
   {
    "duration": 19,
    "start_time": "2023-07-13T00:57:45.157Z"
   },
   {
    "duration": 15,
    "start_time": "2023-07-13T00:57:45.178Z"
   },
   {
    "duration": 284,
    "start_time": "2023-07-13T00:57:45.195Z"
   },
   {
    "duration": 9,
    "start_time": "2023-07-13T00:57:45.481Z"
   },
   {
    "duration": 1032,
    "start_time": "2023-07-13T00:57:45.492Z"
   },
   {
    "duration": 4,
    "start_time": "2023-07-13T00:57:46.526Z"
   },
   {
    "duration": 10542,
    "start_time": "2023-07-13T00:57:46.532Z"
   },
   {
    "duration": 31,
    "start_time": "2023-07-13T00:57:57.077Z"
   },
   {
    "duration": 31182,
    "start_time": "2023-07-13T00:57:57.111Z"
   },
   {
    "duration": 169696,
    "start_time": "2023-07-13T00:58:28.295Z"
   },
   {
    "duration": 1741,
    "start_time": "2023-07-13T02:30:01.519Z"
   },
   {
    "duration": 238,
    "start_time": "2023-07-13T02:30:03.262Z"
   },
   {
    "duration": 13,
    "start_time": "2023-07-13T02:30:03.502Z"
   },
   {
    "duration": 36,
    "start_time": "2023-07-13T02:30:03.517Z"
   },
   {
    "duration": 21,
    "start_time": "2023-07-13T02:30:03.557Z"
   },
   {
    "duration": 28,
    "start_time": "2023-07-13T02:30:03.580Z"
   },
   {
    "duration": 44,
    "start_time": "2023-07-13T02:30:03.610Z"
   },
   {
    "duration": 294,
    "start_time": "2023-07-13T02:30:03.657Z"
   },
   {
    "duration": 10,
    "start_time": "2023-07-13T02:30:03.953Z"
   },
   {
    "duration": 984,
    "start_time": "2023-07-13T02:30:03.966Z"
   },
   {
    "duration": 4,
    "start_time": "2023-07-13T02:30:04.952Z"
   },
   {
    "duration": 89,
    "start_time": "2023-07-13T02:30:04.958Z"
   },
   {
    "duration": 0,
    "start_time": "2023-07-13T02:30:05.049Z"
   },
   {
    "duration": 0,
    "start_time": "2023-07-13T02:30:05.051Z"
   },
   {
    "duration": 0,
    "start_time": "2023-07-13T02:30:05.052Z"
   },
   {
    "duration": 0,
    "start_time": "2023-07-13T02:30:05.053Z"
   },
   {
    "duration": 0,
    "start_time": "2023-07-13T02:30:05.054Z"
   },
   {
    "duration": 0,
    "start_time": "2023-07-13T02:30:05.055Z"
   },
   {
    "duration": 0,
    "start_time": "2023-07-13T02:30:05.056Z"
   },
   {
    "duration": 0,
    "start_time": "2023-07-13T02:30:05.057Z"
   },
   {
    "duration": 0,
    "start_time": "2023-07-13T02:30:05.058Z"
   },
   {
    "duration": 0,
    "start_time": "2023-07-13T02:30:05.059Z"
   },
   {
    "duration": 0,
    "start_time": "2023-07-13T02:30:05.060Z"
   },
   {
    "duration": 4,
    "start_time": "2023-07-13T02:31:00.971Z"
   },
   {
    "duration": 160,
    "start_time": "2023-07-13T02:31:00.977Z"
   },
   {
    "duration": 7,
    "start_time": "2023-07-13T02:31:01.140Z"
   },
   {
    "duration": 45,
    "start_time": "2023-07-13T02:31:01.148Z"
   },
   {
    "duration": 66,
    "start_time": "2023-07-13T02:31:01.195Z"
   },
   {
    "duration": 42,
    "start_time": "2023-07-13T02:31:01.263Z"
   },
   {
    "duration": 41,
    "start_time": "2023-07-13T02:31:01.307Z"
   },
   {
    "duration": 285,
    "start_time": "2023-07-13T02:31:01.352Z"
   },
   {
    "duration": 8,
    "start_time": "2023-07-13T02:31:01.640Z"
   },
   {
    "duration": 990,
    "start_time": "2023-07-13T02:31:01.650Z"
   },
   {
    "duration": 5,
    "start_time": "2023-07-13T02:31:02.642Z"
   },
   {
    "duration": 10455,
    "start_time": "2023-07-13T02:31:02.649Z"
   },
   {
    "duration": 8,
    "start_time": "2023-07-13T02:31:13.109Z"
   },
   {
    "duration": 52,
    "start_time": "2023-07-13T02:31:13.119Z"
   },
   {
    "duration": 22,
    "start_time": "2023-07-13T02:31:13.173Z"
   },
   {
    "duration": 30350,
    "start_time": "2023-07-13T02:31:13.197Z"
   },
   {
    "duration": 162311,
    "start_time": "2023-07-13T02:31:43.549Z"
   },
   {
    "duration": 26748,
    "start_time": "2023-07-13T02:34:25.861Z"
   },
   {
    "duration": 508,
    "start_time": "2023-07-13T02:34:52.611Z"
   },
   {
    "duration": 1137,
    "start_time": "2023-07-13T02:34:53.122Z"
   },
   {
    "duration": 8413,
    "start_time": "2023-07-13T02:34:54.260Z"
   },
   {
    "duration": 1396,
    "start_time": "2023-07-13T02:35:02.676Z"
   },
   {
    "duration": 254,
    "start_time": "2023-07-13T02:35:04.074Z"
   },
   {
    "duration": 69,
    "start_time": "2023-07-13T02:48:09.709Z"
   },
   {
    "duration": 46,
    "start_time": "2023-07-13T02:48:25.113Z"
   },
   {
    "duration": 296108,
    "start_time": "2023-07-13T02:48:57.118Z"
   },
   {
    "duration": 1573,
    "start_time": "2023-07-13T03:09:53.196Z"
   },
   {
    "duration": 129,
    "start_time": "2023-07-13T03:09:54.771Z"
   },
   {
    "duration": 12,
    "start_time": "2023-07-13T03:09:54.902Z"
   },
   {
    "duration": 22,
    "start_time": "2023-07-13T03:09:54.915Z"
   },
   {
    "duration": 9,
    "start_time": "2023-07-13T03:09:54.940Z"
   },
   {
    "duration": 29,
    "start_time": "2023-07-13T03:09:54.950Z"
   },
   {
    "duration": 16,
    "start_time": "2023-07-13T03:09:54.981Z"
   },
   {
    "duration": 282,
    "start_time": "2023-07-13T03:09:54.998Z"
   },
   {
    "duration": 8,
    "start_time": "2023-07-13T03:09:55.282Z"
   },
   {
    "duration": 995,
    "start_time": "2023-07-13T03:09:55.292Z"
   },
   {
    "duration": 4,
    "start_time": "2023-07-13T03:09:56.290Z"
   },
   {
    "duration": 10372,
    "start_time": "2023-07-13T03:09:56.309Z"
   },
   {
    "duration": 8,
    "start_time": "2023-07-13T03:10:06.683Z"
   },
   {
    "duration": 24,
    "start_time": "2023-07-13T03:10:06.694Z"
   },
   {
    "duration": 10,
    "start_time": "2023-07-13T03:10:06.720Z"
   },
   {
    "duration": 30442,
    "start_time": "2023-07-13T03:10:06.731Z"
   },
   {
    "duration": 181397,
    "start_time": "2023-07-13T03:10:37.175Z"
   },
   {
    "duration": 26342,
    "start_time": "2023-07-13T03:13:38.573Z"
   },
   {
    "duration": 514,
    "start_time": "2023-07-13T03:14:04.917Z"
   },
   {
    "duration": 1217,
    "start_time": "2023-07-13T03:14:05.433Z"
   },
   {
    "duration": 9447,
    "start_time": "2023-07-13T03:14:06.652Z"
   },
   {
    "duration": 1414,
    "start_time": "2023-07-13T03:14:16.101Z"
   },
   {
    "duration": 118,
    "start_time": "2023-07-13T03:14:17.517Z"
   },
   {
    "duration": 1682,
    "start_time": "2023-07-13T03:26:09.953Z"
   },
   {
    "duration": 224,
    "start_time": "2023-07-13T03:26:11.637Z"
   },
   {
    "duration": 12,
    "start_time": "2023-07-13T03:26:11.863Z"
   },
   {
    "duration": 51,
    "start_time": "2023-07-13T03:26:11.877Z"
   },
   {
    "duration": 19,
    "start_time": "2023-07-13T03:26:11.932Z"
   },
   {
    "duration": 16,
    "start_time": "2023-07-13T03:26:11.953Z"
   },
   {
    "duration": 13,
    "start_time": "2023-07-13T03:26:11.971Z"
   },
   {
    "duration": 277,
    "start_time": "2023-07-13T03:26:11.987Z"
   },
   {
    "duration": 10,
    "start_time": "2023-07-13T03:26:12.266Z"
   },
   {
    "duration": 979,
    "start_time": "2023-07-13T03:26:12.278Z"
   },
   {
    "duration": 6,
    "start_time": "2023-07-13T03:26:13.259Z"
   },
   {
    "duration": 10110,
    "start_time": "2023-07-13T03:26:13.267Z"
   },
   {
    "duration": 9,
    "start_time": "2023-07-13T03:26:23.379Z"
   },
   {
    "duration": 25,
    "start_time": "2023-07-13T03:26:23.391Z"
   },
   {
    "duration": 8,
    "start_time": "2023-07-13T03:26:23.418Z"
   },
   {
    "duration": 30306,
    "start_time": "2023-07-13T03:26:23.428Z"
   },
   {
    "duration": 180373,
    "start_time": "2023-07-13T03:26:53.736Z"
   },
   {
    "duration": 25903,
    "start_time": "2023-07-13T03:29:54.111Z"
   },
   {
    "duration": 564,
    "start_time": "2023-07-13T03:30:20.016Z"
   },
   {
    "duration": 1164,
    "start_time": "2023-07-13T03:30:20.582Z"
   },
   {
    "duration": 8264,
    "start_time": "2023-07-13T03:30:21.748Z"
   },
   {
    "duration": 1441,
    "start_time": "2023-07-13T03:30:30.014Z"
   },
   {
    "duration": 190,
    "start_time": "2023-07-13T03:30:31.457Z"
   },
   {
    "duration": 143,
    "start_time": "2023-07-13T03:34:08.086Z"
   },
   {
    "duration": 11,
    "start_time": "2023-07-13T03:34:21.402Z"
   },
   {
    "duration": 197668,
    "start_time": "2023-07-13T03:41:28.478Z"
   },
   {
    "duration": 1638,
    "start_time": "2023-07-13T03:44:52.111Z"
   },
   {
    "duration": 107,
    "start_time": "2023-07-13T03:44:53.751Z"
   },
   {
    "duration": 11,
    "start_time": "2023-07-13T03:44:53.860Z"
   },
   {
    "duration": 15,
    "start_time": "2023-07-13T03:44:53.874Z"
   },
   {
    "duration": 10,
    "start_time": "2023-07-13T03:44:53.892Z"
   },
   {
    "duration": 9,
    "start_time": "2023-07-13T03:44:53.904Z"
   },
   {
    "duration": 17,
    "start_time": "2023-07-13T03:44:53.915Z"
   },
   {
    "duration": 300,
    "start_time": "2023-07-13T03:44:53.934Z"
   },
   {
    "duration": 10,
    "start_time": "2023-07-13T03:44:54.236Z"
   },
   {
    "duration": 1094,
    "start_time": "2023-07-13T03:44:54.248Z"
   },
   {
    "duration": 4,
    "start_time": "2023-07-13T03:44:55.344Z"
   },
   {
    "duration": 311259,
    "start_time": "2023-07-13T03:44:55.350Z"
   },
   {
    "duration": 98,
    "start_time": "2023-07-13T03:50:06.611Z"
   },
   {
    "duration": 10,
    "start_time": "2023-07-13T03:50:06.713Z"
   },
   {
    "duration": 14,
    "start_time": "2023-07-13T03:50:06.724Z"
   },
   {
    "duration": 31292,
    "start_time": "2023-07-13T03:50:06.740Z"
   },
   {
    "duration": 167481,
    "start_time": "2023-07-13T03:50:38.034Z"
   },
   {
    "duration": 27498,
    "start_time": "2023-07-13T03:53:25.516Z"
   },
   {
    "duration": 509,
    "start_time": "2023-07-13T03:53:53.016Z"
   },
   {
    "duration": 1363,
    "start_time": "2023-07-13T03:53:53.527Z"
   },
   {
    "duration": 8647,
    "start_time": "2023-07-13T03:53:54.892Z"
   },
   {
    "duration": 1613,
    "start_time": "2023-07-13T03:54:03.541Z"
   },
   {
    "duration": 11,
    "start_time": "2023-07-13T03:54:05.156Z"
   },
   {
    "duration": 11,
    "start_time": "2023-07-13T03:59:30.413Z"
   },
   {
    "duration": 2354,
    "start_time": "2023-07-13T10:06:42.737Z"
   },
   {
    "duration": 443,
    "start_time": "2023-07-13T10:06:46.346Z"
   },
   {
    "duration": 17,
    "start_time": "2023-07-13T10:06:56.122Z"
   },
   {
    "duration": 15,
    "start_time": "2023-07-13T10:06:56.936Z"
   },
   {
    "duration": 12,
    "start_time": "2023-07-13T10:07:01.019Z"
   },
   {
    "duration": 9,
    "start_time": "2023-07-13T10:07:02.572Z"
   },
   {
    "duration": 5,
    "start_time": "2023-07-13T10:07:03.748Z"
   },
   {
    "duration": 327,
    "start_time": "2023-07-13T10:07:07.592Z"
   },
   {
    "duration": 28,
    "start_time": "2023-07-13T10:07:10.085Z"
   },
   {
    "duration": 1239,
    "start_time": "2023-07-13T10:07:10.833Z"
   },
   {
    "duration": 6,
    "start_time": "2023-07-13T10:07:19.117Z"
   },
   {
    "duration": 428679,
    "start_time": "2023-07-13T10:07:25.418Z"
   },
   {
    "duration": 23,
    "start_time": "2023-07-13T10:15:26.738Z"
   },
   {
    "duration": 13,
    "start_time": "2023-07-13T10:15:32.120Z"
   },
   {
    "duration": 7,
    "start_time": "2023-07-13T10:15:34.654Z"
   },
   {
    "duration": 38224,
    "start_time": "2023-07-13T10:15:38.338Z"
   },
   {
    "duration": 245961,
    "start_time": "2023-07-13T10:16:26.144Z"
   },
   {
    "duration": 1916,
    "start_time": "2023-07-13T10:43:38.625Z"
   },
   {
    "duration": 90,
    "start_time": "2023-07-13T10:43:41.338Z"
   },
   {
    "duration": 18,
    "start_time": "2023-07-13T10:43:45.515Z"
   },
   {
    "duration": 15,
    "start_time": "2023-07-13T10:43:46.435Z"
   },
   {
    "duration": 16,
    "start_time": "2023-07-13T10:43:49.033Z"
   },
   {
    "duration": 5,
    "start_time": "2023-07-13T10:43:50.445Z"
   },
   {
    "duration": 6,
    "start_time": "2023-07-13T10:43:51.568Z"
   },
   {
    "duration": 323,
    "start_time": "2023-07-13T10:43:55.650Z"
   },
   {
    "duration": 11,
    "start_time": "2023-07-13T10:44:01.699Z"
   },
   {
    "duration": 1163,
    "start_time": "2023-07-13T10:44:04.520Z"
   },
   {
    "duration": 7,
    "start_time": "2023-07-13T10:44:13.123Z"
   },
   {
    "duration": 5,
    "start_time": "2023-07-13T10:50:36.735Z"
   },
   {
    "duration": 1798,
    "start_time": "2023-07-13T10:50:43.641Z"
   },
   {
    "duration": 80,
    "start_time": "2023-07-13T10:50:46.725Z"
   },
   {
    "duration": 17,
    "start_time": "2023-07-13T10:50:50.043Z"
   },
   {
    "duration": 19,
    "start_time": "2023-07-13T10:50:51.301Z"
   },
   {
    "duration": 10,
    "start_time": "2023-07-13T10:50:52.622Z"
   },
   {
    "duration": 5,
    "start_time": "2023-07-13T10:50:53.713Z"
   },
   {
    "duration": 6,
    "start_time": "2023-07-13T10:50:55.954Z"
   },
   {
    "duration": 310,
    "start_time": "2023-07-13T10:50:58.854Z"
   },
   {
    "duration": 11,
    "start_time": "2023-07-13T10:51:01.926Z"
   },
   {
    "duration": 1050,
    "start_time": "2023-07-13T10:51:06.837Z"
   },
   {
    "duration": 5,
    "start_time": "2023-07-13T10:51:11.160Z"
   },
   {
    "duration": 353362,
    "start_time": "2023-07-13T10:51:14.411Z"
   },
   {
    "duration": 24,
    "start_time": "2023-07-13T10:57:22.101Z"
   },
   {
    "duration": 12,
    "start_time": "2023-07-13T10:57:23.546Z"
   },
   {
    "duration": 8,
    "start_time": "2023-07-13T10:57:25.525Z"
   },
   {
    "duration": 33446,
    "start_time": "2023-07-13T10:57:28.365Z"
   },
   {
    "duration": 195149,
    "start_time": "2023-07-13T10:58:23.869Z"
   },
   {
    "duration": 2467,
    "start_time": "2023-07-13T12:30:06.156Z"
   },
   {
    "duration": 106,
    "start_time": "2023-07-13T12:30:08.625Z"
   },
   {
    "duration": 12,
    "start_time": "2023-07-13T12:30:08.733Z"
   },
   {
    "duration": 44,
    "start_time": "2023-07-13T12:30:08.747Z"
   },
   {
    "duration": 15,
    "start_time": "2023-07-13T12:30:08.798Z"
   },
   {
    "duration": 15,
    "start_time": "2023-07-13T12:30:08.815Z"
   },
   {
    "duration": 21,
    "start_time": "2023-07-13T12:30:08.832Z"
   },
   {
    "duration": 362,
    "start_time": "2023-07-13T12:30:08.855Z"
   },
   {
    "duration": 9,
    "start_time": "2023-07-13T12:30:09.219Z"
   },
   {
    "duration": 1067,
    "start_time": "2023-07-13T12:30:09.230Z"
   },
   {
    "duration": 6,
    "start_time": "2023-07-13T12:30:10.299Z"
   },
   {
    "duration": 326398,
    "start_time": "2023-07-13T12:30:10.307Z"
   },
   {
    "duration": 36,
    "start_time": "2023-07-13T12:35:36.796Z"
   },
   {
    "duration": 591,
    "start_time": "2023-07-13T12:35:36.834Z"
   },
   {
    "duration": 15,
    "start_time": "2023-07-13T12:35:37.427Z"
   },
   {
    "duration": 34888,
    "start_time": "2023-07-13T12:35:37.444Z"
   },
   {
    "duration": 184142,
    "start_time": "2023-07-13T12:36:12.335Z"
   },
   {
    "duration": 2705414,
    "start_time": "2023-07-13T12:39:16.479Z"
   },
   {
    "duration": 12,
    "start_time": "2023-07-13T13:24:21.971Z"
   },
   {
    "duration": 550,
    "start_time": "2023-07-13T13:24:21.985Z"
   },
   {
    "duration": 1335,
    "start_time": "2023-07-13T13:24:22.537Z"
   },
   {
    "duration": 9569,
    "start_time": "2023-07-13T13:24:23.874Z"
   },
   {
    "duration": 67253,
    "start_time": "2023-07-13T13:24:33.444Z"
   },
   {
    "duration": 10,
    "start_time": "2023-07-13T13:25:40.699Z"
   },
   {
    "duration": 9,
    "start_time": "2023-07-13T13:49:41.018Z"
   }
  ],
  "kernelspec": {
   "display_name": "Python 3 (ipykernel)",
   "language": "python",
   "name": "python3"
  },
  "language_info": {
   "codemirror_mode": {
    "name": "ipython",
    "version": 3
   },
   "file_extension": ".py",
   "mimetype": "text/x-python",
   "name": "python",
   "nbconvert_exporter": "python",
   "pygments_lexer": "ipython3",
   "version": "3.9.5"
  },
  "toc": {
   "base_numbering": 1,
   "nav_menu": {},
   "number_sections": false,
   "sideBar": true,
   "skip_h1_title": false,
   "title_cell": "Содержание",
   "title_sidebar": "Contents",
   "toc_cell": true,
   "toc_position": {
    "height": "calc(100% - 180px)",
    "left": "10px",
    "top": "150px",
    "width": "165px"
   },
   "toc_section_display": true,
   "toc_window_display": true
  }
 },
 "nbformat": 4,
 "nbformat_minor": 2
}
