{
 "cells": [
  {
   "cell_type": "markdown",
   "metadata": {
    "toc": true
   },
   "source": [
    "<h1>Содержание<span class=\"tocSkip\"></span></h1>\n",
    "<div class=\"toc\"><ul class=\"toc-item\"><li><span><a href=\"#Отток-клиентов-банка\" data-toc-modified-id=\"Отток-клиентов-банка-1\">Отток клиентов банка</a></span></li><li><span><a href=\"#Подготовка-данных\" data-toc-modified-id=\"Подготовка-данных-2\">Подготовка данных</a></span></li><li><span><a href=\"#Исследование-задачи\" data-toc-modified-id=\"Исследование-задачи-3\">Исследование задачи</a></span></li><li><span><a href=\"#Борьба-с-дисбалансом\" data-toc-modified-id=\"Борьба-с-дисбалансом-4\">Борьба с дисбалансом</a></span></li><li><span><a href=\"#Тестирование-модели\" data-toc-modified-id=\"Тестирование-модели-5\">Тестирование модели</a></span></li><li><span><a href=\"#Общий-вывод\" data-toc-modified-id=\"Общий-вывод-6\">Общий вывод</a></span></li></ul></div>"
   ]
  },
  {
   "cell_type": "markdown",
   "metadata": {},
   "source": [
    "# Отток клиентов банка"
   ]
  },
  {
   "cell_type": "markdown",
   "metadata": {},
   "source": [
    "Из «Бета-Банка» стали уходить клиенты. Каждый месяц. Немного, но заметно. Банковские маркетологи посчитали: сохранять текущих клиентов дешевле, чем привлекать новых.\n",
    "\n",
    "Нужно спрогнозировать, уйдёт клиент из банка в ближайшее время или нет. Нам предоставлены исторические данные о поведении клиентов и расторжении договоров с банком. \n",
    "\n",
    "Необходимо построить модель с предельно большим значением *F1*-меры, нужно довести метрику до 0.59.\n",
    "\n",
    "Источник данных: [https://www.kaggle.com/barelydedicated/bank-customer-churn-modeling](https://www.kaggle.com/barelydedicated/bank-customer-churn-modeling)"
   ]
  },
  {
   "cell_type": "markdown",
   "metadata": {},
   "source": [
    "# Подготовка данных"
   ]
  },
  {
   "cell_type": "code",
   "execution_count": 1,
   "metadata": {},
   "outputs": [],
   "source": [
    "import numpy as np\n",
    "import pandas as pd\n",
    "from sklearn.model_selection import train_test_split\n",
    "from sklearn.linear_model import LogisticRegression\n",
    "from sklearn.tree import DecisionTreeClassifier\n",
    "from sklearn.ensemble import RandomForestClassifier\n",
    "from sklearn.metrics import f1_score\n",
    "from sklearn.metrics import roc_auc_score\n",
    "from sklearn.metrics import roc_curve\n",
    "from sklearn.utils import shuffle\n",
    "import matplotlib.pyplot as plt\n",
    "from sklearn.preprocessing import StandardScaler\n",
    "pd.options.mode.chained_assignment = None"
   ]
  },
  {
   "cell_type": "code",
   "execution_count": 2,
   "metadata": {},
   "outputs": [],
   "source": [
    "try:\n",
    "    data = pd.read_csv('/datasets/Churn.csv')\n",
    "except:\n",
    "    data = pd.read_csv('https://code.s3.yandex.net/datasets/Churn.csv')"
   ]
  },
  {
   "cell_type": "code",
   "execution_count": 3,
   "metadata": {},
   "outputs": [
    {
     "name": "stdout",
     "output_type": "stream",
     "text": [
      "Ознакомимся с таблицей, для этого выведем первые 20 строк датафрейма data на экран.\n"
     ]
    },
    {
     "data": {
      "text/html": [
       "<div>\n",
       "<style scoped>\n",
       "    .dataframe tbody tr th:only-of-type {\n",
       "        vertical-align: middle;\n",
       "    }\n",
       "\n",
       "    .dataframe tbody tr th {\n",
       "        vertical-align: top;\n",
       "    }\n",
       "\n",
       "    .dataframe thead th {\n",
       "        text-align: right;\n",
       "    }\n",
       "</style>\n",
       "<table border=\"1\" class=\"dataframe\">\n",
       "  <thead>\n",
       "    <tr style=\"text-align: right;\">\n",
       "      <th></th>\n",
       "      <th>RowNumber</th>\n",
       "      <th>CustomerId</th>\n",
       "      <th>Surname</th>\n",
       "      <th>CreditScore</th>\n",
       "      <th>Geography</th>\n",
       "      <th>Gender</th>\n",
       "      <th>Age</th>\n",
       "      <th>Tenure</th>\n",
       "      <th>Balance</th>\n",
       "      <th>NumOfProducts</th>\n",
       "      <th>HasCrCard</th>\n",
       "      <th>IsActiveMember</th>\n",
       "      <th>EstimatedSalary</th>\n",
       "      <th>Exited</th>\n",
       "    </tr>\n",
       "  </thead>\n",
       "  <tbody>\n",
       "    <tr>\n",
       "      <th>0</th>\n",
       "      <td>1</td>\n",
       "      <td>15634602</td>\n",
       "      <td>Hargrave</td>\n",
       "      <td>619</td>\n",
       "      <td>France</td>\n",
       "      <td>Female</td>\n",
       "      <td>42</td>\n",
       "      <td>2.0</td>\n",
       "      <td>0.00</td>\n",
       "      <td>1</td>\n",
       "      <td>1</td>\n",
       "      <td>1</td>\n",
       "      <td>101348.88</td>\n",
       "      <td>1</td>\n",
       "    </tr>\n",
       "    <tr>\n",
       "      <th>1</th>\n",
       "      <td>2</td>\n",
       "      <td>15647311</td>\n",
       "      <td>Hill</td>\n",
       "      <td>608</td>\n",
       "      <td>Spain</td>\n",
       "      <td>Female</td>\n",
       "      <td>41</td>\n",
       "      <td>1.0</td>\n",
       "      <td>83807.86</td>\n",
       "      <td>1</td>\n",
       "      <td>0</td>\n",
       "      <td>1</td>\n",
       "      <td>112542.58</td>\n",
       "      <td>0</td>\n",
       "    </tr>\n",
       "    <tr>\n",
       "      <th>2</th>\n",
       "      <td>3</td>\n",
       "      <td>15619304</td>\n",
       "      <td>Onio</td>\n",
       "      <td>502</td>\n",
       "      <td>France</td>\n",
       "      <td>Female</td>\n",
       "      <td>42</td>\n",
       "      <td>8.0</td>\n",
       "      <td>159660.80</td>\n",
       "      <td>3</td>\n",
       "      <td>1</td>\n",
       "      <td>0</td>\n",
       "      <td>113931.57</td>\n",
       "      <td>1</td>\n",
       "    </tr>\n",
       "    <tr>\n",
       "      <th>3</th>\n",
       "      <td>4</td>\n",
       "      <td>15701354</td>\n",
       "      <td>Boni</td>\n",
       "      <td>699</td>\n",
       "      <td>France</td>\n",
       "      <td>Female</td>\n",
       "      <td>39</td>\n",
       "      <td>1.0</td>\n",
       "      <td>0.00</td>\n",
       "      <td>2</td>\n",
       "      <td>0</td>\n",
       "      <td>0</td>\n",
       "      <td>93826.63</td>\n",
       "      <td>0</td>\n",
       "    </tr>\n",
       "    <tr>\n",
       "      <th>4</th>\n",
       "      <td>5</td>\n",
       "      <td>15737888</td>\n",
       "      <td>Mitchell</td>\n",
       "      <td>850</td>\n",
       "      <td>Spain</td>\n",
       "      <td>Female</td>\n",
       "      <td>43</td>\n",
       "      <td>2.0</td>\n",
       "      <td>125510.82</td>\n",
       "      <td>1</td>\n",
       "      <td>1</td>\n",
       "      <td>1</td>\n",
       "      <td>79084.10</td>\n",
       "      <td>0</td>\n",
       "    </tr>\n",
       "    <tr>\n",
       "      <th>5</th>\n",
       "      <td>6</td>\n",
       "      <td>15574012</td>\n",
       "      <td>Chu</td>\n",
       "      <td>645</td>\n",
       "      <td>Spain</td>\n",
       "      <td>Male</td>\n",
       "      <td>44</td>\n",
       "      <td>8.0</td>\n",
       "      <td>113755.78</td>\n",
       "      <td>2</td>\n",
       "      <td>1</td>\n",
       "      <td>0</td>\n",
       "      <td>149756.71</td>\n",
       "      <td>1</td>\n",
       "    </tr>\n",
       "    <tr>\n",
       "      <th>6</th>\n",
       "      <td>7</td>\n",
       "      <td>15592531</td>\n",
       "      <td>Bartlett</td>\n",
       "      <td>822</td>\n",
       "      <td>France</td>\n",
       "      <td>Male</td>\n",
       "      <td>50</td>\n",
       "      <td>7.0</td>\n",
       "      <td>0.00</td>\n",
       "      <td>2</td>\n",
       "      <td>1</td>\n",
       "      <td>1</td>\n",
       "      <td>10062.80</td>\n",
       "      <td>0</td>\n",
       "    </tr>\n",
       "    <tr>\n",
       "      <th>7</th>\n",
       "      <td>8</td>\n",
       "      <td>15656148</td>\n",
       "      <td>Obinna</td>\n",
       "      <td>376</td>\n",
       "      <td>Germany</td>\n",
       "      <td>Female</td>\n",
       "      <td>29</td>\n",
       "      <td>4.0</td>\n",
       "      <td>115046.74</td>\n",
       "      <td>4</td>\n",
       "      <td>1</td>\n",
       "      <td>0</td>\n",
       "      <td>119346.88</td>\n",
       "      <td>1</td>\n",
       "    </tr>\n",
       "    <tr>\n",
       "      <th>8</th>\n",
       "      <td>9</td>\n",
       "      <td>15792365</td>\n",
       "      <td>He</td>\n",
       "      <td>501</td>\n",
       "      <td>France</td>\n",
       "      <td>Male</td>\n",
       "      <td>44</td>\n",
       "      <td>4.0</td>\n",
       "      <td>142051.07</td>\n",
       "      <td>2</td>\n",
       "      <td>0</td>\n",
       "      <td>1</td>\n",
       "      <td>74940.50</td>\n",
       "      <td>0</td>\n",
       "    </tr>\n",
       "    <tr>\n",
       "      <th>9</th>\n",
       "      <td>10</td>\n",
       "      <td>15592389</td>\n",
       "      <td>H?</td>\n",
       "      <td>684</td>\n",
       "      <td>France</td>\n",
       "      <td>Male</td>\n",
       "      <td>27</td>\n",
       "      <td>2.0</td>\n",
       "      <td>134603.88</td>\n",
       "      <td>1</td>\n",
       "      <td>1</td>\n",
       "      <td>1</td>\n",
       "      <td>71725.73</td>\n",
       "      <td>0</td>\n",
       "    </tr>\n",
       "    <tr>\n",
       "      <th>10</th>\n",
       "      <td>11</td>\n",
       "      <td>15767821</td>\n",
       "      <td>Bearce</td>\n",
       "      <td>528</td>\n",
       "      <td>France</td>\n",
       "      <td>Male</td>\n",
       "      <td>31</td>\n",
       "      <td>6.0</td>\n",
       "      <td>102016.72</td>\n",
       "      <td>2</td>\n",
       "      <td>0</td>\n",
       "      <td>0</td>\n",
       "      <td>80181.12</td>\n",
       "      <td>0</td>\n",
       "    </tr>\n",
       "    <tr>\n",
       "      <th>11</th>\n",
       "      <td>12</td>\n",
       "      <td>15737173</td>\n",
       "      <td>Andrews</td>\n",
       "      <td>497</td>\n",
       "      <td>Spain</td>\n",
       "      <td>Male</td>\n",
       "      <td>24</td>\n",
       "      <td>3.0</td>\n",
       "      <td>0.00</td>\n",
       "      <td>2</td>\n",
       "      <td>1</td>\n",
       "      <td>0</td>\n",
       "      <td>76390.01</td>\n",
       "      <td>0</td>\n",
       "    </tr>\n",
       "    <tr>\n",
       "      <th>12</th>\n",
       "      <td>13</td>\n",
       "      <td>15632264</td>\n",
       "      <td>Kay</td>\n",
       "      <td>476</td>\n",
       "      <td>France</td>\n",
       "      <td>Female</td>\n",
       "      <td>34</td>\n",
       "      <td>10.0</td>\n",
       "      <td>0.00</td>\n",
       "      <td>2</td>\n",
       "      <td>1</td>\n",
       "      <td>0</td>\n",
       "      <td>26260.98</td>\n",
       "      <td>0</td>\n",
       "    </tr>\n",
       "    <tr>\n",
       "      <th>13</th>\n",
       "      <td>14</td>\n",
       "      <td>15691483</td>\n",
       "      <td>Chin</td>\n",
       "      <td>549</td>\n",
       "      <td>France</td>\n",
       "      <td>Female</td>\n",
       "      <td>25</td>\n",
       "      <td>5.0</td>\n",
       "      <td>0.00</td>\n",
       "      <td>2</td>\n",
       "      <td>0</td>\n",
       "      <td>0</td>\n",
       "      <td>190857.79</td>\n",
       "      <td>0</td>\n",
       "    </tr>\n",
       "    <tr>\n",
       "      <th>14</th>\n",
       "      <td>15</td>\n",
       "      <td>15600882</td>\n",
       "      <td>Scott</td>\n",
       "      <td>635</td>\n",
       "      <td>Spain</td>\n",
       "      <td>Female</td>\n",
       "      <td>35</td>\n",
       "      <td>7.0</td>\n",
       "      <td>0.00</td>\n",
       "      <td>2</td>\n",
       "      <td>1</td>\n",
       "      <td>1</td>\n",
       "      <td>65951.65</td>\n",
       "      <td>0</td>\n",
       "    </tr>\n",
       "    <tr>\n",
       "      <th>15</th>\n",
       "      <td>16</td>\n",
       "      <td>15643966</td>\n",
       "      <td>Goforth</td>\n",
       "      <td>616</td>\n",
       "      <td>Germany</td>\n",
       "      <td>Male</td>\n",
       "      <td>45</td>\n",
       "      <td>3.0</td>\n",
       "      <td>143129.41</td>\n",
       "      <td>2</td>\n",
       "      <td>0</td>\n",
       "      <td>1</td>\n",
       "      <td>64327.26</td>\n",
       "      <td>0</td>\n",
       "    </tr>\n",
       "    <tr>\n",
       "      <th>16</th>\n",
       "      <td>17</td>\n",
       "      <td>15737452</td>\n",
       "      <td>Romeo</td>\n",
       "      <td>653</td>\n",
       "      <td>Germany</td>\n",
       "      <td>Male</td>\n",
       "      <td>58</td>\n",
       "      <td>1.0</td>\n",
       "      <td>132602.88</td>\n",
       "      <td>1</td>\n",
       "      <td>1</td>\n",
       "      <td>0</td>\n",
       "      <td>5097.67</td>\n",
       "      <td>1</td>\n",
       "    </tr>\n",
       "    <tr>\n",
       "      <th>17</th>\n",
       "      <td>18</td>\n",
       "      <td>15788218</td>\n",
       "      <td>Henderson</td>\n",
       "      <td>549</td>\n",
       "      <td>Spain</td>\n",
       "      <td>Female</td>\n",
       "      <td>24</td>\n",
       "      <td>9.0</td>\n",
       "      <td>0.00</td>\n",
       "      <td>2</td>\n",
       "      <td>1</td>\n",
       "      <td>1</td>\n",
       "      <td>14406.41</td>\n",
       "      <td>0</td>\n",
       "    </tr>\n",
       "    <tr>\n",
       "      <th>18</th>\n",
       "      <td>19</td>\n",
       "      <td>15661507</td>\n",
       "      <td>Muldrow</td>\n",
       "      <td>587</td>\n",
       "      <td>Spain</td>\n",
       "      <td>Male</td>\n",
       "      <td>45</td>\n",
       "      <td>6.0</td>\n",
       "      <td>0.00</td>\n",
       "      <td>1</td>\n",
       "      <td>0</td>\n",
       "      <td>0</td>\n",
       "      <td>158684.81</td>\n",
       "      <td>0</td>\n",
       "    </tr>\n",
       "    <tr>\n",
       "      <th>19</th>\n",
       "      <td>20</td>\n",
       "      <td>15568982</td>\n",
       "      <td>Hao</td>\n",
       "      <td>726</td>\n",
       "      <td>France</td>\n",
       "      <td>Female</td>\n",
       "      <td>24</td>\n",
       "      <td>6.0</td>\n",
       "      <td>0.00</td>\n",
       "      <td>2</td>\n",
       "      <td>1</td>\n",
       "      <td>1</td>\n",
       "      <td>54724.03</td>\n",
       "      <td>0</td>\n",
       "    </tr>\n",
       "    <tr>\n",
       "      <th>20</th>\n",
       "      <td>21</td>\n",
       "      <td>15577657</td>\n",
       "      <td>McDonald</td>\n",
       "      <td>732</td>\n",
       "      <td>France</td>\n",
       "      <td>Male</td>\n",
       "      <td>41</td>\n",
       "      <td>8.0</td>\n",
       "      <td>0.00</td>\n",
       "      <td>2</td>\n",
       "      <td>1</td>\n",
       "      <td>1</td>\n",
       "      <td>170886.17</td>\n",
       "      <td>0</td>\n",
       "    </tr>\n",
       "  </tbody>\n",
       "</table>\n",
       "</div>"
      ],
      "text/plain": [
       "    RowNumber  CustomerId    Surname  CreditScore Geography  Gender  Age  \\\n",
       "0           1    15634602   Hargrave          619    France  Female   42   \n",
       "1           2    15647311       Hill          608     Spain  Female   41   \n",
       "2           3    15619304       Onio          502    France  Female   42   \n",
       "3           4    15701354       Boni          699    France  Female   39   \n",
       "4           5    15737888   Mitchell          850     Spain  Female   43   \n",
       "5           6    15574012        Chu          645     Spain    Male   44   \n",
       "6           7    15592531   Bartlett          822    France    Male   50   \n",
       "7           8    15656148     Obinna          376   Germany  Female   29   \n",
       "8           9    15792365         He          501    France    Male   44   \n",
       "9          10    15592389         H?          684    France    Male   27   \n",
       "10         11    15767821     Bearce          528    France    Male   31   \n",
       "11         12    15737173    Andrews          497     Spain    Male   24   \n",
       "12         13    15632264        Kay          476    France  Female   34   \n",
       "13         14    15691483       Chin          549    France  Female   25   \n",
       "14         15    15600882      Scott          635     Spain  Female   35   \n",
       "15         16    15643966    Goforth          616   Germany    Male   45   \n",
       "16         17    15737452      Romeo          653   Germany    Male   58   \n",
       "17         18    15788218  Henderson          549     Spain  Female   24   \n",
       "18         19    15661507    Muldrow          587     Spain    Male   45   \n",
       "19         20    15568982        Hao          726    France  Female   24   \n",
       "20         21    15577657   McDonald          732    France    Male   41   \n",
       "\n",
       "    Tenure    Balance  NumOfProducts  HasCrCard  IsActiveMember  \\\n",
       "0      2.0       0.00              1          1               1   \n",
       "1      1.0   83807.86              1          0               1   \n",
       "2      8.0  159660.80              3          1               0   \n",
       "3      1.0       0.00              2          0               0   \n",
       "4      2.0  125510.82              1          1               1   \n",
       "5      8.0  113755.78              2          1               0   \n",
       "6      7.0       0.00              2          1               1   \n",
       "7      4.0  115046.74              4          1               0   \n",
       "8      4.0  142051.07              2          0               1   \n",
       "9      2.0  134603.88              1          1               1   \n",
       "10     6.0  102016.72              2          0               0   \n",
       "11     3.0       0.00              2          1               0   \n",
       "12    10.0       0.00              2          1               0   \n",
       "13     5.0       0.00              2          0               0   \n",
       "14     7.0       0.00              2          1               1   \n",
       "15     3.0  143129.41              2          0               1   \n",
       "16     1.0  132602.88              1          1               0   \n",
       "17     9.0       0.00              2          1               1   \n",
       "18     6.0       0.00              1          0               0   \n",
       "19     6.0       0.00              2          1               1   \n",
       "20     8.0       0.00              2          1               1   \n",
       "\n",
       "    EstimatedSalary  Exited  \n",
       "0         101348.88       1  \n",
       "1         112542.58       0  \n",
       "2         113931.57       1  \n",
       "3          93826.63       0  \n",
       "4          79084.10       0  \n",
       "5         149756.71       1  \n",
       "6          10062.80       0  \n",
       "7         119346.88       1  \n",
       "8          74940.50       0  \n",
       "9          71725.73       0  \n",
       "10         80181.12       0  \n",
       "11         76390.01       0  \n",
       "12         26260.98       0  \n",
       "13        190857.79       0  \n",
       "14         65951.65       0  \n",
       "15         64327.26       0  \n",
       "16          5097.67       1  \n",
       "17         14406.41       0  \n",
       "18        158684.81       0  \n",
       "19         54724.03       0  \n",
       "20        170886.17       0  "
      ]
     },
     "metadata": {},
     "output_type": "display_data"
    },
    {
     "name": "stdout",
     "output_type": "stream",
     "text": [
      " \n",
      "Выведем основную информацию о датафрейме с помощью метода info().\n",
      "<class 'pandas.core.frame.DataFrame'>\n",
      "RangeIndex: 10000 entries, 0 to 9999\n",
      "Data columns (total 14 columns):\n",
      " #   Column           Non-Null Count  Dtype  \n",
      "---  ------           --------------  -----  \n",
      " 0   RowNumber        10000 non-null  int64  \n",
      " 1   CustomerId       10000 non-null  int64  \n",
      " 2   Surname          10000 non-null  object \n",
      " 3   CreditScore      10000 non-null  int64  \n",
      " 4   Geography        10000 non-null  object \n",
      " 5   Gender           10000 non-null  object \n",
      " 6   Age              10000 non-null  int64  \n",
      " 7   Tenure           9091 non-null   float64\n",
      " 8   Balance          10000 non-null  float64\n",
      " 9   NumOfProducts    10000 non-null  int64  \n",
      " 10  HasCrCard        10000 non-null  int64  \n",
      " 11  IsActiveMember   10000 non-null  int64  \n",
      " 12  EstimatedSalary  10000 non-null  float64\n",
      " 13  Exited           10000 non-null  int64  \n",
      "dtypes: float64(3), int64(8), object(3)\n",
      "memory usage: 1.1+ MB\n"
     ]
    },
    {
     "data": {
      "text/plain": [
       "None"
      ]
     },
     "metadata": {},
     "output_type": "display_data"
    },
    {
     "name": "stdout",
     "output_type": "stream",
     "text": [
      " \n",
      "Количество явных дубликатов: 0\n",
      " \n",
      "Ознакомимся с первоначальными данными методом describe().\n"
     ]
    },
    {
     "data": {
      "text/html": [
       "<div>\n",
       "<style scoped>\n",
       "    .dataframe tbody tr th:only-of-type {\n",
       "        vertical-align: middle;\n",
       "    }\n",
       "\n",
       "    .dataframe tbody tr th {\n",
       "        vertical-align: top;\n",
       "    }\n",
       "\n",
       "    .dataframe thead th {\n",
       "        text-align: right;\n",
       "    }\n",
       "</style>\n",
       "<table border=\"1\" class=\"dataframe\">\n",
       "  <thead>\n",
       "    <tr style=\"text-align: right;\">\n",
       "      <th></th>\n",
       "      <th>RowNumber</th>\n",
       "      <th>CustomerId</th>\n",
       "      <th>CreditScore</th>\n",
       "      <th>Age</th>\n",
       "      <th>Tenure</th>\n",
       "      <th>Balance</th>\n",
       "      <th>NumOfProducts</th>\n",
       "      <th>HasCrCard</th>\n",
       "      <th>IsActiveMember</th>\n",
       "      <th>EstimatedSalary</th>\n",
       "      <th>Exited</th>\n",
       "    </tr>\n",
       "  </thead>\n",
       "  <tbody>\n",
       "    <tr>\n",
       "      <th>count</th>\n",
       "      <td>10000.00000</td>\n",
       "      <td>1.000000e+04</td>\n",
       "      <td>10000.000000</td>\n",
       "      <td>10000.000000</td>\n",
       "      <td>9091.000000</td>\n",
       "      <td>10000.000000</td>\n",
       "      <td>10000.000000</td>\n",
       "      <td>10000.00000</td>\n",
       "      <td>10000.000000</td>\n",
       "      <td>10000.000000</td>\n",
       "      <td>10000.000000</td>\n",
       "    </tr>\n",
       "    <tr>\n",
       "      <th>mean</th>\n",
       "      <td>5000.50000</td>\n",
       "      <td>1.569094e+07</td>\n",
       "      <td>650.528800</td>\n",
       "      <td>38.921800</td>\n",
       "      <td>4.997690</td>\n",
       "      <td>76485.889288</td>\n",
       "      <td>1.530200</td>\n",
       "      <td>0.70550</td>\n",
       "      <td>0.515100</td>\n",
       "      <td>100090.239881</td>\n",
       "      <td>0.203700</td>\n",
       "    </tr>\n",
       "    <tr>\n",
       "      <th>std</th>\n",
       "      <td>2886.89568</td>\n",
       "      <td>7.193619e+04</td>\n",
       "      <td>96.653299</td>\n",
       "      <td>10.487806</td>\n",
       "      <td>2.894723</td>\n",
       "      <td>62397.405202</td>\n",
       "      <td>0.581654</td>\n",
       "      <td>0.45584</td>\n",
       "      <td>0.499797</td>\n",
       "      <td>57510.492818</td>\n",
       "      <td>0.402769</td>\n",
       "    </tr>\n",
       "    <tr>\n",
       "      <th>min</th>\n",
       "      <td>1.00000</td>\n",
       "      <td>1.556570e+07</td>\n",
       "      <td>350.000000</td>\n",
       "      <td>18.000000</td>\n",
       "      <td>0.000000</td>\n",
       "      <td>0.000000</td>\n",
       "      <td>1.000000</td>\n",
       "      <td>0.00000</td>\n",
       "      <td>0.000000</td>\n",
       "      <td>11.580000</td>\n",
       "      <td>0.000000</td>\n",
       "    </tr>\n",
       "    <tr>\n",
       "      <th>25%</th>\n",
       "      <td>2500.75000</td>\n",
       "      <td>1.562853e+07</td>\n",
       "      <td>584.000000</td>\n",
       "      <td>32.000000</td>\n",
       "      <td>2.000000</td>\n",
       "      <td>0.000000</td>\n",
       "      <td>1.000000</td>\n",
       "      <td>0.00000</td>\n",
       "      <td>0.000000</td>\n",
       "      <td>51002.110000</td>\n",
       "      <td>0.000000</td>\n",
       "    </tr>\n",
       "    <tr>\n",
       "      <th>50%</th>\n",
       "      <td>5000.50000</td>\n",
       "      <td>1.569074e+07</td>\n",
       "      <td>652.000000</td>\n",
       "      <td>37.000000</td>\n",
       "      <td>5.000000</td>\n",
       "      <td>97198.540000</td>\n",
       "      <td>1.000000</td>\n",
       "      <td>1.00000</td>\n",
       "      <td>1.000000</td>\n",
       "      <td>100193.915000</td>\n",
       "      <td>0.000000</td>\n",
       "    </tr>\n",
       "    <tr>\n",
       "      <th>75%</th>\n",
       "      <td>7500.25000</td>\n",
       "      <td>1.575323e+07</td>\n",
       "      <td>718.000000</td>\n",
       "      <td>44.000000</td>\n",
       "      <td>7.000000</td>\n",
       "      <td>127644.240000</td>\n",
       "      <td>2.000000</td>\n",
       "      <td>1.00000</td>\n",
       "      <td>1.000000</td>\n",
       "      <td>149388.247500</td>\n",
       "      <td>0.000000</td>\n",
       "    </tr>\n",
       "    <tr>\n",
       "      <th>max</th>\n",
       "      <td>10000.00000</td>\n",
       "      <td>1.581569e+07</td>\n",
       "      <td>850.000000</td>\n",
       "      <td>92.000000</td>\n",
       "      <td>10.000000</td>\n",
       "      <td>250898.090000</td>\n",
       "      <td>4.000000</td>\n",
       "      <td>1.00000</td>\n",
       "      <td>1.000000</td>\n",
       "      <td>199992.480000</td>\n",
       "      <td>1.000000</td>\n",
       "    </tr>\n",
       "  </tbody>\n",
       "</table>\n",
       "</div>"
      ],
      "text/plain": [
       "         RowNumber    CustomerId   CreditScore           Age       Tenure  \\\n",
       "count  10000.00000  1.000000e+04  10000.000000  10000.000000  9091.000000   \n",
       "mean    5000.50000  1.569094e+07    650.528800     38.921800     4.997690   \n",
       "std     2886.89568  7.193619e+04     96.653299     10.487806     2.894723   \n",
       "min        1.00000  1.556570e+07    350.000000     18.000000     0.000000   \n",
       "25%     2500.75000  1.562853e+07    584.000000     32.000000     2.000000   \n",
       "50%     5000.50000  1.569074e+07    652.000000     37.000000     5.000000   \n",
       "75%     7500.25000  1.575323e+07    718.000000     44.000000     7.000000   \n",
       "max    10000.00000  1.581569e+07    850.000000     92.000000    10.000000   \n",
       "\n",
       "             Balance  NumOfProducts    HasCrCard  IsActiveMember  \\\n",
       "count   10000.000000   10000.000000  10000.00000    10000.000000   \n",
       "mean    76485.889288       1.530200      0.70550        0.515100   \n",
       "std     62397.405202       0.581654      0.45584        0.499797   \n",
       "min         0.000000       1.000000      0.00000        0.000000   \n",
       "25%         0.000000       1.000000      0.00000        0.000000   \n",
       "50%     97198.540000       1.000000      1.00000        1.000000   \n",
       "75%    127644.240000       2.000000      1.00000        1.000000   \n",
       "max    250898.090000       4.000000      1.00000        1.000000   \n",
       "\n",
       "       EstimatedSalary        Exited  \n",
       "count     10000.000000  10000.000000  \n",
       "mean     100090.239881      0.203700  \n",
       "std       57510.492818      0.402769  \n",
       "min          11.580000      0.000000  \n",
       "25%       51002.110000      0.000000  \n",
       "50%      100193.915000      0.000000  \n",
       "75%      149388.247500      0.000000  \n",
       "max      199992.480000      1.000000  "
      ]
     },
     "metadata": {},
     "output_type": "display_data"
    }
   ],
   "source": [
    "def information_df(metod):\n",
    "    print('Ознакомимся с таблицей, для этого выведем первые 20 строк датафрейма data на экран.')\n",
    "    display(metod.head(21))\n",
    "    print(' ')    \n",
    "    print('Выведем основную информацию о датафрейме с помощью метода info().')\n",
    "    display(metod.info())\n",
    "    print(' ')\n",
    "    print ('Количество явных дубликатов:', metod.duplicated().sum())\n",
    "    print(' ')\n",
    "    print('Ознакомимся с первоначальными данными методом describe().')\n",
    "    plt.show()\n",
    "    display(metod.describe())\n",
    "      \n",
    "information_df(data)"
   ]
  },
  {
   "cell_type": "markdown",
   "metadata": {},
   "source": [
    "Рассмотрим количество пропусков."
   ]
  },
  {
   "cell_type": "code",
   "execution_count": 4,
   "metadata": {},
   "outputs": [
    {
     "data": {
      "text/plain": [
       "RowNumber          0.0000\n",
       "CustomerId         0.0000\n",
       "Surname            0.0000\n",
       "CreditScore        0.0000\n",
       "Geography          0.0000\n",
       "Gender             0.0000\n",
       "Age                0.0000\n",
       "Tenure             0.0909\n",
       "Balance            0.0000\n",
       "NumOfProducts      0.0000\n",
       "HasCrCard          0.0000\n",
       "IsActiveMember     0.0000\n",
       "EstimatedSalary    0.0000\n",
       "Exited             0.0000\n",
       "dtype: float64"
      ]
     },
     "execution_count": 4,
     "metadata": {},
     "output_type": "execute_result"
    }
   ],
   "source": [
    "data.isna().mean()"
   ]
  },
  {
   "cell_type": "markdown",
   "metadata": {},
   "source": [
    "Заменим пропуски в столбце 'Tenure' нулевым значением."
   ]
  },
  {
   "cell_type": "code",
   "execution_count": 5,
   "metadata": {},
   "outputs": [],
   "source": [
    "data['Tenure'] = data['Tenure'].fillna(0)"
   ]
  },
  {
   "cell_type": "markdown",
   "metadata": {},
   "source": [
    "Удалим неинформативные признаки"
   ]
  },
  {
   "cell_type": "code",
   "execution_count": 6,
   "metadata": {},
   "outputs": [],
   "source": [
    "data = data.drop(['RowNumber','CustomerId','Surname'], axis=1)"
   ]
  },
  {
   "cell_type": "markdown",
   "metadata": {},
   "source": [
    "Чтобы не попасть в дамми-ловушку, воспользуемся функцией pd.get_dummies()."
   ]
  },
  {
   "cell_type": "code",
   "execution_count": 7,
   "metadata": {},
   "outputs": [],
   "source": [
    "data = pd.get_dummies(data, drop_first=True)"
   ]
  },
  {
   "cell_type": "markdown",
   "metadata": {},
   "source": [
    "**При подготовке данных были выполнены следующие действия:**\n",
    "- Ознакомились с датафреймом\n",
    "- Проверили данные на дубликаты\n",
    "- Найдены и заменены нулевым значением пропуски в столбце 'Tenure'\n",
    "- Чтобы не попасть в дамми-ловушку, воспользовались функцией pd.get_dummies()."
   ]
  },
  {
   "cell_type": "markdown",
   "metadata": {},
   "source": [
    "# Исследование задачи"
   ]
  },
  {
   "cell_type": "markdown",
   "metadata": {},
   "source": [
    "Разделим данные на признаки и целевой признак."
   ]
  },
  {
   "cell_type": "code",
   "execution_count": 8,
   "metadata": {},
   "outputs": [],
   "source": [
    "features = data.drop('Exited', axis=1)\n",
    "target = data['Exited']\n"
   ]
  },
  {
   "cell_type": "markdown",
   "metadata": {},
   "source": [
    "Разделим данные на обучающую, валидационную и тестовую выборки."
   ]
  },
  {
   "cell_type": "code",
   "execution_count": 9,
   "metadata": {},
   "outputs": [
    {
     "name": "stdout",
     "output_type": "stream",
     "text": [
      "(7000, 11) (1500, 11) (1500, 11)\n",
      "(7000,) (1500,) (1500,)\n"
     ]
    }
   ],
   "source": [
    "features_train, features_valid, target_train, target_valid = train_test_split(features, target, test_size=0.3,\n",
    "                                                                              random_state=12345)\n",
    "features_valid, features_test, target_valid, target_test = train_test_split(features_valid, target_valid, test_size=0.5,\n",
    "                                                                            random_state=12345)\n",
    "print(features_train.shape, features_valid.shape, features_test.shape)\n",
    "print(target_train.shape, target_valid.shape, target_test.shape)"
   ]
  },
  {
   "cell_type": "markdown",
   "metadata": {},
   "source": [
    "Масштабируем данные"
   ]
  },
  {
   "cell_type": "code",
   "execution_count": 10,
   "metadata": {},
   "outputs": [],
   "source": [
    "numeric = ['CreditScore', 'Age', 'Tenure', 'Balance', 'NumOfProducts', 'HasCrCard', 'IsActiveMember', 'EstimatedSalary']\n",
    "scaler = StandardScaler()\n",
    "scaler.fit(features_train[numeric])\n",
    "features_train[numeric] = scaler.transform(features_train[numeric])\n",
    "features_valid[numeric] = scaler.transform(features_valid[numeric])\n",
    "features_test[numeric] = scaler.transform(features_test[numeric])"
   ]
  },
  {
   "cell_type": "markdown",
   "metadata": {},
   "source": [
    "Рассмотрим дисбаланс классов."
   ]
  },
  {
   "cell_type": "code",
   "execution_count": 11,
   "metadata": {
    "scrolled": true
   },
   "outputs": [
    {
     "data": {
      "text/plain": [
       "0    7963\n",
       "1    2037\n",
       "Name: Exited, dtype: int64"
      ]
     },
     "execution_count": 11,
     "metadata": {},
     "output_type": "execute_result"
    }
   ],
   "source": [
    "target.value_counts()"
   ]
  },
  {
   "cell_type": "markdown",
   "metadata": {},
   "source": [
    "Обучим модель логистической регрессии с дисбалансом классов"
   ]
  },
  {
   "cell_type": "code",
   "execution_count": 12,
   "metadata": {},
   "outputs": [
    {
     "name": "stdout",
     "output_type": "stream",
     "text": [
      "Логистическая регрессия: F1-мера - 0.323943661971831\n"
     ]
    }
   ],
   "source": [
    "model =  LogisticRegression(random_state=12345, max_iter= 1000 )\n",
    "model.fit(features_train, target_train)\n",
    "prediction_valid = model.predict(features_valid)\n",
    "f1 = f1_score(target_valid, prediction_valid)\n",
    "print(f\"Логистическая регрессия: F1-мера - {f1}\")"
   ]
  },
  {
   "cell_type": "markdown",
   "metadata": {},
   "source": [
    "Обучим модель дерева решений с дисбалансом классов"
   ]
  },
  {
   "cell_type": "code",
   "execution_count": 13,
   "metadata": {},
   "outputs": [
    {
     "name": "stdout",
     "output_type": "stream",
     "text": [
      "Дерево решений: F1-мера - 0.5645756457564577, Максимальная глубина - 10\n"
     ]
    }
   ],
   "source": [
    "best_model_tree = None\n",
    "best_result_tree = 0\n",
    "best_depth_tree = 0\n",
    "for depth in range(1,50):\n",
    "    model = DecisionTreeClassifier(random_state = 12345, max_depth = depth)\n",
    "    model.fit(features_train, target_train)\n",
    "    prediction_valid = model.predict(features_valid)\n",
    "    result = f1_score(prediction_valid, target_valid)\n",
    "    if result > best_result_tree:\n",
    "            best_model_tree = model\n",
    "            best_result_tree = result\n",
    "            best_depth_tree = depth\n",
    "            \n",
    "print(f\"Дерево решений: F1-мера - {best_result_tree}, Максимальная глубина - {best_depth_tree}\")"
   ]
  },
  {
   "cell_type": "markdown",
   "metadata": {},
   "source": [
    "Обучим модель случайного леса с дисбалансом классов."
   ]
  },
  {
   "cell_type": "code",
   "execution_count": 14,
   "metadata": {},
   "outputs": [
    {
     "name": "stdout",
     "output_type": "stream",
     "text": [
      "Случайный лес: F1-мера - 0.5867768595041322, Количество деревьев - 14, Максимальная глубина - 9\n"
     ]
    }
   ],
   "source": [
    "best_model_forest = None\n",
    "best_result_forest = 0\n",
    "best_depth_forest = 0\n",
    "for est in range(1, 50):\n",
    "    for depth in range(1,11):\n",
    "        model = RandomForestClassifier(random_state = 12345, n_estimators = est, max_depth = depth)\n",
    "        model.fit(features_train, target_train)\n",
    "        prediction_valid = model.predict(features_valid)\n",
    "        result = f1_score(prediction_valid, target_valid)\n",
    "        if  result > best_result_forest:\n",
    "            best_model_forest = model\n",
    "            best_result_forest = result\n",
    "            best_est_forest = est\n",
    "            best_depth_forest = depth\n",
    "            \n",
    "print(f\"Случайный лес: F1-мера - {best_result_forest}, Количество деревьев - {best_est_forest}, \\\n",
    "Максимальная глубина - {best_depth_forest}\")"
   ]
  },
  {
   "cell_type": "markdown",
   "metadata": {},
   "source": [
    "Рассчитаем значение AUC-ROC и выведем ROC-кривую для логистической регрессии, дерева решений и случайного леса с дисбалансом классов.  "
   ]
  },
  {
   "cell_type": "code",
   "execution_count": 15,
   "metadata": {},
   "outputs": [
    {
     "name": "stdout",
     "output_type": "stream",
     "text": [
      "Логистическая регрессия: AUC-ROC - 0.7751323545874276\n",
      "Дерево решений: AUC-ROC - 0.7714941392651486\n",
      "Случайный лес: AUC-ROC - 0.8464441052720675\n"
     ]
    },
    {
     "data": {
      "image/png": "[encoded data removed]",
      "text/plain": [
       "<Figure size 1224x720 with 1 Axes>"
      ]
     },
     "metadata": {
      "needs_background": "light"
     },
     "output_type": "display_data"
    }
   ],
   "source": [
    "plt.figure(figsize=[17,10])\n",
    "\n",
    "model = LogisticRegression(random_state=12345, solver = 'liblinear', max_iter= 1000 )\n",
    "model.fit(features_train, target_train)\n",
    "probabilities_valid = model.predict_proba(features_valid)\n",
    "probabilities_one_valid = probabilities_valid[:, 1]\n",
    "fpr, tpr, thresholds = roc_curve(target_valid, probabilities_one_valid)\n",
    "auc_roc = roc_auc_score(target_valid, probabilities_one_valid)\n",
    "print(f\"Логистическая регрессия: AUC-ROC - {auc_roc}\")\n",
    "plt.plot(fpr, tpr, label='Логистическая регрессия')\n",
    "\n",
    "model = DecisionTreeClassifier(random_state = 12345, max_depth = 10)\n",
    "model.fit(features_train, target_train)\n",
    "probabilities_valid = model.predict_proba(features_valid)\n",
    "probabilities_one_valid = probabilities_valid[:, 1]\n",
    "fpr, tpr, thresholds = roc_curve(target_valid, probabilities_one_valid)\n",
    "auc_roc = roc_auc_score(target_valid, probabilities_one_valid)\n",
    "print(f\"Дерево решений: AUC-ROC - {auc_roc}\")\n",
    "plt.plot(fpr, tpr, label='Дерево решений')\n",
    "\n",
    "model = RandomForestClassifier(random_state = 12345, n_estimators = 14, max_depth = 9)\n",
    "model.fit(features_train, target_train)\n",
    "probabilities_valid = model.predict_proba(features_valid)\n",
    "probabilities_one_valid = probabilities_valid[:, 1]\n",
    "fpr, tpr, thresholds = roc_curve(target_valid, probabilities_one_valid)\n",
    "auc_roc = roc_auc_score(target_valid, probabilities_one_valid)\n",
    "print(f\"Случайный лес: AUC-ROC - {auc_roc}\")\n",
    "plt.plot(fpr, tpr, label='Случайный лес')\n",
    "\n",
    "plt.plot([0, 1], [0, 1], linestyle='--', label='Случайная модель')\n",
    "plt.xlim([0.0, 1.0])\n",
    "plt.ylim([0.0, 1.0])\n",
    "plt.xlabel(\"False Positive Rate\")\n",
    "plt.ylabel(\"True Positive Rate\")\n",
    "plt.legend(loc='lower right')\n",
    "plt.title(\"ROC-кривая\")\n",
    "plt.show()"
   ]
  },
  {
   "cell_type": "markdown",
   "metadata": {},
   "source": [
    "**При исследовании задачи были выполнены следующие действия:**\n",
    "- Разделены данные на обучающую, валидационную и тестовую выборки\n",
    "- Был обнаружен дисбаланс классов в отношении 4:1\n",
    "- Обучили модели логистической регрессии, дерева решений, случайного леса с дисбалансом классов\n",
    "- Нашли наилучшее значение F1-меры в моделях логистической регрессии(F1-мера - 0.09014084507042254), дерева решений(F1-мера - 0.5645756457564577), случайного леса(F1-мера - 0.5867768595041322) с дисбалансом классов\n",
    "- Рассчитали значения AUC-ROC для логистической регрессии(AUC-ROC - 0.678176987912661), дерева решений(AUC-ROC - 0.7714941392651486), случайного леса(AUC-ROC - 0.8463021261375396) с дисбалансом классов.Наилучший показатель у случайного леса.\n",
    "- Построили ROC-кривую для логистической регрессии, дерева решений и случайного леса с дисбалансом классов. Наилучшая ROC-кривая у случайного леса."
   ]
  },
  {
   "cell_type": "markdown",
   "metadata": {},
   "source": [
    "# Борьба с дисбалансом"
   ]
  },
  {
   "cell_type": "markdown",
   "metadata": {},
   "source": [
    "Воспользуемся техникой upsampling для борьбы с дисбалансом"
   ]
  },
  {
   "cell_type": "code",
   "execution_count": 16,
   "metadata": {},
   "outputs": [
    {
     "name": "stdout",
     "output_type": "stream",
     "text": [
      "1    5644\n",
      "0    5589\n",
      "Name: Exited, dtype: int64\n"
     ]
    }
   ],
   "source": [
    "def upsample(features, target, repeat):\n",
    "    features_zeros = features[target == 0]\n",
    "    features_ones = features[target == 1]\n",
    "    target_zeros = target[target == 0]\n",
    "    target_ones = target[target == 1]\n",
    "    \n",
    "    features_upsampled = pd.concat([features_zeros] + [features_ones] * repeat)\n",
    "    target_upsampled = pd.concat([target_zeros] + [target_ones] * repeat)\n",
    "    \n",
    "    features_upsampled, target_upsampled = shuffle(\n",
    "        features_upsampled, target_upsampled, random_state=12345)\n",
    "    \n",
    "    return features_upsampled, target_upsampled\n",
    "\n",
    "features_upsampled, target_upsampled = upsample(features_train, target_train, repeat=4)\n",
    "\n",
    "print(target_upsampled.value_counts())"
   ]
  },
  {
   "cell_type": "markdown",
   "metadata": {},
   "source": [
    "Рассмотрим модели логистической регрессии, дерева решений, случайного леса с обработанными данными техникой upsampling."
   ]
  },
  {
   "cell_type": "code",
   "execution_count": 17,
   "metadata": {},
   "outputs": [
    {
     "name": "stdout",
     "output_type": "stream",
     "text": [
      "Логистическая регрессия: F1-мера - 0.5016797312430011\n",
      "Дерево решений: F1-мера - 0.5272969374167775\n",
      "Случайный лес: F1-мера - 0.6116642958748222\n"
     ]
    }
   ],
   "source": [
    "model = LogisticRegression(random_state=12345, solver='liblinear')\n",
    "model.fit(features_upsampled, target_upsampled)\n",
    "predicted_valid = model.predict(features_valid)\n",
    "f1 = f1_score(target_valid, predicted_valid)\n",
    "print(f\"Логистическая регрессия: F1-мера - {f1}\")\n",
    "\n",
    "model = DecisionTreeClassifier(random_state=12345, max_depth=10)\n",
    "model.fit(features_upsampled, target_upsampled)\n",
    "predicted_valid = model.predict(features_valid)\n",
    "f1 = f1_score(target_valid, predicted_valid)\n",
    "print(f\"Дерево решений: F1-мера - {f1}\")\n",
    "\n",
    "model = RandomForestClassifier(random_state = 12345, n_estimators = 14, max_depth = 9)\n",
    "model.fit(features_upsampled, target_upsampled)\n",
    "predicted_valid = model.predict(features_valid)\n",
    "f1 = f1_score(target_valid, predicted_valid)\n",
    "print(f\"Случайный лес: F1-мера - {f1}\")"
   ]
  },
  {
   "cell_type": "markdown",
   "metadata": {},
   "source": [
    "Воспользуемся техникой downsampling для борьбы с дисбалансом"
   ]
  },
  {
   "cell_type": "code",
   "execution_count": 18,
   "metadata": {},
   "outputs": [
    {
     "name": "stdout",
     "output_type": "stream",
     "text": [
      "1    1411\n",
      "0    1397\n",
      "Name: Exited, dtype: int64\n"
     ]
    }
   ],
   "source": [
    "def downsample(features, target, fraction):\n",
    "    features_zeros = features[target == 0]\n",
    "    features_ones = features[target == 1]\n",
    "    target_zeros = target[target == 0]\n",
    "    target_ones = target[target == 1]\n",
    "\n",
    "    features_downsampled = pd.concat(\n",
    "        [features_zeros.sample(frac=fraction, random_state=12345)] + [features_ones])\n",
    "    target_downsampled = pd.concat(\n",
    "        [target_zeros.sample(frac=fraction, random_state=12345)] + [target_ones])\n",
    "    \n",
    "    features_downsampled, target_downsampled = shuffle(\n",
    "        features_downsampled, target_downsampled, random_state=12345)\n",
    "    \n",
    "    return features_downsampled, target_downsampled\n",
    "\n",
    "features_downsampled, target_downsampled = downsample(features_train, target_train, fraction=0.25)\n",
    "\n",
    "print(target_downsampled.value_counts())"
   ]
  },
  {
   "cell_type": "markdown",
   "metadata": {},
   "source": [
    "Рассмотрим модели логистической регрессии, дерева решений, случайного леса с обработанными данными техникой downsampling."
   ]
  },
  {
   "cell_type": "code",
   "execution_count": 19,
   "metadata": {},
   "outputs": [
    {
     "name": "stdout",
     "output_type": "stream",
     "text": [
      "Логистическая регрессия: F1-мера - 0.4977578475336324\n",
      "Дерево решений: F1-мера - 0.5050732807215333\n",
      "Случайный лес: F1-мера - 0.5732323232323232\n"
     ]
    }
   ],
   "source": [
    "model = LogisticRegression(random_state=12345, solver='liblinear')\n",
    "model.fit(features_downsampled, target_downsampled)\n",
    "predicted_valid = model.predict(features_valid)\n",
    "f1 = f1_score(target_valid, predicted_valid)\n",
    "print(f\"Логистическая регрессия: F1-мера - {f1}\")\n",
    "\n",
    "model = DecisionTreeClassifier(random_state=12345, max_depth=10)\n",
    "model.fit(features_downsampled, target_downsampled)\n",
    "predicted_valid = model.predict(features_valid)\n",
    "f1 = f1_score(target_valid, predicted_valid)\n",
    "print(f\"Дерево решений: F1-мера - {f1}\")\n",
    "\n",
    "model = RandomForestClassifier(random_state = 12345, n_estimators = 14, max_depth = 9)\n",
    "model.fit(features_downsampled, target_downsampled)\n",
    "predicted_valid = model.predict(features_valid)\n",
    "f1 = f1_score(target_valid, predicted_valid)\n",
    "print(f\"Случайный лес: F1-мера - {f1}\")"
   ]
  },
  {
   "cell_type": "markdown",
   "metadata": {},
   "source": [
    "Рассмотрим модели логистической регрессии, дерева решений, случайного леса с применением параметра class_weight для борьбы с дисбалансом."
   ]
  },
  {
   "cell_type": "code",
   "execution_count": 20,
   "metadata": {},
   "outputs": [
    {
     "name": "stdout",
     "output_type": "stream",
     "text": [
      "Логистическая регрессия: F1-мера - 0.5050732807215333\n",
      "Дерево решений: F1-мера - 0.5220883534136546\n",
      "Случайный лес: F1-мера - 0.6389301634472512\n"
     ]
    }
   ],
   "source": [
    "model = LogisticRegression(random_state=12345, solver='liblinear', class_weight='balanced')\n",
    "model.fit(features_train, target_train)\n",
    "predicted_valid = model.predict(features_valid)\n",
    "f1 = f1_score(target_valid, predicted_valid)\n",
    "print(f\"Логистическая регрессия: F1-мера - {f1}\")\n",
    "\n",
    "model = DecisionTreeClassifier(random_state=12345, max_depth=10, class_weight='balanced')\n",
    "model.fit(features_train, target_train)\n",
    "predicted_valid = model.predict(features_valid)\n",
    "f1 = f1_score(target_valid, predicted_valid)\n",
    "print(f\"Дерево решений: F1-мера - {f1}\")\n",
    "\n",
    "model = RandomForestClassifier(random_state = 12345, n_estimators = 14, max_depth = 9, class_weight='balanced')\n",
    "model.fit(features_train, target_train)\n",
    "predicted_valid = model.predict(features_valid)\n",
    "f1 = f1_score(target_valid, predicted_valid)\n",
    "print(f\"Случайный лес: F1-мера - {f1}\")"
   ]
  },
  {
   "cell_type": "markdown",
   "metadata": {},
   "source": [
    "Рассчитаем значение AUC-ROC и выведем ROC-кривую для логистической регрессии, дерева решений, случайного леса. Для логистической регрессии случайного леса будем использовать данные с применением параметра class_weight.Для дерева решений будем использоваться данные с применением техники upsampling."
   ]
  },
  {
   "cell_type": "code",
   "execution_count": 21,
   "metadata": {},
   "outputs": [
    {
     "name": "stdout",
     "output_type": "stream",
     "text": [
      "Логистическая регрессия: AUC-ROC - 0.7792060636011915\n",
      "Дерево решений: AUC-ROC - 0.7610040655179098\n",
      "Случайный лес: AUC-ROC - 0.8490980229405517\n"
     ]
    },
    {
     "data": {
      "image/png": "[encoded data removed]",
      "text/plain": [
       "<Figure size 1224x720 with 1 Axes>"
      ]
     },
     "metadata": {
      "needs_background": "light"
     },
     "output_type": "display_data"
    }
   ],
   "source": [
    "plt.figure(figsize=[17,10])\n",
    "\n",
    "model = LogisticRegression(random_state=12345, solver = 'liblinear', class_weight='balanced', max_iter= 1000)\n",
    "model.fit(features_train, target_train)\n",
    "probabilities_valid = model.predict_proba(features_valid)\n",
    "probabilities_one_valid = probabilities_valid[:, 1]\n",
    "fpr, tpr, thresholds = roc_curve(target_valid, probabilities_one_valid)\n",
    "auc_roc = roc_auc_score(target_valid, probabilities_one_valid)\n",
    "print(f\"Логистическая регрессия: AUC-ROC - {auc_roc}\")\n",
    "plt.plot(fpr, tpr, label='Логистическая регрессия')\n",
    "\n",
    "model = DecisionTreeClassifier(random_state = 12345, max_depth = 10)\n",
    "model.fit(features_upsampled, target_upsampled)\n",
    "probabilities_valid = model.predict_proba(features_valid)\n",
    "probabilities_one_valid = probabilities_valid[:, 1]\n",
    "fpr, tpr, thresholds = roc_curve(target_valid, probabilities_one_valid)\n",
    "auc_roc = roc_auc_score(target_valid, probabilities_one_valid)\n",
    "print(f\"Дерево решений: AUC-ROC - {auc_roc}\")\n",
    "plt.plot(fpr, tpr, label='Дерево решений')\n",
    "\n",
    "model = RandomForestClassifier(random_state = 12345, n_estimators = 14, max_depth = 9, class_weight='balanced')\n",
    "model.fit(features_train, target_train)\n",
    "probabilities_valid = model.predict_proba(features_valid)\n",
    "probabilities_one_valid = probabilities_valid[:, 1]\n",
    "fpr, tpr, thresholds = roc_curve(target_valid, probabilities_one_valid)\n",
    "auc_roc = roc_auc_score(target_valid, probabilities_one_valid)\n",
    "print(f\"Случайный лес: AUC-ROC - {auc_roc}\")\n",
    "plt.plot(fpr, tpr, label='Случайный лес')\n",
    "\n",
    "plt.plot([0, 1], [0, 1], linestyle='--', label='Случайная модель')\n",
    "plt.xlim([0.0, 1.0])\n",
    "plt.ylim([0.0, 1.0])\n",
    "plt.xlabel(\"False Positive Rate\")\n",
    "plt.ylabel(\"True Positive Rate\")\n",
    "plt.legend(loc='lower right')\n",
    "plt.title(\"ROC-кривая\")\n",
    "plt.show()"
   ]
  },
  {
   "cell_type": "markdown",
   "metadata": {},
   "source": [
    "**При борьбе с дисбалансом были выполнены следующие действия:**\n",
    "- Воспользовались техникой upsampling для борьбы с дисбалансом.Рассчитали F1-меру для логистической регрессии(F1-мера - 0.46105919003115264), дерева решений(F1-мера - 0.5272969374167775), случайного леса(F1-мера - 0.6116642958748222) с обработанными данными техникой upsampling.\n",
    "- Воспользовались техникой downsampling для борьбы с дисбалансом.Рассчитали F1-меру для логистической регрессии(F1-мера - 0.45632065775950664), дерева решений(F1-мера - 0.5050732807215333), случайного леса(F1-мера - 0.571069182389937) с обработанными данными техникой downsampling.\n",
    "- Рассмотрели модели логистической регрессии, дерева решений, случайного леса с применением параметра class_weight для борьбы с дисбалансом.Рассчитали F1-меру для логистической регрессии(F1-мера - 0.4812030075187971), дерева решений(F1-мера - 0.5220883534136546), случайного леса(F1-мера - 0.6379821958456973) с применением параметра class_weight.\n",
    "- Рассчитали значения AUC-ROC для логистической регрессии(AUC-ROC - 0.7705781008106463), дерева решений(AUC-ROC - 0.7608074790239481), случайного леса(AUC-ROC - 0.8489751563818256) с наилучшими показателями F1-меры.Наилучший показатель у случайного леса.\n",
    "- Построили ROC-кривую для логистической регрессии, дерева решений и случайного леса с наилучшими показателями F1-меры. Наилучшая ROC-кривая у случайного леса."
   ]
  },
  {
   "cell_type": "markdown",
   "metadata": {},
   "source": [
    "# Тестирование модели"
   ]
  },
  {
   "cell_type": "markdown",
   "metadata": {},
   "source": [
    "Проверим на тестовой выборке модель случайного леса т.к. она имеет наилучшее значение F1-меры и AUC-ROC."
   ]
  },
  {
   "cell_type": "code",
   "execution_count": 22,
   "metadata": {},
   "outputs": [
    {
     "name": "stdout",
     "output_type": "stream",
     "text": [
      "Случайный лес: F1-мера - 0.6122448979591837\n"
     ]
    }
   ],
   "source": [
    "model = RandomForestClassifier(random_state = 12345, n_estimators = 14, max_depth = 9,class_weight='balanced')\n",
    "model.fit(features_train, target_train)\n",
    "predicted_test = model.predict(features_test)\n",
    "f1 = f1_score(target_test, predicted_test)\n",
    "print(f\"Случайный лес: F1-мера - {f1}\")"
   ]
  },
  {
   "cell_type": "code",
   "execution_count": 23,
   "metadata": {
    "scrolled": false
   },
   "outputs": [
    {
     "name": "stdout",
     "output_type": "stream",
     "text": [
      "Случайный лес: AUC-ROC - 0.8497301845574788\n"
     ]
    },
    {
     "data": {
      "image/png": "[encoded data removed]",
      "text/plain": [
       "<Figure size 1224x720 with 1 Axes>"
      ]
     },
     "metadata": {
      "needs_background": "light"
     },
     "output_type": "display_data"
    }
   ],
   "source": [
    "plt.figure(figsize=[17,10])\n",
    "\n",
    "model = RandomForestClassifier(random_state = 12345, n_estimators = 14, max_depth = 9, class_weight='balanced')\n",
    "model.fit(features_train, target_train)\n",
    "probabilities_test = model.predict_proba(features_test)\n",
    "probabilities_one_test = probabilities_test[:, 1]\n",
    "fpr, tpr, thresholds = roc_curve(target_test, probabilities_one_test)\n",
    "auc_roc = roc_auc_score(target_test, probabilities_one_test)\n",
    "print(f\"Случайный лес: AUC-ROC - {auc_roc}\")\n",
    "plt.plot(fpr, tpr, label='Случайный лес')\n",
    "\n",
    "plt.plot([0, 1], [0, 1], linestyle='--', label='Случайная модель')\n",
    "plt.xlim([0.0, 1.0])\n",
    "plt.ylim([0.0, 1.0])\n",
    "plt.xlabel(\"False Positive Rate\")\n",
    "plt.ylabel(\"True Positive Rate\")\n",
    "plt.legend(loc='lower right')\n",
    "plt.title(\"ROC-кривая\")\n",
    "plt.show()"
   ]
  },
  {
   "cell_type": "markdown",
   "metadata": {},
   "source": [
    "**При тестировании модели были выполнены следующие действия:**\n",
    "- Была проверена на тестовой выборке модель случайного леса.\n",
    "- Рассчитали значение F1-меры(0.6122448979591837) и AUC-ROC(0.8497593824902651) для случайного леса.\n",
    "- Построили ROC-кривую для случайного леса."
   ]
  },
  {
   "cell_type": "markdown",
   "metadata": {},
   "source": [
    "# Общий вывод"
   ]
  },
  {
   "cell_type": "markdown",
   "metadata": {},
   "source": [
    "**1 Подготовка данных**\n",
    "- Ознакомились с датафреймом\n",
    "- Проверили данные на дубликаты\n",
    "- Найдены и заменены нулевым значением пропуски в столбце 'Tenure'\n",
    "- Чтобы не попасть в дамми-ловушку, воспользовались функцией pd.get_dummies().\n",
    "\n",
    "**2 Исследование задачи**\n",
    "- Разделены данные на обучающую, валидационную и тестовую выборки\n",
    "- Был обнаружен дисбаланс классов в отношении 4:1\n",
    "- Обучили модели логистической регрессии, дерева решений, случайного леса с дисбалансом классов\n",
    "- Нашли наилучшее значение F1-меры в моделях логистической регрессии(F1-мера - 0.09014084507042254), дерева решений(F1-мера - 0.5645756457564577), случайного леса(F1-мера - 0.5867768595041322) с дисбалансом классов\n",
    "- Рассчитали значения AUC-ROC для логистической регрессии(AUC-ROC - 0.678176987912661), дерева решений(AUC-ROC - 0.7714941392651486), случайного леса(AUC-ROC - 0.8463021261375396) с дисбалансом классов.Наилучший показатель у случайного леса.\n",
    "- Построили ROC-кривую для логистической регрессии, дерева решений и случайного леса с дисбалансом классов. Наилучшая ROC-кривая у случайного леса.\n",
    "\n",
    "**3 Борьба с дисбалансом**\n",
    "- Воспользовались техникой upsampling для борьбы с дисбалансом.Рассчитали F1-меру для логистической регрессии(F1-мера - 0.46105919003115264), дерева решений(F1-мера - 0.5515527950310558), случайного леса(F1-мера - 0.5907473309608541) с обработанными данными техникой upsampling.\n",
    "- Воспользовались техникой downsampling для борьбы с дисбалансом.Рассчитали F1-меру для логистической регрессии(F1-мера - 0.45632065775950664), дерева решений(F1-мера - 0.5363636363636364), случайного леса(F1-мера - 0.5700365408038977) с обработанными данными техникой downsampling.\n",
    "- Рассмотрели модели логистической регрессии, дерева решений, случайного леса с применением параметра class_weight для борьбы с дисбалансом.Рассчитали F1-меру для логистической регрессии(F1-мера - 0.4812030075187971), дерева решений(F1-мера - 0.5497512437810945), случайного леса(F1-мера - 0.5700365408038977) с применением параметра class_weight.\n",
    "- Рассчитали значения AUC-ROC для логистической регрессии(AUC-ROC - 0.7705781008106463), дерева решений(AUC-ROC - 0.7608074790239481), случайного леса(AUC-ROC - 0.8463021261375396) с наилучшими показателями F1-меры.Наилучший показатель у случайного леса(AUC-ROC - 0.8463021261375396).\n",
    "- Построили ROC-кривую для логистической регрессии, дерева решений и случайного леса с наилучшими показателями F1-меры. Наилучшая ROC-кривая у случайного леса.\n",
    "\n",
    "**4 Тестирование модели**\n",
    "- Была проверена на тестовой выборке модель случайного леса.\n",
    "- Рассчитали значение F1-меры(0.6122448979591837) и AUC-ROC(0.8497593824902651) для случайного леса.\n",
    "- Построили ROC-кривую для случайного леса.\n",
    "- Параметры, дающие лучший результат: {n_estimators = 14, max_depth = 9}\n",
    "- Лучше всего выравнивать через class_weight=\"balanced\""
   ]
  },
  {
   "cell_type": "code",
   "execution_count": null,
   "metadata": {},
   "outputs": [],
   "source": []
  }
 ],
 "metadata": {
  "ExecuteTimeLog": [
   {
    "duration": 1747,
    "start_time": "2023-05-09T15:40:18.198Z"
   },
   {
    "duration": 81,
    "start_time": "2023-05-09T15:40:19.948Z"
   },
   {
    "duration": 17,
    "start_time": "2023-05-09T15:40:35.077Z"
   },
   {
    "duration": 17,
    "start_time": "2023-05-09T15:40:42.049Z"
   },
   {
    "duration": 82,
    "start_time": "2023-05-09T15:51:01.029Z"
   },
   {
    "duration": 8,
    "start_time": "2023-05-09T16:32:40.699Z"
   },
   {
    "duration": 122,
    "start_time": "2023-05-09T16:37:07.229Z"
   },
   {
    "duration": 5,
    "start_time": "2023-05-09T16:37:24.564Z"
   },
   {
    "duration": 8,
    "start_time": "2023-05-09T16:39:09.096Z"
   },
   {
    "duration": 9,
    "start_time": "2023-05-09T16:42:41.872Z"
   },
   {
    "duration": 10,
    "start_time": "2023-05-09T16:43:04.415Z"
   },
   {
    "duration": 4,
    "start_time": "2023-05-09T16:43:16.962Z"
   },
   {
    "duration": 8,
    "start_time": "2023-05-09T16:43:18.989Z"
   },
   {
    "duration": 4,
    "start_time": "2023-05-09T16:45:30.071Z"
   },
   {
    "duration": 224,
    "start_time": "2023-05-09T17:01:57.648Z"
   },
   {
    "duration": 209,
    "start_time": "2023-05-09T17:02:46.956Z"
   },
   {
    "duration": 19,
    "start_time": "2023-05-09T17:25:30.907Z"
   },
   {
    "duration": 157,
    "start_time": "2023-05-09T17:43:27.621Z"
   },
   {
    "duration": 2437,
    "start_time": "2023-05-10T12:37:07.017Z"
   },
   {
    "duration": 200,
    "start_time": "2023-05-10T12:37:09.456Z"
   },
   {
    "duration": 90,
    "start_time": "2023-05-10T12:37:09.658Z"
   },
   {
    "duration": 10,
    "start_time": "2023-05-10T12:37:09.751Z"
   },
   {
    "duration": 19,
    "start_time": "2023-05-10T12:37:09.763Z"
   },
   {
    "duration": 241,
    "start_time": "2023-05-10T12:37:09.784Z"
   },
   {
    "duration": 169,
    "start_time": "2023-05-10T12:37:10.028Z"
   },
   {
    "duration": 37340,
    "start_time": "2023-05-10T12:37:10.199Z"
   },
   {
    "duration": 36676,
    "start_time": "2023-05-10T14:48:41.006Z"
   },
   {
    "duration": 1544,
    "start_time": "2023-05-10T14:51:08.731Z"
   },
   {
    "duration": 50,
    "start_time": "2023-05-10T14:51:10.277Z"
   },
   {
    "duration": 96,
    "start_time": "2023-05-10T14:51:10.329Z"
   },
   {
    "duration": 9,
    "start_time": "2023-05-10T14:51:10.428Z"
   },
   {
    "duration": 7,
    "start_time": "2023-05-10T14:51:10.439Z"
   },
   {
    "duration": 237,
    "start_time": "2023-05-10T14:51:10.447Z"
   },
   {
    "duration": 167,
    "start_time": "2023-05-10T14:51:10.686Z"
   },
   {
    "duration": 37352,
    "start_time": "2023-05-10T14:51:10.856Z"
   },
   {
    "duration": 36680,
    "start_time": "2023-05-10T14:52:08.711Z"
   },
   {
    "duration": 37114,
    "start_time": "2023-05-10T14:53:30.106Z"
   },
   {
    "duration": 1695,
    "start_time": "2023-05-10T14:54:54.242Z"
   },
   {
    "duration": 44,
    "start_time": "2023-05-10T14:54:55.939Z"
   },
   {
    "duration": 89,
    "start_time": "2023-05-10T14:54:55.985Z"
   },
   {
    "duration": 8,
    "start_time": "2023-05-10T14:54:56.076Z"
   },
   {
    "duration": 17,
    "start_time": "2023-05-10T14:54:56.085Z"
   },
   {
    "duration": 264,
    "start_time": "2023-05-10T14:54:56.104Z"
   },
   {
    "duration": 160,
    "start_time": "2023-05-10T14:54:56.370Z"
   },
   {
    "duration": 37199,
    "start_time": "2023-05-10T14:54:56.531Z"
   },
   {
    "duration": 36593,
    "start_time": "2023-05-10T14:55:33.734Z"
   },
   {
    "duration": 12,
    "start_time": "2023-05-10T17:31:41.950Z"
   },
   {
    "duration": 69,
    "start_time": "2023-05-10T17:31:41.964Z"
   },
   {
    "duration": 106,
    "start_time": "2023-05-10T17:31:42.035Z"
   },
   {
    "duration": 14,
    "start_time": "2023-05-10T17:31:42.143Z"
   },
   {
    "duration": 31,
    "start_time": "2023-05-10T17:31:42.160Z"
   },
   {
    "duration": 277,
    "start_time": "2023-05-10T17:31:42.193Z"
   },
   {
    "duration": 186,
    "start_time": "2023-05-10T17:31:42.473Z"
   },
   {
    "duration": 7,
    "start_time": "2023-05-10T17:31:42.662Z"
   },
   {
    "duration": 39422,
    "start_time": "2023-05-10T17:31:42.673Z"
   },
   {
    "duration": 183536,
    "start_time": "2023-05-10T17:32:22.098Z"
   },
   {
    "duration": 3327,
    "start_time": "2023-05-10T17:35:25.636Z"
   },
   {
    "duration": 3473,
    "start_time": "2023-05-10T17:35:55.907Z"
   },
   {
    "duration": 2969,
    "start_time": "2023-05-10T17:36:20.581Z"
   },
   {
    "duration": 3000,
    "start_time": "2023-05-10T17:37:20.969Z"
   },
   {
    "duration": 1669,
    "start_time": "2023-05-10T17:37:42.943Z"
   },
   {
    "duration": 52,
    "start_time": "2023-05-10T17:37:44.615Z"
   },
   {
    "duration": 114,
    "start_time": "2023-05-10T17:37:44.670Z"
   },
   {
    "duration": 9,
    "start_time": "2023-05-10T17:37:44.786Z"
   },
   {
    "duration": 9,
    "start_time": "2023-05-10T17:37:44.797Z"
   },
   {
    "duration": 271,
    "start_time": "2023-05-10T17:37:44.808Z"
   },
   {
    "duration": 163,
    "start_time": "2023-05-10T17:37:45.081Z"
   },
   {
    "duration": 7,
    "start_time": "2023-05-10T17:37:45.247Z"
   },
   {
    "duration": 39354,
    "start_time": "2023-05-10T17:37:45.256Z"
   },
   {
    "duration": 188492,
    "start_time": "2023-05-10T17:38:24.613Z"
   },
   {
    "duration": 2695,
    "start_time": "2023-05-10T17:41:33.107Z"
   },
   {
    "duration": 555,
    "start_time": "2023-05-10T17:42:00.120Z"
   },
   {
    "duration": 550,
    "start_time": "2023-05-10T17:42:47.501Z"
   },
   {
    "duration": 11,
    "start_time": "2023-05-10T17:46:27.225Z"
   },
   {
    "duration": 89,
    "start_time": "2023-05-10T17:46:27.239Z"
   },
   {
    "duration": 95,
    "start_time": "2023-05-10T17:46:27.330Z"
   },
   {
    "duration": 16,
    "start_time": "2023-05-10T17:46:27.448Z"
   },
   {
    "duration": 24,
    "start_time": "2023-05-10T17:46:27.468Z"
   },
   {
    "duration": 250,
    "start_time": "2023-05-10T17:46:27.494Z"
   },
   {
    "duration": 161,
    "start_time": "2023-05-10T17:46:27.749Z"
   },
   {
    "duration": 7,
    "start_time": "2023-05-10T17:46:27.912Z"
   },
   {
    "duration": 40557,
    "start_time": "2023-05-10T17:46:27.921Z"
   },
   {
    "duration": 185422,
    "start_time": "2023-05-10T17:47:08.480Z"
   },
   {
    "duration": 555,
    "start_time": "2023-05-10T17:50:13.904Z"
   },
   {
    "duration": 7379,
    "start_time": "2023-05-10T17:51:38.890Z"
   },
   {
    "duration": 486728,
    "start_time": "2023-05-10T17:51:51.048Z"
   },
   {
    "duration": 210122,
    "start_time": "2023-05-10T18:04:55.315Z"
   },
   {
    "duration": 529,
    "start_time": "2023-05-10T18:12:01.021Z"
   },
   {
    "duration": 539,
    "start_time": "2023-05-10T18:14:03.109Z"
   },
   {
    "duration": 694,
    "start_time": "2023-05-10T18:18:32.770Z"
   },
   {
    "duration": 1494,
    "start_time": "2023-05-10T18:21:16.954Z"
   },
   {
    "duration": 51,
    "start_time": "2023-05-10T18:21:18.450Z"
   },
   {
    "duration": 92,
    "start_time": "2023-05-10T18:21:18.503Z"
   },
   {
    "duration": 9,
    "start_time": "2023-05-10T18:21:18.597Z"
   },
   {
    "duration": 12,
    "start_time": "2023-05-10T18:21:18.608Z"
   },
   {
    "duration": 229,
    "start_time": "2023-05-10T18:21:18.622Z"
   },
   {
    "duration": 166,
    "start_time": "2023-05-10T18:21:18.853Z"
   },
   {
    "duration": 5,
    "start_time": "2023-05-10T18:21:19.021Z"
   },
   {
    "duration": 36559,
    "start_time": "2023-05-10T18:21:19.028Z"
   },
   {
    "duration": 557,
    "start_time": "2023-05-10T18:21:55.590Z"
   },
   {
    "duration": 1481,
    "start_time": "2023-05-10T18:23:45.519Z"
   },
   {
    "duration": 44,
    "start_time": "2023-05-10T18:23:48.183Z"
   },
   {
    "duration": 96,
    "start_time": "2023-05-10T18:23:48.927Z"
   },
   {
    "duration": 9,
    "start_time": "2023-05-10T18:23:49.831Z"
   },
   {
    "duration": 5,
    "start_time": "2023-05-10T18:23:50.459Z"
   },
   {
    "duration": 228,
    "start_time": "2023-05-10T18:23:50.904Z"
   },
   {
    "duration": 170,
    "start_time": "2023-05-10T18:23:51.345Z"
   },
   {
    "duration": 8,
    "start_time": "2023-05-10T18:23:51.842Z"
   },
   {
    "duration": 36676,
    "start_time": "2023-05-10T18:23:52.319Z"
   },
   {
    "duration": 552,
    "start_time": "2023-05-10T18:24:32.536Z"
   },
   {
    "duration": 93149,
    "start_time": "2023-05-10T18:27:58.827Z"
   },
   {
    "duration": 4,
    "start_time": "2023-05-10T18:29:33.041Z"
   },
   {
    "duration": 82,
    "start_time": "2023-05-10T18:29:33.048Z"
   },
   {
    "duration": 82,
    "start_time": "2023-05-10T18:29:33.132Z"
   },
   {
    "duration": 33,
    "start_time": "2023-05-10T18:29:33.215Z"
   },
   {
    "duration": 5,
    "start_time": "2023-05-10T18:29:33.251Z"
   },
   {
    "duration": 218,
    "start_time": "2023-05-10T18:29:33.260Z"
   },
   {
    "duration": 129,
    "start_time": "2023-05-10T18:29:33.480Z"
   },
   {
    "duration": 5,
    "start_time": "2023-05-10T18:29:33.611Z"
   },
   {
    "duration": 592560,
    "start_time": "2023-05-10T18:33:05.503Z"
   },
   {
    "duration": 546,
    "start_time": "2023-05-10T18:43:42.025Z"
   },
   {
    "duration": 1518,
    "start_time": "2023-05-10T18:46:26.378Z"
   },
   {
    "duration": 44,
    "start_time": "2023-05-10T18:46:27.897Z"
   },
   {
    "duration": 103,
    "start_time": "2023-05-10T18:46:27.943Z"
   },
   {
    "duration": 11,
    "start_time": "2023-05-10T18:46:28.056Z"
   },
   {
    "duration": 17,
    "start_time": "2023-05-10T18:46:28.069Z"
   },
   {
    "duration": 133,
    "start_time": "2023-05-10T18:46:28.088Z"
   },
   {
    "duration": 0,
    "start_time": "2023-05-10T18:46:28.223Z"
   },
   {
    "duration": 0,
    "start_time": "2023-05-10T18:46:28.224Z"
   },
   {
    "duration": 0,
    "start_time": "2023-05-10T18:46:28.225Z"
   },
   {
    "duration": 1,
    "start_time": "2023-05-10T18:46:28.226Z"
   },
   {
    "duration": 0,
    "start_time": "2023-05-10T18:46:28.227Z"
   },
   {
    "duration": 8,
    "start_time": "2023-05-10T18:46:52.861Z"
   },
   {
    "duration": 13,
    "start_time": "2023-05-10T18:46:58.115Z"
   },
   {
    "duration": 12,
    "start_time": "2023-05-10T18:46:58.964Z"
   },
   {
    "duration": 8,
    "start_time": "2023-05-10T18:47:02.064Z"
   },
   {
    "duration": 83,
    "start_time": "2023-05-10T18:47:04.663Z"
   },
   {
    "duration": 933,
    "start_time": "2023-05-10T18:50:12.417Z"
   },
   {
    "duration": 1083,
    "start_time": "2023-05-10T18:50:50.263Z"
   },
   {
    "duration": 518,
    "start_time": "2023-05-10T18:51:07.059Z"
   },
   {
    "duration": 1859,
    "start_time": "2023-05-10T18:52:55.021Z"
   },
   {
    "duration": 1807,
    "start_time": "2023-05-10T18:53:09.939Z"
   },
   {
    "duration": 1842,
    "start_time": "2023-05-10T18:53:31.559Z"
   },
   {
    "duration": 7758,
    "start_time": "2023-05-10T18:53:45.964Z"
   },
   {
    "duration": 3664,
    "start_time": "2023-05-10T18:54:30.936Z"
   },
   {
    "duration": 3946,
    "start_time": "2023-05-10T18:55:07.187Z"
   },
   {
    "duration": 1497,
    "start_time": "2023-05-10T18:56:43.573Z"
   },
   {
    "duration": 47,
    "start_time": "2023-05-10T18:56:45.072Z"
   },
   {
    "duration": 105,
    "start_time": "2023-05-10T18:56:45.121Z"
   },
   {
    "duration": 37,
    "start_time": "2023-05-10T18:56:45.228Z"
   },
   {
    "duration": 20,
    "start_time": "2023-05-10T18:56:45.268Z"
   },
   {
    "duration": 30,
    "start_time": "2023-05-10T18:56:45.290Z"
   },
   {
    "duration": 26,
    "start_time": "2023-05-10T18:56:45.322Z"
   },
   {
    "duration": 48,
    "start_time": "2023-05-10T18:56:45.350Z"
   },
   {
    "duration": 32,
    "start_time": "2023-05-10T18:56:45.401Z"
   },
   {
    "duration": 1232,
    "start_time": "2023-05-10T18:56:45.435Z"
   },
   {
    "duration": 3946,
    "start_time": "2023-05-10T18:56:46.669Z"
   },
   {
    "duration": 20440,
    "start_time": "2023-05-10T18:56:50.616Z"
   },
   {
    "duration": 236891,
    "start_time": "2023-05-10T19:01:22.361Z"
   },
   {
    "duration": 232537,
    "start_time": "2023-05-10T19:08:30.238Z"
   },
   {
    "duration": 1317,
    "start_time": "2023-05-10T19:16:46.570Z"
   },
   {
    "duration": 43,
    "start_time": "2023-05-10T19:16:47.890Z"
   },
   {
    "duration": 87,
    "start_time": "2023-05-10T19:16:47.935Z"
   },
   {
    "duration": 25,
    "start_time": "2023-05-10T19:16:48.023Z"
   },
   {
    "duration": 4,
    "start_time": "2023-05-10T19:16:48.051Z"
   },
   {
    "duration": 12,
    "start_time": "2023-05-10T19:16:48.057Z"
   },
   {
    "duration": 15,
    "start_time": "2023-05-10T19:16:48.070Z"
   },
   {
    "duration": 14,
    "start_time": "2023-05-10T19:16:48.087Z"
   },
   {
    "duration": 9,
    "start_time": "2023-05-10T19:16:48.103Z"
   },
   {
    "duration": 833,
    "start_time": "2023-05-10T19:16:48.114Z"
   },
   {
    "duration": 1712,
    "start_time": "2023-05-10T19:16:48.950Z"
   },
   {
    "duration": 59495,
    "start_time": "2023-05-10T19:16:50.663Z"
   },
   {
    "duration": 69,
    "start_time": "2023-05-10T21:15:46.346Z"
   },
   {
    "duration": 1697,
    "start_time": "2023-05-10T21:15:49.844Z"
   },
   {
    "duration": 56,
    "start_time": "2023-05-10T21:15:51.543Z"
   },
   {
    "duration": 91,
    "start_time": "2023-05-10T21:15:51.601Z"
   },
   {
    "duration": 8,
    "start_time": "2023-05-10T21:15:51.694Z"
   },
   {
    "duration": 15,
    "start_time": "2023-05-10T21:15:51.704Z"
   },
   {
    "duration": 32,
    "start_time": "2023-05-10T21:15:51.721Z"
   },
   {
    "duration": 46,
    "start_time": "2023-05-10T21:15:51.755Z"
   },
   {
    "duration": 57,
    "start_time": "2023-05-10T21:15:51.803Z"
   },
   {
    "duration": 48,
    "start_time": "2023-05-10T21:15:51.862Z"
   },
   {
    "duration": 1038,
    "start_time": "2023-05-10T21:15:51.911Z"
   },
   {
    "duration": 1879,
    "start_time": "2023-05-10T21:15:52.952Z"
   },
   {
    "duration": 47247,
    "start_time": "2023-05-10T21:15:54.833Z"
   },
   {
    "duration": 758,
    "start_time": "2023-05-10T21:16:42.082Z"
   },
   {
    "duration": 5,
    "start_time": "2023-05-10T21:18:28.436Z"
   },
   {
    "duration": 73,
    "start_time": "2023-05-10T21:18:28.443Z"
   },
   {
    "duration": 85,
    "start_time": "2023-05-10T21:18:28.518Z"
   },
   {
    "duration": 8,
    "start_time": "2023-05-10T21:18:28.605Z"
   },
   {
    "duration": 5,
    "start_time": "2023-05-10T21:18:28.616Z"
   },
   {
    "duration": 48,
    "start_time": "2023-05-10T21:18:28.623Z"
   },
   {
    "duration": 26,
    "start_time": "2023-05-10T21:18:28.672Z"
   },
   {
    "duration": 21,
    "start_time": "2023-05-10T21:18:28.700Z"
   },
   {
    "duration": 23,
    "start_time": "2023-05-10T21:18:28.722Z"
   },
   {
    "duration": 98,
    "start_time": "2023-05-10T21:18:28.747Z"
   },
   {
    "duration": 1730,
    "start_time": "2023-05-10T21:18:28.847Z"
   },
   {
    "duration": 63745,
    "start_time": "2023-05-10T21:18:30.579Z"
   },
   {
    "duration": 687,
    "start_time": "2023-05-10T21:19:34.326Z"
   },
   {
    "duration": 571,
    "start_time": "2023-05-10T21:26:55.690Z"
   },
   {
    "duration": 662,
    "start_time": "2023-05-10T22:39:33.470Z"
   },
   {
    "duration": 594,
    "start_time": "2023-05-10T22:39:54.228Z"
   },
   {
    "duration": 565,
    "start_time": "2023-05-10T22:40:07.744Z"
   },
   {
    "duration": 594,
    "start_time": "2023-05-10T22:40:20.720Z"
   },
   {
    "duration": 610,
    "start_time": "2023-05-10T22:40:30.272Z"
   },
   {
    "duration": 721,
    "start_time": "2023-05-10T22:47:03.518Z"
   },
   {
    "duration": 805,
    "start_time": "2023-05-10T22:47:13.039Z"
   },
   {
    "duration": 621,
    "start_time": "2023-05-10T22:47:35.597Z"
   },
   {
    "duration": 590,
    "start_time": "2023-05-10T22:47:50.630Z"
   },
   {
    "duration": 754,
    "start_time": "2023-05-10T22:48:01.225Z"
   },
   {
    "duration": 753,
    "start_time": "2023-05-10T22:49:18.542Z"
   },
   {
    "duration": 709,
    "start_time": "2023-05-10T22:49:36.729Z"
   },
   {
    "duration": 593,
    "start_time": "2023-05-10T22:56:48.077Z"
   },
   {
    "duration": 599,
    "start_time": "2023-05-10T22:57:40.466Z"
   },
   {
    "duration": 557,
    "start_time": "2023-05-10T23:00:35.075Z"
   },
   {
    "duration": 533,
    "start_time": "2023-05-10T23:01:09.582Z"
   },
   {
    "duration": 698,
    "start_time": "2023-05-10T23:02:20.471Z"
   },
   {
    "duration": 25,
    "start_time": "2023-05-10T23:10:27.779Z"
   },
   {
    "duration": 17,
    "start_time": "2023-05-10T23:10:38.697Z"
   },
   {
    "duration": 15,
    "start_time": "2023-05-10T23:13:39.390Z"
   },
   {
    "duration": 18,
    "start_time": "2023-05-10T23:14:17.512Z"
   },
   {
    "duration": 21,
    "start_time": "2023-05-10T23:15:23.669Z"
   },
   {
    "duration": 18,
    "start_time": "2023-05-10T23:17:35.381Z"
   },
   {
    "duration": 24,
    "start_time": "2023-05-10T23:17:41.064Z"
   },
   {
    "duration": 20,
    "start_time": "2023-05-10T23:17:48.717Z"
   },
   {
    "duration": 14,
    "start_time": "2023-05-10T23:17:55.797Z"
   },
   {
    "duration": 26,
    "start_time": "2023-05-10T23:19:06.540Z"
   },
   {
    "duration": 16,
    "start_time": "2023-05-10T23:19:12.094Z"
   },
   {
    "duration": 17,
    "start_time": "2023-05-11T00:13:41.779Z"
   },
   {
    "duration": 16,
    "start_time": "2023-05-11T00:13:49.768Z"
   },
   {
    "duration": 13,
    "start_time": "2023-05-11T00:17:46.387Z"
   },
   {
    "duration": 14,
    "start_time": "2023-05-11T00:17:52.869Z"
   },
   {
    "duration": 13,
    "start_time": "2023-05-11T00:17:58.123Z"
   },
   {
    "duration": 14,
    "start_time": "2023-05-11T00:18:04.099Z"
   },
   {
    "duration": 14,
    "start_time": "2023-05-11T00:18:09.212Z"
   },
   {
    "duration": 14,
    "start_time": "2023-05-11T00:18:13.996Z"
   },
   {
    "duration": 14,
    "start_time": "2023-05-11T00:18:20.179Z"
   },
   {
    "duration": 15,
    "start_time": "2023-05-11T00:18:26.436Z"
   },
   {
    "duration": 16,
    "start_time": "2023-05-11T00:18:35.739Z"
   },
   {
    "duration": 13,
    "start_time": "2023-05-11T00:18:40.275Z"
   },
   {
    "duration": 15,
    "start_time": "2023-05-11T00:18:45.211Z"
   },
   {
    "duration": 13,
    "start_time": "2023-05-11T00:18:58.908Z"
   },
   {
    "duration": 14,
    "start_time": "2023-05-11T00:19:04.428Z"
   },
   {
    "duration": 13,
    "start_time": "2023-05-11T00:19:09.492Z"
   },
   {
    "duration": 13,
    "start_time": "2023-05-11T00:19:20.571Z"
   },
   {
    "duration": 750,
    "start_time": "2023-05-11T00:25:19.730Z"
   },
   {
    "duration": 735,
    "start_time": "2023-05-11T00:25:49.998Z"
   },
   {
    "duration": 29,
    "start_time": "2023-05-11T00:27:33.579Z"
   },
   {
    "duration": 13,
    "start_time": "2023-05-11T00:30:38.696Z"
   },
   {
    "duration": 721,
    "start_time": "2023-05-11T00:32:14.163Z"
   },
   {
    "duration": 1481,
    "start_time": "2023-05-11T00:32:39.773Z"
   },
   {
    "duration": 53,
    "start_time": "2023-05-11T00:32:41.256Z"
   },
   {
    "duration": 87,
    "start_time": "2023-05-11T00:32:41.311Z"
   },
   {
    "duration": 8,
    "start_time": "2023-05-11T00:32:41.400Z"
   },
   {
    "duration": 20,
    "start_time": "2023-05-11T00:32:41.410Z"
   },
   {
    "duration": 51,
    "start_time": "2023-05-11T00:32:41.432Z"
   },
   {
    "duration": 32,
    "start_time": "2023-05-11T00:32:41.484Z"
   },
   {
    "duration": 55,
    "start_time": "2023-05-11T00:32:41.518Z"
   },
   {
    "duration": 42,
    "start_time": "2023-05-11T00:32:41.574Z"
   },
   {
    "duration": 65,
    "start_time": "2023-05-11T00:32:41.617Z"
   },
   {
    "duration": 1871,
    "start_time": "2023-05-11T00:32:41.752Z"
   },
   {
    "duration": 64004,
    "start_time": "2023-05-11T00:32:43.625Z"
   },
   {
    "duration": 725,
    "start_time": "2023-05-11T00:33:47.630Z"
   },
   {
    "duration": 638,
    "start_time": "2023-05-11T00:33:48.358Z"
   },
   {
    "duration": 13,
    "start_time": "2023-05-11T00:33:48.998Z"
   },
   {
    "duration": 15,
    "start_time": "2023-05-11T00:33:49.013Z"
   },
   {
    "duration": 745,
    "start_time": "2023-05-11T00:33:49.030Z"
   },
   {
    "duration": 701,
    "start_time": "2023-05-11T00:33:49.777Z"
   },
   {
    "duration": 468,
    "start_time": "2023-05-11T00:34:31.033Z"
   },
   {
    "duration": 946,
    "start_time": "2023-05-11T00:36:15.604Z"
   },
   {
    "duration": 4,
    "start_time": "2023-05-11T00:36:23.884Z"
   },
   {
    "duration": 108,
    "start_time": "2023-05-11T00:36:23.890Z"
   },
   {
    "duration": 89,
    "start_time": "2023-05-11T00:36:24.000Z"
   },
   {
    "duration": 11,
    "start_time": "2023-05-11T00:36:24.092Z"
   },
   {
    "duration": 19,
    "start_time": "2023-05-11T00:36:24.106Z"
   },
   {
    "duration": 14,
    "start_time": "2023-05-11T00:36:24.127Z"
   },
   {
    "duration": 40,
    "start_time": "2023-05-11T00:36:24.143Z"
   },
   {
    "duration": 41,
    "start_time": "2023-05-11T00:36:24.185Z"
   },
   {
    "duration": 15,
    "start_time": "2023-05-11T00:36:24.228Z"
   },
   {
    "duration": 130,
    "start_time": "2023-05-11T00:36:24.245Z"
   },
   {
    "duration": 1861,
    "start_time": "2023-05-11T00:36:24.379Z"
   },
   {
    "duration": 64415,
    "start_time": "2023-05-11T00:36:26.246Z"
   },
   {
    "duration": 693,
    "start_time": "2023-05-11T00:37:30.665Z"
   },
   {
    "duration": 597,
    "start_time": "2023-05-11T00:37:31.362Z"
   },
   {
    "duration": 21,
    "start_time": "2023-05-11T00:37:31.961Z"
   },
   {
    "duration": 899,
    "start_time": "2023-05-11T00:37:31.984Z"
   },
   {
    "duration": 13,
    "start_time": "2023-05-11T00:37:32.885Z"
   },
   {
    "duration": 443,
    "start_time": "2023-05-11T00:37:32.899Z"
   },
   {
    "duration": 676,
    "start_time": "2023-05-11T00:37:33.345Z"
   },
   {
    "duration": 16,
    "start_time": "2023-05-11T00:40:38.228Z"
   },
   {
    "duration": 1237,
    "start_time": "2023-05-11T00:40:39.496Z"
   },
   {
    "duration": 17,
    "start_time": "2023-05-11T00:41:54.006Z"
   },
   {
    "duration": 1212,
    "start_time": "2023-05-11T00:42:00.172Z"
   },
   {
    "duration": 12,
    "start_time": "2023-05-11T00:43:28.933Z"
   },
   {
    "duration": 399,
    "start_time": "2023-05-11T00:43:38.941Z"
   },
   {
    "duration": 1774,
    "start_time": "2023-05-11T10:14:00.631Z"
   },
   {
    "duration": 78,
    "start_time": "2023-05-11T10:14:02.412Z"
   },
   {
    "duration": 89,
    "start_time": "2023-05-11T10:14:02.492Z"
   },
   {
    "duration": 14,
    "start_time": "2023-05-11T10:14:02.601Z"
   },
   {
    "duration": 3,
    "start_time": "2023-05-11T10:14:02.618Z"
   },
   {
    "duration": 18,
    "start_time": "2023-05-11T10:14:02.623Z"
   },
   {
    "duration": 12,
    "start_time": "2023-05-11T10:14:02.643Z"
   },
   {
    "duration": 12,
    "start_time": "2023-05-11T10:14:02.656Z"
   },
   {
    "duration": 8,
    "start_time": "2023-05-11T10:14:02.670Z"
   },
   {
    "duration": 115,
    "start_time": "2023-05-11T10:14:02.680Z"
   },
   {
    "duration": 1684,
    "start_time": "2023-05-11T10:14:02.796Z"
   },
   {
    "duration": 58447,
    "start_time": "2023-05-11T10:14:04.482Z"
   },
   {
    "duration": 669,
    "start_time": "2023-05-11T10:15:02.933Z"
   },
   {
    "duration": 667,
    "start_time": "2023-05-11T10:15:03.605Z"
   },
   {
    "duration": 28,
    "start_time": "2023-05-11T10:15:04.274Z"
   },
   {
    "duration": 894,
    "start_time": "2023-05-11T10:15:04.306Z"
   },
   {
    "duration": 15,
    "start_time": "2023-05-11T10:15:05.207Z"
   },
   {
    "duration": 351,
    "start_time": "2023-05-11T10:15:05.224Z"
   },
   {
    "duration": 671,
    "start_time": "2023-05-11T10:15:05.577Z"
   },
   {
    "duration": 171,
    "start_time": "2023-05-11T10:19:21.411Z"
   },
   {
    "duration": 15,
    "start_time": "2023-05-11T10:19:30.140Z"
   },
   {
    "duration": 61,
    "start_time": "2023-05-11T10:19:43.613Z"
   },
   {
    "duration": 16,
    "start_time": "2023-05-11T10:19:48.755Z"
   },
   {
    "duration": 18,
    "start_time": "2023-05-11T10:19:54.030Z"
   },
   {
    "duration": 22,
    "start_time": "2023-05-11T10:21:04.156Z"
   },
   {
    "duration": 18,
    "start_time": "2023-05-11T10:21:12.557Z"
   },
   {
    "duration": 15,
    "start_time": "2023-05-11T10:21:18.061Z"
   },
   {
    "duration": 22,
    "start_time": "2023-05-11T10:22:30.812Z"
   },
   {
    "duration": 14,
    "start_time": "2023-05-11T10:22:36.942Z"
   },
   {
    "duration": 452,
    "start_time": "2023-05-11T10:23:47.777Z"
   },
   {
    "duration": 702,
    "start_time": "2023-05-11T10:23:59.848Z"
   },
   {
    "duration": 859,
    "start_time": "2023-05-11T10:24:40.546Z"
   },
   {
    "duration": 61,
    "start_time": "2023-05-11T10:26:50.396Z"
   },
   {
    "duration": 843,
    "start_time": "2023-05-11T10:27:10.784Z"
   },
   {
    "duration": 829,
    "start_time": "2023-05-11T10:27:52.107Z"
   },
   {
    "duration": 1562,
    "start_time": "2023-05-11T10:30:54.904Z"
   },
   {
    "duration": 58745,
    "start_time": "2023-05-11T10:31:33.510Z"
   },
   {
    "duration": 65749,
    "start_time": "2023-05-11T10:37:26.621Z"
   },
   {
    "duration": 1952,
    "start_time": "2023-05-11T10:39:59.891Z"
   },
   {
    "duration": 1857,
    "start_time": "2023-05-11T10:40:20.699Z"
   },
   {
    "duration": 989,
    "start_time": "2023-05-11T10:46:06.138Z"
   },
   {
    "duration": 7,
    "start_time": "2023-05-11T13:24:23.637Z"
   },
   {
    "duration": 72,
    "start_time": "2023-05-11T13:24:23.647Z"
   },
   {
    "duration": 115,
    "start_time": "2023-05-11T13:24:23.722Z"
   },
   {
    "duration": 14,
    "start_time": "2023-05-11T13:24:23.839Z"
   },
   {
    "duration": 7,
    "start_time": "2023-05-11T13:24:23.855Z"
   },
   {
    "duration": 19,
    "start_time": "2023-05-11T13:24:23.863Z"
   },
   {
    "duration": 15,
    "start_time": "2023-05-11T13:24:23.887Z"
   },
   {
    "duration": 18,
    "start_time": "2023-05-11T13:24:23.904Z"
   },
   {
    "duration": 7,
    "start_time": "2023-05-11T13:24:23.925Z"
   },
   {
    "duration": 1434,
    "start_time": "2023-05-11T13:24:23.935Z"
   },
   {
    "duration": 1726,
    "start_time": "2023-05-11T13:24:25.376Z"
   },
   {
    "duration": 60204,
    "start_time": "2023-05-11T13:24:27.104Z"
   },
   {
    "duration": 614,
    "start_time": "2023-05-11T13:25:27.309Z"
   },
   {
    "duration": 662,
    "start_time": "2023-05-11T13:25:27.926Z"
   },
   {
    "duration": 14,
    "start_time": "2023-05-11T13:25:28.594Z"
   },
   {
    "duration": 836,
    "start_time": "2023-05-11T13:25:28.609Z"
   },
   {
    "duration": 22,
    "start_time": "2023-05-11T13:25:29.453Z"
   },
   {
    "duration": 427,
    "start_time": "2023-05-11T13:25:29.476Z"
   },
   {
    "duration": 691,
    "start_time": "2023-05-11T13:25:29.905Z"
   },
   {
    "duration": 1629,
    "start_time": "2023-05-11T13:32:00.147Z"
   },
   {
    "duration": 1745,
    "start_time": "2023-05-11T15:40:08.962Z"
   },
   {
    "duration": 37,
    "start_time": "2023-05-11T15:40:10.709Z"
   },
   {
    "duration": 113,
    "start_time": "2023-05-11T15:40:10.748Z"
   },
   {
    "duration": 14,
    "start_time": "2023-05-11T15:40:10.865Z"
   },
   {
    "duration": 5,
    "start_time": "2023-05-11T15:40:10.882Z"
   },
   {
    "duration": 7,
    "start_time": "2023-05-11T15:40:10.888Z"
   },
   {
    "duration": 16,
    "start_time": "2023-05-11T15:40:10.897Z"
   },
   {
    "duration": 33,
    "start_time": "2023-05-11T15:40:10.915Z"
   },
   {
    "duration": 14,
    "start_time": "2023-05-11T15:40:10.950Z"
   },
   {
    "duration": 400,
    "start_time": "2023-05-11T15:40:10.966Z"
   },
   {
    "duration": 1717,
    "start_time": "2023-05-11T15:40:11.370Z"
   },
   {
    "duration": 60199,
    "start_time": "2023-05-11T15:40:13.088Z"
   },
   {
    "duration": 552,
    "start_time": "2023-05-11T15:41:13.288Z"
   },
   {
    "duration": 15,
    "start_time": "2023-05-11T15:41:13.842Z"
   },
   {
    "duration": 902,
    "start_time": "2023-05-11T15:41:13.859Z"
   },
   {
    "duration": 19,
    "start_time": "2023-05-11T15:41:14.763Z"
   },
   {
    "duration": 417,
    "start_time": "2023-05-11T15:41:14.784Z"
   },
   {
    "duration": 679,
    "start_time": "2023-05-11T15:41:15.203Z"
   },
   {
    "duration": 5,
    "start_time": "2023-05-11T16:14:36.886Z"
   },
   {
    "duration": 45,
    "start_time": "2023-05-11T16:14:36.894Z"
   },
   {
    "duration": 79,
    "start_time": "2023-05-11T16:14:36.941Z"
   },
   {
    "duration": 9,
    "start_time": "2023-05-11T16:14:37.022Z"
   },
   {
    "duration": 33,
    "start_time": "2023-05-11T16:14:37.033Z"
   },
   {
    "duration": 5,
    "start_time": "2023-05-11T16:14:37.069Z"
   },
   {
    "duration": 16,
    "start_time": "2023-05-11T16:14:37.076Z"
   },
   {
    "duration": 19,
    "start_time": "2023-05-11T16:14:37.094Z"
   },
   {
    "duration": 7,
    "start_time": "2023-05-11T16:14:37.115Z"
   },
   {
    "duration": 2531,
    "start_time": "2023-05-11T16:14:37.124Z"
   },
   {
    "duration": 1652,
    "start_time": "2023-05-11T16:14:39.658Z"
   },
   {
    "duration": 58841,
    "start_time": "2023-05-11T16:14:41.312Z"
   },
   {
    "duration": 560,
    "start_time": "2023-05-11T16:15:40.155Z"
   },
   {
    "duration": 15,
    "start_time": "2023-05-11T16:15:40.717Z"
   },
   {
    "duration": 889,
    "start_time": "2023-05-11T16:15:40.734Z"
   },
   {
    "duration": 13,
    "start_time": "2023-05-11T16:15:41.625Z"
   },
   {
    "duration": 409,
    "start_time": "2023-05-11T16:15:41.653Z"
   },
   {
    "duration": 702,
    "start_time": "2023-05-11T16:15:42.068Z"
   },
   {
    "duration": 60,
    "start_time": "2023-05-11T17:28:55.888Z"
   },
   {
    "duration": 556,
    "start_time": "2023-05-11T17:29:07.078Z"
   },
   {
    "duration": 294,
    "start_time": "2023-05-11T19:53:50.484Z"
   },
   {
    "duration": 830,
    "start_time": "2023-05-11T19:55:02.114Z"
   },
   {
    "duration": 1440,
    "start_time": "2023-05-11T20:04:14.873Z"
   },
   {
    "duration": 46,
    "start_time": "2023-05-11T20:04:16.316Z"
   },
   {
    "duration": 108,
    "start_time": "2023-05-11T20:04:16.364Z"
   },
   {
    "duration": 20,
    "start_time": "2023-05-11T20:04:16.479Z"
   },
   {
    "duration": 5,
    "start_time": "2023-05-11T20:04:16.501Z"
   },
   {
    "duration": 6,
    "start_time": "2023-05-11T20:04:16.508Z"
   },
   {
    "duration": 15,
    "start_time": "2023-05-11T20:04:16.516Z"
   },
   {
    "duration": 24,
    "start_time": "2023-05-11T20:04:16.533Z"
   },
   {
    "duration": 6,
    "start_time": "2023-05-11T20:04:16.559Z"
   },
   {
    "duration": 1804,
    "start_time": "2023-05-11T20:04:16.568Z"
   },
   {
    "duration": 1630,
    "start_time": "2023-05-11T20:04:18.374Z"
   },
   {
    "duration": 58137,
    "start_time": "2023-05-11T20:04:20.006Z"
   },
   {
    "duration": 587,
    "start_time": "2023-05-11T20:05:18.145Z"
   },
   {
    "duration": 15,
    "start_time": "2023-05-11T20:05:18.733Z"
   },
   {
    "duration": 343,
    "start_time": "2023-05-11T20:05:18.749Z"
   },
   {
    "duration": 12,
    "start_time": "2023-05-11T20:05:19.094Z"
   },
   {
    "duration": 214,
    "start_time": "2023-05-11T20:05:19.108Z"
   },
   {
    "duration": 312,
    "start_time": "2023-05-11T20:05:19.324Z"
   },
   {
    "duration": 567,
    "start_time": "2023-05-11T20:05:19.637Z"
   },
   {
    "duration": 410,
    "start_time": "2023-05-11T20:05:20.206Z"
   },
   {
    "duration": 400,
    "start_time": "2023-05-11T20:09:40.491Z"
   },
   {
    "duration": 718,
    "start_time": "2023-05-11T20:14:21.006Z"
   },
   {
    "duration": 686,
    "start_time": "2023-05-11T20:16:17.238Z"
   },
   {
    "duration": 1928,
    "start_time": "2023-05-12T09:53:04.914Z"
   },
   {
    "duration": 186,
    "start_time": "2023-05-12T09:53:06.845Z"
   },
   {
    "duration": 115,
    "start_time": "2023-05-12T09:53:07.034Z"
   },
   {
    "duration": 13,
    "start_time": "2023-05-12T09:53:07.152Z"
   },
   {
    "duration": 5,
    "start_time": "2023-05-12T09:53:07.167Z"
   },
   {
    "duration": 45,
    "start_time": "2023-05-12T09:53:07.174Z"
   },
   {
    "duration": 32,
    "start_time": "2023-05-12T09:53:07.221Z"
   },
   {
    "duration": 20,
    "start_time": "2023-05-12T09:53:07.255Z"
   },
   {
    "duration": 12,
    "start_time": "2023-05-12T09:53:07.278Z"
   },
   {
    "duration": 513,
    "start_time": "2023-05-12T09:53:07.294Z"
   },
   {
    "duration": 1925,
    "start_time": "2023-05-12T09:53:07.809Z"
   },
   {
    "duration": 61886,
    "start_time": "2023-05-12T09:53:09.736Z"
   },
   {
    "duration": 589,
    "start_time": "2023-05-12T09:54:11.624Z"
   },
   {
    "duration": 16,
    "start_time": "2023-05-12T09:54:12.216Z"
   },
   {
    "duration": 440,
    "start_time": "2023-05-12T09:54:12.234Z"
   },
   {
    "duration": 22,
    "start_time": "2023-05-12T09:54:12.676Z"
   },
   {
    "duration": 268,
    "start_time": "2023-05-12T09:54:12.700Z"
   },
   {
    "duration": 362,
    "start_time": "2023-05-12T09:54:12.971Z"
   },
   {
    "duration": 645,
    "start_time": "2023-05-12T09:54:13.335Z"
   },
   {
    "duration": 385,
    "start_time": "2023-05-12T09:54:13.982Z"
   },
   {
    "duration": 758,
    "start_time": "2023-05-12T09:54:14.369Z"
   },
   {
    "duration": 3,
    "start_time": "2023-05-12T11:21:02.518Z"
   },
   {
    "duration": 86,
    "start_time": "2023-05-12T11:21:02.523Z"
   },
   {
    "duration": 89,
    "start_time": "2023-05-12T11:21:02.611Z"
   },
   {
    "duration": 10,
    "start_time": "2023-05-12T11:21:02.702Z"
   },
   {
    "duration": 14,
    "start_time": "2023-05-12T11:21:02.715Z"
   },
   {
    "duration": 26,
    "start_time": "2023-05-12T11:21:02.730Z"
   },
   {
    "duration": 29,
    "start_time": "2023-05-12T11:21:02.758Z"
   },
   {
    "duration": 22,
    "start_time": "2023-05-12T11:21:02.788Z"
   },
   {
    "duration": 20,
    "start_time": "2023-05-12T11:21:02.812Z"
   },
   {
    "duration": 766,
    "start_time": "2023-05-12T11:21:02.834Z"
   },
   {
    "duration": 1766,
    "start_time": "2023-05-12T11:21:03.603Z"
   },
   {
    "duration": 60679,
    "start_time": "2023-05-12T11:21:05.371Z"
   },
   {
    "duration": 634,
    "start_time": "2023-05-12T11:22:06.052Z"
   },
   {
    "duration": 20,
    "start_time": "2023-05-12T11:22:06.701Z"
   },
   {
    "duration": 452,
    "start_time": "2023-05-12T11:22:06.724Z"
   },
   {
    "duration": 28,
    "start_time": "2023-05-12T11:22:07.178Z"
   },
   {
    "duration": 257,
    "start_time": "2023-05-12T11:22:07.208Z"
   },
   {
    "duration": 375,
    "start_time": "2023-05-12T11:22:07.467Z"
   },
   {
    "duration": 624,
    "start_time": "2023-05-12T11:22:07.844Z"
   },
   {
    "duration": 405,
    "start_time": "2023-05-12T11:22:08.470Z"
   },
   {
    "duration": 652,
    "start_time": "2023-05-12T11:22:08.877Z"
   },
   {
    "duration": 714,
    "start_time": "2023-05-12T11:30:18.887Z"
   },
   {
    "duration": 630,
    "start_time": "2023-05-12T11:31:22.976Z"
   },
   {
    "duration": 701,
    "start_time": "2023-05-12T11:32:22.510Z"
   },
   {
    "duration": 1094,
    "start_time": "2023-05-12T11:36:25.719Z"
   },
   {
    "duration": 1496,
    "start_time": "2023-05-12T11:37:23.613Z"
   },
   {
    "duration": 636,
    "start_time": "2023-05-12T11:37:42.561Z"
   },
   {
    "duration": 4,
    "start_time": "2023-05-12T11:41:32.143Z"
   },
   {
    "duration": 69,
    "start_time": "2023-05-12T11:41:32.149Z"
   },
   {
    "duration": 87,
    "start_time": "2023-05-12T11:41:32.220Z"
   },
   {
    "duration": 8,
    "start_time": "2023-05-12T11:41:32.309Z"
   },
   {
    "duration": 21,
    "start_time": "2023-05-12T11:41:32.318Z"
   },
   {
    "duration": 26,
    "start_time": "2023-05-12T11:41:32.341Z"
   },
   {
    "duration": 37,
    "start_time": "2023-05-12T11:41:32.369Z"
   },
   {
    "duration": 32,
    "start_time": "2023-05-12T11:41:32.408Z"
   },
   {
    "duration": 30,
    "start_time": "2023-05-12T11:41:32.442Z"
   },
   {
    "duration": 825,
    "start_time": "2023-05-12T11:41:32.475Z"
   },
   {
    "duration": 1792,
    "start_time": "2023-05-12T11:41:33.302Z"
   },
   {
    "duration": 59262,
    "start_time": "2023-05-12T11:41:35.096Z"
   },
   {
    "duration": 567,
    "start_time": "2023-05-12T11:42:34.360Z"
   },
   {
    "duration": 13,
    "start_time": "2023-05-12T11:42:34.929Z"
   },
   {
    "duration": 433,
    "start_time": "2023-05-12T11:42:34.944Z"
   },
   {
    "duration": 27,
    "start_time": "2023-05-12T11:42:35.378Z"
   },
   {
    "duration": 257,
    "start_time": "2023-05-12T11:42:35.407Z"
   },
   {
    "duration": 377,
    "start_time": "2023-05-12T11:42:35.666Z"
   },
   {
    "duration": 654,
    "start_time": "2023-05-12T11:42:36.045Z"
   },
   {
    "duration": 406,
    "start_time": "2023-05-12T11:42:36.701Z"
   },
   {
    "duration": 581,
    "start_time": "2023-05-12T11:42:37.109Z"
   },
   {
    "duration": 706,
    "start_time": "2023-05-12T11:42:37.692Z"
   },
   {
    "duration": 884,
    "start_time": "2023-05-12T11:42:40.920Z"
   },
   {
    "duration": 649,
    "start_time": "2023-05-12T11:43:28.953Z"
   },
   {
    "duration": 1676,
    "start_time": "2023-05-12T11:45:53.998Z"
   },
   {
    "duration": 4,
    "start_time": "2023-05-12T11:46:01.706Z"
   },
   {
    "duration": 1614,
    "start_time": "2023-05-12T11:46:13.098Z"
   },
   {
    "duration": 1644,
    "start_time": "2023-05-12T11:46:39.309Z"
   },
   {
    "duration": 6399,
    "start_time": "2023-05-12T11:47:27.677Z"
   },
   {
    "duration": 61274,
    "start_time": "2023-05-12T11:47:44.048Z"
   },
   {
    "duration": 600,
    "start_time": "2023-05-12T11:53:30.578Z"
   },
   {
    "duration": 541,
    "start_time": "2023-05-12T11:53:50.004Z"
   },
   {
    "duration": 668,
    "start_time": "2023-05-12T11:54:28.611Z"
   },
   {
    "duration": 649,
    "start_time": "2023-05-12T11:54:43.434Z"
   },
   {
    "duration": 4,
    "start_time": "2023-05-12T13:39:44.333Z"
   },
   {
    "duration": 45,
    "start_time": "2023-05-12T13:39:44.340Z"
   },
   {
    "duration": 81,
    "start_time": "2023-05-12T13:39:44.387Z"
   },
   {
    "duration": 32,
    "start_time": "2023-05-12T13:39:44.470Z"
   },
   {
    "duration": 3,
    "start_time": "2023-05-12T13:39:44.505Z"
   },
   {
    "duration": 9,
    "start_time": "2023-05-12T13:39:44.510Z"
   },
   {
    "duration": 14,
    "start_time": "2023-05-12T13:39:44.521Z"
   },
   {
    "duration": 21,
    "start_time": "2023-05-12T13:39:44.536Z"
   },
   {
    "duration": 18,
    "start_time": "2023-05-12T13:39:44.559Z"
   },
   {
    "duration": 820,
    "start_time": "2023-05-12T13:39:44.578Z"
   },
   {
    "duration": 1618,
    "start_time": "2023-05-12T13:39:45.403Z"
   },
   {
    "duration": 57175,
    "start_time": "2023-05-12T13:39:47.023Z"
   },
   {
    "duration": 967,
    "start_time": "2023-05-12T13:40:44.200Z"
   },
   {
    "duration": 38,
    "start_time": "2023-05-12T13:40:45.170Z"
   },
   {
    "duration": 365,
    "start_time": "2023-05-12T13:40:45.210Z"
   },
   {
    "duration": 26,
    "start_time": "2023-05-12T13:40:45.577Z"
   },
   {
    "duration": 249,
    "start_time": "2023-05-12T13:40:45.605Z"
   },
   {
    "duration": 371,
    "start_time": "2023-05-12T13:40:45.856Z"
   },
   {
    "duration": 561,
    "start_time": "2023-05-12T13:40:46.229Z"
   },
   {
    "duration": 397,
    "start_time": "2023-05-12T13:40:46.796Z"
   },
   {
    "duration": 612,
    "start_time": "2023-05-12T13:40:47.196Z"
   },
   {
    "duration": 1327,
    "start_time": "2023-05-12T13:56:17.610Z"
   },
   {
    "duration": 41,
    "start_time": "2023-05-12T13:56:18.939Z"
   },
   {
    "duration": 81,
    "start_time": "2023-05-12T13:56:18.982Z"
   },
   {
    "duration": 7,
    "start_time": "2023-05-12T13:56:19.065Z"
   },
   {
    "duration": 7,
    "start_time": "2023-05-12T13:56:19.074Z"
   },
   {
    "duration": 16,
    "start_time": "2023-05-12T13:56:19.082Z"
   },
   {
    "duration": 16,
    "start_time": "2023-05-12T13:56:19.100Z"
   },
   {
    "duration": 12,
    "start_time": "2023-05-12T13:56:19.118Z"
   },
   {
    "duration": 6,
    "start_time": "2023-05-12T13:56:19.132Z"
   },
   {
    "duration": 2773,
    "start_time": "2023-05-12T13:56:19.140Z"
   },
   {
    "duration": 1646,
    "start_time": "2023-05-12T13:56:21.998Z"
   },
   {
    "duration": 58959,
    "start_time": "2023-05-12T13:56:23.646Z"
   },
   {
    "duration": 594,
    "start_time": "2023-05-12T13:57:22.607Z"
   },
   {
    "duration": 19,
    "start_time": "2023-05-12T13:57:23.204Z"
   },
   {
    "duration": 431,
    "start_time": "2023-05-12T13:57:23.225Z"
   },
   {
    "duration": 13,
    "start_time": "2023-05-12T13:57:23.657Z"
   },
   {
    "duration": 284,
    "start_time": "2023-05-12T13:57:23.673Z"
   },
   {
    "duration": 350,
    "start_time": "2023-05-12T13:57:23.959Z"
   },
   {
    "duration": 608,
    "start_time": "2023-05-12T13:57:24.310Z"
   },
   {
    "duration": 326,
    "start_time": "2023-05-12T13:57:24.920Z"
   },
   {
    "duration": 638,
    "start_time": "2023-05-12T13:57:25.248Z"
   },
   {
    "duration": 584,
    "start_time": "2023-05-12T14:10:20.233Z"
   },
   {
    "duration": 334,
    "start_time": "2023-05-12T14:12:56.102Z"
   },
   {
    "duration": 1371,
    "start_time": "2023-05-12T14:15:45.196Z"
   },
   {
    "duration": 43,
    "start_time": "2023-05-12T14:15:46.569Z"
   },
   {
    "duration": 102,
    "start_time": "2023-05-12T14:15:46.614Z"
   },
   {
    "duration": 8,
    "start_time": "2023-05-12T14:15:46.718Z"
   },
   {
    "duration": 12,
    "start_time": "2023-05-12T14:15:46.729Z"
   },
   {
    "duration": 10,
    "start_time": "2023-05-12T14:15:46.743Z"
   },
   {
    "duration": 31,
    "start_time": "2023-05-12T14:15:46.755Z"
   },
   {
    "duration": 20,
    "start_time": "2023-05-12T14:15:46.788Z"
   },
   {
    "duration": 9,
    "start_time": "2023-05-12T14:15:46.809Z"
   },
   {
    "duration": 583,
    "start_time": "2023-05-12T14:15:46.820Z"
   },
   {
    "duration": 1512,
    "start_time": "2023-05-12T14:15:47.405Z"
   },
   {
    "duration": 58707,
    "start_time": "2023-05-12T14:15:48.918Z"
   },
   {
    "duration": 530,
    "start_time": "2023-05-12T14:16:47.627Z"
   },
   {
    "duration": 17,
    "start_time": "2023-05-12T14:16:48.160Z"
   },
   {
    "duration": 369,
    "start_time": "2023-05-12T14:16:48.178Z"
   },
   {
    "duration": 13,
    "start_time": "2023-05-12T14:16:48.548Z"
   },
   {
    "duration": 286,
    "start_time": "2023-05-12T14:16:48.563Z"
   },
   {
    "duration": 360,
    "start_time": "2023-05-12T14:16:48.851Z"
   },
   {
    "duration": 532,
    "start_time": "2023-05-12T14:16:49.212Z"
   },
   {
    "duration": 389,
    "start_time": "2023-05-12T14:16:49.745Z"
   },
   {
    "duration": 0,
    "start_time": "2023-05-12T14:16:50.136Z"
   },
   {
    "duration": 255,
    "start_time": "2023-05-12T14:24:43.776Z"
   },
   {
    "duration": 1540,
    "start_time": "2023-05-12T14:25:14.674Z"
   },
   {
    "duration": 46,
    "start_time": "2023-05-12T14:25:16.216Z"
   },
   {
    "duration": 85,
    "start_time": "2023-05-12T14:25:16.264Z"
   },
   {
    "duration": 9,
    "start_time": "2023-05-12T14:25:16.352Z"
   },
   {
    "duration": 13,
    "start_time": "2023-05-12T14:25:16.363Z"
   },
   {
    "duration": 40,
    "start_time": "2023-05-12T14:25:16.378Z"
   },
   {
    "duration": 20,
    "start_time": "2023-05-12T14:25:16.420Z"
   },
   {
    "duration": 24,
    "start_time": "2023-05-12T14:25:16.442Z"
   },
   {
    "duration": 25,
    "start_time": "2023-05-12T14:25:16.468Z"
   },
   {
    "duration": 701,
    "start_time": "2023-05-12T14:25:16.497Z"
   },
   {
    "duration": 1863,
    "start_time": "2023-05-12T14:25:17.203Z"
   },
   {
    "duration": 55635,
    "start_time": "2023-05-12T14:25:19.068Z"
   },
   {
    "duration": 588,
    "start_time": "2023-05-12T14:26:14.705Z"
   },
   {
    "duration": 15,
    "start_time": "2023-05-12T14:26:15.295Z"
   },
   {
    "duration": 340,
    "start_time": "2023-05-12T14:26:15.311Z"
   },
   {
    "duration": 11,
    "start_time": "2023-05-12T14:26:15.653Z"
   },
   {
    "duration": 281,
    "start_time": "2023-05-12T14:26:15.666Z"
   },
   {
    "duration": 361,
    "start_time": "2023-05-12T14:26:15.948Z"
   },
   {
    "duration": 557,
    "start_time": "2023-05-12T14:26:16.311Z"
   },
   {
    "duration": 369,
    "start_time": "2023-05-12T14:26:16.871Z"
   },
   {
    "duration": 0,
    "start_time": "2023-05-12T14:26:17.241Z"
   },
   {
    "duration": 304,
    "start_time": "2023-05-12T14:27:10.818Z"
   },
   {
    "duration": 361,
    "start_time": "2023-05-12T14:32:02.050Z"
   },
   {
    "duration": 564,
    "start_time": "2023-05-12T14:33:58.202Z"
   },
   {
    "duration": 1562,
    "start_time": "2023-05-12T14:34:37.197Z"
   },
   {
    "duration": 46,
    "start_time": "2023-05-12T14:34:38.762Z"
   },
   {
    "duration": 105,
    "start_time": "2023-05-12T14:34:38.810Z"
   },
   {
    "duration": 10,
    "start_time": "2023-05-12T14:34:38.917Z"
   },
   {
    "duration": 6,
    "start_time": "2023-05-12T14:34:38.930Z"
   },
   {
    "duration": 9,
    "start_time": "2023-05-12T14:34:38.938Z"
   },
   {
    "duration": 16,
    "start_time": "2023-05-12T14:34:38.950Z"
   },
   {
    "duration": 31,
    "start_time": "2023-05-12T14:34:38.968Z"
   },
   {
    "duration": 6,
    "start_time": "2023-05-12T14:34:39.001Z"
   },
   {
    "duration": 789,
    "start_time": "2023-05-12T14:34:39.009Z"
   },
   {
    "duration": 1798,
    "start_time": "2023-05-12T14:34:39.801Z"
   },
   {
    "duration": 60281,
    "start_time": "2023-05-12T14:34:41.600Z"
   },
   {
    "duration": 562,
    "start_time": "2023-05-12T14:35:41.883Z"
   },
   {
    "duration": 14,
    "start_time": "2023-05-12T14:35:42.447Z"
   },
   {
    "duration": 382,
    "start_time": "2023-05-12T14:35:42.463Z"
   },
   {
    "duration": 12,
    "start_time": "2023-05-12T14:35:42.846Z"
   },
   {
    "duration": 250,
    "start_time": "2023-05-12T14:35:42.860Z"
   },
   {
    "duration": 320,
    "start_time": "2023-05-12T14:35:43.112Z"
   },
   {
    "duration": 631,
    "start_time": "2023-05-12T14:35:43.434Z"
   },
   {
    "duration": 373,
    "start_time": "2023-05-12T14:35:44.067Z"
   },
   {
    "duration": 633,
    "start_time": "2023-05-12T14:35:44.442Z"
   },
   {
    "duration": 1354,
    "start_time": "2023-05-12T15:29:54.692Z"
   },
   {
    "duration": 40,
    "start_time": "2023-05-12T15:29:56.048Z"
   },
   {
    "duration": 77,
    "start_time": "2023-05-12T15:29:56.090Z"
   },
   {
    "duration": 8,
    "start_time": "2023-05-12T15:29:56.169Z"
   },
   {
    "duration": 26,
    "start_time": "2023-05-12T15:29:56.179Z"
   },
   {
    "duration": 24,
    "start_time": "2023-05-12T15:29:56.207Z"
   },
   {
    "duration": 20,
    "start_time": "2023-05-12T15:29:56.232Z"
   },
   {
    "duration": 14,
    "start_time": "2023-05-12T15:29:56.265Z"
   },
   {
    "duration": 5,
    "start_time": "2023-05-12T15:29:56.283Z"
   },
   {
    "duration": 824,
    "start_time": "2023-05-12T15:29:56.289Z"
   },
   {
    "duration": 1434,
    "start_time": "2023-05-12T15:29:57.196Z"
   },
   {
    "duration": 53446,
    "start_time": "2023-05-12T15:29:58.632Z"
   },
   {
    "duration": 581,
    "start_time": "2023-05-12T15:30:52.080Z"
   },
   {
    "duration": 15,
    "start_time": "2023-05-12T15:30:52.664Z"
   },
   {
    "duration": 383,
    "start_time": "2023-05-12T15:30:52.681Z"
   },
   {
    "duration": 11,
    "start_time": "2023-05-12T15:30:53.066Z"
   },
   {
    "duration": 286,
    "start_time": "2023-05-12T15:30:53.079Z"
   },
   {
    "duration": 331,
    "start_time": "2023-05-12T15:30:53.367Z"
   },
   {
    "duration": 513,
    "start_time": "2023-05-12T15:30:53.699Z"
   },
   {
    "duration": 295,
    "start_time": "2023-05-12T15:30:54.213Z"
   },
   {
    "duration": 510,
    "start_time": "2023-05-12T15:30:54.510Z"
   },
   {
    "duration": 1393,
    "start_time": "2023-05-12T15:38:23.540Z"
   },
   {
    "duration": 43,
    "start_time": "2023-05-12T15:38:24.935Z"
   },
   {
    "duration": 90,
    "start_time": "2023-05-12T15:38:24.979Z"
   },
   {
    "duration": 8,
    "start_time": "2023-05-12T15:38:25.070Z"
   },
   {
    "duration": 23,
    "start_time": "2023-05-12T15:38:25.081Z"
   },
   {
    "duration": 15,
    "start_time": "2023-05-12T15:38:25.105Z"
   },
   {
    "duration": 14,
    "start_time": "2023-05-12T15:38:25.122Z"
   },
   {
    "duration": 17,
    "start_time": "2023-05-12T15:38:25.137Z"
   },
   {
    "duration": 9,
    "start_time": "2023-05-12T15:38:25.156Z"
   },
   {
    "duration": 1338,
    "start_time": "2023-05-12T15:38:25.166Z"
   },
   {
    "duration": 1488,
    "start_time": "2023-05-12T15:38:26.596Z"
   },
   {
    "duration": 54231,
    "start_time": "2023-05-12T15:38:28.086Z"
   },
   {
    "duration": 566,
    "start_time": "2023-05-12T15:39:22.319Z"
   },
   {
    "duration": 22,
    "start_time": "2023-05-12T15:39:22.888Z"
   },
   {
    "duration": 331,
    "start_time": "2023-05-12T15:39:22.911Z"
   },
   {
    "duration": 13,
    "start_time": "2023-05-12T15:39:23.244Z"
   },
   {
    "duration": 264,
    "start_time": "2023-05-12T15:39:23.258Z"
   },
   {
    "duration": 285,
    "start_time": "2023-05-12T15:39:23.523Z"
   },
   {
    "duration": 515,
    "start_time": "2023-05-12T15:39:23.809Z"
   },
   {
    "duration": 306,
    "start_time": "2023-05-12T15:39:24.325Z"
   },
   {
    "duration": 630,
    "start_time": "2023-05-12T15:39:24.633Z"
   },
   {
    "duration": 1578,
    "start_time": "2023-05-13T09:48:55.409Z"
   },
   {
    "duration": 79,
    "start_time": "2023-05-13T09:48:56.989Z"
   },
   {
    "duration": 109,
    "start_time": "2023-05-13T09:48:57.070Z"
   },
   {
    "duration": 10,
    "start_time": "2023-05-13T09:48:57.181Z"
   },
   {
    "duration": 10,
    "start_time": "2023-05-13T09:48:57.193Z"
   },
   {
    "duration": 9,
    "start_time": "2023-05-13T09:48:57.205Z"
   },
   {
    "duration": 18,
    "start_time": "2023-05-13T09:48:57.216Z"
   },
   {
    "duration": 11,
    "start_time": "2023-05-13T09:48:57.236Z"
   },
   {
    "duration": 32,
    "start_time": "2023-05-13T09:48:57.250Z"
   },
   {
    "duration": 6,
    "start_time": "2023-05-13T09:48:57.284Z"
   },
   {
    "duration": 498,
    "start_time": "2023-05-13T09:48:57.293Z"
   },
   {
    "duration": 1670,
    "start_time": "2023-05-13T09:48:57.793Z"
   },
   {
    "duration": 58828,
    "start_time": "2023-05-13T09:48:59.465Z"
   },
   {
    "duration": 580,
    "start_time": "2023-05-13T09:49:58.295Z"
   },
   {
    "duration": 16,
    "start_time": "2023-05-13T09:49:58.876Z"
   },
   {
    "duration": 413,
    "start_time": "2023-05-13T09:49:58.894Z"
   },
   {
    "duration": 13,
    "start_time": "2023-05-13T09:49:59.309Z"
   },
   {
    "duration": 294,
    "start_time": "2023-05-13T09:49:59.324Z"
   },
   {
    "duration": 373,
    "start_time": "2023-05-13T09:49:59.620Z"
   },
   {
    "duration": 625,
    "start_time": "2023-05-13T09:49:59.995Z"
   },
   {
    "duration": 367,
    "start_time": "2023-05-13T09:50:00.623Z"
   },
   {
    "duration": 546,
    "start_time": "2023-05-13T09:50:00.992Z"
   },
   {
    "duration": 6,
    "start_time": "2023-05-13T09:53:11.043Z"
   },
   {
    "duration": 12,
    "start_time": "2023-05-13T09:53:13.313Z"
   },
   {
    "duration": 4,
    "start_time": "2023-05-13T09:53:15.326Z"
   },
   {
    "duration": 71,
    "start_time": "2023-05-13T12:06:04.840Z"
   },
   {
    "duration": 3,
    "start_time": "2023-05-13T12:06:36.022Z"
   },
   {
    "duration": 7,
    "start_time": "2023-05-13T12:06:39.644Z"
   },
   {
    "duration": 6,
    "start_time": "2023-05-13T12:07:00.558Z"
   },
   {
    "duration": 7,
    "start_time": "2023-05-13T13:08:06.560Z"
   },
   {
    "duration": 1795,
    "start_time": "2023-05-13T13:08:17.938Z"
   },
   {
    "duration": 65,
    "start_time": "2023-05-13T13:08:20.776Z"
   },
   {
    "duration": 132,
    "start_time": "2023-05-13T13:08:21.221Z"
   },
   {
    "duration": 15,
    "start_time": "2023-05-13T13:08:21.911Z"
   },
   {
    "duration": 5,
    "start_time": "2023-05-13T13:08:22.469Z"
   },
   {
    "duration": 12,
    "start_time": "2023-05-13T13:08:24.109Z"
   },
   {
    "duration": 34,
    "start_time": "2023-05-13T13:08:25.294Z"
   },
   {
    "duration": 25,
    "start_time": "2023-05-13T13:08:27.676Z"
   },
   {
    "duration": 70,
    "start_time": "2023-05-13T13:12:37.668Z"
   },
   {
    "duration": 48,
    "start_time": "2023-05-13T13:12:57.405Z"
   },
   {
    "duration": 21,
    "start_time": "2023-05-13T13:12:59.496Z"
   },
   {
    "duration": 15,
    "start_time": "2023-05-13T13:13:03.802Z"
   },
   {
    "duration": 122,
    "start_time": "2023-05-13T13:13:04.455Z"
   },
   {
    "duration": 6,
    "start_time": "2023-05-13T13:13:28.115Z"
   },
   {
    "duration": 56,
    "start_time": "2023-05-13T13:13:29.763Z"
   },
   {
    "duration": 89,
    "start_time": "2023-05-13T13:13:30.205Z"
   },
   {
    "duration": 8,
    "start_time": "2023-05-13T13:13:30.864Z"
   },
   {
    "duration": 9,
    "start_time": "2023-05-13T13:13:31.614Z"
   },
   {
    "duration": 10,
    "start_time": "2023-05-13T13:13:32.480Z"
   },
   {
    "duration": 21,
    "start_time": "2023-05-13T13:13:33.118Z"
   },
   {
    "duration": 62,
    "start_time": "2023-05-13T13:13:34.834Z"
   },
   {
    "duration": 5,
    "start_time": "2023-05-13T13:13:36.864Z"
   },
   {
    "duration": 22,
    "start_time": "2023-05-13T13:13:37.771Z"
   },
   {
    "duration": 65,
    "start_time": "2023-05-13T13:13:39.672Z"
   },
   {
    "duration": 9,
    "start_time": "2023-05-13T13:14:27.932Z"
   },
   {
    "duration": 40,
    "start_time": "2023-05-13T13:14:29.053Z"
   },
   {
    "duration": 140,
    "start_time": "2023-05-13T13:14:29.354Z"
   },
   {
    "duration": 18,
    "start_time": "2023-05-13T13:14:30.110Z"
   },
   {
    "duration": 10,
    "start_time": "2023-05-13T13:14:30.597Z"
   },
   {
    "duration": 5,
    "start_time": "2023-05-13T13:14:31.369Z"
   },
   {
    "duration": 13,
    "start_time": "2023-05-13T13:14:32.052Z"
   },
   {
    "duration": 52,
    "start_time": "2023-05-13T13:14:32.920Z"
   },
   {
    "duration": 6,
    "start_time": "2023-05-13T13:14:34.851Z"
   },
   {
    "duration": 31,
    "start_time": "2023-05-13T13:14:35.704Z"
   },
   {
    "duration": 66,
    "start_time": "2023-05-13T13:14:36.623Z"
   },
   {
    "duration": 56,
    "start_time": "2023-05-13T13:14:51.452Z"
   },
   {
    "duration": 43,
    "start_time": "2023-05-13T13:17:37.699Z"
   },
   {
    "duration": 8,
    "start_time": "2023-05-13T13:17:41.615Z"
   },
   {
    "duration": 18,
    "start_time": "2023-05-13T13:18:57.199Z"
   },
   {
    "duration": 1431,
    "start_time": "2023-05-13T13:20:19.923Z"
   },
   {
    "duration": 49,
    "start_time": "2023-05-13T13:20:23.641Z"
   },
   {
    "duration": 101,
    "start_time": "2023-05-13T13:20:27.230Z"
   },
   {
    "duration": 9,
    "start_time": "2023-05-13T13:20:28.266Z"
   },
   {
    "duration": 5,
    "start_time": "2023-05-13T13:20:28.711Z"
   },
   {
    "duration": 6,
    "start_time": "2023-05-13T13:20:29.394Z"
   },
   {
    "duration": 12,
    "start_time": "2023-05-13T13:20:30.115Z"
   },
   {
    "duration": 5,
    "start_time": "2023-05-13T13:20:32.950Z"
   },
   {
    "duration": 11,
    "start_time": "2023-05-13T13:20:34.822Z"
   },
   {
    "duration": 15,
    "start_time": "2023-05-13T13:20:35.424Z"
   },
   {
    "duration": 36,
    "start_time": "2023-05-13T13:20:43.702Z"
   },
   {
    "duration": 12,
    "start_time": "2023-05-13T13:20:44.931Z"
   },
   {
    "duration": 4,
    "start_time": "2023-05-13T15:27:16.710Z"
   },
   {
    "duration": 46,
    "start_time": "2023-05-13T15:27:16.716Z"
   },
   {
    "duration": 127,
    "start_time": "2023-05-13T15:27:16.764Z"
   },
   {
    "duration": 12,
    "start_time": "2023-05-13T15:27:16.895Z"
   },
   {
    "duration": 4,
    "start_time": "2023-05-13T15:27:16.909Z"
   },
   {
    "duration": 6,
    "start_time": "2023-05-13T15:27:16.915Z"
   },
   {
    "duration": 16,
    "start_time": "2023-05-13T15:27:16.923Z"
   },
   {
    "duration": 6,
    "start_time": "2023-05-13T15:27:16.940Z"
   },
   {
    "duration": 9,
    "start_time": "2023-05-13T15:27:16.948Z"
   },
   {
    "duration": 58,
    "start_time": "2023-05-13T15:27:16.959Z"
   },
   {
    "duration": 5,
    "start_time": "2023-05-13T15:27:17.019Z"
   },
   {
    "duration": 466,
    "start_time": "2023-05-13T15:27:17.025Z"
   },
   {
    "duration": 1802,
    "start_time": "2023-05-13T15:27:17.495Z"
   },
   {
    "duration": 60534,
    "start_time": "2023-05-13T15:27:19.301Z"
   },
   {
    "duration": 515,
    "start_time": "2023-05-13T15:28:19.837Z"
   },
   {
    "duration": 15,
    "start_time": "2023-05-13T15:28:20.354Z"
   },
   {
    "duration": 356,
    "start_time": "2023-05-13T15:28:20.378Z"
   },
   {
    "duration": 11,
    "start_time": "2023-05-13T15:28:20.735Z"
   },
   {
    "duration": 246,
    "start_time": "2023-05-13T15:28:20.748Z"
   },
   {
    "duration": 320,
    "start_time": "2023-05-13T15:28:20.996Z"
   },
   {
    "duration": 525,
    "start_time": "2023-05-13T15:28:21.318Z"
   },
   {
    "duration": 115,
    "start_time": "2023-05-13T15:28:21.844Z"
   },
   {
    "duration": 314,
    "start_time": "2023-05-13T15:28:21.961Z"
   },
   {
    "duration": 5,
    "start_time": "2023-05-13T15:37:15.558Z"
   },
   {
    "duration": 58,
    "start_time": "2023-05-13T15:37:15.566Z"
   },
   {
    "duration": 88,
    "start_time": "2023-05-13T15:37:15.627Z"
   },
   {
    "duration": 8,
    "start_time": "2023-05-13T15:37:15.717Z"
   },
   {
    "duration": 4,
    "start_time": "2023-05-13T15:37:15.727Z"
   },
   {
    "duration": 5,
    "start_time": "2023-05-13T15:37:15.732Z"
   },
   {
    "duration": 42,
    "start_time": "2023-05-13T15:37:15.738Z"
   },
   {
    "duration": 8,
    "start_time": "2023-05-13T15:37:15.781Z"
   },
   {
    "duration": 23,
    "start_time": "2023-05-13T15:37:15.791Z"
   },
   {
    "duration": 35,
    "start_time": "2023-05-13T15:37:15.818Z"
   },
   {
    "duration": 7,
    "start_time": "2023-05-13T15:37:15.855Z"
   },
   {
    "duration": 424,
    "start_time": "2023-05-13T15:37:15.865Z"
   },
   {
    "duration": 1739,
    "start_time": "2023-05-13T15:37:16.291Z"
   },
   {
    "duration": 62994,
    "start_time": "2023-05-13T15:37:18.033Z"
   },
   {
    "duration": 688,
    "start_time": "2023-05-13T15:38:21.029Z"
   },
   {
    "duration": 13,
    "start_time": "2023-05-13T15:38:21.726Z"
   },
   {
    "duration": 354,
    "start_time": "2023-05-13T15:38:21.741Z"
   },
   {
    "duration": 18,
    "start_time": "2023-05-13T15:38:22.097Z"
   },
   {
    "duration": 222,
    "start_time": "2023-05-13T15:38:22.117Z"
   },
   {
    "duration": 339,
    "start_time": "2023-05-13T15:38:22.342Z"
   },
   {
    "duration": 604,
    "start_time": "2023-05-13T15:38:22.684Z"
   },
   {
    "duration": 126,
    "start_time": "2023-05-13T15:38:23.291Z"
   },
   {
    "duration": 454,
    "start_time": "2023-05-13T15:38:23.419Z"
   },
   {
    "duration": 67,
    "start_time": "2023-05-13T15:40:42.304Z"
   },
   {
    "duration": 5,
    "start_time": "2023-05-13T15:44:50.117Z"
   },
   {
    "duration": 60,
    "start_time": "2023-05-13T15:44:50.123Z"
   },
   {
    "duration": 76,
    "start_time": "2023-05-13T15:44:50.192Z"
   },
   {
    "duration": 32,
    "start_time": "2023-05-13T15:44:50.277Z"
   },
   {
    "duration": 3,
    "start_time": "2023-05-13T15:44:50.311Z"
   },
   {
    "duration": 21,
    "start_time": "2023-05-13T15:44:50.316Z"
   },
   {
    "duration": 14,
    "start_time": "2023-05-13T15:44:50.339Z"
   },
   {
    "duration": 43,
    "start_time": "2023-05-13T15:44:50.355Z"
   },
   {
    "duration": 17,
    "start_time": "2023-05-13T15:44:50.402Z"
   },
   {
    "duration": 49,
    "start_time": "2023-05-13T15:44:50.422Z"
   },
   {
    "duration": 12,
    "start_time": "2023-05-13T15:44:50.474Z"
   },
   {
    "duration": 291,
    "start_time": "2023-05-13T15:44:50.490Z"
   },
   {
    "duration": 1687,
    "start_time": "2023-05-13T15:44:50.782Z"
   },
   {
    "duration": 62545,
    "start_time": "2023-05-13T15:44:52.478Z"
   },
   {
    "duration": 491,
    "start_time": "2023-05-13T15:45:55.025Z"
   },
   {
    "duration": 13,
    "start_time": "2023-05-13T15:45:55.518Z"
   },
   {
    "duration": 384,
    "start_time": "2023-05-13T15:45:55.533Z"
   },
   {
    "duration": 12,
    "start_time": "2023-05-13T15:45:55.919Z"
   },
   {
    "duration": 219,
    "start_time": "2023-05-13T15:45:55.933Z"
   },
   {
    "duration": 340,
    "start_time": "2023-05-13T15:45:56.154Z"
   },
   {
    "duration": 587,
    "start_time": "2023-05-13T15:45:56.496Z"
   },
   {
    "duration": 129,
    "start_time": "2023-05-13T15:45:57.089Z"
   },
   {
    "duration": 365,
    "start_time": "2023-05-13T15:45:57.220Z"
   },
   {
    "duration": 1494,
    "start_time": "2024-01-04T11:58:59.263Z"
   },
   {
    "duration": 85,
    "start_time": "2024-01-04T11:59:00.759Z"
   },
   {
    "duration": 77,
    "start_time": "2024-01-04T11:59:00.845Z"
   },
   {
    "duration": 8,
    "start_time": "2024-01-04T11:59:00.924Z"
   },
   {
    "duration": 28,
    "start_time": "2024-01-04T11:59:00.935Z"
   },
   {
    "duration": 44,
    "start_time": "2024-01-04T11:59:00.965Z"
   },
   {
    "duration": 39,
    "start_time": "2024-01-04T11:59:01.010Z"
   },
   {
    "duration": 27,
    "start_time": "2024-01-04T11:59:01.051Z"
   },
   {
    "duration": 32,
    "start_time": "2024-01-04T11:59:01.080Z"
   },
   {
    "duration": 77,
    "start_time": "2024-01-04T11:59:01.113Z"
   },
   {
    "duration": 8,
    "start_time": "2024-01-04T11:59:01.192Z"
   },
   {
    "duration": 264,
    "start_time": "2024-01-04T11:59:01.201Z"
   },
   {
    "duration": 1548,
    "start_time": "2024-01-04T11:59:01.467Z"
   },
   {
    "duration": 51387,
    "start_time": "2024-01-04T11:59:03.018Z"
   },
   {
    "duration": 520,
    "start_time": "2024-01-04T11:59:54.407Z"
   },
   {
    "duration": 12,
    "start_time": "2024-01-04T11:59:54.929Z"
   },
   {
    "duration": 372,
    "start_time": "2024-01-04T11:59:54.942Z"
   },
   {
    "duration": 11,
    "start_time": "2024-01-04T11:59:55.315Z"
   },
   {
    "duration": 193,
    "start_time": "2024-01-04T11:59:55.327Z"
   },
   {
    "duration": 279,
    "start_time": "2024-01-04T11:59:55.522Z"
   },
   {
    "duration": 488,
    "start_time": "2024-01-04T11:59:55.803Z"
   },
   {
    "duration": 100,
    "start_time": "2024-01-04T11:59:56.293Z"
   },
   {
    "duration": 265,
    "start_time": "2024-01-04T11:59:56.394Z"
   },
   {
    "duration": 1329,
    "start_time": "2024-01-04T12:04:09.555Z"
   },
   {
    "duration": 42,
    "start_time": "2024-01-04T12:04:10.885Z"
   },
   {
    "duration": 70,
    "start_time": "2024-01-04T12:04:10.928Z"
   },
   {
    "duration": 6,
    "start_time": "2024-01-04T12:04:11.000Z"
   },
   {
    "duration": 22,
    "start_time": "2024-01-04T12:04:11.008Z"
   },
   {
    "duration": 20,
    "start_time": "2024-01-04T12:04:11.032Z"
   },
   {
    "duration": 27,
    "start_time": "2024-01-04T12:04:11.054Z"
   },
   {
    "duration": 28,
    "start_time": "2024-01-04T12:04:11.083Z"
   },
   {
    "duration": 35,
    "start_time": "2024-01-04T12:04:11.112Z"
   },
   {
    "duration": 56,
    "start_time": "2024-01-04T12:04:11.149Z"
   },
   {
    "duration": 5,
    "start_time": "2024-01-04T12:04:11.206Z"
   },
   {
    "duration": 158,
    "start_time": "2024-01-04T12:04:11.212Z"
   },
   {
    "duration": 1595,
    "start_time": "2024-01-04T12:04:11.371Z"
   },
   {
    "duration": 51933,
    "start_time": "2024-01-04T12:04:12.970Z"
   },
   {
    "duration": 503,
    "start_time": "2024-01-04T12:05:04.904Z"
   },
   {
    "duration": 12,
    "start_time": "2024-01-04T12:05:05.408Z"
   },
   {
    "duration": 333,
    "start_time": "2024-01-04T12:05:05.422Z"
   },
   {
    "duration": 19,
    "start_time": "2024-01-04T12:05:05.757Z"
   },
   {
    "duration": 241,
    "start_time": "2024-01-04T12:05:05.777Z"
   },
   {
    "duration": 264,
    "start_time": "2024-01-04T12:05:06.020Z"
   },
   {
    "duration": 501,
    "start_time": "2024-01-04T12:05:06.286Z"
   },
   {
    "duration": 90,
    "start_time": "2024-01-04T12:05:06.789Z"
   },
   {
    "duration": 279,
    "start_time": "2024-01-04T12:05:06.880Z"
   }
  ],
  "kernelspec": {
   "display_name": "Python 3 (ipykernel)",
   "language": "python",
   "name": "python3"
  },
  "language_info": {
   "codemirror_mode": {
    "name": "ipython",
    "version": 3
   },
   "file_extension": ".py",
   "mimetype": "text/x-python",
   "name": "python",
   "nbconvert_exporter": "python",
   "pygments_lexer": "ipython3",
   "version": "3.11.4"
  },
  "toc": {
   "base_numbering": 1,
   "nav_menu": {},
   "number_sections": false,
   "sideBar": true,
   "skip_h1_title": false,
   "title_cell": "Содержание",
   "title_sidebar": "Contents",
   "toc_cell": true,
   "toc_position": {
    "height": "calc(100% - 180px)",
    "left": "10px",
    "top": "150px",
    "width": "165px"
   },
   "toc_section_display": true,
   "toc_window_display": true
  }
 },
 "nbformat": 4,
 "nbformat_minor": 2
}
