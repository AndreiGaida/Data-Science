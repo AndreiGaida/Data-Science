{
 "cells": [
  {
   "cell_type": "markdown",
   "id": "432f1b20",
   "metadata": {
    "toc": true
   },
   "source": [
    "<h1>Содержание<span class=\"tocSkip\"></span></h1>\n",
    "<div class=\"toc\"><ul class=\"toc-item\"><li><span><a href=\"#Исследование-надежности-заемщиков\" data-toc-modified-id=\"Исследование-надежности-заемщиков-1\">Исследование надежности заемщиков</a></span></li><li><span><a href=\"#Импортирование-библиотек\" data-toc-modified-id=\"Импортирование-библиотек-2\">Импортирование библиотек</a></span></li><li><span><a href=\"#Изучение-данных\" data-toc-modified-id=\"Изучение-данных-3\">Изучение данных</a></span></li><li><span><a href=\"#Предобработка-данных\" data-toc-modified-id=\"Предобработка-данных-4\">Предобработка данных</a></span></li><li><span><a href=\"#Проверка-гипотез\" data-toc-modified-id=\"Проверка-гипотез-5\">Проверка гипотез</a></span></li><li><span><a href=\"#Общий-вывод\" data-toc-modified-id=\"Общий-вывод-6\">Общий вывод</a></span></li></ul></div>"
   ]
  },
  {
   "cell_type": "markdown",
   "id": "0dbae39e",
   "metadata": {},
   "source": [
    "# Исследование надежности заемщиков"
   ]
  },
  {
   "cell_type": "markdown",
   "id": "0c62d8e0",
   "metadata": {},
   "source": [
    "Заказчик — кредитный отдел банка. Нужно разобраться, влияет ли семейное положение и количество детей клиента на факт погашения кредита в срок. Входные данные от банка — статистика о платёжеспособности клиентов.\n",
    "\n",
    "Результаты исследования будут учтены при построении модели кредитного скоринга — специальной системы, которая оценивает способность потенциального заёмщика вернуть кредит банку."
   ]
  },
  {
   "cell_type": "markdown",
   "id": "6252f864",
   "metadata": {},
   "source": [
    "# Импортирование библиотек"
   ]
  },
  {
   "cell_type": "code",
   "execution_count": 1,
   "id": "9fb53e42",
   "metadata": {},
   "outputs": [],
   "source": [
    "import pandas as pd\n",
    "\n",
    "try:\n",
    "    data = pd.read_csv('/datasets/data.csv')\n",
    "except:\n",
    "    data = pd.read_csv('https://code.s3.yandex.net/datasets/data.csv')"
   ]
  },
  {
   "cell_type": "markdown",
   "id": "c958aa8c",
   "metadata": {},
   "source": [
    "# Изучение данных"
   ]
  },
  {
   "cell_type": "markdown",
   "id": "0ec67bc0",
   "metadata": {},
   "source": [
    "*Рассмотрим корректность названий столбцов.*"
   ]
  },
  {
   "cell_type": "code",
   "execution_count": 2,
   "id": "821f1fb6",
   "metadata": {},
   "outputs": [
    {
     "data": {
      "text/plain": [
       "Index(['children', 'days_employed', 'dob_years', 'education', 'education_id',\n",
       "       'family_status', 'family_status_id', 'gender', 'income_type', 'debt',\n",
       "       'total_income', 'purpose'],\n",
       "      dtype='object')"
      ]
     },
     "execution_count": 2,
     "metadata": {},
     "output_type": "execute_result"
    }
   ],
   "source": [
    "data.columns"
   ]
  },
  {
   "cell_type": "markdown",
   "id": "04a6f99c",
   "metadata": {},
   "source": [
    "Столбцы не содержат пробелов, все знаки в одном регистре и на одном языке."
   ]
  },
  {
   "cell_type": "markdown",
   "id": "7e6850f1",
   "metadata": {},
   "source": [
    "*Рассмотрим общую информацию.*"
   ]
  },
  {
   "cell_type": "code",
   "execution_count": 3,
   "id": "c99032db",
   "metadata": {},
   "outputs": [
    {
     "name": "stdout",
     "output_type": "stream",
     "text": [
      "<class 'pandas.core.frame.DataFrame'>\n",
      "RangeIndex: 21525 entries, 0 to 21524\n",
      "Data columns (total 12 columns):\n",
      " #   Column            Non-Null Count  Dtype  \n",
      "---  ------            --------------  -----  \n",
      " 0   children          21525 non-null  int64  \n",
      " 1   days_employed     19351 non-null  float64\n",
      " 2   dob_years         21525 non-null  int64  \n",
      " 3   education         21525 non-null  object \n",
      " 4   education_id      21525 non-null  int64  \n",
      " 5   family_status     21525 non-null  object \n",
      " 6   family_status_id  21525 non-null  int64  \n",
      " 7   gender            21525 non-null  object \n",
      " 8   income_type       21525 non-null  object \n",
      " 9   debt              21525 non-null  int64  \n",
      " 10  total_income      19351 non-null  float64\n",
      " 11  purpose           21525 non-null  object \n",
      "dtypes: float64(2), int64(5), object(5)\n",
      "memory usage: 2.0+ MB\n"
     ]
    }
   ],
   "source": [
    "data.info()"
   ]
  },
  {
   "cell_type": "markdown",
   "id": "89979429",
   "metadata": {},
   "source": [
    "Заметим, что присутствуют два столбца содержащих пропущенные значения. Типы столбцов соответствуют информации хранящихся в них"
   ]
  },
  {
   "cell_type": "markdown",
   "id": "6dedcf4b",
   "metadata": {},
   "source": [
    "*Рассмотрим первые 15 строк датафрейма.*"
   ]
  },
  {
   "cell_type": "code",
   "execution_count": 4,
   "id": "8e307529",
   "metadata": {},
   "outputs": [
    {
     "data": {
      "text/html": [
       "<div>\n",
       "<style scoped>\n",
       "    .dataframe tbody tr th:only-of-type {\n",
       "        vertical-align: middle;\n",
       "    }\n",
       "\n",
       "    .dataframe tbody tr th {\n",
       "        vertical-align: top;\n",
       "    }\n",
       "\n",
       "    .dataframe thead th {\n",
       "        text-align: right;\n",
       "    }\n",
       "</style>\n",
       "<table border=\"1\" class=\"dataframe\">\n",
       "  <thead>\n",
       "    <tr style=\"text-align: right;\">\n",
       "      <th></th>\n",
       "      <th>children</th>\n",
       "      <th>days_employed</th>\n",
       "      <th>dob_years</th>\n",
       "      <th>education</th>\n",
       "      <th>education_id</th>\n",
       "      <th>family_status</th>\n",
       "      <th>family_status_id</th>\n",
       "      <th>gender</th>\n",
       "      <th>income_type</th>\n",
       "      <th>debt</th>\n",
       "      <th>total_income</th>\n",
       "      <th>purpose</th>\n",
       "    </tr>\n",
       "  </thead>\n",
       "  <tbody>\n",
       "    <tr>\n",
       "      <th>0</th>\n",
       "      <td>1</td>\n",
       "      <td>-8437.673028</td>\n",
       "      <td>42</td>\n",
       "      <td>высшее</td>\n",
       "      <td>0</td>\n",
       "      <td>женат / замужем</td>\n",
       "      <td>0</td>\n",
       "      <td>F</td>\n",
       "      <td>сотрудник</td>\n",
       "      <td>0</td>\n",
       "      <td>253875.639453</td>\n",
       "      <td>покупка жилья</td>\n",
       "    </tr>\n",
       "    <tr>\n",
       "      <th>1</th>\n",
       "      <td>1</td>\n",
       "      <td>-4024.803754</td>\n",
       "      <td>36</td>\n",
       "      <td>среднее</td>\n",
       "      <td>1</td>\n",
       "      <td>женат / замужем</td>\n",
       "      <td>0</td>\n",
       "      <td>F</td>\n",
       "      <td>сотрудник</td>\n",
       "      <td>0</td>\n",
       "      <td>112080.014102</td>\n",
       "      <td>приобретение автомобиля</td>\n",
       "    </tr>\n",
       "    <tr>\n",
       "      <th>2</th>\n",
       "      <td>0</td>\n",
       "      <td>-5623.422610</td>\n",
       "      <td>33</td>\n",
       "      <td>Среднее</td>\n",
       "      <td>1</td>\n",
       "      <td>женат / замужем</td>\n",
       "      <td>0</td>\n",
       "      <td>M</td>\n",
       "      <td>сотрудник</td>\n",
       "      <td>0</td>\n",
       "      <td>145885.952297</td>\n",
       "      <td>покупка жилья</td>\n",
       "    </tr>\n",
       "    <tr>\n",
       "      <th>3</th>\n",
       "      <td>3</td>\n",
       "      <td>-4124.747207</td>\n",
       "      <td>32</td>\n",
       "      <td>среднее</td>\n",
       "      <td>1</td>\n",
       "      <td>женат / замужем</td>\n",
       "      <td>0</td>\n",
       "      <td>M</td>\n",
       "      <td>сотрудник</td>\n",
       "      <td>0</td>\n",
       "      <td>267628.550329</td>\n",
       "      <td>дополнительное образование</td>\n",
       "    </tr>\n",
       "    <tr>\n",
       "      <th>4</th>\n",
       "      <td>0</td>\n",
       "      <td>340266.072047</td>\n",
       "      <td>53</td>\n",
       "      <td>среднее</td>\n",
       "      <td>1</td>\n",
       "      <td>гражданский брак</td>\n",
       "      <td>1</td>\n",
       "      <td>F</td>\n",
       "      <td>пенсионер</td>\n",
       "      <td>0</td>\n",
       "      <td>158616.077870</td>\n",
       "      <td>сыграть свадьбу</td>\n",
       "    </tr>\n",
       "    <tr>\n",
       "      <th>5</th>\n",
       "      <td>0</td>\n",
       "      <td>-926.185831</td>\n",
       "      <td>27</td>\n",
       "      <td>высшее</td>\n",
       "      <td>0</td>\n",
       "      <td>гражданский брак</td>\n",
       "      <td>1</td>\n",
       "      <td>M</td>\n",
       "      <td>компаньон</td>\n",
       "      <td>0</td>\n",
       "      <td>255763.565419</td>\n",
       "      <td>покупка жилья</td>\n",
       "    </tr>\n",
       "    <tr>\n",
       "      <th>6</th>\n",
       "      <td>0</td>\n",
       "      <td>-2879.202052</td>\n",
       "      <td>43</td>\n",
       "      <td>высшее</td>\n",
       "      <td>0</td>\n",
       "      <td>женат / замужем</td>\n",
       "      <td>0</td>\n",
       "      <td>F</td>\n",
       "      <td>компаньон</td>\n",
       "      <td>0</td>\n",
       "      <td>240525.971920</td>\n",
       "      <td>операции с жильем</td>\n",
       "    </tr>\n",
       "    <tr>\n",
       "      <th>7</th>\n",
       "      <td>0</td>\n",
       "      <td>-152.779569</td>\n",
       "      <td>50</td>\n",
       "      <td>СРЕДНЕЕ</td>\n",
       "      <td>1</td>\n",
       "      <td>женат / замужем</td>\n",
       "      <td>0</td>\n",
       "      <td>M</td>\n",
       "      <td>сотрудник</td>\n",
       "      <td>0</td>\n",
       "      <td>135823.934197</td>\n",
       "      <td>образование</td>\n",
       "    </tr>\n",
       "    <tr>\n",
       "      <th>8</th>\n",
       "      <td>2</td>\n",
       "      <td>-6929.865299</td>\n",
       "      <td>35</td>\n",
       "      <td>ВЫСШЕЕ</td>\n",
       "      <td>0</td>\n",
       "      <td>гражданский брак</td>\n",
       "      <td>1</td>\n",
       "      <td>F</td>\n",
       "      <td>сотрудник</td>\n",
       "      <td>0</td>\n",
       "      <td>95856.832424</td>\n",
       "      <td>на проведение свадьбы</td>\n",
       "    </tr>\n",
       "    <tr>\n",
       "      <th>9</th>\n",
       "      <td>0</td>\n",
       "      <td>-2188.756445</td>\n",
       "      <td>41</td>\n",
       "      <td>среднее</td>\n",
       "      <td>1</td>\n",
       "      <td>женат / замужем</td>\n",
       "      <td>0</td>\n",
       "      <td>M</td>\n",
       "      <td>сотрудник</td>\n",
       "      <td>0</td>\n",
       "      <td>144425.938277</td>\n",
       "      <td>покупка жилья для семьи</td>\n",
       "    </tr>\n",
       "    <tr>\n",
       "      <th>10</th>\n",
       "      <td>2</td>\n",
       "      <td>-4171.483647</td>\n",
       "      <td>36</td>\n",
       "      <td>высшее</td>\n",
       "      <td>0</td>\n",
       "      <td>женат / замужем</td>\n",
       "      <td>0</td>\n",
       "      <td>M</td>\n",
       "      <td>компаньон</td>\n",
       "      <td>0</td>\n",
       "      <td>113943.491460</td>\n",
       "      <td>покупка недвижимости</td>\n",
       "    </tr>\n",
       "    <tr>\n",
       "      <th>11</th>\n",
       "      <td>0</td>\n",
       "      <td>-792.701887</td>\n",
       "      <td>40</td>\n",
       "      <td>среднее</td>\n",
       "      <td>1</td>\n",
       "      <td>женат / замужем</td>\n",
       "      <td>0</td>\n",
       "      <td>F</td>\n",
       "      <td>сотрудник</td>\n",
       "      <td>0</td>\n",
       "      <td>77069.234271</td>\n",
       "      <td>покупка коммерческой недвижимости</td>\n",
       "    </tr>\n",
       "    <tr>\n",
       "      <th>12</th>\n",
       "      <td>0</td>\n",
       "      <td>NaN</td>\n",
       "      <td>65</td>\n",
       "      <td>среднее</td>\n",
       "      <td>1</td>\n",
       "      <td>гражданский брак</td>\n",
       "      <td>1</td>\n",
       "      <td>M</td>\n",
       "      <td>пенсионер</td>\n",
       "      <td>0</td>\n",
       "      <td>NaN</td>\n",
       "      <td>сыграть свадьбу</td>\n",
       "    </tr>\n",
       "    <tr>\n",
       "      <th>13</th>\n",
       "      <td>0</td>\n",
       "      <td>-1846.641941</td>\n",
       "      <td>54</td>\n",
       "      <td>неоконченное высшее</td>\n",
       "      <td>2</td>\n",
       "      <td>женат / замужем</td>\n",
       "      <td>0</td>\n",
       "      <td>F</td>\n",
       "      <td>сотрудник</td>\n",
       "      <td>0</td>\n",
       "      <td>130458.228857</td>\n",
       "      <td>приобретение автомобиля</td>\n",
       "    </tr>\n",
       "    <tr>\n",
       "      <th>14</th>\n",
       "      <td>0</td>\n",
       "      <td>-1844.956182</td>\n",
       "      <td>56</td>\n",
       "      <td>высшее</td>\n",
       "      <td>0</td>\n",
       "      <td>гражданский брак</td>\n",
       "      <td>1</td>\n",
       "      <td>F</td>\n",
       "      <td>компаньон</td>\n",
       "      <td>1</td>\n",
       "      <td>165127.911772</td>\n",
       "      <td>покупка жилой недвижимости</td>\n",
       "    </tr>\n",
       "  </tbody>\n",
       "</table>\n",
       "</div>"
      ],
      "text/plain": [
       "    children  days_employed  dob_years            education  education_id  \\\n",
       "0          1   -8437.673028         42               высшее             0   \n",
       "1          1   -4024.803754         36              среднее             1   \n",
       "2          0   -5623.422610         33              Среднее             1   \n",
       "3          3   -4124.747207         32              среднее             1   \n",
       "4          0  340266.072047         53              среднее             1   \n",
       "5          0    -926.185831         27               высшее             0   \n",
       "6          0   -2879.202052         43               высшее             0   \n",
       "7          0    -152.779569         50              СРЕДНЕЕ             1   \n",
       "8          2   -6929.865299         35               ВЫСШЕЕ             0   \n",
       "9          0   -2188.756445         41              среднее             1   \n",
       "10         2   -4171.483647         36               высшее             0   \n",
       "11         0    -792.701887         40              среднее             1   \n",
       "12         0            NaN         65              среднее             1   \n",
       "13         0   -1846.641941         54  неоконченное высшее             2   \n",
       "14         0   -1844.956182         56               высшее             0   \n",
       "\n",
       "       family_status  family_status_id gender income_type  debt  \\\n",
       "0    женат / замужем                 0      F   сотрудник     0   \n",
       "1    женат / замужем                 0      F   сотрудник     0   \n",
       "2    женат / замужем                 0      M   сотрудник     0   \n",
       "3    женат / замужем                 0      M   сотрудник     0   \n",
       "4   гражданский брак                 1      F   пенсионер     0   \n",
       "5   гражданский брак                 1      M   компаньон     0   \n",
       "6    женат / замужем                 0      F   компаньон     0   \n",
       "7    женат / замужем                 0      M   сотрудник     0   \n",
       "8   гражданский брак                 1      F   сотрудник     0   \n",
       "9    женат / замужем                 0      M   сотрудник     0   \n",
       "10   женат / замужем                 0      M   компаньон     0   \n",
       "11   женат / замужем                 0      F   сотрудник     0   \n",
       "12  гражданский брак                 1      M   пенсионер     0   \n",
       "13   женат / замужем                 0      F   сотрудник     0   \n",
       "14  гражданский брак                 1      F   компаньон     1   \n",
       "\n",
       "     total_income                            purpose  \n",
       "0   253875.639453                      покупка жилья  \n",
       "1   112080.014102            приобретение автомобиля  \n",
       "2   145885.952297                      покупка жилья  \n",
       "3   267628.550329         дополнительное образование  \n",
       "4   158616.077870                    сыграть свадьбу  \n",
       "5   255763.565419                      покупка жилья  \n",
       "6   240525.971920                  операции с жильем  \n",
       "7   135823.934197                        образование  \n",
       "8    95856.832424              на проведение свадьбы  \n",
       "9   144425.938277            покупка жилья для семьи  \n",
       "10  113943.491460               покупка недвижимости  \n",
       "11   77069.234271  покупка коммерческой недвижимости  \n",
       "12            NaN                    сыграть свадьбу  \n",
       "13  130458.228857            приобретение автомобиля  \n",
       "14  165127.911772         покупка жилой недвижимости  "
      ]
     },
     "execution_count": 4,
     "metadata": {},
     "output_type": "execute_result"
    }
   ],
   "source": [
    "data.head(15)"
   ]
  },
  {
   "cell_type": "markdown",
   "id": "19246f73",
   "metadata": {},
   "source": [
    "# Предобработка данных"
   ]
  },
  {
   "cell_type": "markdown",
   "id": "eb72d911",
   "metadata": {},
   "source": [
    "Выведем количество пропущенных значений для каждого столбца."
   ]
  },
  {
   "cell_type": "code",
   "execution_count": 5,
   "id": "3028077b",
   "metadata": {},
   "outputs": [
    {
     "data": {
      "text/plain": [
       "children               0\n",
       "days_employed       2174\n",
       "dob_years              0\n",
       "education              0\n",
       "education_id           0\n",
       "family_status          0\n",
       "family_status_id       0\n",
       "gender                 0\n",
       "income_type            0\n",
       "debt                   0\n",
       "total_income        2174\n",
       "purpose                0\n",
       "dtype: int64"
      ]
     },
     "execution_count": 5,
     "metadata": {},
     "output_type": "execute_result"
    }
   ],
   "source": [
    "data.isna().sum()"
   ]
  },
  {
   "cell_type": "markdown",
   "id": "42be4e7e",
   "metadata": {},
   "source": [
    "Можем наблюдать пропуски в столбцах 'days_employed' и 'total_income'."
   ]
  },
  {
   "cell_type": "markdown",
   "id": "f67ae4a7",
   "metadata": {},
   "source": [
    "На сумму дохода('income_type') сильнее всего влияет тип занятости, поэтому заполним пропуски в этом столбце медианным значением по каждому типу из столбца income_type."
   ]
  },
  {
   "cell_type": "code",
   "execution_count": 6,
   "id": "475e78db",
   "metadata": {},
   "outputs": [],
   "source": [
    "for t in data['income_type'].unique():\n",
    "    data.loc[(data['income_type'] == t) & (data['total_income'].isna()), 'total_income'] = \\\n",
    "    data.loc[(data['income_type'] == t), 'total_income'].median()"
   ]
  },
  {
   "cell_type": "markdown",
   "id": "82a6be1e",
   "metadata": {},
   "source": [
    "*Обработаем аномальные значения в столбце 'days_employed' заменив все отрицательные значения положительными.*"
   ]
  },
  {
   "cell_type": "code",
   "execution_count": 7,
   "id": "235a72ad",
   "metadata": {},
   "outputs": [],
   "source": [
    "data['days_employed'] = data['days_employed'].abs()"
   ]
  },
  {
   "cell_type": "markdown",
   "id": "0524acef",
   "metadata": {},
   "source": [
    "*Для каждого типа занятости выведем медианное значение трудового стажа('days_employed') в днях.*"
   ]
  },
  {
   "cell_type": "code",
   "execution_count": 8,
   "id": "f3970b32",
   "metadata": {},
   "outputs": [
    {
     "data": {
      "text/plain": [
       "income_type\n",
       "безработный        366413.652744\n",
       "в декрете            3296.759962\n",
       "госслужащий          2689.368353\n",
       "компаньон            1547.382223\n",
       "пенсионер          365213.306266\n",
       "предприниматель       520.848083\n",
       "сотрудник            1574.202821\n",
       "студент               578.751554\n",
       "Name: days_employed, dtype: float64"
      ]
     },
     "execution_count": 8,
     "metadata": {},
     "output_type": "execute_result"
    }
   ],
   "source": [
    "data.groupby('income_type')['days_employed'].agg('median')"
   ]
  },
  {
   "cell_type": "markdown",
   "id": "ffda3835",
   "metadata": {},
   "source": [
    "У двух типов (безработные и пенсионеры) получатся аномально большие значения. Исправить такие значения сложно, поэтому оставим их как есть. Тем более этот столбец не понадобится вам для исследования."
   ]
  },
  {
   "cell_type": "markdown",
   "id": "d7d363e1",
   "metadata": {},
   "source": [
    "*Выведем перечень уникальных значений столбца 'children'.*"
   ]
  },
  {
   "cell_type": "code",
   "execution_count": 9,
   "id": "814a1c83",
   "metadata": {},
   "outputs": [
    {
     "data": {
      "text/plain": [
       "array([ 1,  0,  3,  2, -1,  4, 20,  5])"
      ]
     },
     "execution_count": 9,
     "metadata": {},
     "output_type": "execute_result"
    }
   ],
   "source": [
    "data['children'].unique()"
   ]
  },
  {
   "cell_type": "markdown",
   "id": "92c79edc",
   "metadata": {},
   "source": [
    "*В столбце 'children' есть два аномальных значения. Удалим строки, в которых встречаются такие аномальные значения.*"
   ]
  },
  {
   "cell_type": "code",
   "execution_count": 10,
   "id": "364ba9c5",
   "metadata": {},
   "outputs": [],
   "source": [
    "data = data[(data['children'] != -1) & (data['children'] != 20)]"
   ]
  },
  {
   "cell_type": "markdown",
   "id": "fff3564e",
   "metadata": {},
   "source": [
    "*Ещё раз выведем перечень уникальных значений столбца 'children', чтобы убедиться, что ненужные значения удалены.**"
   ]
  },
  {
   "cell_type": "code",
   "execution_count": 11,
   "id": "c8875c55",
   "metadata": {},
   "outputs": [
    {
     "data": {
      "text/plain": [
       "array([1, 0, 3, 2, 4, 5])"
      ]
     },
     "execution_count": 11,
     "metadata": {},
     "output_type": "execute_result"
    }
   ],
   "source": [
    "data['children'].unique()"
   ]
  },
  {
   "cell_type": "markdown",
   "id": "cdf6ca81",
   "metadata": {},
   "source": [
    "*Заполним пропуски в столбце 'days_employed' медианными значениями по каждому типу занятости 'income_type'.*"
   ]
  },
  {
   "cell_type": "code",
   "execution_count": 12,
   "id": "fae0f078",
   "metadata": {},
   "outputs": [],
   "source": [
    "for t in data['income_type'].unique():\n",
    "    data.loc[(data['income_type'] == t) & (data['days_employed'].isna()), 'days_employed'] = \\\n",
    "    data.loc[(data['income_type'] == t), 'days_employed'].median()"
   ]
  },
  {
   "cell_type": "markdown",
   "id": "5a2514d9",
   "metadata": {},
   "source": [
    "*Убедимся, что все пропуски заполнены.*"
   ]
  },
  {
   "cell_type": "code",
   "execution_count": 13,
   "id": "c633ddcd",
   "metadata": {},
   "outputs": [
    {
     "data": {
      "text/plain": [
       "children            0\n",
       "days_employed       0\n",
       "dob_years           0\n",
       "education           0\n",
       "education_id        0\n",
       "family_status       0\n",
       "family_status_id    0\n",
       "gender              0\n",
       "income_type         0\n",
       "debt                0\n",
       "total_income        0\n",
       "purpose             0\n",
       "dtype: int64"
      ]
     },
     "execution_count": 13,
     "metadata": {},
     "output_type": "execute_result"
    }
   ],
   "source": [
    "data.isna().sum()"
   ]
  },
  {
   "cell_type": "markdown",
   "id": "6ba64f8c",
   "metadata": {},
   "source": [
    "*Заменим вещественный тип данных в столбце 'total_income' на целочисленный.*"
   ]
  },
  {
   "cell_type": "code",
   "execution_count": 14,
   "id": "797f7517",
   "metadata": {},
   "outputs": [],
   "source": [
    "data['total_income'] = data['total_income'].astype(int)"
   ]
  },
  {
   "cell_type": "markdown",
   "id": "deb3325a",
   "metadata": {},
   "source": [
    "*Обработаем неявные дубликаты в столбце 'education'. Приведём их к нижнему регистру.*"
   ]
  },
  {
   "cell_type": "code",
   "execution_count": 15,
   "id": "e424a57b",
   "metadata": {},
   "outputs": [],
   "source": [
    "data['education'] = data['education'].str.lower()"
   ]
  },
  {
   "cell_type": "markdown",
   "id": "e52eac3a",
   "metadata": {},
   "source": [
    "*Выведем на экран количество дубликатов в данных.*"
   ]
  },
  {
   "cell_type": "code",
   "execution_count": 16,
   "id": "c39c718d",
   "metadata": {},
   "outputs": [
    {
     "data": {
      "text/plain": [
       "71"
      ]
     },
     "execution_count": 16,
     "metadata": {},
     "output_type": "execute_result"
    }
   ],
   "source": [
    "data.duplicated().sum()"
   ]
  },
  {
   "cell_type": "markdown",
   "id": "394cbcdc",
   "metadata": {},
   "source": [
    "*Удалим дубликаты.*"
   ]
  },
  {
   "cell_type": "code",
   "execution_count": 17,
   "id": "f492bd3e",
   "metadata": {},
   "outputs": [],
   "source": [
    "data = data.drop_duplicates()"
   ]
  },
  {
   "cell_type": "markdown",
   "id": "f8d69ec7",
   "metadata": {},
   "source": [
    "Cоздадим в датафрейме столбец 'total_income_category' с категориями:\n",
    "\n",
    "- 0–30000 — 'E'\n",
    "- 30001–50000 — 'D'\n",
    "- 50001–200000 — 'C'\n",
    "- 200001–1000000 — 'B'\n",
    "- 1000001 и выше — 'A'"
   ]
  },
  {
   "cell_type": "code",
   "execution_count": 18,
   "id": "5940d506",
   "metadata": {},
   "outputs": [],
   "source": [
    "def categorize_income(income):\n",
    "    try:\n",
    "        if 0 <= income <= 30000:\n",
    "            return 'E'\n",
    "        elif 30001 <= income <= 50000:\n",
    "            return 'D'\n",
    "        elif 50001 <= income <= 200000:\n",
    "            return 'C'\n",
    "        elif 200001 <= income <= 1000000:\n",
    "            return 'B'\n",
    "        elif income >= 1000001:\n",
    "            return 'A'\n",
    "    except:\n",
    "        pass"
   ]
  },
  {
   "cell_type": "code",
   "execution_count": 19,
   "id": "70002c1e",
   "metadata": {},
   "outputs": [],
   "source": [
    "data['total_income_category'] = data['total_income'].apply(categorize_income)"
   ]
  },
  {
   "cell_type": "markdown",
   "id": "8cc2e588",
   "metadata": {},
   "source": [
    "*Выведем на экран уникальные значения из столбца 'purpose'.*"
   ]
  },
  {
   "cell_type": "code",
   "execution_count": 20,
   "id": "1a084978",
   "metadata": {},
   "outputs": [
    {
     "data": {
      "text/plain": [
       "array(['покупка жилья', 'приобретение автомобиля',\n",
       "       'дополнительное образование', 'сыграть свадьбу',\n",
       "       'операции с жильем', 'образование', 'на проведение свадьбы',\n",
       "       'покупка жилья для семьи', 'покупка недвижимости',\n",
       "       'покупка коммерческой недвижимости', 'покупка жилой недвижимости',\n",
       "       'строительство собственной недвижимости', 'недвижимость',\n",
       "       'строительство недвижимости', 'на покупку подержанного автомобиля',\n",
       "       'на покупку своего автомобиля',\n",
       "       'операции с коммерческой недвижимостью',\n",
       "       'строительство жилой недвижимости', 'жилье',\n",
       "       'операции со своей недвижимостью', 'автомобили',\n",
       "       'заняться образованием', 'сделка с подержанным автомобилем',\n",
       "       'получение образования', 'автомобиль', 'свадьба',\n",
       "       'получение дополнительного образования', 'покупка своего жилья',\n",
       "       'операции с недвижимостью', 'получение высшего образования',\n",
       "       'свой автомобиль', 'сделка с автомобилем',\n",
       "       'профильное образование', 'высшее образование',\n",
       "       'покупка жилья для сдачи', 'на покупку автомобиля', 'ремонт жилью',\n",
       "       'заняться высшим образованием'], dtype=object)"
      ]
     },
     "execution_count": 20,
     "metadata": {},
     "output_type": "execute_result"
    }
   ],
   "source": [
    "data['purpose'].unique()"
   ]
  },
  {
   "cell_type": "markdown",
   "id": "4c53f2e0",
   "metadata": {},
   "source": [
    "Cоздадим в датафрейме столбец 'purpose_category', в который войдут следующие категории:\n",
    "\n",
    "- 'операции с автомобилем'\n",
    "- 'операции с недвижимостью'\n",
    "- 'проведение свадьбы'\n",
    "- 'получение образования'\n"
   ]
  },
  {
   "cell_type": "code",
   "execution_count": 21,
   "id": "50de5c8a",
   "metadata": {},
   "outputs": [],
   "source": [
    "def categorize_purpose(row):\n",
    "    try:\n",
    "        if 'автом' in row:\n",
    "            return 'операции с автомобилем'\n",
    "        elif 'жил' in row or 'недвиж' in row:\n",
    "            return 'операции с недвижимостью'\n",
    "        elif 'свад' in row:\n",
    "            return 'проведение свадьбы'\n",
    "        elif 'образов' in row:\n",
    "            return 'получение образования'\n",
    "    except:\n",
    "        return 'нет категории'"
   ]
  },
  {
   "cell_type": "code",
   "execution_count": 22,
   "id": "a88177f2",
   "metadata": {},
   "outputs": [],
   "source": [
    "data['purpose_category'] = data['purpose'].apply(categorize_purpose)"
   ]
  },
  {
   "cell_type": "markdown",
   "id": "4144cab8",
   "metadata": {},
   "source": [
    "# Проверка гипотез"
   ]
  },
  {
   "cell_type": "markdown",
   "id": "c7ea1334",
   "metadata": {},
   "source": [
    "**Есть ли зависимость между количеством детей и возвратом кредита в срок?**"
   ]
  },
  {
   "cell_type": "code",
   "execution_count": 23,
   "id": "e07739d2",
   "metadata": {},
   "outputs": [
    {
     "data": {
      "text/html": [
       "<div>\n",
       "<style scoped>\n",
       "    .dataframe tbody tr th:only-of-type {\n",
       "        vertical-align: middle;\n",
       "    }\n",
       "\n",
       "    .dataframe tbody tr th {\n",
       "        vertical-align: top;\n",
       "    }\n",
       "\n",
       "    .dataframe thead th {\n",
       "        text-align: right;\n",
       "    }\n",
       "</style>\n",
       "<table border=\"1\" class=\"dataframe\">\n",
       "  <thead>\n",
       "    <tr style=\"text-align: right;\">\n",
       "      <th></th>\n",
       "      <th>количество</th>\n",
       "      <th>среднее</th>\n",
       "      <th>сумма</th>\n",
       "    </tr>\n",
       "    <tr>\n",
       "      <th>children</th>\n",
       "      <th></th>\n",
       "      <th></th>\n",
       "      <th></th>\n",
       "    </tr>\n",
       "  </thead>\n",
       "  <tbody>\n",
       "    <tr>\n",
       "      <th>0</th>\n",
       "      <td>14091.0</td>\n",
       "      <td>7.54%</td>\n",
       "      <td>1063.0</td>\n",
       "    </tr>\n",
       "    <tr>\n",
       "      <th>1</th>\n",
       "      <td>4808.0</td>\n",
       "      <td>9.23%</td>\n",
       "      <td>444.0</td>\n",
       "    </tr>\n",
       "    <tr>\n",
       "      <th>2</th>\n",
       "      <td>2052.0</td>\n",
       "      <td>9.45%</td>\n",
       "      <td>194.0</td>\n",
       "    </tr>\n",
       "    <tr>\n",
       "      <th>3</th>\n",
       "      <td>330.0</td>\n",
       "      <td>8.18%</td>\n",
       "      <td>27.0</td>\n",
       "    </tr>\n",
       "    <tr>\n",
       "      <th>4</th>\n",
       "      <td>41.0</td>\n",
       "      <td>9.76%</td>\n",
       "      <td>4.0</td>\n",
       "    </tr>\n",
       "    <tr>\n",
       "      <th>5</th>\n",
       "      <td>9.0</td>\n",
       "      <td>0.00%</td>\n",
       "      <td>0.0</td>\n",
       "    </tr>\n",
       "  </tbody>\n",
       "</table>\n",
       "</div>"
      ],
      "text/plain": [
       "          количество среднее   сумма\n",
       "children                            \n",
       "0            14091.0   7.54%  1063.0\n",
       "1             4808.0   9.23%   444.0\n",
       "2             2052.0   9.45%   194.0\n",
       "3              330.0   8.18%    27.0\n",
       "4               41.0   9.76%     4.0\n",
       "5                9.0   0.00%     0.0"
      ]
     },
     "execution_count": 23,
     "metadata": {},
     "output_type": "execute_result"
    }
   ],
   "source": [
    "children = data.pivot_table(index=['children'], values='debt', aggfunc=('mean','sum','count'))\n",
    "\n",
    "def percent(i):\n",
    "    return '{0:.2%}'.format(i)\n",
    "\n",
    "children['mean'] = children['mean'].apply(percent)\n",
    "\n",
    "children = children.rename(columns={\n",
    "    'sum': 'сумма',\n",
    "    'count': 'количество',\n",
    "    'mean': 'среднее'\n",
    "})\n",
    "children"
   ]
  },
  {
   "cell_type": "markdown",
   "id": "a062fd21",
   "metadata": {},
   "source": [
    "Вывод: Взглянув на таблицу мы увидим, что у заёмщиков с 3,4 и 5 детьми недостаточное количество данных в сравненнии другими категориями.\n",
    "\n",
    "- 14091 - бездетные \n",
    "- 4808 - 1 ребёнок\n",
    "- 2052 - 2 ребёнка\n",
    "- 330 - 3 ребёнка\n",
    "- 41 - 4 ребёнка\n",
    "- 9 - 5 детей\n",
    "\n",
    "Отбросив малочисленные группы и продолжив анализ оставив только три самые большие выборки с одним, двумя и отсутствием детей, можем заметить, что бездетные заёмщики(7.54%) с большей вероятностью возвращают кредиты в сравнении с гражданами с 1(9.23%) и 2(9.45%) детьми."
   ]
  },
  {
   "cell_type": "markdown",
   "id": "3ec27e5e",
   "metadata": {},
   "source": [
    "**Есть ли зависимость между семейным положением и возвратом кредита в срок?**"
   ]
  },
  {
   "cell_type": "code",
   "execution_count": 24,
   "id": "b7dc9e5d",
   "metadata": {},
   "outputs": [
    {
     "data": {
      "text/html": [
       "<div>\n",
       "<style scoped>\n",
       "    .dataframe tbody tr th:only-of-type {\n",
       "        vertical-align: middle;\n",
       "    }\n",
       "\n",
       "    .dataframe tbody tr th {\n",
       "        vertical-align: top;\n",
       "    }\n",
       "\n",
       "    .dataframe thead th {\n",
       "        text-align: right;\n",
       "    }\n",
       "</style>\n",
       "<table border=\"1\" class=\"dataframe\">\n",
       "  <thead>\n",
       "    <tr style=\"text-align: right;\">\n",
       "      <th></th>\n",
       "      <th>количество</th>\n",
       "      <th>среднее</th>\n",
       "      <th>сумма</th>\n",
       "    </tr>\n",
       "    <tr>\n",
       "      <th>family_status</th>\n",
       "      <th></th>\n",
       "      <th></th>\n",
       "      <th></th>\n",
       "    </tr>\n",
       "  </thead>\n",
       "  <tbody>\n",
       "    <tr>\n",
       "      <th>Не женат / не замужем</th>\n",
       "      <td>2796.0</td>\n",
       "      <td>9.76%</td>\n",
       "      <td>273.0</td>\n",
       "    </tr>\n",
       "    <tr>\n",
       "      <th>в разводе</th>\n",
       "      <td>1189.0</td>\n",
       "      <td>7.06%</td>\n",
       "      <td>84.0</td>\n",
       "    </tr>\n",
       "    <tr>\n",
       "      <th>вдовец / вдова</th>\n",
       "      <td>951.0</td>\n",
       "      <td>6.62%</td>\n",
       "      <td>63.0</td>\n",
       "    </tr>\n",
       "    <tr>\n",
       "      <th>гражданский брак</th>\n",
       "      <td>4134.0</td>\n",
       "      <td>9.31%</td>\n",
       "      <td>385.0</td>\n",
       "    </tr>\n",
       "    <tr>\n",
       "      <th>женат / замужем</th>\n",
       "      <td>12261.0</td>\n",
       "      <td>7.56%</td>\n",
       "      <td>927.0</td>\n",
       "    </tr>\n",
       "  </tbody>\n",
       "</table>\n",
       "</div>"
      ],
      "text/plain": [
       "                       количество среднее  сумма\n",
       "family_status                                   \n",
       "Не женат / не замужем      2796.0   9.76%  273.0\n",
       "в разводе                  1189.0   7.06%   84.0\n",
       "вдовец / вдова              951.0   6.62%   63.0\n",
       "гражданский брак           4134.0   9.31%  385.0\n",
       "женат / замужем           12261.0   7.56%  927.0"
      ]
     },
     "execution_count": 24,
     "metadata": {},
     "output_type": "execute_result"
    }
   ],
   "source": [
    "family = data.pivot_table(index=['family_status'], values='debt', aggfunc=('mean','sum','count'))\n",
    "\n",
    "def percent(i):\n",
    "    return '{0:.2%}'.format(i)\n",
    "\n",
    "family['mean'] = family['mean'].apply(percent)\n",
    "\n",
    "family = family.rename(columns={\n",
    "    'sum': 'сумма',\n",
    "    'count': 'количество',\n",
    "    'mean': 'среднее'\n",
    "})\n",
    "family"
   ]
  },
  {
   "cell_type": "markdown",
   "id": "9f05b5b8",
   "metadata": {},
   "source": [
    "Глядя на таблицу сложно определить зависимость от семейного положения. Углубимся в анализ и разделим людей на 2 группы: 'состоявшие или состоящие в зарегистрированном браке' и 'не состоявшие в зарегистрированном браке'."
   ]
  },
  {
   "cell_type": "code",
   "execution_count": 25,
   "id": "12a3f8c3",
   "metadata": {},
   "outputs": [],
   "source": [
    "def family_groups(i):\n",
    "    try:\n",
    "        if 'Не женат / не замужем' in i or 'гражданский брак' in i:\n",
    "            return 'не состоявшие в зарегистрированном браке'\n",
    "        elif 'в разводе' in i or 'вдовец / вдова' in i or 'женат / замужем' in i:\n",
    "            return 'состоявшие или состоящие в зарегистрированном браке'\n",
    "    except:\n",
    "        return 'некорректное значение'\n",
    "    \n",
    "data['family_groups'] = data['family_status'].apply(family_groups)    \n",
    "    "
   ]
  },
  {
   "cell_type": "markdown",
   "id": "eea08dee",
   "metadata": {},
   "source": [
    "Создадим таблицу категоризированных данных."
   ]
  },
  {
   "cell_type": "code",
   "execution_count": 26,
   "id": "425e09f4",
   "metadata": {},
   "outputs": [
    {
     "data": {
      "text/html": [
       "<div>\n",
       "<style scoped>\n",
       "    .dataframe tbody tr th:only-of-type {\n",
       "        vertical-align: middle;\n",
       "    }\n",
       "\n",
       "    .dataframe tbody tr th {\n",
       "        vertical-align: top;\n",
       "    }\n",
       "\n",
       "    .dataframe thead th {\n",
       "        text-align: right;\n",
       "    }\n",
       "</style>\n",
       "<table border=\"1\" class=\"dataframe\">\n",
       "  <thead>\n",
       "    <tr style=\"text-align: right;\">\n",
       "      <th></th>\n",
       "      <th>количество</th>\n",
       "      <th>среднее</th>\n",
       "      <th>сумма</th>\n",
       "    </tr>\n",
       "    <tr>\n",
       "      <th>family_groups</th>\n",
       "      <th></th>\n",
       "      <th></th>\n",
       "      <th></th>\n",
       "    </tr>\n",
       "  </thead>\n",
       "  <tbody>\n",
       "    <tr>\n",
       "      <th>не состоявшие в зарегистрированном браке</th>\n",
       "      <td>6930.0</td>\n",
       "      <td>9.49%</td>\n",
       "      <td>658.0</td>\n",
       "    </tr>\n",
       "    <tr>\n",
       "      <th>состоявшие или состоящие в зарегистрированном браке</th>\n",
       "      <td>14401.0</td>\n",
       "      <td>7.46%</td>\n",
       "      <td>1074.0</td>\n",
       "    </tr>\n",
       "  </tbody>\n",
       "</table>\n",
       "</div>"
      ],
      "text/plain": [
       "                                                    количество среднее   сумма\n",
       "family_groups                                                                 \n",
       "не состоявшие в зарегистрированном браке                6930.0   9.49%   658.0\n",
       "состоявшие или состоящие в зарегистрированном б...     14401.0   7.46%  1074.0"
      ]
     },
     "execution_count": 26,
     "metadata": {},
     "output_type": "execute_result"
    }
   ],
   "source": [
    "family = data.pivot_table(index=['family_groups'], values='debt', aggfunc=('mean','sum','count'))\n",
    "\n",
    "def percent(i):\n",
    "    return '{0:.2%}'.format(i)\n",
    "\n",
    "family['mean'] = family['mean'].apply(percent)\n",
    "\n",
    "family = family.rename(columns={\n",
    "    'sum': 'сумма',\n",
    "    'count': 'количество',\n",
    "    'mean': 'среднее'\n",
    "})\n",
    "\n",
    "family"
   ]
  },
  {
   "cell_type": "markdown",
   "id": "0a750e91",
   "metadata": {},
   "source": [
    "Вывод: В таблице мы можем наблюдать разницу в 2.03% между 'не состоявшие в зарегистрированном браке' и 'состоявшие или состоящие в зарегистрированном браке', что в свою очередь является существенным показателем. Следовательно мы можем подтвердить зависимость погашения кредита от семейного положения."
   ]
  },
  {
   "cell_type": "markdown",
   "id": "ecbea676",
   "metadata": {},
   "source": [
    "**Есть ли зависимость между уровнем дохода и возвратом кредита в срок?**"
   ]
  },
  {
   "cell_type": "code",
   "execution_count": 27,
   "id": "2ecadcc4",
   "metadata": {},
   "outputs": [
    {
     "data": {
      "text/html": [
       "<div>\n",
       "<style scoped>\n",
       "    .dataframe tbody tr th:only-of-type {\n",
       "        vertical-align: middle;\n",
       "    }\n",
       "\n",
       "    .dataframe tbody tr th {\n",
       "        vertical-align: top;\n",
       "    }\n",
       "\n",
       "    .dataframe thead th {\n",
       "        text-align: right;\n",
       "    }\n",
       "</style>\n",
       "<table border=\"1\" class=\"dataframe\">\n",
       "  <thead>\n",
       "    <tr style=\"text-align: right;\">\n",
       "      <th></th>\n",
       "      <th>сумма</th>\n",
       "      <th>количество</th>\n",
       "      <th>среднее</th>\n",
       "    </tr>\n",
       "    <tr>\n",
       "      <th>total_income_category</th>\n",
       "      <th></th>\n",
       "      <th></th>\n",
       "      <th></th>\n",
       "    </tr>\n",
       "  </thead>\n",
       "  <tbody>\n",
       "    <tr>\n",
       "      <th>A</th>\n",
       "      <td>2</td>\n",
       "      <td>25</td>\n",
       "      <td>8.00%</td>\n",
       "    </tr>\n",
       "    <tr>\n",
       "      <th>B</th>\n",
       "      <td>354</td>\n",
       "      <td>5014</td>\n",
       "      <td>7.06%</td>\n",
       "    </tr>\n",
       "    <tr>\n",
       "      <th>C</th>\n",
       "      <td>1353</td>\n",
       "      <td>15921</td>\n",
       "      <td>8.50%</td>\n",
       "    </tr>\n",
       "    <tr>\n",
       "      <th>D</th>\n",
       "      <td>21</td>\n",
       "      <td>349</td>\n",
       "      <td>6.02%</td>\n",
       "    </tr>\n",
       "    <tr>\n",
       "      <th>E</th>\n",
       "      <td>2</td>\n",
       "      <td>22</td>\n",
       "      <td>9.09%</td>\n",
       "    </tr>\n",
       "  </tbody>\n",
       "</table>\n",
       "</div>"
      ],
      "text/plain": [
       "                       сумма  количество среднее\n",
       "total_income_category                           \n",
       "A                          2          25   8.00%\n",
       "B                        354        5014   7.06%\n",
       "C                       1353       15921   8.50%\n",
       "D                         21         349   6.02%\n",
       "E                          2          22   9.09%"
      ]
     },
     "execution_count": 27,
     "metadata": {},
     "output_type": "execute_result"
    }
   ],
   "source": [
    "income = data.pivot_table(index=['total_income_category'], values='debt', aggfunc=['sum', 'count', 'mean'])\n",
    "income.columns = ['сумма', 'количество', 'среднее']\n",
    "income['среднее'] = [f'{x:.2%}' for x in income['среднее']]\n",
    "\n",
    "income"
   ]
  },
  {
   "cell_type": "markdown",
   "id": "bd28dc71",
   "metadata": {},
   "source": [
    "Вывод: Ознакомившись с таблицей мы можем наблюдать две категории граждан: 'B' и 'C' с наибольшим количеством займов. Остальные группы: 'A','D','E' можем отбросить из анализа, так как их количество несущественно. Обратившись к таблице мы увидим существенное отличие в количестве кредитуемых граждан: 'С'- 15921 и 'B'- 5014. Помимо этого заёмшики категории 'C' реже заёмщиков категории 'B' оплачивают задолженность вовремя, разница составляет 1.44%. Следовательно мы наблюдаем зависимость от уровня дохода для погашения кредита в срок."
   ]
  },
  {
   "cell_type": "markdown",
   "id": "8dced526",
   "metadata": {},
   "source": [
    "**Как разные цели кредита влияют на его возврат в срок?**"
   ]
  },
  {
   "cell_type": "code",
   "execution_count": 28,
   "id": "96122001",
   "metadata": {},
   "outputs": [
    {
     "data": {
      "text/html": [
       "<div>\n",
       "<style scoped>\n",
       "    .dataframe tbody tr th:only-of-type {\n",
       "        vertical-align: middle;\n",
       "    }\n",
       "\n",
       "    .dataframe tbody tr th {\n",
       "        vertical-align: top;\n",
       "    }\n",
       "\n",
       "    .dataframe thead th {\n",
       "        text-align: right;\n",
       "    }\n",
       "</style>\n",
       "<table border=\"1\" class=\"dataframe\">\n",
       "  <thead>\n",
       "    <tr style=\"text-align: right;\">\n",
       "      <th></th>\n",
       "      <th>сумма</th>\n",
       "      <th>количество</th>\n",
       "      <th>среднее</th>\n",
       "    </tr>\n",
       "    <tr>\n",
       "      <th>purpose_category</th>\n",
       "      <th></th>\n",
       "      <th></th>\n",
       "      <th></th>\n",
       "    </tr>\n",
       "  </thead>\n",
       "  <tbody>\n",
       "    <tr>\n",
       "      <th>операции с автомобилем</th>\n",
       "      <td>400</td>\n",
       "      <td>4279</td>\n",
       "      <td>9.35%</td>\n",
       "    </tr>\n",
       "    <tr>\n",
       "      <th>операции с недвижимостью</th>\n",
       "      <td>780</td>\n",
       "      <td>10751</td>\n",
       "      <td>7.26%</td>\n",
       "    </tr>\n",
       "    <tr>\n",
       "      <th>получение образования</th>\n",
       "      <td>369</td>\n",
       "      <td>3988</td>\n",
       "      <td>9.25%</td>\n",
       "    </tr>\n",
       "    <tr>\n",
       "      <th>проведение свадьбы</th>\n",
       "      <td>183</td>\n",
       "      <td>2313</td>\n",
       "      <td>7.91%</td>\n",
       "    </tr>\n",
       "  </tbody>\n",
       "</table>\n",
       "</div>"
      ],
      "text/plain": [
       "                          сумма  количество среднее\n",
       "purpose_category                                   \n",
       "операции с автомобилем      400        4279   9.35%\n",
       "операции с недвижимостью    780       10751   7.26%\n",
       "получение образования       369        3988   9.25%\n",
       "проведение свадьбы          183        2313   7.91%"
      ]
     },
     "execution_count": 28,
     "metadata": {},
     "output_type": "execute_result"
    }
   ],
   "source": [
    "purpose_group = data.pivot_table(index=['purpose_category'], values='debt', aggfunc=['sum', 'count', 'mean'])\n",
    "purpose_group.columns = ['сумма', 'количество', 'среднее']\n",
    "purpose_group['среднее'] = [f'{x:.2%}' for x in purpose_group['среднее']]\n",
    "\n",
    "purpose_group"
   ]
  },
  {
   "cell_type": "markdown",
   "id": "12242a1c",
   "metadata": {},
   "source": [
    "Вывод: Посмотрев на таблицу мы обнаружим, что задолженность по операциям с недвижимостью наименьшая и равна 7.26%. Так же интересной особенностью категории с недвижимостью является большое количество займов, равное 10751, возможно это связано с государственными льготами. Операции с автомобилями имеют самую высокую задолженность и равны 9.35%. Практически аналогичный показатель с автомобильными операциями имеет категория взявшая кредит на получение высшего образования - 9.25%."
   ]
  },
  {
   "cell_type": "markdown",
   "id": "c7f66f1a",
   "metadata": {},
   "source": [
    "# Общий вывод"
   ]
  },
  {
   "cell_type": "markdown",
   "id": "86293efd",
   "metadata": {},
   "source": [
    "Было проведено исследование, чтобы выявить влияние разных факторов на факт погашения кредита в скрок. Входные данные - статистика о платёжеспособности клиентов. Результаты исследования будут учтены при построении модели кредитного скоринга - специальной системы, которая оценивает способность потенциального заёмщика вернуть кредит банку.\n",
    "\n",
    "Преред проведением исследования были поставлены несколько гипотез:\n",
    "\n",
    "- Гипотеза 1: количество детей влияет на возврат кредита в срок;\n",
    "- Гипотеза 2: семейное положение влияет на возврат кредита в срок;\n",
    "- Гипотеза 1: уровень дохода влияет на возврат кредита в срок;\n",
    "- Гипотеза 1: цели кредита влияют на возврат кредита в срок.\n",
    "\n",
    "Гипотеза 1 частично подтверждена: для более точных выводов необходимо больше данных по клиентам с 3,4 и 5 детьми.\n",
    "\n",
    "- 7.54% - доля просроченых кредитов у заёмщиков без детей;\n",
    "- 9.23% - доля просроченых кредитов у заёмщиков у заёмщиков с 1 ребёнком;\n",
    "- 9.45% - доля просроченых кредитов у заёмщиков с 2 детьми.\n",
    "\n",
    "Рекомендация: провести дополнительное исследование на большей выборке данных.\n",
    "\n",
    "Гипотеза 2 подверждена.\n",
    "\n",
    "У не женатых клиентов(9.76%) и тех у кого официально не зарегестрирован брак(9.31%), выше вероятность неуплаты по кредиту. Те кто в разводе (7.06%), женат/замужем(7.56%) или вдовец/вдова(6.62%), меньше вероятность не выполнить обязательства по кредиту.\n",
    "\n",
    "Из даннного исследования мы можем сделать вывод, что люди состоявшие или состоящие в зарегистрированном браке чаще выплачивают задолженнности по кредиту(7.46%), в сравнении с категорией никогда не состоявшей в зарегестрированном браке(9.49%).\n",
    "\n",
    "Гипотеза 3 частично подверждена: для более точных выводов необходимо больше данных по клиентам с уровнем дохода из категорий: 'D'(от 30001 до 50000),'E'(до 30000),'A'(от 1000001).\n",
    "\n",
    "- 7.06% - доля просроченных кредитов у заёмщиков с уровнем дохода от 200001 до 1000000;\n",
    "- 8.50% - доля просроченных кредитов у заёмщиков с уровнем дохода от 50001 до 200000.\n",
    "\n",
    "Рекомендация: провести дополнительное исследование на большей выборке данных.\n",
    "\n",
    "Гипотеза 4 подтверждена:\n",
    "\n",
    "- 7.26% - доля просроченных кредитов,целью которых были операции с недвижимостью;\n",
    "- 7.91% - доля просроченных кредитов,целью которых было проведение свадьбы;\n",
    "- 9.35% - доля просроченных кредитов,целью которых были операции с автомобилями;\n",
    "- 9.25% - доля просроченных кредитов,целью которых было получени образования.\n",
    "\n",
    "Из даннного исследования мы можем сделать вывод, что люди берущие кредит на оперции с недвижимостью более ответственно подходят к задолженности(7.26%). Так же люди берущие кредит для проведения свадьбы более ответственно подходят к выполнению своих обязательств(7.91%) в сравнениями с другими категориями: 'операции с автомобилями'(9.35%), 'получени образования'(9.25%).\n",
    "\n",
    "Общие рекомендации: \n",
    "- 1.Специалистам,которые занимаются построением моделикредитного скоринга, можно использовать зависимости из второй и четвёртой гипотезы(семейное положение и цели кредита). \n",
    "- 2.Необходимо собрать более полную выборку для повторной проверки первой и третьей гипотез."
   ]
  }
 ],
 "metadata": {
  "ExecuteTimeLog": [
   {
    "duration": 568,
    "start_time": "2023-12-26T19:05:19.790Z"
   },
   {
    "duration": 9,
    "start_time": "2023-12-26T19:05:20.361Z"
   },
   {
    "duration": 35,
    "start_time": "2023-12-26T19:05:20.374Z"
   },
   {
    "duration": 20,
    "start_time": "2023-12-26T19:05:20.410Z"
   },
   {
    "duration": 17,
    "start_time": "2023-12-26T19:05:20.432Z"
   },
   {
    "duration": 63,
    "start_time": "2023-12-26T19:05:20.451Z"
   },
   {
    "duration": 2,
    "start_time": "2023-12-26T19:05:20.516Z"
   },
   {
    "duration": 17,
    "start_time": "2023-12-26T19:05:20.520Z"
   },
   {
    "duration": 13,
    "start_time": "2023-12-26T19:05:20.539Z"
   },
   {
    "duration": 17,
    "start_time": "2023-12-26T19:05:20.554Z"
   },
   {
    "duration": 11,
    "start_time": "2023-12-26T19:05:20.572Z"
   },
   {
    "duration": 56,
    "start_time": "2023-12-26T19:05:20.585Z"
   },
   {
    "duration": 12,
    "start_time": "2023-12-26T19:05:20.642Z"
   },
   {
    "duration": 7,
    "start_time": "2023-12-26T19:05:20.656Z"
   },
   {
    "duration": 27,
    "start_time": "2023-12-26T19:05:20.665Z"
   },
   {
    "duration": 38,
    "start_time": "2023-12-26T19:05:20.694Z"
   },
   {
    "duration": 16,
    "start_time": "2023-12-26T19:05:20.734Z"
   },
   {
    "duration": 4,
    "start_time": "2023-12-26T19:05:20.752Z"
   },
   {
    "duration": 23,
    "start_time": "2023-12-26T19:05:20.757Z"
   },
   {
    "duration": 18,
    "start_time": "2023-12-26T19:05:20.782Z"
   },
   {
    "duration": 7,
    "start_time": "2023-12-26T19:05:20.801Z"
   },
   {
    "duration": 52,
    "start_time": "2023-12-26T19:05:20.809Z"
   },
   {
    "duration": 41,
    "start_time": "2023-12-26T19:05:20.862Z"
   },
   {
    "duration": 42,
    "start_time": "2023-12-26T19:05:20.905Z"
   },
   {
    "duration": 28,
    "start_time": "2023-12-26T19:05:20.949Z"
   },
   {
    "duration": 49,
    "start_time": "2023-12-26T19:05:20.979Z"
   },
   {
    "duration": 33,
    "start_time": "2023-12-26T19:05:21.032Z"
   },
   {
    "duration": 30,
    "start_time": "2023-12-26T19:05:21.066Z"
   },
   {
    "duration": 486,
    "start_time": "2023-12-26T19:07:49.112Z"
   },
   {
    "duration": 8,
    "start_time": "2023-12-26T19:07:49.599Z"
   },
   {
    "duration": 17,
    "start_time": "2023-12-26T19:07:49.609Z"
   },
   {
    "duration": 17,
    "start_time": "2023-12-26T19:07:49.627Z"
   },
   {
    "duration": 12,
    "start_time": "2023-12-26T19:07:49.645Z"
   },
   {
    "duration": 58,
    "start_time": "2023-12-26T19:07:49.658Z"
   },
   {
    "duration": 4,
    "start_time": "2023-12-26T19:07:49.718Z"
   },
   {
    "duration": 9,
    "start_time": "2023-12-26T19:07:49.723Z"
   },
   {
    "duration": 9,
    "start_time": "2023-12-26T19:07:49.733Z"
   },
   {
    "duration": 8,
    "start_time": "2023-12-26T19:07:49.745Z"
   },
   {
    "duration": 16,
    "start_time": "2023-12-26T19:07:49.754Z"
   },
   {
    "duration": 49,
    "start_time": "2023-12-26T19:07:49.772Z"
   },
   {
    "duration": 10,
    "start_time": "2023-12-26T19:07:49.822Z"
   },
   {
    "duration": 6,
    "start_time": "2023-12-26T19:07:49.833Z"
   },
   {
    "duration": 13,
    "start_time": "2023-12-26T19:07:49.840Z"
   },
   {
    "duration": 19,
    "start_time": "2023-12-26T19:07:49.854Z"
   },
   {
    "duration": 44,
    "start_time": "2023-12-26T19:07:49.875Z"
   },
   {
    "duration": 4,
    "start_time": "2023-12-26T19:07:49.920Z"
   },
   {
    "duration": 14,
    "start_time": "2023-12-26T19:07:49.926Z"
   },
   {
    "duration": 6,
    "start_time": "2023-12-26T19:07:49.942Z"
   },
   {
    "duration": 3,
    "start_time": "2023-12-26T19:07:49.949Z"
   },
   {
    "duration": 12,
    "start_time": "2023-12-26T19:07:49.954Z"
   },
   {
    "duration": 26,
    "start_time": "2023-12-26T19:07:49.968Z"
   },
   {
    "duration": 23,
    "start_time": "2023-12-26T19:07:50.015Z"
   },
   {
    "duration": 19,
    "start_time": "2023-12-26T19:07:50.039Z"
   },
   {
    "duration": 35,
    "start_time": "2023-12-26T19:07:50.060Z"
   },
   {
    "duration": 33,
    "start_time": "2023-12-26T19:07:50.096Z"
   },
   {
    "duration": 27,
    "start_time": "2023-12-26T19:07:50.132Z"
   },
   {
    "duration": 476,
    "start_time": "2023-12-26T20:03:48.476Z"
   },
   {
    "duration": 8,
    "start_time": "2023-12-26T20:03:48.954Z"
   },
   {
    "duration": 16,
    "start_time": "2023-12-26T20:03:48.964Z"
   },
   {
    "duration": 16,
    "start_time": "2023-12-26T20:03:48.982Z"
   },
   {
    "duration": 24,
    "start_time": "2023-12-26T20:03:48.999Z"
   },
   {
    "duration": 36,
    "start_time": "2023-12-26T20:03:49.025Z"
   },
   {
    "duration": 4,
    "start_time": "2023-12-26T20:03:49.062Z"
   },
   {
    "duration": 9,
    "start_time": "2023-12-26T20:03:49.068Z"
   },
   {
    "duration": 6,
    "start_time": "2023-12-26T20:03:49.078Z"
   },
   {
    "duration": 7,
    "start_time": "2023-12-26T20:03:49.118Z"
   },
   {
    "duration": 4,
    "start_time": "2023-12-26T20:03:49.127Z"
   },
   {
    "duration": 34,
    "start_time": "2023-12-26T20:03:49.133Z"
   },
   {
    "duration": 11,
    "start_time": "2023-12-26T20:03:49.169Z"
   },
   {
    "duration": 33,
    "start_time": "2023-12-26T20:03:49.182Z"
   },
   {
    "duration": 14,
    "start_time": "2023-12-26T20:03:49.216Z"
   },
   {
    "duration": 21,
    "start_time": "2023-12-26T20:03:49.232Z"
   },
   {
    "duration": 18,
    "start_time": "2023-12-26T20:03:49.254Z"
   },
   {
    "duration": 4,
    "start_time": "2023-12-26T20:03:49.274Z"
   },
   {
    "duration": 39,
    "start_time": "2023-12-26T20:03:49.280Z"
   },
   {
    "duration": 7,
    "start_time": "2023-12-26T20:03:49.320Z"
   },
   {
    "duration": 4,
    "start_time": "2023-12-26T20:03:49.329Z"
   },
   {
    "duration": 10,
    "start_time": "2023-12-26T20:03:49.334Z"
   },
   {
    "duration": 27,
    "start_time": "2023-12-26T20:03:49.346Z"
   },
   {
    "duration": 55,
    "start_time": "2023-12-26T20:03:49.374Z"
   },
   {
    "duration": 9,
    "start_time": "2023-12-26T20:03:49.431Z"
   },
   {
    "duration": 34,
    "start_time": "2023-12-26T20:03:49.442Z"
   },
   {
    "duration": 43,
    "start_time": "2023-12-26T20:03:49.477Z"
   },
   {
    "duration": 27,
    "start_time": "2023-12-26T20:03:49.524Z"
   },
   {
    "duration": 494,
    "start_time": "2023-12-26T20:20:11.297Z"
   },
   {
    "duration": 8,
    "start_time": "2023-12-26T20:20:11.793Z"
   },
   {
    "duration": 45,
    "start_time": "2023-12-26T20:20:11.802Z"
   },
   {
    "duration": 51,
    "start_time": "2023-12-26T20:20:11.848Z"
   },
   {
    "duration": 16,
    "start_time": "2023-12-26T20:20:11.901Z"
   },
   {
    "duration": 45,
    "start_time": "2023-12-26T20:20:11.918Z"
   },
   {
    "duration": 3,
    "start_time": "2023-12-26T20:20:11.964Z"
   },
   {
    "duration": 16,
    "start_time": "2023-12-26T20:20:11.969Z"
   },
   {
    "duration": 10,
    "start_time": "2023-12-26T20:20:11.986Z"
   },
   {
    "duration": 7,
    "start_time": "2023-12-26T20:20:11.997Z"
   },
   {
    "duration": 9,
    "start_time": "2023-12-26T20:20:12.005Z"
   },
   {
    "duration": 38,
    "start_time": "2023-12-26T20:20:12.016Z"
   },
   {
    "duration": 9,
    "start_time": "2023-12-26T20:20:12.055Z"
   },
   {
    "duration": 10,
    "start_time": "2023-12-26T20:20:12.066Z"
   },
   {
    "duration": 14,
    "start_time": "2023-12-26T20:20:12.078Z"
   },
   {
    "duration": 35,
    "start_time": "2023-12-26T20:20:12.094Z"
   },
   {
    "duration": 17,
    "start_time": "2023-12-26T20:20:12.130Z"
   },
   {
    "duration": 4,
    "start_time": "2023-12-26T20:20:12.148Z"
   },
   {
    "duration": 28,
    "start_time": "2023-12-26T20:20:12.153Z"
   },
   {
    "duration": 5,
    "start_time": "2023-12-26T20:20:12.182Z"
   },
   {
    "duration": 5,
    "start_time": "2023-12-26T20:20:12.188Z"
   },
   {
    "duration": 21,
    "start_time": "2023-12-26T20:20:12.194Z"
   },
   {
    "duration": 24,
    "start_time": "2023-12-26T20:20:12.216Z"
   },
   {
    "duration": 24,
    "start_time": "2023-12-26T20:20:12.242Z"
   },
   {
    "duration": 9,
    "start_time": "2023-12-26T20:20:12.268Z"
   },
   {
    "duration": 50,
    "start_time": "2023-12-26T20:20:12.279Z"
   },
   {
    "duration": 30,
    "start_time": "2023-12-26T20:20:12.331Z"
   },
   {
    "duration": 30,
    "start_time": "2023-12-26T20:20:12.363Z"
   }
  ],
  "kernelspec": {
   "display_name": "Python 3 (ipykernel)",
   "language": "python",
   "name": "python3"
  },
  "language_info": {
   "codemirror_mode": {
    "name": "ipython",
    "version": 3
   },
   "file_extension": ".py",
   "mimetype": "text/x-python",
   "name": "python",
   "nbconvert_exporter": "python",
   "pygments_lexer": "ipython3",
   "version": "3.11.4"
  },
  "toc": {
   "base_numbering": 1,
   "nav_menu": {},
   "number_sections": false,
   "sideBar": true,
   "skip_h1_title": false,
   "title_cell": "Содержание",
   "title_sidebar": "Contents",
   "toc_cell": true,
   "toc_position": {
    "height": "calc(100% - 180px)",
    "left": "10px",
    "top": "150px",
    "width": "277.438px"
   },
   "toc_section_display": true,
   "toc_window_display": true
  }
 },
 "nbformat": 4,
 "nbformat_minor": 5
}
