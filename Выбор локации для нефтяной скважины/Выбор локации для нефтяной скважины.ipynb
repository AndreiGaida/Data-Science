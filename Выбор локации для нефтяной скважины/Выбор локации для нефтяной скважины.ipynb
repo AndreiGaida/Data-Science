{
 "cells": [
  {
   "cell_type": "markdown",
   "metadata": {
    "toc": true
   },
   "source": [
    "<h1>Содержание<span class=\"tocSkip\"></span></h1>\n",
    "<div class=\"toc\"><ul class=\"toc-item\"><li><span><a href=\"#Выбор-локации-для-скважины\" data-toc-modified-id=\"Выбор-локации-для-скважины-1\">Выбор локации для скважины</a></span></li><li><span><a href=\"#Загрузка-и-подготовка-данных\" data-toc-modified-id=\"Загрузка-и-подготовка-данных-2\">Загрузка и подготовка данных</a></span></li><li><span><a href=\"#Обучение-и-проверка-модели\" data-toc-modified-id=\"Обучение-и-проверка-модели-3\">Обучение и проверка модели</a></span></li><li><span><a href=\"#Подготовка-к-расчёту-прибыли\" data-toc-modified-id=\"Подготовка-к-расчёту-прибыли-4\">Подготовка к расчёту прибыли</a></span></li><li><span><a href=\"#Расчёт-прибыли-и-рисков\" data-toc-modified-id=\"Расчёт-прибыли-и-рисков-5\">Расчёт прибыли и рисков</a></span></li><li><span><a href=\"#Общий-вывод\" data-toc-modified-id=\"Общий-вывод-6\">Общий вывод</a></span></li></ul></div>"
   ]
  },
  {
   "cell_type": "markdown",
   "metadata": {},
   "source": [
    "# Выбор локации для нефтяной скважины"
   ]
  },
  {
   "cell_type": "markdown",
   "metadata": {},
   "source": [
    "Нам предоставлены пробы нефти в трёх регионах: в каждом 10 000 месторождений, где измерили качество нефти и объём её запасов. Необходимо построить модель машинного обучения, которая поможет определить регион, где добыча принесёт наибольшую прибыль. \n",
    "Шаги для выбора локации:\n",
    "\n",
    "Как правило для выбора локации используют следующие шаги:\n",
    "\n",
    "- В избранном регионе ищут месторождения, для каждого определяют значения признаков;\n",
    "- Строят модель и оценивают объём запасов;\n",
    "- Выбирают месторождения с самым высокими оценками значений. Количество месторождений зависит от бюджета компании и стоимости разработки одной скважины;\n",
    "- Прибыль равна суммарной прибыли отобранных месторождений."
   ]
  },
  {
   "cell_type": "markdown",
   "metadata": {},
   "source": [
    "# Загрузка и подготовка данных"
   ]
  },
  {
   "cell_type": "code",
   "execution_count": 1,
   "metadata": {},
   "outputs": [],
   "source": [
    "import numpy as np\n",
    "import pandas as pd\n",
    "from sklearn.model_selection import train_test_split\n",
    "from sklearn.linear_model import LinearRegression\n",
    "from sklearn.metrics import  mean_squared_error\n",
    "from numpy.random import RandomState\n",
    "import matplotlib.pyplot as plt\n",
    "import seaborn as sns\n",
    "state = np.random.RandomState(12345)\n",
    "pd.options.mode.chained_assignment = None"
   ]
  },
  {
   "cell_type": "code",
   "execution_count": 2,
   "metadata": {},
   "outputs": [],
   "source": [
    "try:\n",
    "    data_0 = pd.read_csv('/datasets/geo_data_0.csv')\n",
    "except:\n",
    "    data_0 = pd.read_csv('https://code.s3.yandex.net/datasets/geo_data_0.csv')\n",
    "try:\n",
    "    data_1 = pd.read_csv('/datasets/geo_data_1.csv')\n",
    "except:\n",
    "    data_1 = pd.read_csv('https://code.s3.yandex.net/datasets/geo_data_1.csv')    \n",
    "try:\n",
    "    data_2 = pd.read_csv('/datasets/geo_data_2.csv')\n",
    "except:\n",
    "    data_2 = pd.read_csv('https://code.s3.yandex.net/datasets/geo_data_2.csv')    "
   ]
  },
  {
   "cell_type": "code",
   "execution_count": 3,
   "metadata": {},
   "outputs": [
    {
     "data": {
      "text/html": [
       "<div>\n",
       "<style scoped>\n",
       "    .dataframe tbody tr th:only-of-type {\n",
       "        vertical-align: middle;\n",
       "    }\n",
       "\n",
       "    .dataframe tbody tr th {\n",
       "        vertical-align: top;\n",
       "    }\n",
       "\n",
       "    .dataframe thead th {\n",
       "        text-align: right;\n",
       "    }\n",
       "</style>\n",
       "<table border=\"1\" class=\"dataframe\">\n",
       "  <thead>\n",
       "    <tr style=\"text-align: right;\">\n",
       "      <th></th>\n",
       "      <th>id</th>\n",
       "      <th>f0</th>\n",
       "      <th>f1</th>\n",
       "      <th>f2</th>\n",
       "      <th>product</th>\n",
       "    </tr>\n",
       "  </thead>\n",
       "  <tbody>\n",
       "    <tr>\n",
       "      <th>0</th>\n",
       "      <td>txEyH</td>\n",
       "      <td>0.705745</td>\n",
       "      <td>-0.497823</td>\n",
       "      <td>1.221170</td>\n",
       "      <td>105.280062</td>\n",
       "    </tr>\n",
       "    <tr>\n",
       "      <th>1</th>\n",
       "      <td>2acmU</td>\n",
       "      <td>1.334711</td>\n",
       "      <td>-0.340164</td>\n",
       "      <td>4.365080</td>\n",
       "      <td>73.037750</td>\n",
       "    </tr>\n",
       "    <tr>\n",
       "      <th>2</th>\n",
       "      <td>409Wp</td>\n",
       "      <td>1.022732</td>\n",
       "      <td>0.151990</td>\n",
       "      <td>1.419926</td>\n",
       "      <td>85.265647</td>\n",
       "    </tr>\n",
       "    <tr>\n",
       "      <th>3</th>\n",
       "      <td>iJLyR</td>\n",
       "      <td>-0.032172</td>\n",
       "      <td>0.139033</td>\n",
       "      <td>2.978566</td>\n",
       "      <td>168.620776</td>\n",
       "    </tr>\n",
       "    <tr>\n",
       "      <th>4</th>\n",
       "      <td>Xdl7t</td>\n",
       "      <td>1.988431</td>\n",
       "      <td>0.155413</td>\n",
       "      <td>4.751769</td>\n",
       "      <td>154.036647</td>\n",
       "    </tr>\n",
       "  </tbody>\n",
       "</table>\n",
       "</div>"
      ],
      "text/plain": [
       "      id        f0        f1        f2     product\n",
       "0  txEyH  0.705745 -0.497823  1.221170  105.280062\n",
       "1  2acmU  1.334711 -0.340164  4.365080   73.037750\n",
       "2  409Wp  1.022732  0.151990  1.419926   85.265647\n",
       "3  iJLyR -0.032172  0.139033  2.978566  168.620776\n",
       "4  Xdl7t  1.988431  0.155413  4.751769  154.036647"
      ]
     },
     "metadata": {},
     "output_type": "display_data"
    },
    {
     "data": {
      "text/html": [
       "<div>\n",
       "<style scoped>\n",
       "    .dataframe tbody tr th:only-of-type {\n",
       "        vertical-align: middle;\n",
       "    }\n",
       "\n",
       "    .dataframe tbody tr th {\n",
       "        vertical-align: top;\n",
       "    }\n",
       "\n",
       "    .dataframe thead th {\n",
       "        text-align: right;\n",
       "    }\n",
       "</style>\n",
       "<table border=\"1\" class=\"dataframe\">\n",
       "  <thead>\n",
       "    <tr style=\"text-align: right;\">\n",
       "      <th></th>\n",
       "      <th>id</th>\n",
       "      <th>f0</th>\n",
       "      <th>f1</th>\n",
       "      <th>f2</th>\n",
       "      <th>product</th>\n",
       "    </tr>\n",
       "  </thead>\n",
       "  <tbody>\n",
       "    <tr>\n",
       "      <th>0</th>\n",
       "      <td>kBEdx</td>\n",
       "      <td>-15.001348</td>\n",
       "      <td>-8.276000</td>\n",
       "      <td>-0.005876</td>\n",
       "      <td>3.179103</td>\n",
       "    </tr>\n",
       "    <tr>\n",
       "      <th>1</th>\n",
       "      <td>62mP7</td>\n",
       "      <td>14.272088</td>\n",
       "      <td>-3.475083</td>\n",
       "      <td>0.999183</td>\n",
       "      <td>26.953261</td>\n",
       "    </tr>\n",
       "    <tr>\n",
       "      <th>2</th>\n",
       "      <td>vyE1P</td>\n",
       "      <td>6.263187</td>\n",
       "      <td>-5.948386</td>\n",
       "      <td>5.001160</td>\n",
       "      <td>134.766305</td>\n",
       "    </tr>\n",
       "    <tr>\n",
       "      <th>3</th>\n",
       "      <td>KcrkZ</td>\n",
       "      <td>-13.081196</td>\n",
       "      <td>-11.506057</td>\n",
       "      <td>4.999415</td>\n",
       "      <td>137.945408</td>\n",
       "    </tr>\n",
       "    <tr>\n",
       "      <th>4</th>\n",
       "      <td>AHL4O</td>\n",
       "      <td>12.702195</td>\n",
       "      <td>-8.147433</td>\n",
       "      <td>5.004363</td>\n",
       "      <td>134.766305</td>\n",
       "    </tr>\n",
       "  </tbody>\n",
       "</table>\n",
       "</div>"
      ],
      "text/plain": [
       "      id         f0         f1        f2     product\n",
       "0  kBEdx -15.001348  -8.276000 -0.005876    3.179103\n",
       "1  62mP7  14.272088  -3.475083  0.999183   26.953261\n",
       "2  vyE1P   6.263187  -5.948386  5.001160  134.766305\n",
       "3  KcrkZ -13.081196 -11.506057  4.999415  137.945408\n",
       "4  AHL4O  12.702195  -8.147433  5.004363  134.766305"
      ]
     },
     "metadata": {},
     "output_type": "display_data"
    },
    {
     "data": {
      "text/html": [
       "<div>\n",
       "<style scoped>\n",
       "    .dataframe tbody tr th:only-of-type {\n",
       "        vertical-align: middle;\n",
       "    }\n",
       "\n",
       "    .dataframe tbody tr th {\n",
       "        vertical-align: top;\n",
       "    }\n",
       "\n",
       "    .dataframe thead th {\n",
       "        text-align: right;\n",
       "    }\n",
       "</style>\n",
       "<table border=\"1\" class=\"dataframe\">\n",
       "  <thead>\n",
       "    <tr style=\"text-align: right;\">\n",
       "      <th></th>\n",
       "      <th>id</th>\n",
       "      <th>f0</th>\n",
       "      <th>f1</th>\n",
       "      <th>f2</th>\n",
       "      <th>product</th>\n",
       "    </tr>\n",
       "  </thead>\n",
       "  <tbody>\n",
       "    <tr>\n",
       "      <th>0</th>\n",
       "      <td>fwXo0</td>\n",
       "      <td>-1.146987</td>\n",
       "      <td>0.963328</td>\n",
       "      <td>-0.828965</td>\n",
       "      <td>27.758673</td>\n",
       "    </tr>\n",
       "    <tr>\n",
       "      <th>1</th>\n",
       "      <td>WJtFt</td>\n",
       "      <td>0.262778</td>\n",
       "      <td>0.269839</td>\n",
       "      <td>-2.530187</td>\n",
       "      <td>56.069697</td>\n",
       "    </tr>\n",
       "    <tr>\n",
       "      <th>2</th>\n",
       "      <td>ovLUW</td>\n",
       "      <td>0.194587</td>\n",
       "      <td>0.289035</td>\n",
       "      <td>-5.586433</td>\n",
       "      <td>62.871910</td>\n",
       "    </tr>\n",
       "    <tr>\n",
       "      <th>3</th>\n",
       "      <td>q6cA6</td>\n",
       "      <td>2.236060</td>\n",
       "      <td>-0.553760</td>\n",
       "      <td>0.930038</td>\n",
       "      <td>114.572842</td>\n",
       "    </tr>\n",
       "    <tr>\n",
       "      <th>4</th>\n",
       "      <td>WPMUX</td>\n",
       "      <td>-0.515993</td>\n",
       "      <td>1.716266</td>\n",
       "      <td>5.899011</td>\n",
       "      <td>149.600746</td>\n",
       "    </tr>\n",
       "  </tbody>\n",
       "</table>\n",
       "</div>"
      ],
      "text/plain": [
       "      id        f0        f1        f2     product\n",
       "0  fwXo0 -1.146987  0.963328 -0.828965   27.758673\n",
       "1  WJtFt  0.262778  0.269839 -2.530187   56.069697\n",
       "2  ovLUW  0.194587  0.289035 -5.586433   62.871910\n",
       "3  q6cA6  2.236060 -0.553760  0.930038  114.572842\n",
       "4  WPMUX -0.515993  1.716266  5.899011  149.600746"
      ]
     },
     "metadata": {},
     "output_type": "display_data"
    }
   ],
   "source": [
    "display(data_0.head())\n",
    "display(data_1.head())\n",
    "display(data_2.head())"
   ]
  },
  {
   "cell_type": "markdown",
   "metadata": {},
   "source": [
    "Выведем основную информацию о датафреймах"
   ]
  },
  {
   "cell_type": "code",
   "execution_count": 4,
   "metadata": {},
   "outputs": [
    {
     "name": "stdout",
     "output_type": "stream",
     "text": [
      "Датафрейм 0\n",
      "<class 'pandas.core.frame.DataFrame'>\n",
      "RangeIndex: 100000 entries, 0 to 99999\n",
      "Data columns (total 5 columns):\n",
      " #   Column   Non-Null Count   Dtype  \n",
      "---  ------   --------------   -----  \n",
      " 0   id       100000 non-null  object \n",
      " 1   f0       100000 non-null  float64\n",
      " 2   f1       100000 non-null  float64\n",
      " 3   f2       100000 non-null  float64\n",
      " 4   product  100000 non-null  float64\n",
      "dtypes: float64(4), object(1)\n",
      "memory usage: 3.8+ MB\n"
     ]
    },
    {
     "data": {
      "text/plain": [
       "None"
      ]
     },
     "metadata": {},
     "output_type": "display_data"
    },
    {
     "data": {
      "text/html": [
       "<div>\n",
       "<style scoped>\n",
       "    .dataframe tbody tr th:only-of-type {\n",
       "        vertical-align: middle;\n",
       "    }\n",
       "\n",
       "    .dataframe tbody tr th {\n",
       "        vertical-align: top;\n",
       "    }\n",
       "\n",
       "    .dataframe thead th {\n",
       "        text-align: right;\n",
       "    }\n",
       "</style>\n",
       "<table border=\"1\" class=\"dataframe\">\n",
       "  <thead>\n",
       "    <tr style=\"text-align: right;\">\n",
       "      <th></th>\n",
       "      <th>f0</th>\n",
       "      <th>f1</th>\n",
       "      <th>f2</th>\n",
       "      <th>product</th>\n",
       "    </tr>\n",
       "  </thead>\n",
       "  <tbody>\n",
       "    <tr>\n",
       "      <th>count</th>\n",
       "      <td>100000.000000</td>\n",
       "      <td>100000.000000</td>\n",
       "      <td>100000.000000</td>\n",
       "      <td>100000.000000</td>\n",
       "    </tr>\n",
       "    <tr>\n",
       "      <th>mean</th>\n",
       "      <td>0.500419</td>\n",
       "      <td>0.250143</td>\n",
       "      <td>2.502647</td>\n",
       "      <td>92.500000</td>\n",
       "    </tr>\n",
       "    <tr>\n",
       "      <th>std</th>\n",
       "      <td>0.871832</td>\n",
       "      <td>0.504433</td>\n",
       "      <td>3.248248</td>\n",
       "      <td>44.288691</td>\n",
       "    </tr>\n",
       "    <tr>\n",
       "      <th>min</th>\n",
       "      <td>-1.408605</td>\n",
       "      <td>-0.848218</td>\n",
       "      <td>-12.088328</td>\n",
       "      <td>0.000000</td>\n",
       "    </tr>\n",
       "    <tr>\n",
       "      <th>25%</th>\n",
       "      <td>-0.072580</td>\n",
       "      <td>-0.200881</td>\n",
       "      <td>0.287748</td>\n",
       "      <td>56.497507</td>\n",
       "    </tr>\n",
       "    <tr>\n",
       "      <th>50%</th>\n",
       "      <td>0.502360</td>\n",
       "      <td>0.250252</td>\n",
       "      <td>2.515969</td>\n",
       "      <td>91.849972</td>\n",
       "    </tr>\n",
       "    <tr>\n",
       "      <th>75%</th>\n",
       "      <td>1.073581</td>\n",
       "      <td>0.700646</td>\n",
       "      <td>4.715088</td>\n",
       "      <td>128.564089</td>\n",
       "    </tr>\n",
       "    <tr>\n",
       "      <th>max</th>\n",
       "      <td>2.362331</td>\n",
       "      <td>1.343769</td>\n",
       "      <td>16.003790</td>\n",
       "      <td>185.364347</td>\n",
       "    </tr>\n",
       "  </tbody>\n",
       "</table>\n",
       "</div>"
      ],
      "text/plain": [
       "                  f0             f1             f2        product\n",
       "count  100000.000000  100000.000000  100000.000000  100000.000000\n",
       "mean        0.500419       0.250143       2.502647      92.500000\n",
       "std         0.871832       0.504433       3.248248      44.288691\n",
       "min        -1.408605      -0.848218     -12.088328       0.000000\n",
       "25%        -0.072580      -0.200881       0.287748      56.497507\n",
       "50%         0.502360       0.250252       2.515969      91.849972\n",
       "75%         1.073581       0.700646       4.715088     128.564089\n",
       "max         2.362331       1.343769      16.003790     185.364347"
      ]
     },
     "metadata": {},
     "output_type": "display_data"
    },
    {
     "name": "stdout",
     "output_type": "stream",
     "text": [
      "Датафрейм 1\n",
      "<class 'pandas.core.frame.DataFrame'>\n",
      "RangeIndex: 100000 entries, 0 to 99999\n",
      "Data columns (total 5 columns):\n",
      " #   Column   Non-Null Count   Dtype  \n",
      "---  ------   --------------   -----  \n",
      " 0   id       100000 non-null  object \n",
      " 1   f0       100000 non-null  float64\n",
      " 2   f1       100000 non-null  float64\n",
      " 3   f2       100000 non-null  float64\n",
      " 4   product  100000 non-null  float64\n",
      "dtypes: float64(4), object(1)\n",
      "memory usage: 3.8+ MB\n"
     ]
    },
    {
     "data": {
      "text/plain": [
       "None"
      ]
     },
     "metadata": {},
     "output_type": "display_data"
    },
    {
     "data": {
      "text/html": [
       "<div>\n",
       "<style scoped>\n",
       "    .dataframe tbody tr th:only-of-type {\n",
       "        vertical-align: middle;\n",
       "    }\n",
       "\n",
       "    .dataframe tbody tr th {\n",
       "        vertical-align: top;\n",
       "    }\n",
       "\n",
       "    .dataframe thead th {\n",
       "        text-align: right;\n",
       "    }\n",
       "</style>\n",
       "<table border=\"1\" class=\"dataframe\">\n",
       "  <thead>\n",
       "    <tr style=\"text-align: right;\">\n",
       "      <th></th>\n",
       "      <th>f0</th>\n",
       "      <th>f1</th>\n",
       "      <th>f2</th>\n",
       "      <th>product</th>\n",
       "    </tr>\n",
       "  </thead>\n",
       "  <tbody>\n",
       "    <tr>\n",
       "      <th>count</th>\n",
       "      <td>100000.000000</td>\n",
       "      <td>100000.000000</td>\n",
       "      <td>100000.000000</td>\n",
       "      <td>100000.000000</td>\n",
       "    </tr>\n",
       "    <tr>\n",
       "      <th>mean</th>\n",
       "      <td>1.141296</td>\n",
       "      <td>-4.796579</td>\n",
       "      <td>2.494541</td>\n",
       "      <td>68.825000</td>\n",
       "    </tr>\n",
       "    <tr>\n",
       "      <th>std</th>\n",
       "      <td>8.965932</td>\n",
       "      <td>5.119872</td>\n",
       "      <td>1.703572</td>\n",
       "      <td>45.944423</td>\n",
       "    </tr>\n",
       "    <tr>\n",
       "      <th>min</th>\n",
       "      <td>-31.609576</td>\n",
       "      <td>-26.358598</td>\n",
       "      <td>-0.018144</td>\n",
       "      <td>0.000000</td>\n",
       "    </tr>\n",
       "    <tr>\n",
       "      <th>25%</th>\n",
       "      <td>-6.298551</td>\n",
       "      <td>-8.267985</td>\n",
       "      <td>1.000021</td>\n",
       "      <td>26.953261</td>\n",
       "    </tr>\n",
       "    <tr>\n",
       "      <th>50%</th>\n",
       "      <td>1.153055</td>\n",
       "      <td>-4.813172</td>\n",
       "      <td>2.011479</td>\n",
       "      <td>57.085625</td>\n",
       "    </tr>\n",
       "    <tr>\n",
       "      <th>75%</th>\n",
       "      <td>8.621015</td>\n",
       "      <td>-1.332816</td>\n",
       "      <td>3.999904</td>\n",
       "      <td>107.813044</td>\n",
       "    </tr>\n",
       "    <tr>\n",
       "      <th>max</th>\n",
       "      <td>29.421755</td>\n",
       "      <td>18.734063</td>\n",
       "      <td>5.019721</td>\n",
       "      <td>137.945408</td>\n",
       "    </tr>\n",
       "  </tbody>\n",
       "</table>\n",
       "</div>"
      ],
      "text/plain": [
       "                  f0             f1             f2        product\n",
       "count  100000.000000  100000.000000  100000.000000  100000.000000\n",
       "mean        1.141296      -4.796579       2.494541      68.825000\n",
       "std         8.965932       5.119872       1.703572      45.944423\n",
       "min       -31.609576     -26.358598      -0.018144       0.000000\n",
       "25%        -6.298551      -8.267985       1.000021      26.953261\n",
       "50%         1.153055      -4.813172       2.011479      57.085625\n",
       "75%         8.621015      -1.332816       3.999904     107.813044\n",
       "max        29.421755      18.734063       5.019721     137.945408"
      ]
     },
     "metadata": {},
     "output_type": "display_data"
    },
    {
     "name": "stdout",
     "output_type": "stream",
     "text": [
      "Датафрейм 2\n",
      "<class 'pandas.core.frame.DataFrame'>\n",
      "RangeIndex: 100000 entries, 0 to 99999\n",
      "Data columns (total 5 columns):\n",
      " #   Column   Non-Null Count   Dtype  \n",
      "---  ------   --------------   -----  \n",
      " 0   id       100000 non-null  object \n",
      " 1   f0       100000 non-null  float64\n",
      " 2   f1       100000 non-null  float64\n",
      " 3   f2       100000 non-null  float64\n",
      " 4   product  100000 non-null  float64\n",
      "dtypes: float64(4), object(1)\n",
      "memory usage: 3.8+ MB\n"
     ]
    },
    {
     "data": {
      "text/plain": [
       "None"
      ]
     },
     "metadata": {},
     "output_type": "display_data"
    },
    {
     "data": {
      "text/html": [
       "<div>\n",
       "<style scoped>\n",
       "    .dataframe tbody tr th:only-of-type {\n",
       "        vertical-align: middle;\n",
       "    }\n",
       "\n",
       "    .dataframe tbody tr th {\n",
       "        vertical-align: top;\n",
       "    }\n",
       "\n",
       "    .dataframe thead th {\n",
       "        text-align: right;\n",
       "    }\n",
       "</style>\n",
       "<table border=\"1\" class=\"dataframe\">\n",
       "  <thead>\n",
       "    <tr style=\"text-align: right;\">\n",
       "      <th></th>\n",
       "      <th>f0</th>\n",
       "      <th>f1</th>\n",
       "      <th>f2</th>\n",
       "      <th>product</th>\n",
       "    </tr>\n",
       "  </thead>\n",
       "  <tbody>\n",
       "    <tr>\n",
       "      <th>count</th>\n",
       "      <td>100000.000000</td>\n",
       "      <td>100000.000000</td>\n",
       "      <td>100000.000000</td>\n",
       "      <td>100000.000000</td>\n",
       "    </tr>\n",
       "    <tr>\n",
       "      <th>mean</th>\n",
       "      <td>0.002023</td>\n",
       "      <td>-0.002081</td>\n",
       "      <td>2.495128</td>\n",
       "      <td>95.000000</td>\n",
       "    </tr>\n",
       "    <tr>\n",
       "      <th>std</th>\n",
       "      <td>1.732045</td>\n",
       "      <td>1.730417</td>\n",
       "      <td>3.473445</td>\n",
       "      <td>44.749921</td>\n",
       "    </tr>\n",
       "    <tr>\n",
       "      <th>min</th>\n",
       "      <td>-8.760004</td>\n",
       "      <td>-7.084020</td>\n",
       "      <td>-11.970335</td>\n",
       "      <td>0.000000</td>\n",
       "    </tr>\n",
       "    <tr>\n",
       "      <th>25%</th>\n",
       "      <td>-1.162288</td>\n",
       "      <td>-1.174820</td>\n",
       "      <td>0.130359</td>\n",
       "      <td>59.450441</td>\n",
       "    </tr>\n",
       "    <tr>\n",
       "      <th>50%</th>\n",
       "      <td>0.009424</td>\n",
       "      <td>-0.009482</td>\n",
       "      <td>2.484236</td>\n",
       "      <td>94.925613</td>\n",
       "    </tr>\n",
       "    <tr>\n",
       "      <th>75%</th>\n",
       "      <td>1.158535</td>\n",
       "      <td>1.163678</td>\n",
       "      <td>4.858794</td>\n",
       "      <td>130.595027</td>\n",
       "    </tr>\n",
       "    <tr>\n",
       "      <th>max</th>\n",
       "      <td>7.238262</td>\n",
       "      <td>7.844801</td>\n",
       "      <td>16.739402</td>\n",
       "      <td>190.029838</td>\n",
       "    </tr>\n",
       "  </tbody>\n",
       "</table>\n",
       "</div>"
      ],
      "text/plain": [
       "                  f0             f1             f2        product\n",
       "count  100000.000000  100000.000000  100000.000000  100000.000000\n",
       "mean        0.002023      -0.002081       2.495128      95.000000\n",
       "std         1.732045       1.730417       3.473445      44.749921\n",
       "min        -8.760004      -7.084020     -11.970335       0.000000\n",
       "25%        -1.162288      -1.174820       0.130359      59.450441\n",
       "50%         0.009424      -0.009482       2.484236      94.925613\n",
       "75%         1.158535       1.163678       4.858794     130.595027\n",
       "max         7.238262       7.844801      16.739402     190.029838"
      ]
     },
     "metadata": {},
     "output_type": "display_data"
    }
   ],
   "source": [
    "print('Датафрейм 0')\n",
    "display(data_0.info())\n",
    "display(data_0.describe())\n",
    "print('Датафрейм 1')\n",
    "display(data_1.info())\n",
    "display(data_1.describe())\n",
    "print('Датафрейм 2')\n",
    "display(data_2.info())\n",
    "display(data_2.describe())"
   ]
  },
  {
   "cell_type": "markdown",
   "metadata": {},
   "source": [
    "Рассмотрим количество явных дубликатов в датафреймах."
   ]
  },
  {
   "cell_type": "code",
   "execution_count": 5,
   "metadata": {},
   "outputs": [
    {
     "name": "stdout",
     "output_type": "stream",
     "text": [
      "Количество явных дубликатов в датафрейм 0: 0\n",
      "Количество явных дубликатов в датафрейм 1: 0\n",
      "Количество явных дубликатов в датафрейм 2: 0\n"
     ]
    }
   ],
   "source": [
    "print('Количество явных дубликатов в датафрейм 0:' ,data_0.duplicated().sum())\n",
    "\n",
    "print('Количество явных дубликатов в датафрейм 1:' ,data_1.duplicated().sum())\n",
    "\n",
    "print('Количество явных дубликатов в датафрейм 2:' ,data_2.duplicated().sum())"
   ]
  },
  {
   "cell_type": "markdown",
   "metadata": {},
   "source": [
    "Рассмотрим количество пропусков в датафреймах."
   ]
  },
  {
   "cell_type": "code",
   "execution_count": 6,
   "metadata": {},
   "outputs": [
    {
     "data": {
      "text/plain": [
       "id         0.0\n",
       "f0         0.0\n",
       "f1         0.0\n",
       "f2         0.0\n",
       "product    0.0\n",
       "dtype: float64"
      ]
     },
     "execution_count": 6,
     "metadata": {},
     "output_type": "execute_result"
    }
   ],
   "source": [
    "data_0.isna().mean()\n",
    "data_1.isna().mean()\n",
    "data_2.isna().mean()"
   ]
  },
  {
   "cell_type": "markdown",
   "metadata": {},
   "source": [
    "Удалим неинформативные признаки"
   ]
  },
  {
   "cell_type": "code",
   "execution_count": 7,
   "metadata": {},
   "outputs": [],
   "source": [
    "data_0 = data_0.drop(['id'], axis=1)\n",
    "data_1 = data_1.drop(['id'], axis=1)\n",
    "data_2 = data_2.drop(['id'], axis=1)"
   ]
  },
  {
   "cell_type": "markdown",
   "metadata": {},
   "source": [
    "**При подготовке данных были выполнены следующие действия:**\n",
    "- Ознакомились с датафреймом\n",
    "- Проверили данные на дубликаты\n",
    "- Проверили данные на наличие пропусков\n",
    "- Были удалены неинформативные признаки(столбец 'id')"
   ]
  },
  {
   "cell_type": "markdown",
   "metadata": {},
   "source": [
    "# Обучение и проверка модели"
   ]
  },
  {
   "cell_type": "markdown",
   "metadata": {},
   "source": [
    "Разделим данные на признаки и целевой признак."
   ]
  },
  {
   "cell_type": "code",
   "execution_count": 8,
   "metadata": {},
   "outputs": [],
   "source": [
    "features_0 = data_0.drop('product', axis = 1)\n",
    "target_0 = data_0['product']\n",
    "features_1 = data_1.drop('product', axis = 1)\n",
    "target_1 = data_1['product']\n",
    "features_2 = data_2.drop('product', axis = 1)\n",
    "target_2 = data_2['product']"
   ]
  },
  {
   "cell_type": "markdown",
   "metadata": {},
   "source": [
    "Разделим данные на обучающую и валидационную выборки."
   ]
  },
  {
   "cell_type": "code",
   "execution_count": 9,
   "metadata": {},
   "outputs": [],
   "source": [
    "features_train_0, features_valid_0, target_train_0, target_valid_0 = train_test_split(features_0, target_0, test_size=0.3,\n",
    "                                                                              random_state=state)\n",
    "features_train_1, features_valid_1, target_train_1, target_valid_1 = train_test_split(features_1, target_1, test_size=0.3,\n",
    "                                                                              random_state=state)\n",
    "\n",
    "features_train_2, features_valid_2, target_train_2, target_valid_2 = train_test_split(features_2, target_2, test_size=0.3,\n",
    "                                                                              random_state=state)"
   ]
  },
  {
   "cell_type": "markdown",
   "metadata": {},
   "source": [
    "Напишем функцию, которая принимает данные обучающей и валидационной выборок, которая выводит RMSE модели и возвращает предсказания модели по региону."
   ]
  },
  {
   "cell_type": "code",
   "execution_count": 10,
   "metadata": {},
   "outputs": [],
   "source": [
    "def lin_regression(features_train, target_train, features_valid, target_valid):\n",
    "    model = LinearRegression()\n",
    "    model.fit(features_train, target_train)\n",
    "    predicted_valid = model.predict(features_valid)\n",
    "    mse = mean_squared_error(target_valid, predicted_valid)\n",
    "    rmse =mse**0.5\n",
    "    return predicted_valid, mse, rmse"
   ]
  },
  {
   "cell_type": "code",
   "execution_count": 11,
   "metadata": {},
   "outputs": [
    {
     "name": "stdout",
     "output_type": "stream",
     "text": [
      "Регион 0:\n",
      "Средний запас нефти: 92.6 тыс. баррелей\n",
      "MSE: 1415.1\n",
      "RMSE: 37.6\n",
      "\n"
     ]
    }
   ],
   "source": [
    "predicted_valid_0, mse_0, rmse_0 = lin_regression(features_train_0, target_train_0, features_valid_0, target_valid_0)\n",
    "print('Регион 0:')\n",
    "print('Средний запас нефти: {:.1f} тыс. баррелей'.format(predicted_valid_0.mean()))\n",
    "print('MSE: {:.1f}'.format(mse_0))\n",
    "print('RMSE: {:.1f}'.format(rmse_0))\n",
    "print()\n"
   ]
  },
  {
   "cell_type": "code",
   "execution_count": 12,
   "metadata": {},
   "outputs": [
    {
     "name": "stdout",
     "output_type": "stream",
     "text": [
      "Регион 1:\n",
      "Средний запас нефти: 68.96 тыс. баррелей\n",
      "MSE: 0.8\n",
      "RMSE: 0.9\n",
      "\n"
     ]
    }
   ],
   "source": [
    "predicted_valid_1, mse_1, rmse_1 = lin_regression(features_train_1, target_train_1, features_valid_1, target_valid_1)\n",
    "print('Регион 1:')\n",
    "print('Средний запас нефти: {:.2f} тыс. баррелей'.format(predicted_valid_1.mean()))\n",
    "print('MSE: {:.1f}'.format(mse_1))\n",
    "print('RMSE: {:.1f}'.format(rmse_1))\n",
    "print()\n"
   ]
  },
  {
   "cell_type": "code",
   "execution_count": 13,
   "metadata": {},
   "outputs": [
    {
     "name": "stdout",
     "output_type": "stream",
     "text": [
      "Регион 2:\n",
      "Средний запас нефти: 95.0 тыс. баррелей\n",
      "MSE: 1588.2\n",
      "RMSE: 39.9\n",
      "\n"
     ]
    }
   ],
   "source": [
    "predicted_valid_2, mse_2, rmse_2 = lin_regression(features_train_2, target_train_2, features_valid_2, target_valid_2)\n",
    "print('Регион 2:')\n",
    "print('Средний запас нефти: {:.1f} тыс. баррелей'.format(predicted_valid_2.mean()))\n",
    "print('MSE: {:.1f}'.format(mse_2))\n",
    "print('RMSE: {:.1f}'.format(rmse_2))\n",
    "print()"
   ]
  },
  {
   "cell_type": "markdown",
   "metadata": {},
   "source": [
    "**В ходе обучения и проверки модели были выполнены следующие действия:**\n",
    "- Разделили данные на признаки и целевой признак.\n",
    "- Разделили данные на обучающую и валидационную выборки.\n",
    "- Предсказали среднее количество запасов нефти для регионов\n",
    "- Рассчитали MSE и RMSE для разных регионов"
   ]
  },
  {
   "cell_type": "markdown",
   "metadata": {},
   "source": [
    "# Подготовка к расчёту прибыли"
   ]
  },
  {
   "cell_type": "markdown",
   "metadata": {},
   "source": [
    "*Условия задачи:*\n",
    "- При разведке региона исследуют 500 точек, из которых с помощью машинного обучения выбирают 200 лучших для разработки.\n",
    "- Бюджет на разработку скважин в регионе — 10 млрд рублей.\n",
    "- При нынешних ценах один баррель сырья приносит 450 рублей дохода. Доход с каждой единицы продукта составляет 450 тыс. рублей, поскольку объём указан в тысячах баррелей.\n",
    "- После оценки рисков нужно оставить лишь те регионы, в которых вероятность убытков меньше 2.5%. Среди них выбирают регион с наибольшей средней прибылью"
   ]
  },
  {
   "cell_type": "markdown",
   "metadata": {},
   "source": [
    "Запишем необходимые значения из условия задачи в переменные для дальнейших расчётов. "
   ]
  },
  {
   "cell_type": "code",
   "execution_count": 14,
   "metadata": {},
   "outputs": [
    {
     "name": "stdout",
     "output_type": "stream",
     "text": [
      "Средний объем нефти на скважину: 111.11 тыс. баррелей\n"
     ]
    }
   ],
   "source": [
    "budget = 1e+10 \n",
    "holes = 500 \n",
    "best_holes = 200 \n",
    "barrel_price = 450e+3 \n",
    "\n",
    "required_volume = budget / best_holes / barrel_price\n",
    "\n",
    "print('Средний объем нефти на скважину: {:.2f} тыс. баррелей'.format(required_volume))"
   ]
  },
  {
   "cell_type": "markdown",
   "metadata": {},
   "source": [
    "**Создадим функциию для расчёта прибыли по выбранным скважинам и предсказаниям модели**"
   ]
  },
  {
   "cell_type": "code",
   "execution_count": 15,
   "metadata": {},
   "outputs": [],
   "source": [
    "predicted_valid_0 = pd.Series(predicted_valid_0)\n",
    "predicted_valid_1 = pd.Series(predicted_valid_1)\n",
    "predicted_valid_2 = pd.Series(predicted_valid_2)"
   ]
  },
  {
   "cell_type": "code",
   "execution_count": 16,
   "metadata": {},
   "outputs": [],
   "source": [
    "target_valid_0 = target_valid_0.reset_index(drop = True)\n",
    "target_valid_1 = target_valid_1.reset_index(drop = True)\n",
    "target_valid_2 = target_valid_2.reset_index(drop = True)"
   ]
  },
  {
   "cell_type": "code",
   "execution_count": 17,
   "metadata": {},
   "outputs": [],
   "source": [
    "def function_profit(predicted_valid, target_valid, barrel_price, best_holes, budget):\n",
    "    p1=predicted_valid.sort_values(ascending = False)\n",
    "    t1=target_valid[p1.index][:best_holes]\n",
    "    return t1.sum() * barrel_price - budget "
   ]
  },
  {
   "cell_type": "code",
   "execution_count": 18,
   "metadata": {},
   "outputs": [
    {
     "name": "stdout",
     "output_type": "stream",
     "text": [
      "3 360 315 346.49\n",
      "2 415 086 696.68\n",
      "2 509 038 871.84\n"
     ]
    }
   ],
   "source": [
    "print('{:,.2f}'.format(function_profit(predicted_valid_0, target_valid_0, barrel_price, best_holes, budget)).replace(',', ' '))\n",
    "print('{:,.2f}'.format(function_profit(predicted_valid_1, target_valid_1, barrel_price, best_holes, budget)).replace(',', ' '))\n",
    "print('{:,.2f}'.format(function_profit(predicted_valid_2, target_valid_2, barrel_price, best_holes, budget)).replace(',', ' '))"
   ]
  },
  {
   "cell_type": "markdown",
   "metadata": {},
   "source": [
    "**В ходе подготовки расчётов к прибыли.**\n",
    "- Были записаны необходимые значения из условия задачи в переменные для дальнейших расчётов\n",
    "- Рассчитали прибыль для регионов по выбранным точкам."
   ]
  },
  {
   "cell_type": "markdown",
   "metadata": {},
   "source": [
    "# Расчёт прибыли и рисков"
   ]
  },
  {
   "cell_type": "raw",
   "metadata": {},
   "source": [
    "Для расчёта прибыли и рисков воспользуемся техникой Bootstrap."
   ]
  },
  {
   "cell_type": "code",
   "execution_count": 19,
   "metadata": {},
   "outputs": [
    {
     "name": "stdout",
     "output_type": "stream",
     "text": [
      "Средняя прибыль региона 0 : 409 445 393.77 руб.\n",
      "2.5%-квантиль: 408 308 601.05 руб.\n",
      "95%-ый доверительный интервал: (-169664169.031382, 987668511.464184)\n",
      "Количество отрицательных значений прибыли на 1000 выборок: 80\n",
      "Вероятность убытков 8.00%\n"
     ]
    },
    {
     "data": {
      "image/png": "[encoded data removed]",
      "text/plain": [
       "<Figure size 432x288 with 1 Axes>"
      ]
     },
     "metadata": {},
     "output_type": "display_data"
    },
    {
     "name": "stdout",
     "output_type": "stream",
     "text": [
      "Средняя прибыль региона 1 : 518 364 176.02 руб.\n",
      "2.5%-квантиль: 523 372 071.18 руб.\n",
      "95%-ый доверительный интервал: (100301246.0652204, 928663073.9947308)\n",
      "Количество отрицательных значений прибыли на 1000 выборок: 4\n",
      "Вероятность убытков 0.40%\n"
     ]
    },
    {
     "data": {
      "image/png": "[encoded data removed]",
      "text/plain": [
       "<Figure size 432x288 with 1 Axes>"
      ]
     },
     "metadata": {},
     "output_type": "display_data"
    },
    {
     "name": "stdout",
     "output_type": "stream",
     "text": [
      "Средняя прибыль региона 2 : 373 016 216.57 руб.\n",
      "2.5%-квантиль: 383 985 696.86 руб.\n",
      "95%-ый доверительный интервал: (-163976119.72298354, 887263814.3927201)\n",
      "Количество отрицательных значений прибыли на 1000 выборок: 95\n",
      "Вероятность убытков 9.50%\n"
     ]
    },
    {
     "data": {
      "image/png": "[encoded data removed]",
      "text/plain": [
       "<Figure size 432x288 with 1 Axes>"
      ]
     },
     "metadata": {},
     "output_type": "display_data"
    }
   ],
   "source": [
    "boot_target = [target_valid_0, target_valid_1, target_valid_2]\n",
    "boot_predict = [predicted_valid_0, predicted_valid_1, predicted_valid_2]\n",
    "\n",
    "values = []\n",
    "\n",
    "for region in range(3): \n",
    "    for i in range(1000): \n",
    "        target_subsample = boot_target[region].sample(n=500, replace=True, random_state=state)  \n",
    "        probs_subsample = boot_predict[region][target_subsample.index]\n",
    "        values.append(function_profit(probs_subsample, target_subsample, barrel_price, best_holes, budget)) \n",
    "\n",
    "    values = pd.Series(values)\n",
    "    lower = values.quantile(0.5)\n",
    "    confidence_interval = (values.quantile(0.025), values.quantile(0.975)) \n",
    "    \n",
    "    mean = values.mean()\n",
    "    \n",
    "    negativ_count = values[values < 0].count() \n",
    "   \n",
    "    print(\"Средняя прибыль региона\", region, \": {:,.2f}\".format(mean).replace(',', ' '), \"руб.\")\n",
    "    print(\"2.5%-квантиль: {:,.2f}\".format(lower).replace(',', ' '), \"руб.\")\n",
    "    print(\"95%-ый доверительный интервал:\", confidence_interval)\n",
    "    print(\"Количество отрицательных значений прибыли на 1000 выборок:\", negativ_count)\n",
    "    print(\"Вероятность убытков {:.2%}\".format(negativ_count / len(values)))\n",
    "    \n",
    "    \n",
    "    sns.set_style('darkgrid')\n",
    "    values.plot(kind = 'hist', bins = 30)\n",
    "    plt.title('Гистограмма прибыли')\n",
    "    plt.xlabel('Прибыль')\n",
    "    plt.ylabel('Частота')\n",
    "    plt.show()\n",
    "    \n",
    "    values = []"
   ]
  },
  {
   "cell_type": "markdown",
   "metadata": {},
   "source": [
    "**Воспользовавшись техникой Bootstrap.**\n",
    "- Выяснили доверительные интервал 95% для регионов\n",
    "- Вычислили предполагаемую средняю прибыль для регионов\n",
    "- Определили предполагаемые риски для регионов\n",
    "- Количество отрицательных значений прибыли на 1000 выборок\n",
    "- 2.5%-квантиль"
   ]
  },
  {
   "cell_type": "markdown",
   "metadata": {},
   "source": [
    "# Общий вывод\n",
    "\n",
    "**1 Загрузка и подготовка данных**\n",
    "- Ознакомились с датафреймом\n",
    "- Проверили данные на дубликаты\n",
    "- Проверили данные на наличие пропусков\n",
    "- Были удалены неинформативные признаки(столбец 'id')\n",
    "\n",
    "**2 Обучение и проверка модели**\n",
    "- Разделили данные на признаки и целевой признак.\n",
    "- Разделили данные на обучающую и валидационную выборки.\n",
    "- Предсказали среднее количество запасов нефти для регионов\n",
    "- Рассчитали MSE и RMSE для разных регионов\n",
    "\n",
    "**3 Подготовка к расчёту прибыли**\n",
    "- Были записаны необходимые значения из условия задачи в переменные для дальнейших расчётов\n",
    "- Рассчитали прибыль для регионов по выбранным точкам.\n",
    "\n",
    "**4 Расчёт прибыли и рисков**\n",
    "- Выяснили доверительные интервал 95% для регионов\n",
    "- Вычислили предполагаемую средняю прибыль для регионов\n",
    "- Определили предполагаемые риски для регионов\n",
    "- Количество отрицательных значений прибыли на 1000 выборок\n",
    "- 2.5%-квантиль\n",
    "\n",
    "**По итогу исследования можем сделать вывод, что наиболее подходящим для бизнеса является регион 1.**"
   ]
  }
 ],
 "metadata": {
  "ExecuteTimeLog": [
   {
    "duration": 1640,
    "start_time": "2023-05-16T10:56:06.356Z"
   },
   {
    "duration": 778,
    "start_time": "2023-05-16T10:56:07.998Z"
   },
   {
    "duration": 28,
    "start_time": "2023-05-16T10:59:08.090Z"
   },
   {
    "duration": 111,
    "start_time": "2023-05-16T11:04:41.607Z"
   },
   {
    "duration": 11,
    "start_time": "2023-05-16T11:05:10.006Z"
   },
   {
    "duration": 9,
    "start_time": "2023-05-16T11:05:28.203Z"
   },
   {
    "duration": 11,
    "start_time": "2023-05-16T11:08:14.296Z"
   },
   {
    "duration": 4,
    "start_time": "2023-05-16T11:08:24.776Z"
   },
   {
    "duration": 459,
    "start_time": "2023-05-16T11:08:24.782Z"
   },
   {
    "duration": 10,
    "start_time": "2023-05-16T11:08:25.243Z"
   },
   {
    "duration": 0,
    "start_time": "2023-05-16T11:08:25.254Z"
   },
   {
    "duration": 147,
    "start_time": "2023-05-16T11:08:59.664Z"
   },
   {
    "duration": 1404,
    "start_time": "2023-05-16T12:03:21.039Z"
   },
   {
    "duration": 403,
    "start_time": "2023-05-16T12:03:22.445Z"
   },
   {
    "duration": 27,
    "start_time": "2023-05-16T12:03:22.850Z"
   },
   {
    "duration": 72,
    "start_time": "2023-05-16T12:03:22.878Z"
   },
   {
    "duration": 148,
    "start_time": "2023-05-16T12:03:22.953Z"
   },
   {
    "duration": 50,
    "start_time": "2023-05-16T12:03:58.222Z"
   },
   {
    "duration": 44,
    "start_time": "2023-05-16T12:04:24.874Z"
   },
   {
    "duration": 43,
    "start_time": "2023-05-16T12:04:30.150Z"
   },
   {
    "duration": 105,
    "start_time": "2023-05-16T12:04:39.715Z"
   },
   {
    "duration": 21,
    "start_time": "2023-05-16T12:06:16.054Z"
   },
   {
    "duration": 106,
    "start_time": "2023-05-16T12:07:43.468Z"
   },
   {
    "duration": 9,
    "start_time": "2023-05-16T12:08:18.634Z"
   },
   {
    "duration": 17,
    "start_time": "2023-05-16T12:08:42.979Z"
   },
   {
    "duration": 20,
    "start_time": "2023-05-16T12:08:44.015Z"
   },
   {
    "duration": 134,
    "start_time": "2023-05-16T12:11:36.175Z"
   },
   {
    "duration": 85,
    "start_time": "2023-05-16T12:17:43.307Z"
   },
   {
    "duration": 16,
    "start_time": "2023-05-16T13:03:53.372Z"
   },
   {
    "duration": 5,
    "start_time": "2023-05-16T13:05:16.217Z"
   },
   {
    "duration": 558,
    "start_time": "2023-05-16T13:05:16.228Z"
   },
   {
    "duration": 29,
    "start_time": "2023-05-16T13:05:16.788Z"
   },
   {
    "duration": 110,
    "start_time": "2023-05-16T13:05:16.819Z"
   },
   {
    "duration": 0,
    "start_time": "2023-05-16T13:05:16.931Z"
   },
   {
    "duration": 0,
    "start_time": "2023-05-16T13:05:16.932Z"
   },
   {
    "duration": 0,
    "start_time": "2023-05-16T13:05:16.933Z"
   },
   {
    "duration": 0,
    "start_time": "2023-05-16T13:05:16.934Z"
   },
   {
    "duration": 0,
    "start_time": "2023-05-16T13:05:16.936Z"
   },
   {
    "duration": 0,
    "start_time": "2023-05-16T13:05:16.937Z"
   },
   {
    "duration": 0,
    "start_time": "2023-05-16T13:05:16.939Z"
   },
   {
    "duration": 0,
    "start_time": "2023-05-16T13:05:16.940Z"
   },
   {
    "duration": 4,
    "start_time": "2023-05-16T13:05:38.151Z"
   },
   {
    "duration": 506,
    "start_time": "2023-05-16T13:05:38.159Z"
   },
   {
    "duration": 37,
    "start_time": "2023-05-16T13:05:38.667Z"
   },
   {
    "duration": 212,
    "start_time": "2023-05-16T13:05:38.707Z"
   },
   {
    "duration": 177,
    "start_time": "2023-05-16T13:05:38.921Z"
   },
   {
    "duration": 75,
    "start_time": "2023-05-16T13:05:39.099Z"
   },
   {
    "duration": 0,
    "start_time": "2023-05-16T13:05:39.176Z"
   },
   {
    "duration": 0,
    "start_time": "2023-05-16T13:05:39.178Z"
   },
   {
    "duration": 0,
    "start_time": "2023-05-16T13:05:39.180Z"
   },
   {
    "duration": 0,
    "start_time": "2023-05-16T13:05:39.182Z"
   },
   {
    "duration": 1,
    "start_time": "2023-05-16T13:05:39.183Z"
   },
   {
    "duration": 40,
    "start_time": "2023-05-16T13:05:51.352Z"
   },
   {
    "duration": 14,
    "start_time": "2023-05-16T13:05:54.095Z"
   },
   {
    "duration": 10,
    "start_time": "2023-05-16T13:05:55.580Z"
   },
   {
    "duration": 101,
    "start_time": "2023-05-16T13:05:56.015Z"
   },
   {
    "duration": 47,
    "start_time": "2023-05-16T13:06:05.440Z"
   },
   {
    "duration": 47,
    "start_time": "2023-05-16T13:07:54.451Z"
   },
   {
    "duration": 58,
    "start_time": "2023-05-16T13:32:12.557Z"
   },
   {
    "duration": 10,
    "start_time": "2023-05-16T13:32:15.684Z"
   },
   {
    "duration": 4,
    "start_time": "2023-05-16T14:35:22.823Z"
   },
   {
    "duration": 12,
    "start_time": "2023-05-16T14:35:23.702Z"
   },
   {
    "duration": 15,
    "start_time": "2023-05-16T14:35:40.419Z"
   },
   {
    "duration": 5,
    "start_time": "2023-05-16T14:37:14.163Z"
   },
   {
    "duration": 4,
    "start_time": "2023-05-16T15:02:04.519Z"
   },
   {
    "duration": 20,
    "start_time": "2023-05-16T15:02:06.064Z"
   },
   {
    "duration": 3,
    "start_time": "2023-05-16T15:03:52.119Z"
   },
   {
    "duration": 4,
    "start_time": "2023-05-16T15:04:04.109Z"
   },
   {
    "duration": 424,
    "start_time": "2023-05-16T15:04:04.116Z"
   },
   {
    "duration": 31,
    "start_time": "2023-05-16T15:04:04.542Z"
   },
   {
    "duration": 206,
    "start_time": "2023-05-16T15:04:04.575Z"
   },
   {
    "duration": 145,
    "start_time": "2023-05-16T15:04:04.784Z"
   },
   {
    "duration": 36,
    "start_time": "2023-05-16T15:04:04.932Z"
   },
   {
    "duration": 13,
    "start_time": "2023-05-16T15:04:04.970Z"
   },
   {
    "duration": 14,
    "start_time": "2023-05-16T15:04:04.986Z"
   },
   {
    "duration": 47,
    "start_time": "2023-05-16T15:04:05.002Z"
   },
   {
    "duration": 40,
    "start_time": "2023-05-16T15:04:05.052Z"
   },
   {
    "duration": 3,
    "start_time": "2023-05-16T15:04:05.094Z"
   },
   {
    "duration": 150,
    "start_time": "2023-05-16T15:04:05.099Z"
   },
   {
    "duration": 6,
    "start_time": "2023-05-16T15:04:46.760Z"
   },
   {
    "duration": 414,
    "start_time": "2023-05-16T15:04:46.770Z"
   },
   {
    "duration": 24,
    "start_time": "2023-05-16T15:04:47.185Z"
   },
   {
    "duration": 195,
    "start_time": "2023-05-16T15:04:47.211Z"
   },
   {
    "duration": 169,
    "start_time": "2023-05-16T15:04:47.409Z"
   },
   {
    "duration": 25,
    "start_time": "2023-05-16T15:04:47.580Z"
   },
   {
    "duration": 12,
    "start_time": "2023-05-16T15:04:47.607Z"
   },
   {
    "duration": 31,
    "start_time": "2023-05-16T15:04:47.621Z"
   },
   {
    "duration": 33,
    "start_time": "2023-05-16T15:04:47.654Z"
   },
   {
    "duration": 40,
    "start_time": "2023-05-16T15:04:47.689Z"
   },
   {
    "duration": 16,
    "start_time": "2023-05-16T15:04:47.731Z"
   },
   {
    "duration": 301,
    "start_time": "2023-05-16T15:04:47.749Z"
   },
   {
    "duration": 151,
    "start_time": "2023-05-16T15:14:52.502Z"
   },
   {
    "duration": 4,
    "start_time": "2023-05-16T15:19:41.106Z"
   },
   {
    "duration": 335,
    "start_time": "2023-05-16T15:19:41.819Z"
   },
   {
    "duration": 10,
    "start_time": "2023-05-16T16:09:08.399Z"
   },
   {
    "duration": 15,
    "start_time": "2023-05-16T16:09:12.745Z"
   },
   {
    "duration": 13,
    "start_time": "2023-05-16T16:09:33.350Z"
   },
   {
    "duration": 5,
    "start_time": "2023-05-16T16:56:05.094Z"
   },
   {
    "duration": 414,
    "start_time": "2023-05-16T16:56:05.102Z"
   },
   {
    "duration": 31,
    "start_time": "2023-05-16T16:56:05.517Z"
   },
   {
    "duration": 165,
    "start_time": "2023-05-16T16:56:05.550Z"
   },
   {
    "duration": 150,
    "start_time": "2023-05-16T16:56:05.718Z"
   },
   {
    "duration": 22,
    "start_time": "2023-05-16T16:56:05.870Z"
   },
   {
    "duration": 32,
    "start_time": "2023-05-16T16:56:05.894Z"
   },
   {
    "duration": 36,
    "start_time": "2023-05-16T16:56:05.929Z"
   },
   {
    "duration": 42,
    "start_time": "2023-05-16T16:56:05.967Z"
   },
   {
    "duration": 52,
    "start_time": "2023-05-16T16:56:06.011Z"
   },
   {
    "duration": 4,
    "start_time": "2023-05-16T16:56:06.065Z"
   },
   {
    "duration": 28,
    "start_time": "2023-05-16T16:56:06.070Z"
   },
   {
    "duration": 0,
    "start_time": "2023-05-16T16:56:06.100Z"
   },
   {
    "duration": 0,
    "start_time": "2023-05-16T16:56:06.101Z"
   },
   {
    "duration": 14,
    "start_time": "2023-05-16T17:12:42.692Z"
   },
   {
    "duration": 5,
    "start_time": "2023-05-16T17:13:48.196Z"
   },
   {
    "duration": 422,
    "start_time": "2023-05-16T17:13:48.203Z"
   },
   {
    "duration": 27,
    "start_time": "2023-05-16T17:13:48.626Z"
   },
   {
    "duration": 155,
    "start_time": "2023-05-16T17:13:48.655Z"
   },
   {
    "duration": 147,
    "start_time": "2023-05-16T17:13:48.813Z"
   },
   {
    "duration": 24,
    "start_time": "2023-05-16T17:13:48.962Z"
   },
   {
    "duration": 28,
    "start_time": "2023-05-16T17:13:48.988Z"
   },
   {
    "duration": 51,
    "start_time": "2023-05-16T17:13:49.018Z"
   },
   {
    "duration": 68,
    "start_time": "2023-05-16T17:13:49.071Z"
   },
   {
    "duration": 60,
    "start_time": "2023-05-16T17:13:49.141Z"
   },
   {
    "duration": 8,
    "start_time": "2023-05-16T17:13:49.203Z"
   },
   {
    "duration": 34,
    "start_time": "2023-05-16T17:13:49.213Z"
   },
   {
    "duration": 0,
    "start_time": "2023-05-16T17:13:49.249Z"
   },
   {
    "duration": 0,
    "start_time": "2023-05-16T17:13:49.251Z"
   },
   {
    "duration": 108,
    "start_time": "2023-05-16T17:15:33.940Z"
   },
   {
    "duration": 66,
    "start_time": "2023-05-16T17:16:07.684Z"
   },
   {
    "duration": 47,
    "start_time": "2023-05-16T17:18:07.004Z"
   },
   {
    "duration": 4,
    "start_time": "2023-05-16T17:18:32.251Z"
   },
   {
    "duration": 18,
    "start_time": "2023-05-16T17:18:32.842Z"
   },
   {
    "duration": 16,
    "start_time": "2023-05-16T17:18:37.757Z"
   },
   {
    "duration": 13,
    "start_time": "2023-05-16T17:18:39.591Z"
   },
   {
    "duration": 4,
    "start_time": "2023-05-16T17:20:46.899Z"
   },
   {
    "duration": 37,
    "start_time": "2023-05-16T17:20:47.410Z"
   },
   {
    "duration": 111,
    "start_time": "2023-05-16T17:20:49.835Z"
   },
   {
    "duration": 16,
    "start_time": "2023-05-16T17:20:51.283Z"
   },
   {
    "duration": 5,
    "start_time": "2023-05-16T17:22:35.823Z"
   },
   {
    "duration": 181,
    "start_time": "2023-05-16T17:22:36.199Z"
   },
   {
    "duration": 4,
    "start_time": "2023-05-16T17:22:48.097Z"
   },
   {
    "duration": 124,
    "start_time": "2023-05-16T17:22:48.627Z"
   },
   {
    "duration": 15,
    "start_time": "2023-05-16T17:22:50.058Z"
   },
   {
    "duration": 19,
    "start_time": "2023-05-16T17:22:50.658Z"
   },
   {
    "duration": 4,
    "start_time": "2023-05-16T17:23:01.698Z"
   },
   {
    "duration": 504,
    "start_time": "2023-05-16T17:23:01.705Z"
   },
   {
    "duration": 24,
    "start_time": "2023-05-16T17:23:02.211Z"
   },
   {
    "duration": 224,
    "start_time": "2023-05-16T17:23:02.245Z"
   },
   {
    "duration": 200,
    "start_time": "2023-05-16T17:23:02.472Z"
   },
   {
    "duration": 34,
    "start_time": "2023-05-16T17:23:02.674Z"
   },
   {
    "duration": 47,
    "start_time": "2023-05-16T17:23:02.711Z"
   },
   {
    "duration": 28,
    "start_time": "2023-05-16T17:23:02.760Z"
   },
   {
    "duration": 67,
    "start_time": "2023-05-16T17:23:02.790Z"
   },
   {
    "duration": 93,
    "start_time": "2023-05-16T17:23:02.859Z"
   },
   {
    "duration": 22,
    "start_time": "2023-05-16T17:23:02.954Z"
   },
   {
    "duration": 72,
    "start_time": "2023-05-16T17:23:02.979Z"
   },
   {
    "duration": 123,
    "start_time": "2023-05-16T17:23:03.053Z"
   },
   {
    "duration": 121,
    "start_time": "2023-05-16T17:23:03.248Z"
   },
   {
    "duration": 4,
    "start_time": "2023-05-16T17:26:09.178Z"
   },
   {
    "duration": 40,
    "start_time": "2023-05-16T17:26:09.816Z"
   },
   {
    "duration": 102,
    "start_time": "2023-05-16T17:26:10.845Z"
   },
   {
    "duration": 16,
    "start_time": "2023-05-16T17:26:11.293Z"
   },
   {
    "duration": 3,
    "start_time": "2023-05-16T17:28:13.938Z"
   },
   {
    "duration": 21,
    "start_time": "2023-05-16T17:28:14.707Z"
   },
   {
    "duration": 18,
    "start_time": "2023-05-16T17:28:15.740Z"
   },
   {
    "duration": 21,
    "start_time": "2023-05-16T17:28:16.184Z"
   },
   {
    "duration": 6,
    "start_time": "2023-05-16T17:28:50.785Z"
   },
   {
    "duration": 494,
    "start_time": "2023-05-16T17:28:50.793Z"
   },
   {
    "duration": 24,
    "start_time": "2023-05-16T17:28:51.289Z"
   },
   {
    "duration": 193,
    "start_time": "2023-05-16T17:28:51.315Z"
   },
   {
    "duration": 156,
    "start_time": "2023-05-16T17:28:51.510Z"
   },
   {
    "duration": 25,
    "start_time": "2023-05-16T17:28:51.668Z"
   },
   {
    "duration": 14,
    "start_time": "2023-05-16T17:28:51.695Z"
   },
   {
    "duration": 36,
    "start_time": "2023-05-16T17:28:51.711Z"
   },
   {
    "duration": 30,
    "start_time": "2023-05-16T17:28:51.749Z"
   },
   {
    "duration": 24,
    "start_time": "2023-05-16T17:28:51.781Z"
   },
   {
    "duration": 50,
    "start_time": "2023-05-16T17:28:51.807Z"
   },
   {
    "duration": 204,
    "start_time": "2023-05-16T17:28:51.860Z"
   },
   {
    "duration": 229,
    "start_time": "2023-05-16T17:28:52.067Z"
   },
   {
    "duration": 1476,
    "start_time": "2023-05-16T17:29:13.297Z"
   },
   {
    "duration": 403,
    "start_time": "2023-05-16T17:29:14.775Z"
   },
   {
    "duration": 29,
    "start_time": "2023-05-16T17:29:15.180Z"
   },
   {
    "duration": 180,
    "start_time": "2023-05-16T17:29:15.210Z"
   },
   {
    "duration": 144,
    "start_time": "2023-05-16T17:29:15.393Z"
   },
   {
    "duration": 23,
    "start_time": "2023-05-16T17:29:15.546Z"
   },
   {
    "duration": 19,
    "start_time": "2023-05-16T17:29:15.570Z"
   },
   {
    "duration": 42,
    "start_time": "2023-05-16T17:29:15.590Z"
   },
   {
    "duration": 44,
    "start_time": "2023-05-16T17:29:15.633Z"
   },
   {
    "duration": 41,
    "start_time": "2023-05-16T17:29:15.679Z"
   },
   {
    "duration": 3,
    "start_time": "2023-05-16T17:29:15.722Z"
   },
   {
    "duration": 322,
    "start_time": "2023-05-16T17:29:15.726Z"
   },
   {
    "duration": 0,
    "start_time": "2023-05-16T17:29:16.050Z"
   },
   {
    "duration": 0,
    "start_time": "2023-05-16T17:29:16.051Z"
   },
   {
    "duration": 1437,
    "start_time": "2023-05-16T17:29:53.773Z"
   },
   {
    "duration": 415,
    "start_time": "2023-05-16T17:29:55.212Z"
   },
   {
    "duration": 27,
    "start_time": "2023-05-16T17:29:55.629Z"
   },
   {
    "duration": 173,
    "start_time": "2023-05-16T17:29:55.657Z"
   },
   {
    "duration": 152,
    "start_time": "2023-05-16T17:29:55.845Z"
   },
   {
    "duration": 26,
    "start_time": "2023-05-16T17:29:56.000Z"
   },
   {
    "duration": 33,
    "start_time": "2023-05-16T17:29:56.028Z"
   },
   {
    "duration": 35,
    "start_time": "2023-05-16T17:29:56.063Z"
   },
   {
    "duration": 44,
    "start_time": "2023-05-16T17:29:56.100Z"
   },
   {
    "duration": 43,
    "start_time": "2023-05-16T17:29:56.146Z"
   },
   {
    "duration": 4,
    "start_time": "2023-05-16T17:29:56.190Z"
   },
   {
    "duration": 59,
    "start_time": "2023-05-16T17:29:56.196Z"
   },
   {
    "duration": 107,
    "start_time": "2023-05-16T17:29:56.257Z"
   },
   {
    "duration": 119,
    "start_time": "2023-05-16T17:29:56.449Z"
   },
   {
    "duration": 1499,
    "start_time": "2023-05-16T17:30:36.840Z"
   },
   {
    "duration": 393,
    "start_time": "2023-05-16T17:30:38.341Z"
   },
   {
    "duration": 28,
    "start_time": "2023-05-16T17:30:38.736Z"
   },
   {
    "duration": 164,
    "start_time": "2023-05-16T17:30:38.766Z"
   },
   {
    "duration": 160,
    "start_time": "2023-05-16T17:30:38.932Z"
   },
   {
    "duration": 24,
    "start_time": "2023-05-16T17:30:39.094Z"
   },
   {
    "duration": 35,
    "start_time": "2023-05-16T17:30:39.120Z"
   },
   {
    "duration": 23,
    "start_time": "2023-05-16T17:30:39.157Z"
   },
   {
    "duration": 56,
    "start_time": "2023-05-16T17:30:39.181Z"
   },
   {
    "duration": 41,
    "start_time": "2023-05-16T17:30:39.239Z"
   },
   {
    "duration": 4,
    "start_time": "2023-05-16T17:30:39.282Z"
   },
   {
    "duration": 64,
    "start_time": "2023-05-16T17:30:39.287Z"
   },
   {
    "duration": 104,
    "start_time": "2023-05-16T17:30:39.352Z"
   },
   {
    "duration": 195,
    "start_time": "2023-05-16T17:30:39.460Z"
   },
   {
    "duration": 5,
    "start_time": "2023-05-16T17:32:18.150Z"
   },
   {
    "duration": 456,
    "start_time": "2023-05-16T17:32:18.157Z"
   },
   {
    "duration": 32,
    "start_time": "2023-05-16T17:32:18.615Z"
   },
   {
    "duration": 200,
    "start_time": "2023-05-16T17:32:18.648Z"
   },
   {
    "duration": 147,
    "start_time": "2023-05-16T17:32:18.851Z"
   },
   {
    "duration": 24,
    "start_time": "2023-05-16T17:32:19.000Z"
   },
   {
    "duration": 32,
    "start_time": "2023-05-16T17:32:19.026Z"
   },
   {
    "duration": 49,
    "start_time": "2023-05-16T17:32:19.060Z"
   },
   {
    "duration": 39,
    "start_time": "2023-05-16T17:32:19.111Z"
   },
   {
    "duration": 40,
    "start_time": "2023-05-16T17:32:19.153Z"
   },
   {
    "duration": 4,
    "start_time": "2023-05-16T17:32:19.195Z"
   },
   {
    "duration": 55,
    "start_time": "2023-05-16T17:32:19.201Z"
   },
   {
    "duration": 22,
    "start_time": "2023-05-16T17:32:19.348Z"
   },
   {
    "duration": 113,
    "start_time": "2023-05-16T17:32:19.449Z"
   },
   {
    "duration": 1686,
    "start_time": "2023-05-16T19:59:48.420Z"
   },
   {
    "duration": 527,
    "start_time": "2023-05-16T19:59:50.109Z"
   },
   {
    "duration": 69,
    "start_time": "2023-05-16T19:59:50.637Z"
   },
   {
    "duration": 224,
    "start_time": "2023-05-16T19:59:50.708Z"
   },
   {
    "duration": 234,
    "start_time": "2023-05-16T19:59:50.934Z"
   },
   {
    "duration": 42,
    "start_time": "2023-05-16T19:59:51.172Z"
   },
   {
    "duration": 46,
    "start_time": "2023-05-16T19:59:51.216Z"
   },
   {
    "duration": 87,
    "start_time": "2023-05-16T19:59:51.265Z"
   },
   {
    "duration": 131,
    "start_time": "2023-05-16T19:59:51.355Z"
   },
   {
    "duration": 56,
    "start_time": "2023-05-16T19:59:51.488Z"
   },
   {
    "duration": 84,
    "start_time": "2023-05-16T19:59:51.546Z"
   },
   {
    "duration": 72,
    "start_time": "2023-05-16T19:59:51.633Z"
   },
   {
    "duration": 131,
    "start_time": "2023-05-16T19:59:51.771Z"
   },
   {
    "duration": 154,
    "start_time": "2023-05-16T19:59:51.957Z"
   },
   {
    "duration": 145,
    "start_time": "2023-05-16T19:59:52.113Z"
   },
   {
    "duration": 1721,
    "start_time": "2023-05-16T21:03:06.108Z"
   },
   {
    "duration": 511,
    "start_time": "2023-05-16T21:03:07.831Z"
   },
   {
    "duration": 72,
    "start_time": "2023-05-16T21:03:08.344Z"
   },
   {
    "duration": 206,
    "start_time": "2023-05-16T21:03:08.419Z"
   },
   {
    "duration": 178,
    "start_time": "2023-05-16T21:03:08.627Z"
   },
   {
    "duration": 42,
    "start_time": "2023-05-16T21:03:08.807Z"
   },
   {
    "duration": 24,
    "start_time": "2023-05-16T21:03:08.856Z"
   },
   {
    "duration": 38,
    "start_time": "2023-05-16T21:03:08.882Z"
   },
   {
    "duration": 75,
    "start_time": "2023-05-16T21:03:08.922Z"
   },
   {
    "duration": 56,
    "start_time": "2023-05-16T21:03:08.999Z"
   },
   {
    "duration": 5,
    "start_time": "2023-05-16T21:03:09.061Z"
   },
   {
    "duration": 97,
    "start_time": "2023-05-16T21:03:09.067Z"
   },
   {
    "duration": 148,
    "start_time": "2023-05-16T21:03:09.170Z"
   },
   {
    "duration": 245,
    "start_time": "2023-05-16T21:03:09.325Z"
   },
   {
    "duration": 17,
    "start_time": "2023-05-16T21:03:09.573Z"
   },
   {
    "duration": 3,
    "start_time": "2023-05-16T21:20:14.007Z"
   },
   {
    "duration": 6,
    "start_time": "2023-05-16T21:26:24.586Z"
   },
   {
    "duration": 604,
    "start_time": "2023-05-16T21:26:24.594Z"
   },
   {
    "duration": 30,
    "start_time": "2023-05-16T21:26:25.200Z"
   },
   {
    "duration": 205,
    "start_time": "2023-05-16T21:26:25.231Z"
   },
   {
    "duration": 192,
    "start_time": "2023-05-16T21:26:25.439Z"
   },
   {
    "duration": 61,
    "start_time": "2023-05-16T21:26:25.633Z"
   },
   {
    "duration": 32,
    "start_time": "2023-05-16T21:26:25.696Z"
   },
   {
    "duration": 12,
    "start_time": "2023-05-16T21:26:25.730Z"
   },
   {
    "duration": 87,
    "start_time": "2023-05-16T21:26:25.745Z"
   },
   {
    "duration": 65,
    "start_time": "2023-05-16T21:26:25.834Z"
   },
   {
    "duration": 32,
    "start_time": "2023-05-16T21:26:25.902Z"
   },
   {
    "duration": 127,
    "start_time": "2023-05-16T21:26:25.936Z"
   },
   {
    "duration": 129,
    "start_time": "2023-05-16T21:26:26.069Z"
   },
   {
    "duration": 163,
    "start_time": "2023-05-16T21:26:26.206Z"
   },
   {
    "duration": 17,
    "start_time": "2023-05-16T21:26:26.373Z"
   },
   {
    "duration": 117,
    "start_time": "2023-05-16T21:26:26.392Z"
   },
   {
    "duration": 15,
    "start_time": "2023-05-16T21:26:26.512Z"
   },
   {
    "duration": 188,
    "start_time": "2023-05-16T21:26:26.529Z"
   },
   {
    "duration": 1,
    "start_time": "2023-05-16T21:26:26.718Z"
   },
   {
    "duration": 0,
    "start_time": "2023-05-16T21:26:26.720Z"
   },
   {
    "duration": 1663,
    "start_time": "2023-05-16T21:26:37.297Z"
   },
   {
    "duration": 512,
    "start_time": "2023-05-16T21:26:38.971Z"
   },
   {
    "duration": 33,
    "start_time": "2023-05-16T21:26:39.488Z"
   },
   {
    "duration": 206,
    "start_time": "2023-05-16T21:26:39.524Z"
   },
   {
    "duration": 187,
    "start_time": "2023-05-16T21:26:39.733Z"
   },
   {
    "duration": 47,
    "start_time": "2023-05-16T21:26:39.926Z"
   },
   {
    "duration": 46,
    "start_time": "2023-05-16T21:26:39.977Z"
   },
   {
    "duration": 34,
    "start_time": "2023-05-16T21:26:40.026Z"
   },
   {
    "duration": 82,
    "start_time": "2023-05-16T21:26:40.062Z"
   },
   {
    "duration": 61,
    "start_time": "2023-05-16T21:26:40.146Z"
   },
   {
    "duration": 9,
    "start_time": "2023-05-16T21:26:40.209Z"
   },
   {
    "duration": 148,
    "start_time": "2023-05-16T21:26:40.220Z"
   },
   {
    "duration": 120,
    "start_time": "2023-05-16T21:26:40.382Z"
   },
   {
    "duration": 86,
    "start_time": "2023-05-16T21:26:40.515Z"
   },
   {
    "duration": 39,
    "start_time": "2023-05-16T21:26:40.645Z"
   },
   {
    "duration": 18,
    "start_time": "2023-05-16T21:26:40.696Z"
   },
   {
    "duration": 14,
    "start_time": "2023-05-16T21:26:40.716Z"
   },
   {
    "duration": 25,
    "start_time": "2023-05-16T21:26:40.732Z"
   },
   {
    "duration": 41,
    "start_time": "2023-05-16T21:26:40.764Z"
   },
   {
    "duration": 186,
    "start_time": "2023-05-16T21:26:54.481Z"
   },
   {
    "duration": 23,
    "start_time": "2023-05-16T21:28:08.617Z"
   },
   {
    "duration": 4,
    "start_time": "2023-05-16T21:34:17.410Z"
   },
   {
    "duration": 34,
    "start_time": "2023-05-16T21:34:17.940Z"
   },
   {
    "duration": 5,
    "start_time": "2023-05-16T21:34:24.625Z"
   },
   {
    "duration": 673,
    "start_time": "2023-05-16T21:34:24.637Z"
   },
   {
    "duration": 57,
    "start_time": "2023-05-16T21:34:25.312Z"
   },
   {
    "duration": 237,
    "start_time": "2023-05-16T21:34:25.374Z"
   },
   {
    "duration": 200,
    "start_time": "2023-05-16T21:34:25.614Z"
   },
   {
    "duration": 52,
    "start_time": "2023-05-16T21:34:25.816Z"
   },
   {
    "duration": 26,
    "start_time": "2023-05-16T21:34:25.874Z"
   },
   {
    "duration": 20,
    "start_time": "2023-05-16T21:34:25.904Z"
   },
   {
    "duration": 44,
    "start_time": "2023-05-16T21:34:25.926Z"
   },
   {
    "duration": 55,
    "start_time": "2023-05-16T21:34:25.972Z"
   },
   {
    "duration": 4,
    "start_time": "2023-05-16T21:34:26.030Z"
   },
   {
    "duration": 116,
    "start_time": "2023-05-16T21:34:26.045Z"
   },
   {
    "duration": 159,
    "start_time": "2023-05-16T21:34:26.197Z"
   },
   {
    "duration": 86,
    "start_time": "2023-05-16T21:34:26.393Z"
   },
   {
    "duration": 124,
    "start_time": "2023-05-16T21:34:26.489Z"
   },
   {
    "duration": 12,
    "start_time": "2023-05-16T21:34:26.615Z"
   },
   {
    "duration": 15,
    "start_time": "2023-05-16T21:34:26.629Z"
   },
   {
    "duration": 67,
    "start_time": "2023-05-16T21:34:26.648Z"
   },
   {
    "duration": 69,
    "start_time": "2023-05-16T21:34:26.717Z"
   },
   {
    "duration": 46,
    "start_time": "2023-05-16T21:34:26.792Z"
   },
   {
    "duration": 2054,
    "start_time": "2023-05-16T22:27:34.320Z"
   },
   {
    "duration": 600,
    "start_time": "2023-05-16T22:27:36.388Z"
   },
   {
    "duration": 39,
    "start_time": "2023-05-16T22:27:36.997Z"
   },
   {
    "duration": 258,
    "start_time": "2023-05-16T22:27:37.038Z"
   },
   {
    "duration": 187,
    "start_time": "2023-05-16T22:27:37.299Z"
   },
   {
    "duration": 34,
    "start_time": "2023-05-16T22:27:37.491Z"
   },
   {
    "duration": 39,
    "start_time": "2023-05-16T22:27:37.527Z"
   },
   {
    "duration": 45,
    "start_time": "2023-05-16T22:27:37.568Z"
   },
   {
    "duration": 46,
    "start_time": "2023-05-16T22:27:37.616Z"
   },
   {
    "duration": 63,
    "start_time": "2023-05-16T22:27:37.664Z"
   },
   {
    "duration": 4,
    "start_time": "2023-05-16T22:27:37.729Z"
   },
   {
    "duration": 136,
    "start_time": "2023-05-16T22:27:37.735Z"
   },
   {
    "duration": 163,
    "start_time": "2023-05-16T22:27:37.887Z"
   },
   {
    "duration": 101,
    "start_time": "2023-05-16T22:27:38.060Z"
   },
   {
    "duration": 35,
    "start_time": "2023-05-16T22:27:38.174Z"
   },
   {
    "duration": 101,
    "start_time": "2023-05-16T22:27:38.215Z"
   },
   {
    "duration": 15,
    "start_time": "2023-05-16T22:27:38.318Z"
   },
   {
    "duration": 68,
    "start_time": "2023-05-16T22:27:38.335Z"
   },
   {
    "duration": 10,
    "start_time": "2023-05-16T22:27:38.407Z"
   },
   {
    "duration": 31,
    "start_time": "2023-05-16T22:27:38.419Z"
   },
   {
    "duration": 14,
    "start_time": "2023-05-16T22:37:26.582Z"
   },
   {
    "duration": 170,
    "start_time": "2023-05-16T22:37:27.531Z"
   },
   {
    "duration": 13,
    "start_time": "2023-05-16T22:38:51.384Z"
   },
   {
    "duration": 2254,
    "start_time": "2023-05-16T22:39:24.233Z"
   },
   {
    "duration": 562,
    "start_time": "2023-05-16T22:39:26.501Z"
   },
   {
    "duration": 41,
    "start_time": "2023-05-16T22:39:27.065Z"
   },
   {
    "duration": 279,
    "start_time": "2023-05-16T22:39:27.112Z"
   },
   {
    "duration": 204,
    "start_time": "2023-05-16T22:39:27.402Z"
   },
   {
    "duration": 32,
    "start_time": "2023-05-16T22:39:27.608Z"
   },
   {
    "duration": 42,
    "start_time": "2023-05-16T22:39:27.642Z"
   },
   {
    "duration": 48,
    "start_time": "2023-05-16T22:39:27.686Z"
   },
   {
    "duration": 92,
    "start_time": "2023-05-16T22:39:27.736Z"
   },
   {
    "duration": 77,
    "start_time": "2023-05-16T22:39:27.831Z"
   },
   {
    "duration": 19,
    "start_time": "2023-05-16T22:39:27.910Z"
   },
   {
    "duration": 166,
    "start_time": "2023-05-16T22:39:27.933Z"
   },
   {
    "duration": 136,
    "start_time": "2023-05-16T22:39:28.111Z"
   },
   {
    "duration": 121,
    "start_time": "2023-05-16T22:39:28.256Z"
   },
   {
    "duration": 12,
    "start_time": "2023-05-16T22:39:28.393Z"
   },
   {
    "duration": 238,
    "start_time": "2023-05-16T22:39:28.413Z"
   },
   {
    "duration": 4,
    "start_time": "2023-05-16T22:55:27.557Z"
   },
   {
    "duration": 19,
    "start_time": "2023-05-16T22:55:28.166Z"
   },
   {
    "duration": 3,
    "start_time": "2023-05-16T22:56:03.608Z"
   },
   {
    "duration": 12,
    "start_time": "2023-05-16T22:56:04.192Z"
   },
   {
    "duration": 6,
    "start_time": "2023-05-16T22:59:41.587Z"
   },
   {
    "duration": 6,
    "start_time": "2023-05-16T23:01:49.227Z"
   },
   {
    "duration": 11,
    "start_time": "2023-05-16T23:04:15.467Z"
   },
   {
    "duration": 5,
    "start_time": "2023-05-16T23:04:22.453Z"
   },
   {
    "duration": 10,
    "start_time": "2023-05-16T23:04:54.992Z"
   },
   {
    "duration": 8,
    "start_time": "2023-05-16T23:05:15.575Z"
   },
   {
    "duration": 10,
    "start_time": "2023-05-16T23:05:53.672Z"
   },
   {
    "duration": 1950,
    "start_time": "2023-05-16T23:07:03.882Z"
   },
   {
    "duration": 652,
    "start_time": "2023-05-16T23:07:05.834Z"
   },
   {
    "duration": 34,
    "start_time": "2023-05-16T23:07:06.488Z"
   },
   {
    "duration": 311,
    "start_time": "2023-05-16T23:07:06.525Z"
   },
   {
    "duration": 237,
    "start_time": "2023-05-16T23:07:06.838Z"
   },
   {
    "duration": 46,
    "start_time": "2023-05-16T23:07:07.077Z"
   },
   {
    "duration": 115,
    "start_time": "2023-05-16T23:07:07.129Z"
   },
   {
    "duration": 93,
    "start_time": "2023-05-16T23:07:07.247Z"
   },
   {
    "duration": 121,
    "start_time": "2023-05-16T23:07:07.342Z"
   },
   {
    "duration": 93,
    "start_time": "2023-05-16T23:07:07.465Z"
   },
   {
    "duration": 5,
    "start_time": "2023-05-16T23:07:07.560Z"
   },
   {
    "duration": 238,
    "start_time": "2023-05-16T23:07:07.580Z"
   },
   {
    "duration": 128,
    "start_time": "2023-05-16T23:07:07.859Z"
   },
   {
    "duration": 127,
    "start_time": "2023-05-16T23:07:08.005Z"
   },
   {
    "duration": 99,
    "start_time": "2023-05-16T23:07:08.168Z"
   },
   {
    "duration": 396,
    "start_time": "2023-05-16T23:07:08.286Z"
   },
   {
    "duration": 203,
    "start_time": "2023-05-16T23:07:37.379Z"
   },
   {
    "duration": 34,
    "start_time": "2023-05-16T23:08:15.076Z"
   },
   {
    "duration": 10,
    "start_time": "2023-05-16T23:08:34.688Z"
   },
   {
    "duration": 1686,
    "start_time": "2023-05-16T23:09:06.921Z"
   },
   {
    "duration": 530,
    "start_time": "2023-05-16T23:09:08.610Z"
   },
   {
    "duration": 61,
    "start_time": "2023-05-16T23:09:09.142Z"
   },
   {
    "duration": 213,
    "start_time": "2023-05-16T23:09:09.206Z"
   },
   {
    "duration": 191,
    "start_time": "2023-05-16T23:09:09.421Z"
   },
   {
    "duration": 59,
    "start_time": "2023-05-16T23:09:09.615Z"
   },
   {
    "duration": 35,
    "start_time": "2023-05-16T23:09:09.687Z"
   },
   {
    "duration": 15,
    "start_time": "2023-05-16T23:09:09.724Z"
   },
   {
    "duration": 100,
    "start_time": "2023-05-16T23:09:09.741Z"
   },
   {
    "duration": 74,
    "start_time": "2023-05-16T23:09:09.843Z"
   },
   {
    "duration": 3,
    "start_time": "2023-05-16T23:09:09.919Z"
   },
   {
    "duration": 90,
    "start_time": "2023-05-16T23:09:09.924Z"
   },
   {
    "duration": 219,
    "start_time": "2023-05-16T23:09:10.051Z"
   },
   {
    "duration": 112,
    "start_time": "2023-05-16T23:09:10.282Z"
   },
   {
    "duration": 107,
    "start_time": "2023-05-16T23:09:10.400Z"
   },
   {
    "duration": 69,
    "start_time": "2023-05-16T23:09:10.548Z"
   },
   {
    "duration": 3,
    "start_time": "2023-05-16T23:10:40.308Z"
   },
   {
    "duration": 15,
    "start_time": "2023-05-16T23:10:42.267Z"
   },
   {
    "duration": 1674,
    "start_time": "2023-05-16T23:17:45.480Z"
   },
   {
    "duration": 505,
    "start_time": "2023-05-16T23:17:47.163Z"
   },
   {
    "duration": 34,
    "start_time": "2023-05-16T23:17:47.677Z"
   },
   {
    "duration": 198,
    "start_time": "2023-05-16T23:17:47.714Z"
   },
   {
    "duration": 192,
    "start_time": "2023-05-16T23:17:47.915Z"
   },
   {
    "duration": 57,
    "start_time": "2023-05-16T23:17:48.110Z"
   },
   {
    "duration": 42,
    "start_time": "2023-05-16T23:17:48.169Z"
   },
   {
    "duration": 42,
    "start_time": "2023-05-16T23:17:48.214Z"
   },
   {
    "duration": 129,
    "start_time": "2023-05-16T23:17:48.260Z"
   },
   {
    "duration": 75,
    "start_time": "2023-05-16T23:17:48.399Z"
   },
   {
    "duration": 18,
    "start_time": "2023-05-16T23:17:48.476Z"
   },
   {
    "duration": 84,
    "start_time": "2023-05-16T23:17:48.497Z"
   },
   {
    "duration": 172,
    "start_time": "2023-05-16T23:17:48.583Z"
   },
   {
    "duration": 146,
    "start_time": "2023-05-16T23:17:48.763Z"
   },
   {
    "duration": 35,
    "start_time": "2023-05-16T23:17:48.918Z"
   },
   {
    "duration": 162,
    "start_time": "2023-05-16T23:17:48.963Z"
   },
   {
    "duration": 69,
    "start_time": "2023-05-16T23:17:49.127Z"
   },
   {
    "duration": 21,
    "start_time": "2023-05-16T23:17:49.199Z"
   },
   {
    "duration": 171,
    "start_time": "2023-05-16T23:17:49.222Z"
   },
   {
    "duration": 0,
    "start_time": "2023-05-16T23:17:49.399Z"
   },
   {
    "duration": 0,
    "start_time": "2023-05-16T23:17:49.401Z"
   },
   {
    "duration": 4,
    "start_time": "2023-05-16T23:44:50.133Z"
   },
   {
    "duration": 7,
    "start_time": "2023-05-16T23:44:50.667Z"
   },
   {
    "duration": 11,
    "start_time": "2023-05-16T23:44:51.900Z"
   },
   {
    "duration": 13,
    "start_time": "2023-05-16T23:49:16.576Z"
   },
   {
    "duration": 1382,
    "start_time": "2023-05-16T23:49:57.741Z"
   },
   {
    "duration": 415,
    "start_time": "2023-05-16T23:49:59.125Z"
   },
   {
    "duration": 30,
    "start_time": "2023-05-16T23:49:59.542Z"
   },
   {
    "duration": 184,
    "start_time": "2023-05-16T23:49:59.574Z"
   },
   {
    "duration": 140,
    "start_time": "2023-05-16T23:49:59.764Z"
   },
   {
    "duration": 22,
    "start_time": "2023-05-16T23:49:59.906Z"
   },
   {
    "duration": 23,
    "start_time": "2023-05-16T23:49:59.949Z"
   },
   {
    "duration": 25,
    "start_time": "2023-05-16T23:49:59.974Z"
   },
   {
    "duration": 71,
    "start_time": "2023-05-16T23:50:00.001Z"
   },
   {
    "duration": 48,
    "start_time": "2023-05-16T23:50:00.074Z"
   },
   {
    "duration": 4,
    "start_time": "2023-05-16T23:50:00.123Z"
   },
   {
    "duration": 49,
    "start_time": "2023-05-16T23:50:00.128Z"
   },
   {
    "duration": 218,
    "start_time": "2023-05-16T23:50:00.179Z"
   },
   {
    "duration": 167,
    "start_time": "2023-05-16T23:50:00.404Z"
   },
   {
    "duration": 177,
    "start_time": "2023-05-16T23:50:00.572Z"
   },
   {
    "duration": 66,
    "start_time": "2023-05-16T23:50:00.751Z"
   },
   {
    "duration": 162,
    "start_time": "2023-05-16T23:50:00.819Z"
   },
   {
    "duration": 14,
    "start_time": "2023-05-16T23:52:04.271Z"
   },
   {
    "duration": 15,
    "start_time": "2023-05-16T23:54:23.923Z"
   },
   {
    "duration": 1458,
    "start_time": "2023-05-16T23:55:18.965Z"
   },
   {
    "duration": 446,
    "start_time": "2023-05-16T23:55:20.425Z"
   },
   {
    "duration": 28,
    "start_time": "2023-05-16T23:55:20.873Z"
   },
   {
    "duration": 201,
    "start_time": "2023-05-16T23:55:20.903Z"
   },
   {
    "duration": 179,
    "start_time": "2023-05-16T23:55:21.107Z"
   },
   {
    "duration": 24,
    "start_time": "2023-05-16T23:55:21.288Z"
   },
   {
    "duration": 44,
    "start_time": "2023-05-16T23:55:21.314Z"
   },
   {
    "duration": 34,
    "start_time": "2023-05-16T23:55:21.360Z"
   },
   {
    "duration": 67,
    "start_time": "2023-05-16T23:55:21.396Z"
   },
   {
    "duration": 56,
    "start_time": "2023-05-16T23:55:21.465Z"
   },
   {
    "duration": 5,
    "start_time": "2023-05-16T23:55:21.522Z"
   },
   {
    "duration": 61,
    "start_time": "2023-05-16T23:55:21.529Z"
   },
   {
    "duration": 179,
    "start_time": "2023-05-16T23:55:21.592Z"
   },
   {
    "duration": 179,
    "start_time": "2023-05-16T23:55:21.775Z"
   },
   {
    "duration": 111,
    "start_time": "2023-05-16T23:55:21.956Z"
   },
   {
    "duration": 33,
    "start_time": "2023-05-16T23:55:22.069Z"
   },
   {
    "duration": 162,
    "start_time": "2023-05-16T23:55:22.104Z"
   },
   {
    "duration": 18,
    "start_time": "2023-05-16T23:56:00.365Z"
   },
   {
    "duration": 6,
    "start_time": "2023-05-16T23:59:43.377Z"
   },
   {
    "duration": 471,
    "start_time": "2023-05-16T23:59:43.385Z"
   },
   {
    "duration": 28,
    "start_time": "2023-05-16T23:59:43.858Z"
   },
   {
    "duration": 203,
    "start_time": "2023-05-16T23:59:43.888Z"
   },
   {
    "duration": 160,
    "start_time": "2023-05-16T23:59:44.094Z"
   },
   {
    "duration": 28,
    "start_time": "2023-05-16T23:59:44.256Z"
   },
   {
    "duration": 14,
    "start_time": "2023-05-16T23:59:44.286Z"
   },
   {
    "duration": 27,
    "start_time": "2023-05-16T23:59:44.302Z"
   },
   {
    "duration": 54,
    "start_time": "2023-05-16T23:59:44.331Z"
   },
   {
    "duration": 43,
    "start_time": "2023-05-16T23:59:44.387Z"
   },
   {
    "duration": 7,
    "start_time": "2023-05-16T23:59:44.431Z"
   },
   {
    "duration": 107,
    "start_time": "2023-05-16T23:59:44.440Z"
   },
   {
    "duration": 133,
    "start_time": "2023-05-16T23:59:44.550Z"
   },
   {
    "duration": 186,
    "start_time": "2023-05-16T23:59:44.689Z"
   },
   {
    "duration": 194,
    "start_time": "2023-05-16T23:59:44.879Z"
   },
   {
    "duration": 57,
    "start_time": "2023-05-16T23:59:45.075Z"
   },
   {
    "duration": 78,
    "start_time": "2023-05-16T23:59:45.134Z"
   },
   {
    "duration": 67,
    "start_time": "2023-05-16T23:59:45.214Z"
   },
   {
    "duration": 0,
    "start_time": "2023-05-16T23:59:45.283Z"
   },
   {
    "duration": 0,
    "start_time": "2023-05-16T23:59:45.284Z"
   },
   {
    "duration": 8,
    "start_time": "2023-05-17T00:00:49.542Z"
   },
   {
    "duration": 6,
    "start_time": "2023-05-17T00:00:52.353Z"
   },
   {
    "duration": 16,
    "start_time": "2023-05-17T00:00:54.462Z"
   },
   {
    "duration": 3,
    "start_time": "2023-05-17T00:02:30.364Z"
   },
   {
    "duration": 5,
    "start_time": "2023-05-17T00:02:31.179Z"
   },
   {
    "duration": 10,
    "start_time": "2023-05-17T00:02:43.062Z"
   },
   {
    "duration": 5,
    "start_time": "2023-05-17T00:02:44.694Z"
   },
   {
    "duration": 4,
    "start_time": "2023-05-17T00:02:45.184Z"
   },
   {
    "duration": 19,
    "start_time": "2023-05-17T00:02:46.717Z"
   },
   {
    "duration": 15,
    "start_time": "2023-05-17T00:03:35.897Z"
   },
   {
    "duration": 12,
    "start_time": "2023-05-17T00:04:50.303Z"
   },
   {
    "duration": 1557,
    "start_time": "2023-05-17T00:04:58.081Z"
   },
   {
    "duration": 481,
    "start_time": "2023-05-17T00:04:59.641Z"
   },
   {
    "duration": 45,
    "start_time": "2023-05-17T00:05:00.124Z"
   },
   {
    "duration": 251,
    "start_time": "2023-05-17T00:05:00.171Z"
   },
   {
    "duration": 171,
    "start_time": "2023-05-17T00:05:00.425Z"
   },
   {
    "duration": 24,
    "start_time": "2023-05-17T00:05:00.598Z"
   },
   {
    "duration": 69,
    "start_time": "2023-05-17T00:05:00.624Z"
   },
   {
    "duration": 51,
    "start_time": "2023-05-17T00:05:00.694Z"
   },
   {
    "duration": 157,
    "start_time": "2023-05-17T00:05:00.747Z"
   },
   {
    "duration": 101,
    "start_time": "2023-05-17T00:05:00.907Z"
   },
   {
    "duration": 45,
    "start_time": "2023-05-17T00:05:01.012Z"
   },
   {
    "duration": 114,
    "start_time": "2023-05-17T00:05:01.059Z"
   },
   {
    "duration": 253,
    "start_time": "2023-05-17T00:05:01.175Z"
   },
   {
    "duration": 217,
    "start_time": "2023-05-17T00:05:01.432Z"
   },
   {
    "duration": 135,
    "start_time": "2023-05-17T00:05:01.665Z"
   },
   {
    "duration": 120,
    "start_time": "2023-05-17T00:05:01.802Z"
   },
   {
    "duration": 106,
    "start_time": "2023-05-17T00:05:01.924Z"
   },
   {
    "duration": 145,
    "start_time": "2023-05-17T00:05:02.032Z"
   },
   {
    "duration": 132,
    "start_time": "2023-05-17T00:05:02.179Z"
   },
   {
    "duration": 173,
    "start_time": "2023-05-17T00:05:02.313Z"
   },
   {
    "duration": 1509,
    "start_time": "2023-05-17T00:06:59.812Z"
   },
   {
    "duration": 515,
    "start_time": "2023-05-17T00:07:01.323Z"
   },
   {
    "duration": 41,
    "start_time": "2023-05-17T00:07:01.840Z"
   },
   {
    "duration": 215,
    "start_time": "2023-05-17T00:07:01.884Z"
   },
   {
    "duration": 185,
    "start_time": "2023-05-17T00:07:02.101Z"
   },
   {
    "duration": 27,
    "start_time": "2023-05-17T00:07:02.288Z"
   },
   {
    "duration": 51,
    "start_time": "2023-05-17T00:07:02.317Z"
   },
   {
    "duration": 120,
    "start_time": "2023-05-17T00:07:02.370Z"
   },
   {
    "duration": 193,
    "start_time": "2023-05-17T00:07:02.492Z"
   },
   {
    "duration": 84,
    "start_time": "2023-05-17T00:07:02.687Z"
   },
   {
    "duration": 57,
    "start_time": "2023-05-17T00:07:02.773Z"
   },
   {
    "duration": 89,
    "start_time": "2023-05-17T00:07:02.833Z"
   },
   {
    "duration": 220,
    "start_time": "2023-05-17T00:07:02.924Z"
   },
   {
    "duration": 133,
    "start_time": "2023-05-17T00:07:03.164Z"
   },
   {
    "duration": 222,
    "start_time": "2023-05-17T00:07:03.302Z"
   },
   {
    "duration": 109,
    "start_time": "2023-05-17T00:07:03.526Z"
   },
   {
    "duration": 51,
    "start_time": "2023-05-17T00:07:03.637Z"
   },
   {
    "duration": 152,
    "start_time": "2023-05-17T00:07:03.691Z"
   },
   {
    "duration": 0,
    "start_time": "2023-05-17T00:07:03.845Z"
   },
   {
    "duration": 0,
    "start_time": "2023-05-17T00:07:03.846Z"
   },
   {
    "duration": 0,
    "start_time": "2023-05-17T00:07:03.847Z"
   },
   {
    "duration": 6,
    "start_time": "2023-05-17T00:09:00.916Z"
   },
   {
    "duration": 500,
    "start_time": "2023-05-17T00:09:00.924Z"
   },
   {
    "duration": 39,
    "start_time": "2023-05-17T00:09:01.426Z"
   },
   {
    "duration": 215,
    "start_time": "2023-05-17T00:09:01.467Z"
   },
   {
    "duration": 218,
    "start_time": "2023-05-17T00:09:01.685Z"
   },
   {
    "duration": 56,
    "start_time": "2023-05-17T00:09:01.905Z"
   },
   {
    "duration": 16,
    "start_time": "2023-05-17T00:09:01.963Z"
   },
   {
    "duration": 43,
    "start_time": "2023-05-17T00:09:01.981Z"
   },
   {
    "duration": 104,
    "start_time": "2023-05-17T00:09:02.026Z"
   },
   {
    "duration": 59,
    "start_time": "2023-05-17T00:09:02.132Z"
   },
   {
    "duration": 4,
    "start_time": "2023-05-17T00:09:02.193Z"
   },
   {
    "duration": 153,
    "start_time": "2023-05-17T00:09:02.199Z"
   },
   {
    "duration": 105,
    "start_time": "2023-05-17T00:09:02.353Z"
   },
   {
    "duration": 186,
    "start_time": "2023-05-17T00:09:02.468Z"
   },
   {
    "duration": 113,
    "start_time": "2023-05-17T00:09:02.656Z"
   },
   {
    "duration": 40,
    "start_time": "2023-05-17T00:09:02.771Z"
   },
   {
    "duration": 40,
    "start_time": "2023-05-17T00:09:02.813Z"
   },
   {
    "duration": 54,
    "start_time": "2023-05-17T00:09:02.856Z"
   },
   {
    "duration": 49,
    "start_time": "2023-05-17T00:09:02.912Z"
   },
   {
    "duration": 59,
    "start_time": "2023-05-17T00:09:02.963Z"
   },
   {
    "duration": 87,
    "start_time": "2023-05-17T00:09:03.025Z"
   },
   {
    "duration": 19,
    "start_time": "2023-05-17T00:09:55.947Z"
   },
   {
    "duration": 1572,
    "start_time": "2023-05-17T00:11:01.066Z"
   },
   {
    "duration": 469,
    "start_time": "2023-05-17T00:11:02.645Z"
   },
   {
    "duration": 43,
    "start_time": "2023-05-17T00:11:03.116Z"
   },
   {
    "duration": 163,
    "start_time": "2023-05-17T00:11:03.160Z"
   },
   {
    "duration": 171,
    "start_time": "2023-05-17T00:11:03.325Z"
   },
   {
    "duration": 23,
    "start_time": "2023-05-17T00:11:03.498Z"
   },
   {
    "duration": 36,
    "start_time": "2023-05-17T00:11:03.522Z"
   },
   {
    "duration": 30,
    "start_time": "2023-05-17T00:11:03.563Z"
   },
   {
    "duration": 58,
    "start_time": "2023-05-17T00:11:03.595Z"
   },
   {
    "duration": 44,
    "start_time": "2023-05-17T00:11:03.655Z"
   },
   {
    "duration": 4,
    "start_time": "2023-05-17T00:11:03.701Z"
   },
   {
    "duration": 60,
    "start_time": "2023-05-17T00:11:03.706Z"
   },
   {
    "duration": 32,
    "start_time": "2023-05-17T00:11:03.848Z"
   },
   {
    "duration": 191,
    "start_time": "2023-05-17T00:11:03.885Z"
   },
   {
    "duration": 124,
    "start_time": "2023-05-17T00:11:04.145Z"
   },
   {
    "duration": 21,
    "start_time": "2023-05-17T00:11:04.271Z"
   },
   {
    "duration": 11,
    "start_time": "2023-05-17T00:11:04.294Z"
   },
   {
    "duration": 11,
    "start_time": "2023-05-17T00:11:04.306Z"
   },
   {
    "duration": 10,
    "start_time": "2023-05-17T00:11:04.319Z"
   },
   {
    "duration": 7,
    "start_time": "2023-05-17T00:11:04.331Z"
   },
   {
    "duration": 142,
    "start_time": "2023-05-17T00:11:04.340Z"
   },
   {
    "duration": 11,
    "start_time": "2023-05-17T00:13:36.961Z"
   },
   {
    "duration": 5,
    "start_time": "2023-05-17T00:13:54.035Z"
   },
   {
    "duration": 9,
    "start_time": "2023-05-17T00:17:35.466Z"
   },
   {
    "duration": 12,
    "start_time": "2023-05-17T00:18:03.476Z"
   },
   {
    "duration": 13,
    "start_time": "2023-05-17T00:18:04.287Z"
   },
   {
    "duration": 15,
    "start_time": "2023-05-17T00:18:06.926Z"
   },
   {
    "duration": 8,
    "start_time": "2023-05-17T00:19:24.180Z"
   },
   {
    "duration": 432,
    "start_time": "2023-05-17T00:19:24.191Z"
   },
   {
    "duration": 42,
    "start_time": "2023-05-17T00:19:24.625Z"
   },
   {
    "duration": 185,
    "start_time": "2023-05-17T00:19:24.669Z"
   },
   {
    "duration": 137,
    "start_time": "2023-05-17T00:19:24.861Z"
   },
   {
    "duration": 23,
    "start_time": "2023-05-17T00:19:25.000Z"
   },
   {
    "duration": 29,
    "start_time": "2023-05-17T00:19:25.025Z"
   },
   {
    "duration": 22,
    "start_time": "2023-05-17T00:19:25.055Z"
   },
   {
    "duration": 40,
    "start_time": "2023-05-17T00:19:25.079Z"
   },
   {
    "duration": 48,
    "start_time": "2023-05-17T00:19:25.121Z"
   },
   {
    "duration": 3,
    "start_time": "2023-05-17T00:19:25.170Z"
   },
   {
    "duration": 74,
    "start_time": "2023-05-17T00:19:25.175Z"
   },
   {
    "duration": 110,
    "start_time": "2023-05-17T00:19:25.253Z"
   },
   {
    "duration": 194,
    "start_time": "2023-05-17T00:19:25.368Z"
   },
   {
    "duration": 6,
    "start_time": "2023-05-17T00:19:25.564Z"
   },
   {
    "duration": 12,
    "start_time": "2023-05-17T00:19:25.652Z"
   },
   {
    "duration": 87,
    "start_time": "2023-05-17T00:19:25.670Z"
   },
   {
    "duration": 15,
    "start_time": "2023-05-17T00:19:25.761Z"
   },
   {
    "duration": 10,
    "start_time": "2023-05-17T00:19:25.778Z"
   },
   {
    "duration": 5,
    "start_time": "2023-05-17T00:19:25.790Z"
   },
   {
    "duration": 7,
    "start_time": "2023-05-17T00:19:25.796Z"
   },
   {
    "duration": 7,
    "start_time": "2023-05-17T00:19:25.805Z"
   },
   {
    "duration": 10,
    "start_time": "2023-05-17T00:19:25.813Z"
   },
   {
    "duration": 38,
    "start_time": "2023-05-17T00:19:25.824Z"
   },
   {
    "duration": 0,
    "start_time": "2023-05-17T00:19:25.864Z"
   },
   {
    "duration": 0,
    "start_time": "2023-05-17T00:19:25.865Z"
   },
   {
    "duration": 29,
    "start_time": "2023-05-17T00:27:43.838Z"
   },
   {
    "duration": 5,
    "start_time": "2023-05-17T00:31:21.885Z"
   },
   {
    "duration": 12,
    "start_time": "2023-05-17T00:31:22.576Z"
   },
   {
    "duration": 12,
    "start_time": "2023-05-17T00:31:30.282Z"
   },
   {
    "duration": 13,
    "start_time": "2023-05-17T00:31:30.563Z"
   },
   {
    "duration": 12,
    "start_time": "2023-05-17T00:31:30.766Z"
   },
   {
    "duration": 4,
    "start_time": "2023-05-17T00:31:30.968Z"
   },
   {
    "duration": 17,
    "start_time": "2023-05-17T00:31:31.172Z"
   },
   {
    "duration": 4,
    "start_time": "2023-05-17T00:32:09.418Z"
   },
   {
    "duration": 19,
    "start_time": "2023-05-17T00:32:12.080Z"
   },
   {
    "duration": 15,
    "start_time": "2023-05-17T00:32:20.402Z"
   },
   {
    "duration": 983,
    "start_time": "2023-05-17T00:34:28.473Z"
   },
   {
    "duration": 13,
    "start_time": "2023-05-17T00:34:29.461Z"
   },
   {
    "duration": 4,
    "start_time": "2023-05-17T00:34:30.638Z"
   },
   {
    "duration": 6,
    "start_time": "2023-05-17T00:34:31.396Z"
   },
   {
    "duration": 6,
    "start_time": "2023-05-17T00:48:06.461Z"
   },
   {
    "duration": 472,
    "start_time": "2023-05-17T00:48:06.470Z"
   },
   {
    "duration": 35,
    "start_time": "2023-05-17T00:48:06.947Z"
   },
   {
    "duration": 200,
    "start_time": "2023-05-17T00:48:06.984Z"
   },
   {
    "duration": 180,
    "start_time": "2023-05-17T00:48:07.187Z"
   },
   {
    "duration": 24,
    "start_time": "2023-05-17T00:48:07.369Z"
   },
   {
    "duration": 77,
    "start_time": "2023-05-17T00:48:07.394Z"
   },
   {
    "duration": 106,
    "start_time": "2023-05-17T00:48:07.473Z"
   },
   {
    "duration": 104,
    "start_time": "2023-05-17T00:48:07.581Z"
   },
   {
    "duration": 55,
    "start_time": "2023-05-17T00:48:07.687Z"
   },
   {
    "duration": 102,
    "start_time": "2023-05-17T00:48:07.746Z"
   },
   {
    "duration": 0,
    "start_time": "2023-05-17T00:48:07.850Z"
   },
   {
    "duration": 0,
    "start_time": "2023-05-17T00:48:07.853Z"
   },
   {
    "duration": 0,
    "start_time": "2023-05-17T00:48:07.855Z"
   },
   {
    "duration": 0,
    "start_time": "2023-05-17T00:48:07.857Z"
   },
   {
    "duration": 0,
    "start_time": "2023-05-17T00:48:07.859Z"
   },
   {
    "duration": 0,
    "start_time": "2023-05-17T00:48:07.861Z"
   },
   {
    "duration": 0,
    "start_time": "2023-05-17T00:48:07.863Z"
   },
   {
    "duration": 0,
    "start_time": "2023-05-17T00:48:07.867Z"
   },
   {
    "duration": 0,
    "start_time": "2023-05-17T00:48:07.868Z"
   },
   {
    "duration": 0,
    "start_time": "2023-05-17T00:48:07.869Z"
   },
   {
    "duration": 0,
    "start_time": "2023-05-17T00:48:07.871Z"
   },
   {
    "duration": 0,
    "start_time": "2023-05-17T00:48:07.872Z"
   },
   {
    "duration": 1,
    "start_time": "2023-05-17T00:48:07.873Z"
   },
   {
    "duration": 6,
    "start_time": "2023-05-17T00:48:45.079Z"
   },
   {
    "duration": 465,
    "start_time": "2023-05-17T00:48:45.088Z"
   },
   {
    "duration": 24,
    "start_time": "2023-05-17T00:48:45.555Z"
   },
   {
    "duration": 218,
    "start_time": "2023-05-17T00:48:45.581Z"
   },
   {
    "duration": 153,
    "start_time": "2023-05-17T00:48:45.802Z"
   },
   {
    "duration": 23,
    "start_time": "2023-05-17T00:48:45.960Z"
   },
   {
    "duration": 14,
    "start_time": "2023-05-17T00:48:45.985Z"
   },
   {
    "duration": 9,
    "start_time": "2023-05-17T00:48:46.001Z"
   },
   {
    "duration": 52,
    "start_time": "2023-05-17T00:48:46.011Z"
   },
   {
    "duration": 3,
    "start_time": "2023-05-17T00:48:46.066Z"
   },
   {
    "duration": 78,
    "start_time": "2023-05-17T00:48:46.070Z"
   },
   {
    "duration": 102,
    "start_time": "2023-05-17T00:48:46.151Z"
   },
   {
    "duration": 196,
    "start_time": "2023-05-17T00:48:46.256Z"
   },
   {
    "duration": 0,
    "start_time": "2023-05-17T00:48:46.455Z"
   },
   {
    "duration": 0,
    "start_time": "2023-05-17T00:48:46.459Z"
   },
   {
    "duration": 0,
    "start_time": "2023-05-17T00:48:46.461Z"
   },
   {
    "duration": 0,
    "start_time": "2023-05-17T00:48:46.462Z"
   },
   {
    "duration": 0,
    "start_time": "2023-05-17T00:48:46.466Z"
   },
   {
    "duration": 0,
    "start_time": "2023-05-17T00:48:46.467Z"
   },
   {
    "duration": 0,
    "start_time": "2023-05-17T00:48:46.469Z"
   },
   {
    "duration": 0,
    "start_time": "2023-05-17T00:48:46.470Z"
   },
   {
    "duration": 0,
    "start_time": "2023-05-17T00:48:46.472Z"
   },
   {
    "duration": 0,
    "start_time": "2023-05-17T00:48:46.473Z"
   },
   {
    "duration": 0,
    "start_time": "2023-05-17T00:48:46.546Z"
   },
   {
    "duration": 6,
    "start_time": "2023-05-17T00:49:00.576Z"
   },
   {
    "duration": 426,
    "start_time": "2023-05-17T00:49:00.584Z"
   },
   {
    "duration": 22,
    "start_time": "2023-05-17T00:49:01.012Z"
   },
   {
    "duration": 255,
    "start_time": "2023-05-17T00:49:01.046Z"
   },
   {
    "duration": 161,
    "start_time": "2023-05-17T00:49:01.303Z"
   },
   {
    "duration": 25,
    "start_time": "2023-05-17T00:49:01.466Z"
   },
   {
    "duration": 61,
    "start_time": "2023-05-17T00:49:01.494Z"
   },
   {
    "duration": 11,
    "start_time": "2023-05-17T00:49:01.556Z"
   },
   {
    "duration": 92,
    "start_time": "2023-05-17T00:49:01.569Z"
   },
   {
    "duration": 34,
    "start_time": "2023-05-17T00:49:01.664Z"
   },
   {
    "duration": 77,
    "start_time": "2023-05-17T00:49:01.700Z"
   },
   {
    "duration": 216,
    "start_time": "2023-05-17T00:49:01.780Z"
   },
   {
    "duration": 184,
    "start_time": "2023-05-17T00:49:02.001Z"
   },
   {
    "duration": 107,
    "start_time": "2023-05-17T00:49:02.248Z"
   },
   {
    "duration": 49,
    "start_time": "2023-05-17T00:49:02.358Z"
   },
   {
    "duration": 61,
    "start_time": "2023-05-17T00:49:02.409Z"
   },
   {
    "duration": 45,
    "start_time": "2023-05-17T00:49:02.472Z"
   },
   {
    "duration": 18,
    "start_time": "2023-05-17T00:49:02.519Z"
   },
   {
    "duration": 35,
    "start_time": "2023-05-17T00:49:02.539Z"
   },
   {
    "duration": 88,
    "start_time": "2023-05-17T00:49:02.577Z"
   },
   {
    "duration": 1016,
    "start_time": "2023-05-17T00:49:02.673Z"
   },
   {
    "duration": 7,
    "start_time": "2023-05-17T00:49:03.691Z"
   },
   {
    "duration": 15,
    "start_time": "2023-05-17T00:49:03.699Z"
   },
   {
    "duration": 17,
    "start_time": "2023-05-17T00:49:03.715Z"
   },
   {
    "duration": 978,
    "start_time": "2023-05-17T00:52:19.013Z"
   },
   {
    "duration": 960,
    "start_time": "2023-05-17T00:52:34.593Z"
   },
   {
    "duration": 969,
    "start_time": "2023-05-17T00:54:49.904Z"
   },
   {
    "duration": 972,
    "start_time": "2023-05-17T00:54:50.875Z"
   },
   {
    "duration": 1035,
    "start_time": "2023-05-17T00:54:52.742Z"
   },
   {
    "duration": 1147,
    "start_time": "2023-05-17T02:01:52.608Z"
   },
   {
    "duration": 436,
    "start_time": "2023-05-17T02:01:53.762Z"
   },
   {
    "duration": 32,
    "start_time": "2023-05-17T02:01:54.200Z"
   },
   {
    "duration": 198,
    "start_time": "2023-05-17T02:01:54.234Z"
   },
   {
    "duration": 161,
    "start_time": "2023-05-17T02:01:54.450Z"
   },
   {
    "duration": 47,
    "start_time": "2023-05-17T02:01:54.613Z"
   },
   {
    "duration": 20,
    "start_time": "2023-05-17T02:01:54.661Z"
   },
   {
    "duration": 29,
    "start_time": "2023-05-17T02:01:54.683Z"
   },
   {
    "duration": 68,
    "start_time": "2023-05-17T02:01:54.714Z"
   },
   {
    "duration": 70,
    "start_time": "2023-05-17T02:01:54.784Z"
   },
   {
    "duration": 275,
    "start_time": "2023-05-17T02:01:54.860Z"
   },
   {
    "duration": 0,
    "start_time": "2023-05-17T02:01:55.148Z"
   },
   {
    "duration": 0,
    "start_time": "2023-05-17T02:01:55.149Z"
   },
   {
    "duration": 0,
    "start_time": "2023-05-17T02:01:55.149Z"
   },
   {
    "duration": 0,
    "start_time": "2023-05-17T02:01:55.154Z"
   },
   {
    "duration": 0,
    "start_time": "2023-05-17T02:01:55.155Z"
   },
   {
    "duration": 0,
    "start_time": "2023-05-17T02:01:55.156Z"
   },
   {
    "duration": 0,
    "start_time": "2023-05-17T02:01:55.159Z"
   },
   {
    "duration": 0,
    "start_time": "2023-05-17T02:01:55.159Z"
   },
   {
    "duration": 0,
    "start_time": "2023-05-17T02:01:55.160Z"
   },
   {
    "duration": 0,
    "start_time": "2023-05-17T02:01:55.162Z"
   },
   {
    "duration": 0,
    "start_time": "2023-05-17T02:01:55.163Z"
   },
   {
    "duration": 0,
    "start_time": "2023-05-17T02:01:55.164Z"
   },
   {
    "duration": 9,
    "start_time": "2023-05-17T02:02:32.600Z"
   },
   {
    "duration": 0,
    "start_time": "2023-05-17T02:02:32.611Z"
   },
   {
    "duration": 0,
    "start_time": "2023-05-17T02:02:32.612Z"
   },
   {
    "duration": 0,
    "start_time": "2023-05-17T02:02:32.613Z"
   },
   {
    "duration": 0,
    "start_time": "2023-05-17T02:02:32.615Z"
   },
   {
    "duration": 0,
    "start_time": "2023-05-17T02:02:32.616Z"
   },
   {
    "duration": 0,
    "start_time": "2023-05-17T02:02:32.618Z"
   },
   {
    "duration": 0,
    "start_time": "2023-05-17T02:02:32.619Z"
   },
   {
    "duration": 0,
    "start_time": "2023-05-17T02:02:32.620Z"
   },
   {
    "duration": 0,
    "start_time": "2023-05-17T02:02:32.621Z"
   },
   {
    "duration": 0,
    "start_time": "2023-05-17T02:02:32.621Z"
   },
   {
    "duration": 0,
    "start_time": "2023-05-17T02:02:32.623Z"
   },
   {
    "duration": 0,
    "start_time": "2023-05-17T02:02:32.624Z"
   },
   {
    "duration": 0,
    "start_time": "2023-05-17T02:02:32.625Z"
   },
   {
    "duration": 0,
    "start_time": "2023-05-17T02:02:32.626Z"
   },
   {
    "duration": 0,
    "start_time": "2023-05-17T02:02:32.627Z"
   },
   {
    "duration": 41,
    "start_time": "2023-05-17T02:02:32.629Z"
   },
   {
    "duration": 0,
    "start_time": "2023-05-17T02:02:32.671Z"
   },
   {
    "duration": 0,
    "start_time": "2023-05-17T02:02:32.673Z"
   },
   {
    "duration": 0,
    "start_time": "2023-05-17T02:02:32.674Z"
   },
   {
    "duration": 0,
    "start_time": "2023-05-17T02:02:32.675Z"
   },
   {
    "duration": 0,
    "start_time": "2023-05-17T02:02:32.676Z"
   },
   {
    "duration": 0,
    "start_time": "2023-05-17T02:02:32.678Z"
   },
   {
    "duration": 326,
    "start_time": "2023-05-17T02:03:23.143Z"
   },
   {
    "duration": 423,
    "start_time": "2023-05-17T02:03:23.471Z"
   },
   {
    "duration": 24,
    "start_time": "2023-05-17T02:03:23.896Z"
   },
   {
    "duration": 181,
    "start_time": "2023-05-17T02:03:23.921Z"
   },
   {
    "duration": 156,
    "start_time": "2023-05-17T02:03:24.104Z"
   },
   {
    "duration": 24,
    "start_time": "2023-05-17T02:03:24.262Z"
   },
   {
    "duration": 17,
    "start_time": "2023-05-17T02:03:24.287Z"
   },
   {
    "duration": 19,
    "start_time": "2023-05-17T02:03:24.306Z"
   },
   {
    "duration": 36,
    "start_time": "2023-05-17T02:03:24.327Z"
   },
   {
    "duration": 4,
    "start_time": "2023-05-17T02:03:24.365Z"
   },
   {
    "duration": 178,
    "start_time": "2023-05-17T02:03:24.371Z"
   },
   {
    "duration": 0,
    "start_time": "2023-05-17T02:03:24.555Z"
   },
   {
    "duration": 0,
    "start_time": "2023-05-17T02:03:24.556Z"
   },
   {
    "duration": 0,
    "start_time": "2023-05-17T02:03:24.556Z"
   },
   {
    "duration": 0,
    "start_time": "2023-05-17T02:03:24.557Z"
   },
   {
    "duration": 0,
    "start_time": "2023-05-17T02:03:24.558Z"
   },
   {
    "duration": 0,
    "start_time": "2023-05-17T02:03:24.558Z"
   },
   {
    "duration": 0,
    "start_time": "2023-05-17T02:03:24.560Z"
   },
   {
    "duration": 0,
    "start_time": "2023-05-17T02:03:24.561Z"
   },
   {
    "duration": 0,
    "start_time": "2023-05-17T02:03:24.562Z"
   },
   {
    "duration": 0,
    "start_time": "2023-05-17T02:03:24.564Z"
   },
   {
    "duration": 0,
    "start_time": "2023-05-17T02:03:24.566Z"
   },
   {
    "duration": 0,
    "start_time": "2023-05-17T02:03:24.567Z"
   },
   {
    "duration": 1465,
    "start_time": "2023-05-17T02:04:17.229Z"
   },
   {
    "duration": 399,
    "start_time": "2023-05-17T02:04:18.696Z"
   },
   {
    "duration": 25,
    "start_time": "2023-05-17T02:04:19.097Z"
   },
   {
    "duration": 181,
    "start_time": "2023-05-17T02:04:19.124Z"
   },
   {
    "duration": 163,
    "start_time": "2023-05-17T02:04:19.308Z"
   },
   {
    "duration": 24,
    "start_time": "2023-05-17T02:04:19.473Z"
   },
   {
    "duration": 18,
    "start_time": "2023-05-17T02:04:19.499Z"
   },
   {
    "duration": 40,
    "start_time": "2023-05-17T02:04:19.518Z"
   },
   {
    "duration": 40,
    "start_time": "2023-05-17T02:04:19.560Z"
   },
   {
    "duration": 4,
    "start_time": "2023-05-17T02:04:19.601Z"
   },
   {
    "duration": 61,
    "start_time": "2023-05-17T02:04:19.607Z"
   },
   {
    "duration": 105,
    "start_time": "2023-05-17T02:04:19.670Z"
   },
   {
    "duration": 125,
    "start_time": "2023-05-17T02:04:19.847Z"
   },
   {
    "duration": 83,
    "start_time": "2023-05-17T02:04:19.977Z"
   },
   {
    "duration": 107,
    "start_time": "2023-05-17T02:04:20.068Z"
   },
   {
    "duration": 22,
    "start_time": "2023-05-17T02:04:20.177Z"
   },
   {
    "duration": 12,
    "start_time": "2023-05-17T02:04:20.201Z"
   },
   {
    "duration": 149,
    "start_time": "2023-05-17T02:04:20.214Z"
   },
   {
    "duration": 0,
    "start_time": "2023-05-17T02:04:20.365Z"
   },
   {
    "duration": 0,
    "start_time": "2023-05-17T02:04:20.366Z"
   },
   {
    "duration": 1,
    "start_time": "2023-05-17T02:04:20.367Z"
   },
   {
    "duration": 0,
    "start_time": "2023-05-17T02:04:20.369Z"
   },
   {
    "duration": 0,
    "start_time": "2023-05-17T02:04:20.370Z"
   },
   {
    "duration": 1474,
    "start_time": "2023-05-17T02:05:07.703Z"
   },
   {
    "duration": 406,
    "start_time": "2023-05-17T02:05:09.179Z"
   },
   {
    "duration": 25,
    "start_time": "2023-05-17T02:05:09.587Z"
   },
   {
    "duration": 173,
    "start_time": "2023-05-17T02:05:09.614Z"
   },
   {
    "duration": 148,
    "start_time": "2023-05-17T02:05:09.789Z"
   },
   {
    "duration": 32,
    "start_time": "2023-05-17T02:05:09.948Z"
   },
   {
    "duration": 18,
    "start_time": "2023-05-17T02:05:09.982Z"
   },
   {
    "duration": 33,
    "start_time": "2023-05-17T02:05:10.002Z"
   },
   {
    "duration": 71,
    "start_time": "2023-05-17T02:05:10.037Z"
   },
   {
    "duration": 3,
    "start_time": "2023-05-17T02:05:10.111Z"
   },
   {
    "duration": 29,
    "start_time": "2023-05-17T02:05:10.116Z"
   },
   {
    "duration": 206,
    "start_time": "2023-05-17T02:05:10.147Z"
   },
   {
    "duration": 98,
    "start_time": "2023-05-17T02:05:10.357Z"
   },
   {
    "duration": 205,
    "start_time": "2023-05-17T02:05:10.458Z"
   },
   {
    "duration": 10,
    "start_time": "2023-05-17T02:05:10.665Z"
   },
   {
    "duration": 12,
    "start_time": "2023-05-17T02:05:10.677Z"
   },
   {
    "duration": 15,
    "start_time": "2023-05-17T02:05:10.691Z"
   },
   {
    "duration": 11,
    "start_time": "2023-05-17T02:05:10.707Z"
   },
   {
    "duration": 5,
    "start_time": "2023-05-17T02:05:10.719Z"
   },
   {
    "duration": 36,
    "start_time": "2023-05-17T02:05:10.725Z"
   },
   {
    "duration": 929,
    "start_time": "2023-05-17T02:05:10.763Z"
   },
   {
    "duration": 968,
    "start_time": "2023-05-17T02:05:11.694Z"
   },
   {
    "duration": 983,
    "start_time": "2023-05-17T02:05:12.664Z"
   },
   {
    "duration": 1459,
    "start_time": "2023-05-17T02:05:47.121Z"
   },
   {
    "duration": 422,
    "start_time": "2023-05-17T02:05:48.582Z"
   },
   {
    "duration": 27,
    "start_time": "2023-05-17T02:05:49.006Z"
   },
   {
    "duration": 187,
    "start_time": "2023-05-17T02:05:49.035Z"
   },
   {
    "duration": 175,
    "start_time": "2023-05-17T02:05:49.224Z"
   },
   {
    "duration": 23,
    "start_time": "2023-05-17T02:05:49.401Z"
   },
   {
    "duration": 44,
    "start_time": "2023-05-17T02:05:49.426Z"
   },
   {
    "duration": 25,
    "start_time": "2023-05-17T02:05:49.472Z"
   },
   {
    "duration": 53,
    "start_time": "2023-05-17T02:05:49.499Z"
   },
   {
    "duration": 4,
    "start_time": "2023-05-17T02:05:49.558Z"
   },
   {
    "duration": 86,
    "start_time": "2023-05-17T02:05:49.564Z"
   },
   {
    "duration": 125,
    "start_time": "2023-05-17T02:05:49.655Z"
   },
   {
    "duration": 190,
    "start_time": "2023-05-17T02:05:49.782Z"
   },
   {
    "duration": 185,
    "start_time": "2023-05-17T02:05:49.977Z"
   },
   {
    "duration": 16,
    "start_time": "2023-05-17T02:05:50.164Z"
   },
   {
    "duration": 65,
    "start_time": "2023-05-17T02:05:50.182Z"
   },
   {
    "duration": 24,
    "start_time": "2023-05-17T02:05:50.249Z"
   },
   {
    "duration": 17,
    "start_time": "2023-05-17T02:05:50.275Z"
   },
   {
    "duration": 20,
    "start_time": "2023-05-17T02:05:50.294Z"
   },
   {
    "duration": 42,
    "start_time": "2023-05-17T02:05:50.316Z"
   },
   {
    "duration": 127,
    "start_time": "2023-05-17T02:05:50.363Z"
   },
   {
    "duration": 0,
    "start_time": "2023-05-17T02:05:50.492Z"
   },
   {
    "duration": 0,
    "start_time": "2023-05-17T02:05:50.493Z"
   },
   {
    "duration": 10,
    "start_time": "2023-05-17T02:06:07.288Z"
   },
   {
    "duration": 0,
    "start_time": "2023-05-17T02:06:07.300Z"
   },
   {
    "duration": 0,
    "start_time": "2023-05-17T02:06:07.301Z"
   },
   {
    "duration": 0,
    "start_time": "2023-05-17T02:06:07.302Z"
   },
   {
    "duration": 0,
    "start_time": "2023-05-17T02:06:07.303Z"
   },
   {
    "duration": 0,
    "start_time": "2023-05-17T02:06:07.304Z"
   },
   {
    "duration": 0,
    "start_time": "2023-05-17T02:06:07.305Z"
   },
   {
    "duration": 0,
    "start_time": "2023-05-17T02:06:07.306Z"
   },
   {
    "duration": 0,
    "start_time": "2023-05-17T02:06:07.307Z"
   },
   {
    "duration": 0,
    "start_time": "2023-05-17T02:06:07.308Z"
   },
   {
    "duration": 0,
    "start_time": "2023-05-17T02:06:07.309Z"
   },
   {
    "duration": 0,
    "start_time": "2023-05-17T02:06:07.310Z"
   },
   {
    "duration": 0,
    "start_time": "2023-05-17T02:06:07.311Z"
   },
   {
    "duration": 0,
    "start_time": "2023-05-17T02:06:07.313Z"
   },
   {
    "duration": 0,
    "start_time": "2023-05-17T02:06:07.314Z"
   },
   {
    "duration": 0,
    "start_time": "2023-05-17T02:06:07.315Z"
   },
   {
    "duration": 13,
    "start_time": "2023-05-17T02:06:07.317Z"
   },
   {
    "duration": 24,
    "start_time": "2023-05-17T02:06:07.332Z"
   },
   {
    "duration": 12,
    "start_time": "2023-05-17T02:06:07.358Z"
   },
   {
    "duration": 23,
    "start_time": "2023-05-17T02:06:07.372Z"
   },
   {
    "duration": 935,
    "start_time": "2023-05-17T02:06:07.398Z"
   },
   {
    "duration": 936,
    "start_time": "2023-05-17T02:06:08.334Z"
   },
   {
    "duration": 900,
    "start_time": "2023-05-17T02:06:09.272Z"
   },
   {
    "duration": 10,
    "start_time": "2023-05-17T02:06:49.073Z"
   },
   {
    "duration": 0,
    "start_time": "2023-05-17T02:06:49.085Z"
   },
   {
    "duration": 0,
    "start_time": "2023-05-17T02:06:49.087Z"
   },
   {
    "duration": 0,
    "start_time": "2023-05-17T02:06:49.088Z"
   },
   {
    "duration": 0,
    "start_time": "2023-05-17T02:06:49.089Z"
   },
   {
    "duration": 0,
    "start_time": "2023-05-17T02:06:49.090Z"
   },
   {
    "duration": 0,
    "start_time": "2023-05-17T02:06:49.091Z"
   },
   {
    "duration": 0,
    "start_time": "2023-05-17T02:06:49.092Z"
   },
   {
    "duration": 0,
    "start_time": "2023-05-17T02:06:49.093Z"
   },
   {
    "duration": 0,
    "start_time": "2023-05-17T02:06:49.094Z"
   },
   {
    "duration": 0,
    "start_time": "2023-05-17T02:06:49.096Z"
   },
   {
    "duration": 0,
    "start_time": "2023-05-17T02:06:49.097Z"
   },
   {
    "duration": 0,
    "start_time": "2023-05-17T02:06:49.098Z"
   },
   {
    "duration": 0,
    "start_time": "2023-05-17T02:06:49.099Z"
   },
   {
    "duration": 0,
    "start_time": "2023-05-17T02:06:49.100Z"
   },
   {
    "duration": 0,
    "start_time": "2023-05-17T02:06:49.101Z"
   },
   {
    "duration": 0,
    "start_time": "2023-05-17T02:06:49.102Z"
   },
   {
    "duration": 0,
    "start_time": "2023-05-17T02:06:49.103Z"
   },
   {
    "duration": 5,
    "start_time": "2023-05-17T02:06:49.105Z"
   },
   {
    "duration": 54,
    "start_time": "2023-05-17T02:06:49.112Z"
   },
   {
    "duration": 996,
    "start_time": "2023-05-17T02:06:49.168Z"
   },
   {
    "duration": 973,
    "start_time": "2023-05-17T02:06:50.166Z"
   },
   {
    "duration": 960,
    "start_time": "2023-05-17T02:06:51.145Z"
   },
   {
    "duration": 4,
    "start_time": "2023-05-17T02:07:10.893Z"
   },
   {
    "duration": 458,
    "start_time": "2023-05-17T02:07:10.899Z"
   },
   {
    "duration": 23,
    "start_time": "2023-05-17T02:07:11.360Z"
   },
   {
    "duration": 180,
    "start_time": "2023-05-17T02:07:11.384Z"
   },
   {
    "duration": 136,
    "start_time": "2023-05-17T02:07:11.566Z"
   },
   {
    "duration": 23,
    "start_time": "2023-05-17T02:07:11.704Z"
   },
   {
    "duration": 38,
    "start_time": "2023-05-17T02:07:11.728Z"
   },
   {
    "duration": 8,
    "start_time": "2023-05-17T02:07:11.768Z"
   },
   {
    "duration": 28,
    "start_time": "2023-05-17T02:07:11.778Z"
   },
   {
    "duration": 4,
    "start_time": "2023-05-17T02:07:11.808Z"
   },
   {
    "duration": 43,
    "start_time": "2023-05-17T02:07:11.813Z"
   },
   {
    "duration": 188,
    "start_time": "2023-05-17T02:07:11.858Z"
   },
   {
    "duration": 101,
    "start_time": "2023-05-17T02:07:12.055Z"
   },
   {
    "duration": 200,
    "start_time": "2023-05-17T02:07:12.160Z"
   },
   {
    "duration": 14,
    "start_time": "2023-05-17T02:07:12.362Z"
   },
   {
    "duration": 21,
    "start_time": "2023-05-17T02:07:12.377Z"
   },
   {
    "duration": 19,
    "start_time": "2023-05-17T02:07:12.400Z"
   },
   {
    "duration": 12,
    "start_time": "2023-05-17T02:07:12.421Z"
   },
   {
    "duration": 32,
    "start_time": "2023-05-17T02:07:12.436Z"
   },
   {
    "duration": 35,
    "start_time": "2023-05-17T02:07:12.471Z"
   },
   {
    "duration": 974,
    "start_time": "2023-05-17T02:07:12.508Z"
   },
   {
    "duration": 942,
    "start_time": "2023-05-17T02:07:13.484Z"
   },
   {
    "duration": 899,
    "start_time": "2023-05-17T02:07:14.427Z"
   },
   {
    "duration": 1218,
    "start_time": "2023-05-17T02:08:14.711Z"
   },
   {
    "duration": 0,
    "start_time": "2023-05-17T02:08:15.931Z"
   },
   {
    "duration": 0,
    "start_time": "2023-05-17T02:08:15.932Z"
   },
   {
    "duration": 0,
    "start_time": "2023-05-17T02:08:15.934Z"
   },
   {
    "duration": 0,
    "start_time": "2023-05-17T02:08:15.951Z"
   },
   {
    "duration": 0,
    "start_time": "2023-05-17T02:08:15.952Z"
   },
   {
    "duration": 0,
    "start_time": "2023-05-17T02:08:15.952Z"
   },
   {
    "duration": 0,
    "start_time": "2023-05-17T02:08:15.953Z"
   },
   {
    "duration": 0,
    "start_time": "2023-05-17T02:08:15.954Z"
   },
   {
    "duration": 0,
    "start_time": "2023-05-17T02:08:15.954Z"
   },
   {
    "duration": 0,
    "start_time": "2023-05-17T02:08:15.955Z"
   },
   {
    "duration": 0,
    "start_time": "2023-05-17T02:08:15.956Z"
   },
   {
    "duration": 0,
    "start_time": "2023-05-17T02:08:15.956Z"
   },
   {
    "duration": 0,
    "start_time": "2023-05-17T02:08:15.958Z"
   },
   {
    "duration": 0,
    "start_time": "2023-05-17T02:08:15.959Z"
   },
   {
    "duration": 0,
    "start_time": "2023-05-17T02:08:15.960Z"
   },
   {
    "duration": 0,
    "start_time": "2023-05-17T02:08:15.960Z"
   },
   {
    "duration": 0,
    "start_time": "2023-05-17T02:08:15.961Z"
   },
   {
    "duration": 0,
    "start_time": "2023-05-17T02:08:15.962Z"
   },
   {
    "duration": 0,
    "start_time": "2023-05-17T02:08:15.963Z"
   },
   {
    "duration": 0,
    "start_time": "2023-05-17T02:08:15.964Z"
   },
   {
    "duration": 0,
    "start_time": "2023-05-17T02:08:15.965Z"
   },
   {
    "duration": 0,
    "start_time": "2023-05-17T02:08:15.966Z"
   },
   {
    "duration": 10,
    "start_time": "2023-05-17T02:09:15.375Z"
   },
   {
    "duration": 0,
    "start_time": "2023-05-17T02:09:15.386Z"
   },
   {
    "duration": 0,
    "start_time": "2023-05-17T02:09:15.387Z"
   },
   {
    "duration": 0,
    "start_time": "2023-05-17T02:09:15.389Z"
   },
   {
    "duration": 0,
    "start_time": "2023-05-17T02:09:15.390Z"
   },
   {
    "duration": 0,
    "start_time": "2023-05-17T02:09:15.390Z"
   },
   {
    "duration": 0,
    "start_time": "2023-05-17T02:09:15.391Z"
   },
   {
    "duration": 0,
    "start_time": "2023-05-17T02:09:15.392Z"
   },
   {
    "duration": 0,
    "start_time": "2023-05-17T02:09:15.393Z"
   },
   {
    "duration": 0,
    "start_time": "2023-05-17T02:09:15.394Z"
   },
   {
    "duration": 0,
    "start_time": "2023-05-17T02:09:15.394Z"
   },
   {
    "duration": 0,
    "start_time": "2023-05-17T02:09:15.396Z"
   },
   {
    "duration": 0,
    "start_time": "2023-05-17T02:09:15.397Z"
   },
   {
    "duration": 0,
    "start_time": "2023-05-17T02:09:15.399Z"
   },
   {
    "duration": 0,
    "start_time": "2023-05-17T02:09:15.400Z"
   },
   {
    "duration": 0,
    "start_time": "2023-05-17T02:09:15.401Z"
   },
   {
    "duration": 0,
    "start_time": "2023-05-17T02:09:15.402Z"
   },
   {
    "duration": 0,
    "start_time": "2023-05-17T02:09:15.403Z"
   },
   {
    "duration": 0,
    "start_time": "2023-05-17T02:09:15.404Z"
   },
   {
    "duration": 42,
    "start_time": "2023-05-17T02:09:15.406Z"
   },
   {
    "duration": 0,
    "start_time": "2023-05-17T02:09:15.450Z"
   },
   {
    "duration": 0,
    "start_time": "2023-05-17T02:09:15.452Z"
   },
   {
    "duration": 0,
    "start_time": "2023-05-17T02:09:15.453Z"
   },
   {
    "duration": 1202,
    "start_time": "2023-05-17T02:09:44.959Z"
   },
   {
    "duration": 0,
    "start_time": "2023-05-17T02:09:46.164Z"
   },
   {
    "duration": 1,
    "start_time": "2023-05-17T02:09:46.164Z"
   },
   {
    "duration": 0,
    "start_time": "2023-05-17T02:09:46.165Z"
   },
   {
    "duration": 1,
    "start_time": "2023-05-17T02:09:46.166Z"
   },
   {
    "duration": 0,
    "start_time": "2023-05-17T02:09:46.168Z"
   },
   {
    "duration": 0,
    "start_time": "2023-05-17T02:09:46.169Z"
   },
   {
    "duration": 0,
    "start_time": "2023-05-17T02:09:46.171Z"
   },
   {
    "duration": 0,
    "start_time": "2023-05-17T02:09:46.171Z"
   },
   {
    "duration": 0,
    "start_time": "2023-05-17T02:09:46.173Z"
   },
   {
    "duration": 0,
    "start_time": "2023-05-17T02:09:46.173Z"
   },
   {
    "duration": 0,
    "start_time": "2023-05-17T02:09:46.175Z"
   },
   {
    "duration": 0,
    "start_time": "2023-05-17T02:09:46.176Z"
   },
   {
    "duration": 0,
    "start_time": "2023-05-17T02:09:46.177Z"
   },
   {
    "duration": 0,
    "start_time": "2023-05-17T02:09:46.178Z"
   },
   {
    "duration": 0,
    "start_time": "2023-05-17T02:09:46.179Z"
   },
   {
    "duration": 0,
    "start_time": "2023-05-17T02:09:46.180Z"
   },
   {
    "duration": 0,
    "start_time": "2023-05-17T02:09:46.181Z"
   },
   {
    "duration": 0,
    "start_time": "2023-05-17T02:09:46.182Z"
   },
   {
    "duration": 0,
    "start_time": "2023-05-17T02:09:46.183Z"
   },
   {
    "duration": 0,
    "start_time": "2023-05-17T02:09:46.184Z"
   },
   {
    "duration": 0,
    "start_time": "2023-05-17T02:09:46.186Z"
   },
   {
    "duration": 0,
    "start_time": "2023-05-17T02:09:46.187Z"
   },
   {
    "duration": 1216,
    "start_time": "2023-05-17T02:10:36.640Z"
   },
   {
    "duration": 411,
    "start_time": "2023-05-17T02:10:37.863Z"
   },
   {
    "duration": 30,
    "start_time": "2023-05-17T02:10:38.276Z"
   },
   {
    "duration": 186,
    "start_time": "2023-05-17T02:10:38.308Z"
   },
   {
    "duration": 145,
    "start_time": "2023-05-17T02:10:38.496Z"
   },
   {
    "duration": 29,
    "start_time": "2023-05-17T02:10:38.647Z"
   },
   {
    "duration": 19,
    "start_time": "2023-05-17T02:10:38.677Z"
   },
   {
    "duration": 19,
    "start_time": "2023-05-17T02:10:38.698Z"
   },
   {
    "duration": 53,
    "start_time": "2023-05-17T02:10:38.719Z"
   },
   {
    "duration": 4,
    "start_time": "2023-05-17T02:10:38.774Z"
   },
   {
    "duration": 66,
    "start_time": "2023-05-17T02:10:38.779Z"
   },
   {
    "duration": 110,
    "start_time": "2023-05-17T02:10:38.847Z"
   },
   {
    "duration": 121,
    "start_time": "2023-05-17T02:10:38.959Z"
   },
   {
    "duration": 68,
    "start_time": "2023-05-17T02:10:39.084Z"
   },
   {
    "duration": 120,
    "start_time": "2023-05-17T02:10:39.155Z"
   },
   {
    "duration": 16,
    "start_time": "2023-05-17T02:10:39.276Z"
   },
   {
    "duration": 13,
    "start_time": "2023-05-17T02:10:39.293Z"
   },
   {
    "duration": 15,
    "start_time": "2023-05-17T02:10:39.308Z"
   },
   {
    "duration": 5,
    "start_time": "2023-05-17T02:10:39.325Z"
   },
   {
    "duration": 32,
    "start_time": "2023-05-17T02:10:39.332Z"
   },
   {
    "duration": 953,
    "start_time": "2023-05-17T02:10:39.365Z"
   },
   {
    "duration": 943,
    "start_time": "2023-05-17T02:10:40.320Z"
   },
   {
    "duration": 915,
    "start_time": "2023-05-17T02:10:41.265Z"
   },
   {
    "duration": 1159,
    "start_time": "2023-05-17T02:11:42.464Z"
   },
   {
    "duration": 415,
    "start_time": "2023-05-17T02:11:43.625Z"
   },
   {
    "duration": 31,
    "start_time": "2023-05-17T02:11:44.042Z"
   },
   {
    "duration": 180,
    "start_time": "2023-05-17T02:11:44.074Z"
   },
   {
    "duration": 145,
    "start_time": "2023-05-17T02:11:44.260Z"
   },
   {
    "duration": 23,
    "start_time": "2023-05-17T02:11:44.407Z"
   },
   {
    "duration": 39,
    "start_time": "2023-05-17T02:11:44.431Z"
   },
   {
    "duration": 11,
    "start_time": "2023-05-17T02:11:44.472Z"
   },
   {
    "duration": 43,
    "start_time": "2023-05-17T02:11:44.485Z"
   },
   {
    "duration": 3,
    "start_time": "2023-05-17T02:11:44.530Z"
   },
   {
    "duration": 34,
    "start_time": "2023-05-17T02:11:44.547Z"
   },
   {
    "duration": 128,
    "start_time": "2023-05-17T02:11:44.645Z"
   },
   {
    "duration": 201,
    "start_time": "2023-05-17T02:11:44.775Z"
   },
   {
    "duration": 184,
    "start_time": "2023-05-17T02:11:44.980Z"
   },
   {
    "duration": 16,
    "start_time": "2023-05-17T02:11:45.165Z"
   },
   {
    "duration": 22,
    "start_time": "2023-05-17T02:11:45.183Z"
   },
   {
    "duration": 16,
    "start_time": "2023-05-17T02:11:45.207Z"
   },
   {
    "duration": 30,
    "start_time": "2023-05-17T02:11:45.225Z"
   },
   {
    "duration": 3,
    "start_time": "2023-05-17T02:11:45.260Z"
   },
   {
    "duration": 28,
    "start_time": "2023-05-17T02:11:45.265Z"
   },
   {
    "duration": 932,
    "start_time": "2023-05-17T02:11:45.295Z"
   },
   {
    "duration": 974,
    "start_time": "2023-05-17T02:11:46.229Z"
   },
   {
    "duration": 932,
    "start_time": "2023-05-17T02:11:47.204Z"
   },
   {
    "duration": 5,
    "start_time": "2023-05-17T02:12:31.696Z"
   },
   {
    "duration": 444,
    "start_time": "2023-05-17T02:12:31.703Z"
   },
   {
    "duration": 28,
    "start_time": "2023-05-17T02:12:32.152Z"
   },
   {
    "duration": 183,
    "start_time": "2023-05-17T02:12:32.182Z"
   },
   {
    "duration": 195,
    "start_time": "2023-05-17T02:12:32.367Z"
   },
   {
    "duration": 37,
    "start_time": "2023-05-17T02:12:32.564Z"
   },
   {
    "duration": 18,
    "start_time": "2023-05-17T02:12:32.603Z"
   },
   {
    "duration": 44,
    "start_time": "2023-05-17T02:12:32.624Z"
   },
   {
    "duration": 53,
    "start_time": "2023-05-17T02:12:32.670Z"
   },
   {
    "duration": 8,
    "start_time": "2023-05-17T02:12:32.725Z"
   },
   {
    "duration": 37,
    "start_time": "2023-05-17T02:12:32.735Z"
   },
   {
    "duration": 91,
    "start_time": "2023-05-17T02:12:32.774Z"
   },
   {
    "duration": 101,
    "start_time": "2023-05-17T02:12:32.947Z"
   },
   {
    "duration": 88,
    "start_time": "2023-05-17T02:12:33.065Z"
   },
   {
    "duration": 16,
    "start_time": "2023-05-17T02:12:33.160Z"
   },
   {
    "duration": 21,
    "start_time": "2023-05-17T02:12:33.178Z"
   },
   {
    "duration": 22,
    "start_time": "2023-05-17T02:12:33.200Z"
   },
   {
    "duration": 11,
    "start_time": "2023-05-17T02:12:33.224Z"
   },
   {
    "duration": 25,
    "start_time": "2023-05-17T02:12:33.237Z"
   },
   {
    "duration": 27,
    "start_time": "2023-05-17T02:12:33.264Z"
   },
   {
    "duration": 932,
    "start_time": "2023-05-17T02:12:33.293Z"
   },
   {
    "duration": 952,
    "start_time": "2023-05-17T02:12:34.227Z"
   },
   {
    "duration": 983,
    "start_time": "2023-05-17T02:12:35.181Z"
   },
   {
    "duration": 1544,
    "start_time": "2023-05-17T02:12:59.938Z"
   },
   {
    "duration": 438,
    "start_time": "2023-05-17T02:13:01.485Z"
   },
   {
    "duration": 38,
    "start_time": "2023-05-17T02:13:01.925Z"
   },
   {
    "duration": 193,
    "start_time": "2023-05-17T02:13:01.965Z"
   },
   {
    "duration": 156,
    "start_time": "2023-05-17T02:13:02.160Z"
   },
   {
    "duration": 42,
    "start_time": "2023-05-17T02:13:02.318Z"
   },
   {
    "duration": 20,
    "start_time": "2023-05-17T02:13:02.362Z"
   },
   {
    "duration": 22,
    "start_time": "2023-05-17T02:13:02.383Z"
   },
   {
    "duration": 50,
    "start_time": "2023-05-17T02:13:02.406Z"
   },
   {
    "duration": 4,
    "start_time": "2023-05-17T02:13:02.461Z"
   },
   {
    "duration": 86,
    "start_time": "2023-05-17T02:13:02.467Z"
   },
   {
    "duration": 108,
    "start_time": "2023-05-17T02:13:02.556Z"
   },
   {
    "duration": 104,
    "start_time": "2023-05-17T02:13:02.666Z"
   },
   {
    "duration": 104,
    "start_time": "2023-05-17T02:13:02.848Z"
   },
   {
    "duration": 30,
    "start_time": "2023-05-17T02:13:02.954Z"
   },
   {
    "duration": 26,
    "start_time": "2023-05-17T02:13:02.986Z"
   },
   {
    "duration": 33,
    "start_time": "2023-05-17T02:13:03.014Z"
   },
   {
    "duration": 44,
    "start_time": "2023-05-17T02:13:03.049Z"
   },
   {
    "duration": 26,
    "start_time": "2023-05-17T02:13:03.095Z"
   },
   {
    "duration": 71,
    "start_time": "2023-05-17T02:13:03.123Z"
   },
   {
    "duration": 952,
    "start_time": "2023-05-17T02:13:03.195Z"
   },
   {
    "duration": 924,
    "start_time": "2023-05-17T02:13:04.150Z"
   },
   {
    "duration": 954,
    "start_time": "2023-05-17T02:13:05.076Z"
   },
   {
    "duration": 1528,
    "start_time": "2023-05-17T02:14:52.759Z"
   },
   {
    "duration": 443,
    "start_time": "2023-05-17T02:14:54.289Z"
   },
   {
    "duration": 34,
    "start_time": "2023-05-17T02:14:54.734Z"
   },
   {
    "duration": 188,
    "start_time": "2023-05-17T02:14:54.769Z"
   },
   {
    "duration": 153,
    "start_time": "2023-05-17T02:14:54.959Z"
   },
   {
    "duration": 39,
    "start_time": "2023-05-17T02:14:55.113Z"
   },
   {
    "duration": 21,
    "start_time": "2023-05-17T02:14:55.153Z"
   },
   {
    "duration": 23,
    "start_time": "2023-05-17T02:14:55.176Z"
   },
   {
    "duration": 59,
    "start_time": "2023-05-17T02:14:55.201Z"
   },
   {
    "duration": 5,
    "start_time": "2023-05-17T02:14:55.261Z"
   },
   {
    "duration": 28,
    "start_time": "2023-05-17T02:14:55.270Z"
   },
   {
    "duration": 170,
    "start_time": "2023-05-17T02:14:55.300Z"
   },
   {
    "duration": 210,
    "start_time": "2023-05-17T02:14:55.472Z"
   },
   {
    "duration": 178,
    "start_time": "2023-05-17T02:14:55.686Z"
   },
   {
    "duration": 10,
    "start_time": "2023-05-17T02:14:55.866Z"
   },
   {
    "duration": 15,
    "start_time": "2023-05-17T02:14:55.878Z"
   },
   {
    "duration": 14,
    "start_time": "2023-05-17T02:14:55.895Z"
   },
   {
    "duration": 11,
    "start_time": "2023-05-17T02:14:55.910Z"
   },
   {
    "duration": 3,
    "start_time": "2023-05-17T02:14:55.923Z"
   },
   {
    "duration": 38,
    "start_time": "2023-05-17T02:14:55.928Z"
   },
   {
    "duration": 994,
    "start_time": "2023-05-17T02:14:55.968Z"
   },
   {
    "duration": 942,
    "start_time": "2023-05-17T02:14:56.964Z"
   },
   {
    "duration": 955,
    "start_time": "2023-05-17T02:14:57.908Z"
   },
   {
    "duration": 1498,
    "start_time": "2023-05-17T02:16:10.909Z"
   },
   {
    "duration": 435,
    "start_time": "2023-05-17T02:16:12.409Z"
   },
   {
    "duration": 32,
    "start_time": "2023-05-17T02:16:12.846Z"
   },
   {
    "duration": 202,
    "start_time": "2023-05-17T02:16:12.879Z"
   },
   {
    "duration": 174,
    "start_time": "2023-05-17T02:16:13.084Z"
   },
   {
    "duration": 24,
    "start_time": "2023-05-17T02:16:13.260Z"
   },
   {
    "duration": 18,
    "start_time": "2023-05-17T02:16:13.285Z"
   },
   {
    "duration": 15,
    "start_time": "2023-05-17T02:16:13.305Z"
   },
   {
    "duration": 56,
    "start_time": "2023-05-17T02:16:13.322Z"
   },
   {
    "duration": 4,
    "start_time": "2023-05-17T02:16:13.379Z"
   },
   {
    "duration": 65,
    "start_time": "2023-05-17T02:16:13.384Z"
   },
   {
    "duration": 110,
    "start_time": "2023-05-17T02:16:13.456Z"
   },
   {
    "duration": 210,
    "start_time": "2023-05-17T02:16:13.568Z"
   },
   {
    "duration": 72,
    "start_time": "2023-05-17T02:16:13.782Z"
   },
   {
    "duration": 15,
    "start_time": "2023-05-17T02:16:13.857Z"
   },
   {
    "duration": 19,
    "start_time": "2023-05-17T02:16:13.953Z"
   },
   {
    "duration": 13,
    "start_time": "2023-05-17T02:16:13.973Z"
   },
   {
    "duration": 7,
    "start_time": "2023-05-17T02:16:13.987Z"
   },
   {
    "duration": 3,
    "start_time": "2023-05-17T02:16:13.996Z"
   },
   {
    "duration": 21,
    "start_time": "2023-05-17T02:16:14.001Z"
   },
   {
    "duration": 946,
    "start_time": "2023-05-17T02:16:14.024Z"
   },
   {
    "duration": 871,
    "start_time": "2023-05-17T02:16:14.971Z"
   },
   {
    "duration": 922,
    "start_time": "2023-05-17T02:16:15.847Z"
   },
   {
    "duration": 1452,
    "start_time": "2023-05-17T02:18:07.661Z"
   },
   {
    "duration": 423,
    "start_time": "2023-05-17T02:18:09.115Z"
   },
   {
    "duration": 36,
    "start_time": "2023-05-17T02:18:09.540Z"
   },
   {
    "duration": 185,
    "start_time": "2023-05-17T02:18:09.577Z"
   },
   {
    "duration": 152,
    "start_time": "2023-05-17T02:18:09.764Z"
   },
   {
    "duration": 40,
    "start_time": "2023-05-17T02:18:09.918Z"
   },
   {
    "duration": 21,
    "start_time": "2023-05-17T02:18:09.959Z"
   },
   {
    "duration": 21,
    "start_time": "2023-05-17T02:18:09.982Z"
   },
   {
    "duration": 46,
    "start_time": "2023-05-17T02:18:10.005Z"
   },
   {
    "duration": 10,
    "start_time": "2023-05-17T02:18:10.053Z"
   },
   {
    "duration": 31,
    "start_time": "2023-05-17T02:18:10.065Z"
   },
   {
    "duration": 173,
    "start_time": "2023-05-17T02:18:10.098Z"
   },
   {
    "duration": 189,
    "start_time": "2023-05-17T02:18:10.273Z"
   },
   {
    "duration": 194,
    "start_time": "2023-05-17T02:18:10.466Z"
   },
   {
    "duration": 18,
    "start_time": "2023-05-17T02:18:10.662Z"
   },
   {
    "duration": 24,
    "start_time": "2023-05-17T02:18:10.682Z"
   },
   {
    "duration": 30,
    "start_time": "2023-05-17T02:18:10.708Z"
   },
   {
    "duration": 37,
    "start_time": "2023-05-17T02:18:10.740Z"
   },
   {
    "duration": 15,
    "start_time": "2023-05-17T02:18:10.779Z"
   },
   {
    "duration": 33,
    "start_time": "2023-05-17T02:18:10.796Z"
   },
   {
    "duration": 890,
    "start_time": "2023-05-17T02:18:10.830Z"
   },
   {
    "duration": 988,
    "start_time": "2023-05-17T02:18:11.721Z"
   },
   {
    "duration": 943,
    "start_time": "2023-05-17T02:18:12.711Z"
   },
   {
    "duration": 1142,
    "start_time": "2023-05-17T02:19:43.834Z"
   },
   {
    "duration": 409,
    "start_time": "2023-05-17T02:19:44.979Z"
   },
   {
    "duration": 30,
    "start_time": "2023-05-17T02:19:45.389Z"
   },
   {
    "duration": 184,
    "start_time": "2023-05-17T02:19:45.420Z"
   },
   {
    "duration": 153,
    "start_time": "2023-05-17T02:19:45.606Z"
   },
   {
    "duration": 23,
    "start_time": "2023-05-17T02:19:45.761Z"
   },
   {
    "duration": 17,
    "start_time": "2023-05-17T02:19:45.785Z"
   },
   {
    "duration": 16,
    "start_time": "2023-05-17T02:19:45.804Z"
   },
   {
    "duration": 52,
    "start_time": "2023-05-17T02:19:45.821Z"
   },
   {
    "duration": 4,
    "start_time": "2023-05-17T02:19:45.874Z"
   },
   {
    "duration": 66,
    "start_time": "2023-05-17T02:19:45.879Z"
   },
   {
    "duration": 25,
    "start_time": "2023-05-17T02:19:45.947Z"
   },
   {
    "duration": 179,
    "start_time": "2023-05-17T02:19:45.974Z"
   },
   {
    "duration": 116,
    "start_time": "2023-05-17T02:19:46.157Z"
   },
   {
    "duration": 81,
    "start_time": "2023-05-17T02:19:46.275Z"
   },
   {
    "duration": 18,
    "start_time": "2023-05-17T02:19:46.357Z"
   },
   {
    "duration": 12,
    "start_time": "2023-05-17T02:19:46.378Z"
   },
   {
    "duration": 8,
    "start_time": "2023-05-17T02:19:46.392Z"
   },
   {
    "duration": 11,
    "start_time": "2023-05-17T02:19:46.402Z"
   },
   {
    "duration": 41,
    "start_time": "2023-05-17T02:19:46.415Z"
   },
   {
    "duration": 950,
    "start_time": "2023-05-17T02:19:46.457Z"
   },
   {
    "duration": 953,
    "start_time": "2023-05-17T02:19:47.409Z"
   },
   {
    "duration": 948,
    "start_time": "2023-05-17T02:19:48.364Z"
   },
   {
    "duration": 10,
    "start_time": "2023-05-17T02:24:35.188Z"
   },
   {
    "duration": 127,
    "start_time": "2023-05-17T02:24:38.935Z"
   },
   {
    "duration": 1161,
    "start_time": "2023-05-17T02:24:51.998Z"
   },
   {
    "duration": 421,
    "start_time": "2023-05-17T02:24:53.162Z"
   },
   {
    "duration": 30,
    "start_time": "2023-05-17T02:24:53.585Z"
   },
   {
    "duration": 190,
    "start_time": "2023-05-17T02:24:53.617Z"
   },
   {
    "duration": 79,
    "start_time": "2023-05-17T02:24:53.810Z"
   },
   {
    "duration": 0,
    "start_time": "2023-05-17T02:24:53.891Z"
   },
   {
    "duration": 0,
    "start_time": "2023-05-17T02:24:53.892Z"
   },
   {
    "duration": 0,
    "start_time": "2023-05-17T02:24:53.893Z"
   },
   {
    "duration": 0,
    "start_time": "2023-05-17T02:24:53.894Z"
   },
   {
    "duration": 0,
    "start_time": "2023-05-17T02:24:53.895Z"
   },
   {
    "duration": 0,
    "start_time": "2023-05-17T02:24:53.896Z"
   },
   {
    "duration": 0,
    "start_time": "2023-05-17T02:24:53.898Z"
   },
   {
    "duration": 0,
    "start_time": "2023-05-17T02:24:53.900Z"
   },
   {
    "duration": 0,
    "start_time": "2023-05-17T02:24:53.901Z"
   },
   {
    "duration": 0,
    "start_time": "2023-05-17T02:24:53.902Z"
   },
   {
    "duration": 0,
    "start_time": "2023-05-17T02:24:53.903Z"
   },
   {
    "duration": 0,
    "start_time": "2023-05-17T02:24:53.905Z"
   },
   {
    "duration": 0,
    "start_time": "2023-05-17T02:24:53.906Z"
   },
   {
    "duration": 0,
    "start_time": "2023-05-17T02:24:53.907Z"
   },
   {
    "duration": 0,
    "start_time": "2023-05-17T02:24:53.908Z"
   },
   {
    "duration": 0,
    "start_time": "2023-05-17T02:24:53.910Z"
   },
   {
    "duration": 0,
    "start_time": "2023-05-17T02:24:53.911Z"
   },
   {
    "duration": 0,
    "start_time": "2023-05-17T02:24:53.912Z"
   },
   {
    "duration": 1176,
    "start_time": "2023-05-17T02:25:54.727Z"
   },
   {
    "duration": 433,
    "start_time": "2023-05-17T02:25:55.905Z"
   },
   {
    "duration": 47,
    "start_time": "2023-05-17T02:25:56.340Z"
   },
   {
    "duration": 180,
    "start_time": "2023-05-17T02:25:56.389Z"
   },
   {
    "duration": 150,
    "start_time": "2023-05-17T02:25:56.572Z"
   },
   {
    "duration": 42,
    "start_time": "2023-05-17T02:25:56.724Z"
   },
   {
    "duration": 19,
    "start_time": "2023-05-17T02:25:56.768Z"
   },
   {
    "duration": 12,
    "start_time": "2023-05-17T02:25:56.789Z"
   },
   {
    "duration": 60,
    "start_time": "2023-05-17T02:25:56.803Z"
   },
   {
    "duration": 4,
    "start_time": "2023-05-17T02:25:56.864Z"
   },
   {
    "duration": 98,
    "start_time": "2023-05-17T02:25:56.870Z"
   },
   {
    "duration": 97,
    "start_time": "2023-05-17T02:25:56.970Z"
   },
   {
    "duration": 195,
    "start_time": "2023-05-17T02:25:57.071Z"
   },
   {
    "duration": 81,
    "start_time": "2023-05-17T02:25:57.273Z"
   },
   {
    "duration": 122,
    "start_time": "2023-05-17T02:25:57.356Z"
   },
   {
    "duration": 53,
    "start_time": "2023-05-17T02:25:57.480Z"
   },
   {
    "duration": 76,
    "start_time": "2023-05-17T02:25:57.535Z"
   },
   {
    "duration": 50,
    "start_time": "2023-05-17T02:25:57.613Z"
   },
   {
    "duration": 57,
    "start_time": "2023-05-17T02:25:57.665Z"
   },
   {
    "duration": 87,
    "start_time": "2023-05-17T02:25:57.724Z"
   },
   {
    "duration": 999,
    "start_time": "2023-05-17T02:25:57.813Z"
   },
   {
    "duration": 944,
    "start_time": "2023-05-17T02:25:58.815Z"
   },
   {
    "duration": 959,
    "start_time": "2023-05-17T02:25:59.763Z"
   },
   {
    "duration": 1177,
    "start_time": "2023-05-17T02:29:13.021Z"
   },
   {
    "duration": 414,
    "start_time": "2023-05-17T02:29:14.200Z"
   },
   {
    "duration": 32,
    "start_time": "2023-05-17T02:29:14.616Z"
   },
   {
    "duration": 157,
    "start_time": "2023-05-17T02:29:14.650Z"
   },
   {
    "duration": 149,
    "start_time": "2023-05-17T02:29:14.809Z"
   },
   {
    "duration": 22,
    "start_time": "2023-05-17T02:29:14.960Z"
   },
   {
    "duration": 27,
    "start_time": "2023-05-17T02:29:14.984Z"
   },
   {
    "duration": 54,
    "start_time": "2023-05-17T02:29:15.013Z"
   },
   {
    "duration": 64,
    "start_time": "2023-05-17T02:29:15.069Z"
   },
   {
    "duration": 3,
    "start_time": "2023-05-17T02:29:15.135Z"
   },
   {
    "duration": 81,
    "start_time": "2023-05-17T02:29:15.139Z"
   },
   {
    "duration": 0,
    "start_time": "2023-05-17T02:29:15.222Z"
   },
   {
    "duration": 0,
    "start_time": "2023-05-17T02:29:15.223Z"
   },
   {
    "duration": 0,
    "start_time": "2023-05-17T02:29:15.224Z"
   },
   {
    "duration": 0,
    "start_time": "2023-05-17T02:29:15.226Z"
   },
   {
    "duration": 0,
    "start_time": "2023-05-17T02:29:15.227Z"
   },
   {
    "duration": 0,
    "start_time": "2023-05-17T02:29:15.228Z"
   },
   {
    "duration": 0,
    "start_time": "2023-05-17T02:29:15.230Z"
   },
   {
    "duration": 0,
    "start_time": "2023-05-17T02:29:15.231Z"
   },
   {
    "duration": 0,
    "start_time": "2023-05-17T02:29:15.233Z"
   },
   {
    "duration": 0,
    "start_time": "2023-05-17T02:29:15.234Z"
   },
   {
    "duration": 0,
    "start_time": "2023-05-17T02:29:15.235Z"
   },
   {
    "duration": 0,
    "start_time": "2023-05-17T02:29:15.237Z"
   },
   {
    "duration": 5,
    "start_time": "2023-05-17T02:29:30.864Z"
   },
   {
    "duration": 470,
    "start_time": "2023-05-17T02:29:30.871Z"
   },
   {
    "duration": 32,
    "start_time": "2023-05-17T02:29:31.342Z"
   },
   {
    "duration": 209,
    "start_time": "2023-05-17T02:29:31.376Z"
   },
   {
    "duration": 173,
    "start_time": "2023-05-17T02:29:31.588Z"
   },
   {
    "duration": 36,
    "start_time": "2023-05-17T02:29:31.768Z"
   },
   {
    "duration": 19,
    "start_time": "2023-05-17T02:29:31.806Z"
   },
   {
    "duration": 54,
    "start_time": "2023-05-17T02:29:31.828Z"
   },
   {
    "duration": 42,
    "start_time": "2023-05-17T02:29:31.884Z"
   },
   {
    "duration": 6,
    "start_time": "2023-05-17T02:29:31.928Z"
   },
   {
    "duration": 111,
    "start_time": "2023-05-17T02:29:31.936Z"
   },
   {
    "duration": 116,
    "start_time": "2023-05-17T02:29:32.049Z"
   },
   {
    "duration": 193,
    "start_time": "2023-05-17T02:29:32.171Z"
   },
   {
    "duration": 83,
    "start_time": "2023-05-17T02:29:32.368Z"
   },
   {
    "duration": 120,
    "start_time": "2023-05-17T02:29:32.453Z"
   },
   {
    "duration": 17,
    "start_time": "2023-05-17T02:29:32.576Z"
   },
   {
    "duration": 21,
    "start_time": "2023-05-17T02:29:32.595Z"
   },
   {
    "duration": 9,
    "start_time": "2023-05-17T02:29:32.618Z"
   },
   {
    "duration": 6,
    "start_time": "2023-05-17T02:29:32.629Z"
   },
   {
    "duration": 44,
    "start_time": "2023-05-17T02:29:32.637Z"
   },
   {
    "duration": 944,
    "start_time": "2023-05-17T02:29:32.683Z"
   },
   {
    "duration": 937,
    "start_time": "2023-05-17T02:29:33.629Z"
   },
   {
    "duration": 937,
    "start_time": "2023-05-17T02:29:34.568Z"
   },
   {
    "duration": 1163,
    "start_time": "2023-05-17T02:36:27.842Z"
   },
   {
    "duration": 432,
    "start_time": "2023-05-17T02:36:29.007Z"
   },
   {
    "duration": 42,
    "start_time": "2023-05-17T02:36:29.441Z"
   },
   {
    "duration": 183,
    "start_time": "2023-05-17T02:36:29.484Z"
   },
   {
    "duration": 156,
    "start_time": "2023-05-17T02:36:29.670Z"
   },
   {
    "duration": 43,
    "start_time": "2023-05-17T02:36:29.828Z"
   },
   {
    "duration": 17,
    "start_time": "2023-05-17T02:36:29.873Z"
   },
   {
    "duration": 13,
    "start_time": "2023-05-17T02:36:29.892Z"
   },
   {
    "duration": 55,
    "start_time": "2023-05-17T02:36:29.907Z"
   },
   {
    "duration": 4,
    "start_time": "2023-05-17T02:36:29.964Z"
   },
   {
    "duration": 81,
    "start_time": "2023-05-17T02:36:29.970Z"
   },
   {
    "duration": 110,
    "start_time": "2023-05-17T02:36:30.053Z"
   },
   {
    "duration": 102,
    "start_time": "2023-05-17T02:36:30.166Z"
   },
   {
    "duration": 148,
    "start_time": "2023-05-17T02:36:30.351Z"
   },
   {
    "duration": 42,
    "start_time": "2023-05-17T02:36:30.501Z"
   },
   {
    "duration": 59,
    "start_time": "2023-05-17T02:36:30.544Z"
   },
   {
    "duration": 65,
    "start_time": "2023-05-17T02:36:30.605Z"
   },
   {
    "duration": 990,
    "start_time": "2023-05-17T02:36:30.672Z"
   },
   {
    "duration": 991,
    "start_time": "2023-05-17T02:36:31.664Z"
   },
   {
    "duration": 938,
    "start_time": "2023-05-17T02:36:32.663Z"
   },
   {
    "duration": 1236,
    "start_time": "2023-05-17T02:50:30.727Z"
   },
   {
    "duration": 464,
    "start_time": "2023-05-17T02:50:31.966Z"
   },
   {
    "duration": 59,
    "start_time": "2023-05-17T02:50:32.433Z"
   },
   {
    "duration": 180,
    "start_time": "2023-05-17T02:50:32.495Z"
   },
   {
    "duration": 168,
    "start_time": "2023-05-17T02:50:32.678Z"
   },
   {
    "duration": 28,
    "start_time": "2023-05-17T02:50:32.855Z"
   },
   {
    "duration": 18,
    "start_time": "2023-05-17T02:50:32.886Z"
   },
   {
    "duration": 18,
    "start_time": "2023-05-17T02:50:32.906Z"
   },
   {
    "duration": 56,
    "start_time": "2023-05-17T02:50:32.926Z"
   },
   {
    "duration": 4,
    "start_time": "2023-05-17T02:50:32.984Z"
   },
   {
    "duration": 76,
    "start_time": "2023-05-17T02:50:32.990Z"
   },
   {
    "duration": 119,
    "start_time": "2023-05-17T02:50:33.068Z"
   },
   {
    "duration": 185,
    "start_time": "2023-05-17T02:50:33.190Z"
   },
   {
    "duration": 198,
    "start_time": "2023-05-17T02:50:33.379Z"
   },
   {
    "duration": 14,
    "start_time": "2023-05-17T02:50:33.578Z"
   },
   {
    "duration": 5,
    "start_time": "2023-05-17T02:50:33.593Z"
   },
   {
    "duration": 24,
    "start_time": "2023-05-17T02:50:33.600Z"
   },
   {
    "duration": 986,
    "start_time": "2023-05-17T02:50:33.626Z"
   },
   {
    "duration": 944,
    "start_time": "2023-05-17T02:50:34.614Z"
   },
   {
    "duration": 948,
    "start_time": "2023-05-17T02:50:35.560Z"
   },
   {
    "duration": 1230,
    "start_time": "2023-05-17T03:11:37.231Z"
   },
   {
    "duration": 439,
    "start_time": "2023-05-17T03:11:38.464Z"
   },
   {
    "duration": 32,
    "start_time": "2023-05-17T03:11:38.907Z"
   },
   {
    "duration": 194,
    "start_time": "2023-05-17T03:11:38.953Z"
   },
   {
    "duration": 157,
    "start_time": "2023-05-17T03:11:39.151Z"
   },
   {
    "duration": 22,
    "start_time": "2023-05-17T03:11:39.311Z"
   },
   {
    "duration": 25,
    "start_time": "2023-05-17T03:11:39.346Z"
   },
   {
    "duration": 21,
    "start_time": "2023-05-17T03:11:39.373Z"
   },
   {
    "duration": 57,
    "start_time": "2023-05-17T03:11:39.396Z"
   },
   {
    "duration": 5,
    "start_time": "2023-05-17T03:11:39.457Z"
   },
   {
    "duration": 93,
    "start_time": "2023-05-17T03:11:39.464Z"
   },
   {
    "duration": 190,
    "start_time": "2023-05-17T03:11:39.560Z"
   },
   {
    "duration": 107,
    "start_time": "2023-05-17T03:11:39.752Z"
   },
   {
    "duration": 92,
    "start_time": "2023-05-17T03:11:39.862Z"
   },
   {
    "duration": 86,
    "start_time": "2023-05-17T03:11:39.960Z"
   },
   {
    "duration": 35,
    "start_time": "2023-05-17T03:11:40.049Z"
   },
   {
    "duration": 39,
    "start_time": "2023-05-17T03:11:40.086Z"
   },
   {
    "duration": 981,
    "start_time": "2023-05-17T03:11:40.127Z"
   },
   {
    "duration": 967,
    "start_time": "2023-05-17T03:11:41.109Z"
   },
   {
    "duration": 1089,
    "start_time": "2023-05-17T03:11:42.078Z"
   },
   {
    "duration": 5,
    "start_time": "2023-05-17T03:12:06.063Z"
   },
   {
    "duration": 4,
    "start_time": "2023-05-17T03:12:25.334Z"
   },
   {
    "duration": 473,
    "start_time": "2023-05-17T03:12:25.340Z"
   },
   {
    "duration": 38,
    "start_time": "2023-05-17T03:12:25.815Z"
   },
   {
    "duration": 160,
    "start_time": "2023-05-17T03:12:25.859Z"
   },
   {
    "duration": 167,
    "start_time": "2023-05-17T03:12:26.022Z"
   },
   {
    "duration": 24,
    "start_time": "2023-05-17T03:12:26.191Z"
   },
   {
    "duration": 38,
    "start_time": "2023-05-17T03:12:26.217Z"
   },
   {
    "duration": 34,
    "start_time": "2023-05-17T03:12:26.256Z"
   },
   {
    "duration": 35,
    "start_time": "2023-05-17T03:12:26.291Z"
   },
   {
    "duration": 4,
    "start_time": "2023-05-17T03:12:26.328Z"
   },
   {
    "duration": 67,
    "start_time": "2023-05-17T03:12:26.333Z"
   },
   {
    "duration": 168,
    "start_time": "2023-05-17T03:12:26.402Z"
   },
   {
    "duration": 202,
    "start_time": "2023-05-17T03:12:26.572Z"
   },
   {
    "duration": 73,
    "start_time": "2023-05-17T03:12:26.778Z"
   },
   {
    "duration": 121,
    "start_time": "2023-05-17T03:12:26.857Z"
   },
   {
    "duration": 10,
    "start_time": "2023-05-17T03:12:26.980Z"
   },
   {
    "duration": 42,
    "start_time": "2023-05-17T03:12:26.992Z"
   },
   {
    "duration": 984,
    "start_time": "2023-05-17T03:12:27.036Z"
   },
   {
    "duration": 981,
    "start_time": "2023-05-17T03:12:28.022Z"
   },
   {
    "duration": 980,
    "start_time": "2023-05-17T03:12:29.005Z"
   },
   {
    "duration": 1252,
    "start_time": "2023-05-17T03:22:42.035Z"
   },
   {
    "duration": 418,
    "start_time": "2023-05-17T03:22:43.289Z"
   },
   {
    "duration": 29,
    "start_time": "2023-05-17T03:22:43.709Z"
   },
   {
    "duration": 168,
    "start_time": "2023-05-17T03:22:43.746Z"
   },
   {
    "duration": 163,
    "start_time": "2023-05-17T03:22:43.916Z"
   },
   {
    "duration": 23,
    "start_time": "2023-05-17T03:22:44.081Z"
   },
   {
    "duration": 45,
    "start_time": "2023-05-17T03:22:44.106Z"
   },
   {
    "duration": 13,
    "start_time": "2023-05-17T03:22:44.152Z"
   },
   {
    "duration": 48,
    "start_time": "2023-05-17T03:22:44.167Z"
   },
   {
    "duration": 3,
    "start_time": "2023-05-17T03:22:44.217Z"
   },
   {
    "duration": 37,
    "start_time": "2023-05-17T03:22:44.222Z"
   },
   {
    "duration": 192,
    "start_time": "2023-05-17T03:22:44.261Z"
   },
   {
    "duration": 116,
    "start_time": "2023-05-17T03:22:44.456Z"
   },
   {
    "duration": 183,
    "start_time": "2023-05-17T03:22:44.576Z"
   },
   {
    "duration": 22,
    "start_time": "2023-05-17T03:22:44.761Z"
   },
   {
    "duration": 10,
    "start_time": "2023-05-17T03:22:44.785Z"
   },
   {
    "duration": 34,
    "start_time": "2023-05-17T03:22:44.797Z"
   },
   {
    "duration": 929,
    "start_time": "2023-05-17T03:22:44.833Z"
   },
   {
    "duration": 920,
    "start_time": "2023-05-17T03:22:45.763Z"
   },
   {
    "duration": 947,
    "start_time": "2023-05-17T03:22:46.685Z"
   },
   {
    "duration": 1170,
    "start_time": "2023-05-17T03:34:24.463Z"
   },
   {
    "duration": 428,
    "start_time": "2023-05-17T03:34:25.635Z"
   },
   {
    "duration": 36,
    "start_time": "2023-05-17T03:34:26.065Z"
   },
   {
    "duration": 185,
    "start_time": "2023-05-17T03:34:26.103Z"
   },
   {
    "duration": 161,
    "start_time": "2023-05-17T03:34:26.291Z"
   },
   {
    "duration": 28,
    "start_time": "2023-05-17T03:34:26.454Z"
   },
   {
    "duration": 19,
    "start_time": "2023-05-17T03:34:26.483Z"
   },
   {
    "duration": 18,
    "start_time": "2023-05-17T03:34:26.503Z"
   },
   {
    "duration": 54,
    "start_time": "2023-05-17T03:34:26.523Z"
   },
   {
    "duration": 4,
    "start_time": "2023-05-17T03:34:26.578Z"
   },
   {
    "duration": 62,
    "start_time": "2023-05-17T03:34:26.583Z"
   },
   {
    "duration": 132,
    "start_time": "2023-05-17T03:34:26.647Z"
   },
   {
    "duration": 182,
    "start_time": "2023-05-17T03:34:26.783Z"
   },
   {
    "duration": 195,
    "start_time": "2023-05-17T03:34:26.969Z"
   },
   {
    "duration": 102,
    "start_time": "2023-05-17T03:34:27.167Z"
   },
   {
    "duration": 0,
    "start_time": "2023-05-17T03:34:27.271Z"
   },
   {
    "duration": 0,
    "start_time": "2023-05-17T03:34:27.272Z"
   },
   {
    "duration": 0,
    "start_time": "2023-05-17T03:34:27.273Z"
   },
   {
    "duration": 0,
    "start_time": "2023-05-17T03:34:27.274Z"
   },
   {
    "duration": 0,
    "start_time": "2023-05-17T03:34:27.275Z"
   },
   {
    "duration": 0,
    "start_time": "2023-05-17T03:34:27.276Z"
   },
   {
    "duration": 4,
    "start_time": "2023-05-17T03:34:49.129Z"
   },
   {
    "duration": 431,
    "start_time": "2023-05-17T03:34:49.136Z"
   },
   {
    "duration": 21,
    "start_time": "2023-05-17T03:34:49.569Z"
   },
   {
    "duration": 184,
    "start_time": "2023-05-17T03:34:49.592Z"
   },
   {
    "duration": 140,
    "start_time": "2023-05-17T03:34:49.778Z"
   },
   {
    "duration": 33,
    "start_time": "2023-05-17T03:34:49.920Z"
   },
   {
    "duration": 17,
    "start_time": "2023-05-17T03:34:49.955Z"
   },
   {
    "duration": 30,
    "start_time": "2023-05-17T03:34:49.974Z"
   },
   {
    "duration": 66,
    "start_time": "2023-05-17T03:34:50.006Z"
   },
   {
    "duration": 21,
    "start_time": "2023-05-17T03:34:50.074Z"
   },
   {
    "duration": 36,
    "start_time": "2023-05-17T03:34:50.097Z"
   },
   {
    "duration": 135,
    "start_time": "2023-05-17T03:34:50.135Z"
   },
   {
    "duration": 117,
    "start_time": "2023-05-17T03:34:50.350Z"
   },
   {
    "duration": 14,
    "start_time": "2023-05-17T03:34:50.545Z"
   },
   {
    "duration": 94,
    "start_time": "2023-05-17T03:34:50.561Z"
   },
   {
    "duration": 13,
    "start_time": "2023-05-17T03:34:50.657Z"
   },
   {
    "duration": 50,
    "start_time": "2023-05-17T03:34:50.672Z"
   },
   {
    "duration": 968,
    "start_time": "2023-05-17T03:34:50.724Z"
   },
   {
    "duration": 997,
    "start_time": "2023-05-17T03:34:51.694Z"
   },
   {
    "duration": 977,
    "start_time": "2023-05-17T03:34:52.692Z"
   },
   {
    "duration": 1159,
    "start_time": "2023-05-17T03:37:24.886Z"
   },
   {
    "duration": 449,
    "start_time": "2023-05-17T03:37:26.052Z"
   },
   {
    "duration": 53,
    "start_time": "2023-05-17T03:37:26.503Z"
   },
   {
    "duration": 179,
    "start_time": "2023-05-17T03:37:26.563Z"
   },
   {
    "duration": 171,
    "start_time": "2023-05-17T03:37:26.744Z"
   },
   {
    "duration": 41,
    "start_time": "2023-05-17T03:37:26.917Z"
   },
   {
    "duration": 25,
    "start_time": "2023-05-17T03:37:26.960Z"
   },
   {
    "duration": 26,
    "start_time": "2023-05-17T03:37:26.987Z"
   },
   {
    "duration": 58,
    "start_time": "2023-05-17T03:37:27.016Z"
   },
   {
    "duration": 5,
    "start_time": "2023-05-17T03:37:27.076Z"
   },
   {
    "duration": 85,
    "start_time": "2023-05-17T03:37:27.083Z"
   },
   {
    "duration": 27,
    "start_time": "2023-05-17T03:37:27.246Z"
   },
   {
    "duration": 198,
    "start_time": "2023-05-17T03:37:27.277Z"
   },
   {
    "duration": 171,
    "start_time": "2023-05-17T03:37:27.479Z"
   },
   {
    "duration": 31,
    "start_time": "2023-05-17T03:37:27.652Z"
   },
   {
    "duration": 5,
    "start_time": "2023-05-17T03:37:27.685Z"
   },
   {
    "duration": 38,
    "start_time": "2023-05-17T03:37:27.692Z"
   },
   {
    "duration": 1006,
    "start_time": "2023-05-17T03:37:27.732Z"
   },
   {
    "duration": 981,
    "start_time": "2023-05-17T03:37:28.740Z"
   },
   {
    "duration": 998,
    "start_time": "2023-05-17T03:37:29.723Z"
   },
   {
    "duration": 5,
    "start_time": "2023-05-17T03:38:16.097Z"
   },
   {
    "duration": 451,
    "start_time": "2023-05-17T03:38:16.104Z"
   },
   {
    "duration": 29,
    "start_time": "2023-05-17T03:38:16.556Z"
   },
   {
    "duration": 191,
    "start_time": "2023-05-17T03:38:16.588Z"
   },
   {
    "duration": 145,
    "start_time": "2023-05-17T03:38:16.781Z"
   },
   {
    "duration": 48,
    "start_time": "2023-05-17T03:38:16.929Z"
   },
   {
    "duration": 28,
    "start_time": "2023-05-17T03:38:16.979Z"
   },
   {
    "duration": 60,
    "start_time": "2023-05-17T03:38:17.009Z"
   },
   {
    "duration": 78,
    "start_time": "2023-05-17T03:38:17.071Z"
   },
   {
    "duration": 17,
    "start_time": "2023-05-17T03:38:17.152Z"
   },
   {
    "duration": 80,
    "start_time": "2023-05-17T03:38:17.171Z"
   },
   {
    "duration": 89,
    "start_time": "2023-05-17T03:38:17.257Z"
   },
   {
    "duration": 133,
    "start_time": "2023-05-17T03:38:17.349Z"
   },
   {
    "duration": 179,
    "start_time": "2023-05-17T03:38:17.486Z"
   },
   {
    "duration": 24,
    "start_time": "2023-05-17T03:38:17.667Z"
   },
   {
    "duration": 13,
    "start_time": "2023-05-17T03:38:17.693Z"
   },
   {
    "duration": 48,
    "start_time": "2023-05-17T03:38:17.708Z"
   },
   {
    "duration": 956,
    "start_time": "2023-05-17T03:38:17.757Z"
   },
   {
    "duration": 1001,
    "start_time": "2023-05-17T03:38:18.715Z"
   },
   {
    "duration": 983,
    "start_time": "2023-05-17T03:38:19.718Z"
   },
   {
    "duration": 1144,
    "start_time": "2023-05-17T03:57:28.956Z"
   },
   {
    "duration": 422,
    "start_time": "2023-05-17T03:57:30.103Z"
   },
   {
    "duration": 50,
    "start_time": "2023-05-17T03:57:30.527Z"
   },
   {
    "duration": 191,
    "start_time": "2023-05-17T03:57:30.579Z"
   },
   {
    "duration": 154,
    "start_time": "2023-05-17T03:57:30.773Z"
   },
   {
    "duration": 50,
    "start_time": "2023-05-17T03:57:30.930Z"
   },
   {
    "duration": 40,
    "start_time": "2023-05-17T03:57:30.981Z"
   },
   {
    "duration": 69,
    "start_time": "2023-05-17T03:57:31.023Z"
   },
   {
    "duration": 97,
    "start_time": "2023-05-17T03:57:31.094Z"
   },
   {
    "duration": 70,
    "start_time": "2023-05-17T03:57:31.193Z"
   },
   {
    "duration": 68,
    "start_time": "2023-05-17T03:57:31.265Z"
   },
   {
    "duration": 139,
    "start_time": "2023-05-17T03:57:31.334Z"
   },
   {
    "duration": 217,
    "start_time": "2023-05-17T03:57:31.546Z"
   },
   {
    "duration": 188,
    "start_time": "2023-05-17T03:57:31.769Z"
   },
   {
    "duration": 71,
    "start_time": "2023-05-17T03:57:31.959Z"
   },
   {
    "duration": 32,
    "start_time": "2023-05-17T03:57:32.032Z"
   },
   {
    "duration": 53,
    "start_time": "2023-05-17T03:57:32.066Z"
   },
   {
    "duration": 1091,
    "start_time": "2023-05-17T03:57:32.122Z"
   },
   {
    "duration": 927,
    "start_time": "2023-05-17T03:57:33.215Z"
   },
   {
    "duration": 935,
    "start_time": "2023-05-17T03:57:34.146Z"
   },
   {
    "duration": 6,
    "start_time": "2023-05-17T04:00:07.734Z"
   },
   {
    "duration": 462,
    "start_time": "2023-05-17T04:00:07.742Z"
   },
   {
    "duration": 25,
    "start_time": "2023-05-17T04:00:08.206Z"
   },
   {
    "duration": 186,
    "start_time": "2023-05-17T04:00:08.233Z"
   },
   {
    "duration": 163,
    "start_time": "2023-05-17T04:00:08.422Z"
   },
   {
    "duration": 24,
    "start_time": "2023-05-17T04:00:08.588Z"
   },
   {
    "duration": 38,
    "start_time": "2023-05-17T04:00:08.614Z"
   },
   {
    "duration": 51,
    "start_time": "2023-05-17T04:00:08.658Z"
   },
   {
    "duration": 77,
    "start_time": "2023-05-17T04:00:08.711Z"
   },
   {
    "duration": 14,
    "start_time": "2023-05-17T04:00:08.790Z"
   },
   {
    "duration": 63,
    "start_time": "2023-05-17T04:00:08.806Z"
   },
   {
    "duration": 212,
    "start_time": "2023-05-17T04:00:08.872Z"
   },
   {
    "duration": 182,
    "start_time": "2023-05-17T04:00:09.086Z"
   },
   {
    "duration": 82,
    "start_time": "2023-05-17T04:00:09.272Z"
   },
   {
    "duration": 98,
    "start_time": "2023-05-17T04:00:09.357Z"
   },
   {
    "duration": 16,
    "start_time": "2023-05-17T04:00:09.462Z"
   },
   {
    "duration": 24,
    "start_time": "2023-05-17T04:00:09.480Z"
   },
   {
    "duration": 977,
    "start_time": "2023-05-17T04:00:09.505Z"
   },
   {
    "duration": 986,
    "start_time": "2023-05-17T04:00:10.484Z"
   },
   {
    "duration": 1026,
    "start_time": "2023-05-17T04:00:11.471Z"
   },
   {
    "duration": 1189,
    "start_time": "2023-05-17T04:09:44.117Z"
   },
   {
    "duration": 431,
    "start_time": "2023-05-17T04:09:45.309Z"
   },
   {
    "duration": 39,
    "start_time": "2023-05-17T04:09:45.743Z"
   },
   {
    "duration": 189,
    "start_time": "2023-05-17T04:09:45.784Z"
   },
   {
    "duration": 151,
    "start_time": "2023-05-17T04:09:45.976Z"
   },
   {
    "duration": 46,
    "start_time": "2023-05-17T04:09:46.128Z"
   },
   {
    "duration": 19,
    "start_time": "2023-05-17T04:09:46.176Z"
   },
   {
    "duration": 20,
    "start_time": "2023-05-17T04:09:46.197Z"
   },
   {
    "duration": 60,
    "start_time": "2023-05-17T04:09:46.219Z"
   },
   {
    "duration": 5,
    "start_time": "2023-05-17T04:09:46.281Z"
   },
   {
    "duration": 63,
    "start_time": "2023-05-17T04:09:46.287Z"
   },
   {
    "duration": 114,
    "start_time": "2023-05-17T04:09:46.353Z"
   },
   {
    "duration": 179,
    "start_time": "2023-05-17T04:09:46.469Z"
   },
   {
    "duration": 124,
    "start_time": "2023-05-17T04:09:46.653Z"
   },
   {
    "duration": 15,
    "start_time": "2023-05-17T04:09:46.782Z"
   },
   {
    "duration": 7,
    "start_time": "2023-05-17T04:09:46.799Z"
   },
   {
    "duration": 33,
    "start_time": "2023-05-17T04:09:46.809Z"
   },
   {
    "duration": 997,
    "start_time": "2023-05-17T04:09:46.844Z"
   },
   {
    "duration": 971,
    "start_time": "2023-05-17T04:09:47.851Z"
   },
   {
    "duration": 995,
    "start_time": "2023-05-17T04:09:48.824Z"
   },
   {
    "duration": 5,
    "start_time": "2023-05-17T04:14:53.818Z"
   },
   {
    "duration": 607,
    "start_time": "2023-05-17T04:14:53.826Z"
   },
   {
    "duration": 38,
    "start_time": "2023-05-17T04:14:54.436Z"
   },
   {
    "duration": 236,
    "start_time": "2023-05-17T04:14:54.477Z"
   },
   {
    "duration": 164,
    "start_time": "2023-05-17T04:14:54.715Z"
   },
   {
    "duration": 25,
    "start_time": "2023-05-17T04:14:54.881Z"
   },
   {
    "duration": 54,
    "start_time": "2023-05-17T04:14:54.909Z"
   },
   {
    "duration": 52,
    "start_time": "2023-05-17T04:14:54.965Z"
   },
   {
    "duration": 55,
    "start_time": "2023-05-17T04:14:55.022Z"
   },
   {
    "duration": 87,
    "start_time": "2023-05-17T04:14:55.079Z"
   },
   {
    "duration": 85,
    "start_time": "2023-05-17T04:14:55.169Z"
   },
   {
    "duration": 132,
    "start_time": "2023-05-17T04:14:55.255Z"
   },
   {
    "duration": 185,
    "start_time": "2023-05-17T04:14:55.389Z"
   },
   {
    "duration": 81,
    "start_time": "2023-05-17T04:14:55.577Z"
   },
   {
    "duration": 127,
    "start_time": "2023-05-17T04:14:55.661Z"
   },
   {
    "duration": 23,
    "start_time": "2023-05-17T04:14:55.791Z"
   },
   {
    "duration": 44,
    "start_time": "2023-05-17T04:14:55.817Z"
   },
   {
    "duration": 1144,
    "start_time": "2023-05-17T04:14:55.870Z"
   },
   {
    "duration": 1047,
    "start_time": "2023-05-17T04:14:57.016Z"
   },
   {
    "duration": 1029,
    "start_time": "2023-05-17T04:14:58.064Z"
   },
   {
    "duration": 1483,
    "start_time": "2023-05-17T04:21:30.979Z"
   },
   {
    "duration": 580,
    "start_time": "2023-05-17T04:21:32.467Z"
   },
   {
    "duration": 55,
    "start_time": "2023-05-17T04:21:33.051Z"
   },
   {
    "duration": 213,
    "start_time": "2023-05-17T04:21:33.108Z"
   },
   {
    "duration": 210,
    "start_time": "2023-05-17T04:21:33.326Z"
   },
   {
    "duration": 42,
    "start_time": "2023-05-17T04:21:33.539Z"
   },
   {
    "duration": 18,
    "start_time": "2023-05-17T04:21:33.584Z"
   },
   {
    "duration": 28,
    "start_time": "2023-05-17T04:21:33.604Z"
   },
   {
    "duration": 77,
    "start_time": "2023-05-17T04:21:33.634Z"
   },
   {
    "duration": 4,
    "start_time": "2023-05-17T04:21:33.713Z"
   },
   {
    "duration": 153,
    "start_time": "2023-05-17T04:21:33.720Z"
   },
   {
    "duration": 117,
    "start_time": "2023-05-17T04:21:33.875Z"
   },
   {
    "duration": 176,
    "start_time": "2023-05-17T04:21:33.995Z"
   },
   {
    "duration": 75,
    "start_time": "2023-05-17T04:21:34.176Z"
   },
   {
    "duration": 129,
    "start_time": "2023-05-17T04:21:34.253Z"
   },
   {
    "duration": 25,
    "start_time": "2023-05-17T04:21:34.384Z"
   },
   {
    "duration": 53,
    "start_time": "2023-05-17T04:21:34.414Z"
   },
   {
    "duration": 1138,
    "start_time": "2023-05-17T04:21:34.469Z"
   },
   {
    "duration": 1262,
    "start_time": "2023-05-17T04:21:35.611Z"
   },
   {
    "duration": 1100,
    "start_time": "2023-05-17T04:21:36.875Z"
   },
   {
    "duration": 6,
    "start_time": "2023-05-17T04:23:10.125Z"
   },
   {
    "duration": 509,
    "start_time": "2023-05-17T04:23:10.133Z"
   },
   {
    "duration": 38,
    "start_time": "2023-05-17T04:23:10.646Z"
   },
   {
    "duration": 237,
    "start_time": "2023-05-17T04:23:10.686Z"
   },
   {
    "duration": 172,
    "start_time": "2023-05-17T04:23:10.926Z"
   },
   {
    "duration": 22,
    "start_time": "2023-05-17T04:23:11.100Z"
   },
   {
    "duration": 37,
    "start_time": "2023-05-17T04:23:11.124Z"
   },
   {
    "duration": 40,
    "start_time": "2023-05-17T04:23:11.162Z"
   },
   {
    "duration": 71,
    "start_time": "2023-05-17T04:23:11.204Z"
   },
   {
    "duration": 25,
    "start_time": "2023-05-17T04:23:11.278Z"
   },
   {
    "duration": 243,
    "start_time": "2023-05-17T04:23:11.305Z"
   },
   {
    "duration": 54,
    "start_time": "2023-05-17T04:23:11.551Z"
   },
   {
    "duration": 188,
    "start_time": "2023-05-17T04:23:11.607Z"
   },
   {
    "duration": 167,
    "start_time": "2023-05-17T04:23:11.801Z"
   },
   {
    "duration": 48,
    "start_time": "2023-05-17T04:23:11.970Z"
   },
   {
    "duration": 15,
    "start_time": "2023-05-17T04:23:12.020Z"
   },
   {
    "duration": 85,
    "start_time": "2023-05-17T04:23:12.037Z"
   },
   {
    "duration": 1195,
    "start_time": "2023-05-17T04:23:12.125Z"
   },
   {
    "duration": 1062,
    "start_time": "2023-05-17T04:23:13.322Z"
   },
   {
    "duration": 1042,
    "start_time": "2023-05-17T04:23:14.387Z"
   },
   {
    "duration": 1493,
    "start_time": "2023-05-17T04:26:18.248Z"
   },
   {
    "duration": 620,
    "start_time": "2023-05-17T04:26:19.748Z"
   },
   {
    "duration": 51,
    "start_time": "2023-05-17T04:26:20.370Z"
   },
   {
    "duration": 259,
    "start_time": "2023-05-17T04:26:20.425Z"
   },
   {
    "duration": 230,
    "start_time": "2023-05-17T04:26:20.689Z"
   },
   {
    "duration": 53,
    "start_time": "2023-05-17T04:26:20.922Z"
   },
   {
    "duration": 26,
    "start_time": "2023-05-17T04:26:20.980Z"
   },
   {
    "duration": 27,
    "start_time": "2023-05-17T04:26:21.009Z"
   },
   {
    "duration": 96,
    "start_time": "2023-05-17T04:26:21.038Z"
   },
   {
    "duration": 5,
    "start_time": "2023-05-17T04:26:21.138Z"
   },
   {
    "duration": 110,
    "start_time": "2023-05-17T04:26:21.145Z"
   },
   {
    "duration": 93,
    "start_time": "2023-05-17T04:26:21.258Z"
   },
   {
    "duration": 194,
    "start_time": "2023-05-17T04:26:21.353Z"
   },
   {
    "duration": 104,
    "start_time": "2023-05-17T04:26:21.550Z"
   },
   {
    "duration": 32,
    "start_time": "2023-05-17T04:26:21.656Z"
   },
   {
    "duration": 8,
    "start_time": "2023-05-17T04:26:21.690Z"
   },
   {
    "duration": 37,
    "start_time": "2023-05-17T04:26:21.700Z"
   },
   {
    "duration": 1252,
    "start_time": "2023-05-17T04:26:21.741Z"
   },
   {
    "duration": 1098,
    "start_time": "2023-05-17T04:26:22.997Z"
   },
   {
    "duration": 1269,
    "start_time": "2023-05-17T04:26:24.097Z"
   },
   {
    "duration": 5,
    "start_time": "2023-05-17T04:26:49.786Z"
   },
   {
    "duration": 535,
    "start_time": "2023-05-17T04:26:49.794Z"
   },
   {
    "duration": 39,
    "start_time": "2023-05-17T04:26:50.332Z"
   },
   {
    "duration": 212,
    "start_time": "2023-05-17T04:26:50.374Z"
   },
   {
    "duration": 179,
    "start_time": "2023-05-17T04:26:50.590Z"
   },
   {
    "duration": 29,
    "start_time": "2023-05-17T04:26:50.772Z"
   },
   {
    "duration": 15,
    "start_time": "2023-05-17T04:26:50.803Z"
   },
   {
    "duration": 89,
    "start_time": "2023-05-17T04:26:50.820Z"
   },
   {
    "duration": 65,
    "start_time": "2023-05-17T04:26:50.911Z"
   },
   {
    "duration": 25,
    "start_time": "2023-05-17T04:26:50.978Z"
   },
   {
    "duration": 152,
    "start_time": "2023-05-17T04:26:51.010Z"
   },
   {
    "duration": 110,
    "start_time": "2023-05-17T04:26:51.168Z"
   },
   {
    "duration": 163,
    "start_time": "2023-05-17T04:26:51.292Z"
   },
   {
    "duration": 110,
    "start_time": "2023-05-17T04:26:51.463Z"
   },
   {
    "duration": 18,
    "start_time": "2023-05-17T04:26:51.577Z"
   },
   {
    "duration": 32,
    "start_time": "2023-05-17T04:26:51.597Z"
   },
   {
    "duration": 80,
    "start_time": "2023-05-17T04:26:51.631Z"
   },
   {
    "duration": 1227,
    "start_time": "2023-05-17T04:26:51.713Z"
   },
   {
    "duration": 1155,
    "start_time": "2023-05-17T04:26:52.946Z"
   },
   {
    "duration": 1173,
    "start_time": "2023-05-17T04:26:54.103Z"
   },
   {
    "duration": 5,
    "start_time": "2023-05-17T04:27:03.188Z"
   },
   {
    "duration": 499,
    "start_time": "2023-05-17T04:27:03.196Z"
   },
   {
    "duration": 24,
    "start_time": "2023-05-17T04:27:03.697Z"
   },
   {
    "duration": 199,
    "start_time": "2023-05-17T04:27:03.723Z"
   },
   {
    "duration": 201,
    "start_time": "2023-05-17T04:27:03.925Z"
   },
   {
    "duration": 49,
    "start_time": "2023-05-17T04:27:04.128Z"
   },
   {
    "duration": 27,
    "start_time": "2023-05-17T04:27:04.181Z"
   },
   {
    "duration": 20,
    "start_time": "2023-05-17T04:27:04.211Z"
   },
   {
    "duration": 65,
    "start_time": "2023-05-17T04:27:04.233Z"
   },
   {
    "duration": 23,
    "start_time": "2023-05-17T04:27:04.300Z"
   },
   {
    "duration": 81,
    "start_time": "2023-05-17T04:27:04.325Z"
   },
   {
    "duration": 181,
    "start_time": "2023-05-17T04:27:04.408Z"
   },
   {
    "duration": 213,
    "start_time": "2023-05-17T04:27:04.592Z"
   },
   {
    "duration": 136,
    "start_time": "2023-05-17T04:27:04.814Z"
   },
   {
    "duration": 26,
    "start_time": "2023-05-17T04:27:04.964Z"
   },
   {
    "duration": 13,
    "start_time": "2023-05-17T04:27:04.993Z"
   },
   {
    "duration": 57,
    "start_time": "2023-05-17T04:27:05.009Z"
   },
   {
    "duration": 1246,
    "start_time": "2023-05-17T04:27:05.071Z"
   },
   {
    "duration": 1448,
    "start_time": "2023-05-17T04:27:06.319Z"
   },
   {
    "duration": 1340,
    "start_time": "2023-05-17T04:27:07.772Z"
   },
   {
    "duration": 1423,
    "start_time": "2023-05-17T04:27:19.569Z"
   },
   {
    "duration": 481,
    "start_time": "2023-05-17T04:27:20.995Z"
   },
   {
    "duration": 42,
    "start_time": "2023-05-17T04:27:21.479Z"
   },
   {
    "duration": 248,
    "start_time": "2023-05-17T04:27:21.524Z"
   },
   {
    "duration": 171,
    "start_time": "2023-05-17T04:27:21.775Z"
   },
   {
    "duration": 41,
    "start_time": "2023-05-17T04:27:21.954Z"
   },
   {
    "duration": 59,
    "start_time": "2023-05-17T04:27:21.998Z"
   },
   {
    "duration": 56,
    "start_time": "2023-05-17T04:27:22.063Z"
   },
   {
    "duration": 116,
    "start_time": "2023-05-17T04:27:22.121Z"
   },
   {
    "duration": 5,
    "start_time": "2023-05-17T04:27:22.240Z"
   },
   {
    "duration": 135,
    "start_time": "2023-05-17T04:27:22.249Z"
   },
   {
    "duration": 132,
    "start_time": "2023-05-17T04:27:22.448Z"
   },
   {
    "duration": 261,
    "start_time": "2023-05-17T04:27:22.592Z"
   },
   {
    "duration": 32,
    "start_time": "2023-05-17T04:27:22.862Z"
   },
   {
    "duration": 140,
    "start_time": "2023-05-17T04:27:22.902Z"
   },
   {
    "duration": 78,
    "start_time": "2023-05-17T04:27:23.045Z"
   },
   {
    "duration": 102,
    "start_time": "2023-05-17T04:27:23.125Z"
   },
   {
    "duration": 1249,
    "start_time": "2023-05-17T04:27:23.229Z"
   },
   {
    "duration": 1395,
    "start_time": "2023-05-17T04:27:24.480Z"
   },
   {
    "duration": 1081,
    "start_time": "2023-05-17T04:27:25.878Z"
   },
   {
    "duration": 977,
    "start_time": "2023-05-17T04:48:13.671Z"
   },
   {
    "duration": 1169,
    "start_time": "2023-05-17T04:48:14.655Z"
   },
   {
    "duration": 44,
    "start_time": "2023-05-17T04:48:16.113Z"
   },
   {
    "duration": 190,
    "start_time": "2023-05-17T04:48:21.439Z"
   },
   {
    "duration": 143,
    "start_time": "2023-05-17T04:50:10.695Z"
   },
   {
    "duration": 31,
    "start_time": "2023-05-17T04:50:12.603Z"
   },
   {
    "duration": 22,
    "start_time": "2023-05-17T04:50:15.752Z"
   },
   {
    "duration": 24,
    "start_time": "2023-05-17T04:50:37.335Z"
   },
   {
    "duration": 49,
    "start_time": "2023-05-17T04:50:52.846Z"
   },
   {
    "duration": 4,
    "start_time": "2023-05-17T04:51:29.285Z"
   },
   {
    "duration": 71,
    "start_time": "2023-05-17T04:51:34.791Z"
   },
   {
    "duration": 26,
    "start_time": "2023-05-17T04:51:40.795Z"
   },
   {
    "duration": 31,
    "start_time": "2023-05-17T04:51:44.204Z"
   },
   {
    "duration": 3,
    "start_time": "2023-05-17T04:53:23.625Z"
   },
   {
    "duration": 9,
    "start_time": "2023-05-17T04:54:02.073Z"
   },
   {
    "duration": 24,
    "start_time": "2023-05-17T04:54:14.927Z"
   },
   {
    "duration": 4,
    "start_time": "2023-05-17T04:55:44.707Z"
   },
   {
    "duration": 36,
    "start_time": "2023-05-17T04:56:52.075Z"
   },
   {
    "duration": 1052,
    "start_time": "2023-05-17T04:57:24.582Z"
   },
   {
    "duration": 1083,
    "start_time": "2023-05-17T04:57:25.636Z"
   },
   {
    "duration": 1190,
    "start_time": "2023-05-17T04:57:26.721Z"
   },
   {
    "duration": 7,
    "start_time": "2023-05-17T12:48:02.876Z"
   },
   {
    "duration": 1168,
    "start_time": "2023-05-17T12:48:07.514Z"
   },
   {
    "duration": 1248,
    "start_time": "2023-05-17T12:48:08.683Z"
   },
   {
    "duration": 24,
    "start_time": "2023-05-17T12:48:09.932Z"
   },
   {
    "duration": 266,
    "start_time": "2023-05-17T12:48:09.957Z"
   },
   {
    "duration": 117,
    "start_time": "2023-05-17T12:48:10.225Z"
   },
   {
    "duration": 17,
    "start_time": "2023-05-17T12:48:10.344Z"
   },
   {
    "duration": 36,
    "start_time": "2023-05-17T12:48:10.362Z"
   },
   {
    "duration": 61,
    "start_time": "2023-05-17T12:48:10.411Z"
   },
   {
    "duration": 43,
    "start_time": "2023-05-17T12:48:10.474Z"
   },
   {
    "duration": 16,
    "start_time": "2023-05-17T12:48:10.519Z"
   },
   {
    "duration": 19,
    "start_time": "2023-05-17T12:48:10.536Z"
   },
   {
    "duration": 160,
    "start_time": "2023-05-17T12:48:10.630Z"
   },
   {
    "duration": 139,
    "start_time": "2023-05-17T12:48:10.792Z"
   },
   {
    "duration": 13,
    "start_time": "2023-05-17T12:48:10.934Z"
   },
   {
    "duration": 62,
    "start_time": "2023-05-17T12:48:10.948Z"
   },
   {
    "duration": 103,
    "start_time": "2023-05-17T12:48:11.014Z"
   },
   {
    "duration": 36,
    "start_time": "2023-05-17T12:48:11.122Z"
   },
   {
    "duration": 565,
    "start_time": "2023-05-17T12:48:11.160Z"
   },
   {
    "duration": 586,
    "start_time": "2023-05-17T12:48:11.732Z"
   },
   {
    "duration": 585,
    "start_time": "2023-05-17T12:48:12.329Z"
   },
   {
    "duration": 1306,
    "start_time": "2023-05-17T12:58:39.907Z"
   },
   {
    "duration": 430,
    "start_time": "2023-05-17T12:58:41.216Z"
   },
   {
    "duration": 26,
    "start_time": "2023-05-17T12:58:41.648Z"
   },
   {
    "duration": 158,
    "start_time": "2023-05-17T12:58:41.691Z"
   },
   {
    "duration": 158,
    "start_time": "2023-05-17T12:58:41.852Z"
   },
   {
    "duration": 20,
    "start_time": "2023-05-17T12:58:42.015Z"
   },
   {
    "duration": 16,
    "start_time": "2023-05-17T12:58:42.036Z"
   },
   {
    "duration": 12,
    "start_time": "2023-05-17T12:58:42.054Z"
   },
   {
    "duration": 41,
    "start_time": "2023-05-17T12:58:42.067Z"
   },
   {
    "duration": 20,
    "start_time": "2023-05-17T12:58:42.109Z"
   },
   {
    "duration": 22,
    "start_time": "2023-05-17T12:58:42.131Z"
   },
   {
    "duration": 47,
    "start_time": "2023-05-17T12:58:42.155Z"
   },
   {
    "duration": 133,
    "start_time": "2023-05-17T12:58:42.204Z"
   },
   {
    "duration": 58,
    "start_time": "2023-05-17T12:58:42.339Z"
   },
   {
    "duration": 97,
    "start_time": "2023-05-17T12:58:42.405Z"
   },
   {
    "duration": 17,
    "start_time": "2023-05-17T12:58:42.503Z"
   },
   {
    "duration": 36,
    "start_time": "2023-05-17T12:58:42.521Z"
   },
   {
    "duration": 594,
    "start_time": "2023-05-17T12:58:42.559Z"
   },
   {
    "duration": 552,
    "start_time": "2023-05-17T12:58:43.154Z"
   },
   {
    "duration": 591,
    "start_time": "2023-05-17T12:58:43.707Z"
   },
   {
    "duration": 6,
    "start_time": "2023-05-17T13:13:12.001Z"
   },
   {
    "duration": 4,
    "start_time": "2023-05-17T13:13:13.024Z"
   },
   {
    "duration": 128,
    "start_time": "2023-05-17T13:13:21.103Z"
   },
   {
    "duration": 17,
    "start_time": "2023-05-17T13:13:59.950Z"
   },
   {
    "duration": 1075,
    "start_time": "2023-05-17T13:24:23.640Z"
   },
   {
    "duration": 398,
    "start_time": "2023-05-17T13:24:24.717Z"
   },
   {
    "duration": 27,
    "start_time": "2023-05-17T13:24:25.117Z"
   },
   {
    "duration": 160,
    "start_time": "2023-05-17T13:24:25.145Z"
   },
   {
    "duration": 129,
    "start_time": "2023-05-17T13:24:25.307Z"
   },
   {
    "duration": 16,
    "start_time": "2023-05-17T13:24:25.437Z"
   },
   {
    "duration": 39,
    "start_time": "2023-05-17T13:24:25.455Z"
   },
   {
    "duration": 8,
    "start_time": "2023-05-17T13:24:25.505Z"
   },
   {
    "duration": 39,
    "start_time": "2023-05-17T13:24:25.515Z"
   },
   {
    "duration": 3,
    "start_time": "2023-05-17T13:24:25.556Z"
   },
   {
    "duration": 29,
    "start_time": "2023-05-17T13:24:25.561Z"
   },
   {
    "duration": 199,
    "start_time": "2023-05-17T13:24:25.591Z"
   },
   {
    "duration": 142,
    "start_time": "2023-05-17T13:24:25.792Z"
   },
   {
    "duration": 55,
    "start_time": "2023-05-17T13:24:25.936Z"
   },
   {
    "duration": 122,
    "start_time": "2023-05-17T13:24:25.995Z"
   },
   {
    "duration": 16,
    "start_time": "2023-05-17T13:24:26.118Z"
   },
   {
    "duration": 26,
    "start_time": "2023-05-17T13:24:26.136Z"
   },
   {
    "duration": 603,
    "start_time": "2023-05-17T13:24:26.164Z"
   },
   {
    "duration": 586,
    "start_time": "2023-05-17T13:24:26.768Z"
   },
   {
    "duration": 555,
    "start_time": "2023-05-17T13:24:27.356Z"
   },
   {
    "duration": 1173,
    "start_time": "2023-05-17T13:25:08.605Z"
   },
   {
    "duration": 417,
    "start_time": "2023-05-17T13:25:09.780Z"
   },
   {
    "duration": 26,
    "start_time": "2023-05-17T13:25:10.206Z"
   },
   {
    "duration": 156,
    "start_time": "2023-05-17T13:25:10.234Z"
   },
   {
    "duration": 124,
    "start_time": "2023-05-17T13:25:10.407Z"
   },
   {
    "duration": 18,
    "start_time": "2023-05-17T13:25:10.532Z"
   },
   {
    "duration": 15,
    "start_time": "2023-05-17T13:25:10.552Z"
   },
   {
    "duration": 40,
    "start_time": "2023-05-17T13:25:10.568Z"
   },
   {
    "duration": 36,
    "start_time": "2023-05-17T13:25:10.609Z"
   },
   {
    "duration": 3,
    "start_time": "2023-05-17T13:25:10.646Z"
   },
   {
    "duration": 48,
    "start_time": "2023-05-17T13:25:10.651Z"
   },
   {
    "duration": 102,
    "start_time": "2023-05-17T13:25:10.701Z"
   },
   {
    "duration": 226,
    "start_time": "2023-05-17T13:25:10.807Z"
   },
   {
    "duration": 4,
    "start_time": "2023-05-17T13:25:11.037Z"
   },
   {
    "duration": 156,
    "start_time": "2023-05-17T13:25:11.042Z"
   },
   {
    "duration": 14,
    "start_time": "2023-05-17T13:25:11.200Z"
   },
   {
    "duration": 27,
    "start_time": "2023-05-17T13:25:11.215Z"
   },
   {
    "duration": 560,
    "start_time": "2023-05-17T13:25:11.244Z"
   },
   {
    "duration": 567,
    "start_time": "2023-05-17T13:25:11.805Z"
   },
   {
    "duration": 580,
    "start_time": "2023-05-17T13:25:12.373Z"
   },
   {
    "duration": 1143,
    "start_time": "2023-05-17T18:34:19.138Z"
   },
   {
    "duration": 754,
    "start_time": "2023-05-17T18:34:20.282Z"
   },
   {
    "duration": 31,
    "start_time": "2023-05-17T18:34:21.038Z"
   },
   {
    "duration": 160,
    "start_time": "2023-05-17T18:34:21.071Z"
   },
   {
    "duration": 152,
    "start_time": "2023-05-17T18:34:21.233Z"
   },
   {
    "duration": 22,
    "start_time": "2023-05-17T18:34:21.387Z"
   },
   {
    "duration": 16,
    "start_time": "2023-05-17T18:34:21.411Z"
   },
   {
    "duration": 11,
    "start_time": "2023-05-17T18:34:21.430Z"
   },
   {
    "duration": 55,
    "start_time": "2023-05-17T18:34:21.443Z"
   },
   {
    "duration": 4,
    "start_time": "2023-05-17T18:34:21.500Z"
   },
   {
    "duration": 77,
    "start_time": "2023-05-17T18:34:21.506Z"
   },
   {
    "duration": 107,
    "start_time": "2023-05-17T18:34:21.585Z"
   },
   {
    "duration": 179,
    "start_time": "2023-05-17T18:34:21.693Z"
   },
   {
    "duration": 101,
    "start_time": "2023-05-17T18:34:21.876Z"
   },
   {
    "duration": 18,
    "start_time": "2023-05-17T18:34:21.979Z"
   },
   {
    "duration": 10,
    "start_time": "2023-05-17T18:34:21.999Z"
   },
   {
    "duration": 1095,
    "start_time": "2023-05-18T01:38:23.820Z"
   },
   {
    "duration": 723,
    "start_time": "2023-05-18T01:38:24.917Z"
   },
   {
    "duration": 26,
    "start_time": "2023-05-18T01:38:25.641Z"
   },
   {
    "duration": 161,
    "start_time": "2023-05-18T01:38:25.668Z"
   },
   {
    "duration": 127,
    "start_time": "2023-05-18T01:38:25.832Z"
   },
   {
    "duration": 21,
    "start_time": "2023-05-18T01:38:25.961Z"
   },
   {
    "duration": 16,
    "start_time": "2023-05-18T01:38:25.995Z"
   },
   {
    "duration": 11,
    "start_time": "2023-05-18T01:38:26.012Z"
   },
   {
    "duration": 31,
    "start_time": "2023-05-18T01:38:26.025Z"
   },
   {
    "duration": 4,
    "start_time": "2023-05-18T01:38:26.057Z"
   },
   {
    "duration": 44,
    "start_time": "2023-05-18T01:38:26.064Z"
   },
   {
    "duration": 191,
    "start_time": "2023-05-18T01:38:26.110Z"
   },
   {
    "duration": 100,
    "start_time": "2023-05-18T01:38:26.303Z"
   },
   {
    "duration": 94,
    "start_time": "2023-05-18T01:38:26.405Z"
   },
   {
    "duration": 199,
    "start_time": "2023-05-18T01:38:26.501Z"
   },
   {
    "duration": 0,
    "start_time": "2023-05-18T01:38:26.702Z"
   },
   {
    "duration": 0,
    "start_time": "2023-05-18T01:38:26.704Z"
   },
   {
    "duration": 0,
    "start_time": "2023-05-18T01:38:26.705Z"
   },
   {
    "duration": 0,
    "start_time": "2023-05-18T01:38:26.706Z"
   },
   {
    "duration": 3,
    "start_time": "2023-05-18T01:39:00.481Z"
   },
   {
    "duration": 3,
    "start_time": "2023-05-18T01:39:05.406Z"
   },
   {
    "duration": 3,
    "start_time": "2023-05-18T01:39:06.444Z"
   },
   {
    "duration": 8,
    "start_time": "2023-05-18T01:39:09.132Z"
   },
   {
    "duration": 3,
    "start_time": "2023-05-18T01:39:36.786Z"
   },
   {
    "duration": 10,
    "start_time": "2023-05-18T01:40:03.493Z"
   },
   {
    "duration": 9,
    "start_time": "2023-05-18T01:40:39.857Z"
   },
   {
    "duration": 18,
    "start_time": "2023-05-18T01:41:08.486Z"
   },
   {
    "duration": 4,
    "start_time": "2023-05-18T01:41:37.836Z"
   },
   {
    "duration": 373,
    "start_time": "2023-05-18T01:41:37.842Z"
   },
   {
    "duration": 19,
    "start_time": "2023-05-18T01:41:38.217Z"
   },
   {
    "duration": 158,
    "start_time": "2023-05-18T01:41:38.237Z"
   },
   {
    "duration": 115,
    "start_time": "2023-05-18T01:41:38.397Z"
   },
   {
    "duration": 19,
    "start_time": "2023-05-18T01:41:38.513Z"
   },
   {
    "duration": 12,
    "start_time": "2023-05-18T01:41:38.534Z"
   },
   {
    "duration": 8,
    "start_time": "2023-05-18T01:41:38.547Z"
   },
   {
    "duration": 40,
    "start_time": "2023-05-18T01:41:38.556Z"
   },
   {
    "duration": 3,
    "start_time": "2023-05-18T01:41:38.597Z"
   },
   {
    "duration": 101,
    "start_time": "2023-05-18T01:41:38.601Z"
   },
   {
    "duration": 99,
    "start_time": "2023-05-18T01:41:38.704Z"
   },
   {
    "duration": 195,
    "start_time": "2023-05-18T01:41:38.804Z"
   },
   {
    "duration": 193,
    "start_time": "2023-05-18T01:41:39.003Z"
   },
   {
    "duration": 6,
    "start_time": "2023-05-18T01:41:39.198Z"
   },
   {
    "duration": 5,
    "start_time": "2023-05-18T01:41:39.205Z"
   },
   {
    "duration": 4,
    "start_time": "2023-05-18T01:41:39.212Z"
   },
   {
    "duration": 19,
    "start_time": "2023-05-18T01:41:39.217Z"
   },
   {
    "duration": 0,
    "start_time": "2023-05-18T01:41:39.238Z"
   },
   {
    "duration": 11,
    "start_time": "2023-05-18T01:42:54.802Z"
   },
   {
    "duration": 3,
    "start_time": "2023-05-18T01:43:25.141Z"
   },
   {
    "duration": 12,
    "start_time": "2023-05-18T01:43:26.375Z"
   },
   {
    "duration": 1097,
    "start_time": "2023-05-18T01:44:05.567Z"
   },
   {
    "duration": 355,
    "start_time": "2023-05-18T01:44:06.666Z"
   },
   {
    "duration": 26,
    "start_time": "2023-05-18T01:44:07.022Z"
   },
   {
    "duration": 158,
    "start_time": "2023-05-18T01:44:07.049Z"
   },
   {
    "duration": 123,
    "start_time": "2023-05-18T01:44:07.209Z"
   },
   {
    "duration": 20,
    "start_time": "2023-05-18T01:44:07.334Z"
   },
   {
    "duration": 16,
    "start_time": "2023-05-18T01:44:07.356Z"
   },
   {
    "duration": 29,
    "start_time": "2023-05-18T01:44:07.374Z"
   },
   {
    "duration": 40,
    "start_time": "2023-05-18T01:44:07.404Z"
   },
   {
    "duration": 3,
    "start_time": "2023-05-18T01:44:07.446Z"
   },
   {
    "duration": 147,
    "start_time": "2023-05-18T01:44:07.450Z"
   },
   {
    "duration": 14,
    "start_time": "2023-05-18T01:44:07.598Z"
   },
   {
    "duration": 192,
    "start_time": "2023-05-18T01:44:07.614Z"
   },
   {
    "duration": 89,
    "start_time": "2023-05-18T01:44:07.809Z"
   },
   {
    "duration": 96,
    "start_time": "2023-05-18T01:44:07.900Z"
   },
   {
    "duration": 6,
    "start_time": "2023-05-18T01:44:07.997Z"
   },
   {
    "duration": 6,
    "start_time": "2023-05-18T01:44:08.005Z"
   },
   {
    "duration": 107,
    "start_time": "2023-05-18T01:44:08.012Z"
   },
   {
    "duration": 0,
    "start_time": "2023-05-18T01:44:08.121Z"
   },
   {
    "duration": 4,
    "start_time": "2023-05-18T01:45:24.578Z"
   },
   {
    "duration": 18,
    "start_time": "2023-05-18T01:45:26.083Z"
   },
   {
    "duration": 1045,
    "start_time": "2023-05-18T01:46:24.392Z"
   },
   {
    "duration": 355,
    "start_time": "2023-05-18T01:46:25.439Z"
   },
   {
    "duration": 26,
    "start_time": "2023-05-18T01:46:25.795Z"
   },
   {
    "duration": 143,
    "start_time": "2023-05-18T01:46:25.822Z"
   },
   {
    "duration": 135,
    "start_time": "2023-05-18T01:46:25.967Z"
   },
   {
    "duration": 21,
    "start_time": "2023-05-18T01:46:26.103Z"
   },
   {
    "duration": 16,
    "start_time": "2023-05-18T01:46:26.125Z"
   },
   {
    "duration": 10,
    "start_time": "2023-05-18T01:46:26.143Z"
   },
   {
    "duration": 51,
    "start_time": "2023-05-18T01:46:26.155Z"
   },
   {
    "duration": 3,
    "start_time": "2023-05-18T01:46:26.208Z"
   },
   {
    "duration": 83,
    "start_time": "2023-05-18T01:46:26.212Z"
   },
   {
    "duration": 108,
    "start_time": "2023-05-18T01:46:26.297Z"
   },
   {
    "duration": 194,
    "start_time": "2023-05-18T01:46:26.406Z"
   },
   {
    "duration": 198,
    "start_time": "2023-05-18T01:46:26.604Z"
   },
   {
    "duration": 5,
    "start_time": "2023-05-18T01:46:26.804Z"
   },
   {
    "duration": 7,
    "start_time": "2023-05-18T01:46:26.810Z"
   },
   {
    "duration": 8,
    "start_time": "2023-05-18T01:46:26.819Z"
   },
   {
    "duration": 102,
    "start_time": "2023-05-18T01:46:26.828Z"
   },
   {
    "duration": 0,
    "start_time": "2023-05-18T01:46:26.932Z"
   },
   {
    "duration": 4,
    "start_time": "2023-05-18T01:47:58.456Z"
   },
   {
    "duration": 344,
    "start_time": "2023-05-18T01:47:58.462Z"
   },
   {
    "duration": 18,
    "start_time": "2023-05-18T01:47:58.807Z"
   },
   {
    "duration": 140,
    "start_time": "2023-05-18T01:47:58.826Z"
   },
   {
    "duration": 112,
    "start_time": "2023-05-18T01:47:58.968Z"
   },
   {
    "duration": 28,
    "start_time": "2023-05-18T01:47:59.082Z"
   },
   {
    "duration": 12,
    "start_time": "2023-05-18T01:47:59.111Z"
   },
   {
    "duration": 9,
    "start_time": "2023-05-18T01:47:59.125Z"
   },
   {
    "duration": 22,
    "start_time": "2023-05-18T01:47:59.135Z"
   },
   {
    "duration": 3,
    "start_time": "2023-05-18T01:47:59.159Z"
   },
   {
    "duration": 39,
    "start_time": "2023-05-18T01:47:59.163Z"
   },
   {
    "duration": 193,
    "start_time": "2023-05-18T01:47:59.203Z"
   },
   {
    "duration": 115,
    "start_time": "2023-05-18T01:47:59.398Z"
   },
   {
    "duration": 93,
    "start_time": "2023-05-18T01:47:59.602Z"
   },
   {
    "duration": 17,
    "start_time": "2023-05-18T01:47:59.697Z"
   },
   {
    "duration": 6,
    "start_time": "2023-05-18T01:47:59.715Z"
   },
   {
    "duration": 5,
    "start_time": "2023-05-18T01:47:59.722Z"
   },
   {
    "duration": 11,
    "start_time": "2023-05-18T01:47:59.728Z"
   },
   {
    "duration": 0,
    "start_time": "2023-05-18T01:47:59.741Z"
   },
   {
    "duration": 4,
    "start_time": "2023-05-18T01:49:04.646Z"
   },
   {
    "duration": 360,
    "start_time": "2023-05-18T01:49:04.653Z"
   },
   {
    "duration": 19,
    "start_time": "2023-05-18T01:49:05.015Z"
   },
   {
    "duration": 139,
    "start_time": "2023-05-18T01:49:05.035Z"
   },
   {
    "duration": 120,
    "start_time": "2023-05-18T01:49:05.176Z"
   },
   {
    "duration": 19,
    "start_time": "2023-05-18T01:49:05.298Z"
   },
   {
    "duration": 12,
    "start_time": "2023-05-18T01:49:05.319Z"
   },
   {
    "duration": 11,
    "start_time": "2023-05-18T01:49:05.333Z"
   },
   {
    "duration": 24,
    "start_time": "2023-05-18T01:49:05.345Z"
   },
   {
    "duration": 3,
    "start_time": "2023-05-18T01:49:05.370Z"
   },
   {
    "duration": 31,
    "start_time": "2023-05-18T01:49:05.375Z"
   },
   {
    "duration": 191,
    "start_time": "2023-05-18T01:49:05.408Z"
   },
   {
    "duration": 110,
    "start_time": "2023-05-18T01:49:05.601Z"
   },
   {
    "duration": 83,
    "start_time": "2023-05-18T01:49:05.714Z"
   },
   {
    "duration": 102,
    "start_time": "2023-05-18T01:49:05.799Z"
   },
   {
    "duration": 7,
    "start_time": "2023-05-18T01:49:05.903Z"
   },
   {
    "duration": 11,
    "start_time": "2023-05-18T01:49:05.911Z"
   },
   {
    "duration": 13,
    "start_time": "2023-05-18T01:49:05.923Z"
   },
   {
    "duration": 0,
    "start_time": "2023-05-18T01:49:05.938Z"
   },
   {
    "duration": 4,
    "start_time": "2023-05-18T01:49:28.044Z"
   },
   {
    "duration": 345,
    "start_time": "2023-05-18T01:49:28.050Z"
   },
   {
    "duration": 19,
    "start_time": "2023-05-18T01:49:28.396Z"
   },
   {
    "duration": 139,
    "start_time": "2023-05-18T01:49:28.417Z"
   },
   {
    "duration": 113,
    "start_time": "2023-05-18T01:49:28.558Z"
   },
   {
    "duration": 40,
    "start_time": "2023-05-18T01:49:28.673Z"
   },
   {
    "duration": 13,
    "start_time": "2023-05-18T01:49:28.714Z"
   },
   {
    "duration": 10,
    "start_time": "2023-05-18T01:49:28.728Z"
   },
   {
    "duration": 25,
    "start_time": "2023-05-18T01:49:28.739Z"
   },
   {
    "duration": 3,
    "start_time": "2023-05-18T01:49:28.766Z"
   },
   {
    "duration": 35,
    "start_time": "2023-05-18T01:49:28.771Z"
   },
   {
    "duration": 190,
    "start_time": "2023-05-18T01:49:28.809Z"
   },
   {
    "duration": 195,
    "start_time": "2023-05-18T01:49:29.002Z"
   },
   {
    "duration": 91,
    "start_time": "2023-05-18T01:49:29.205Z"
   },
   {
    "duration": 5,
    "start_time": "2023-05-18T01:49:29.297Z"
   },
   {
    "duration": 6,
    "start_time": "2023-05-18T01:49:29.304Z"
   },
   {
    "duration": 5,
    "start_time": "2023-05-18T01:49:29.311Z"
   },
   {
    "duration": 24,
    "start_time": "2023-05-18T01:49:29.317Z"
   },
   {
    "duration": 13,
    "start_time": "2023-05-18T01:49:29.343Z"
   },
   {
    "duration": 12,
    "start_time": "2023-05-18T01:58:22.231Z"
   },
   {
    "duration": 4,
    "start_time": "2023-05-18T01:58:43.202Z"
   },
   {
    "duration": 349,
    "start_time": "2023-05-18T01:58:43.207Z"
   },
   {
    "duration": 19,
    "start_time": "2023-05-18T01:58:43.557Z"
   },
   {
    "duration": 145,
    "start_time": "2023-05-18T01:58:43.577Z"
   },
   {
    "duration": 111,
    "start_time": "2023-05-18T01:58:43.724Z"
   },
   {
    "duration": 19,
    "start_time": "2023-05-18T01:58:43.837Z"
   },
   {
    "duration": 12,
    "start_time": "2023-05-18T01:58:43.858Z"
   },
   {
    "duration": 24,
    "start_time": "2023-05-18T01:58:43.871Z"
   },
   {
    "duration": 45,
    "start_time": "2023-05-18T01:58:43.897Z"
   },
   {
    "duration": 3,
    "start_time": "2023-05-18T01:58:43.944Z"
   },
   {
    "duration": 18,
    "start_time": "2023-05-18T01:58:43.948Z"
   },
   {
    "duration": 128,
    "start_time": "2023-05-18T01:58:43.967Z"
   },
   {
    "duration": 108,
    "start_time": "2023-05-18T01:58:44.098Z"
   },
   {
    "duration": 89,
    "start_time": "2023-05-18T01:58:44.209Z"
   },
   {
    "duration": 108,
    "start_time": "2023-05-18T01:58:44.307Z"
   },
   {
    "duration": 22,
    "start_time": "2023-05-18T01:58:44.416Z"
   },
   {
    "duration": 13,
    "start_time": "2023-05-18T01:58:44.440Z"
   },
   {
    "duration": 21,
    "start_time": "2023-05-18T01:58:44.454Z"
   },
   {
    "duration": 1232,
    "start_time": "2023-05-18T01:58:44.476Z"
   },
   {
    "duration": 448,
    "start_time": "2023-05-18T01:59:52.929Z"
   },
   {
    "duration": 347,
    "start_time": "2023-05-18T01:59:53.380Z"
   },
   {
    "duration": 20,
    "start_time": "2023-05-18T01:59:53.729Z"
   },
   {
    "duration": 157,
    "start_time": "2023-05-18T01:59:53.751Z"
   },
   {
    "duration": 116,
    "start_time": "2023-05-18T01:59:53.910Z"
   },
   {
    "duration": 25,
    "start_time": "2023-05-18T01:59:54.027Z"
   },
   {
    "duration": 13,
    "start_time": "2023-05-18T01:59:54.054Z"
   },
   {
    "duration": 49,
    "start_time": "2023-05-18T01:59:54.068Z"
   },
   {
    "duration": 38,
    "start_time": "2023-05-18T01:59:54.119Z"
   },
   {
    "duration": 3,
    "start_time": "2023-05-18T01:59:54.159Z"
   },
   {
    "duration": 133,
    "start_time": "2023-05-18T01:59:54.163Z"
   },
   {
    "duration": 104,
    "start_time": "2023-05-18T01:59:54.298Z"
   },
   {
    "duration": 195,
    "start_time": "2023-05-18T01:59:54.405Z"
   },
   {
    "duration": 106,
    "start_time": "2023-05-18T01:59:54.604Z"
   },
   {
    "duration": 93,
    "start_time": "2023-05-18T01:59:54.711Z"
   },
   {
    "duration": 5,
    "start_time": "2023-05-18T01:59:54.806Z"
   },
   {
    "duration": 5,
    "start_time": "2023-05-18T01:59:54.813Z"
   },
   {
    "duration": 19,
    "start_time": "2023-05-18T01:59:54.820Z"
   },
   {
    "duration": 1204,
    "start_time": "2023-05-18T01:59:54.840Z"
   },
   {
    "duration": 53,
    "start_time": "2023-05-18T02:00:12.989Z"
   },
   {
    "duration": 340,
    "start_time": "2023-05-18T02:00:13.044Z"
   },
   {
    "duration": 25,
    "start_time": "2023-05-18T02:00:13.386Z"
   },
   {
    "duration": 146,
    "start_time": "2023-05-18T02:00:13.412Z"
   },
   {
    "duration": 111,
    "start_time": "2023-05-18T02:00:13.560Z"
   },
   {
    "duration": 32,
    "start_time": "2023-05-18T02:00:13.672Z"
   },
   {
    "duration": 11,
    "start_time": "2023-05-18T02:00:13.705Z"
   },
   {
    "duration": 11,
    "start_time": "2023-05-18T02:00:13.717Z"
   },
   {
    "duration": 26,
    "start_time": "2023-05-18T02:00:13.730Z"
   },
   {
    "duration": 3,
    "start_time": "2023-05-18T02:00:13.758Z"
   },
   {
    "duration": 40,
    "start_time": "2023-05-18T02:00:13.763Z"
   },
   {
    "duration": 193,
    "start_time": "2023-05-18T02:00:13.805Z"
   },
   {
    "duration": 104,
    "start_time": "2023-05-18T02:00:14.000Z"
   },
   {
    "duration": 194,
    "start_time": "2023-05-18T02:00:14.109Z"
   },
   {
    "duration": 19,
    "start_time": "2023-05-18T02:00:14.305Z"
   },
   {
    "duration": 15,
    "start_time": "2023-05-18T02:00:14.325Z"
   },
   {
    "duration": 15,
    "start_time": "2023-05-18T02:00:14.342Z"
   },
   {
    "duration": 20,
    "start_time": "2023-05-18T02:00:14.359Z"
   },
   {
    "duration": 4375,
    "start_time": "2023-05-18T02:00:14.381Z"
   },
   {
    "duration": 3,
    "start_time": "2023-05-18T02:00:32.215Z"
   },
   {
    "duration": 347,
    "start_time": "2023-05-18T02:00:32.221Z"
   },
   {
    "duration": 28,
    "start_time": "2023-05-18T02:00:32.569Z"
   },
   {
    "duration": 137,
    "start_time": "2023-05-18T02:00:32.598Z"
   },
   {
    "duration": 120,
    "start_time": "2023-05-18T02:00:32.738Z"
   },
   {
    "duration": 19,
    "start_time": "2023-05-18T02:00:32.859Z"
   },
   {
    "duration": 12,
    "start_time": "2023-05-18T02:00:32.895Z"
   },
   {
    "duration": 13,
    "start_time": "2023-05-18T02:00:32.908Z"
   },
   {
    "duration": 29,
    "start_time": "2023-05-18T02:00:32.922Z"
   },
   {
    "duration": 3,
    "start_time": "2023-05-18T02:00:32.953Z"
   },
   {
    "duration": 40,
    "start_time": "2023-05-18T02:00:32.957Z"
   },
   {
    "duration": 111,
    "start_time": "2023-05-18T02:00:32.999Z"
   },
   {
    "duration": 196,
    "start_time": "2023-05-18T02:00:33.112Z"
   },
   {
    "duration": 184,
    "start_time": "2023-05-18T02:00:33.313Z"
   },
   {
    "duration": 9,
    "start_time": "2023-05-18T02:00:33.499Z"
   },
   {
    "duration": 5,
    "start_time": "2023-05-18T02:00:33.509Z"
   },
   {
    "duration": 4,
    "start_time": "2023-05-18T02:00:33.516Z"
   },
   {
    "duration": 27,
    "start_time": "2023-05-18T02:00:33.521Z"
   },
   {
    "duration": 4146,
    "start_time": "2023-05-18T02:00:33.550Z"
   },
   {
    "duration": 4,
    "start_time": "2023-05-18T02:03:27.247Z"
   },
   {
    "duration": 352,
    "start_time": "2023-05-18T02:03:27.253Z"
   },
   {
    "duration": 21,
    "start_time": "2023-05-18T02:03:27.606Z"
   },
   {
    "duration": 138,
    "start_time": "2023-05-18T02:03:27.628Z"
   },
   {
    "duration": 128,
    "start_time": "2023-05-18T02:03:27.768Z"
   },
   {
    "duration": 19,
    "start_time": "2023-05-18T02:03:27.898Z"
   },
   {
    "duration": 16,
    "start_time": "2023-05-18T02:03:27.918Z"
   },
   {
    "duration": 14,
    "start_time": "2023-05-18T02:03:27.936Z"
   },
   {
    "duration": 39,
    "start_time": "2023-05-18T02:03:27.951Z"
   },
   {
    "duration": 26,
    "start_time": "2023-05-18T02:03:27.992Z"
   },
   {
    "duration": 29,
    "start_time": "2023-05-18T02:03:28.020Z"
   },
   {
    "duration": 151,
    "start_time": "2023-05-18T02:03:28.053Z"
   },
   {
    "duration": 200,
    "start_time": "2023-05-18T02:03:28.206Z"
   },
   {
    "duration": 186,
    "start_time": "2023-05-18T02:03:28.409Z"
   },
   {
    "duration": 3,
    "start_time": "2023-05-18T02:03:28.597Z"
   },
   {
    "duration": 6,
    "start_time": "2023-05-18T02:03:28.602Z"
   },
   {
    "duration": 10,
    "start_time": "2023-05-18T02:03:28.609Z"
   },
   {
    "duration": 23,
    "start_time": "2023-05-18T02:03:28.621Z"
   },
   {
    "duration": 4216,
    "start_time": "2023-05-18T02:03:28.645Z"
   },
   {
    "duration": 4,
    "start_time": "2023-05-18T02:03:46.485Z"
   },
   {
    "duration": 360,
    "start_time": "2023-05-18T02:03:46.491Z"
   },
   {
    "duration": 19,
    "start_time": "2023-05-18T02:03:46.853Z"
   },
   {
    "duration": 166,
    "start_time": "2023-05-18T02:03:46.873Z"
   },
   {
    "duration": 116,
    "start_time": "2023-05-18T02:03:47.041Z"
   },
   {
    "duration": 35,
    "start_time": "2023-05-18T02:03:47.159Z"
   },
   {
    "duration": 13,
    "start_time": "2023-05-18T02:03:47.196Z"
   },
   {
    "duration": 29,
    "start_time": "2023-05-18T02:03:47.210Z"
   },
   {
    "duration": 28,
    "start_time": "2023-05-18T02:03:47.241Z"
   },
   {
    "duration": 3,
    "start_time": "2023-05-18T02:03:47.270Z"
   },
   {
    "duration": 23,
    "start_time": "2023-05-18T02:03:47.275Z"
   },
   {
    "duration": 207,
    "start_time": "2023-05-18T02:03:47.300Z"
   },
   {
    "duration": 191,
    "start_time": "2023-05-18T02:03:47.509Z"
   },
   {
    "duration": 192,
    "start_time": "2023-05-18T02:03:47.703Z"
   },
   {
    "duration": 4,
    "start_time": "2023-05-18T02:03:47.897Z"
   },
   {
    "duration": 7,
    "start_time": "2023-05-18T02:03:47.902Z"
   },
   {
    "duration": 5,
    "start_time": "2023-05-18T02:03:47.910Z"
   },
   {
    "duration": 22,
    "start_time": "2023-05-18T02:03:47.916Z"
   },
   {
    "duration": 4254,
    "start_time": "2023-05-18T02:03:47.940Z"
   },
   {
    "duration": 4,
    "start_time": "2023-05-18T02:16:52.141Z"
   },
   {
    "duration": 347,
    "start_time": "2023-05-18T02:16:52.147Z"
   },
   {
    "duration": 21,
    "start_time": "2023-05-18T02:16:52.496Z"
   },
   {
    "duration": 235,
    "start_time": "2023-05-18T02:16:52.519Z"
   },
   {
    "duration": 113,
    "start_time": "2023-05-18T02:16:52.756Z"
   },
   {
    "duration": 33,
    "start_time": "2023-05-18T02:16:52.871Z"
   },
   {
    "duration": 13,
    "start_time": "2023-05-18T02:16:52.905Z"
   },
   {
    "duration": 9,
    "start_time": "2023-05-18T02:16:52.919Z"
   },
   {
    "duration": 24,
    "start_time": "2023-05-18T02:16:52.929Z"
   },
   {
    "duration": 3,
    "start_time": "2023-05-18T02:16:52.954Z"
   },
   {
    "duration": 39,
    "start_time": "2023-05-18T02:16:52.958Z"
   },
   {
    "duration": 101,
    "start_time": "2023-05-18T02:16:52.999Z"
   },
   {
    "duration": 199,
    "start_time": "2023-05-18T02:16:53.103Z"
   },
   {
    "duration": 98,
    "start_time": "2023-05-18T02:16:53.305Z"
   },
   {
    "duration": 96,
    "start_time": "2023-05-18T02:16:53.405Z"
   },
   {
    "duration": 8,
    "start_time": "2023-05-18T02:16:53.502Z"
   },
   {
    "duration": 5,
    "start_time": "2023-05-18T02:16:53.511Z"
   },
   {
    "duration": 20,
    "start_time": "2023-05-18T02:16:53.517Z"
   },
   {
    "duration": 4258,
    "start_time": "2023-05-18T02:16:53.538Z"
   },
   {
    "duration": 1368,
    "start_time": "2023-05-18T02:17:13.418Z"
   },
   {
    "duration": 364,
    "start_time": "2023-05-18T02:17:14.788Z"
   },
   {
    "duration": 22,
    "start_time": "2023-05-18T02:17:15.154Z"
   },
   {
    "duration": 148,
    "start_time": "2023-05-18T02:17:15.177Z"
   },
   {
    "duration": 128,
    "start_time": "2023-05-18T02:17:15.327Z"
   },
   {
    "duration": 20,
    "start_time": "2023-05-18T02:17:15.457Z"
   },
   {
    "duration": 28,
    "start_time": "2023-05-18T02:17:15.478Z"
   },
   {
    "duration": 22,
    "start_time": "2023-05-18T02:17:15.508Z"
   },
   {
    "duration": 33,
    "start_time": "2023-05-18T02:17:15.531Z"
   },
   {
    "duration": 4,
    "start_time": "2023-05-18T02:17:15.566Z"
   },
   {
    "duration": 27,
    "start_time": "2023-05-18T02:17:15.571Z"
   },
   {
    "duration": 203,
    "start_time": "2023-05-18T02:17:15.600Z"
   },
   {
    "duration": 203,
    "start_time": "2023-05-18T02:17:15.805Z"
   },
   {
    "duration": 285,
    "start_time": "2023-05-18T02:17:16.012Z"
   },
   {
    "duration": 0,
    "start_time": "2023-05-18T02:17:16.298Z"
   },
   {
    "duration": 0,
    "start_time": "2023-05-18T02:17:16.299Z"
   },
   {
    "duration": 0,
    "start_time": "2023-05-18T02:17:16.300Z"
   },
   {
    "duration": 0,
    "start_time": "2023-05-18T02:17:16.301Z"
   },
   {
    "duration": 0,
    "start_time": "2023-05-18T02:17:16.302Z"
   },
   {
    "duration": 1309,
    "start_time": "2023-05-18T02:17:50.628Z"
   },
   {
    "duration": 365,
    "start_time": "2023-05-18T02:17:51.939Z"
   },
   {
    "duration": 24,
    "start_time": "2023-05-18T02:17:52.307Z"
   },
   {
    "duration": 143,
    "start_time": "2023-05-18T02:17:52.333Z"
   },
   {
    "duration": 142,
    "start_time": "2023-05-18T02:17:52.478Z"
   },
   {
    "duration": 20,
    "start_time": "2023-05-18T02:17:52.622Z"
   },
   {
    "duration": 16,
    "start_time": "2023-05-18T02:17:52.643Z"
   },
   {
    "duration": 12,
    "start_time": "2023-05-18T02:17:52.660Z"
   },
   {
    "duration": 46,
    "start_time": "2023-05-18T02:17:52.674Z"
   },
   {
    "duration": 3,
    "start_time": "2023-05-18T02:17:52.721Z"
   },
   {
    "duration": 20,
    "start_time": "2023-05-18T02:17:52.725Z"
   },
   {
    "duration": 107,
    "start_time": "2023-05-18T02:17:52.795Z"
   },
   {
    "duration": 194,
    "start_time": "2023-05-18T02:17:52.906Z"
   },
   {
    "duration": 94,
    "start_time": "2023-05-18T02:17:53.104Z"
   },
   {
    "duration": 101,
    "start_time": "2023-05-18T02:17:53.200Z"
   },
   {
    "duration": 8,
    "start_time": "2023-05-18T02:17:53.303Z"
   },
   {
    "duration": 5,
    "start_time": "2023-05-18T02:17:53.312Z"
   },
   {
    "duration": 22,
    "start_time": "2023-05-18T02:17:53.318Z"
   },
   {
    "duration": 1535,
    "start_time": "2023-05-18T02:17:53.342Z"
   },
   {
    "duration": 1390,
    "start_time": "2023-05-18T02:18:53.774Z"
   },
   {
    "duration": 350,
    "start_time": "2023-05-18T02:18:55.166Z"
   },
   {
    "duration": 24,
    "start_time": "2023-05-18T02:18:55.517Z"
   },
   {
    "duration": 153,
    "start_time": "2023-05-18T02:18:55.543Z"
   },
   {
    "duration": 118,
    "start_time": "2023-05-18T02:18:55.699Z"
   },
   {
    "duration": 20,
    "start_time": "2023-05-18T02:18:55.819Z"
   },
   {
    "duration": 16,
    "start_time": "2023-05-18T02:18:55.841Z"
   },
   {
    "duration": 13,
    "start_time": "2023-05-18T02:18:55.859Z"
   },
   {
    "duration": 29,
    "start_time": "2023-05-18T02:18:55.895Z"
   },
   {
    "duration": 3,
    "start_time": "2023-05-18T02:18:55.925Z"
   },
   {
    "duration": 18,
    "start_time": "2023-05-18T02:18:55.930Z"
   },
   {
    "duration": 110,
    "start_time": "2023-05-18T02:18:55.998Z"
   },
   {
    "duration": 188,
    "start_time": "2023-05-18T02:18:56.110Z"
   },
   {
    "duration": 99,
    "start_time": "2023-05-18T02:18:56.303Z"
   },
   {
    "duration": 91,
    "start_time": "2023-05-18T02:18:56.405Z"
   },
   {
    "duration": 7,
    "start_time": "2023-05-18T02:18:56.497Z"
   },
   {
    "duration": 7,
    "start_time": "2023-05-18T02:18:56.505Z"
   },
   {
    "duration": 23,
    "start_time": "2023-05-18T02:18:56.513Z"
   },
   {
    "duration": 4052,
    "start_time": "2023-05-18T02:18:56.538Z"
   },
   {
    "duration": 4,
    "start_time": "2023-05-18T02:28:16.882Z"
   },
   {
    "duration": 363,
    "start_time": "2023-05-18T02:28:16.889Z"
   },
   {
    "duration": 19,
    "start_time": "2023-05-18T02:28:17.253Z"
   },
   {
    "duration": 223,
    "start_time": "2023-05-18T02:28:17.273Z"
   },
   {
    "duration": 110,
    "start_time": "2023-05-18T02:28:17.498Z"
   },
   {
    "duration": 19,
    "start_time": "2023-05-18T02:28:17.610Z"
   },
   {
    "duration": 12,
    "start_time": "2023-05-18T02:28:17.631Z"
   },
   {
    "duration": 10,
    "start_time": "2023-05-18T02:28:17.645Z"
   },
   {
    "duration": 41,
    "start_time": "2023-05-18T02:28:17.657Z"
   },
   {
    "duration": 3,
    "start_time": "2023-05-18T02:28:17.700Z"
   },
   {
    "duration": 25,
    "start_time": "2023-05-18T02:28:17.704Z"
   },
   {
    "duration": 106,
    "start_time": "2023-05-18T02:28:17.796Z"
   },
   {
    "duration": 192,
    "start_time": "2023-05-18T02:28:17.907Z"
   },
   {
    "duration": 96,
    "start_time": "2023-05-18T02:28:18.102Z"
   },
   {
    "duration": 12,
    "start_time": "2023-05-18T02:28:18.200Z"
   },
   {
    "duration": 4,
    "start_time": "2023-05-18T02:28:18.296Z"
   },
   {
    "duration": 4,
    "start_time": "2023-05-18T02:28:18.302Z"
   },
   {
    "duration": 22,
    "start_time": "2023-05-18T02:28:18.308Z"
   },
   {
    "duration": 4206,
    "start_time": "2023-05-18T02:28:18.332Z"
   },
   {
    "duration": 1468,
    "start_time": "2023-05-18T02:29:37.921Z"
   },
   {
    "duration": 402,
    "start_time": "2023-05-18T02:29:39.391Z"
   },
   {
    "duration": 38,
    "start_time": "2023-05-18T02:29:39.795Z"
   },
   {
    "duration": 181,
    "start_time": "2023-05-18T02:29:39.835Z"
   },
   {
    "duration": 141,
    "start_time": "2023-05-18T02:29:40.019Z"
   },
   {
    "duration": 42,
    "start_time": "2023-05-18T02:29:40.162Z"
   },
   {
    "duration": 18,
    "start_time": "2023-05-18T02:29:40.210Z"
   },
   {
    "duration": 13,
    "start_time": "2023-05-18T02:29:40.230Z"
   },
   {
    "duration": 33,
    "start_time": "2023-05-18T02:29:40.245Z"
   },
   {
    "duration": 3,
    "start_time": "2023-05-18T02:29:40.279Z"
   },
   {
    "duration": 41,
    "start_time": "2023-05-18T02:29:40.284Z"
   },
   {
    "duration": 115,
    "start_time": "2023-05-18T02:29:40.396Z"
   },
   {
    "duration": 187,
    "start_time": "2023-05-18T02:29:40.515Z"
   },
   {
    "duration": 89,
    "start_time": "2023-05-18T02:29:40.706Z"
   },
   {
    "duration": 17,
    "start_time": "2023-05-18T02:29:40.800Z"
   },
   {
    "duration": 9,
    "start_time": "2023-05-18T02:29:40.818Z"
   },
   {
    "duration": 7,
    "start_time": "2023-05-18T02:29:40.828Z"
   },
   {
    "duration": 21,
    "start_time": "2023-05-18T02:29:40.836Z"
   },
   {
    "duration": 4839,
    "start_time": "2023-05-18T02:29:40.859Z"
   },
   {
    "duration": 1319,
    "start_time": "2023-05-18T02:30:54.147Z"
   },
   {
    "duration": 360,
    "start_time": "2023-05-18T02:30:55.468Z"
   },
   {
    "duration": 24,
    "start_time": "2023-05-18T02:30:55.829Z"
   },
   {
    "duration": 156,
    "start_time": "2023-05-18T02:30:55.854Z"
   },
   {
    "duration": 131,
    "start_time": "2023-05-18T02:30:56.012Z"
   },
   {
    "duration": 22,
    "start_time": "2023-05-18T02:30:56.145Z"
   },
   {
    "duration": 36,
    "start_time": "2023-05-18T02:30:56.168Z"
   },
   {
    "duration": 12,
    "start_time": "2023-05-18T02:30:56.205Z"
   },
   {
    "duration": 35,
    "start_time": "2023-05-18T02:30:56.219Z"
   },
   {
    "duration": 3,
    "start_time": "2023-05-18T02:30:56.255Z"
   },
   {
    "duration": 37,
    "start_time": "2023-05-18T02:30:56.260Z"
   },
   {
    "duration": 199,
    "start_time": "2023-05-18T02:30:56.299Z"
   },
   {
    "duration": 111,
    "start_time": "2023-05-18T02:30:56.501Z"
   },
   {
    "duration": 9,
    "start_time": "2023-05-18T02:30:56.698Z"
   },
   {
    "duration": 94,
    "start_time": "2023-05-18T02:30:56.711Z"
   },
   {
    "duration": 8,
    "start_time": "2023-05-18T02:30:56.807Z"
   },
   {
    "duration": 7,
    "start_time": "2023-05-18T02:30:56.816Z"
   },
   {
    "duration": 30,
    "start_time": "2023-05-18T02:30:56.825Z"
   },
   {
    "duration": 4229,
    "start_time": "2023-05-18T02:30:56.857Z"
   },
   {
    "duration": 17,
    "start_time": "2023-05-18T02:33:37.706Z"
   },
   {
    "duration": 23,
    "start_time": "2023-05-18T02:34:20.938Z"
   },
   {
    "duration": 20,
    "start_time": "2023-05-18T02:34:35.756Z"
   },
   {
    "duration": 18,
    "start_time": "2023-05-18T02:36:19.772Z"
   },
   {
    "duration": 18,
    "start_time": "2023-05-18T02:36:37.425Z"
   },
   {
    "duration": 1317,
    "start_time": "2023-05-18T02:43:59.948Z"
   },
   {
    "duration": 364,
    "start_time": "2023-05-18T02:44:01.267Z"
   },
   {
    "duration": 26,
    "start_time": "2023-05-18T02:44:01.633Z"
   },
   {
    "duration": 205,
    "start_time": "2023-05-18T02:44:01.660Z"
   },
   {
    "duration": 136,
    "start_time": "2023-05-18T02:44:01.867Z"
   },
   {
    "duration": 20,
    "start_time": "2023-05-18T02:44:02.005Z"
   },
   {
    "duration": 38,
    "start_time": "2023-05-18T02:44:02.027Z"
   },
   {
    "duration": 40,
    "start_time": "2023-05-18T02:44:02.067Z"
   },
   {
    "duration": 76,
    "start_time": "2023-05-18T02:44:02.108Z"
   },
   {
    "duration": 9,
    "start_time": "2023-05-18T02:44:02.186Z"
   },
   {
    "duration": 28,
    "start_time": "2023-05-18T02:44:02.197Z"
   },
   {
    "duration": 111,
    "start_time": "2023-05-18T02:44:02.296Z"
   },
   {
    "duration": 218,
    "start_time": "2023-05-18T02:44:02.409Z"
   },
   {
    "duration": 166,
    "start_time": "2023-05-18T02:44:02.630Z"
   },
   {
    "duration": 12,
    "start_time": "2023-05-18T02:44:02.799Z"
   },
   {
    "duration": 6,
    "start_time": "2023-05-18T02:44:02.813Z"
   },
   {
    "duration": 16,
    "start_time": "2023-05-18T02:44:02.820Z"
   },
   {
    "duration": 24,
    "start_time": "2023-05-18T02:44:02.837Z"
   },
   {
    "duration": 4368,
    "start_time": "2023-05-18T02:44:02.863Z"
   },
   {
    "duration": 1389,
    "start_time": "2023-05-18T02:59:03.070Z"
   },
   {
    "duration": 395,
    "start_time": "2023-05-18T02:59:04.462Z"
   },
   {
    "duration": 24,
    "start_time": "2023-05-18T02:59:04.858Z"
   },
   {
    "duration": 138,
    "start_time": "2023-05-18T02:59:04.895Z"
   },
   {
    "duration": 130,
    "start_time": "2023-05-18T02:59:05.035Z"
   },
   {
    "duration": 31,
    "start_time": "2023-05-18T02:59:05.166Z"
   },
   {
    "duration": 16,
    "start_time": "2023-05-18T02:59:05.198Z"
   },
   {
    "duration": 14,
    "start_time": "2023-05-18T02:59:05.215Z"
   },
   {
    "duration": 33,
    "start_time": "2023-05-18T02:59:05.230Z"
   },
   {
    "duration": 3,
    "start_time": "2023-05-18T02:59:05.265Z"
   },
   {
    "duration": 28,
    "start_time": "2023-05-18T02:59:05.269Z"
   },
   {
    "duration": 205,
    "start_time": "2023-05-18T02:59:05.299Z"
   },
   {
    "duration": 200,
    "start_time": "2023-05-18T02:59:05.506Z"
   },
   {
    "duration": 88,
    "start_time": "2023-05-18T02:59:05.710Z"
   },
   {
    "duration": 114,
    "start_time": "2023-05-18T02:59:05.800Z"
   },
   {
    "duration": 20,
    "start_time": "2023-05-18T02:59:05.916Z"
   },
   {
    "duration": 8,
    "start_time": "2023-05-18T02:59:05.938Z"
   },
   {
    "duration": 24,
    "start_time": "2023-05-18T02:59:05.947Z"
   },
   {
    "duration": 4202,
    "start_time": "2023-05-18T02:59:05.973Z"
   },
   {
    "duration": 3,
    "start_time": "2023-05-18T03:01:37.582Z"
   },
   {
    "duration": 360,
    "start_time": "2023-05-18T03:01:37.587Z"
   },
   {
    "duration": 18,
    "start_time": "2023-05-18T03:01:37.949Z"
   },
   {
    "duration": 227,
    "start_time": "2023-05-18T03:01:37.969Z"
   },
   {
    "duration": 107,
    "start_time": "2023-05-18T03:01:38.198Z"
   },
   {
    "duration": 19,
    "start_time": "2023-05-18T03:01:38.306Z"
   },
   {
    "duration": 13,
    "start_time": "2023-05-18T03:01:38.327Z"
   },
   {
    "duration": 18,
    "start_time": "2023-05-18T03:01:38.341Z"
   },
   {
    "duration": 38,
    "start_time": "2023-05-18T03:01:38.360Z"
   },
   {
    "duration": 3,
    "start_time": "2023-05-18T03:01:38.400Z"
   },
   {
    "duration": 27,
    "start_time": "2023-05-18T03:01:38.404Z"
   },
   {
    "duration": 102,
    "start_time": "2023-05-18T03:01:38.496Z"
   },
   {
    "duration": 104,
    "start_time": "2023-05-18T03:01:38.600Z"
   },
   {
    "duration": 89,
    "start_time": "2023-05-18T03:01:38.707Z"
   },
   {
    "duration": 12,
    "start_time": "2023-05-18T03:01:38.798Z"
   },
   {
    "duration": 8,
    "start_time": "2023-05-18T03:01:38.896Z"
   },
   {
    "duration": 11,
    "start_time": "2023-05-18T03:01:38.905Z"
   },
   {
    "duration": 21,
    "start_time": "2023-05-18T03:01:38.918Z"
   },
   {
    "duration": 4377,
    "start_time": "2023-05-18T03:01:38.940Z"
   },
   {
    "duration": 2224,
    "start_time": "2023-05-18T08:32:14.886Z"
   },
   {
    "duration": 1941,
    "start_time": "2023-05-18T08:32:17.112Z"
   },
   {
    "duration": 45,
    "start_time": "2023-05-18T08:32:19.055Z"
   },
   {
    "duration": 216,
    "start_time": "2023-05-18T08:32:19.103Z"
   },
   {
    "duration": 207,
    "start_time": "2023-05-18T08:32:19.321Z"
   },
   {
    "duration": 21,
    "start_time": "2023-05-18T08:32:19.530Z"
   },
   {
    "duration": 22,
    "start_time": "2023-05-18T08:32:19.559Z"
   },
   {
    "duration": 17,
    "start_time": "2023-05-18T08:32:19.584Z"
   },
   {
    "duration": 50,
    "start_time": "2023-05-18T08:32:19.603Z"
   },
   {
    "duration": 7,
    "start_time": "2023-05-18T08:32:19.656Z"
   },
   {
    "duration": 205,
    "start_time": "2023-05-18T08:32:19.665Z"
   },
   {
    "duration": 85,
    "start_time": "2023-05-18T08:32:19.876Z"
   },
   {
    "duration": 105,
    "start_time": "2023-05-18T08:32:19.963Z"
   },
   {
    "duration": 10,
    "start_time": "2023-05-18T08:32:20.075Z"
   },
   {
    "duration": 13,
    "start_time": "2023-05-18T08:32:20.165Z"
   },
   {
    "duration": 23,
    "start_time": "2023-05-18T08:32:20.186Z"
   },
   {
    "duration": 30,
    "start_time": "2023-05-18T08:32:20.211Z"
   },
   {
    "duration": 51,
    "start_time": "2023-05-18T08:32:20.243Z"
   },
   {
    "duration": 4584,
    "start_time": "2023-05-18T08:32:20.296Z"
   },
   {
    "duration": 5537,
    "start_time": "2023-05-18T08:35:58.210Z"
   },
   {
    "duration": 1361,
    "start_time": "2024-01-04T12:15:55.848Z"
   },
   {
    "duration": 749,
    "start_time": "2024-01-04T12:15:57.211Z"
   },
   {
    "duration": 25,
    "start_time": "2024-01-04T12:15:57.962Z"
   },
   {
    "duration": 151,
    "start_time": "2024-01-04T12:15:57.988Z"
   },
   {
    "duration": 145,
    "start_time": "2024-01-04T12:15:58.141Z"
   },
   {
    "duration": 22,
    "start_time": "2024-01-04T12:15:58.287Z"
   },
   {
    "duration": 16,
    "start_time": "2024-01-04T12:15:58.310Z"
   },
   {
    "duration": 11,
    "start_time": "2024-01-04T12:15:58.327Z"
   },
   {
    "duration": 49,
    "start_time": "2024-01-04T12:15:58.339Z"
   },
   {
    "duration": 2,
    "start_time": "2024-01-04T12:15:58.390Z"
   },
   {
    "duration": 23,
    "start_time": "2024-01-04T12:15:58.394Z"
   },
   {
    "duration": 55,
    "start_time": "2024-01-04T12:15:58.419Z"
   },
   {
    "duration": 196,
    "start_time": "2024-01-04T12:15:58.476Z"
   },
   {
    "duration": 91,
    "start_time": "2024-01-04T12:15:58.676Z"
   },
   {
    "duration": 102,
    "start_time": "2024-01-04T12:15:58.769Z"
   },
   {
    "duration": 12,
    "start_time": "2024-01-04T12:15:58.873Z"
   },
   {
    "duration": 3,
    "start_time": "2024-01-04T12:15:58.886Z"
   },
   {
    "duration": 38,
    "start_time": "2024-01-04T12:15:58.891Z"
   },
   {
    "duration": 4377,
    "start_time": "2024-01-04T12:15:58.931Z"
   }
  ],
  "kernelspec": {
   "display_name": "Python 3 (ipykernel)",
   "language": "python",
   "name": "python3"
  },
  "language_info": {
   "codemirror_mode": {
    "name": "ipython",
    "version": 3
   },
   "file_extension": ".py",
   "mimetype": "text/x-python",
   "name": "python",
   "nbconvert_exporter": "python",
   "pygments_lexer": "ipython3",
   "version": "3.11.4"
  },
  "toc": {
   "base_numbering": 1,
   "nav_menu": {},
   "number_sections": false,
   "sideBar": true,
   "skip_h1_title": false,
   "title_cell": "Содержание",
   "title_sidebar": "Contents",
   "toc_cell": true,
   "toc_position": {
    "height": "calc(100% - 180px)",
    "left": "10px",
    "top": "150px",
    "width": "273.167px"
   },
   "toc_section_display": true,
   "toc_window_display": true
  }
 },
 "nbformat": 4,
 "nbformat_minor": 2
}
