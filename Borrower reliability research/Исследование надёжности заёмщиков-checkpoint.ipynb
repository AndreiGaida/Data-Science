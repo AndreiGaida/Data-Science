{
 "cells": [
  {
   "cell_type": "markdown",
   "id": "2e4400e9",
   "metadata": {
    "deletable": false,
    "editable": false,
    "id": "c81daeeb"
   },
   "source": [
    "# Исследование надежности заемщиков\n"
   ]
  },
  {
   "cell_type": "markdown",
   "id": "9cb108aa",
   "metadata": {},
   "source": [
    "Заказчик — кредитный отдел банка. Нужно разобраться, влияет ли семейное положение и количество детей клиента на факт погашения кредита в срок. Входные данные от банка — статистика о платёжеспособности клиентов.\n",
    "\n",
    "Результаты исследования будут учтены при построении модели кредитного скоринга — специальной системы, которая оценивает способность потенциального заёмщика вернуть кредит банку."
   ]
  },
  {
   "cell_type": "markdown",
   "id": "ce4ac3cf",
   "metadata": {
    "deletable": false,
    "editable": false,
    "id": "827c20bf"
   },
   "source": [
    "Во второй части проекта вы выполните шаги 3 и 4. Их вручную проверит ревьюер.\n",
    "Чтобы вам не пришлось писать код заново для шагов 1 и 2, мы добавили авторские решения в ячейки с кодом. \n",
    "\n"
   ]
  },
  {
   "cell_type": "markdown",
   "id": "6468ddaa",
   "metadata": {
    "deletable": false,
    "editable": false,
    "id": "744d7639"
   },
   "source": [
    "## Откройте таблицу и изучите общую информацию о данных"
   ]
  },
  {
   "cell_type": "markdown",
   "id": "0cf33b62",
   "metadata": {
    "deletable": false,
    "editable": false,
    "id": "e7a14c31"
   },
   "source": [
    "**Задание 1. Импортируйте библиотеку pandas. Считайте данные из csv-файла в датафрейм и сохраните в переменную `data`. Путь к файлу:**\n",
    "\n",
    "`/datasets/data.csv`"
   ]
  },
  {
   "cell_type": "code",
   "execution_count": 1,
   "id": "ed2c9629",
   "metadata": {
    "deletable": false,
    "id": "7bcf75c9"
   },
   "outputs": [],
   "source": [
    "import pandas as pd\n",
    "\n",
    "try:\n",
    "    data = pd.read_csv('/datasets/data.csv')\n",
    "except:\n",
    "    data = pd.read_csv('https://code.s3.yandex.net/datasets/data.csv')"
   ]
  },
  {
   "cell_type": "markdown",
   "id": "56f33dde",
   "metadata": {
    "deletable": false,
    "editable": false,
    "id": "b8038fe3"
   },
   "source": [
    "**Задание 2. Выведите первые 20 строчек датафрейма `data` на экран.**"
   ]
  },
  {
   "cell_type": "code",
   "execution_count": 2,
   "id": "29a8fce3",
   "metadata": {
    "deletable": false,
    "id": "2a7cab99",
    "outputId": "1a8f3ef2-d323-4ec2-ddf7-89670b5944c4"
   },
   "outputs": [
    {
     "data": {
      "text/html": [
       "<div>\n",
       "<style scoped>\n",
       "    .dataframe tbody tr th:only-of-type {\n",
       "        vertical-align: middle;\n",
       "    }\n",
       "\n",
       "    .dataframe tbody tr th {\n",
       "        vertical-align: top;\n",
       "    }\n",
       "\n",
       "    .dataframe thead th {\n",
       "        text-align: right;\n",
       "    }\n",
       "</style>\n",
       "<table border=\"1\" class=\"dataframe\">\n",
       "  <thead>\n",
       "    <tr style=\"text-align: right;\">\n",
       "      <th></th>\n",
       "      <th>children</th>\n",
       "      <th>days_employed</th>\n",
       "      <th>dob_years</th>\n",
       "      <th>education</th>\n",
       "      <th>education_id</th>\n",
       "      <th>family_status</th>\n",
       "      <th>family_status_id</th>\n",
       "      <th>gender</th>\n",
       "      <th>income_type</th>\n",
       "      <th>debt</th>\n",
       "      <th>total_income</th>\n",
       "      <th>purpose</th>\n",
       "    </tr>\n",
       "  </thead>\n",
       "  <tbody>\n",
       "    <tr>\n",
       "      <th>0</th>\n",
       "      <td>1</td>\n",
       "      <td>-8437.673028</td>\n",
       "      <td>42</td>\n",
       "      <td>высшее</td>\n",
       "      <td>0</td>\n",
       "      <td>женат / замужем</td>\n",
       "      <td>0</td>\n",
       "      <td>F</td>\n",
       "      <td>сотрудник</td>\n",
       "      <td>0</td>\n",
       "      <td>253875.639453</td>\n",
       "      <td>покупка жилья</td>\n",
       "    </tr>\n",
       "    <tr>\n",
       "      <th>1</th>\n",
       "      <td>1</td>\n",
       "      <td>-4024.803754</td>\n",
       "      <td>36</td>\n",
       "      <td>среднее</td>\n",
       "      <td>1</td>\n",
       "      <td>женат / замужем</td>\n",
       "      <td>0</td>\n",
       "      <td>F</td>\n",
       "      <td>сотрудник</td>\n",
       "      <td>0</td>\n",
       "      <td>112080.014102</td>\n",
       "      <td>приобретение автомобиля</td>\n",
       "    </tr>\n",
       "    <tr>\n",
       "      <th>2</th>\n",
       "      <td>0</td>\n",
       "      <td>-5623.422610</td>\n",
       "      <td>33</td>\n",
       "      <td>Среднее</td>\n",
       "      <td>1</td>\n",
       "      <td>женат / замужем</td>\n",
       "      <td>0</td>\n",
       "      <td>M</td>\n",
       "      <td>сотрудник</td>\n",
       "      <td>0</td>\n",
       "      <td>145885.952297</td>\n",
       "      <td>покупка жилья</td>\n",
       "    </tr>\n",
       "    <tr>\n",
       "      <th>3</th>\n",
       "      <td>3</td>\n",
       "      <td>-4124.747207</td>\n",
       "      <td>32</td>\n",
       "      <td>среднее</td>\n",
       "      <td>1</td>\n",
       "      <td>женат / замужем</td>\n",
       "      <td>0</td>\n",
       "      <td>M</td>\n",
       "      <td>сотрудник</td>\n",
       "      <td>0</td>\n",
       "      <td>267628.550329</td>\n",
       "      <td>дополнительное образование</td>\n",
       "    </tr>\n",
       "    <tr>\n",
       "      <th>4</th>\n",
       "      <td>0</td>\n",
       "      <td>340266.072047</td>\n",
       "      <td>53</td>\n",
       "      <td>среднее</td>\n",
       "      <td>1</td>\n",
       "      <td>гражданский брак</td>\n",
       "      <td>1</td>\n",
       "      <td>F</td>\n",
       "      <td>пенсионер</td>\n",
       "      <td>0</td>\n",
       "      <td>158616.077870</td>\n",
       "      <td>сыграть свадьбу</td>\n",
       "    </tr>\n",
       "    <tr>\n",
       "      <th>5</th>\n",
       "      <td>0</td>\n",
       "      <td>-926.185831</td>\n",
       "      <td>27</td>\n",
       "      <td>высшее</td>\n",
       "      <td>0</td>\n",
       "      <td>гражданский брак</td>\n",
       "      <td>1</td>\n",
       "      <td>M</td>\n",
       "      <td>компаньон</td>\n",
       "      <td>0</td>\n",
       "      <td>255763.565419</td>\n",
       "      <td>покупка жилья</td>\n",
       "    </tr>\n",
       "    <tr>\n",
       "      <th>6</th>\n",
       "      <td>0</td>\n",
       "      <td>-2879.202052</td>\n",
       "      <td>43</td>\n",
       "      <td>высшее</td>\n",
       "      <td>0</td>\n",
       "      <td>женат / замужем</td>\n",
       "      <td>0</td>\n",
       "      <td>F</td>\n",
       "      <td>компаньон</td>\n",
       "      <td>0</td>\n",
       "      <td>240525.971920</td>\n",
       "      <td>операции с жильем</td>\n",
       "    </tr>\n",
       "    <tr>\n",
       "      <th>7</th>\n",
       "      <td>0</td>\n",
       "      <td>-152.779569</td>\n",
       "      <td>50</td>\n",
       "      <td>СРЕДНЕЕ</td>\n",
       "      <td>1</td>\n",
       "      <td>женат / замужем</td>\n",
       "      <td>0</td>\n",
       "      <td>M</td>\n",
       "      <td>сотрудник</td>\n",
       "      <td>0</td>\n",
       "      <td>135823.934197</td>\n",
       "      <td>образование</td>\n",
       "    </tr>\n",
       "    <tr>\n",
       "      <th>8</th>\n",
       "      <td>2</td>\n",
       "      <td>-6929.865299</td>\n",
       "      <td>35</td>\n",
       "      <td>ВЫСШЕЕ</td>\n",
       "      <td>0</td>\n",
       "      <td>гражданский брак</td>\n",
       "      <td>1</td>\n",
       "      <td>F</td>\n",
       "      <td>сотрудник</td>\n",
       "      <td>0</td>\n",
       "      <td>95856.832424</td>\n",
       "      <td>на проведение свадьбы</td>\n",
       "    </tr>\n",
       "    <tr>\n",
       "      <th>9</th>\n",
       "      <td>0</td>\n",
       "      <td>-2188.756445</td>\n",
       "      <td>41</td>\n",
       "      <td>среднее</td>\n",
       "      <td>1</td>\n",
       "      <td>женат / замужем</td>\n",
       "      <td>0</td>\n",
       "      <td>M</td>\n",
       "      <td>сотрудник</td>\n",
       "      <td>0</td>\n",
       "      <td>144425.938277</td>\n",
       "      <td>покупка жилья для семьи</td>\n",
       "    </tr>\n",
       "    <tr>\n",
       "      <th>10</th>\n",
       "      <td>2</td>\n",
       "      <td>-4171.483647</td>\n",
       "      <td>36</td>\n",
       "      <td>высшее</td>\n",
       "      <td>0</td>\n",
       "      <td>женат / замужем</td>\n",
       "      <td>0</td>\n",
       "      <td>M</td>\n",
       "      <td>компаньон</td>\n",
       "      <td>0</td>\n",
       "      <td>113943.491460</td>\n",
       "      <td>покупка недвижимости</td>\n",
       "    </tr>\n",
       "    <tr>\n",
       "      <th>11</th>\n",
       "      <td>0</td>\n",
       "      <td>-792.701887</td>\n",
       "      <td>40</td>\n",
       "      <td>среднее</td>\n",
       "      <td>1</td>\n",
       "      <td>женат / замужем</td>\n",
       "      <td>0</td>\n",
       "      <td>F</td>\n",
       "      <td>сотрудник</td>\n",
       "      <td>0</td>\n",
       "      <td>77069.234271</td>\n",
       "      <td>покупка коммерческой недвижимости</td>\n",
       "    </tr>\n",
       "    <tr>\n",
       "      <th>12</th>\n",
       "      <td>0</td>\n",
       "      <td>NaN</td>\n",
       "      <td>65</td>\n",
       "      <td>среднее</td>\n",
       "      <td>1</td>\n",
       "      <td>гражданский брак</td>\n",
       "      <td>1</td>\n",
       "      <td>M</td>\n",
       "      <td>пенсионер</td>\n",
       "      <td>0</td>\n",
       "      <td>NaN</td>\n",
       "      <td>сыграть свадьбу</td>\n",
       "    </tr>\n",
       "    <tr>\n",
       "      <th>13</th>\n",
       "      <td>0</td>\n",
       "      <td>-1846.641941</td>\n",
       "      <td>54</td>\n",
       "      <td>неоконченное высшее</td>\n",
       "      <td>2</td>\n",
       "      <td>женат / замужем</td>\n",
       "      <td>0</td>\n",
       "      <td>F</td>\n",
       "      <td>сотрудник</td>\n",
       "      <td>0</td>\n",
       "      <td>130458.228857</td>\n",
       "      <td>приобретение автомобиля</td>\n",
       "    </tr>\n",
       "    <tr>\n",
       "      <th>14</th>\n",
       "      <td>0</td>\n",
       "      <td>-1844.956182</td>\n",
       "      <td>56</td>\n",
       "      <td>высшее</td>\n",
       "      <td>0</td>\n",
       "      <td>гражданский брак</td>\n",
       "      <td>1</td>\n",
       "      <td>F</td>\n",
       "      <td>компаньон</td>\n",
       "      <td>1</td>\n",
       "      <td>165127.911772</td>\n",
       "      <td>покупка жилой недвижимости</td>\n",
       "    </tr>\n",
       "    <tr>\n",
       "      <th>15</th>\n",
       "      <td>1</td>\n",
       "      <td>-972.364419</td>\n",
       "      <td>26</td>\n",
       "      <td>среднее</td>\n",
       "      <td>1</td>\n",
       "      <td>женат / замужем</td>\n",
       "      <td>0</td>\n",
       "      <td>F</td>\n",
       "      <td>сотрудник</td>\n",
       "      <td>0</td>\n",
       "      <td>116820.904450</td>\n",
       "      <td>строительство собственной недвижимости</td>\n",
       "    </tr>\n",
       "    <tr>\n",
       "      <th>16</th>\n",
       "      <td>0</td>\n",
       "      <td>-1719.934226</td>\n",
       "      <td>35</td>\n",
       "      <td>среднее</td>\n",
       "      <td>1</td>\n",
       "      <td>женат / замужем</td>\n",
       "      <td>0</td>\n",
       "      <td>F</td>\n",
       "      <td>сотрудник</td>\n",
       "      <td>0</td>\n",
       "      <td>289202.704229</td>\n",
       "      <td>недвижимость</td>\n",
       "    </tr>\n",
       "    <tr>\n",
       "      <th>17</th>\n",
       "      <td>0</td>\n",
       "      <td>-2369.999720</td>\n",
       "      <td>33</td>\n",
       "      <td>высшее</td>\n",
       "      <td>0</td>\n",
       "      <td>гражданский брак</td>\n",
       "      <td>1</td>\n",
       "      <td>M</td>\n",
       "      <td>сотрудник</td>\n",
       "      <td>0</td>\n",
       "      <td>90410.586745</td>\n",
       "      <td>строительство недвижимости</td>\n",
       "    </tr>\n",
       "    <tr>\n",
       "      <th>18</th>\n",
       "      <td>0</td>\n",
       "      <td>400281.136913</td>\n",
       "      <td>53</td>\n",
       "      <td>среднее</td>\n",
       "      <td>1</td>\n",
       "      <td>вдовец / вдова</td>\n",
       "      <td>2</td>\n",
       "      <td>F</td>\n",
       "      <td>пенсионер</td>\n",
       "      <td>0</td>\n",
       "      <td>56823.777243</td>\n",
       "      <td>на покупку подержанного автомобиля</td>\n",
       "    </tr>\n",
       "    <tr>\n",
       "      <th>19</th>\n",
       "      <td>0</td>\n",
       "      <td>-10038.818549</td>\n",
       "      <td>48</td>\n",
       "      <td>СРЕДНЕЕ</td>\n",
       "      <td>1</td>\n",
       "      <td>в разводе</td>\n",
       "      <td>3</td>\n",
       "      <td>F</td>\n",
       "      <td>сотрудник</td>\n",
       "      <td>0</td>\n",
       "      <td>242831.107982</td>\n",
       "      <td>на покупку своего автомобиля</td>\n",
       "    </tr>\n",
       "  </tbody>\n",
       "</table>\n",
       "</div>"
      ],
      "text/plain": [
       "    children  days_employed  dob_years            education  education_id  \\\n",
       "0          1   -8437.673028         42               высшее             0   \n",
       "1          1   -4024.803754         36              среднее             1   \n",
       "2          0   -5623.422610         33              Среднее             1   \n",
       "3          3   -4124.747207         32              среднее             1   \n",
       "4          0  340266.072047         53              среднее             1   \n",
       "5          0    -926.185831         27               высшее             0   \n",
       "6          0   -2879.202052         43               высшее             0   \n",
       "7          0    -152.779569         50              СРЕДНЕЕ             1   \n",
       "8          2   -6929.865299         35               ВЫСШЕЕ             0   \n",
       "9          0   -2188.756445         41              среднее             1   \n",
       "10         2   -4171.483647         36               высшее             0   \n",
       "11         0    -792.701887         40              среднее             1   \n",
       "12         0            NaN         65              среднее             1   \n",
       "13         0   -1846.641941         54  неоконченное высшее             2   \n",
       "14         0   -1844.956182         56               высшее             0   \n",
       "15         1    -972.364419         26              среднее             1   \n",
       "16         0   -1719.934226         35              среднее             1   \n",
       "17         0   -2369.999720         33               высшее             0   \n",
       "18         0  400281.136913         53              среднее             1   \n",
       "19         0  -10038.818549         48              СРЕДНЕЕ             1   \n",
       "\n",
       "       family_status  family_status_id gender income_type  debt  \\\n",
       "0    женат / замужем                 0      F   сотрудник     0   \n",
       "1    женат / замужем                 0      F   сотрудник     0   \n",
       "2    женат / замужем                 0      M   сотрудник     0   \n",
       "3    женат / замужем                 0      M   сотрудник     0   \n",
       "4   гражданский брак                 1      F   пенсионер     0   \n",
       "5   гражданский брак                 1      M   компаньон     0   \n",
       "6    женат / замужем                 0      F   компаньон     0   \n",
       "7    женат / замужем                 0      M   сотрудник     0   \n",
       "8   гражданский брак                 1      F   сотрудник     0   \n",
       "9    женат / замужем                 0      M   сотрудник     0   \n",
       "10   женат / замужем                 0      M   компаньон     0   \n",
       "11   женат / замужем                 0      F   сотрудник     0   \n",
       "12  гражданский брак                 1      M   пенсионер     0   \n",
       "13   женат / замужем                 0      F   сотрудник     0   \n",
       "14  гражданский брак                 1      F   компаньон     1   \n",
       "15   женат / замужем                 0      F   сотрудник     0   \n",
       "16   женат / замужем                 0      F   сотрудник     0   \n",
       "17  гражданский брак                 1      M   сотрудник     0   \n",
       "18    вдовец / вдова                 2      F   пенсионер     0   \n",
       "19         в разводе                 3      F   сотрудник     0   \n",
       "\n",
       "     total_income                                 purpose  \n",
       "0   253875.639453                           покупка жилья  \n",
       "1   112080.014102                 приобретение автомобиля  \n",
       "2   145885.952297                           покупка жилья  \n",
       "3   267628.550329              дополнительное образование  \n",
       "4   158616.077870                         сыграть свадьбу  \n",
       "5   255763.565419                           покупка жилья  \n",
       "6   240525.971920                       операции с жильем  \n",
       "7   135823.934197                             образование  \n",
       "8    95856.832424                   на проведение свадьбы  \n",
       "9   144425.938277                 покупка жилья для семьи  \n",
       "10  113943.491460                    покупка недвижимости  \n",
       "11   77069.234271       покупка коммерческой недвижимости  \n",
       "12            NaN                         сыграть свадьбу  \n",
       "13  130458.228857                 приобретение автомобиля  \n",
       "14  165127.911772              покупка жилой недвижимости  \n",
       "15  116820.904450  строительство собственной недвижимости  \n",
       "16  289202.704229                            недвижимость  \n",
       "17   90410.586745              строительство недвижимости  \n",
       "18   56823.777243      на покупку подержанного автомобиля  \n",
       "19  242831.107982            на покупку своего автомобиля  "
      ]
     },
     "execution_count": 2,
     "metadata": {},
     "output_type": "execute_result"
    }
   ],
   "source": [
    "data.head(20)"
   ]
  },
  {
   "cell_type": "markdown",
   "id": "e4611d4d",
   "metadata": {
    "deletable": false,
    "editable": false,
    "id": "1c12e233"
   },
   "source": [
    "**Задание 3. Выведите основную информацию о датафрейме с помощью метода `info()`.**"
   ]
  },
  {
   "cell_type": "code",
   "execution_count": 3,
   "id": "25d34979",
   "metadata": {
    "deletable": false,
    "id": "2b757bca",
    "outputId": "15376089-8dad-46c9-b520-c05248d43158"
   },
   "outputs": [
    {
     "name": "stdout",
     "output_type": "stream",
     "text": [
      "<class 'pandas.core.frame.DataFrame'>\n",
      "RangeIndex: 21525 entries, 0 to 21524\n",
      "Data columns (total 12 columns):\n",
      " #   Column            Non-Null Count  Dtype  \n",
      "---  ------            --------------  -----  \n",
      " 0   children          21525 non-null  int64  \n",
      " 1   days_employed     19351 non-null  float64\n",
      " 2   dob_years         21525 non-null  int64  \n",
      " 3   education         21525 non-null  object \n",
      " 4   education_id      21525 non-null  int64  \n",
      " 5   family_status     21525 non-null  object \n",
      " 6   family_status_id  21525 non-null  int64  \n",
      " 7   gender            21525 non-null  object \n",
      " 8   income_type       21525 non-null  object \n",
      " 9   debt              21525 non-null  int64  \n",
      " 10  total_income      19351 non-null  float64\n",
      " 11  purpose           21525 non-null  object \n",
      "dtypes: float64(2), int64(5), object(5)\n",
      "memory usage: 2.0+ MB\n"
     ]
    }
   ],
   "source": [
    "data.info()"
   ]
  },
  {
   "cell_type": "markdown",
   "id": "d2e9e7ae",
   "metadata": {
    "deletable": false,
    "editable": false,
    "id": "333ec665"
   },
   "source": [
    "## Предобработка данных"
   ]
  },
  {
   "cell_type": "markdown",
   "id": "c7581f3f",
   "metadata": {
    "deletable": false,
    "editable": false,
    "id": "02d92d53"
   },
   "source": [
    "### Удаление пропусков"
   ]
  },
  {
   "cell_type": "markdown",
   "id": "53d9b154",
   "metadata": {
    "deletable": false,
    "editable": false,
    "id": "cd84967c"
   },
   "source": [
    "**Задание 4. Выведите количество пропущенных значений для каждого столбца. Используйте комбинацию двух методов.**"
   ]
  },
  {
   "cell_type": "code",
   "execution_count": 4,
   "id": "99a57e52",
   "metadata": {
    "deletable": false,
    "id": "7f9b2309",
    "outputId": "81f4d817-781c-465c-ed15-91ce4446810d"
   },
   "outputs": [
    {
     "data": {
      "text/plain": [
       "children               0\n",
       "days_employed       2174\n",
       "dob_years              0\n",
       "education              0\n",
       "education_id           0\n",
       "family_status          0\n",
       "family_status_id       0\n",
       "gender                 0\n",
       "income_type            0\n",
       "debt                   0\n",
       "total_income        2174\n",
       "purpose                0\n",
       "dtype: int64"
      ]
     },
     "execution_count": 4,
     "metadata": {},
     "output_type": "execute_result"
    }
   ],
   "source": [
    "data.isna().sum()"
   ]
  },
  {
   "cell_type": "markdown",
   "id": "18f2d478",
   "metadata": {
    "deletable": false,
    "editable": false,
    "id": "db86e27b"
   },
   "source": [
    "**Задание 5. В двух столбцах есть пропущенные значения. Один из них — `days_employed`. Пропуски в этом столбце вы обработаете на следующем этапе. Другой столбец с пропущенными значениями — `total_income` — хранит данные о доходах. На сумму дохода сильнее всего влияет тип занятости, поэтому заполнить пропуски в этом столбце нужно медианным значением по каждому типу из столбца `income_type`. Например, у человека с типом занятости `сотрудник` пропуск в столбце `total_income` должен быть заполнен медианным доходом среди всех записей с тем же типом.**"
   ]
  },
  {
   "cell_type": "code",
   "execution_count": 5,
   "id": "bb0c4eca",
   "metadata": {
    "deletable": false,
    "id": "42006a93"
   },
   "outputs": [],
   "source": [
    "for t in data['income_type'].unique():\n",
    "    data.loc[(data['income_type'] == t) & (data['total_income'].isna()), 'total_income'] = \\\n",
    "    data.loc[(data['income_type'] == t), 'total_income'].median()"
   ]
  },
  {
   "cell_type": "markdown",
   "id": "f660a8b9",
   "metadata": {
    "deletable": false,
    "editable": false,
    "id": "89da5ece"
   },
   "source": [
    "### Обработка аномальных значений"
   ]
  },
  {
   "cell_type": "markdown",
   "id": "7719e1bd",
   "metadata": {
    "deletable": false,
    "editable": false,
    "id": "57964554"
   },
   "source": [
    "**Задание 6. В данных могут встречаться артефакты (аномалии) — значения, которые не отражают действительность и появились по какой-то ошибке. таким артефактом будет отрицательное количество дней трудового стажа в столбце `days_employed`. Для реальных данных это нормально. Обработайте значения в этом столбце: замените все отрицательные значения положительными с помощью метода `abs()`.**"
   ]
  },
  {
   "cell_type": "code",
   "execution_count": 6,
   "id": "695f8cc3",
   "metadata": {
    "deletable": false,
    "id": "f6f055bf"
   },
   "outputs": [],
   "source": [
    "data['days_employed'] = data['days_employed'].abs()"
   ]
  },
  {
   "cell_type": "markdown",
   "id": "fe150cc8",
   "metadata": {
    "deletable": false,
    "editable": false,
    "id": "6107dd2f"
   },
   "source": [
    "**Задание 7. Для каждого типа занятости выведите медианное значение трудового стажа `days_employed` в днях.**"
   ]
  },
  {
   "cell_type": "code",
   "execution_count": 7,
   "id": "1e306836",
   "metadata": {
    "deletable": false,
    "id": "85a5faf6",
    "outputId": "801ef80e-522b-4668-f34e-565af7432bcf"
   },
   "outputs": [
    {
     "data": {
      "text/plain": [
       "income_type\n",
       "безработный        366413.652744\n",
       "в декрете            3296.759962\n",
       "госслужащий          2689.368353\n",
       "компаньон            1547.382223\n",
       "пенсионер          365213.306266\n",
       "предприниматель       520.848083\n",
       "сотрудник            1574.202821\n",
       "студент               578.751554\n",
       "Name: days_employed, dtype: float64"
      ]
     },
     "execution_count": 7,
     "metadata": {},
     "output_type": "execute_result"
    }
   ],
   "source": [
    "data.groupby('income_type')['days_employed'].agg('median')"
   ]
  },
  {
   "cell_type": "markdown",
   "id": "f5ba4257",
   "metadata": {
    "deletable": false,
    "editable": false,
    "id": "38d1a030"
   },
   "source": [
    "У двух типов (безработные и пенсионеры) получатся аномально большие значения. Исправить такие значения сложно, поэтому оставьте их как есть. Тем более этот столбец не понадобится вам для исследования."
   ]
  },
  {
   "cell_type": "markdown",
   "id": "94de45f4",
   "metadata": {
    "deletable": false,
    "editable": false,
    "id": "d8a9f147"
   },
   "source": [
    "**Задание 8. Выведите перечень уникальных значений столбца `children`.**"
   ]
  },
  {
   "cell_type": "code",
   "execution_count": 8,
   "id": "eaa40c8a",
   "metadata": {
    "deletable": false,
    "id": "ef5056eb",
    "outputId": "6975b15c-7f95-4697-d16d-a0c79b657b03"
   },
   "outputs": [
    {
     "data": {
      "text/plain": [
       "array([ 1,  0,  3,  2, -1,  4, 20,  5], dtype=int64)"
      ]
     },
     "execution_count": 8,
     "metadata": {},
     "output_type": "execute_result"
    }
   ],
   "source": [
    "data['children'].unique()"
   ]
  },
  {
   "cell_type": "markdown",
   "id": "d0589061",
   "metadata": {
    "deletable": false,
    "editable": false,
    "id": "40b9ebf2"
   },
   "source": [
    "**Задание 9. В столбце `children` есть два аномальных значения. Удалите строки, в которых встречаются такие аномальные значения из датафрейма `data`.**"
   ]
  },
  {
   "cell_type": "code",
   "execution_count": 9,
   "id": "78c9e978",
   "metadata": {
    "deletable": false,
    "id": "3ff9801d"
   },
   "outputs": [],
   "source": [
    "data = data[(data['children'] != -1) & (data['children'] != 20)]"
   ]
  },
  {
   "cell_type": "markdown",
   "id": "da7d93de",
   "metadata": {
    "deletable": false,
    "editable": false,
    "id": "bbc4d0ce"
   },
   "source": [
    "**Задание 10. Ещё раз выведите перечень уникальных значений столбца `children`, чтобы убедиться, что артефакты удалены.**"
   ]
  },
  {
   "cell_type": "code",
   "execution_count": 10,
   "id": "15ccf65b",
   "metadata": {
    "deletable": false,
    "id": "ad4fa8b7",
    "outputId": "b2097101-d49d-44d9-901b-32a65c9463d1"
   },
   "outputs": [
    {
     "data": {
      "text/plain": [
       "array([1, 0, 3, 2, 4, 5], dtype=int64)"
      ]
     },
     "execution_count": 10,
     "metadata": {},
     "output_type": "execute_result"
    }
   ],
   "source": [
    "data['children'].unique()"
   ]
  },
  {
   "cell_type": "markdown",
   "id": "2c6437bd",
   "metadata": {
    "deletable": false,
    "editable": false,
    "id": "75440b63"
   },
   "source": [
    "### Удаление пропусков (продолжение)"
   ]
  },
  {
   "cell_type": "markdown",
   "id": "9d10df2a",
   "metadata": {
    "deletable": false,
    "editable": false,
    "id": "f4ea573f"
   },
   "source": [
    "**Задание 11. Заполните пропуски в столбце `days_employed` медианными значениями по каждого типа занятости `income_type`.**"
   ]
  },
  {
   "cell_type": "code",
   "execution_count": 11,
   "id": "c0b91ac4",
   "metadata": {
    "deletable": false,
    "id": "af6b1a7e"
   },
   "outputs": [],
   "source": [
    "for t in data['income_type'].unique():\n",
    "    data.loc[(data['income_type'] == t) & (data['days_employed'].isna()), 'days_employed'] = \\\n",
    "    data.loc[(data['income_type'] == t), 'days_employed'].median()"
   ]
  },
  {
   "cell_type": "markdown",
   "id": "3b4c3239",
   "metadata": {
    "deletable": false,
    "editable": false,
    "id": "2753f40d"
   },
   "source": [
    "**Задание 12. Убедитесь, что все пропуски заполнены. Проверьте себя и ещё раз выведите количество пропущенных значений для каждого столбца с помощью двух методов.**"
   ]
  },
  {
   "cell_type": "code",
   "execution_count": 12,
   "id": "da368a6b",
   "metadata": {
    "deletable": false,
    "id": "55f78bc2",
    "outputId": "8da1e4e1-358e-4e87-98c9-f261bce0a7b2"
   },
   "outputs": [
    {
     "data": {
      "text/plain": [
       "children            0\n",
       "days_employed       0\n",
       "dob_years           0\n",
       "education           0\n",
       "education_id        0\n",
       "family_status       0\n",
       "family_status_id    0\n",
       "gender              0\n",
       "income_type         0\n",
       "debt                0\n",
       "total_income        0\n",
       "purpose             0\n",
       "dtype: int64"
      ]
     },
     "execution_count": 12,
     "metadata": {},
     "output_type": "execute_result"
    }
   ],
   "source": [
    "data.isna().sum()"
   ]
  },
  {
   "cell_type": "markdown",
   "id": "53163719",
   "metadata": {
    "deletable": false,
    "editable": false,
    "id": "ddc81e43"
   },
   "source": [
    "### Изменение типов данных"
   ]
  },
  {
   "cell_type": "markdown",
   "id": "ba67069a",
   "metadata": {
    "deletable": false,
    "editable": false,
    "id": "42d19d24"
   },
   "source": [
    "**Задание 13. Замените вещественный тип данных в столбце `total_income` на целочисленный с помощью метода `astype()`.**"
   ]
  },
  {
   "cell_type": "code",
   "execution_count": 13,
   "id": "3183875c",
   "metadata": {
    "deletable": false,
    "id": "920b65ad"
   },
   "outputs": [],
   "source": [
    "data['total_income'] = data['total_income'].astype(int)"
   ]
  },
  {
   "cell_type": "markdown",
   "id": "4e84167b",
   "metadata": {
    "deletable": false,
    "editable": false,
    "id": "80c420ba"
   },
   "source": [
    "### Обработка дубликатов"
   ]
  },
  {
   "cell_type": "markdown",
   "id": "d690f017",
   "metadata": {
    "deletable": false,
    "editable": false
   },
   "source": [
    "**Задание 14. Обработайте неявные дубликаты в столбце `education`. В этом столбце есть одни и те же значения, но записанные по-разному: с использованием заглавных и строчных букв. Приведите их к нижнему регистру. Проверьте остальные столбцы.**"
   ]
  },
  {
   "cell_type": "code",
   "execution_count": 14,
   "id": "c44484fa",
   "metadata": {
    "deletable": false
   },
   "outputs": [],
   "source": [
    "data['education'] = data['education'].str.lower()"
   ]
  },
  {
   "cell_type": "markdown",
   "id": "89af59bf",
   "metadata": {
    "deletable": false,
    "editable": false,
    "id": "dc587695"
   },
   "source": [
    "**Задание 15. Выведите на экран количество строк-дубликатов в данных. Если такие строки присутствуют, удалите их.**"
   ]
  },
  {
   "cell_type": "code",
   "execution_count": 15,
   "id": "aea6d8a0",
   "metadata": {
    "deletable": false,
    "id": "3ee445e4",
    "outputId": "9684deba-1934-42d1-99e1-cda61740f822"
   },
   "outputs": [
    {
     "data": {
      "text/plain": [
       "71"
      ]
     },
     "execution_count": 15,
     "metadata": {},
     "output_type": "execute_result"
    }
   ],
   "source": [
    "data.duplicated().sum()"
   ]
  },
  {
   "cell_type": "code",
   "execution_count": 16,
   "id": "a275df97",
   "metadata": {
    "deletable": false,
    "id": "8575fe05"
   },
   "outputs": [],
   "source": [
    "data = data.drop_duplicates()"
   ]
  },
  {
   "cell_type": "markdown",
   "id": "3eca3d6a",
   "metadata": {
    "deletable": false,
    "editable": false,
    "id": "9904cf55"
   },
   "source": [
    "### Категоризация данных"
   ]
  },
  {
   "cell_type": "markdown",
   "id": "a494e3b2",
   "metadata": {
    "deletable": false,
    "editable": false,
    "id": "72fcc8a2"
   },
   "source": [
    "**Задание 16. На основании диапазонов, указанных ниже, создайте в датафрейме `data` столбец `total_income_category` с категориями:**\n",
    "\n",
    "- 0–30000 — `'E'`;\n",
    "- 30001–50000 — `'D'`;\n",
    "- 50001–200000 — `'C'`;\n",
    "- 200001–1000000 — `'B'`;\n",
    "- 1000001 и выше — `'A'`.\n",
    "\n",
    "\n",
    "**Например, кредитополучателю с доходом 25000 нужно назначить категорию `'E'`, а клиенту, получающему 235000, — `'B'`. Используйте собственную функцию с именем `categorize_income()` и метод `apply()`.**"
   ]
  },
  {
   "cell_type": "code",
   "execution_count": 17,
   "id": "f8b41838",
   "metadata": {
    "deletable": false,
    "id": "e1771346"
   },
   "outputs": [],
   "source": [
    "def categorize_income(income):\n",
    "    try:\n",
    "        if 0 <= income <= 30000:\n",
    "            return 'E'\n",
    "        elif 30001 <= income <= 50000:\n",
    "            return 'D'\n",
    "        elif 50001 <= income <= 200000:\n",
    "            return 'C'\n",
    "        elif 200001 <= income <= 1000000:\n",
    "            return 'B'\n",
    "        elif income >= 1000001:\n",
    "            return 'A'\n",
    "    except:\n",
    "        pass"
   ]
  },
  {
   "cell_type": "code",
   "execution_count": 18,
   "id": "80d732af",
   "metadata": {
    "deletable": false,
    "id": "d5f3586d"
   },
   "outputs": [],
   "source": [
    "data['total_income_category'] = data['total_income'].apply(categorize_income)"
   ]
  },
  {
   "cell_type": "markdown",
   "id": "923475bd",
   "metadata": {
    "deletable": false,
    "editable": false,
    "id": "dde49b5c"
   },
   "source": [
    "**Задание 17. Выведите на экран перечень уникальных целей взятия кредита из столбца `purpose`.**"
   ]
  },
  {
   "cell_type": "code",
   "execution_count": 19,
   "id": "4f22fc62",
   "metadata": {
    "deletable": false,
    "id": "f67ce9b3",
    "outputId": "673c12d9-7d7e-4ae0-9812-c622c89dd244"
   },
   "outputs": [
    {
     "data": {
      "text/plain": [
       "array(['покупка жилья', 'приобретение автомобиля',\n",
       "       'дополнительное образование', 'сыграть свадьбу',\n",
       "       'операции с жильем', 'образование', 'на проведение свадьбы',\n",
       "       'покупка жилья для семьи', 'покупка недвижимости',\n",
       "       'покупка коммерческой недвижимости', 'покупка жилой недвижимости',\n",
       "       'строительство собственной недвижимости', 'недвижимость',\n",
       "       'строительство недвижимости', 'на покупку подержанного автомобиля',\n",
       "       'на покупку своего автомобиля',\n",
       "       'операции с коммерческой недвижимостью',\n",
       "       'строительство жилой недвижимости', 'жилье',\n",
       "       'операции со своей недвижимостью', 'автомобили',\n",
       "       'заняться образованием', 'сделка с подержанным автомобилем',\n",
       "       'получение образования', 'автомобиль', 'свадьба',\n",
       "       'получение дополнительного образования', 'покупка своего жилья',\n",
       "       'операции с недвижимостью', 'получение высшего образования',\n",
       "       'свой автомобиль', 'сделка с автомобилем',\n",
       "       'профильное образование', 'высшее образование',\n",
       "       'покупка жилья для сдачи', 'на покупку автомобиля', 'ремонт жилью',\n",
       "       'заняться высшим образованием'], dtype=object)"
      ]
     },
     "execution_count": 19,
     "metadata": {},
     "output_type": "execute_result"
    }
   ],
   "source": [
    "data['purpose'].unique()"
   ]
  },
  {
   "cell_type": "markdown",
   "id": "94caf188",
   "metadata": {
    "deletable": false,
    "editable": false,
    "id": "85d0aef0"
   },
   "source": [
    "**Задание 18. Создайте функцию, которая на основании данных из столбца `purpose` сформирует новый столбец `purpose_category`, в который войдут следующие категории:**\n",
    "\n",
    "- `'операции с автомобилем'`,\n",
    "- `'операции с недвижимостью'`,\n",
    "- `'проведение свадьбы'`,\n",
    "- `'получение образования'`.\n",
    "\n",
    "**Например, если в столбце `purpose` находится подстрока `'на покупку автомобиля'`, то в столбце `purpose_category` должна появиться строка `'операции с автомобилем'`.**\n",
    "\n",
    "**Используйте собственную функцию с именем `categorize_purpose()` и метод `apply()`. Изучите данные в столбце `purpose` и определите, какие подстроки помогут вам правильно определить категорию.**"
   ]
  },
  {
   "cell_type": "code",
   "execution_count": 20,
   "id": "08d18598",
   "metadata": {
    "deletable": false,
    "id": "e149fab4"
   },
   "outputs": [],
   "source": [
    "def categorize_purpose(row):\n",
    "    try:\n",
    "        if 'автом' in row:\n",
    "            return 'операции с автомобилем'\n",
    "        elif 'жил' in row or 'недвиж' in row:\n",
    "            return 'операции с недвижимостью'\n",
    "        elif 'свад' in row:\n",
    "            return 'проведение свадьбы'\n",
    "        elif 'образов' in row:\n",
    "            return 'получение образования'\n",
    "    except:\n",
    "        return 'нет категории'"
   ]
  },
  {
   "cell_type": "code",
   "execution_count": 21,
   "id": "e387aabd",
   "metadata": {
    "deletable": false,
    "id": "bf36e69b"
   },
   "outputs": [],
   "source": [
    "data['purpose_category'] = data['purpose'].apply(categorize_purpose)"
   ]
  },
  {
   "cell_type": "markdown",
   "id": "e2523408",
   "metadata": {
    "deletable": false,
    "editable": false,
    "id": "09b242bf"
   },
   "source": [
    "### Шаг 3. Исследуйте данные и ответьте на вопросы"
   ]
  },
  {
   "cell_type": "markdown",
   "id": "e623ea3d",
   "metadata": {
    "deletable": false,
    "editable": false,
    "id": "c5d66278"
   },
   "source": [
    "#### 3.1 Есть ли зависимость между количеством детей и возвратом кредита в срок?"
   ]
  },
  {
   "cell_type": "code",
   "execution_count": 22,
   "id": "a88ceefa",
   "metadata": {
    "deletable": false,
    "id": "2cacfc4a"
   },
   "outputs": [
    {
     "data": {
      "text/html": [
       "<div>\n",
       "<style scoped>\n",
       "    .dataframe tbody tr th:only-of-type {\n",
       "        vertical-align: middle;\n",
       "    }\n",
       "\n",
       "    .dataframe tbody tr th {\n",
       "        vertical-align: top;\n",
       "    }\n",
       "\n",
       "    .dataframe thead th {\n",
       "        text-align: right;\n",
       "    }\n",
       "</style>\n",
       "<table border=\"1\" class=\"dataframe\">\n",
       "  <thead>\n",
       "    <tr style=\"text-align: right;\">\n",
       "      <th></th>\n",
       "      <th>количество</th>\n",
       "      <th>среднее</th>\n",
       "      <th>сумма</th>\n",
       "    </tr>\n",
       "    <tr>\n",
       "      <th>children</th>\n",
       "      <th></th>\n",
       "      <th></th>\n",
       "      <th></th>\n",
       "    </tr>\n",
       "  </thead>\n",
       "  <tbody>\n",
       "    <tr>\n",
       "      <th>0</th>\n",
       "      <td>14091</td>\n",
       "      <td>7.54%</td>\n",
       "      <td>1063</td>\n",
       "    </tr>\n",
       "    <tr>\n",
       "      <th>1</th>\n",
       "      <td>4808</td>\n",
       "      <td>9.23%</td>\n",
       "      <td>444</td>\n",
       "    </tr>\n",
       "    <tr>\n",
       "      <th>2</th>\n",
       "      <td>2052</td>\n",
       "      <td>9.45%</td>\n",
       "      <td>194</td>\n",
       "    </tr>\n",
       "    <tr>\n",
       "      <th>3</th>\n",
       "      <td>330</td>\n",
       "      <td>8.18%</td>\n",
       "      <td>27</td>\n",
       "    </tr>\n",
       "    <tr>\n",
       "      <th>4</th>\n",
       "      <td>41</td>\n",
       "      <td>9.76%</td>\n",
       "      <td>4</td>\n",
       "    </tr>\n",
       "    <tr>\n",
       "      <th>5</th>\n",
       "      <td>9</td>\n",
       "      <td>0.00%</td>\n",
       "      <td>0</td>\n",
       "    </tr>\n",
       "  </tbody>\n",
       "</table>\n",
       "</div>"
      ],
      "text/plain": [
       "          количество среднее  сумма\n",
       "children                           \n",
       "0              14091   7.54%   1063\n",
       "1               4808   9.23%    444\n",
       "2               2052   9.45%    194\n",
       "3                330   8.18%     27\n",
       "4                 41   9.76%      4\n",
       "5                  9   0.00%      0"
      ]
     },
     "execution_count": 22,
     "metadata": {},
     "output_type": "execute_result"
    }
   ],
   "source": [
    "children = data.pivot_table(index=['children'], values='debt', aggfunc=('mean','sum','count'))\n",
    "\n",
    "def percent(i):\n",
    "    return '{0:.2%}'.format(i)\n",
    "\n",
    "children['mean'] = children['mean'].apply(percent)\n",
    "\n",
    "children = children.rename(columns={\n",
    "    'sum': 'сумма',\n",
    "    'count': 'количество',\n",
    "    'mean': 'среднее'\n",
    "})\n",
    "children"
   ]
  },
  {
   "cell_type": "markdown",
   "id": "d71be9d3",
   "metadata": {
    "deletable": false,
    "id": "3a6b99ec"
   },
   "source": [
    "**Вывод:** \n",
    "Взглянув на таблицу мы увидим, что у заёмщиков с 3,4 и 5 детьми недостаточное количество данных в сравненнии другими категориями.\n",
    "\n",
    "    14091 - бездетные \n",
    "    4808 - 1 ребёнок\n",
    "    2052 - 2 ребёнка\n",
    "    330 - 3 ребёнка\n",
    "    41 - 4 ребёнка\n",
    "    9 - 5 детей\n",
    "\n",
    "Отбросив малочисленные группы и продолжив анализ оставив только три самые большие выборки с одним, двумя и отсутствием детей, можем заметить,что бездетные заёмщики(7.54%) с большей вероятностью возвращают кредиты в сравнении с гражданами с 1(9.23%) и 2(9.45%) детьми."
   ]
  },
  {
   "cell_type": "markdown",
   "id": "fcc8dd7c",
   "metadata": {
    "deletable": false,
    "editable": false,
    "id": "97be82ca"
   },
   "source": [
    "#### 3.2 Есть ли зависимость между семейным положением и возвратом кредита в срок?"
   ]
  },
  {
   "cell_type": "code",
   "execution_count": 23,
   "id": "9cd59e2f",
   "metadata": {
    "deletable": false,
    "id": "dc3f7ee8"
   },
   "outputs": [
    {
     "data": {
      "text/html": [
       "<div>\n",
       "<style scoped>\n",
       "    .dataframe tbody tr th:only-of-type {\n",
       "        vertical-align: middle;\n",
       "    }\n",
       "\n",
       "    .dataframe tbody tr th {\n",
       "        vertical-align: top;\n",
       "    }\n",
       "\n",
       "    .dataframe thead th {\n",
       "        text-align: right;\n",
       "    }\n",
       "</style>\n",
       "<table border=\"1\" class=\"dataframe\">\n",
       "  <thead>\n",
       "    <tr style=\"text-align: right;\">\n",
       "      <th></th>\n",
       "      <th>количество</th>\n",
       "      <th>среднее</th>\n",
       "      <th>сумма</th>\n",
       "    </tr>\n",
       "    <tr>\n",
       "      <th>family_status</th>\n",
       "      <th></th>\n",
       "      <th></th>\n",
       "      <th></th>\n",
       "    </tr>\n",
       "  </thead>\n",
       "  <tbody>\n",
       "    <tr>\n",
       "      <th>Не женат / не замужем</th>\n",
       "      <td>2796</td>\n",
       "      <td>9.76%</td>\n",
       "      <td>273</td>\n",
       "    </tr>\n",
       "    <tr>\n",
       "      <th>в разводе</th>\n",
       "      <td>1189</td>\n",
       "      <td>7.06%</td>\n",
       "      <td>84</td>\n",
       "    </tr>\n",
       "    <tr>\n",
       "      <th>вдовец / вдова</th>\n",
       "      <td>951</td>\n",
       "      <td>6.62%</td>\n",
       "      <td>63</td>\n",
       "    </tr>\n",
       "    <tr>\n",
       "      <th>гражданский брак</th>\n",
       "      <td>4134</td>\n",
       "      <td>9.31%</td>\n",
       "      <td>385</td>\n",
       "    </tr>\n",
       "    <tr>\n",
       "      <th>женат / замужем</th>\n",
       "      <td>12261</td>\n",
       "      <td>7.56%</td>\n",
       "      <td>927</td>\n",
       "    </tr>\n",
       "  </tbody>\n",
       "</table>\n",
       "</div>"
      ],
      "text/plain": [
       "                       количество среднее  сумма\n",
       "family_status                                   \n",
       "Не женат / не замужем        2796   9.76%    273\n",
       "в разводе                    1189   7.06%     84\n",
       "вдовец / вдова                951   6.62%     63\n",
       "гражданский брак             4134   9.31%    385\n",
       "женат / замужем             12261   7.56%    927"
      ]
     },
     "execution_count": 23,
     "metadata": {},
     "output_type": "execute_result"
    }
   ],
   "source": [
    "family = data.pivot_table(index=['family_status'], values='debt', aggfunc=('mean','sum','count'))\n",
    "\n",
    "def percent(i):\n",
    "    return '{0:.2%}'.format(i)\n",
    "\n",
    "family['mean'] = family['mean'].apply(percent)\n",
    "\n",
    "family = family.rename(columns={\n",
    "    'sum': 'сумма',\n",
    "    'count': 'количество',\n",
    "    'mean': 'среднее'\n",
    "})\n",
    "family"
   ]
  },
  {
   "cell_type": "markdown",
   "id": "2c790b47",
   "metadata": {},
   "source": [
    "***Глядя на таблицу сложно определить зависимость от семейного положения.Углубимся в анализ и разделим людей на 2 группы: 'состоявшие или состоящие в зарегистрированном браке' и 'не состоявшие в зарегистрированном браке'***"
   ]
  },
  {
   "cell_type": "code",
   "execution_count": 24,
   "id": "f96b9601",
   "metadata": {},
   "outputs": [],
   "source": [
    "def family_groups(i):\n",
    "    try:\n",
    "        if 'Не женат / не замужем' in i or 'гражданский брак' in i:\n",
    "            return 'не состоявшие в зарегистрированном браке'\n",
    "        elif 'в разводе' in i or 'вдовец / вдова' in i or 'женат / замужем' in i:\n",
    "            return 'состоявшие или состоящие в зарегистрированном браке'\n",
    "    except:\n",
    "        return 'некорректное значение'\n",
    "    \n",
    "data['family_groups'] = data['family_status'].apply(family_groups)    \n",
    "    "
   ]
  },
  {
   "cell_type": "markdown",
   "id": "e1e58b0b",
   "metadata": {},
   "source": [
    "**Создадим таблицу категоризированных данных**"
   ]
  },
  {
   "cell_type": "code",
   "execution_count": 25,
   "id": "a344c146",
   "metadata": {},
   "outputs": [
    {
     "data": {
      "text/html": [
       "<div>\n",
       "<style scoped>\n",
       "    .dataframe tbody tr th:only-of-type {\n",
       "        vertical-align: middle;\n",
       "    }\n",
       "\n",
       "    .dataframe tbody tr th {\n",
       "        vertical-align: top;\n",
       "    }\n",
       "\n",
       "    .dataframe thead th {\n",
       "        text-align: right;\n",
       "    }\n",
       "</style>\n",
       "<table border=\"1\" class=\"dataframe\">\n",
       "  <thead>\n",
       "    <tr style=\"text-align: right;\">\n",
       "      <th></th>\n",
       "      <th>количество</th>\n",
       "      <th>среднее</th>\n",
       "      <th>сумма</th>\n",
       "    </tr>\n",
       "    <tr>\n",
       "      <th>family_groups</th>\n",
       "      <th></th>\n",
       "      <th></th>\n",
       "      <th></th>\n",
       "    </tr>\n",
       "  </thead>\n",
       "  <tbody>\n",
       "    <tr>\n",
       "      <th>не состоявшие в зарегистрированном браке</th>\n",
       "      <td>6930</td>\n",
       "      <td>9.49%</td>\n",
       "      <td>658</td>\n",
       "    </tr>\n",
       "    <tr>\n",
       "      <th>состоявшие или состоящие в зарегистрированном браке</th>\n",
       "      <td>14401</td>\n",
       "      <td>7.46%</td>\n",
       "      <td>1074</td>\n",
       "    </tr>\n",
       "  </tbody>\n",
       "</table>\n",
       "</div>"
      ],
      "text/plain": [
       "                                                    количество среднее  сумма\n",
       "family_groups                                                                \n",
       "не состоявшие в зарегистрированном браке                  6930   9.49%    658\n",
       "состоявшие или состоящие в зарегистрированном б...       14401   7.46%   1074"
      ]
     },
     "execution_count": 25,
     "metadata": {},
     "output_type": "execute_result"
    }
   ],
   "source": [
    "family = data.pivot_table(index=['family_groups'], values='debt', aggfunc=('mean','sum','count'))\n",
    "\n",
    "def percent(i):\n",
    "    return '{0:.2%}'.format(i)\n",
    "\n",
    "family['mean'] = family['mean'].apply(percent)\n",
    "\n",
    "family = family.rename(columns={\n",
    "    'sum': 'сумма',\n",
    "    'count': 'количество',\n",
    "    'mean': 'среднее'\n",
    "})\n",
    "\n",
    "family"
   ]
  },
  {
   "cell_type": "markdown",
   "id": "53ad7138",
   "metadata": {
    "deletable": false,
    "id": "1cef7837"
   },
   "source": [
    "**Вывод:** \n",
    "В таблице мы можем наблюдать разницу в 2.03% между 'не состоявшие в зарегистрированном браке' и 'состоявшие или состоящие в зарегистрированном браке', что в свою очередь является существенным показателем. Следовательно мы можем подтвердить зависимость погашения кредита от семейного положения."
   ]
  },
  {
   "cell_type": "markdown",
   "id": "a717dfd2",
   "metadata": {
    "deletable": false,
    "editable": false,
    "id": "1e8b2fca"
   },
   "source": [
    "#### 3.3 Есть ли зависимость между уровнем дохода и возвратом кредита в срок?"
   ]
  },
  {
   "cell_type": "code",
   "execution_count": 26,
   "id": "fcd42b63",
   "metadata": {
    "deletable": false,
    "id": "cd7e3720"
   },
   "outputs": [
    {
     "data": {
      "text/html": [
       "<div>\n",
       "<style scoped>\n",
       "    .dataframe tbody tr th:only-of-type {\n",
       "        vertical-align: middle;\n",
       "    }\n",
       "\n",
       "    .dataframe tbody tr th {\n",
       "        vertical-align: top;\n",
       "    }\n",
       "\n",
       "    .dataframe thead th {\n",
       "        text-align: right;\n",
       "    }\n",
       "</style>\n",
       "<table border=\"1\" class=\"dataframe\">\n",
       "  <thead>\n",
       "    <tr style=\"text-align: right;\">\n",
       "      <th></th>\n",
       "      <th>сумма</th>\n",
       "      <th>количество</th>\n",
       "      <th>среднее</th>\n",
       "    </tr>\n",
       "    <tr>\n",
       "      <th>total_income_category</th>\n",
       "      <th></th>\n",
       "      <th></th>\n",
       "      <th></th>\n",
       "    </tr>\n",
       "  </thead>\n",
       "  <tbody>\n",
       "    <tr>\n",
       "      <th>A</th>\n",
       "      <td>2</td>\n",
       "      <td>25</td>\n",
       "      <td>8.00%</td>\n",
       "    </tr>\n",
       "    <tr>\n",
       "      <th>B</th>\n",
       "      <td>354</td>\n",
       "      <td>5014</td>\n",
       "      <td>7.06%</td>\n",
       "    </tr>\n",
       "    <tr>\n",
       "      <th>C</th>\n",
       "      <td>1353</td>\n",
       "      <td>15921</td>\n",
       "      <td>8.50%</td>\n",
       "    </tr>\n",
       "    <tr>\n",
       "      <th>D</th>\n",
       "      <td>21</td>\n",
       "      <td>349</td>\n",
       "      <td>6.02%</td>\n",
       "    </tr>\n",
       "    <tr>\n",
       "      <th>E</th>\n",
       "      <td>2</td>\n",
       "      <td>22</td>\n",
       "      <td>9.09%</td>\n",
       "    </tr>\n",
       "  </tbody>\n",
       "</table>\n",
       "</div>"
      ],
      "text/plain": [
       "                       сумма  количество среднее\n",
       "total_income_category                           \n",
       "A                          2          25   8.00%\n",
       "B                        354        5014   7.06%\n",
       "C                       1353       15921   8.50%\n",
       "D                         21         349   6.02%\n",
       "E                          2          22   9.09%"
      ]
     },
     "execution_count": 26,
     "metadata": {},
     "output_type": "execute_result"
    }
   ],
   "source": [
    "income = data.pivot_table(index=['total_income_category'], values='debt', aggfunc=['sum', 'count', 'mean'])\n",
    "income.columns = ['сумма', 'количество', 'среднее']\n",
    "income['среднее'] = [f'{x:.2%}' for x in income['среднее']]\n",
    "\n",
    "income"
   ]
  },
  {
   "cell_type": "markdown",
   "id": "93695f9c",
   "metadata": {
    "deletable": false,
    "id": "e8593def"
   },
   "source": [
    "**Вывод:** \n",
    "Ознакомившись с таблицей мы можем наблюдать две категории граждан: 'B' и 'C' с наибольшим количеством займов.Остальные группы:'A','D','E' можем отбросить из анализа, так как их количество несущественно. Обратившись к таблице мы увидим существенное отличие в количестве кредитуемых граждан: 'С'- 15921 и 'B'- 5014.Помимо этого заёмшики категории 'C' реже заёмщиков категории 'B' оплачивают задолженность вовремя, разница составляет 1.44%. Следовательно мы наблюдаем зависимость от уровня дохода для погашения кредита в срок."
   ]
  },
  {
   "cell_type": "markdown",
   "id": "57c1666f",
   "metadata": {
    "deletable": false,
    "editable": false,
    "id": "99ecbd1f"
   },
   "source": [
    "#### 3.4 Как разные цели кредита влияют на его возврат в срок?"
   ]
  },
  {
   "cell_type": "code",
   "execution_count": 27,
   "id": "82fd0e8e",
   "metadata": {
    "deletable": false,
    "id": "2b687290"
   },
   "outputs": [
    {
     "data": {
      "text/html": [
       "<div>\n",
       "<style scoped>\n",
       "    .dataframe tbody tr th:only-of-type {\n",
       "        vertical-align: middle;\n",
       "    }\n",
       "\n",
       "    .dataframe tbody tr th {\n",
       "        vertical-align: top;\n",
       "    }\n",
       "\n",
       "    .dataframe thead th {\n",
       "        text-align: right;\n",
       "    }\n",
       "</style>\n",
       "<table border=\"1\" class=\"dataframe\">\n",
       "  <thead>\n",
       "    <tr style=\"text-align: right;\">\n",
       "      <th></th>\n",
       "      <th>сумма</th>\n",
       "      <th>количество</th>\n",
       "      <th>среднее</th>\n",
       "    </tr>\n",
       "    <tr>\n",
       "      <th>purpose_category</th>\n",
       "      <th></th>\n",
       "      <th></th>\n",
       "      <th></th>\n",
       "    </tr>\n",
       "  </thead>\n",
       "  <tbody>\n",
       "    <tr>\n",
       "      <th>операции с автомобилем</th>\n",
       "      <td>400</td>\n",
       "      <td>4279</td>\n",
       "      <td>9.35%</td>\n",
       "    </tr>\n",
       "    <tr>\n",
       "      <th>операции с недвижимостью</th>\n",
       "      <td>780</td>\n",
       "      <td>10751</td>\n",
       "      <td>7.26%</td>\n",
       "    </tr>\n",
       "    <tr>\n",
       "      <th>получение образования</th>\n",
       "      <td>369</td>\n",
       "      <td>3988</td>\n",
       "      <td>9.25%</td>\n",
       "    </tr>\n",
       "    <tr>\n",
       "      <th>проведение свадьбы</th>\n",
       "      <td>183</td>\n",
       "      <td>2313</td>\n",
       "      <td>7.91%</td>\n",
       "    </tr>\n",
       "  </tbody>\n",
       "</table>\n",
       "</div>"
      ],
      "text/plain": [
       "                          сумма  количество среднее\n",
       "purpose_category                                   \n",
       "операции с автомобилем      400        4279   9.35%\n",
       "операции с недвижимостью    780       10751   7.26%\n",
       "получение образования       369        3988   9.25%\n",
       "проведение свадьбы          183        2313   7.91%"
      ]
     },
     "execution_count": 27,
     "metadata": {},
     "output_type": "execute_result"
    }
   ],
   "source": [
    "purpose_group = data.pivot_table(index=['purpose_category'], values='debt', aggfunc=['sum', 'count', 'mean'])\n",
    "purpose_group.columns = ['сумма', 'количество', 'среднее']\n",
    "purpose_group['среднее'] = [f'{x:.2%}' for x in purpose_group['среднее']]\n",
    "\n",
    "purpose_group"
   ]
  },
  {
   "cell_type": "markdown",
   "id": "6c9a87a7",
   "metadata": {
    "deletable": false,
    "id": "b4bb2ce6"
   },
   "source": [
    "**Вывод:** \n",
    "Посмотрев на таблицу мы обнаружим,что задолженность по операциям с недвижимостью наименьшая и равна 7.26%.Так же интересной особенностью категории с недвижимостью является большое количество займов, равное 10751,возможно это связано с государственными льготами.Операции с автомобилями имеют самую высокую задолженность и равны 9.35%.Практически аналогичный показатель автомобильным операциям имеет категория взявшая кредит на получение высшего образования - 9.25%."
   ]
  },
  {
   "cell_type": "markdown",
   "id": "51e4fbbb",
   "metadata": {
    "deletable": false,
    "editable": false,
    "id": "09c3ac4c"
   },
   "source": [
    "#### 3.5 Приведите возможные причины появления пропусков в исходных данных."
   ]
  },
  {
   "cell_type": "markdown",
   "id": "cec3b488",
   "metadata": {
    "deletable": false,
    "id": "9da2ceda"
   },
   "source": [
    "*Ответ:*\n",
    "Проанализировав исходные данные были выявлены пропуски в столбцах \"days_employed\" и \"total_income\".Обратившись к таблице полученной методами \"isna\" и \"sum\" было обнаружено одинаковое количество пропусков - 2174, руководствуясь этими данными можем наблюдать корреляцию между \"days_employed\" и \"total_income\".Причиной пропусков в \"days_employed\" может быть отсутствие официального трудоустройства, а следовательно логичны пропуски в \"total_income\"."
   ]
  },
  {
   "cell_type": "markdown",
   "id": "648b7aa3",
   "metadata": {
    "deletable": false,
    "editable": false,
    "id": "7b0487d6"
   },
   "source": [
    "#### 3.6 Объясните, почему заполнить пропуски медианным значением — лучшее решение для количественных переменных."
   ]
  },
  {
   "cell_type": "markdown",
   "id": "38fe2ee2",
   "metadata": {
    "deletable": false,
    "id": "7ecf2b8e"
   },
   "source": [
    "*Ответ:* \n",
    "Медиана, как и среднее значение, нужна для определения типичного значения в наборе данных. Чтобы найти медиану, данные нужно расположить в порядке возрастания. Медианой будет значение, которое совпадает с серединой набора данных. Если количество значений чётное, то берётся среднее двух значений, которые «окружают» середину. Чтобы застраховаться от ошибок, вызванных средним значением, можно применять медианное. Медиана поможет найти именно тот показатель, который ближе всего к истинно среднему. На неё не влияют выбивающиеся из общей массы числа, поэтому она считается одним из самых надёжных и устойчивых показателей. С помощью медианы можно получить более точные данные и правильнее интерпретировать статистику. Например, при расчёте средней заработной платы, когда 19 сотрудников получают по 20 тысяч рублей, а директор — миллион. Среднее арифметическое в этом случае будет равным 69 тысячам рублей, а медиана — 20."
   ]
  },
  {
   "cell_type": "markdown",
   "id": "742865ed",
   "metadata": {
    "deletable": false,
    "editable": false,
    "id": "6db5255a"
   },
   "source": [
    "### Шаг 4: общий вывод."
   ]
  },
  {
   "cell_type": "markdown",
   "id": "02bc620c",
   "metadata": {
    "deletable": false,
    "id": "bad65432"
   },
   "source": [
    "Было проведено исследование,чтобы выявить влияние разных факторов на факт погашения кредита в скрок.Входные данные - статистика о платёжеспособности клиентов.Результаты исследования будут учтены при построении модели кредитного скоринга - специальной системы,которая оценивает способность потенциального заёмщика вернуть кредит банку.\n",
    "\n",
    "Преред проведением исследования были поставлены несколько гипотез:\n",
    "\n",
    "    -Гипотеза 1: количество детей влияет на возврат кредита в срок;\n",
    "    -Гипотеза 2: семейное положение влияет на возврат кредита в срок;\n",
    "    -Гипотеза 1: уровень дохода влияет на возврат кредита в срок;\n",
    "    -Гипотеза 1: цели кредита влияют на возврат кредита в срок.\n",
    "\n",
    "В результате удалость выявить зависимости.\n",
    "\n",
    "**Гипотеза 1 частично подтверждена:** для более точных выводов необходимо больше данных по клиентам с 3,4 и 5 детьми.\n",
    "\n",
    "    -7.54% - доля просроченых кредитов у заёмщиков без детей;\n",
    "    -9.23% - доля просроченых кредитов у заёмщиков у заёмщиков с 1 ребёнком;\n",
    "    -9.45% - доля просроченых кредитов у заёмщиков с 2 детьми.\n",
    "\n",
    "Рекомендация: провести дополнительное исследование на большей выборке данных.\n",
    "\n",
    "**Гипотеза 2 подверждена**\n",
    "\n",
    "У не женатых клиентов(9.76%) и тех у кого официально не зарегестрирован брак(9.31%), выше вероятность неуплаты по кредиту.\n",
    "Те кто в разводе (7.06%), женат/замужем(7.56%) или вдовец/вдова(6.62%), меньше вероятность не выполнить обязательства по кредиту.\n",
    "\n",
    "Из даннного исследования мы можем сделать вывод,что люди состоявшие или состоящие в зарегистрированном браке чаще выплачивают задолженнности по кредиту(7.46%),в сравнении с категорией никогда не состоявшей в зарегестрированном браке(9.49%).\n",
    "\n",
    "**Гипотеза 3 частично подверждена:** для более точных выводов необходимо больше данных по клиентам с уровнем дохода из категорий: 'D'(от 30001 до 50000),'E'(до 30000),'A'(от 1000001).\n",
    "\n",
    "    -7.06% - доля просроченных кредитов у заёмщиков с уровнем дохода от 200001 до 1000000;\n",
    "    -8.50% - доля просроченных кредитов у заёмщиков с уровнем дохода от 50001 до 200000.\n",
    "\n",
    "Рекомендация: провести дополнительное исследование на большей выборке данных.\n",
    "\n",
    "**Гипотеза 4 подтверждена:**\n",
    "\n",
    "    -7.26% - доля просроченных кредитов,целью которых были операции с недвижимостью;\n",
    "    -7.91% - доля просроченных кредитов,целью которых было проведение свадьбы;\n",
    "    -9.35% - доля просроченных кредитов,целью которых были операции с автомобилями;\n",
    "    -9.25% - доля просроченных кредитов,целью которых было получени образования.\n",
    "\n",
    "Из даннного исследования мы можем сделать вывод,что люди берущие кредит на оперции с недвижимостью более ответственно подходят к задолженности(7.26%).Так же люди берущие кредит для проведения свадьбы более ответственно подходят к выполнению своих обязательств(7.91%) в сравнениями с другими категориями: 'операции с автомобилями'(9.35%), 'получени образования'(9.25%).\n",
    "**Общие рекомендации:**\n",
    "1.Специалистам,которые занимаются построением моделикредитного скоринга,можно использовать зависимости из второй и четвёртой гипотезы(семейное положение и цели кредита).\n",
    "2.Необходимо собрать более полную выборку для повторной проверки первой и третьей гипотез."
   ]
  }
 ],
 "metadata": {
  "ExecuteTimeLog": [
   {
    "duration": 465,
    "start_time": "2023-02-14T10:20:08.261Z"
   },
   {
    "duration": 22,
    "start_time": "2023-02-14T10:20:08.728Z"
   },
   {
    "duration": 13,
    "start_time": "2023-02-14T10:20:08.751Z"
   },
   {
    "duration": 10,
    "start_time": "2023-02-14T10:20:08.765Z"
   },
   {
    "duration": 30,
    "start_time": "2023-02-14T10:20:08.776Z"
   },
   {
    "duration": 3,
    "start_time": "2023-02-14T10:20:08.807Z"
   },
   {
    "duration": 10,
    "start_time": "2023-02-14T10:20:08.811Z"
   },
   {
    "duration": 27,
    "start_time": "2023-02-14T10:20:08.822Z"
   },
   {
    "duration": 5,
    "start_time": "2023-02-14T10:20:08.850Z"
   },
   {
    "duration": 4,
    "start_time": "2023-02-14T10:20:08.857Z"
   },
   {
    "duration": 34,
    "start_time": "2023-02-14T10:20:08.863Z"
   },
   {
    "duration": 10,
    "start_time": "2023-02-14T10:20:08.899Z"
   },
   {
    "duration": 4,
    "start_time": "2023-02-14T10:20:08.910Z"
   },
   {
    "duration": 11,
    "start_time": "2023-02-14T10:20:08.947Z"
   },
   {
    "duration": 20,
    "start_time": "2023-02-14T10:20:08.959Z"
   },
   {
    "duration": 16,
    "start_time": "2023-02-14T10:20:08.981Z"
   },
   {
    "duration": 4,
    "start_time": "2023-02-14T10:20:08.998Z"
   },
   {
    "duration": 11,
    "start_time": "2023-02-14T10:20:09.004Z"
   },
   {
    "duration": 32,
    "start_time": "2023-02-14T10:20:09.017Z"
   },
   {
    "duration": 4,
    "start_time": "2023-02-14T10:20:09.051Z"
   },
   {
    "duration": 10,
    "start_time": "2023-02-14T10:20:09.056Z"
   },
   {
    "duration": 26,
    "start_time": "2023-02-14T10:20:09.067Z"
   },
   {
    "duration": 21,
    "start_time": "2023-02-14T10:20:09.094Z"
   },
   {
    "duration": 34,
    "start_time": "2023-02-14T10:20:09.117Z"
   },
   {
    "duration": 33,
    "start_time": "2023-02-14T10:20:09.152Z"
   },
   {
    "duration": 2,
    "start_time": "2023-02-14T10:20:09.187Z"
   },
   {
    "duration": 25,
    "start_time": "2023-02-14T10:20:09.190Z"
   },
   {
    "duration": 34,
    "start_time": "2023-02-14T10:20:09.216Z"
   },
   {
    "duration": 71,
    "start_time": "2023-02-14T10:28:15.704Z"
   },
   {
    "duration": 15,
    "start_time": "2023-02-14T10:28:15.777Z"
   },
   {
    "duration": 16,
    "start_time": "2023-02-14T10:28:15.794Z"
   },
   {
    "duration": 12,
    "start_time": "2023-02-14T10:28:15.813Z"
   },
   {
    "duration": 49,
    "start_time": "2023-02-14T10:28:15.828Z"
   },
   {
    "duration": 3,
    "start_time": "2023-02-14T10:28:15.879Z"
   },
   {
    "duration": 11,
    "start_time": "2023-02-14T10:28:15.883Z"
   },
   {
    "duration": 13,
    "start_time": "2023-02-14T10:28:15.896Z"
   },
   {
    "duration": 6,
    "start_time": "2023-02-14T10:28:15.911Z"
   },
   {
    "duration": 10,
    "start_time": "2023-02-14T10:28:15.921Z"
   },
   {
    "duration": 44,
    "start_time": "2023-02-14T10:28:15.932Z"
   },
   {
    "duration": 10,
    "start_time": "2023-02-14T10:28:15.978Z"
   },
   {
    "duration": 4,
    "start_time": "2023-02-14T10:28:15.989Z"
   },
   {
    "duration": 11,
    "start_time": "2023-02-14T10:28:15.994Z"
   },
   {
    "duration": 19,
    "start_time": "2023-02-14T10:28:16.006Z"
   },
   {
    "duration": 37,
    "start_time": "2023-02-14T10:28:16.026Z"
   },
   {
    "duration": 145,
    "start_time": "2023-02-14T10:28:16.065Z"
   },
   {
    "duration": 17,
    "start_time": "2023-02-14T10:28:16.211Z"
   },
   {
    "duration": 5,
    "start_time": "2023-02-14T10:28:16.230Z"
   },
   {
    "duration": 5,
    "start_time": "2023-02-14T10:28:16.237Z"
   },
   {
    "duration": 12,
    "start_time": "2023-02-14T10:28:16.244Z"
   },
   {
    "duration": 27,
    "start_time": "2023-02-14T10:28:16.258Z"
   },
   {
    "duration": 23,
    "start_time": "2023-02-14T10:28:16.287Z"
   },
   {
    "duration": 9,
    "start_time": "2023-02-14T10:28:16.312Z"
   },
   {
    "duration": 39,
    "start_time": "2023-02-14T10:28:16.322Z"
   },
   {
    "duration": 24,
    "start_time": "2023-02-14T10:28:16.362Z"
   },
   {
    "duration": 27,
    "start_time": "2023-02-14T10:28:16.387Z"
   },
   {
    "duration": 68,
    "start_time": "2023-02-14T10:29:28.701Z"
   },
   {
    "duration": 14,
    "start_time": "2023-02-14T10:29:28.771Z"
   },
   {
    "duration": 22,
    "start_time": "2023-02-14T10:29:28.786Z"
   },
   {
    "duration": 9,
    "start_time": "2023-02-14T10:29:28.810Z"
   },
   {
    "duration": 43,
    "start_time": "2023-02-14T10:29:28.820Z"
   },
   {
    "duration": 4,
    "start_time": "2023-02-14T10:29:28.864Z"
   },
   {
    "duration": 10,
    "start_time": "2023-02-14T10:29:28.870Z"
   },
   {
    "duration": 6,
    "start_time": "2023-02-14T10:29:28.882Z"
   },
   {
    "duration": 8,
    "start_time": "2023-02-14T10:29:28.890Z"
   },
   {
    "duration": 15,
    "start_time": "2023-02-14T10:29:28.900Z"
   },
   {
    "duration": 50,
    "start_time": "2023-02-14T10:29:28.917Z"
   },
   {
    "duration": 10,
    "start_time": "2023-02-14T10:29:28.969Z"
   },
   {
    "duration": 4,
    "start_time": "2023-02-14T10:29:28.981Z"
   },
   {
    "duration": 13,
    "start_time": "2023-02-14T10:29:28.986Z"
   },
   {
    "duration": 17,
    "start_time": "2023-02-14T10:29:29.001Z"
   },
   {
    "duration": 39,
    "start_time": "2023-02-14T10:29:29.019Z"
   },
   {
    "duration": 3,
    "start_time": "2023-02-14T10:29:29.059Z"
   },
   {
    "duration": 13,
    "start_time": "2023-02-14T10:29:29.064Z"
   },
   {
    "duration": 6,
    "start_time": "2023-02-14T10:29:29.078Z"
   },
   {
    "duration": 4,
    "start_time": "2023-02-14T10:29:29.085Z"
   },
   {
    "duration": 10,
    "start_time": "2023-02-14T10:29:29.090Z"
   },
   {
    "duration": 47,
    "start_time": "2023-02-14T10:29:29.102Z"
   },
   {
    "duration": 22,
    "start_time": "2023-02-14T10:29:29.150Z"
   },
   {
    "duration": 8,
    "start_time": "2023-02-14T10:29:29.173Z"
   },
   {
    "duration": 28,
    "start_time": "2023-02-14T10:29:29.182Z"
   },
   {
    "duration": 48,
    "start_time": "2023-02-14T10:29:29.211Z"
   },
   {
    "duration": 26,
    "start_time": "2023-02-14T10:29:29.260Z"
   },
   {
    "duration": 70,
    "start_time": "2023-02-14T10:43:21.872Z"
   },
   {
    "duration": 14,
    "start_time": "2023-02-14T10:43:21.944Z"
   },
   {
    "duration": 17,
    "start_time": "2023-02-14T10:43:21.959Z"
   },
   {
    "duration": 21,
    "start_time": "2023-02-14T10:43:21.978Z"
   },
   {
    "duration": 46,
    "start_time": "2023-02-14T10:43:22.000Z"
   },
   {
    "duration": 4,
    "start_time": "2023-02-14T10:43:22.047Z"
   },
   {
    "duration": 15,
    "start_time": "2023-02-14T10:43:22.052Z"
   },
   {
    "duration": 14,
    "start_time": "2023-02-14T10:43:22.068Z"
   },
   {
    "duration": 11,
    "start_time": "2023-02-14T10:43:22.083Z"
   },
   {
    "duration": 8,
    "start_time": "2023-02-14T10:43:22.096Z"
   },
   {
    "duration": 35,
    "start_time": "2023-02-14T10:43:22.106Z"
   },
   {
    "duration": 9,
    "start_time": "2023-02-14T10:43:22.143Z"
   },
   {
    "duration": 4,
    "start_time": "2023-02-14T10:43:22.153Z"
   },
   {
    "duration": 11,
    "start_time": "2023-02-14T10:43:22.158Z"
   },
   {
    "duration": 18,
    "start_time": "2023-02-14T10:43:22.170Z"
   },
   {
    "duration": 19,
    "start_time": "2023-02-14T10:43:22.190Z"
   },
   {
    "duration": 3,
    "start_time": "2023-02-14T10:43:22.210Z"
   },
   {
    "duration": 33,
    "start_time": "2023-02-14T10:43:22.215Z"
   },
   {
    "duration": 8,
    "start_time": "2023-02-14T10:43:22.249Z"
   },
   {
    "duration": 11,
    "start_time": "2023-02-14T10:43:22.258Z"
   },
   {
    "duration": 9,
    "start_time": "2023-02-14T10:43:22.271Z"
   },
   {
    "duration": 23,
    "start_time": "2023-02-14T10:43:22.281Z"
   },
   {
    "duration": 21,
    "start_time": "2023-02-14T10:43:22.306Z"
   },
   {
    "duration": 26,
    "start_time": "2023-02-14T10:43:22.328Z"
   },
   {
    "duration": 26,
    "start_time": "2023-02-14T10:43:22.355Z"
   },
   {
    "duration": 24,
    "start_time": "2023-02-14T10:43:22.383Z"
   },
   {
    "duration": 44,
    "start_time": "2023-02-14T10:43:22.409Z"
   },
   {
    "duration": 67,
    "start_time": "2023-02-14T10:46:22.632Z"
   },
   {
    "duration": 15,
    "start_time": "2023-02-14T10:46:22.701Z"
   },
   {
    "duration": 15,
    "start_time": "2023-02-14T10:46:22.717Z"
   },
   {
    "duration": 14,
    "start_time": "2023-02-14T10:46:22.734Z"
   },
   {
    "duration": 29,
    "start_time": "2023-02-14T10:46:22.750Z"
   },
   {
    "duration": 3,
    "start_time": "2023-02-14T10:46:22.781Z"
   },
   {
    "duration": 9,
    "start_time": "2023-02-14T10:46:22.785Z"
   },
   {
    "duration": 3,
    "start_time": "2023-02-14T10:46:22.796Z"
   },
   {
    "duration": 6,
    "start_time": "2023-02-14T10:46:22.801Z"
   },
   {
    "duration": 8,
    "start_time": "2023-02-14T10:46:22.809Z"
   },
   {
    "duration": 61,
    "start_time": "2023-02-14T10:46:22.819Z"
   },
   {
    "duration": 14,
    "start_time": "2023-02-14T10:46:22.882Z"
   },
   {
    "duration": 4,
    "start_time": "2023-02-14T10:46:22.897Z"
   },
   {
    "duration": 12,
    "start_time": "2023-02-14T10:46:22.903Z"
   },
   {
    "duration": 36,
    "start_time": "2023-02-14T10:46:22.916Z"
   },
   {
    "duration": 15,
    "start_time": "2023-02-14T10:46:22.954Z"
   },
   {
    "duration": 3,
    "start_time": "2023-02-14T10:46:22.970Z"
   },
   {
    "duration": 12,
    "start_time": "2023-02-14T10:46:22.974Z"
   },
   {
    "duration": 5,
    "start_time": "2023-02-14T10:46:22.987Z"
   },
   {
    "duration": 3,
    "start_time": "2023-02-14T10:46:22.993Z"
   },
   {
    "duration": 11,
    "start_time": "2023-02-14T10:46:22.998Z"
   },
   {
    "duration": 44,
    "start_time": "2023-02-14T10:46:23.011Z"
   },
   {
    "duration": 21,
    "start_time": "2023-02-14T10:46:23.057Z"
   },
   {
    "duration": 8,
    "start_time": "2023-02-14T10:46:23.080Z"
   },
   {
    "duration": 29,
    "start_time": "2023-02-14T10:46:23.089Z"
   },
   {
    "duration": 46,
    "start_time": "2023-02-14T10:46:23.119Z"
   },
   {
    "duration": 25,
    "start_time": "2023-02-14T10:46:23.166Z"
   },
   {
    "duration": 495,
    "start_time": "2023-02-14T20:27:48.228Z"
   },
   {
    "duration": 22,
    "start_time": "2023-02-14T20:27:48.724Z"
   },
   {
    "duration": 14,
    "start_time": "2023-02-14T20:27:48.748Z"
   },
   {
    "duration": 8,
    "start_time": "2023-02-14T20:27:48.764Z"
   },
   {
    "duration": 45,
    "start_time": "2023-02-14T20:27:48.773Z"
   },
   {
    "duration": 3,
    "start_time": "2023-02-14T20:27:48.820Z"
   },
   {
    "duration": 13,
    "start_time": "2023-02-14T20:27:48.825Z"
   },
   {
    "duration": 5,
    "start_time": "2023-02-14T20:27:48.841Z"
   },
   {
    "duration": 8,
    "start_time": "2023-02-14T20:27:48.848Z"
   },
   {
    "duration": 5,
    "start_time": "2023-02-14T20:27:48.862Z"
   },
   {
    "duration": 63,
    "start_time": "2023-02-14T20:27:48.868Z"
   },
   {
    "duration": 9,
    "start_time": "2023-02-14T20:27:48.932Z"
   },
   {
    "duration": 4,
    "start_time": "2023-02-14T20:27:48.943Z"
   },
   {
    "duration": 17,
    "start_time": "2023-02-14T20:27:48.949Z"
   },
   {
    "duration": 41,
    "start_time": "2023-02-14T20:27:48.968Z"
   },
   {
    "duration": 18,
    "start_time": "2023-02-14T20:27:49.011Z"
   },
   {
    "duration": 5,
    "start_time": "2023-02-14T20:27:49.031Z"
   },
   {
    "duration": 20,
    "start_time": "2023-02-14T20:27:49.037Z"
   },
   {
    "duration": 7,
    "start_time": "2023-02-14T20:27:49.059Z"
   },
   {
    "duration": 7,
    "start_time": "2023-02-14T20:27:49.067Z"
   },
   {
    "duration": 32,
    "start_time": "2023-02-14T20:27:49.076Z"
   },
   {
    "duration": 32,
    "start_time": "2023-02-14T20:27:49.109Z"
   },
   {
    "duration": 25,
    "start_time": "2023-02-14T20:27:49.143Z"
   },
   {
    "duration": 34,
    "start_time": "2023-02-14T20:27:49.170Z"
   },
   {
    "duration": 39,
    "start_time": "2023-02-14T20:27:49.206Z"
   },
   {
    "duration": 28,
    "start_time": "2023-02-14T20:27:49.247Z"
   },
   {
    "duration": 52,
    "start_time": "2023-02-14T20:27:49.276Z"
   },
   {
    "duration": 728,
    "start_time": "2023-02-16T04:58:48.569Z"
   },
   {
    "duration": 23,
    "start_time": "2023-02-16T04:58:49.299Z"
   },
   {
    "duration": 14,
    "start_time": "2023-02-16T04:58:49.323Z"
   },
   {
    "duration": 8,
    "start_time": "2023-02-16T04:58:49.340Z"
   },
   {
    "duration": 59,
    "start_time": "2023-02-16T04:58:49.349Z"
   },
   {
    "duration": 3,
    "start_time": "2023-02-16T04:58:49.410Z"
   },
   {
    "duration": 16,
    "start_time": "2023-02-16T04:58:49.414Z"
   },
   {
    "duration": 6,
    "start_time": "2023-02-16T04:58:49.431Z"
   },
   {
    "duration": 9,
    "start_time": "2023-02-16T04:58:49.438Z"
   },
   {
    "duration": 4,
    "start_time": "2023-02-16T04:58:49.451Z"
   },
   {
    "duration": 62,
    "start_time": "2023-02-16T04:58:49.457Z"
   },
   {
    "duration": 10,
    "start_time": "2023-02-16T04:58:49.522Z"
   },
   {
    "duration": 10,
    "start_time": "2023-02-16T04:58:49.534Z"
   },
   {
    "duration": 15,
    "start_time": "2023-02-16T04:58:49.545Z"
   },
   {
    "duration": 48,
    "start_time": "2023-02-16T04:58:49.562Z"
   },
   {
    "duration": 18,
    "start_time": "2023-02-16T04:58:49.612Z"
   },
   {
    "duration": 4,
    "start_time": "2023-02-16T04:58:49.631Z"
   },
   {
    "duration": 12,
    "start_time": "2023-02-16T04:58:49.637Z"
   },
   {
    "duration": 41,
    "start_time": "2023-02-16T04:58:49.650Z"
   },
   {
    "duration": 4,
    "start_time": "2023-02-16T04:58:49.694Z"
   },
   {
    "duration": 14,
    "start_time": "2023-02-16T04:58:49.700Z"
   },
   {
    "duration": 31,
    "start_time": "2023-02-16T04:58:49.715Z"
   },
   {
    "duration": 48,
    "start_time": "2023-02-16T04:58:49.747Z"
   },
   {
    "duration": 9,
    "start_time": "2023-02-16T04:58:49.797Z"
   },
   {
    "duration": 39,
    "start_time": "2023-02-16T04:58:49.808Z"
   },
   {
    "duration": 49,
    "start_time": "2023-02-16T04:58:49.849Z"
   },
   {
    "duration": 31,
    "start_time": "2023-02-16T04:58:49.900Z"
   },
   {
    "duration": 78,
    "start_time": "2023-02-16T05:00:06.768Z"
   },
   {
    "duration": 17,
    "start_time": "2023-02-16T05:00:06.849Z"
   },
   {
    "duration": 27,
    "start_time": "2023-02-16T05:00:06.868Z"
   },
   {
    "duration": 14,
    "start_time": "2023-02-16T05:00:06.897Z"
   },
   {
    "duration": 61,
    "start_time": "2023-02-16T05:00:06.913Z"
   },
   {
    "duration": 3,
    "start_time": "2023-02-16T05:00:06.976Z"
   },
   {
    "duration": 46,
    "start_time": "2023-02-16T05:00:06.981Z"
   },
   {
    "duration": 13,
    "start_time": "2023-02-16T05:00:07.029Z"
   },
   {
    "duration": 23,
    "start_time": "2023-02-16T05:00:07.044Z"
   },
   {
    "duration": 23,
    "start_time": "2023-02-16T05:00:07.070Z"
   },
   {
    "duration": 59,
    "start_time": "2023-02-16T05:00:07.094Z"
   },
   {
    "duration": 14,
    "start_time": "2023-02-16T05:00:07.154Z"
   },
   {
    "duration": 45,
    "start_time": "2023-02-16T05:00:07.169Z"
   },
   {
    "duration": 39,
    "start_time": "2023-02-16T05:00:07.217Z"
   },
   {
    "duration": 29,
    "start_time": "2023-02-16T05:00:07.258Z"
   },
   {
    "duration": 19,
    "start_time": "2023-02-16T05:00:07.289Z"
   },
   {
    "duration": 5,
    "start_time": "2023-02-16T05:00:07.310Z"
   },
   {
    "duration": 48,
    "start_time": "2023-02-16T05:00:07.317Z"
   },
   {
    "duration": 9,
    "start_time": "2023-02-16T05:00:07.367Z"
   },
   {
    "duration": 18,
    "start_time": "2023-02-16T05:00:07.379Z"
   },
   {
    "duration": 24,
    "start_time": "2023-02-16T05:00:07.400Z"
   },
   {
    "duration": 31,
    "start_time": "2023-02-16T05:00:07.426Z"
   },
   {
    "duration": 34,
    "start_time": "2023-02-16T05:00:07.459Z"
   },
   {
    "duration": 10,
    "start_time": "2023-02-16T05:00:07.495Z"
   },
   {
    "duration": 62,
    "start_time": "2023-02-16T05:00:07.507Z"
   },
   {
    "duration": 30,
    "start_time": "2023-02-16T05:00:07.572Z"
   },
   {
    "duration": 30,
    "start_time": "2023-02-16T05:00:07.603Z"
   },
   {
    "duration": 69,
    "start_time": "2023-02-16T05:00:41.382Z"
   },
   {
    "duration": 17,
    "start_time": "2023-02-16T05:00:41.453Z"
   },
   {
    "duration": 23,
    "start_time": "2023-02-16T05:00:41.472Z"
   },
   {
    "duration": 10,
    "start_time": "2023-02-16T05:00:41.497Z"
   },
   {
    "duration": 37,
    "start_time": "2023-02-16T05:00:41.508Z"
   },
   {
    "duration": 4,
    "start_time": "2023-02-16T05:00:41.546Z"
   },
   {
    "duration": 12,
    "start_time": "2023-02-16T05:00:41.551Z"
   },
   {
    "duration": 5,
    "start_time": "2023-02-16T05:00:41.593Z"
   },
   {
    "duration": 8,
    "start_time": "2023-02-16T05:00:41.600Z"
   },
   {
    "duration": 7,
    "start_time": "2023-02-16T05:00:41.611Z"
   },
   {
    "duration": 42,
    "start_time": "2023-02-16T05:00:41.620Z"
   },
   {
    "duration": 35,
    "start_time": "2023-02-16T05:00:41.664Z"
   },
   {
    "duration": 5,
    "start_time": "2023-02-16T05:00:41.701Z"
   },
   {
    "duration": 14,
    "start_time": "2023-02-16T05:00:41.707Z"
   },
   {
    "duration": 22,
    "start_time": "2023-02-16T05:00:41.722Z"
   },
   {
    "duration": 50,
    "start_time": "2023-02-16T05:00:41.745Z"
   },
   {
    "duration": 3,
    "start_time": "2023-02-16T05:00:41.797Z"
   },
   {
    "duration": 12,
    "start_time": "2023-02-16T05:00:41.802Z"
   },
   {
    "duration": 5,
    "start_time": "2023-02-16T05:00:41.816Z"
   },
   {
    "duration": 3,
    "start_time": "2023-02-16T05:00:41.823Z"
   },
   {
    "duration": 13,
    "start_time": "2023-02-16T05:00:41.828Z"
   },
   {
    "duration": 57,
    "start_time": "2023-02-16T05:00:41.842Z"
   },
   {
    "duration": 25,
    "start_time": "2023-02-16T05:00:41.901Z"
   },
   {
    "duration": 9,
    "start_time": "2023-02-16T05:00:41.928Z"
   },
   {
    "duration": 55,
    "start_time": "2023-02-16T05:00:41.938Z"
   },
   {
    "duration": 27,
    "start_time": "2023-02-16T05:00:41.995Z"
   },
   {
    "duration": 28,
    "start_time": "2023-02-16T05:00:42.024Z"
   },
   {
    "duration": 80,
    "start_time": "2023-02-16T05:01:37.385Z"
   },
   {
    "duration": 15,
    "start_time": "2023-02-16T05:01:37.467Z"
   },
   {
    "duration": 22,
    "start_time": "2023-02-16T05:01:37.483Z"
   },
   {
    "duration": 10,
    "start_time": "2023-02-16T05:01:37.508Z"
   },
   {
    "duration": 33,
    "start_time": "2023-02-16T05:01:37.520Z"
   },
   {
    "duration": 3,
    "start_time": "2023-02-16T05:01:37.555Z"
   },
   {
    "duration": 44,
    "start_time": "2023-02-16T05:01:37.560Z"
   },
   {
    "duration": 5,
    "start_time": "2023-02-16T05:01:37.606Z"
   },
   {
    "duration": 10,
    "start_time": "2023-02-16T05:01:37.612Z"
   },
   {
    "duration": 5,
    "start_time": "2023-02-16T05:01:37.625Z"
   },
   {
    "duration": 61,
    "start_time": "2023-02-16T05:01:37.631Z"
   },
   {
    "duration": 10,
    "start_time": "2023-02-16T05:01:37.693Z"
   },
   {
    "duration": 16,
    "start_time": "2023-02-16T05:01:37.705Z"
   },
   {
    "duration": 15,
    "start_time": "2023-02-16T05:01:37.722Z"
   },
   {
    "duration": 25,
    "start_time": "2023-02-16T05:01:37.739Z"
   },
   {
    "duration": 38,
    "start_time": "2023-02-16T05:01:37.765Z"
   },
   {
    "duration": 4,
    "start_time": "2023-02-16T05:01:37.805Z"
   },
   {
    "duration": 14,
    "start_time": "2023-02-16T05:01:37.810Z"
   },
   {
    "duration": 8,
    "start_time": "2023-02-16T05:01:37.826Z"
   },
   {
    "duration": 4,
    "start_time": "2023-02-16T05:01:37.835Z"
   },
   {
    "duration": 30,
    "start_time": "2023-02-16T05:01:37.841Z"
   },
   {
    "duration": 53,
    "start_time": "2023-02-16T05:01:37.874Z"
   },
   {
    "duration": 25,
    "start_time": "2023-02-16T05:01:37.929Z"
   },
   {
    "duration": 39,
    "start_time": "2023-02-16T05:01:37.956Z"
   },
   {
    "duration": 37,
    "start_time": "2023-02-16T05:01:37.998Z"
   },
   {
    "duration": 26,
    "start_time": "2023-02-16T05:01:38.037Z"
   },
   {
    "duration": 52,
    "start_time": "2023-02-16T05:01:38.065Z"
   },
   {
    "duration": 72,
    "start_time": "2023-02-16T05:02:59.125Z"
   },
   {
    "duration": 17,
    "start_time": "2023-02-16T05:02:59.199Z"
   },
   {
    "duration": 212,
    "start_time": "2023-02-16T05:02:59.218Z"
   },
   {
    "duration": 10,
    "start_time": "2023-02-16T05:02:59.432Z"
   },
   {
    "duration": 37,
    "start_time": "2023-02-16T05:02:59.444Z"
   },
   {
    "duration": 4,
    "start_time": "2023-02-16T05:02:59.483Z"
   },
   {
    "duration": 14,
    "start_time": "2023-02-16T05:02:59.489Z"
   },
   {
    "duration": 6,
    "start_time": "2023-02-16T05:02:59.506Z"
   },
   {
    "duration": 6,
    "start_time": "2023-02-16T05:02:59.514Z"
   },
   {
    "duration": 6,
    "start_time": "2023-02-16T05:02:59.522Z"
   },
   {
    "duration": 34,
    "start_time": "2023-02-16T05:02:59.529Z"
   },
   {
    "duration": 36,
    "start_time": "2023-02-16T05:02:59.565Z"
   },
   {
    "duration": 7,
    "start_time": "2023-02-16T05:02:59.603Z"
   },
   {
    "duration": 17,
    "start_time": "2023-02-16T05:02:59.612Z"
   },
   {
    "duration": 25,
    "start_time": "2023-02-16T05:02:59.630Z"
   },
   {
    "duration": 53,
    "start_time": "2023-02-16T05:02:59.657Z"
   },
   {
    "duration": 4,
    "start_time": "2023-02-16T05:02:59.712Z"
   },
   {
    "duration": 13,
    "start_time": "2023-02-16T05:02:59.718Z"
   },
   {
    "duration": 8,
    "start_time": "2023-02-16T05:02:59.733Z"
   },
   {
    "duration": 7,
    "start_time": "2023-02-16T05:02:59.743Z"
   },
   {
    "duration": 55,
    "start_time": "2023-02-16T05:02:59.751Z"
   },
   {
    "duration": 27,
    "start_time": "2023-02-16T05:02:59.808Z"
   },
   {
    "duration": 26,
    "start_time": "2023-02-16T05:02:59.837Z"
   },
   {
    "duration": 39,
    "start_time": "2023-02-16T05:02:59.865Z"
   },
   {
    "duration": 40,
    "start_time": "2023-02-16T05:02:59.905Z"
   },
   {
    "duration": 70,
    "start_time": "2023-02-16T05:02:59.947Z"
   },
   {
    "duration": 31,
    "start_time": "2023-02-16T05:03:00.019Z"
   },
   {
    "duration": 83,
    "start_time": "2023-02-16T05:03:33.503Z"
   },
   {
    "duration": 16,
    "start_time": "2023-02-16T05:03:33.588Z"
   },
   {
    "duration": 18,
    "start_time": "2023-02-16T05:03:33.606Z"
   },
   {
    "duration": 11,
    "start_time": "2023-02-16T05:03:33.626Z"
   },
   {
    "duration": 71,
    "start_time": "2023-02-16T05:03:33.639Z"
   },
   {
    "duration": 3,
    "start_time": "2023-02-16T05:03:33.712Z"
   },
   {
    "duration": 11,
    "start_time": "2023-02-16T05:03:33.717Z"
   },
   {
    "duration": 4,
    "start_time": "2023-02-16T05:03:33.729Z"
   },
   {
    "duration": 10,
    "start_time": "2023-02-16T05:03:33.735Z"
   },
   {
    "duration": 4,
    "start_time": "2023-02-16T05:03:33.746Z"
   },
   {
    "duration": 63,
    "start_time": "2023-02-16T05:03:33.752Z"
   },
   {
    "duration": 9,
    "start_time": "2023-02-16T05:03:33.816Z"
   },
   {
    "duration": 4,
    "start_time": "2023-02-16T05:03:33.827Z"
   },
   {
    "duration": 12,
    "start_time": "2023-02-16T05:03:33.834Z"
   },
   {
    "duration": 46,
    "start_time": "2023-02-16T05:03:33.848Z"
   },
   {
    "duration": 29,
    "start_time": "2023-02-16T05:03:33.897Z"
   },
   {
    "duration": 5,
    "start_time": "2023-02-16T05:03:33.929Z"
   },
   {
    "duration": 18,
    "start_time": "2023-02-16T05:03:33.935Z"
   },
   {
    "duration": 10,
    "start_time": "2023-02-16T05:03:33.955Z"
   },
   {
    "duration": 4,
    "start_time": "2023-02-16T05:03:33.991Z"
   },
   {
    "duration": 16,
    "start_time": "2023-02-16T05:03:33.997Z"
   },
   {
    "duration": 27,
    "start_time": "2023-02-16T05:03:34.015Z"
   },
   {
    "duration": 49,
    "start_time": "2023-02-16T05:03:34.044Z"
   },
   {
    "duration": 10,
    "start_time": "2023-02-16T05:03:34.095Z"
   },
   {
    "duration": 44,
    "start_time": "2023-02-16T05:03:34.107Z"
   },
   {
    "duration": 48,
    "start_time": "2023-02-16T05:03:34.153Z"
   },
   {
    "duration": 31,
    "start_time": "2023-02-16T05:03:34.204Z"
   },
   {
    "duration": 71,
    "start_time": "2023-02-16T05:04:27.355Z"
   },
   {
    "duration": 16,
    "start_time": "2023-02-16T05:04:27.428Z"
   },
   {
    "duration": 46,
    "start_time": "2023-02-16T05:04:27.446Z"
   },
   {
    "duration": 15,
    "start_time": "2023-02-16T05:04:27.496Z"
   },
   {
    "duration": 42,
    "start_time": "2023-02-16T05:04:27.514Z"
   },
   {
    "duration": 4,
    "start_time": "2023-02-16T05:04:27.558Z"
   },
   {
    "duration": 34,
    "start_time": "2023-02-16T05:04:27.563Z"
   },
   {
    "duration": 5,
    "start_time": "2023-02-16T05:04:27.600Z"
   },
   {
    "duration": 11,
    "start_time": "2023-02-16T05:04:27.607Z"
   },
   {
    "duration": 8,
    "start_time": "2023-02-16T05:04:27.621Z"
   },
   {
    "duration": 69,
    "start_time": "2023-02-16T05:04:27.631Z"
   },
   {
    "duration": 10,
    "start_time": "2023-02-16T05:04:27.701Z"
   },
   {
    "duration": 8,
    "start_time": "2023-02-16T05:04:27.713Z"
   },
   {
    "duration": 13,
    "start_time": "2023-02-16T05:04:27.722Z"
   },
   {
    "duration": 18,
    "start_time": "2023-02-16T05:04:27.737Z"
   },
   {
    "duration": 46,
    "start_time": "2023-02-16T05:04:27.756Z"
   },
   {
    "duration": 3,
    "start_time": "2023-02-16T05:04:27.804Z"
   },
   {
    "duration": 18,
    "start_time": "2023-02-16T05:04:27.809Z"
   },
   {
    "duration": 8,
    "start_time": "2023-02-16T05:04:27.829Z"
   },
   {
    "duration": 6,
    "start_time": "2023-02-16T05:04:27.840Z"
   },
   {
    "duration": 12,
    "start_time": "2023-02-16T05:04:27.848Z"
   },
   {
    "duration": 26,
    "start_time": "2023-02-16T05:04:27.893Z"
   },
   {
    "duration": 41,
    "start_time": "2023-02-16T05:04:27.922Z"
   },
   {
    "duration": 35,
    "start_time": "2023-02-16T05:04:27.966Z"
   },
   {
    "duration": 62,
    "start_time": "2023-02-16T05:04:28.003Z"
   },
   {
    "duration": 25,
    "start_time": "2023-02-16T05:04:28.067Z"
   },
   {
    "duration": 63,
    "start_time": "2023-02-16T05:04:28.093Z"
   },
   {
    "duration": 72,
    "start_time": "2023-02-16T05:04:53.047Z"
   },
   {
    "duration": 18,
    "start_time": "2023-02-16T05:04:53.121Z"
   },
   {
    "duration": 29,
    "start_time": "2023-02-16T05:04:53.142Z"
   },
   {
    "duration": 18,
    "start_time": "2023-02-16T05:04:53.174Z"
   },
   {
    "duration": 41,
    "start_time": "2023-02-16T05:04:53.194Z"
   },
   {
    "duration": 4,
    "start_time": "2023-02-16T05:04:53.237Z"
   },
   {
    "duration": 30,
    "start_time": "2023-02-16T05:04:53.242Z"
   },
   {
    "duration": 16,
    "start_time": "2023-02-16T05:04:53.275Z"
   },
   {
    "duration": 18,
    "start_time": "2023-02-16T05:04:53.294Z"
   },
   {
    "duration": 19,
    "start_time": "2023-02-16T05:04:53.316Z"
   },
   {
    "duration": 59,
    "start_time": "2023-02-16T05:04:53.338Z"
   },
   {
    "duration": 14,
    "start_time": "2023-02-16T05:04:53.400Z"
   },
   {
    "duration": 4,
    "start_time": "2023-02-16T05:04:53.416Z"
   },
   {
    "duration": 22,
    "start_time": "2023-02-16T05:04:53.422Z"
   },
   {
    "duration": 46,
    "start_time": "2023-02-16T05:04:53.447Z"
   },
   {
    "duration": 30,
    "start_time": "2023-02-16T05:04:53.495Z"
   },
   {
    "duration": 5,
    "start_time": "2023-02-16T05:04:53.528Z"
   },
   {
    "duration": 27,
    "start_time": "2023-02-16T05:04:53.536Z"
   },
   {
    "duration": 29,
    "start_time": "2023-02-16T05:04:53.565Z"
   },
   {
    "duration": 4,
    "start_time": "2023-02-16T05:04:53.596Z"
   },
   {
    "duration": 23,
    "start_time": "2023-02-16T05:04:53.602Z"
   },
   {
    "duration": 36,
    "start_time": "2023-02-16T05:04:53.628Z"
   },
   {
    "duration": 36,
    "start_time": "2023-02-16T05:04:53.666Z"
   },
   {
    "duration": 9,
    "start_time": "2023-02-16T05:04:53.704Z"
   },
   {
    "duration": 54,
    "start_time": "2023-02-16T05:04:53.714Z"
   },
   {
    "duration": 52,
    "start_time": "2023-02-16T05:04:53.770Z"
   },
   {
    "duration": 30,
    "start_time": "2023-02-16T05:04:53.824Z"
   },
   {
    "duration": 76,
    "start_time": "2023-02-16T05:05:16.734Z"
   },
   {
    "duration": 44,
    "start_time": "2023-02-16T05:05:16.813Z"
   },
   {
    "duration": 27,
    "start_time": "2023-02-16T05:05:16.860Z"
   },
   {
    "duration": 16,
    "start_time": "2023-02-16T05:05:16.890Z"
   },
   {
    "duration": 63,
    "start_time": "2023-02-16T05:05:16.910Z"
   },
   {
    "duration": 6,
    "start_time": "2023-02-16T05:05:16.976Z"
   },
   {
    "duration": 15,
    "start_time": "2023-02-16T05:05:16.985Z"
   },
   {
    "duration": 18,
    "start_time": "2023-02-16T05:05:17.002Z"
   },
   {
    "duration": 25,
    "start_time": "2023-02-16T05:05:17.023Z"
   },
   {
    "duration": 12,
    "start_time": "2023-02-16T05:05:17.051Z"
   },
   {
    "duration": 57,
    "start_time": "2023-02-16T05:05:17.065Z"
   },
   {
    "duration": 9,
    "start_time": "2023-02-16T05:05:17.124Z"
   },
   {
    "duration": 8,
    "start_time": "2023-02-16T05:05:17.135Z"
   },
   {
    "duration": 11,
    "start_time": "2023-02-16T05:05:17.146Z"
   },
   {
    "duration": 55,
    "start_time": "2023-02-16T05:05:17.159Z"
   },
   {
    "duration": 21,
    "start_time": "2023-02-16T05:05:17.216Z"
   },
   {
    "duration": 4,
    "start_time": "2023-02-16T05:05:17.239Z"
   },
   {
    "duration": 20,
    "start_time": "2023-02-16T05:05:17.246Z"
   },
   {
    "duration": 9,
    "start_time": "2023-02-16T05:05:17.293Z"
   },
   {
    "duration": 8,
    "start_time": "2023-02-16T05:05:17.304Z"
   },
   {
    "duration": 20,
    "start_time": "2023-02-16T05:05:17.313Z"
   },
   {
    "duration": 33,
    "start_time": "2023-02-16T05:05:17.335Z"
   },
   {
    "duration": 46,
    "start_time": "2023-02-16T05:05:17.370Z"
   },
   {
    "duration": 16,
    "start_time": "2023-02-16T05:05:17.419Z"
   },
   {
    "duration": 65,
    "start_time": "2023-02-16T05:05:17.438Z"
   },
   {
    "duration": 47,
    "start_time": "2023-02-16T05:05:17.505Z"
   },
   {
    "duration": 70,
    "start_time": "2023-02-16T05:05:17.555Z"
   },
   {
    "duration": 67,
    "start_time": "2023-02-16T05:06:22.983Z"
   },
   {
    "duration": 16,
    "start_time": "2023-02-16T05:06:23.052Z"
   },
   {
    "duration": 23,
    "start_time": "2023-02-16T05:06:23.069Z"
   },
   {
    "duration": 9,
    "start_time": "2023-02-16T05:06:23.094Z"
   },
   {
    "duration": 30,
    "start_time": "2023-02-16T05:06:23.105Z"
   },
   {
    "duration": 3,
    "start_time": "2023-02-16T05:06:23.136Z"
   },
   {
    "duration": 15,
    "start_time": "2023-02-16T05:06:23.141Z"
   },
   {
    "duration": 35,
    "start_time": "2023-02-16T05:06:23.158Z"
   },
   {
    "duration": 9,
    "start_time": "2023-02-16T05:06:23.195Z"
   },
   {
    "duration": 6,
    "start_time": "2023-02-16T05:06:23.206Z"
   },
   {
    "duration": 36,
    "start_time": "2023-02-16T05:06:23.214Z"
   },
   {
    "duration": 41,
    "start_time": "2023-02-16T05:06:23.252Z"
   },
   {
    "duration": 4,
    "start_time": "2023-02-16T05:06:23.295Z"
   },
   {
    "duration": 11,
    "start_time": "2023-02-16T05:06:23.302Z"
   },
   {
    "duration": 20,
    "start_time": "2023-02-16T05:06:23.315Z"
   },
   {
    "duration": 17,
    "start_time": "2023-02-16T05:06:23.337Z"
   },
   {
    "duration": 36,
    "start_time": "2023-02-16T05:06:23.356Z"
   },
   {
    "duration": 15,
    "start_time": "2023-02-16T05:06:23.394Z"
   },
   {
    "duration": 19,
    "start_time": "2023-02-16T05:06:23.411Z"
   },
   {
    "duration": 11,
    "start_time": "2023-02-16T05:06:23.432Z"
   },
   {
    "duration": 12,
    "start_time": "2023-02-16T05:06:23.445Z"
   },
   {
    "duration": 38,
    "start_time": "2023-02-16T05:06:23.459Z"
   },
   {
    "duration": 23,
    "start_time": "2023-02-16T05:06:23.499Z"
   },
   {
    "duration": 9,
    "start_time": "2023-02-16T05:06:23.523Z"
   },
   {
    "duration": 33,
    "start_time": "2023-02-16T05:06:23.533Z"
   },
   {
    "duration": 48,
    "start_time": "2023-02-16T05:06:23.568Z"
   },
   {
    "duration": 27,
    "start_time": "2023-02-16T05:06:23.618Z"
   },
   {
    "duration": 70,
    "start_time": "2023-02-16T05:22:35.553Z"
   },
   {
    "duration": 15,
    "start_time": "2023-02-16T05:22:35.625Z"
   },
   {
    "duration": 21,
    "start_time": "2023-02-16T05:22:35.642Z"
   },
   {
    "duration": 10,
    "start_time": "2023-02-16T05:22:35.665Z"
   },
   {
    "duration": 49,
    "start_time": "2023-02-16T05:22:35.676Z"
   },
   {
    "duration": 3,
    "start_time": "2023-02-16T05:22:35.727Z"
   },
   {
    "duration": 11,
    "start_time": "2023-02-16T05:22:35.732Z"
   },
   {
    "duration": 4,
    "start_time": "2023-02-16T05:22:35.745Z"
   },
   {
    "duration": 10,
    "start_time": "2023-02-16T05:22:35.751Z"
   },
   {
    "duration": 6,
    "start_time": "2023-02-16T05:22:35.791Z"
   },
   {
    "duration": 34,
    "start_time": "2023-02-16T05:22:35.799Z"
   },
   {
    "duration": 11,
    "start_time": "2023-02-16T05:22:35.835Z"
   },
   {
    "duration": 4,
    "start_time": "2023-02-16T05:22:35.848Z"
   },
   {
    "duration": 17,
    "start_time": "2023-02-16T05:22:35.892Z"
   },
   {
    "duration": 31,
    "start_time": "2023-02-16T05:22:35.912Z"
   },
   {
    "duration": 21,
    "start_time": "2023-02-16T05:22:35.946Z"
   },
   {
    "duration": 27,
    "start_time": "2023-02-16T05:22:35.969Z"
   },
   {
    "duration": 21,
    "start_time": "2023-02-16T05:22:35.998Z"
   },
   {
    "duration": 20,
    "start_time": "2023-02-16T05:22:36.022Z"
   },
   {
    "duration": 9,
    "start_time": "2023-02-16T05:22:36.045Z"
   },
   {
    "duration": 20,
    "start_time": "2023-02-16T05:22:36.056Z"
   },
   {
    "duration": 47,
    "start_time": "2023-02-16T05:22:36.078Z"
   },
   {
    "duration": 33,
    "start_time": "2023-02-16T05:22:36.127Z"
   },
   {
    "duration": 32,
    "start_time": "2023-02-16T05:22:36.162Z"
   },
   {
    "duration": 31,
    "start_time": "2023-02-16T05:22:36.196Z"
   },
   {
    "duration": 31,
    "start_time": "2023-02-16T05:22:36.229Z"
   },
   {
    "duration": 57,
    "start_time": "2023-02-16T05:22:36.262Z"
   },
   {
    "duration": 463,
    "start_time": "2023-02-16T15:42:59.842Z"
   },
   {
    "duration": 22,
    "start_time": "2023-02-16T15:43:00.307Z"
   },
   {
    "duration": 31,
    "start_time": "2023-02-16T15:43:00.331Z"
   },
   {
    "duration": 10,
    "start_time": "2023-02-16T15:43:00.363Z"
   },
   {
    "duration": 58,
    "start_time": "2023-02-16T15:43:00.377Z"
   },
   {
    "duration": 3,
    "start_time": "2023-02-16T15:43:00.437Z"
   },
   {
    "duration": 49,
    "start_time": "2023-02-16T15:43:00.442Z"
   },
   {
    "duration": 32,
    "start_time": "2023-02-16T15:43:00.493Z"
   },
   {
    "duration": 39,
    "start_time": "2023-02-16T15:43:00.527Z"
   },
   {
    "duration": 57,
    "start_time": "2023-02-16T15:43:00.568Z"
   },
   {
    "duration": 76,
    "start_time": "2023-02-16T15:43:00.627Z"
   },
   {
    "duration": 36,
    "start_time": "2023-02-16T15:43:00.705Z"
   },
   {
    "duration": 44,
    "start_time": "2023-02-16T15:43:00.743Z"
   },
   {
    "duration": 34,
    "start_time": "2023-02-16T15:43:00.790Z"
   },
   {
    "duration": 50,
    "start_time": "2023-02-16T15:43:00.826Z"
   },
   {
    "duration": 21,
    "start_time": "2023-02-16T15:43:00.878Z"
   },
   {
    "duration": 13,
    "start_time": "2023-02-16T15:43:00.901Z"
   },
   {
    "duration": 35,
    "start_time": "2023-02-16T15:43:00.915Z"
   },
   {
    "duration": 17,
    "start_time": "2023-02-16T15:43:00.952Z"
   },
   {
    "duration": 35,
    "start_time": "2023-02-16T15:43:00.971Z"
   },
   {
    "duration": 30,
    "start_time": "2023-02-16T15:43:01.007Z"
   },
   {
    "duration": 54,
    "start_time": "2023-02-16T15:43:01.039Z"
   },
   {
    "duration": 53,
    "start_time": "2023-02-16T15:43:01.095Z"
   },
   {
    "duration": 44,
    "start_time": "2023-02-16T15:43:01.150Z"
   },
   {
    "duration": 50,
    "start_time": "2023-02-16T15:43:01.196Z"
   },
   {
    "duration": 31,
    "start_time": "2023-02-16T15:43:01.247Z"
   },
   {
    "duration": 35,
    "start_time": "2023-02-16T15:43:01.279Z"
   }
  ],
  "colab": {
   "name": "dpp_template_part2.ipynb",
   "provenance": []
  },
  "kernelspec": {
   "display_name": "Python 3 (ipykernel)",
   "language": "python",
   "name": "python3"
  },
  "language_info": {
   "codemirror_mode": {
    "name": "ipython",
    "version": 3
   },
   "file_extension": ".py",
   "mimetype": "text/x-python",
   "name": "python",
   "nbconvert_exporter": "python",
   "pygments_lexer": "ipython3",
   "version": "3.11.4"
  },
  "toc": {
   "base_numbering": 1,
   "nav_menu": {},
   "number_sections": true,
   "sideBar": true,
   "skip_h1_title": true,
   "title_cell": "Table of Contents",
   "title_sidebar": "Contents",
   "toc_cell": false,
   "toc_position": {
    "height": "calc(100% - 180px)",
    "left": "10px",
    "top": "150px",
    "width": "165px"
   },
   "toc_section_display": true,
   "toc_window_display": true
  }
 },
 "nbformat": 4,
 "nbformat_minor": 5
}
