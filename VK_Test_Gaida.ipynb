{
 "cells": [
  {
   "cell_type": "markdown",
   "id": "cf4af4aa",
   "metadata": {},
   "source": [
    "# Анализ качества поиска в VK Видео"
   ]
  },
  {
   "cell_type": "markdown",
   "id": "0624fe59",
   "metadata": {},
   "source": [
    "## Цель:\n",
    "- Найти точки роста продукта: в каких случаях поиск показывает плохое качество?\n",
    "- Используя визуализацию показать проблемные случаи\n",
    "- Сформулировать краткие выводы на основе анализа"
   ]
  },
  {
   "cell_type": "markdown",
   "id": "19be0cae",
   "metadata": {},
   "source": [
    "## Описание данных \n",
    "- user_id - идентификатор пользователя;\n",
    "- sex - пол пользователя;\n",
    "- age - возраст пользователя;\n",
    "- platform - платформа;\n",
    "- query_id - идентификатор поиска;\n",
    "- query_text - текст введённого запроса пользователем;\n",
    "- query_type - к какой теме относится запрос поиска: фильмы, шоу, новости или музыка;\n",
    "- event - название события(действия, которое совершает пользователь), может принимать следующие значени:\n",
    " - tap - кликна айтем в выдаче поиска\n",
    " - like - поставил лайк\n",
    " - subscribe - подписка на автора\n",
    " - viev - просмотр видео/клипа/плейлиста\n",
    " - share - поделиться в сообщество/другу\n",
    " - search - событие поиска\n",
    " - click_position - позиция документа в выдаче поиска по которому совершенно событие (1 - первый элемент выдачи);\n",
    "- doc_type - тип документа по которому совершенно событие: клипы, видео, плейлисты, автор;\n",
    "- view_time - время просмотра видео/клипа/плейлиста."
   ]
  },
  {
   "cell_type": "markdown",
   "id": "2691e2ce",
   "metadata": {},
   "source": [
    "## Загрузка библиотек и данных \n",
    "В этом блоке мы загружаем CSV-файл с данными о взаимодействии пользователей с поиском VK Видео, а также выполняем первичный обзор структуры таблицы: смотрим типы данных, первые строки и пропуски."
   ]
  },
  {
   "cell_type": "code",
   "execution_count": 1,
   "id": "a42c9cf8",
   "metadata": {},
   "outputs": [],
   "source": [
    "import pandas as pd\n",
    "import seaborn as sns\n",
    "import matplotlib.pyplot as plt\n",
    "\n",
    "df = pd.read_csv(\"https://davmedia.test.tech-mail.ru/editor_uploads/2025/04/03/analytics_test.csv\")\n"
   ]
  },
  {
   "cell_type": "markdown",
   "id": "5561fe1f",
   "metadata": {},
   "source": [
    "Ознакомимся с данными\n"
   ]
  },
  {
   "cell_type": "code",
   "execution_count": 2,
   "id": "2adf6dc0",
   "metadata": {},
   "outputs": [
    {
     "name": "stdout",
     "output_type": "stream",
     "text": [
      "<class 'pandas.core.frame.DataFrame'>\n",
      "RangeIndex: 20000 entries, 0 to 19999\n",
      "Data columns (total 12 columns):\n",
      " #   Column          Non-Null Count  Dtype \n",
      "---  ------          --------------  ----- \n",
      " 0   Unnamed: 0      20000 non-null  int64 \n",
      " 1   user_id         20000 non-null  int64 \n",
      " 2   sex             20000 non-null  object\n",
      " 3   age             20000 non-null  int64 \n",
      " 4   platform        20000 non-null  object\n",
      " 5   query_id        20000 non-null  int64 \n",
      " 6   query_text      20000 non-null  object\n",
      " 7   query_type      20000 non-null  object\n",
      " 8   event           20000 non-null  object\n",
      " 9   click_position  20000 non-null  int64 \n",
      " 10  doc_type        15042 non-null  object\n",
      " 11  view_time       20000 non-null  int64 \n",
      "dtypes: int64(6), object(6)\n",
      "memory usage: 1.8+ MB\n"
     ]
    },
    {
     "data": {
      "text/html": [
       "<div>\n",
       "<style scoped>\n",
       "    .dataframe tbody tr th:only-of-type {\n",
       "        vertical-align: middle;\n",
       "    }\n",
       "\n",
       "    .dataframe tbody tr th {\n",
       "        vertical-align: top;\n",
       "    }\n",
       "\n",
       "    .dataframe thead th {\n",
       "        text-align: right;\n",
       "    }\n",
       "</style>\n",
       "<table border=\"1\" class=\"dataframe\">\n",
       "  <thead>\n",
       "    <tr style=\"text-align: right;\">\n",
       "      <th></th>\n",
       "      <th>Unnamed: 0</th>\n",
       "      <th>user_id</th>\n",
       "      <th>sex</th>\n",
       "      <th>age</th>\n",
       "      <th>platform</th>\n",
       "      <th>query_id</th>\n",
       "      <th>query_text</th>\n",
       "      <th>query_type</th>\n",
       "      <th>event</th>\n",
       "      <th>click_position</th>\n",
       "      <th>doc_type</th>\n",
       "      <th>view_time</th>\n",
       "    </tr>\n",
       "  </thead>\n",
       "  <tbody>\n",
       "    <tr>\n",
       "      <th>0</th>\n",
       "      <td>0</td>\n",
       "      <td>96422511</td>\n",
       "      <td>female</td>\n",
       "      <td>68</td>\n",
       "      <td>android</td>\n",
       "      <td>89656828</td>\n",
       "      <td>передачи о новых технологиях</td>\n",
       "      <td>show</td>\n",
       "      <td>share</td>\n",
       "      <td>6</td>\n",
       "      <td>playlist</td>\n",
       "      <td>0</td>\n",
       "    </tr>\n",
       "    <tr>\n",
       "      <th>1</th>\n",
       "      <td>1</td>\n",
       "      <td>45247030</td>\n",
       "      <td>male</td>\n",
       "      <td>62</td>\n",
       "      <td>android_tv</td>\n",
       "      <td>89784877</td>\n",
       "      <td>автопрому новости</td>\n",
       "      <td>news</td>\n",
       "      <td>search</td>\n",
       "      <td>0</td>\n",
       "      <td>NaN</td>\n",
       "      <td>0</td>\n",
       "    </tr>\n",
       "    <tr>\n",
       "      <th>2</th>\n",
       "      <td>2</td>\n",
       "      <td>79572413</td>\n",
       "      <td>male</td>\n",
       "      <td>12</td>\n",
       "      <td>web</td>\n",
       "      <td>10555855</td>\n",
       "      <td>логистическое законодательство</td>\n",
       "      <td>news</td>\n",
       "      <td>search</td>\n",
       "      <td>0</td>\n",
       "      <td>NaN</td>\n",
       "      <td>0</td>\n",
       "    </tr>\n",
       "    <tr>\n",
       "      <th>3</th>\n",
       "      <td>3</td>\n",
       "      <td>821317</td>\n",
       "      <td>female</td>\n",
       "      <td>58</td>\n",
       "      <td>android_tv</td>\n",
       "      <td>72054848</td>\n",
       "      <td>банковские премии новости</td>\n",
       "      <td>news</td>\n",
       "      <td>search</td>\n",
       "      <td>0</td>\n",
       "      <td>NaN</td>\n",
       "      <td>0</td>\n",
       "    </tr>\n",
       "    <tr>\n",
       "      <th>4</th>\n",
       "      <td>4</td>\n",
       "      <td>6206023</td>\n",
       "      <td>female</td>\n",
       "      <td>24</td>\n",
       "      <td>android</td>\n",
       "      <td>20838049</td>\n",
       "      <td>вики шоу аманда</td>\n",
       "      <td>show</td>\n",
       "      <td>subscribe</td>\n",
       "      <td>7</td>\n",
       "      <td>author</td>\n",
       "      <td>0</td>\n",
       "    </tr>\n",
       "    <tr>\n",
       "      <th>5</th>\n",
       "      <td>5</td>\n",
       "      <td>8004249</td>\n",
       "      <td>anonym</td>\n",
       "      <td>0</td>\n",
       "      <td>android</td>\n",
       "      <td>19760211</td>\n",
       "      <td>как купить билеты на Грибов</td>\n",
       "      <td>music</td>\n",
       "      <td>tap</td>\n",
       "      <td>1</td>\n",
       "      <td>author</td>\n",
       "      <td>0</td>\n",
       "    </tr>\n",
       "    <tr>\n",
       "      <th>6</th>\n",
       "      <td>6</td>\n",
       "      <td>11617125</td>\n",
       "      <td>female</td>\n",
       "      <td>66</td>\n",
       "      <td>android_tv</td>\n",
       "      <td>59650610</td>\n",
       "      <td>5+1 шоу парень бедный</td>\n",
       "      <td>show</td>\n",
       "      <td>subscribe</td>\n",
       "      <td>8</td>\n",
       "      <td>video</td>\n",
       "      <td>0</td>\n",
       "    </tr>\n",
       "    <tr>\n",
       "      <th>7</th>\n",
       "      <td>7</td>\n",
       "      <td>79473329</td>\n",
       "      <td>anonym</td>\n",
       "      <td>0</td>\n",
       "      <td>smart_tv</td>\n",
       "      <td>569617620</td>\n",
       "      <td>биография Мэрилин Монро</td>\n",
       "      <td>films</td>\n",
       "      <td>tap</td>\n",
       "      <td>5</td>\n",
       "      <td>clip</td>\n",
       "      <td>0</td>\n",
       "    </tr>\n",
       "    <tr>\n",
       "      <th>8</th>\n",
       "      <td>8</td>\n",
       "      <td>17370723</td>\n",
       "      <td>anonym</td>\n",
       "      <td>0</td>\n",
       "      <td>android</td>\n",
       "      <td>46720550</td>\n",
       "      <td>поездка или поездочка шоу истории</td>\n",
       "      <td>show</td>\n",
       "      <td>subscribe</td>\n",
       "      <td>9</td>\n",
       "      <td>video</td>\n",
       "      <td>0</td>\n",
       "    </tr>\n",
       "    <tr>\n",
       "      <th>9</th>\n",
       "      <td>9</td>\n",
       "      <td>30126713</td>\n",
       "      <td>female</td>\n",
       "      <td>29</td>\n",
       "      <td>web</td>\n",
       "      <td>29645901</td>\n",
       "      <td>автозаконодательство новости</td>\n",
       "      <td>news</td>\n",
       "      <td>view</td>\n",
       "      <td>2</td>\n",
       "      <td>clip</td>\n",
       "      <td>183</td>\n",
       "    </tr>\n",
       "  </tbody>\n",
       "</table>\n",
       "</div>"
      ],
      "text/plain": [
       "   Unnamed: 0   user_id     sex  age    platform   query_id  \\\n",
       "0           0  96422511  female   68     android   89656828   \n",
       "1           1  45247030    male   62  android_tv   89784877   \n",
       "2           2  79572413    male   12         web   10555855   \n",
       "3           3    821317  female   58  android_tv   72054848   \n",
       "4           4   6206023  female   24     android   20838049   \n",
       "5           5   8004249  anonym    0     android   19760211   \n",
       "6           6  11617125  female   66  android_tv   59650610   \n",
       "7           7  79473329  anonym    0    smart_tv  569617620   \n",
       "8           8  17370723  anonym    0     android   46720550   \n",
       "9           9  30126713  female   29         web   29645901   \n",
       "\n",
       "                          query_text query_type      event  click_position  \\\n",
       "0       передачи о новых технологиях       show      share               6   \n",
       "1                  автопрому новости       news     search               0   \n",
       "2     логистическое законодательство       news     search               0   \n",
       "3          банковские премии новости       news     search               0   \n",
       "4                    вики шоу аманда       show  subscribe               7   \n",
       "5        как купить билеты на Грибов      music        tap               1   \n",
       "6             5+1 шоу парень бедный        show  subscribe               8   \n",
       "7            биография Мэрилин Монро      films        tap               5   \n",
       "8  поездка или поездочка шоу истории       show  subscribe               9   \n",
       "9       автозаконодательство новости       news       view               2   \n",
       "\n",
       "   doc_type  view_time  \n",
       "0  playlist          0  \n",
       "1       NaN          0  \n",
       "2       NaN          0  \n",
       "3       NaN          0  \n",
       "4    author          0  \n",
       "5    author          0  \n",
       "6     video          0  \n",
       "7      clip          0  \n",
       "8     video          0  \n",
       "9      clip        183  "
      ]
     },
     "execution_count": 2,
     "metadata": {},
     "output_type": "execute_result"
    }
   ],
   "source": [
    "df.info()\n",
    "df.describe()\n",
    "df.head(10)"
   ]
  },
  {
   "cell_type": "markdown",
   "id": "f8cf8eb8",
   "metadata": {},
   "source": [
    "Удалим лишний столбец "
   ]
  },
  {
   "cell_type": "code",
   "execution_count": 3,
   "id": "f0b8c2cd",
   "metadata": {},
   "outputs": [],
   "source": [
    "df = df.drop(columns=['Unnamed: 0'])"
   ]
  },
  {
   "cell_type": "markdown",
   "id": "f76b014d",
   "metadata": {},
   "source": [
    "Проверим на наличие дубликатов"
   ]
  },
  {
   "cell_type": "code",
   "execution_count": 4,
   "id": "1f470c82",
   "metadata": {},
   "outputs": [
    {
     "data": {
      "text/plain": [
       "0"
      ]
     },
     "execution_count": 4,
     "metadata": {},
     "output_type": "execute_result"
    }
   ],
   "source": [
    "df.duplicated().sum()"
   ]
  },
  {
   "cell_type": "markdown",
   "id": "485844a4",
   "metadata": {},
   "source": [
    "\n",
    "##  Создадим новый столбец «Плохой поиск»\n",
    "\n",
    " Предположим, что поиск считается неудачным в следующих случаях:\n",
    "- Пользователь ничего не кликнул в выдаче.\n",
    "- Клик был далеко (позиция выше 5).\n",
    "- Пользователь не взаимодействовал с результатами (не смотрел, не лайкал и т.п.)."
   ]
  },
  {
   "cell_type": "code",
   "execution_count": 5,
   "id": "c1b9593b",
   "metadata": {},
   "outputs": [],
   "source": [
    "df['bad_search'] = (\n",
    "    ((df['event'] == 'search') & (df['click_position'] == 0)) |\n",
    "    ((df['event'] == 'tap') & (df['click_position'] > 5)) |\n",
    "    ((df['view_time'] == 0) & (~df['event'].isin(['like', 'subscribe', 'view', 'share', 'tap'])))\n",
    ")\n"
   ]
  },
  {
   "cell_type": "markdown",
   "id": "be93d81f",
   "metadata": {},
   "source": [
    "Разобьём пользователей по возрастным группам для дальнейшего анализа."
   ]
  },
  {
   "cell_type": "code",
   "execution_count": 6,
   "id": "093189c5",
   "metadata": {},
   "outputs": [],
   "source": [
    "df['age_group'] = pd.cut(df['age'], bins=[0, 18, 25, 35, 50, 65, 100], labels=['<18', '18-25', '26-35', '36-50', '51-65', '65+'])\n"
   ]
  },
  {
   "cell_type": "markdown",
   "id": "d83afc16",
   "metadata": {},
   "source": [
    "## Визуализация основных закономерностей\n",
    "\n",
    "В этом блоке мы анализируем долю неудачных поисков:\n",
    "- по платформам: web, android, android tv, smart tv, iphone;\n",
    "- по возрасту пользователей: до 18, от 18 до 25, от 26 до 35, от 36 до 50, от 51 до 65, больше 65;\n",
    "- по типу запроса: фильмы, музыка, шоу, новости;\n",
    "\n",
    "Это позволяет выявить, для каких категорий пользователей и запросов поиск работает хуже всего."
   ]
  },
  {
   "cell_type": "code",
   "execution_count": 7,
   "id": "cef9dc9d",
   "metadata": {},
   "outputs": [
    {
     "name": "stdout",
     "output_type": "stream",
     "text": [
      "Плохих поисков: 8985 из 20000 (44.9%)\n"
     ]
    },
    {
     "data": {
      "image/png": "[encoded data removed]",
      "text/plain": [
       "<Figure size 1296x360 with 3 Axes>"
      ]
     },
     "metadata": {
      "needs_background": "light"
     },
     "output_type": "display_data"
    }
   ],
   "source": [
    "poor_search_count = df['bad_search'].sum()\n",
    "total_searches = len(df)\n",
    "poor_search_pct = poor_search_count / total_searches * 100\n",
    "print(f\"Плохих поисков: {poor_search_count} из {total_searches} ({poor_search_pct:.1f}%)\")\n",
    "\n",
    "platform_poor = df.groupby('platform')['bad_search'].mean().sort_values(ascending=False)\n",
    "age_poor = df.groupby('age_group')['bad_search'].mean()\n",
    "query_type_poor = df.groupby('query_type')['bad_search'].mean().sort_values(ascending=False)\n",
    "\n",
    "fig, axes = plt.subplots(1, 3, figsize=(18, 5))\n",
    "sns.barplot(x=platform_poor.index, y=platform_poor.values, ax=axes[0])\n",
    "axes[0].set_title(\"Доля плохих поисков по платформам\")\n",
    "\n",
    "sns.barplot(x=age_poor.index, y=age_poor.values, ax=axes[1])\n",
    "axes[1].set_title(\"По возрастным группам\")\n",
    "\n",
    "sns.barplot(x=query_type_poor.index, y=query_type_poor.values, ax=axes[2])\n",
    "axes[2].set_title(\"По типу запроса\")\n",
    "axes[2].tick_params(axis='x', rotation=45)\n",
    "\n",
    "plt.tight_layout()\n",
    "plt.show()"
   ]
  },
  {
   "cell_type": "markdown",
   "id": "136fb299",
   "metadata": {},
   "source": [
    "## Выводы:\n",
    "- Почти 45% поисков можно считать неудачными.\n",
    "- Проблемные платформы: Web, Android.\n",
    "- Пользователи  старше 65лет сталкиваются с низким качеством выдачи.\n",
    "- Хуже всего работает поиск по типу запроса \"news\".\n"
   ]
  }
 ],
 "metadata": {
  "ExecuteTimeLog": [
   {
    "duration": 1368,
    "start_time": "2025-04-21T17:38:28.959Z"
   },
   {
    "duration": 108,
    "start_time": "2025-04-21T17:40:56.632Z"
   },
   {
    "duration": 40,
    "start_time": "2025-04-21T17:41:49.313Z"
   },
   {
    "duration": 5,
    "start_time": "2025-04-21T17:43:00.289Z"
   },
   {
    "duration": 13,
    "start_time": "2025-04-21T17:43:46.682Z"
   },
   {
    "duration": 31,
    "start_time": "2025-04-21T17:44:58.523Z"
   },
   {
    "duration": 10,
    "start_time": "2025-04-21T17:46:28.883Z"
   },
   {
    "duration": 7,
    "start_time": "2025-04-21T17:48:13.324Z"
   },
   {
    "duration": 6,
    "start_time": "2025-04-21T17:48:24.267Z"
   },
   {
    "duration": 5,
    "start_time": "2025-04-21T17:48:55.300Z"
   },
   {
    "duration": 5,
    "start_time": "2025-04-21T17:49:05.732Z"
   },
   {
    "duration": 1216,
    "start_time": "2025-04-21T17:49:21.165Z"
   },
   {
    "duration": 5,
    "start_time": "2025-04-21T17:49:46.325Z"
   },
   {
    "duration": 4,
    "start_time": "2025-04-21T17:50:08.509Z"
   },
   {
    "duration": 4,
    "start_time": "2025-04-21T17:50:17.702Z"
   },
   {
    "duration": 4,
    "start_time": "2025-04-21T17:50:36.790Z"
   },
   {
    "duration": 1065,
    "start_time": "2025-04-21T18:01:23.116Z"
   },
   {
    "duration": 234,
    "start_time": "2025-04-21T18:02:41.547Z"
   },
   {
    "duration": 34,
    "start_time": "2025-04-21T18:02:41.783Z"
   },
   {
    "duration": 4,
    "start_time": "2025-04-21T18:02:41.818Z"
   },
   {
    "duration": 12,
    "start_time": "2025-04-21T18:02:41.824Z"
   },
   {
    "duration": 37,
    "start_time": "2025-04-21T18:02:41.837Z"
   },
   {
    "duration": 4,
    "start_time": "2025-04-21T18:02:41.876Z"
   },
   {
    "duration": 13,
    "start_time": "2025-04-21T18:02:41.882Z"
   },
   {
    "duration": 446,
    "start_time": "2025-04-21T18:02:41.896Z"
   },
   {
    "duration": 404,
    "start_time": "2025-04-21T18:02:42.344Z"
   },
   {
    "duration": 37,
    "start_time": "2025-04-21T18:13:35.539Z"
   },
   {
    "duration": 1296,
    "start_time": "2025-04-21T18:15:30.564Z"
   },
   {
    "duration": 39,
    "start_time": "2025-04-21T18:15:31.862Z"
   },
   {
    "duration": 5,
    "start_time": "2025-04-21T18:15:35.195Z"
   },
   {
    "duration": 18,
    "start_time": "2025-04-21T18:15:35.985Z"
   },
   {
    "duration": 5,
    "start_time": "2025-04-21T18:35:08.431Z"
   },
   {
    "duration": 1450,
    "start_time": "2025-04-21T18:36:31.632Z"
   },
   {
    "duration": 5,
    "start_time": "2025-04-21T18:37:11.608Z"
   },
   {
    "duration": 4,
    "start_time": "2025-04-21T18:37:41.032Z"
   },
   {
    "duration": 1129,
    "start_time": "2025-04-21T18:49:49.280Z"
   },
   {
    "duration": 249,
    "start_time": "2025-04-21T18:50:04.405Z"
   },
   {
    "duration": 35,
    "start_time": "2025-04-21T18:50:04.656Z"
   },
   {
    "duration": 4,
    "start_time": "2025-04-21T18:50:04.693Z"
   },
   {
    "duration": 28,
    "start_time": "2025-04-21T18:50:04.698Z"
   },
   {
    "duration": 4,
    "start_time": "2025-04-21T18:50:04.728Z"
   },
   {
    "duration": 10,
    "start_time": "2025-04-21T18:50:04.733Z"
   },
   {
    "duration": 6,
    "start_time": "2025-04-21T18:50:04.761Z"
   },
   {
    "duration": 27,
    "start_time": "2025-04-21T18:50:04.768Z"
   },
   {
    "duration": 262,
    "start_time": "2025-04-21T18:51:02.856Z"
   },
   {
    "duration": 447,
    "start_time": "2025-04-21T18:52:13.490Z"
   },
   {
    "duration": 1316,
    "start_time": "2025-04-21T18:53:45.163Z"
   },
   {
    "duration": 40,
    "start_time": "2025-04-21T18:53:46.482Z"
   },
   {
    "duration": 4,
    "start_time": "2025-04-21T18:53:49.982Z"
   },
   {
    "duration": 18,
    "start_time": "2025-04-21T18:53:51.056Z"
   },
   {
    "duration": 10,
    "start_time": "2025-04-21T18:53:59.569Z"
   },
   {
    "duration": 6,
    "start_time": "2025-04-21T18:54:02.418Z"
   },
   {
    "duration": 456,
    "start_time": "2025-04-21T18:54:44.680Z"
   },
   {
    "duration": 1280,
    "start_time": "2025-04-21T19:00:04.088Z"
   },
   {
    "duration": 40,
    "start_time": "2025-04-21T19:00:05.369Z"
   },
   {
    "duration": 4,
    "start_time": "2025-04-21T19:00:05.410Z"
   },
   {
    "duration": 23,
    "start_time": "2025-04-21T19:00:05.415Z"
   },
   {
    "duration": 23,
    "start_time": "2025-04-21T19:00:05.439Z"
   },
   {
    "duration": 5,
    "start_time": "2025-04-21T19:00:05.464Z"
   },
   {
    "duration": 462,
    "start_time": "2025-04-21T19:00:05.471Z"
   }
  ],
  "kernelspec": {
   "display_name": "Python 3 (ipykernel)",
   "language": "python",
   "name": "python3"
  },
  "language_info": {
   "codemirror_mode": {
    "name": "ipython",
    "version": 3
   },
   "file_extension": ".py",
   "mimetype": "text/x-python",
   "name": "python",
   "nbconvert_exporter": "python",
   "pygments_lexer": "ipython3",
   "version": "3.9.5"
  },
  "toc": {
   "base_numbering": 1,
   "nav_menu": {},
   "number_sections": true,
   "sideBar": true,
   "skip_h1_title": true,
   "title_cell": "Table of Contents",
   "title_sidebar": "Contents",
   "toc_cell": false,
   "toc_position": {},
   "toc_section_display": true,
   "toc_window_display": false
  }
 },
 "nbformat": 4,
 "nbformat_minor": 5
}
