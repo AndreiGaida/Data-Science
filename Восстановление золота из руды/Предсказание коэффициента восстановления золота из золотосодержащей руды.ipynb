{
 "cells": [
  {
   "cell_type": "markdown",
   "metadata": {
    "toc": true
   },
   "source": [
    "<h1>Содержание<span class=\"tocSkip\"></span></h1>\n",
    "<div class=\"toc\"><ul class=\"toc-item\"><li><span><a href=\"#Предсказание-коэффициента-восстановления-золота-из-золотосодержащей-руды\" data-toc-modified-id=\"Предсказание-коэффициента-восстановления-золота-из-золотосодержащей-руды-1\">Предсказание коэффициента восстановления золота из золотосодержащей руды</a></span></li><li><span><a href=\"#Подготовка-данных\" data-toc-modified-id=\"Подготовка-данных-2\">Подготовка данных</a></span></li><li><span><a href=\"#Анализ-данных\" data-toc-modified-id=\"Анализ-данных-3\">Анализ данных</a></span></li><li><span><a href=\"#Обучение-модели\" data-toc-modified-id=\"Обучение-модели-4\">Обучение модели</a></span></li><li><span><a href=\"#Общий-вывод\" data-toc-modified-id=\"Общий-вывод-5\">Общий вывод</a></span></li></ul></div>"
   ]
  },
  {
   "cell_type": "markdown",
   "metadata": {},
   "source": [
    "# Предсказание коэффициента восстановления золота из золотосодержащей руды"
   ]
  },
  {
   "cell_type": "markdown",
   "metadata": {},
   "source": [
    "Необходимо подготовить прототип модели машинного обучения для «Цифры». Компания разрабатывает решения для эффективной работы промышленных предприятий.\n",
    "\n",
    "Модель должна предсказать коэффициент восстановления золота из золотосодержащей руды. Будем пользоваться данными с параметрами добычи и очистки. \n",
    "\n",
    "Модель поможет оптимизировать производство, чтобы не запускать предприятие с убыточными характеристиками."
   ]
  },
  {
   "cell_type": "markdown",
   "metadata": {},
   "source": [
    "# Подготовка данных"
   ]
  },
  {
   "cell_type": "code",
   "execution_count": 1,
   "metadata": {},
   "outputs": [],
   "source": [
    "import pandas as pd\n",
    "import numpy as np\n",
    "import matplotlib.pyplot as plt\n",
    "import seaborn as sns\n",
    "from sklearn.metrics import mean_absolute_error\n",
    "from sklearn.tree import DecisionTreeRegressor\n",
    "from sklearn.ensemble import RandomForestRegressor\n",
    "from sklearn.linear_model import LinearRegression\n",
    "from sklearn.model_selection import cross_val_score\n",
    "from sklearn.metrics import make_scorer\n",
    "from sklearn.model_selection import GridSearchCV\n",
    "import warnings\n",
    "warnings.simplefilter('ignore')\n",
    "pd.set_option('display.max_rows', None)"
   ]
  },
  {
   "cell_type": "code",
   "execution_count": 2,
   "metadata": {},
   "outputs": [],
   "source": [
    "try:\n",
    "    data_train = pd.read_csv('C:/Users/datasets/gold_industry_train.csv')\n",
    "    data_test = pd.read_csv('C:/Users/datasets/gold_industry_test.csv')\n",
    "    data_full = pd.read_csv('C:/Users/datasets/gold_industry_full.csv')\n",
    "except:\n",
    "    data_train = pd.read_csv('/datasets/gold_industry_train.csv') \n",
    "    data_test = pd.read_csv('/datasets/gold_industry_test.csv')\n",
    "    data_full = pd.read_csv('/datasets/gold_industry_full.csv')"
   ]
  },
  {
   "cell_type": "markdown",
   "metadata": {},
   "source": [
    "*Изучим общую информацию data_train.*"
   ]
  },
  {
   "cell_type": "code",
   "execution_count": 3,
   "metadata": {},
   "outputs": [
    {
     "data": {
      "text/html": [
       "<div>\n",
       "<style scoped>\n",
       "    .dataframe tbody tr th:only-of-type {\n",
       "        vertical-align: middle;\n",
       "    }\n",
       "\n",
       "    .dataframe tbody tr th {\n",
       "        vertical-align: top;\n",
       "    }\n",
       "\n",
       "    .dataframe thead th {\n",
       "        text-align: right;\n",
       "    }\n",
       "</style>\n",
       "<table border=\"1\" class=\"dataframe\">\n",
       "  <thead>\n",
       "    <tr style=\"text-align: right;\">\n",
       "      <th></th>\n",
       "      <th>date</th>\n",
       "      <th>rougher.input.feed_au</th>\n",
       "      <th>rougher.input.feed_ag</th>\n",
       "      <th>rougher.input.feed_pb</th>\n",
       "      <th>rougher.input.feed_sol</th>\n",
       "      <th>rougher.input.feed_rate</th>\n",
       "      <th>rougher.input.feed_size</th>\n",
       "      <th>rougher.input.floatbank10_sulfate</th>\n",
       "      <th>rougher.input.floatbank10_xanthate</th>\n",
       "      <th>rougher.state.floatbank10_a_air</th>\n",
       "      <th>...</th>\n",
       "      <th>secondary_cleaner.output.tail_sol</th>\n",
       "      <th>final.output.concentrate_au</th>\n",
       "      <th>final.output.concentrate_ag</th>\n",
       "      <th>final.output.concentrate_pb</th>\n",
       "      <th>final.output.concentrate_sol</th>\n",
       "      <th>final.output.recovery</th>\n",
       "      <th>final.output.tail_au</th>\n",
       "      <th>final.output.tail_ag</th>\n",
       "      <th>final.output.tail_pb</th>\n",
       "      <th>final.output.tail_sol</th>\n",
       "    </tr>\n",
       "  </thead>\n",
       "  <tbody>\n",
       "    <tr>\n",
       "      <th>0</th>\n",
       "      <td>2016-01-15 00:00:00</td>\n",
       "      <td>6.486150</td>\n",
       "      <td>6.100378</td>\n",
       "      <td>2.284912</td>\n",
       "      <td>36.808594</td>\n",
       "      <td>523.546326</td>\n",
       "      <td>55.486599</td>\n",
       "      <td>11.986616</td>\n",
       "      <td>6.007990</td>\n",
       "      <td>999.706909</td>\n",
       "      <td>...</td>\n",
       "      <td>8.764648</td>\n",
       "      <td>42.192020</td>\n",
       "      <td>6.055403</td>\n",
       "      <td>9.889648</td>\n",
       "      <td>5.507324</td>\n",
       "      <td>70.541216</td>\n",
       "      <td>2.143149</td>\n",
       "      <td>10.411962</td>\n",
       "      <td>0.895447</td>\n",
       "      <td>16.904297</td>\n",
       "    </tr>\n",
       "    <tr>\n",
       "      <th>1</th>\n",
       "      <td>2016-01-15 01:00:00</td>\n",
       "      <td>6.478583</td>\n",
       "      <td>6.161113</td>\n",
       "      <td>2.266033</td>\n",
       "      <td>35.753385</td>\n",
       "      <td>525.290581</td>\n",
       "      <td>57.278666</td>\n",
       "      <td>11.971193</td>\n",
       "      <td>6.005766</td>\n",
       "      <td>1000.286398</td>\n",
       "      <td>...</td>\n",
       "      <td>9.001494</td>\n",
       "      <td>42.701629</td>\n",
       "      <td>6.029369</td>\n",
       "      <td>9.968944</td>\n",
       "      <td>5.257781</td>\n",
       "      <td>69.266198</td>\n",
       "      <td>2.224930</td>\n",
       "      <td>10.462676</td>\n",
       "      <td>0.927452</td>\n",
       "      <td>16.634514</td>\n",
       "    </tr>\n",
       "    <tr>\n",
       "      <th>2</th>\n",
       "      <td>2016-01-15 02:00:00</td>\n",
       "      <td>6.362222</td>\n",
       "      <td>6.116455</td>\n",
       "      <td>2.159622</td>\n",
       "      <td>35.971630</td>\n",
       "      <td>530.026610</td>\n",
       "      <td>57.510649</td>\n",
       "      <td>11.920603</td>\n",
       "      <td>6.197377</td>\n",
       "      <td>999.719565</td>\n",
       "      <td>...</td>\n",
       "      <td>8.842896</td>\n",
       "      <td>42.657501</td>\n",
       "      <td>6.055926</td>\n",
       "      <td>10.213995</td>\n",
       "      <td>5.383759</td>\n",
       "      <td>68.116445</td>\n",
       "      <td>2.257889</td>\n",
       "      <td>10.507046</td>\n",
       "      <td>0.953716</td>\n",
       "      <td>16.208849</td>\n",
       "    </tr>\n",
       "    <tr>\n",
       "      <th>3</th>\n",
       "      <td>2016-01-15 03:00:00</td>\n",
       "      <td>6.118189</td>\n",
       "      <td>6.043309</td>\n",
       "      <td>2.037807</td>\n",
       "      <td>36.862241</td>\n",
       "      <td>542.590390</td>\n",
       "      <td>57.792734</td>\n",
       "      <td>11.630094</td>\n",
       "      <td>6.203177</td>\n",
       "      <td>999.814770</td>\n",
       "      <td>...</td>\n",
       "      <td>9.122857</td>\n",
       "      <td>42.689819</td>\n",
       "      <td>6.047977</td>\n",
       "      <td>9.977019</td>\n",
       "      <td>4.858634</td>\n",
       "      <td>68.347543</td>\n",
       "      <td>2.146849</td>\n",
       "      <td>10.422762</td>\n",
       "      <td>0.883763</td>\n",
       "      <td>16.532835</td>\n",
       "    </tr>\n",
       "    <tr>\n",
       "      <th>4</th>\n",
       "      <td>2016-01-15 04:00:00</td>\n",
       "      <td>5.663707</td>\n",
       "      <td>6.060915</td>\n",
       "      <td>1.786875</td>\n",
       "      <td>34.347666</td>\n",
       "      <td>540.531893</td>\n",
       "      <td>56.047189</td>\n",
       "      <td>10.957755</td>\n",
       "      <td>6.198826</td>\n",
       "      <td>999.678690</td>\n",
       "      <td>...</td>\n",
       "      <td>8.871028</td>\n",
       "      <td>42.774141</td>\n",
       "      <td>6.148599</td>\n",
       "      <td>10.142511</td>\n",
       "      <td>4.939416</td>\n",
       "      <td>66.927016</td>\n",
       "      <td>2.055292</td>\n",
       "      <td>10.360302</td>\n",
       "      <td>0.792826</td>\n",
       "      <td>16.525686</td>\n",
       "    </tr>\n",
       "  </tbody>\n",
       "</table>\n",
       "<p>5 rows × 87 columns</p>\n",
       "</div>"
      ],
      "text/plain": [
       "                  date  rougher.input.feed_au  rougher.input.feed_ag  \\\n",
       "0  2016-01-15 00:00:00               6.486150               6.100378   \n",
       "1  2016-01-15 01:00:00               6.478583               6.161113   \n",
       "2  2016-01-15 02:00:00               6.362222               6.116455   \n",
       "3  2016-01-15 03:00:00               6.118189               6.043309   \n",
       "4  2016-01-15 04:00:00               5.663707               6.060915   \n",
       "\n",
       "   rougher.input.feed_pb  rougher.input.feed_sol  rougher.input.feed_rate  \\\n",
       "0               2.284912               36.808594               523.546326   \n",
       "1               2.266033               35.753385               525.290581   \n",
       "2               2.159622               35.971630               530.026610   \n",
       "3               2.037807               36.862241               542.590390   \n",
       "4               1.786875               34.347666               540.531893   \n",
       "\n",
       "   rougher.input.feed_size  rougher.input.floatbank10_sulfate  \\\n",
       "0                55.486599                          11.986616   \n",
       "1                57.278666                          11.971193   \n",
       "2                57.510649                          11.920603   \n",
       "3                57.792734                          11.630094   \n",
       "4                56.047189                          10.957755   \n",
       "\n",
       "   rougher.input.floatbank10_xanthate  rougher.state.floatbank10_a_air  ...  \\\n",
       "0                            6.007990                       999.706909  ...   \n",
       "1                            6.005766                      1000.286398  ...   \n",
       "2                            6.197377                       999.719565  ...   \n",
       "3                            6.203177                       999.814770  ...   \n",
       "4                            6.198826                       999.678690  ...   \n",
       "\n",
       "   secondary_cleaner.output.tail_sol  final.output.concentrate_au  \\\n",
       "0                           8.764648                    42.192020   \n",
       "1                           9.001494                    42.701629   \n",
       "2                           8.842896                    42.657501   \n",
       "3                           9.122857                    42.689819   \n",
       "4                           8.871028                    42.774141   \n",
       "\n",
       "   final.output.concentrate_ag  final.output.concentrate_pb  \\\n",
       "0                     6.055403                     9.889648   \n",
       "1                     6.029369                     9.968944   \n",
       "2                     6.055926                    10.213995   \n",
       "3                     6.047977                     9.977019   \n",
       "4                     6.148599                    10.142511   \n",
       "\n",
       "   final.output.concentrate_sol  final.output.recovery  final.output.tail_au  \\\n",
       "0                      5.507324              70.541216              2.143149   \n",
       "1                      5.257781              69.266198              2.224930   \n",
       "2                      5.383759              68.116445              2.257889   \n",
       "3                      4.858634              68.347543              2.146849   \n",
       "4                      4.939416              66.927016              2.055292   \n",
       "\n",
       "   final.output.tail_ag  final.output.tail_pb  final.output.tail_sol  \n",
       "0             10.411962              0.895447              16.904297  \n",
       "1             10.462676              0.927452              16.634514  \n",
       "2             10.507046              0.953716              16.208849  \n",
       "3             10.422762              0.883763              16.532835  \n",
       "4             10.360302              0.792826              16.525686  \n",
       "\n",
       "[5 rows x 87 columns]"
      ]
     },
     "execution_count": 3,
     "metadata": {},
     "output_type": "execute_result"
    }
   ],
   "source": [
    "data_train.head()"
   ]
  },
  {
   "cell_type": "code",
   "execution_count": 4,
   "metadata": {
    "scrolled": true
   },
   "outputs": [
    {
     "name": "stdout",
     "output_type": "stream",
     "text": [
      "<class 'pandas.core.frame.DataFrame'>\n",
      "RangeIndex: 14579 entries, 0 to 14578\n",
      "Data columns (total 87 columns):\n",
      " #   Column                                              Non-Null Count  Dtype  \n",
      "---  ------                                              --------------  -----  \n",
      " 0   date                                                14579 non-null  object \n",
      " 1   rougher.input.feed_au                               14579 non-null  float64\n",
      " 2   rougher.input.feed_ag                               14579 non-null  float64\n",
      " 3   rougher.input.feed_pb                               14507 non-null  float64\n",
      " 4   rougher.input.feed_sol                              14502 non-null  float64\n",
      " 5   rougher.input.feed_rate                             14572 non-null  float64\n",
      " 6   rougher.input.feed_size                             14478 non-null  float64\n",
      " 7   rougher.input.floatbank10_sulfate                   14548 non-null  float64\n",
      " 8   rougher.input.floatbank10_xanthate                  14572 non-null  float64\n",
      " 9   rougher.state.floatbank10_a_air                     14579 non-null  float64\n",
      " 10  rougher.state.floatbank10_a_level                   14579 non-null  float64\n",
      " 11  rougher.state.floatbank10_b_air                     14579 non-null  float64\n",
      " 12  rougher.state.floatbank10_b_level                   14579 non-null  float64\n",
      " 13  rougher.state.floatbank10_c_air                     14579 non-null  float64\n",
      " 14  rougher.state.floatbank10_c_level                   14579 non-null  float64\n",
      " 15  rougher.state.floatbank10_d_air                     14579 non-null  float64\n",
      " 16  rougher.state.floatbank10_d_level                   14579 non-null  float64\n",
      " 17  rougher.state.floatbank10_e_air                     14150 non-null  float64\n",
      " 18  rougher.state.floatbank10_e_level                   14579 non-null  float64\n",
      " 19  rougher.state.floatbank10_f_air                     14579 non-null  float64\n",
      " 20  rougher.state.floatbank10_f_level                   14579 non-null  float64\n",
      " 21  rougher.input.floatbank11_sulfate                   14543 non-null  float64\n",
      " 22  rougher.input.floatbank11_xanthate                  14172 non-null  float64\n",
      " 23  rougher.calculation.sulfate_to_au_concentrate       14578 non-null  float64\n",
      " 24  rougher.calculation.floatbank10_sulfate_to_au_feed  14578 non-null  float64\n",
      " 25  rougher.calculation.floatbank11_sulfate_to_au_feed  14578 non-null  float64\n",
      " 26  rougher.calculation.au_pb_ratio                     14579 non-null  float64\n",
      " 27  rougher.output.concentrate_au                       14579 non-null  float64\n",
      " 28  rougher.output.concentrate_ag                       14579 non-null  float64\n",
      " 29  rougher.output.concentrate_pb                       14579 non-null  float64\n",
      " 30  rougher.output.concentrate_sol                      14561 non-null  float64\n",
      " 31  rougher.output.recovery                             14579 non-null  float64\n",
      " 32  rougher.output.tail_au                              14579 non-null  float64\n",
      " 33  rougher.output.tail_ag                              14578 non-null  float64\n",
      " 34  rougher.output.tail_pb                              14579 non-null  float64\n",
      " 35  rougher.output.tail_sol                             14579 non-null  float64\n",
      " 36  primary_cleaner.input.sulfate                       14556 non-null  float64\n",
      " 37  primary_cleaner.input.depressant                    14551 non-null  float64\n",
      " 38  primary_cleaner.input.feed_size                     14579 non-null  float64\n",
      " 39  primary_cleaner.input.xanthate                      14518 non-null  float64\n",
      " 40  primary_cleaner.state.floatbank8_a_air              14576 non-null  float64\n",
      " 41  primary_cleaner.state.floatbank8_a_level            14579 non-null  float64\n",
      " 42  primary_cleaner.state.floatbank8_b_air              14576 non-null  float64\n",
      " 43  primary_cleaner.state.floatbank8_b_level            14579 non-null  float64\n",
      " 44  primary_cleaner.state.floatbank8_c_air              14579 non-null  float64\n",
      " 45  primary_cleaner.state.floatbank8_c_level            14579 non-null  float64\n",
      " 46  primary_cleaner.state.floatbank8_d_air              14578 non-null  float64\n",
      " 47  primary_cleaner.state.floatbank8_d_level            14579 non-null  float64\n",
      " 48  primary_cleaner.output.concentrate_au               14579 non-null  float64\n",
      " 49  primary_cleaner.output.concentrate_ag               14579 non-null  float64\n",
      " 50  primary_cleaner.output.concentrate_pb               14491 non-null  float64\n",
      " 51  primary_cleaner.output.concentrate_sol              14314 non-null  float64\n",
      " 52  primary_cleaner.output.tail_au                      14579 non-null  float64\n",
      " 53  primary_cleaner.output.tail_ag                      14575 non-null  float64\n",
      " 54  primary_cleaner.output.tail_pb                      14573 non-null  float64\n",
      " 55  primary_cleaner.output.tail_sol                     14534 non-null  float64\n",
      " 56  secondary_cleaner.state.floatbank2_a_air            14485 non-null  float64\n",
      " 57  secondary_cleaner.state.floatbank2_a_level          14579 non-null  float64\n",
      " 58  secondary_cleaner.state.floatbank2_b_air            14557 non-null  float64\n",
      " 59  secondary_cleaner.state.floatbank2_b_level          14579 non-null  float64\n",
      " 60  secondary_cleaner.state.floatbank3_a_air            14567 non-null  float64\n",
      " 61  secondary_cleaner.state.floatbank3_a_level          14579 non-null  float64\n",
      " 62  secondary_cleaner.state.floatbank3_b_air            14579 non-null  float64\n",
      " 63  secondary_cleaner.state.floatbank3_b_level          14579 non-null  float64\n",
      " 64  secondary_cleaner.state.floatbank4_a_air            14574 non-null  float64\n",
      " 65  secondary_cleaner.state.floatbank4_a_level          14579 non-null  float64\n",
      " 66  secondary_cleaner.state.floatbank4_b_air            14579 non-null  float64\n",
      " 67  secondary_cleaner.state.floatbank4_b_level          14579 non-null  float64\n",
      " 68  secondary_cleaner.state.floatbank5_a_air            14579 non-null  float64\n",
      " 69  secondary_cleaner.state.floatbank5_a_level          14579 non-null  float64\n",
      " 70  secondary_cleaner.state.floatbank5_b_air            14579 non-null  float64\n",
      " 71  secondary_cleaner.state.floatbank5_b_level          14579 non-null  float64\n",
      " 72  secondary_cleaner.state.floatbank6_a_air            14578 non-null  float64\n",
      " 73  secondary_cleaner.state.floatbank6_a_level          14579 non-null  float64\n",
      " 74  secondary_cleaner.output.tail_au                    14579 non-null  float64\n",
      " 75  secondary_cleaner.output.tail_ag                    14578 non-null  float64\n",
      " 76  secondary_cleaner.output.tail_pb                    14575 non-null  float64\n",
      " 77  secondary_cleaner.output.tail_sol                   13659 non-null  float64\n",
      " 78  final.output.concentrate_au                         14579 non-null  float64\n",
      " 79  final.output.concentrate_ag                         14578 non-null  float64\n",
      " 80  final.output.concentrate_pb                         14578 non-null  float64\n",
      " 81  final.output.concentrate_sol                        14387 non-null  float64\n",
      " 82  final.output.recovery                               14579 non-null  float64\n",
      " 83  final.output.tail_au                                14579 non-null  float64\n",
      " 84  final.output.tail_ag                                14578 non-null  float64\n",
      " 85  final.output.tail_pb                                14504 non-null  float64\n",
      " 86  final.output.tail_sol                               14574 non-null  float64\n",
      "dtypes: float64(86), object(1)\n",
      "memory usage: 9.7+ MB\n"
     ]
    }
   ],
   "source": [
    "data_train.info()"
   ]
  },
  {
   "cell_type": "markdown",
   "metadata": {},
   "source": [
    "*Изучим общую информацию data_test.*"
   ]
  },
  {
   "cell_type": "code",
   "execution_count": 5,
   "metadata": {
    "scrolled": true
   },
   "outputs": [
    {
     "data": {
      "text/html": [
       "<div>\n",
       "<style scoped>\n",
       "    .dataframe tbody tr th:only-of-type {\n",
       "        vertical-align: middle;\n",
       "    }\n",
       "\n",
       "    .dataframe tbody tr th {\n",
       "        vertical-align: top;\n",
       "    }\n",
       "\n",
       "    .dataframe thead th {\n",
       "        text-align: right;\n",
       "    }\n",
       "</style>\n",
       "<table border=\"1\" class=\"dataframe\">\n",
       "  <thead>\n",
       "    <tr style=\"text-align: right;\">\n",
       "      <th></th>\n",
       "      <th>date</th>\n",
       "      <th>rougher.input.feed_au</th>\n",
       "      <th>rougher.input.feed_ag</th>\n",
       "      <th>rougher.input.feed_pb</th>\n",
       "      <th>rougher.input.feed_sol</th>\n",
       "      <th>rougher.input.feed_rate</th>\n",
       "      <th>rougher.input.feed_size</th>\n",
       "      <th>rougher.input.floatbank10_sulfate</th>\n",
       "      <th>rougher.input.floatbank10_xanthate</th>\n",
       "      <th>rougher.state.floatbank10_a_air</th>\n",
       "      <th>...</th>\n",
       "      <th>secondary_cleaner.state.floatbank4_a_air</th>\n",
       "      <th>secondary_cleaner.state.floatbank4_a_level</th>\n",
       "      <th>secondary_cleaner.state.floatbank4_b_air</th>\n",
       "      <th>secondary_cleaner.state.floatbank4_b_level</th>\n",
       "      <th>secondary_cleaner.state.floatbank5_a_air</th>\n",
       "      <th>secondary_cleaner.state.floatbank5_a_level</th>\n",
       "      <th>secondary_cleaner.state.floatbank5_b_air</th>\n",
       "      <th>secondary_cleaner.state.floatbank5_b_level</th>\n",
       "      <th>secondary_cleaner.state.floatbank6_a_air</th>\n",
       "      <th>secondary_cleaner.state.floatbank6_a_level</th>\n",
       "    </tr>\n",
       "  </thead>\n",
       "  <tbody>\n",
       "    <tr>\n",
       "      <th>0</th>\n",
       "      <td>2017-12-09 14:59:59</td>\n",
       "      <td>4.365491</td>\n",
       "      <td>6.158718</td>\n",
       "      <td>3.875727</td>\n",
       "      <td>39.135119</td>\n",
       "      <td>555.820208</td>\n",
       "      <td>94.544358</td>\n",
       "      <td>6.146982</td>\n",
       "      <td>9.308612</td>\n",
       "      <td>1196.238112</td>\n",
       "      <td>...</td>\n",
       "      <td>23.018622</td>\n",
       "      <td>-500.492702</td>\n",
       "      <td>20.020205</td>\n",
       "      <td>-500.220296</td>\n",
       "      <td>17.963512</td>\n",
       "      <td>-499.939490</td>\n",
       "      <td>12.990306</td>\n",
       "      <td>-500.080993</td>\n",
       "      <td>19.990336</td>\n",
       "      <td>-499.191575</td>\n",
       "    </tr>\n",
       "    <tr>\n",
       "      <th>1</th>\n",
       "      <td>2017-12-09 15:59:59</td>\n",
       "      <td>4.362781</td>\n",
       "      <td>6.048130</td>\n",
       "      <td>3.902537</td>\n",
       "      <td>39.713906</td>\n",
       "      <td>544.731687</td>\n",
       "      <td>123.742430</td>\n",
       "      <td>6.210119</td>\n",
       "      <td>9.297709</td>\n",
       "      <td>1201.904177</td>\n",
       "      <td>...</td>\n",
       "      <td>23.024963</td>\n",
       "      <td>-501.153409</td>\n",
       "      <td>20.054122</td>\n",
       "      <td>-500.314711</td>\n",
       "      <td>17.979515</td>\n",
       "      <td>-499.272871</td>\n",
       "      <td>12.992404</td>\n",
       "      <td>-499.976268</td>\n",
       "      <td>20.013986</td>\n",
       "      <td>-500.625471</td>\n",
       "    </tr>\n",
       "    <tr>\n",
       "      <th>2</th>\n",
       "      <td>2017-12-09 16:59:59</td>\n",
       "      <td>5.081681</td>\n",
       "      <td>6.082745</td>\n",
       "      <td>4.564078</td>\n",
       "      <td>37.208683</td>\n",
       "      <td>558.155110</td>\n",
       "      <td>82.610855</td>\n",
       "      <td>7.363824</td>\n",
       "      <td>9.003562</td>\n",
       "      <td>1200.826926</td>\n",
       "      <td>...</td>\n",
       "      <td>22.993827</td>\n",
       "      <td>-501.559663</td>\n",
       "      <td>20.029144</td>\n",
       "      <td>-500.000662</td>\n",
       "      <td>18.012723</td>\n",
       "      <td>-500.024764</td>\n",
       "      <td>13.016445</td>\n",
       "      <td>-500.058432</td>\n",
       "      <td>19.973767</td>\n",
       "      <td>-501.394155</td>\n",
       "    </tr>\n",
       "    <tr>\n",
       "      <th>3</th>\n",
       "      <td>2017-12-09 17:59:59</td>\n",
       "      <td>5.145949</td>\n",
       "      <td>6.084374</td>\n",
       "      <td>4.768124</td>\n",
       "      <td>36.808874</td>\n",
       "      <td>539.713765</td>\n",
       "      <td>77.984784</td>\n",
       "      <td>6.927072</td>\n",
       "      <td>8.955597</td>\n",
       "      <td>1199.292489</td>\n",
       "      <td>...</td>\n",
       "      <td>23.032807</td>\n",
       "      <td>-501.287889</td>\n",
       "      <td>19.977466</td>\n",
       "      <td>-500.159903</td>\n",
       "      <td>17.980463</td>\n",
       "      <td>-500.504602</td>\n",
       "      <td>12.949071</td>\n",
       "      <td>-500.009937</td>\n",
       "      <td>20.010332</td>\n",
       "      <td>-508.337973</td>\n",
       "    </tr>\n",
       "    <tr>\n",
       "      <th>4</th>\n",
       "      <td>2017-12-09 18:59:59</td>\n",
       "      <td>5.735249</td>\n",
       "      <td>6.165220</td>\n",
       "      <td>4.512346</td>\n",
       "      <td>37.810642</td>\n",
       "      <td>558.713584</td>\n",
       "      <td>86.434874</td>\n",
       "      <td>7.823471</td>\n",
       "      <td>7.490356</td>\n",
       "      <td>1198.005449</td>\n",
       "      <td>...</td>\n",
       "      <td>23.001911</td>\n",
       "      <td>-499.947838</td>\n",
       "      <td>20.023735</td>\n",
       "      <td>-499.713680</td>\n",
       "      <td>17.990955</td>\n",
       "      <td>-500.334769</td>\n",
       "      <td>13.007523</td>\n",
       "      <td>-499.968459</td>\n",
       "      <td>19.995999</td>\n",
       "      <td>-499.788805</td>\n",
       "    </tr>\n",
       "  </tbody>\n",
       "</table>\n",
       "<p>5 rows × 53 columns</p>\n",
       "</div>"
      ],
      "text/plain": [
       "                  date  rougher.input.feed_au  rougher.input.feed_ag  \\\n",
       "0  2017-12-09 14:59:59               4.365491               6.158718   \n",
       "1  2017-12-09 15:59:59               4.362781               6.048130   \n",
       "2  2017-12-09 16:59:59               5.081681               6.082745   \n",
       "3  2017-12-09 17:59:59               5.145949               6.084374   \n",
       "4  2017-12-09 18:59:59               5.735249               6.165220   \n",
       "\n",
       "   rougher.input.feed_pb  rougher.input.feed_sol  rougher.input.feed_rate  \\\n",
       "0               3.875727               39.135119               555.820208   \n",
       "1               3.902537               39.713906               544.731687   \n",
       "2               4.564078               37.208683               558.155110   \n",
       "3               4.768124               36.808874               539.713765   \n",
       "4               4.512346               37.810642               558.713584   \n",
       "\n",
       "   rougher.input.feed_size  rougher.input.floatbank10_sulfate  \\\n",
       "0                94.544358                           6.146982   \n",
       "1               123.742430                           6.210119   \n",
       "2                82.610855                           7.363824   \n",
       "3                77.984784                           6.927072   \n",
       "4                86.434874                           7.823471   \n",
       "\n",
       "   rougher.input.floatbank10_xanthate  rougher.state.floatbank10_a_air  ...  \\\n",
       "0                            9.308612                      1196.238112  ...   \n",
       "1                            9.297709                      1201.904177  ...   \n",
       "2                            9.003562                      1200.826926  ...   \n",
       "3                            8.955597                      1199.292489  ...   \n",
       "4                            7.490356                      1198.005449  ...   \n",
       "\n",
       "   secondary_cleaner.state.floatbank4_a_air  \\\n",
       "0                                 23.018622   \n",
       "1                                 23.024963   \n",
       "2                                 22.993827   \n",
       "3                                 23.032807   \n",
       "4                                 23.001911   \n",
       "\n",
       "   secondary_cleaner.state.floatbank4_a_level  \\\n",
       "0                                 -500.492702   \n",
       "1                                 -501.153409   \n",
       "2                                 -501.559663   \n",
       "3                                 -501.287889   \n",
       "4                                 -499.947838   \n",
       "\n",
       "   secondary_cleaner.state.floatbank4_b_air  \\\n",
       "0                                 20.020205   \n",
       "1                                 20.054122   \n",
       "2                                 20.029144   \n",
       "3                                 19.977466   \n",
       "4                                 20.023735   \n",
       "\n",
       "   secondary_cleaner.state.floatbank4_b_level  \\\n",
       "0                                 -500.220296   \n",
       "1                                 -500.314711   \n",
       "2                                 -500.000662   \n",
       "3                                 -500.159903   \n",
       "4                                 -499.713680   \n",
       "\n",
       "   secondary_cleaner.state.floatbank5_a_air  \\\n",
       "0                                 17.963512   \n",
       "1                                 17.979515   \n",
       "2                                 18.012723   \n",
       "3                                 17.980463   \n",
       "4                                 17.990955   \n",
       "\n",
       "   secondary_cleaner.state.floatbank5_a_level  \\\n",
       "0                                 -499.939490   \n",
       "1                                 -499.272871   \n",
       "2                                 -500.024764   \n",
       "3                                 -500.504602   \n",
       "4                                 -500.334769   \n",
       "\n",
       "   secondary_cleaner.state.floatbank5_b_air  \\\n",
       "0                                 12.990306   \n",
       "1                                 12.992404   \n",
       "2                                 13.016445   \n",
       "3                                 12.949071   \n",
       "4                                 13.007523   \n",
       "\n",
       "   secondary_cleaner.state.floatbank5_b_level  \\\n",
       "0                                 -500.080993   \n",
       "1                                 -499.976268   \n",
       "2                                 -500.058432   \n",
       "3                                 -500.009937   \n",
       "4                                 -499.968459   \n",
       "\n",
       "   secondary_cleaner.state.floatbank6_a_air  \\\n",
       "0                                 19.990336   \n",
       "1                                 20.013986   \n",
       "2                                 19.973767   \n",
       "3                                 20.010332   \n",
       "4                                 19.995999   \n",
       "\n",
       "   secondary_cleaner.state.floatbank6_a_level  \n",
       "0                                 -499.191575  \n",
       "1                                 -500.625471  \n",
       "2                                 -501.394155  \n",
       "3                                 -508.337973  \n",
       "4                                 -499.788805  \n",
       "\n",
       "[5 rows x 53 columns]"
      ]
     },
     "execution_count": 5,
     "metadata": {},
     "output_type": "execute_result"
    }
   ],
   "source": [
    "data_test.head()"
   ]
  },
  {
   "cell_type": "code",
   "execution_count": 6,
   "metadata": {
    "scrolled": true
   },
   "outputs": [
    {
     "name": "stdout",
     "output_type": "stream",
     "text": [
      "<class 'pandas.core.frame.DataFrame'>\n",
      "RangeIndex: 4860 entries, 0 to 4859\n",
      "Data columns (total 53 columns):\n",
      " #   Column                                      Non-Null Count  Dtype  \n",
      "---  ------                                      --------------  -----  \n",
      " 0   date                                        4860 non-null   object \n",
      " 1   rougher.input.feed_au                       4860 non-null   float64\n",
      " 2   rougher.input.feed_ag                       4860 non-null   float64\n",
      " 3   rougher.input.feed_pb                       4832 non-null   float64\n",
      " 4   rougher.input.feed_sol                      4838 non-null   float64\n",
      " 5   rougher.input.feed_rate                     4856 non-null   float64\n",
      " 6   rougher.input.feed_size                     4816 non-null   float64\n",
      " 7   rougher.input.floatbank10_sulfate           4857 non-null   float64\n",
      " 8   rougher.input.floatbank10_xanthate          4859 non-null   float64\n",
      " 9   rougher.state.floatbank10_a_air             4859 non-null   float64\n",
      " 10  rougher.state.floatbank10_a_level           4859 non-null   float64\n",
      " 11  rougher.state.floatbank10_b_air             4859 non-null   float64\n",
      " 12  rougher.state.floatbank10_b_level           4859 non-null   float64\n",
      " 13  rougher.state.floatbank10_c_air             4859 non-null   float64\n",
      " 14  rougher.state.floatbank10_c_level           4859 non-null   float64\n",
      " 15  rougher.state.floatbank10_d_air             4860 non-null   float64\n",
      " 16  rougher.state.floatbank10_d_level           4860 non-null   float64\n",
      " 17  rougher.state.floatbank10_e_air             4853 non-null   float64\n",
      " 18  rougher.state.floatbank10_e_level           4860 non-null   float64\n",
      " 19  rougher.state.floatbank10_f_air             4860 non-null   float64\n",
      " 20  rougher.state.floatbank10_f_level           4860 non-null   float64\n",
      " 21  rougher.input.floatbank11_sulfate           4852 non-null   float64\n",
      " 22  rougher.input.floatbank11_xanthate          4814 non-null   float64\n",
      " 23  primary_cleaner.input.sulfate               4859 non-null   float64\n",
      " 24  primary_cleaner.input.depressant            4851 non-null   float64\n",
      " 25  primary_cleaner.input.feed_size             4860 non-null   float64\n",
      " 26  primary_cleaner.input.xanthate              4817 non-null   float64\n",
      " 27  primary_cleaner.state.floatbank8_a_air      4859 non-null   float64\n",
      " 28  primary_cleaner.state.floatbank8_a_level    4859 non-null   float64\n",
      " 29  primary_cleaner.state.floatbank8_b_air      4859 non-null   float64\n",
      " 30  primary_cleaner.state.floatbank8_b_level    4859 non-null   float64\n",
      " 31  primary_cleaner.state.floatbank8_c_air      4858 non-null   float64\n",
      " 32  primary_cleaner.state.floatbank8_c_level    4859 non-null   float64\n",
      " 33  primary_cleaner.state.floatbank8_d_air      4858 non-null   float64\n",
      " 34  primary_cleaner.state.floatbank8_d_level    4859 non-null   float64\n",
      " 35  secondary_cleaner.state.floatbank2_a_air    4734 non-null   float64\n",
      " 36  secondary_cleaner.state.floatbank2_a_level  4859 non-null   float64\n",
      " 37  secondary_cleaner.state.floatbank2_b_air    4859 non-null   float64\n",
      " 38  secondary_cleaner.state.floatbank2_b_level  4859 non-null   float64\n",
      " 39  secondary_cleaner.state.floatbank3_a_air    4859 non-null   float64\n",
      " 40  secondary_cleaner.state.floatbank3_a_level  4859 non-null   float64\n",
      " 41  secondary_cleaner.state.floatbank3_b_air    4859 non-null   float64\n",
      " 42  secondary_cleaner.state.floatbank3_b_level  4859 non-null   float64\n",
      " 43  secondary_cleaner.state.floatbank4_a_air    4859 non-null   float64\n",
      " 44  secondary_cleaner.state.floatbank4_a_level  4859 non-null   float64\n",
      " 45  secondary_cleaner.state.floatbank4_b_air    4859 non-null   float64\n",
      " 46  secondary_cleaner.state.floatbank4_b_level  4859 non-null   float64\n",
      " 47  secondary_cleaner.state.floatbank5_a_air    4859 non-null   float64\n",
      " 48  secondary_cleaner.state.floatbank5_a_level  4859 non-null   float64\n",
      " 49  secondary_cleaner.state.floatbank5_b_air    4859 non-null   float64\n",
      " 50  secondary_cleaner.state.floatbank5_b_level  4859 non-null   float64\n",
      " 51  secondary_cleaner.state.floatbank6_a_air    4859 non-null   float64\n",
      " 52  secondary_cleaner.state.floatbank6_a_level  4859 non-null   float64\n",
      "dtypes: float64(52), object(1)\n",
      "memory usage: 2.0+ MB\n"
     ]
    }
   ],
   "source": [
    "data_test.info()"
   ]
  },
  {
   "cell_type": "markdown",
   "metadata": {},
   "source": [
    "*Изучим общую информацию data_full.*"
   ]
  },
  {
   "cell_type": "code",
   "execution_count": 7,
   "metadata": {
    "scrolled": true
   },
   "outputs": [
    {
     "data": {
      "text/html": [
       "<div>\n",
       "<style scoped>\n",
       "    .dataframe tbody tr th:only-of-type {\n",
       "        vertical-align: middle;\n",
       "    }\n",
       "\n",
       "    .dataframe tbody tr th {\n",
       "        vertical-align: top;\n",
       "    }\n",
       "\n",
       "    .dataframe thead th {\n",
       "        text-align: right;\n",
       "    }\n",
       "</style>\n",
       "<table border=\"1\" class=\"dataframe\">\n",
       "  <thead>\n",
       "    <tr style=\"text-align: right;\">\n",
       "      <th></th>\n",
       "      <th>date</th>\n",
       "      <th>rougher.input.feed_au</th>\n",
       "      <th>rougher.input.feed_ag</th>\n",
       "      <th>rougher.input.feed_pb</th>\n",
       "      <th>rougher.input.feed_sol</th>\n",
       "      <th>rougher.input.feed_rate</th>\n",
       "      <th>rougher.input.feed_size</th>\n",
       "      <th>rougher.input.floatbank10_sulfate</th>\n",
       "      <th>rougher.input.floatbank10_xanthate</th>\n",
       "      <th>rougher.state.floatbank10_a_air</th>\n",
       "      <th>...</th>\n",
       "      <th>secondary_cleaner.output.tail_sol</th>\n",
       "      <th>final.output.concentrate_au</th>\n",
       "      <th>final.output.concentrate_ag</th>\n",
       "      <th>final.output.concentrate_pb</th>\n",
       "      <th>final.output.concentrate_sol</th>\n",
       "      <th>final.output.recovery</th>\n",
       "      <th>final.output.tail_au</th>\n",
       "      <th>final.output.tail_ag</th>\n",
       "      <th>final.output.tail_pb</th>\n",
       "      <th>final.output.tail_sol</th>\n",
       "    </tr>\n",
       "  </thead>\n",
       "  <tbody>\n",
       "    <tr>\n",
       "      <th>0</th>\n",
       "      <td>2016-01-15 00:00:00</td>\n",
       "      <td>6.486150</td>\n",
       "      <td>6.100378</td>\n",
       "      <td>2.284912</td>\n",
       "      <td>36.808594</td>\n",
       "      <td>523.546326</td>\n",
       "      <td>55.486599</td>\n",
       "      <td>11.986616</td>\n",
       "      <td>6.007990</td>\n",
       "      <td>999.706909</td>\n",
       "      <td>...</td>\n",
       "      <td>8.764648</td>\n",
       "      <td>42.192020</td>\n",
       "      <td>6.055403</td>\n",
       "      <td>9.889648</td>\n",
       "      <td>5.507324</td>\n",
       "      <td>70.541216</td>\n",
       "      <td>2.143149</td>\n",
       "      <td>10.411962</td>\n",
       "      <td>0.895447</td>\n",
       "      <td>16.904297</td>\n",
       "    </tr>\n",
       "    <tr>\n",
       "      <th>1</th>\n",
       "      <td>2016-01-15 01:00:00</td>\n",
       "      <td>6.478583</td>\n",
       "      <td>6.161113</td>\n",
       "      <td>2.266033</td>\n",
       "      <td>35.753385</td>\n",
       "      <td>525.290581</td>\n",
       "      <td>57.278666</td>\n",
       "      <td>11.971193</td>\n",
       "      <td>6.005766</td>\n",
       "      <td>1000.286398</td>\n",
       "      <td>...</td>\n",
       "      <td>9.001494</td>\n",
       "      <td>42.701629</td>\n",
       "      <td>6.029369</td>\n",
       "      <td>9.968944</td>\n",
       "      <td>5.257781</td>\n",
       "      <td>69.266198</td>\n",
       "      <td>2.224930</td>\n",
       "      <td>10.462676</td>\n",
       "      <td>0.927452</td>\n",
       "      <td>16.634514</td>\n",
       "    </tr>\n",
       "    <tr>\n",
       "      <th>2</th>\n",
       "      <td>2016-01-15 02:00:00</td>\n",
       "      <td>6.362222</td>\n",
       "      <td>6.116455</td>\n",
       "      <td>2.159622</td>\n",
       "      <td>35.971630</td>\n",
       "      <td>530.026610</td>\n",
       "      <td>57.510649</td>\n",
       "      <td>11.920603</td>\n",
       "      <td>6.197377</td>\n",
       "      <td>999.719565</td>\n",
       "      <td>...</td>\n",
       "      <td>8.842896</td>\n",
       "      <td>42.657501</td>\n",
       "      <td>6.055926</td>\n",
       "      <td>10.213995</td>\n",
       "      <td>5.383759</td>\n",
       "      <td>68.116445</td>\n",
       "      <td>2.257889</td>\n",
       "      <td>10.507046</td>\n",
       "      <td>0.953716</td>\n",
       "      <td>16.208849</td>\n",
       "    </tr>\n",
       "    <tr>\n",
       "      <th>3</th>\n",
       "      <td>2016-01-15 03:00:00</td>\n",
       "      <td>6.118189</td>\n",
       "      <td>6.043309</td>\n",
       "      <td>2.037807</td>\n",
       "      <td>36.862241</td>\n",
       "      <td>542.590390</td>\n",
       "      <td>57.792734</td>\n",
       "      <td>11.630094</td>\n",
       "      <td>6.203177</td>\n",
       "      <td>999.814770</td>\n",
       "      <td>...</td>\n",
       "      <td>9.122857</td>\n",
       "      <td>42.689819</td>\n",
       "      <td>6.047977</td>\n",
       "      <td>9.977019</td>\n",
       "      <td>4.858634</td>\n",
       "      <td>68.347543</td>\n",
       "      <td>2.146849</td>\n",
       "      <td>10.422762</td>\n",
       "      <td>0.883763</td>\n",
       "      <td>16.532835</td>\n",
       "    </tr>\n",
       "    <tr>\n",
       "      <th>4</th>\n",
       "      <td>2016-01-15 04:00:00</td>\n",
       "      <td>5.663707</td>\n",
       "      <td>6.060915</td>\n",
       "      <td>1.786875</td>\n",
       "      <td>34.347666</td>\n",
       "      <td>540.531893</td>\n",
       "      <td>56.047189</td>\n",
       "      <td>10.957755</td>\n",
       "      <td>6.198826</td>\n",
       "      <td>999.678690</td>\n",
       "      <td>...</td>\n",
       "      <td>8.871028</td>\n",
       "      <td>42.774141</td>\n",
       "      <td>6.148599</td>\n",
       "      <td>10.142511</td>\n",
       "      <td>4.939416</td>\n",
       "      <td>66.927016</td>\n",
       "      <td>2.055292</td>\n",
       "      <td>10.360302</td>\n",
       "      <td>0.792826</td>\n",
       "      <td>16.525686</td>\n",
       "    </tr>\n",
       "  </tbody>\n",
       "</table>\n",
       "<p>5 rows × 87 columns</p>\n",
       "</div>"
      ],
      "text/plain": [
       "                  date  rougher.input.feed_au  rougher.input.feed_ag  \\\n",
       "0  2016-01-15 00:00:00               6.486150               6.100378   \n",
       "1  2016-01-15 01:00:00               6.478583               6.161113   \n",
       "2  2016-01-15 02:00:00               6.362222               6.116455   \n",
       "3  2016-01-15 03:00:00               6.118189               6.043309   \n",
       "4  2016-01-15 04:00:00               5.663707               6.060915   \n",
       "\n",
       "   rougher.input.feed_pb  rougher.input.feed_sol  rougher.input.feed_rate  \\\n",
       "0               2.284912               36.808594               523.546326   \n",
       "1               2.266033               35.753385               525.290581   \n",
       "2               2.159622               35.971630               530.026610   \n",
       "3               2.037807               36.862241               542.590390   \n",
       "4               1.786875               34.347666               540.531893   \n",
       "\n",
       "   rougher.input.feed_size  rougher.input.floatbank10_sulfate  \\\n",
       "0                55.486599                          11.986616   \n",
       "1                57.278666                          11.971193   \n",
       "2                57.510649                          11.920603   \n",
       "3                57.792734                          11.630094   \n",
       "4                56.047189                          10.957755   \n",
       "\n",
       "   rougher.input.floatbank10_xanthate  rougher.state.floatbank10_a_air  ...  \\\n",
       "0                            6.007990                       999.706909  ...   \n",
       "1                            6.005766                      1000.286398  ...   \n",
       "2                            6.197377                       999.719565  ...   \n",
       "3                            6.203177                       999.814770  ...   \n",
       "4                            6.198826                       999.678690  ...   \n",
       "\n",
       "   secondary_cleaner.output.tail_sol  final.output.concentrate_au  \\\n",
       "0                           8.764648                    42.192020   \n",
       "1                           9.001494                    42.701629   \n",
       "2                           8.842896                    42.657501   \n",
       "3                           9.122857                    42.689819   \n",
       "4                           8.871028                    42.774141   \n",
       "\n",
       "   final.output.concentrate_ag  final.output.concentrate_pb  \\\n",
       "0                     6.055403                     9.889648   \n",
       "1                     6.029369                     9.968944   \n",
       "2                     6.055926                    10.213995   \n",
       "3                     6.047977                     9.977019   \n",
       "4                     6.148599                    10.142511   \n",
       "\n",
       "   final.output.concentrate_sol  final.output.recovery  final.output.tail_au  \\\n",
       "0                      5.507324              70.541216              2.143149   \n",
       "1                      5.257781              69.266198              2.224930   \n",
       "2                      5.383759              68.116445              2.257889   \n",
       "3                      4.858634              68.347543              2.146849   \n",
       "4                      4.939416              66.927016              2.055292   \n",
       "\n",
       "   final.output.tail_ag  final.output.tail_pb  final.output.tail_sol  \n",
       "0             10.411962              0.895447              16.904297  \n",
       "1             10.462676              0.927452              16.634514  \n",
       "2             10.507046              0.953716              16.208849  \n",
       "3             10.422762              0.883763              16.532835  \n",
       "4             10.360302              0.792826              16.525686  \n",
       "\n",
       "[5 rows x 87 columns]"
      ]
     },
     "execution_count": 7,
     "metadata": {},
     "output_type": "execute_result"
    }
   ],
   "source": [
    "data_full.head()"
   ]
  },
  {
   "cell_type": "code",
   "execution_count": 8,
   "metadata": {
    "scrolled": true
   },
   "outputs": [
    {
     "name": "stdout",
     "output_type": "stream",
     "text": [
      "<class 'pandas.core.frame.DataFrame'>\n",
      "RangeIndex: 19439 entries, 0 to 19438\n",
      "Data columns (total 87 columns):\n",
      " #   Column                                              Non-Null Count  Dtype  \n",
      "---  ------                                              --------------  -----  \n",
      " 0   date                                                19439 non-null  object \n",
      " 1   rougher.input.feed_au                               19439 non-null  float64\n",
      " 2   rougher.input.feed_ag                               19439 non-null  float64\n",
      " 3   rougher.input.feed_pb                               19339 non-null  float64\n",
      " 4   rougher.input.feed_sol                              19340 non-null  float64\n",
      " 5   rougher.input.feed_rate                             19428 non-null  float64\n",
      " 6   rougher.input.feed_size                             19294 non-null  float64\n",
      " 7   rougher.input.floatbank10_sulfate                   19405 non-null  float64\n",
      " 8   rougher.input.floatbank10_xanthate                  19431 non-null  float64\n",
      " 9   rougher.state.floatbank10_a_air                     19438 non-null  float64\n",
      " 10  rougher.state.floatbank10_a_level                   19438 non-null  float64\n",
      " 11  rougher.state.floatbank10_b_air                     19438 non-null  float64\n",
      " 12  rougher.state.floatbank10_b_level                   19438 non-null  float64\n",
      " 13  rougher.state.floatbank10_c_air                     19438 non-null  float64\n",
      " 14  rougher.state.floatbank10_c_level                   19438 non-null  float64\n",
      " 15  rougher.state.floatbank10_d_air                     19439 non-null  float64\n",
      " 16  rougher.state.floatbank10_d_level                   19439 non-null  float64\n",
      " 17  rougher.state.floatbank10_e_air                     19003 non-null  float64\n",
      " 18  rougher.state.floatbank10_e_level                   19439 non-null  float64\n",
      " 19  rougher.state.floatbank10_f_air                     19439 non-null  float64\n",
      " 20  rougher.state.floatbank10_f_level                   19439 non-null  float64\n",
      " 21  rougher.input.floatbank11_sulfate                   19395 non-null  float64\n",
      " 22  rougher.input.floatbank11_xanthate                  18986 non-null  float64\n",
      " 23  rougher.calculation.sulfate_to_au_concentrate       19437 non-null  float64\n",
      " 24  rougher.calculation.floatbank10_sulfate_to_au_feed  19437 non-null  float64\n",
      " 25  rougher.calculation.floatbank11_sulfate_to_au_feed  19437 non-null  float64\n",
      " 26  rougher.calculation.au_pb_ratio                     19439 non-null  float64\n",
      " 27  rougher.output.concentrate_au                       19439 non-null  float64\n",
      " 28  rougher.output.concentrate_ag                       19439 non-null  float64\n",
      " 29  rougher.output.concentrate_pb                       19439 non-null  float64\n",
      " 30  rougher.output.concentrate_sol                      19416 non-null  float64\n",
      " 31  rougher.output.recovery                             19439 non-null  float64\n",
      " 32  rougher.output.tail_au                              19439 non-null  float64\n",
      " 33  rougher.output.tail_ag                              19438 non-null  float64\n",
      " 34  rougher.output.tail_pb                              19439 non-null  float64\n",
      " 35  rougher.output.tail_sol                             19439 non-null  float64\n",
      " 36  primary_cleaner.input.sulfate                       19415 non-null  float64\n",
      " 37  primary_cleaner.input.depressant                    19402 non-null  float64\n",
      " 38  primary_cleaner.input.feed_size                     19439 non-null  float64\n",
      " 39  primary_cleaner.input.xanthate                      19335 non-null  float64\n",
      " 40  primary_cleaner.state.floatbank8_a_air              19435 non-null  float64\n",
      " 41  primary_cleaner.state.floatbank8_a_level            19438 non-null  float64\n",
      " 42  primary_cleaner.state.floatbank8_b_air              19435 non-null  float64\n",
      " 43  primary_cleaner.state.floatbank8_b_level            19438 non-null  float64\n",
      " 44  primary_cleaner.state.floatbank8_c_air              19437 non-null  float64\n",
      " 45  primary_cleaner.state.floatbank8_c_level            19438 non-null  float64\n",
      " 46  primary_cleaner.state.floatbank8_d_air              19436 non-null  float64\n",
      " 47  primary_cleaner.state.floatbank8_d_level            19438 non-null  float64\n",
      " 48  primary_cleaner.output.concentrate_au               19439 non-null  float64\n",
      " 49  primary_cleaner.output.concentrate_ag               19439 non-null  float64\n",
      " 50  primary_cleaner.output.concentrate_pb               19323 non-null  float64\n",
      " 51  primary_cleaner.output.concentrate_sol              19069 non-null  float64\n",
      " 52  primary_cleaner.output.tail_au                      19439 non-null  float64\n",
      " 53  primary_cleaner.output.tail_ag                      19435 non-null  float64\n",
      " 54  primary_cleaner.output.tail_pb                      19418 non-null  float64\n",
      " 55  primary_cleaner.output.tail_sol                     19377 non-null  float64\n",
      " 56  secondary_cleaner.state.floatbank2_a_air            19219 non-null  float64\n",
      " 57  secondary_cleaner.state.floatbank2_a_level          19438 non-null  float64\n",
      " 58  secondary_cleaner.state.floatbank2_b_air            19416 non-null  float64\n",
      " 59  secondary_cleaner.state.floatbank2_b_level          19438 non-null  float64\n",
      " 60  secondary_cleaner.state.floatbank3_a_air            19426 non-null  float64\n",
      " 61  secondary_cleaner.state.floatbank3_a_level          19438 non-null  float64\n",
      " 62  secondary_cleaner.state.floatbank3_b_air            19438 non-null  float64\n",
      " 63  secondary_cleaner.state.floatbank3_b_level          19438 non-null  float64\n",
      " 64  secondary_cleaner.state.floatbank4_a_air            19433 non-null  float64\n",
      " 65  secondary_cleaner.state.floatbank4_a_level          19438 non-null  float64\n",
      " 66  secondary_cleaner.state.floatbank4_b_air            19438 non-null  float64\n",
      " 67  secondary_cleaner.state.floatbank4_b_level          19438 non-null  float64\n",
      " 68  secondary_cleaner.state.floatbank5_a_air            19438 non-null  float64\n",
      " 69  secondary_cleaner.state.floatbank5_a_level          19438 non-null  float64\n",
      " 70  secondary_cleaner.state.floatbank5_b_air            19438 non-null  float64\n",
      " 71  secondary_cleaner.state.floatbank5_b_level          19438 non-null  float64\n",
      " 72  secondary_cleaner.state.floatbank6_a_air            19437 non-null  float64\n",
      " 73  secondary_cleaner.state.floatbank6_a_level          19438 non-null  float64\n",
      " 74  secondary_cleaner.output.tail_au                    19439 non-null  float64\n",
      " 75  secondary_cleaner.output.tail_ag                    19437 non-null  float64\n",
      " 76  secondary_cleaner.output.tail_pb                    19427 non-null  float64\n",
      " 77  secondary_cleaner.output.tail_sol                   17691 non-null  float64\n",
      " 78  final.output.concentrate_au                         19439 non-null  float64\n",
      " 79  final.output.concentrate_ag                         19438 non-null  float64\n",
      " 80  final.output.concentrate_pb                         19438 non-null  float64\n",
      " 81  final.output.concentrate_sol                        19228 non-null  float64\n",
      " 82  final.output.recovery                               19439 non-null  float64\n",
      " 83  final.output.tail_au                                19439 non-null  float64\n",
      " 84  final.output.tail_ag                                19438 non-null  float64\n",
      " 85  final.output.tail_pb                                19338 non-null  float64\n",
      " 86  final.output.tail_sol                               19433 non-null  float64\n",
      "dtypes: float64(86), object(1)\n",
      "memory usage: 12.9+ MB\n"
     ]
    }
   ],
   "source": [
    "data_full.info()"
   ]
  },
  {
   "cell_type": "markdown",
   "metadata": {},
   "source": [
    "*Проверка эффективности обогащения.*"
   ]
  },
  {
   "cell_type": "code",
   "execution_count": 9,
   "metadata": {},
   "outputs": [
    {
     "name": "stdout",
     "output_type": "stream",
     "text": [
      "MAE: 9.83758577644259e-15\n"
     ]
    }
   ],
   "source": [
    "recovery = data_train['rougher.output.concentrate_au']*(\n",
    "data_train['rougher.input.feed_au'] - data_train['rougher.output.tail_au']) / (\n",
    "data_train['rougher.input.feed_au'] * (data_train['rougher.output.concentrate_au'] - \n",
    "                                       data_train['rougher.output.tail_au']))*100 \n",
    "\n",
    "print('MAE:', mean_absolute_error(data_train['rougher.output.recovery'], recovery)) "
   ]
  },
  {
   "cell_type": "markdown",
   "metadata": {},
   "source": [
    "Абсолютная средняя ошибка очень мала, это говорит о том, что эффективность обогащения рассчитана правильно."
   ]
  },
  {
   "cell_type": "markdown",
   "metadata": {},
   "source": [
    "*Рассмотрим, какие признаки есть в обучающей выборке, но при этом отустствуют в тестовой.*"
   ]
  },
  {
   "cell_type": "code",
   "execution_count": 10,
   "metadata": {
    "scrolled": true
   },
   "outputs": [
    {
     "name": "stdout",
     "output_type": "stream",
     "text": [
      "rougher.calculation.sulfate_to_au_concentrate\n",
      "rougher.calculation.floatbank10_sulfate_to_au_feed\n",
      "rougher.calculation.floatbank11_sulfate_to_au_feed\n",
      "rougher.calculation.au_pb_ratio\n",
      "rougher.output.concentrate_au\n",
      "rougher.output.concentrate_ag\n",
      "rougher.output.concentrate_pb\n",
      "rougher.output.concentrate_sol\n",
      "rougher.output.recovery\n",
      "rougher.output.tail_au\n",
      "rougher.output.tail_ag\n",
      "rougher.output.tail_pb\n",
      "rougher.output.tail_sol\n",
      "primary_cleaner.output.concentrate_au\n",
      "primary_cleaner.output.concentrate_ag\n",
      "primary_cleaner.output.concentrate_pb\n",
      "primary_cleaner.output.concentrate_sol\n",
      "primary_cleaner.output.tail_au\n",
      "primary_cleaner.output.tail_ag\n",
      "primary_cleaner.output.tail_pb\n",
      "primary_cleaner.output.tail_sol\n",
      "secondary_cleaner.output.tail_au\n",
      "secondary_cleaner.output.tail_ag\n",
      "secondary_cleaner.output.tail_pb\n",
      "secondary_cleaner.output.tail_sol\n",
      "final.output.concentrate_au\n",
      "final.output.concentrate_ag\n",
      "final.output.concentrate_pb\n",
      "final.output.concentrate_sol\n",
      "final.output.recovery\n",
      "final.output.tail_au\n",
      "final.output.tail_ag\n",
      "final.output.tail_pb\n",
      "final.output.tail_sol\n"
     ]
    }
   ],
   "source": [
    "list_train = data_train.columns.values.tolist()\n",
    "list_test = data_test.columns.values.tolist()\n",
    "for quantity in list_train:\n",
    "    if quantity not in list_test:\n",
    "        print(quantity)"
   ]
  },
  {
   "cell_type": "markdown",
   "metadata": {},
   "source": [
    "Проанализировав какие столбцы есть в train и отсутствуют в test, можно сделать вывод, что это столбцы содержащие выходные характеристики ступеней технологического процесса. Поскольку эти значения можно получить лишь после самого процесса, такие столбцы необходимо исключить из процесса обучения предсказывающих моделей."
   ]
  },
  {
   "cell_type": "markdown",
   "metadata": {},
   "source": [
    "*В тестовой выборке отсутствуют два целевых признака: rougher.output.recovery и final.output.recovery. Добавим их в датасет из исходной таблицы.*"
   ]
  },
  {
   "cell_type": "code",
   "execution_count": 11,
   "metadata": {
    "scrolled": true
   },
   "outputs": [
    {
     "data": {
      "text/html": [
       "<div>\n",
       "<style scoped>\n",
       "    .dataframe tbody tr th:only-of-type {\n",
       "        vertical-align: middle;\n",
       "    }\n",
       "\n",
       "    .dataframe tbody tr th {\n",
       "        vertical-align: top;\n",
       "    }\n",
       "\n",
       "    .dataframe thead th {\n",
       "        text-align: right;\n",
       "    }\n",
       "</style>\n",
       "<table border=\"1\" class=\"dataframe\">\n",
       "  <thead>\n",
       "    <tr style=\"text-align: right;\">\n",
       "      <th></th>\n",
       "      <th>date</th>\n",
       "      <th>rougher.input.feed_au</th>\n",
       "      <th>rougher.input.feed_ag</th>\n",
       "      <th>rougher.input.feed_pb</th>\n",
       "      <th>rougher.input.feed_sol</th>\n",
       "      <th>rougher.input.feed_rate</th>\n",
       "      <th>rougher.input.feed_size</th>\n",
       "      <th>rougher.input.floatbank10_sulfate</th>\n",
       "      <th>rougher.input.floatbank10_xanthate</th>\n",
       "      <th>rougher.state.floatbank10_a_air</th>\n",
       "      <th>...</th>\n",
       "      <th>secondary_cleaner.state.floatbank4_b_air</th>\n",
       "      <th>secondary_cleaner.state.floatbank4_b_level</th>\n",
       "      <th>secondary_cleaner.state.floatbank5_a_air</th>\n",
       "      <th>secondary_cleaner.state.floatbank5_a_level</th>\n",
       "      <th>secondary_cleaner.state.floatbank5_b_air</th>\n",
       "      <th>secondary_cleaner.state.floatbank5_b_level</th>\n",
       "      <th>secondary_cleaner.state.floatbank6_a_air</th>\n",
       "      <th>secondary_cleaner.state.floatbank6_a_level</th>\n",
       "      <th>rougher.output.recovery</th>\n",
       "      <th>final.output.recovery</th>\n",
       "    </tr>\n",
       "  </thead>\n",
       "  <tbody>\n",
       "    <tr>\n",
       "      <th>0</th>\n",
       "      <td>2017-12-09 14:59:59</td>\n",
       "      <td>4.365491</td>\n",
       "      <td>6.158718</td>\n",
       "      <td>3.875727</td>\n",
       "      <td>39.135119</td>\n",
       "      <td>555.820208</td>\n",
       "      <td>94.544358</td>\n",
       "      <td>6.146982</td>\n",
       "      <td>9.308612</td>\n",
       "      <td>1196.238112</td>\n",
       "      <td>...</td>\n",
       "      <td>20.020205</td>\n",
       "      <td>-500.220296</td>\n",
       "      <td>17.963512</td>\n",
       "      <td>-499.939490</td>\n",
       "      <td>12.990306</td>\n",
       "      <td>-500.080993</td>\n",
       "      <td>19.990336</td>\n",
       "      <td>-499.191575</td>\n",
       "      <td>89.514960</td>\n",
       "      <td>70.281454</td>\n",
       "    </tr>\n",
       "    <tr>\n",
       "      <th>1</th>\n",
       "      <td>2017-12-09 15:59:59</td>\n",
       "      <td>4.362781</td>\n",
       "      <td>6.048130</td>\n",
       "      <td>3.902537</td>\n",
       "      <td>39.713906</td>\n",
       "      <td>544.731687</td>\n",
       "      <td>123.742430</td>\n",
       "      <td>6.210119</td>\n",
       "      <td>9.297709</td>\n",
       "      <td>1201.904177</td>\n",
       "      <td>...</td>\n",
       "      <td>20.054122</td>\n",
       "      <td>-500.314711</td>\n",
       "      <td>17.979515</td>\n",
       "      <td>-499.272871</td>\n",
       "      <td>12.992404</td>\n",
       "      <td>-499.976268</td>\n",
       "      <td>20.013986</td>\n",
       "      <td>-500.625471</td>\n",
       "      <td>89.858126</td>\n",
       "      <td>65.523246</td>\n",
       "    </tr>\n",
       "    <tr>\n",
       "      <th>2</th>\n",
       "      <td>2017-12-09 16:59:59</td>\n",
       "      <td>5.081681</td>\n",
       "      <td>6.082745</td>\n",
       "      <td>4.564078</td>\n",
       "      <td>37.208683</td>\n",
       "      <td>558.155110</td>\n",
       "      <td>82.610855</td>\n",
       "      <td>7.363824</td>\n",
       "      <td>9.003562</td>\n",
       "      <td>1200.826926</td>\n",
       "      <td>...</td>\n",
       "      <td>20.029144</td>\n",
       "      <td>-500.000662</td>\n",
       "      <td>18.012723</td>\n",
       "      <td>-500.024764</td>\n",
       "      <td>13.016445</td>\n",
       "      <td>-500.058432</td>\n",
       "      <td>19.973767</td>\n",
       "      <td>-501.394155</td>\n",
       "      <td>91.816623</td>\n",
       "      <td>74.817644</td>\n",
       "    </tr>\n",
       "    <tr>\n",
       "      <th>3</th>\n",
       "      <td>2017-12-09 17:59:59</td>\n",
       "      <td>5.145949</td>\n",
       "      <td>6.084374</td>\n",
       "      <td>4.768124</td>\n",
       "      <td>36.808874</td>\n",
       "      <td>539.713765</td>\n",
       "      <td>77.984784</td>\n",
       "      <td>6.927072</td>\n",
       "      <td>8.955597</td>\n",
       "      <td>1199.292489</td>\n",
       "      <td>...</td>\n",
       "      <td>19.977466</td>\n",
       "      <td>-500.159903</td>\n",
       "      <td>17.980463</td>\n",
       "      <td>-500.504602</td>\n",
       "      <td>12.949071</td>\n",
       "      <td>-500.009937</td>\n",
       "      <td>20.010332</td>\n",
       "      <td>-508.337973</td>\n",
       "      <td>88.478959</td>\n",
       "      <td>63.082720</td>\n",
       "    </tr>\n",
       "    <tr>\n",
       "      <th>4</th>\n",
       "      <td>2017-12-09 18:59:59</td>\n",
       "      <td>5.735249</td>\n",
       "      <td>6.165220</td>\n",
       "      <td>4.512346</td>\n",
       "      <td>37.810642</td>\n",
       "      <td>558.713584</td>\n",
       "      <td>86.434874</td>\n",
       "      <td>7.823471</td>\n",
       "      <td>7.490356</td>\n",
       "      <td>1198.005449</td>\n",
       "      <td>...</td>\n",
       "      <td>20.023735</td>\n",
       "      <td>-499.713680</td>\n",
       "      <td>17.990955</td>\n",
       "      <td>-500.334769</td>\n",
       "      <td>13.007523</td>\n",
       "      <td>-499.968459</td>\n",
       "      <td>19.995999</td>\n",
       "      <td>-499.788805</td>\n",
       "      <td>89.230316</td>\n",
       "      <td>74.463380</td>\n",
       "    </tr>\n",
       "    <tr>\n",
       "      <th>5</th>\n",
       "      <td>2017-12-09 19:59:59</td>\n",
       "      <td>5.848338</td>\n",
       "      <td>6.234198</td>\n",
       "      <td>4.468803</td>\n",
       "      <td>37.816555</td>\n",
       "      <td>547.515088</td>\n",
       "      <td>85.875864</td>\n",
       "      <td>8.040386</td>\n",
       "      <td>7.500718</td>\n",
       "      <td>1201.408796</td>\n",
       "      <td>...</td>\n",
       "      <td>20.000113</td>\n",
       "      <td>-500.584093</td>\n",
       "      <td>18.003899</td>\n",
       "      <td>-500.326371</td>\n",
       "      <td>12.978611</td>\n",
       "      <td>-499.966502</td>\n",
       "      <td>19.988673</td>\n",
       "      <td>-500.742891</td>\n",
       "      <td>89.243530</td>\n",
       "      <td>73.391498</td>\n",
       "    </tr>\n",
       "    <tr>\n",
       "      <th>6</th>\n",
       "      <td>2017-12-09 20:59:59</td>\n",
       "      <td>6.172839</td>\n",
       "      <td>6.213598</td>\n",
       "      <td>4.458071</td>\n",
       "      <td>36.829223</td>\n",
       "      <td>518.363800</td>\n",
       "      <td>73.426294</td>\n",
       "      <td>7.641859</td>\n",
       "      <td>7.498470</td>\n",
       "      <td>1198.551240</td>\n",
       "      <td>...</td>\n",
       "      <td>20.010567</td>\n",
       "      <td>-500.545746</td>\n",
       "      <td>18.040164</td>\n",
       "      <td>-498.936442</td>\n",
       "      <td>12.988702</td>\n",
       "      <td>-499.985412</td>\n",
       "      <td>20.014155</td>\n",
       "      <td>-499.443855</td>\n",
       "      <td>90.945903</td>\n",
       "      <td>76.537426</td>\n",
       "    </tr>\n",
       "    <tr>\n",
       "      <th>7</th>\n",
       "      <td>2017-12-09 21:59:59</td>\n",
       "      <td>5.743825</td>\n",
       "      <td>6.264367</td>\n",
       "      <td>4.428267</td>\n",
       "      <td>37.170131</td>\n",
       "      <td>500.494798</td>\n",
       "      <td>75.915232</td>\n",
       "      <td>7.230213</td>\n",
       "      <td>7.496599</td>\n",
       "      <td>1201.172468</td>\n",
       "      <td>...</td>\n",
       "      <td>20.043525</td>\n",
       "      <td>-499.701442</td>\n",
       "      <td>17.991164</td>\n",
       "      <td>-500.324632</td>\n",
       "      <td>13.000809</td>\n",
       "      <td>-500.181711</td>\n",
       "      <td>20.001605</td>\n",
       "      <td>-500.229965</td>\n",
       "      <td>90.045570</td>\n",
       "      <td>66.699123</td>\n",
       "    </tr>\n",
       "    <tr>\n",
       "      <th>8</th>\n",
       "      <td>2017-12-09 22:59:59</td>\n",
       "      <td>5.558520</td>\n",
       "      <td>6.167472</td>\n",
       "      <td>4.370640</td>\n",
       "      <td>37.356892</td>\n",
       "      <td>540.990643</td>\n",
       "      <td>79.668503</td>\n",
       "      <td>7.089240</td>\n",
       "      <td>7.524634</td>\n",
       "      <td>1195.305111</td>\n",
       "      <td>...</td>\n",
       "      <td>19.995022</td>\n",
       "      <td>-500.415107</td>\n",
       "      <td>18.057379</td>\n",
       "      <td>-499.238503</td>\n",
       "      <td>13.011922</td>\n",
       "      <td>-500.067255</td>\n",
       "      <td>20.002796</td>\n",
       "      <td>-504.347015</td>\n",
       "      <td>86.561726</td>\n",
       "      <td>66.803293</td>\n",
       "    </tr>\n",
       "    <tr>\n",
       "      <th>9</th>\n",
       "      <td>2017-12-09 23:59:59</td>\n",
       "      <td>5.473143</td>\n",
       "      <td>6.076597</td>\n",
       "      <td>4.274908</td>\n",
       "      <td>38.631317</td>\n",
       "      <td>492.146649</td>\n",
       "      <td>90.792119</td>\n",
       "      <td>7.367698</td>\n",
       "      <td>6.543369</td>\n",
       "      <td>1203.076302</td>\n",
       "      <td>...</td>\n",
       "      <td>20.016755</td>\n",
       "      <td>-499.840744</td>\n",
       "      <td>17.991566</td>\n",
       "      <td>-500.303770</td>\n",
       "      <td>13.023215</td>\n",
       "      <td>-500.018271</td>\n",
       "      <td>20.015115</td>\n",
       "      <td>-515.537548</td>\n",
       "      <td>87.744255</td>\n",
       "      <td>68.563604</td>\n",
       "    </tr>\n",
       "  </tbody>\n",
       "</table>\n",
       "<p>10 rows × 55 columns</p>\n",
       "</div>"
      ],
      "text/plain": [
       "                  date  rougher.input.feed_au  rougher.input.feed_ag  \\\n",
       "0  2017-12-09 14:59:59               4.365491               6.158718   \n",
       "1  2017-12-09 15:59:59               4.362781               6.048130   \n",
       "2  2017-12-09 16:59:59               5.081681               6.082745   \n",
       "3  2017-12-09 17:59:59               5.145949               6.084374   \n",
       "4  2017-12-09 18:59:59               5.735249               6.165220   \n",
       "5  2017-12-09 19:59:59               5.848338               6.234198   \n",
       "6  2017-12-09 20:59:59               6.172839               6.213598   \n",
       "7  2017-12-09 21:59:59               5.743825               6.264367   \n",
       "8  2017-12-09 22:59:59               5.558520               6.167472   \n",
       "9  2017-12-09 23:59:59               5.473143               6.076597   \n",
       "\n",
       "   rougher.input.feed_pb  rougher.input.feed_sol  rougher.input.feed_rate  \\\n",
       "0               3.875727               39.135119               555.820208   \n",
       "1               3.902537               39.713906               544.731687   \n",
       "2               4.564078               37.208683               558.155110   \n",
       "3               4.768124               36.808874               539.713765   \n",
       "4               4.512346               37.810642               558.713584   \n",
       "5               4.468803               37.816555               547.515088   \n",
       "6               4.458071               36.829223               518.363800   \n",
       "7               4.428267               37.170131               500.494798   \n",
       "8               4.370640               37.356892               540.990643   \n",
       "9               4.274908               38.631317               492.146649   \n",
       "\n",
       "   rougher.input.feed_size  rougher.input.floatbank10_sulfate  \\\n",
       "0                94.544358                           6.146982   \n",
       "1               123.742430                           6.210119   \n",
       "2                82.610855                           7.363824   \n",
       "3                77.984784                           6.927072   \n",
       "4                86.434874                           7.823471   \n",
       "5                85.875864                           8.040386   \n",
       "6                73.426294                           7.641859   \n",
       "7                75.915232                           7.230213   \n",
       "8                79.668503                           7.089240   \n",
       "9                90.792119                           7.367698   \n",
       "\n",
       "   rougher.input.floatbank10_xanthate  rougher.state.floatbank10_a_air  ...  \\\n",
       "0                            9.308612                      1196.238112  ...   \n",
       "1                            9.297709                      1201.904177  ...   \n",
       "2                            9.003562                      1200.826926  ...   \n",
       "3                            8.955597                      1199.292489  ...   \n",
       "4                            7.490356                      1198.005449  ...   \n",
       "5                            7.500718                      1201.408796  ...   \n",
       "6                            7.498470                      1198.551240  ...   \n",
       "7                            7.496599                      1201.172468  ...   \n",
       "8                            7.524634                      1195.305111  ...   \n",
       "9                            6.543369                      1203.076302  ...   \n",
       "\n",
       "   secondary_cleaner.state.floatbank4_b_air  \\\n",
       "0                                 20.020205   \n",
       "1                                 20.054122   \n",
       "2                                 20.029144   \n",
       "3                                 19.977466   \n",
       "4                                 20.023735   \n",
       "5                                 20.000113   \n",
       "6                                 20.010567   \n",
       "7                                 20.043525   \n",
       "8                                 19.995022   \n",
       "9                                 20.016755   \n",
       "\n",
       "   secondary_cleaner.state.floatbank4_b_level  \\\n",
       "0                                 -500.220296   \n",
       "1                                 -500.314711   \n",
       "2                                 -500.000662   \n",
       "3                                 -500.159903   \n",
       "4                                 -499.713680   \n",
       "5                                 -500.584093   \n",
       "6                                 -500.545746   \n",
       "7                                 -499.701442   \n",
       "8                                 -500.415107   \n",
       "9                                 -499.840744   \n",
       "\n",
       "   secondary_cleaner.state.floatbank5_a_air  \\\n",
       "0                                 17.963512   \n",
       "1                                 17.979515   \n",
       "2                                 18.012723   \n",
       "3                                 17.980463   \n",
       "4                                 17.990955   \n",
       "5                                 18.003899   \n",
       "6                                 18.040164   \n",
       "7                                 17.991164   \n",
       "8                                 18.057379   \n",
       "9                                 17.991566   \n",
       "\n",
       "   secondary_cleaner.state.floatbank5_a_level  \\\n",
       "0                                 -499.939490   \n",
       "1                                 -499.272871   \n",
       "2                                 -500.024764   \n",
       "3                                 -500.504602   \n",
       "4                                 -500.334769   \n",
       "5                                 -500.326371   \n",
       "6                                 -498.936442   \n",
       "7                                 -500.324632   \n",
       "8                                 -499.238503   \n",
       "9                                 -500.303770   \n",
       "\n",
       "   secondary_cleaner.state.floatbank5_b_air  \\\n",
       "0                                 12.990306   \n",
       "1                                 12.992404   \n",
       "2                                 13.016445   \n",
       "3                                 12.949071   \n",
       "4                                 13.007523   \n",
       "5                                 12.978611   \n",
       "6                                 12.988702   \n",
       "7                                 13.000809   \n",
       "8                                 13.011922   \n",
       "9                                 13.023215   \n",
       "\n",
       "   secondary_cleaner.state.floatbank5_b_level  \\\n",
       "0                                 -500.080993   \n",
       "1                                 -499.976268   \n",
       "2                                 -500.058432   \n",
       "3                                 -500.009937   \n",
       "4                                 -499.968459   \n",
       "5                                 -499.966502   \n",
       "6                                 -499.985412   \n",
       "7                                 -500.181711   \n",
       "8                                 -500.067255   \n",
       "9                                 -500.018271   \n",
       "\n",
       "   secondary_cleaner.state.floatbank6_a_air  \\\n",
       "0                                 19.990336   \n",
       "1                                 20.013986   \n",
       "2                                 19.973767   \n",
       "3                                 20.010332   \n",
       "4                                 19.995999   \n",
       "5                                 19.988673   \n",
       "6                                 20.014155   \n",
       "7                                 20.001605   \n",
       "8                                 20.002796   \n",
       "9                                 20.015115   \n",
       "\n",
       "   secondary_cleaner.state.floatbank6_a_level  rougher.output.recovery  \\\n",
       "0                                 -499.191575                89.514960   \n",
       "1                                 -500.625471                89.858126   \n",
       "2                                 -501.394155                91.816623   \n",
       "3                                 -508.337973                88.478959   \n",
       "4                                 -499.788805                89.230316   \n",
       "5                                 -500.742891                89.243530   \n",
       "6                                 -499.443855                90.945903   \n",
       "7                                 -500.229965                90.045570   \n",
       "8                                 -504.347015                86.561726   \n",
       "9                                 -515.537548                87.744255   \n",
       "\n",
       "   final.output.recovery  \n",
       "0              70.281454  \n",
       "1              65.523246  \n",
       "2              74.817644  \n",
       "3              63.082720  \n",
       "4              74.463380  \n",
       "5              73.391498  \n",
       "6              76.537426  \n",
       "7              66.699123  \n",
       "8              66.803293  \n",
       "9              68.563604  \n",
       "\n",
       "[10 rows x 55 columns]"
      ]
     },
     "execution_count": 11,
     "metadata": {},
     "output_type": "execute_result"
    }
   ],
   "source": [
    "data_test = data_test.merge(data_full[['date', 'rougher.output.recovery', 'final.output.recovery']], how = 'inner', on='date')\n",
    "data_test.head(10)"
   ]
  },
  {
   "cell_type": "markdown",
   "metadata": {},
   "source": [
    "*Проверим обучающую и тестовую выборки на наличие дубликатов.*"
   ]
  },
  {
   "cell_type": "code",
   "execution_count": 12,
   "metadata": {
    "scrolled": false
   },
   "outputs": [
    {
     "name": "stdout",
     "output_type": "stream",
     "text": [
      "Количество дубликатов в обучающей выборке: 0\n",
      "Количество дубликатов в тестовой выборке: 0\n"
     ]
    }
   ],
   "source": [
    "print('Количество дубликатов в обучающей выборке:', data_train.duplicated().sum())\n",
    "\n",
    "print('Количество дубликатов в тестовой выборке:', data_test.duplicated().sum())"
   ]
  },
  {
   "cell_type": "markdown",
   "metadata": {},
   "source": [
    "*Проверим обучающую выборку на наличие пропусков.*"
   ]
  },
  {
   "cell_type": "code",
   "execution_count": 13,
   "metadata": {
    "scrolled": true
   },
   "outputs": [
    {
     "data": {
      "text/plain": [
       "date                                                    0\n",
       "rougher.input.feed_au                                   0\n",
       "rougher.input.feed_ag                                   0\n",
       "rougher.input.feed_pb                                  72\n",
       "rougher.input.feed_sol                                 77\n",
       "rougher.input.feed_rate                                 7\n",
       "rougher.input.feed_size                               101\n",
       "rougher.input.floatbank10_sulfate                      31\n",
       "rougher.input.floatbank10_xanthate                      7\n",
       "rougher.state.floatbank10_a_air                         0\n",
       "rougher.state.floatbank10_a_level                       0\n",
       "rougher.state.floatbank10_b_air                         0\n",
       "rougher.state.floatbank10_b_level                       0\n",
       "rougher.state.floatbank10_c_air                         0\n",
       "rougher.state.floatbank10_c_level                       0\n",
       "rougher.state.floatbank10_d_air                         0\n",
       "rougher.state.floatbank10_d_level                       0\n",
       "rougher.state.floatbank10_e_air                       429\n",
       "rougher.state.floatbank10_e_level                       0\n",
       "rougher.state.floatbank10_f_air                         0\n",
       "rougher.state.floatbank10_f_level                       0\n",
       "rougher.input.floatbank11_sulfate                      36\n",
       "rougher.input.floatbank11_xanthate                    407\n",
       "rougher.calculation.sulfate_to_au_concentrate           1\n",
       "rougher.calculation.floatbank10_sulfate_to_au_feed      1\n",
       "rougher.calculation.floatbank11_sulfate_to_au_feed      1\n",
       "rougher.calculation.au_pb_ratio                         0\n",
       "rougher.output.concentrate_au                           0\n",
       "rougher.output.concentrate_ag                           0\n",
       "rougher.output.concentrate_pb                           0\n",
       "rougher.output.concentrate_sol                         18\n",
       "rougher.output.recovery                                 0\n",
       "rougher.output.tail_au                                  0\n",
       "rougher.output.tail_ag                                  1\n",
       "rougher.output.tail_pb                                  0\n",
       "rougher.output.tail_sol                                 0\n",
       "primary_cleaner.input.sulfate                          23\n",
       "primary_cleaner.input.depressant                       28\n",
       "primary_cleaner.input.feed_size                         0\n",
       "primary_cleaner.input.xanthate                         61\n",
       "primary_cleaner.state.floatbank8_a_air                  3\n",
       "primary_cleaner.state.floatbank8_a_level                0\n",
       "primary_cleaner.state.floatbank8_b_air                  3\n",
       "primary_cleaner.state.floatbank8_b_level                0\n",
       "primary_cleaner.state.floatbank8_c_air                  0\n",
       "primary_cleaner.state.floatbank8_c_level                0\n",
       "primary_cleaner.state.floatbank8_d_air                  1\n",
       "primary_cleaner.state.floatbank8_d_level                0\n",
       "primary_cleaner.output.concentrate_au                   0\n",
       "primary_cleaner.output.concentrate_ag                   0\n",
       "primary_cleaner.output.concentrate_pb                  88\n",
       "primary_cleaner.output.concentrate_sol                265\n",
       "primary_cleaner.output.tail_au                          0\n",
       "primary_cleaner.output.tail_ag                          4\n",
       "primary_cleaner.output.tail_pb                          6\n",
       "primary_cleaner.output.tail_sol                        45\n",
       "secondary_cleaner.state.floatbank2_a_air               94\n",
       "secondary_cleaner.state.floatbank2_a_level              0\n",
       "secondary_cleaner.state.floatbank2_b_air               22\n",
       "secondary_cleaner.state.floatbank2_b_level              0\n",
       "secondary_cleaner.state.floatbank3_a_air               12\n",
       "secondary_cleaner.state.floatbank3_a_level              0\n",
       "secondary_cleaner.state.floatbank3_b_air                0\n",
       "secondary_cleaner.state.floatbank3_b_level              0\n",
       "secondary_cleaner.state.floatbank4_a_air                5\n",
       "secondary_cleaner.state.floatbank4_a_level              0\n",
       "secondary_cleaner.state.floatbank4_b_air                0\n",
       "secondary_cleaner.state.floatbank4_b_level              0\n",
       "secondary_cleaner.state.floatbank5_a_air                0\n",
       "secondary_cleaner.state.floatbank5_a_level              0\n",
       "secondary_cleaner.state.floatbank5_b_air                0\n",
       "secondary_cleaner.state.floatbank5_b_level              0\n",
       "secondary_cleaner.state.floatbank6_a_air                1\n",
       "secondary_cleaner.state.floatbank6_a_level              0\n",
       "secondary_cleaner.output.tail_au                        0\n",
       "secondary_cleaner.output.tail_ag                        1\n",
       "secondary_cleaner.output.tail_pb                        4\n",
       "secondary_cleaner.output.tail_sol                     920\n",
       "final.output.concentrate_au                             0\n",
       "final.output.concentrate_ag                             1\n",
       "final.output.concentrate_pb                             1\n",
       "final.output.concentrate_sol                          192\n",
       "final.output.recovery                                   0\n",
       "final.output.tail_au                                    0\n",
       "final.output.tail_ag                                    1\n",
       "final.output.tail_pb                                   75\n",
       "final.output.tail_sol                                   5\n",
       "dtype: int64"
      ]
     },
     "execution_count": 13,
     "metadata": {},
     "output_type": "execute_result"
    }
   ],
   "source": [
    "data_train.isna().sum()"
   ]
  },
  {
   "cell_type": "markdown",
   "metadata": {},
   "source": [
    "*Проверим тестовую выборку на наличие пропусков.*"
   ]
  },
  {
   "cell_type": "code",
   "execution_count": 14,
   "metadata": {
    "scrolled": true
   },
   "outputs": [
    {
     "data": {
      "text/plain": [
       "date                                            0\n",
       "rougher.input.feed_au                           0\n",
       "rougher.input.feed_ag                           0\n",
       "rougher.input.feed_pb                          28\n",
       "rougher.input.feed_sol                         22\n",
       "rougher.input.feed_rate                         4\n",
       "rougher.input.feed_size                        44\n",
       "rougher.input.floatbank10_sulfate               3\n",
       "rougher.input.floatbank10_xanthate              1\n",
       "rougher.state.floatbank10_a_air                 1\n",
       "rougher.state.floatbank10_a_level               1\n",
       "rougher.state.floatbank10_b_air                 1\n",
       "rougher.state.floatbank10_b_level               1\n",
       "rougher.state.floatbank10_c_air                 1\n",
       "rougher.state.floatbank10_c_level               1\n",
       "rougher.state.floatbank10_d_air                 0\n",
       "rougher.state.floatbank10_d_level               0\n",
       "rougher.state.floatbank10_e_air                 7\n",
       "rougher.state.floatbank10_e_level               0\n",
       "rougher.state.floatbank10_f_air                 0\n",
       "rougher.state.floatbank10_f_level               0\n",
       "rougher.input.floatbank11_sulfate               8\n",
       "rougher.input.floatbank11_xanthate             46\n",
       "primary_cleaner.input.sulfate                   1\n",
       "primary_cleaner.input.depressant                9\n",
       "primary_cleaner.input.feed_size                 0\n",
       "primary_cleaner.input.xanthate                 43\n",
       "primary_cleaner.state.floatbank8_a_air          1\n",
       "primary_cleaner.state.floatbank8_a_level        1\n",
       "primary_cleaner.state.floatbank8_b_air          1\n",
       "primary_cleaner.state.floatbank8_b_level        1\n",
       "primary_cleaner.state.floatbank8_c_air          2\n",
       "primary_cleaner.state.floatbank8_c_level        1\n",
       "primary_cleaner.state.floatbank8_d_air          2\n",
       "primary_cleaner.state.floatbank8_d_level        1\n",
       "secondary_cleaner.state.floatbank2_a_air      126\n",
       "secondary_cleaner.state.floatbank2_a_level      1\n",
       "secondary_cleaner.state.floatbank2_b_air        1\n",
       "secondary_cleaner.state.floatbank2_b_level      1\n",
       "secondary_cleaner.state.floatbank3_a_air        1\n",
       "secondary_cleaner.state.floatbank3_a_level      1\n",
       "secondary_cleaner.state.floatbank3_b_air        1\n",
       "secondary_cleaner.state.floatbank3_b_level      1\n",
       "secondary_cleaner.state.floatbank4_a_air        1\n",
       "secondary_cleaner.state.floatbank4_a_level      1\n",
       "secondary_cleaner.state.floatbank4_b_air        1\n",
       "secondary_cleaner.state.floatbank4_b_level      1\n",
       "secondary_cleaner.state.floatbank5_a_air        1\n",
       "secondary_cleaner.state.floatbank5_a_level      1\n",
       "secondary_cleaner.state.floatbank5_b_air        1\n",
       "secondary_cleaner.state.floatbank5_b_level      1\n",
       "secondary_cleaner.state.floatbank6_a_air        1\n",
       "secondary_cleaner.state.floatbank6_a_level      1\n",
       "rougher.output.recovery                         0\n",
       "final.output.recovery                           0\n",
       "dtype: int64"
      ]
     },
     "execution_count": 14,
     "metadata": {},
     "output_type": "execute_result"
    }
   ],
   "source": [
    "data_test.isna().sum()"
   ]
  },
  {
   "cell_type": "markdown",
   "metadata": {},
   "source": [
    "*Из-за того, что данные индексируются датой и временем получения информации, соседние по времени параметры часто похожи. Заполним пропуски соседними значениями.*"
   ]
  },
  {
   "cell_type": "code",
   "execution_count": 15,
   "metadata": {},
   "outputs": [
    {
     "name": "stdout",
     "output_type": "stream",
     "text": [
      "Количество пропусков в обучающей выборке: 0\n",
      "Количество пропусков в тестовой выборке: 0\n"
     ]
    }
   ],
   "source": [
    "data_train = data_train.fillna(method='ffill')\n",
    "print('Количество пропусков в обучающей выборке:', data_train.isna().sum().sum())\n",
    "\n",
    "data_test = data_test.fillna(method='ffill')\n",
    "print('Количество пропусков в тестовой выборке:', data_test.isna().sum().sum())"
   ]
  },
  {
   "cell_type": "markdown",
   "metadata": {},
   "source": [
    "**Вывод:**\n",
    "\n",
    "- Изучили общую информацию датафреймов.\n",
    "- Рассчитали эффективность обогащения(MAE: 9.83758577644259e-15).\n",
    "- Рассмотрели признаки которые есть в обучающей выборке, но при этом отустствуют в тестовой.\n",
    "- Добавили в датасет из исходной таблицы два целевых признака: rougher.output.recovery и final.output.recovery.\n",
    "- Проверили обучающую и тестовую выборки на наличие дубликатов.\n",
    "- Обнаружили и избавились от пропусков в обучающей и тестовой выборках."
   ]
  },
  {
   "cell_type": "markdown",
   "metadata": {},
   "source": [
    "# Анализ данных"
   ]
  },
  {
   "cell_type": "markdown",
   "metadata": {},
   "source": [
    "*Рассмотрим, как меняется концентрация металлов (Au, Ag, Pb) на различных этапах очистки.*"
   ]
  },
  {
   "cell_type": "code",
   "execution_count": 16,
   "metadata": {},
   "outputs": [
    {
     "data": {
      "image/png": "[encoded data removed]",
      "text/plain": [
       "<Figure size 864x432 with 1 Axes>"
      ]
     },
     "metadata": {
      "needs_background": "light"
     },
     "output_type": "display_data"
    },
    {
     "data": {
      "image/png": "[encoded data removed]",
      "text/plain": [
       "<Figure size 864x432 with 1 Axes>"
      ]
     },
     "metadata": {
      "needs_background": "light"
     },
     "output_type": "display_data"
    },
    {
     "data": {
      "image/png": "[encoded data removed]",
      "text/plain": [
       "<Figure size 864x432 with 1 Axes>"
      ]
     },
     "metadata": {
      "needs_background": "light"
     },
     "output_type": "display_data"
    }
   ],
   "source": [
    "metals = ['au', 'ag', 'pb']\n",
    "concentrate = ['rougher.output.concentrate', 'primary_cleaner.output.concentrate', 'final.output.concentrate',]\n",
    "for metal in metals:\n",
    "    phase = ['{}_{}'.format(x, metal) for x in concentrate]\n",
    "    data_full[phase].plot(kind='hist', bins=100, figsize=(12, 6), alpha=0.5)\n",
    "    plt.title('Изменение концентрации {}'.format(metal))\n",
    "    plt.show()"
   ]
  },
  {
   "cell_type": "markdown",
   "metadata": {},
   "source": [
    "Концентрация золота увеличивается на каждом этапе очистки, а концентрация серебра наоборот падает, уже начиная с этапа rougher. Концентрация свинца увеличивается на протяжении всех этапов, но не так сильно как концентрация золота."
   ]
  },
  {
   "cell_type": "markdown",
   "metadata": {},
   "source": [
    "*Теперь сравним распределения размеров гранул сырья на обучающей и тестовой выборках.*"
   ]
  },
  {
   "cell_type": "code",
   "execution_count": 17,
   "metadata": {},
   "outputs": [
    {
     "data": {
      "image/png": "[encoded data removed]",
      "text/plain": [
       "<Figure size 1008x576 with 1 Axes>"
      ]
     },
     "metadata": {
      "needs_background": "light"
     },
     "output_type": "display_data"
    },
    {
     "data": {
      "image/png": "[encoded data removed]",
      "text/plain": [
       "<Figure size 1008x576 with 1 Axes>"
      ]
     },
     "metadata": {
      "needs_background": "light"
     },
     "output_type": "display_data"
    }
   ],
   "source": [
    "feed_size = ['rougher.input.feed_size', 'primary_cleaner.input.feed_size']\n",
    "data = [(data_train, 'Train'), (data_test, 'Test')]\n",
    "for size in feed_size:\n",
    "    for df, lab in data: \n",
    "        df[size].plot(kind='hist', bins=100, figsize=(14, 8), density=True, alpha=0.5, label='{}'.format(lab), legend=True)\n",
    "    plt.title('Гистограмма распределения гранул сырья для {}'.format(size)) \n",
    "    plt.show()"
   ]
  },
  {
   "cell_type": "markdown",
   "metadata": {},
   "source": [
    "На гистограмме мы можем наблюдать, что распределение размеров гранул сырья в обучающей выборке аналогично распределению в тестовой, а следоватьельно оценка модели будет правильной."
   ]
  },
  {
   "cell_type": "markdown",
   "metadata": {},
   "source": [
    "*С целью выявления аномалий найдем суммарную концентрацию всех веществ (металлы плюс sol) на разных стадиях: в сырье, в черновом и финальном концентратах.*"
   ]
  },
  {
   "cell_type": "code",
   "execution_count": 18,
   "metadata": {},
   "outputs": [
    {
     "data": {
      "text/html": [
       "<div>\n",
       "<style scoped>\n",
       "    .dataframe tbody tr th:only-of-type {\n",
       "        vertical-align: middle;\n",
       "    }\n",
       "\n",
       "    .dataframe tbody tr th {\n",
       "        vertical-align: top;\n",
       "    }\n",
       "\n",
       "    .dataframe thead th {\n",
       "        text-align: right;\n",
       "    }\n",
       "</style>\n",
       "<table border=\"1\" class=\"dataframe\">\n",
       "  <thead>\n",
       "    <tr style=\"text-align: right;\">\n",
       "      <th></th>\n",
       "      <th>rougher.output.concentrate</th>\n",
       "      <th>primary_cleaner.output.concentrate</th>\n",
       "      <th>final.output.concentrate</th>\n",
       "    </tr>\n",
       "  </thead>\n",
       "  <tbody>\n",
       "    <tr>\n",
       "      <th>0</th>\n",
       "      <td>66.424950</td>\n",
       "      <td>72.640924</td>\n",
       "      <td>63.644396</td>\n",
       "    </tr>\n",
       "    <tr>\n",
       "      <th>1</th>\n",
       "      <td>67.012710</td>\n",
       "      <td>72.543485</td>\n",
       "      <td>63.957723</td>\n",
       "    </tr>\n",
       "    <tr>\n",
       "      <th>2</th>\n",
       "      <td>66.103793</td>\n",
       "      <td>72.095042</td>\n",
       "      <td>64.311180</td>\n",
       "    </tr>\n",
       "    <tr>\n",
       "      <th>3</th>\n",
       "      <td>65.752751</td>\n",
       "      <td>59.957723</td>\n",
       "      <td>63.573449</td>\n",
       "    </tr>\n",
       "    <tr>\n",
       "      <th>4</th>\n",
       "      <td>65.908382</td>\n",
       "      <td>71.321010</td>\n",
       "      <td>64.004667</td>\n",
       "    </tr>\n",
       "  </tbody>\n",
       "</table>\n",
       "</div>"
      ],
      "text/plain": [
       "   rougher.output.concentrate  primary_cleaner.output.concentrate  \\\n",
       "0                   66.424950                           72.640924   \n",
       "1                   67.012710                           72.543485   \n",
       "2                   66.103793                           72.095042   \n",
       "3                   65.752751                           59.957723   \n",
       "4                   65.908382                           71.321010   \n",
       "\n",
       "   final.output.concentrate  \n",
       "0                 63.644396  \n",
       "1                 63.957723  \n",
       "2                 64.311180  \n",
       "3                 63.573449  \n",
       "4                 64.004667  "
      ]
     },
     "execution_count": 18,
     "metadata": {},
     "output_type": "execute_result"
    }
   ],
   "source": [
    "substances = ['au', 'ag', 'pb', 'sol']\n",
    "for phase in concentrate:\n",
    "    data_train[phase] = 0\n",
    "    for substance in substances:\n",
    "        data_train[phase] += data_train['{}_{}'.format(phase, substance)]\n",
    "    \n",
    "data_train[concentrate].head()"
   ]
  },
  {
   "cell_type": "markdown",
   "metadata": {},
   "source": [
    "*Построим диаграмму размаха и гистограмму суммарной концентрации на разных стадиях.*"
   ]
  },
  {
   "cell_type": "code",
   "execution_count": 19,
   "metadata": {
    "scrolled": false
   },
   "outputs": [
    {
     "data": {
      "image/png": "[encoded data removed]",
      "text/plain": [
       "<Figure size 1080x432 with 2 Axes>"
      ]
     },
     "metadata": {
      "needs_background": "light"
     },
     "output_type": "display_data"
    },
    {
     "data": {
      "image/png": "[encoded data removed]",
      "text/plain": [
       "<Figure size 1080x432 with 2 Axes>"
      ]
     },
     "metadata": {
      "needs_background": "light"
     },
     "output_type": "display_data"
    },
    {
     "data": {
      "image/png": "[encoded data removed]",
      "text/plain": [
       "<Figure size 1080x432 with 2 Axes>"
      ]
     },
     "metadata": {
      "needs_background": "light"
     },
     "output_type": "display_data"
    }
   ],
   "source": [
    "for phase in concentrate:\n",
    "    fig, axes = plt.subplots(1, 2, figsize=(15, 6))\n",
    "    sns.boxplot(x=data_train[phase], ax=axes[0])\n",
    "    \n",
    "    data_train[phase].plot(kind='hist', bins=100, ax=axes[1])\n",
    "    plt.title('{}'.format(phase))\n",
    "    plt.show()"
   ]
  },
  {
   "cell_type": "markdown",
   "metadata": {},
   "source": [
    "*На графиках видно, что есть нулевые значения. Удалим их из обучающей выборки.*"
   ]
  },
  {
   "cell_type": "code",
   "execution_count": 20,
   "metadata": {},
   "outputs": [
    {
     "data": {
      "text/plain": [
       "(13988, 90)"
      ]
     },
     "execution_count": 20,
     "metadata": {},
     "output_type": "execute_result"
    }
   ],
   "source": [
    "data_train = data_train[(data_train['rougher.output.concentrate'] !=0) & (data_train['primary_cleaner.output.concentrate'] !=0)\n",
    "                    & (data_train['final.output.concentrate'] !=0)]\n",
    "data_train.shape"
   ]
  },
  {
   "cell_type": "markdown",
   "metadata": {},
   "source": [
    "**Вывод:**\n",
    "\n",
    "- Рассмотрели, как меняется концентрация металлов (Au, Ag, Pb) на различных этапах очистки.\n",
    "- Рассмотрели распределения размеров гранул сырья на обучающей и тестовой выборках.\n",
    "- Построили диаграмму размаха и гистограмму суммарной концентрации на разных стадиях.\n",
    "- Избавились от аномальных значений."
   ]
  },
  {
   "cell_type": "markdown",
   "metadata": {},
   "source": [
    "# Обучение модели"
   ]
  },
  {
   "cell_type": "markdown",
   "metadata": {},
   "source": [
    "*Удалим из обучающей выборки лишние признаки (отуствуют в тестовой выборке).*"
   ]
  },
  {
   "cell_type": "code",
   "execution_count": 21,
   "metadata": {},
   "outputs": [
    {
     "data": {
      "text/plain": [
       "(13988, 55)"
      ]
     },
     "execution_count": 21,
     "metadata": {},
     "output_type": "execute_result"
    }
   ],
   "source": [
    "col_to_delete = set(data_train.columns.to_list()) - set(data_test.columns.to_list())\n",
    "data_train = data_train.drop(col_to_delete, axis='columns')\n",
    "data_train.shape"
   ]
  },
  {
   "cell_type": "markdown",
   "metadata": {},
   "source": [
    "*Теперь напишем функцию для вычисления итоговой sMAPE.*"
   ]
  },
  {
   "cell_type": "code",
   "execution_count": 22,
   "metadata": {},
   "outputs": [],
   "source": [
    "def cal_smape(y_true, y_pred):\n",
    "    error = abs(y_true - y_pred)\n",
    "    scale = (abs(y_true) + abs(y_pred)) / 2\n",
    "    result = (error / scale).mean()\n",
    "    return result*100\n",
    " \n",
    "\n",
    "def final_smape(y_true, y_pred):\n",
    "    y_true.reset_index(drop=True, inplace=True)\n",
    "    y_pred = pd.DataFrame(data=y_pred)\n",
    "    rougher = cal_smape(y_true.iloc[:, 0], y_pred.iloc[:, 0])\n",
    "    final = cal_smape(y_true.iloc[:, 1], y_pred.iloc[:, 1])\n",
    "    return 0.25 * rougher + 0.75 * final"
   ]
  },
  {
   "cell_type": "markdown",
   "metadata": {},
   "source": [
    "*Выделим для тестовой и обучающей выборок признаки и целевые признаки.*"
   ]
  },
  {
   "cell_type": "code",
   "execution_count": 23,
   "metadata": {},
   "outputs": [
    {
     "name": "stdout",
     "output_type": "stream",
     "text": [
      "Index(['rougher.output.recovery', 'final.output.recovery'], dtype='object')\n",
      "(13988, 52)\n",
      "Index(['rougher.output.recovery', 'final.output.recovery'], dtype='object')\n",
      "(4860, 52)\n"
     ]
    }
   ],
   "source": [
    "target = ['rougher.output.recovery', 'final.output.recovery']\n",
    "target_train = data_train[target]\n",
    "features_train = data_train.drop(target, axis=1, inplace=True)\n",
    "features_train = data_train.drop('date', axis=1)\n",
    "\n",
    "target_test = data_test[target]\n",
    "features_test = data_test.drop(target, axis=1, inplace=True)\n",
    "features_test = data_test.drop('date', axis=1)\n",
    "\n",
    "print(target_train.columns)\n",
    "print(features_train.shape)\n",
    "print(target_test.columns)\n",
    "print(features_test.shape)"
   ]
  },
  {
   "cell_type": "markdown",
   "metadata": {},
   "source": [
    "*Создадим переменную smape_scorer, чтобы в дальнейшем использовать ее при кросс-валидации, воспользовшись функцией make_scorer.*"
   ]
  },
  {
   "cell_type": "code",
   "execution_count": 24,
   "metadata": {},
   "outputs": [],
   "source": [
    "smape_scorer = make_scorer(final_smape, greater_is_better=False)"
   ]
  },
  {
   "cell_type": "markdown",
   "metadata": {},
   "source": [
    "*Обучим модель дерева решений.*"
   ]
  },
  {
   "cell_type": "code",
   "execution_count": 25,
   "metadata": {},
   "outputs": [
    {
     "name": "stdout",
     "output_type": "stream",
     "text": [
      "sMAPE для дерева решений: 8.65432784124032 при значениях гиперпараметров: {'max_depth': 3}\n"
     ]
    }
   ],
   "source": [
    "param_grid = {'max_depth': range(2, 15)}\n",
    "model = DecisionTreeRegressor(random_state=12345)\n",
    "search = GridSearchCV(model, param_grid, cv=5, scoring=smape_scorer)\n",
    "search.fit(features_train, target_train)\n",
    "print('sMAPE для дерева решений: {} при значениях гиперпараметров: {}'.format(-search.best_score_, search.best_params_))"
   ]
  },
  {
   "cell_type": "markdown",
   "metadata": {},
   "source": [
    "*Обучим модель случайного леса.*"
   ]
  },
  {
   "cell_type": "code",
   "execution_count": 26,
   "metadata": {},
   "outputs": [
    {
     "name": "stdout",
     "output_type": "stream",
     "text": [
      "sMAPE для случайного леса: 8.53438227249777 при значениях гиперпараметров: {'n_estimators': 21}\n"
     ]
    }
   ],
   "source": [
    "param_grid = {'n_estimators': range(1, 31, 10)}\n",
    "model = RandomForestRegressor(max_depth=3, random_state=12345)\n",
    "search = GridSearchCV(model, param_grid, cv=5, scoring=smape_scorer)\n",
    "search.fit(features_train, target_train)\n",
    "print('sMAPE для случайного леса: {} при значениях гиперпараметров: {}'.format(-search.best_score_, search.best_params_))"
   ]
  },
  {
   "cell_type": "markdown",
   "metadata": {},
   "source": [
    "*Обучим модель линейной регрессии.*"
   ]
  },
  {
   "cell_type": "code",
   "execution_count": 27,
   "metadata": {},
   "outputs": [
    {
     "name": "stdout",
     "output_type": "stream",
     "text": [
      "sMAPE для линейной регрессии: 8.86823915698605\n"
     ]
    }
   ],
   "source": [
    "model = LinearRegression()\n",
    "model.fit(features_train, target_train)\n",
    "smape = cross_val_score(model, features_train, target_train, cv=5, scoring=smape_scorer).mean()\n",
    "print('sMAPE для линейной регрессии:', -smape)"
   ]
  },
  {
   "cell_type": "markdown",
   "metadata": {},
   "source": [
    "Наилучшей оказалась модель случайного леса."
   ]
  },
  {
   "cell_type": "markdown",
   "metadata": {},
   "source": [
    "*Проверим лучшую модель случайного леса на тестовой выборке и сравним качество предсказаний с константной моделью. За константу возьмём средние значения.*"
   ]
  },
  {
   "cell_type": "code",
   "execution_count": 28,
   "metadata": {},
   "outputs": [
    {
     "name": "stdout",
     "output_type": "stream",
     "text": [
      "sMAPE тестовой выборки: 7.437266623001308\n"
     ]
    }
   ],
   "source": [
    "model = RandomForestRegressor(max_depth=3, n_estimators=21, random_state=12345) \n",
    "model.fit(features_train, target_train)\n",
    "predictions_test = model.predict(features_test)\n",
    "\n",
    "print('sMAPE тестовой выборки:', final_smape(target_test, predictions_test))"
   ]
  },
  {
   "cell_type": "code",
   "execution_count": 29,
   "metadata": {},
   "outputs": [
    {
     "name": "stdout",
     "output_type": "stream",
     "text": [
      "sMAPE константной модели: 8.294903819577549\n"
     ]
    }
   ],
   "source": [
    "median_rougher = pd.Series([target_train['rougher.output.recovery'].median()]*len(target_train))\n",
    "median_final = pd.Series([target_train['final.output.recovery'].median()]*len(target_train))\n",
    "\n",
    "model = RandomForestRegressor(max_depth=3, n_estimators=21, random_state=12345) \n",
    "model.fit(features_train, target_train)\n",
    "predictions_test_constant = pd.concat([median_rougher, median_final], axis=1)\n",
    "\n",
    "print('sMAPE константной модели:', final_smape(target_test, predictions_test_constant))"
   ]
  },
  {
   "cell_type": "markdown",
   "metadata": {},
   "source": [
    "**Вывод:**\n",
    "\n",
    "- Удалили из обучающей выборки лишние признаки\n",
    "- Написали функцию для вычисления итоговой sMAPE\n",
    "- Выделим для тестовой и обучающей выборок признаки и целевые признаки.\n",
    "- Создали переменную smape_scorer, чтобы в дальнейшем использовать ее при кросс-валидации, воспользовшись функцией make_scorer\n",
    "- Обучили модели дерева решений(sMAPE - 8.65432784124032), случайного леса(sMAPE - 8.53438227249777), линейной регресси(sMAPE - 8.86823915698605)\n",
    "- Проверили лучшую модель случайного леса на тестовой выборке(sMAPE - 7.437266623001308) и сравним качество предсказаний с константной моделью(sMAPE - 8.294903819577549)."
   ]
  },
  {
   "cell_type": "markdown",
   "metadata": {},
   "source": [
    "# Общий вывод\n",
    "\n",
    "**Подготовка данных**\n",
    "- Изучили общую информацию датафреймов.\n",
    "- Рассчитали эффективность обогащения(MAE: 9.83758577644259e-15).\n",
    "- Рассмотрели признаки которые есть в обучающей выборке, но при этом отустствуют в тестовой.\n",
    "- Добавили в датасет из исходной таблицы два целевых признака: rougher.output.recovery и final.output.recovery.\n",
    "- Проверили обучающую и тестовую выборки на наличие дубликатов.\n",
    "- Обнаружили и избавились от пропусков в обучающей и тестовой выборках.\n",
    "\n",
    "**Анализ данных**\n",
    "- Рассмотрим, как меняется концентрация металлов (Au, Ag, Pb) на различных этапах очистки.\n",
    "- Рассмотрели распределения размеров гранул сырья на обучающей и тестовой выборках.\n",
    "- Построили диаграмму размаха и гистограмму суммарной концентрации на разных стадиях.\n",
    "- Избавились от аномальных значений.\n",
    "\n",
    "**Обучение Модели**\n",
    "- Удалили из обучающей выборки лишние признаки\n",
    "- Написали функцию для вычисления итоговой sMAPE\n",
    "- Выделим для тестовой и обучающей выборок признаки и целевые признаки.\n",
    "- Создали переменную smape_scorer, чтобы в дальнейшем использовать ее при кросс-валидации, воспользовшись функцией make_scorer\n",
    "- Обучили модели дерева решений(sMAPE - 8.65432784124032), случайного леса(sMAPE - 8.53438227249777), линейной регресси(sMAPE - 8.86823915698605)\n",
    "- Проверили лучшую модель случайного леса на тестовой выборке(sMAPE - 7.437266623001308) и сравним качество предсказаний с константной моделью(sMAPE - 8.294903819577549).\n",
    "- Наилучшие гипермараметры для модели случайного леса: max_depth=3, n_estimators=21"
   ]
  }
 ],
 "metadata": {
  "ExecuteTimeLog": [
   {
    "duration": 1823,
    "start_time": "2023-05-18T09:43:16.408Z"
   },
   {
    "duration": 2284,
    "start_time": "2023-05-18T09:43:18.234Z"
   },
   {
    "duration": 92,
    "start_time": "2023-05-18T09:43:20.520Z"
   },
   {
    "duration": 0,
    "start_time": "2023-05-18T09:43:20.614Z"
   },
   {
    "duration": 0,
    "start_time": "2023-05-18T09:43:20.615Z"
   },
   {
    "duration": 0,
    "start_time": "2023-05-18T09:43:20.617Z"
   },
   {
    "duration": 0,
    "start_time": "2023-05-18T09:43:20.618Z"
   },
   {
    "duration": 0,
    "start_time": "2023-05-18T09:43:20.619Z"
   },
   {
    "duration": 0,
    "start_time": "2023-05-18T09:43:20.620Z"
   },
   {
    "duration": 1,
    "start_time": "2023-05-18T09:43:20.621Z"
   },
   {
    "duration": 0,
    "start_time": "2023-05-18T09:43:20.623Z"
   },
   {
    "duration": 7,
    "start_time": "2023-05-18T09:43:35.260Z"
   },
   {
    "duration": 1032,
    "start_time": "2023-05-18T09:43:35.270Z"
   },
   {
    "duration": 33,
    "start_time": "2023-05-18T09:43:36.305Z"
   },
   {
    "duration": 46,
    "start_time": "2023-05-18T09:43:36.342Z"
   },
   {
    "duration": 27,
    "start_time": "2023-05-18T09:43:36.391Z"
   },
   {
    "duration": 32,
    "start_time": "2023-05-18T09:43:36.421Z"
   },
   {
    "duration": 49,
    "start_time": "2023-05-18T09:43:36.456Z"
   },
   {
    "duration": 28,
    "start_time": "2023-05-18T09:43:36.508Z"
   },
   {
    "duration": 121,
    "start_time": "2023-05-18T11:04:01.382Z"
   },
   {
    "duration": 49,
    "start_time": "2023-05-18T11:07:56.054Z"
   },
   {
    "duration": 10,
    "start_time": "2023-05-18T11:08:12.665Z"
   },
   {
    "duration": 7,
    "start_time": "2023-05-18T11:30:11.870Z"
   },
   {
    "duration": 10,
    "start_time": "2023-05-18T11:30:51.489Z"
   },
   {
    "duration": 10,
    "start_time": "2023-05-18T12:01:26.947Z"
   },
   {
    "duration": 10,
    "start_time": "2023-05-18T12:07:08.195Z"
   },
   {
    "duration": 142,
    "start_time": "2023-05-18T12:13:57.884Z"
   },
   {
    "duration": 188,
    "start_time": "2023-05-18T12:13:58.347Z"
   },
   {
    "duration": 2141,
    "start_time": "2023-05-18T12:14:04.074Z"
   },
   {
    "duration": 1481,
    "start_time": "2023-05-18T12:14:06.218Z"
   },
   {
    "duration": 44,
    "start_time": "2023-05-18T12:14:07.703Z"
   },
   {
    "duration": 52,
    "start_time": "2023-05-18T12:14:07.750Z"
   },
   {
    "duration": 39,
    "start_time": "2023-05-18T12:14:07.805Z"
   },
   {
    "duration": 32,
    "start_time": "2023-05-18T12:14:07.873Z"
   },
   {
    "duration": 48,
    "start_time": "2023-05-18T12:14:07.909Z"
   },
   {
    "duration": 44,
    "start_time": "2023-05-18T12:14:07.960Z"
   },
   {
    "duration": 15,
    "start_time": "2023-05-18T12:14:08.009Z"
   },
   {
    "duration": 33,
    "start_time": "2023-05-18T12:14:08.026Z"
   },
   {
    "duration": 133,
    "start_time": "2023-05-18T12:14:08.073Z"
   },
   {
    "duration": 0,
    "start_time": "2023-05-18T12:14:08.209Z"
   },
   {
    "duration": 191,
    "start_time": "2023-05-18T12:14:18.791Z"
   },
   {
    "duration": 16,
    "start_time": "2023-05-18T12:16:01.384Z"
   },
   {
    "duration": 7,
    "start_time": "2023-05-18T12:16:37.191Z"
   },
   {
    "duration": 1323,
    "start_time": "2023-05-18T12:16:37.202Z"
   },
   {
    "duration": 46,
    "start_time": "2023-05-18T12:16:38.528Z"
   },
   {
    "duration": 41,
    "start_time": "2023-05-18T12:16:38.578Z"
   },
   {
    "duration": 52,
    "start_time": "2023-05-18T12:16:38.625Z"
   },
   {
    "duration": 23,
    "start_time": "2023-05-18T12:16:38.680Z"
   },
   {
    "duration": 44,
    "start_time": "2023-05-18T12:16:38.707Z"
   },
   {
    "duration": 42,
    "start_time": "2023-05-18T12:16:38.772Z"
   },
   {
    "duration": 129,
    "start_time": "2023-05-18T12:16:38.825Z"
   },
   {
    "duration": 207,
    "start_time": "2023-05-18T12:16:38.957Z"
   },
   {
    "duration": 284,
    "start_time": "2023-05-18T12:16:39.166Z"
   },
   {
    "duration": 153,
    "start_time": "2023-05-18T12:16:39.452Z"
   },
   {
    "duration": 0,
    "start_time": "2023-05-18T12:16:39.608Z"
   },
   {
    "duration": 15,
    "start_time": "2023-05-18T12:17:03.391Z"
   },
   {
    "duration": 2188,
    "start_time": "2023-05-18T12:17:11.523Z"
   },
   {
    "duration": 1081,
    "start_time": "2023-05-18T12:17:13.714Z"
   },
   {
    "duration": 47,
    "start_time": "2023-05-18T12:17:14.798Z"
   },
   {
    "duration": 55,
    "start_time": "2023-05-18T12:17:14.849Z"
   },
   {
    "duration": 41,
    "start_time": "2023-05-18T12:17:14.907Z"
   },
   {
    "duration": 58,
    "start_time": "2023-05-18T12:17:14.951Z"
   },
   {
    "duration": 28,
    "start_time": "2023-05-18T12:17:15.012Z"
   },
   {
    "duration": 79,
    "start_time": "2023-05-18T12:17:15.042Z"
   },
   {
    "duration": 28,
    "start_time": "2023-05-18T12:17:15.123Z"
   },
   {
    "duration": 64,
    "start_time": "2023-05-18T12:17:15.153Z"
   },
   {
    "duration": 191,
    "start_time": "2023-05-18T12:17:15.219Z"
   },
   {
    "duration": 15,
    "start_time": "2023-05-18T12:17:15.413Z"
   },
   {
    "duration": 2050,
    "start_time": "2023-05-18T12:17:53.672Z"
   },
   {
    "duration": 1402,
    "start_time": "2023-05-18T12:17:55.727Z"
   },
   {
    "duration": 40,
    "start_time": "2023-05-18T12:17:57.131Z"
   },
   {
    "duration": 22,
    "start_time": "2023-05-18T12:17:57.173Z"
   },
   {
    "duration": 25,
    "start_time": "2023-05-18T12:17:57.198Z"
   },
   {
    "duration": 45,
    "start_time": "2023-05-18T12:17:57.226Z"
   },
   {
    "duration": 25,
    "start_time": "2023-05-18T12:17:57.274Z"
   },
   {
    "duration": 35,
    "start_time": "2023-05-18T12:17:57.303Z"
   },
   {
    "duration": 31,
    "start_time": "2023-05-18T12:17:57.340Z"
   },
   {
    "duration": 14,
    "start_time": "2023-05-18T12:17:57.374Z"
   },
   {
    "duration": 153,
    "start_time": "2023-05-18T12:17:57.391Z"
   },
   {
    "duration": 25,
    "start_time": "2023-05-18T12:17:57.547Z"
   },
   {
    "duration": 190,
    "start_time": "2023-05-18T12:22:58.995Z"
   },
   {
    "duration": 7,
    "start_time": "2023-05-18T12:23:09.096Z"
   },
   {
    "duration": 1180,
    "start_time": "2023-05-18T12:23:09.106Z"
   },
   {
    "duration": 51,
    "start_time": "2023-05-18T12:23:10.289Z"
   },
   {
    "duration": 36,
    "start_time": "2023-05-18T12:23:10.345Z"
   },
   {
    "duration": 45,
    "start_time": "2023-05-18T12:23:10.385Z"
   },
   {
    "duration": 45,
    "start_time": "2023-05-18T12:23:10.433Z"
   },
   {
    "duration": 48,
    "start_time": "2023-05-18T12:23:10.481Z"
   },
   {
    "duration": 41,
    "start_time": "2023-05-18T12:23:10.532Z"
   },
   {
    "duration": 15,
    "start_time": "2023-05-18T12:23:10.580Z"
   },
   {
    "duration": 26,
    "start_time": "2023-05-18T12:23:10.597Z"
   },
   {
    "duration": 87,
    "start_time": "2023-05-18T12:23:10.628Z"
   },
   {
    "duration": 220,
    "start_time": "2023-05-18T12:23:10.718Z"
   },
   {
    "duration": 16,
    "start_time": "2023-05-18T12:23:10.940Z"
   },
   {
    "duration": 2745,
    "start_time": "2023-05-18T12:25:51.156Z"
   },
   {
    "duration": 1465,
    "start_time": "2023-05-18T12:25:53.904Z"
   },
   {
    "duration": 127,
    "start_time": "2023-05-18T12:25:55.376Z"
   },
   {
    "duration": 32,
    "start_time": "2023-05-18T12:25:55.508Z"
   },
   {
    "duration": 72,
    "start_time": "2023-05-18T12:25:55.544Z"
   },
   {
    "duration": 22,
    "start_time": "2023-05-18T12:25:55.619Z"
   },
   {
    "duration": 148,
    "start_time": "2023-05-18T12:25:55.643Z"
   },
   {
    "duration": 24,
    "start_time": "2023-05-18T12:25:55.794Z"
   },
   {
    "duration": 143,
    "start_time": "2023-05-18T12:25:55.821Z"
   },
   {
    "duration": 158,
    "start_time": "2023-05-18T12:25:55.966Z"
   },
   {
    "duration": 207,
    "start_time": "2023-05-18T12:25:56.127Z"
   },
   {
    "duration": 222,
    "start_time": "2023-05-18T12:25:56.337Z"
   },
   {
    "duration": 31,
    "start_time": "2023-05-18T12:25:56.562Z"
   },
   {
    "duration": 11,
    "start_time": "2023-05-18T12:30:40.849Z"
   },
   {
    "duration": 23,
    "start_time": "2023-05-18T12:30:49.969Z"
   },
   {
    "duration": 3023,
    "start_time": "2023-05-18T12:33:19.813Z"
   },
   {
    "duration": 1077,
    "start_time": "2023-05-18T12:33:22.839Z"
   },
   {
    "duration": 43,
    "start_time": "2023-05-18T12:33:23.921Z"
   },
   {
    "duration": 79,
    "start_time": "2023-05-18T12:33:23.983Z"
   },
   {
    "duration": 63,
    "start_time": "2023-05-18T12:33:24.065Z"
   },
   {
    "duration": 23,
    "start_time": "2023-05-18T12:33:24.131Z"
   },
   {
    "duration": 43,
    "start_time": "2023-05-18T12:33:24.156Z"
   },
   {
    "duration": 40,
    "start_time": "2023-05-18T12:33:24.201Z"
   },
   {
    "duration": 10,
    "start_time": "2023-05-18T12:33:24.243Z"
   },
   {
    "duration": 16,
    "start_time": "2023-05-18T12:33:24.255Z"
   },
   {
    "duration": 3776,
    "start_time": "2023-05-18T12:33:24.281Z"
   },
   {
    "duration": 378,
    "start_time": "2023-05-18T12:33:28.061Z"
   },
   {
    "duration": 40,
    "start_time": "2023-05-18T12:33:28.478Z"
   },
   {
    "duration": 3625,
    "start_time": "2023-05-18T12:36:28.851Z"
   },
   {
    "duration": 1084,
    "start_time": "2023-05-18T12:36:32.479Z"
   },
   {
    "duration": 44,
    "start_time": "2023-05-18T12:36:33.566Z"
   },
   {
    "duration": 87,
    "start_time": "2023-05-18T12:36:33.613Z"
   },
   {
    "duration": 89,
    "start_time": "2023-05-18T12:36:33.702Z"
   },
   {
    "duration": 46,
    "start_time": "2023-05-18T12:36:33.794Z"
   },
   {
    "duration": 50,
    "start_time": "2023-05-18T12:36:33.842Z"
   },
   {
    "duration": 36,
    "start_time": "2023-05-18T12:36:33.897Z"
   },
   {
    "duration": 10,
    "start_time": "2023-05-18T12:36:33.936Z"
   },
   {
    "duration": 11,
    "start_time": "2023-05-18T12:36:33.949Z"
   },
   {
    "duration": 148,
    "start_time": "2023-05-18T12:36:33.961Z"
   },
   {
    "duration": 197,
    "start_time": "2023-05-18T12:36:34.113Z"
   },
   {
    "duration": 15,
    "start_time": "2023-05-18T12:36:34.312Z"
   },
   {
    "duration": 6,
    "start_time": "2023-05-18T12:36:50.011Z"
   },
   {
    "duration": 1163,
    "start_time": "2023-05-18T12:36:50.020Z"
   },
   {
    "duration": 31,
    "start_time": "2023-05-18T12:36:51.193Z"
   },
   {
    "duration": 29,
    "start_time": "2023-05-18T12:36:51.226Z"
   },
   {
    "duration": 57,
    "start_time": "2023-05-18T12:36:51.258Z"
   },
   {
    "duration": 39,
    "start_time": "2023-05-18T12:36:51.318Z"
   },
   {
    "duration": 42,
    "start_time": "2023-05-18T12:36:51.360Z"
   },
   {
    "duration": 72,
    "start_time": "2023-05-18T12:36:51.404Z"
   },
   {
    "duration": 41,
    "start_time": "2023-05-18T12:36:51.480Z"
   },
   {
    "duration": 20,
    "start_time": "2023-05-18T12:36:51.524Z"
   },
   {
    "duration": 3194,
    "start_time": "2023-05-18T12:36:51.547Z"
   },
   {
    "duration": 337,
    "start_time": "2023-05-18T12:36:54.743Z"
   },
   {
    "duration": 16,
    "start_time": "2023-05-18T12:36:55.083Z"
   },
   {
    "duration": 11,
    "start_time": "2023-05-18T12:42:27.587Z"
   },
   {
    "duration": 204,
    "start_time": "2023-05-18T12:43:38.694Z"
   },
   {
    "duration": 33,
    "start_time": "2023-05-18T12:44:13.724Z"
   },
   {
    "duration": 24,
    "start_time": "2023-05-18T12:48:04.013Z"
   },
   {
    "duration": 3926,
    "start_time": "2023-05-18T12:52:30.295Z"
   },
   {
    "duration": 2316,
    "start_time": "2023-05-18T12:52:46.433Z"
   },
   {
    "duration": 1435,
    "start_time": "2023-05-18T12:52:48.752Z"
   },
   {
    "duration": 40,
    "start_time": "2023-05-18T12:52:50.190Z"
   },
   {
    "duration": 23,
    "start_time": "2023-05-18T12:52:50.233Z"
   },
   {
    "duration": 36,
    "start_time": "2023-05-18T12:52:50.273Z"
   },
   {
    "duration": 21,
    "start_time": "2023-05-18T12:52:50.311Z"
   },
   {
    "duration": 52,
    "start_time": "2023-05-18T12:52:50.335Z"
   },
   {
    "duration": 38,
    "start_time": "2023-05-18T12:52:50.389Z"
   },
   {
    "duration": 23,
    "start_time": "2023-05-18T12:52:50.429Z"
   },
   {
    "duration": 79,
    "start_time": "2023-05-18T12:52:50.456Z"
   },
   {
    "duration": 3203,
    "start_time": "2023-05-18T12:52:50.538Z"
   },
   {
    "duration": 335,
    "start_time": "2023-05-18T12:52:53.744Z"
   },
   {
    "duration": 17,
    "start_time": "2023-05-18T12:52:54.083Z"
   },
   {
    "duration": 68,
    "start_time": "2023-05-18T12:52:54.107Z"
   },
   {
    "duration": 59,
    "start_time": "2023-05-18T12:52:54.177Z"
   },
   {
    "duration": 9,
    "start_time": "2023-05-18T13:37:39.412Z"
   },
   {
    "duration": 12,
    "start_time": "2023-05-18T13:37:48.902Z"
   },
   {
    "duration": 219,
    "start_time": "2023-05-18T13:47:09.206Z"
   },
   {
    "duration": 203,
    "start_time": "2023-05-18T13:47:17.713Z"
   },
   {
    "duration": 153,
    "start_time": "2023-05-18T13:54:07.589Z"
   },
   {
    "duration": 18,
    "start_time": "2023-05-18T13:54:17.352Z"
   },
   {
    "duration": 1917,
    "start_time": "2023-05-18T13:56:40.105Z"
   },
   {
    "duration": 1383,
    "start_time": "2023-05-18T13:56:42.024Z"
   },
   {
    "duration": 30,
    "start_time": "2023-05-18T13:56:43.410Z"
   },
   {
    "duration": 20,
    "start_time": "2023-05-18T13:56:43.443Z"
   },
   {
    "duration": 46,
    "start_time": "2023-05-18T13:56:43.472Z"
   },
   {
    "duration": 22,
    "start_time": "2023-05-18T13:56:43.520Z"
   },
   {
    "duration": 47,
    "start_time": "2023-05-18T13:56:43.544Z"
   },
   {
    "duration": 46,
    "start_time": "2023-05-18T13:56:43.601Z"
   },
   {
    "duration": 21,
    "start_time": "2023-05-18T13:56:43.649Z"
   },
   {
    "duration": 41,
    "start_time": "2023-05-18T13:56:43.681Z"
   },
   {
    "duration": 3245,
    "start_time": "2023-05-18T13:56:43.724Z"
   },
   {
    "duration": 341,
    "start_time": "2023-05-18T13:56:46.977Z"
   },
   {
    "duration": 60,
    "start_time": "2023-05-18T13:56:47.321Z"
   },
   {
    "duration": 134,
    "start_time": "2023-05-18T13:56:47.385Z"
   },
   {
    "duration": 0,
    "start_time": "2023-05-18T13:56:47.521Z"
   },
   {
    "duration": 0,
    "start_time": "2023-05-18T13:56:47.523Z"
   },
   {
    "duration": 0,
    "start_time": "2023-05-18T13:56:47.524Z"
   },
   {
    "duration": 13,
    "start_time": "2023-05-18T13:57:05.098Z"
   },
   {
    "duration": 33,
    "start_time": "2023-05-18T13:57:06.310Z"
   },
   {
    "duration": 159,
    "start_time": "2023-05-18T13:57:08.656Z"
   },
   {
    "duration": 16,
    "start_time": "2023-05-18T13:58:29.801Z"
   },
   {
    "duration": 1895,
    "start_time": "2023-05-18T13:58:37.095Z"
   },
   {
    "duration": 1047,
    "start_time": "2023-05-18T13:58:38.992Z"
   },
   {
    "duration": 41,
    "start_time": "2023-05-18T13:58:40.041Z"
   },
   {
    "duration": 61,
    "start_time": "2023-05-18T13:58:40.088Z"
   },
   {
    "duration": 45,
    "start_time": "2023-05-18T13:58:40.152Z"
   },
   {
    "duration": 50,
    "start_time": "2023-05-18T13:58:40.200Z"
   },
   {
    "duration": 32,
    "start_time": "2023-05-18T13:58:40.252Z"
   },
   {
    "duration": 62,
    "start_time": "2023-05-18T13:58:40.286Z"
   },
   {
    "duration": 9,
    "start_time": "2023-05-18T13:58:40.350Z"
   },
   {
    "duration": 8,
    "start_time": "2023-05-18T13:58:40.361Z"
   },
   {
    "duration": 3478,
    "start_time": "2023-05-18T13:58:40.371Z"
   },
   {
    "duration": 416,
    "start_time": "2023-05-18T13:58:43.853Z"
   },
   {
    "duration": 15,
    "start_time": "2023-05-18T13:58:44.274Z"
   },
   {
    "duration": 63,
    "start_time": "2023-05-18T13:58:44.291Z"
   },
   {
    "duration": 51,
    "start_time": "2023-05-18T13:58:44.356Z"
   },
   {
    "duration": 227,
    "start_time": "2023-05-18T13:58:44.410Z"
   },
   {
    "duration": 2927,
    "start_time": "2023-05-18T13:59:11.423Z"
   },
   {
    "duration": 2919,
    "start_time": "2023-05-18T13:59:21.867Z"
   },
   {
    "duration": 2858,
    "start_time": "2023-05-18T13:59:37.406Z"
   },
   {
    "duration": 2710,
    "start_time": "2023-05-18T14:00:11.652Z"
   },
   {
    "duration": 367,
    "start_time": "2023-05-18T14:01:16.000Z"
   },
   {
    "duration": 234,
    "start_time": "2023-05-18T14:01:22.099Z"
   },
   {
    "duration": 202,
    "start_time": "2023-05-18T14:01:50.809Z"
   },
   {
    "duration": 2654,
    "start_time": "2023-05-18T14:02:02.953Z"
   },
   {
    "duration": 121,
    "start_time": "2023-05-18T14:02:05.609Z"
   },
   {
    "duration": 26,
    "start_time": "2023-05-18T14:04:36.054Z"
   },
   {
    "duration": 596,
    "start_time": "2023-05-18T14:04:49.562Z"
   },
   {
    "duration": 603,
    "start_time": "2023-05-18T14:05:32.398Z"
   },
   {
    "duration": 1897,
    "start_time": "2023-05-18T14:06:35.302Z"
   },
   {
    "duration": 1219,
    "start_time": "2023-05-18T14:06:37.206Z"
   },
   {
    "duration": 40,
    "start_time": "2023-05-18T14:06:38.428Z"
   },
   {
    "duration": 62,
    "start_time": "2023-05-18T14:06:38.476Z"
   },
   {
    "duration": 38,
    "start_time": "2023-05-18T14:06:38.541Z"
   },
   {
    "duration": 62,
    "start_time": "2023-05-18T14:06:38.582Z"
   },
   {
    "duration": 60,
    "start_time": "2023-05-18T14:06:38.647Z"
   },
   {
    "duration": 92,
    "start_time": "2023-05-18T14:06:38.710Z"
   },
   {
    "duration": 19,
    "start_time": "2023-05-18T14:06:38.810Z"
   },
   {
    "duration": 13,
    "start_time": "2023-05-18T14:06:38.831Z"
   },
   {
    "duration": 3203,
    "start_time": "2023-05-18T14:06:38.846Z"
   },
   {
    "duration": 338,
    "start_time": "2023-05-18T14:06:42.051Z"
   },
   {
    "duration": 16,
    "start_time": "2023-05-18T14:06:42.393Z"
   },
   {
    "duration": 51,
    "start_time": "2023-05-18T14:06:42.412Z"
   },
   {
    "duration": 69,
    "start_time": "2023-05-18T14:06:42.465Z"
   },
   {
    "duration": 2786,
    "start_time": "2023-05-18T14:06:42.536Z"
   },
   {
    "duration": 1000,
    "start_time": "2023-05-18T14:06:45.324Z"
   },
   {
    "duration": 1072,
    "start_time": "2023-05-18T14:38:58.989Z"
   },
   {
    "duration": 1269,
    "start_time": "2023-05-18T14:39:19.990Z"
   },
   {
    "duration": 1116,
    "start_time": "2023-05-18T14:39:29.192Z"
   },
   {
    "duration": 1358,
    "start_time": "2023-05-18T14:39:46.187Z"
   },
   {
    "duration": 1260,
    "start_time": "2023-05-18T14:39:55.662Z"
   },
   {
    "duration": 29,
    "start_time": "2023-05-18T14:51:49.188Z"
   },
   {
    "duration": 32,
    "start_time": "2023-05-18T14:52:00.641Z"
   },
   {
    "duration": 410,
    "start_time": "2023-05-18T14:52:04.558Z"
   },
   {
    "duration": 1698,
    "start_time": "2023-05-18T14:54:17.152Z"
   },
   {
    "duration": 936,
    "start_time": "2023-05-18T14:54:18.853Z"
   },
   {
    "duration": 29,
    "start_time": "2023-05-18T14:54:19.792Z"
   },
   {
    "duration": 23,
    "start_time": "2023-05-18T14:54:19.823Z"
   },
   {
    "duration": 26,
    "start_time": "2023-05-18T14:54:19.883Z"
   },
   {
    "duration": 16,
    "start_time": "2023-05-18T14:54:19.911Z"
   },
   {
    "duration": 25,
    "start_time": "2023-05-18T14:54:19.930Z"
   },
   {
    "duration": 22,
    "start_time": "2023-05-18T14:54:19.977Z"
   },
   {
    "duration": 10,
    "start_time": "2023-05-18T14:54:20.001Z"
   },
   {
    "duration": 26,
    "start_time": "2023-05-18T14:54:20.013Z"
   },
   {
    "duration": 2820,
    "start_time": "2023-05-18T14:54:20.041Z"
   },
   {
    "duration": 337,
    "start_time": "2023-05-18T14:54:22.864Z"
   },
   {
    "duration": 11,
    "start_time": "2023-05-18T14:54:23.203Z"
   },
   {
    "duration": 191,
    "start_time": "2023-05-18T14:54:23.217Z"
   },
   {
    "duration": 136,
    "start_time": "2023-05-18T14:54:23.410Z"
   },
   {
    "duration": 2686,
    "start_time": "2023-05-18T14:54:23.548Z"
   },
   {
    "duration": 1237,
    "start_time": "2023-05-18T14:54:26.236Z"
   },
   {
    "duration": 43,
    "start_time": "2023-05-18T14:54:27.477Z"
   },
   {
    "duration": 3,
    "start_time": "2023-05-18T14:54:27.522Z"
   },
   {
    "duration": 467,
    "start_time": "2023-05-18T14:54:27.527Z"
   },
   {
    "duration": 1511,
    "start_time": "2023-05-18T14:54:55.351Z"
   },
   {
    "duration": 5,
    "start_time": "2023-05-18T16:14:44.539Z"
   },
   {
    "duration": 982,
    "start_time": "2023-05-18T16:14:44.546Z"
   },
   {
    "duration": 24,
    "start_time": "2023-05-18T16:14:45.530Z"
   },
   {
    "duration": 29,
    "start_time": "2023-05-18T16:14:45.571Z"
   },
   {
    "duration": 26,
    "start_time": "2023-05-18T16:14:45.603Z"
   },
   {
    "duration": 34,
    "start_time": "2023-05-18T16:14:45.631Z"
   },
   {
    "duration": 33,
    "start_time": "2023-05-18T16:14:45.671Z"
   },
   {
    "duration": 26,
    "start_time": "2023-05-18T16:14:45.706Z"
   },
   {
    "duration": 8,
    "start_time": "2023-05-18T16:14:45.734Z"
   },
   {
    "duration": 50,
    "start_time": "2023-05-18T16:14:45.744Z"
   },
   {
    "duration": 2696,
    "start_time": "2023-05-18T16:14:45.797Z"
   },
   {
    "duration": 332,
    "start_time": "2023-05-18T16:14:48.495Z"
   },
   {
    "duration": 11,
    "start_time": "2023-05-18T16:14:48.829Z"
   },
   {
    "duration": 48,
    "start_time": "2023-05-18T16:14:48.843Z"
   },
   {
    "duration": 63,
    "start_time": "2023-05-18T16:14:48.893Z"
   },
   {
    "duration": 2353,
    "start_time": "2023-05-18T16:14:48.958Z"
   },
   {
    "duration": 1318,
    "start_time": "2023-05-18T16:14:51.313Z"
   },
   {
    "duration": 54,
    "start_time": "2023-05-18T16:14:52.633Z"
   },
   {
    "duration": 3,
    "start_time": "2023-05-18T16:14:52.690Z"
   },
   {
    "duration": 1290,
    "start_time": "2023-05-18T16:14:52.696Z"
   },
   {
    "duration": 18,
    "start_time": "2023-05-18T16:14:53.988Z"
   },
   {
    "duration": 0,
    "start_time": "2023-05-18T16:14:54.009Z"
   },
   {
    "duration": 0,
    "start_time": "2023-05-18T16:14:54.010Z"
   },
   {
    "duration": 0,
    "start_time": "2023-05-18T16:14:54.012Z"
   },
   {
    "duration": 0,
    "start_time": "2023-05-18T16:14:54.014Z"
   },
   {
    "duration": 0,
    "start_time": "2023-05-18T16:14:54.016Z"
   },
   {
    "duration": 0,
    "start_time": "2023-05-18T16:14:54.018Z"
   },
   {
    "duration": 0,
    "start_time": "2023-05-18T16:14:54.020Z"
   },
   {
    "duration": 1705,
    "start_time": "2023-05-18T16:15:12.045Z"
   },
   {
    "duration": 949,
    "start_time": "2023-05-18T16:15:13.753Z"
   },
   {
    "duration": 29,
    "start_time": "2023-05-18T16:15:14.704Z"
   },
   {
    "duration": 47,
    "start_time": "2023-05-18T16:15:14.736Z"
   },
   {
    "duration": 25,
    "start_time": "2023-05-18T16:15:14.786Z"
   },
   {
    "duration": 25,
    "start_time": "2023-05-18T16:15:14.814Z"
   },
   {
    "duration": 45,
    "start_time": "2023-05-18T16:15:14.841Z"
   },
   {
    "duration": 23,
    "start_time": "2023-05-18T16:15:14.888Z"
   },
   {
    "duration": 10,
    "start_time": "2023-05-18T16:15:14.913Z"
   },
   {
    "duration": 17,
    "start_time": "2023-05-18T16:15:14.926Z"
   },
   {
    "duration": 2719,
    "start_time": "2023-05-18T16:15:14.946Z"
   },
   {
    "duration": 325,
    "start_time": "2023-05-18T16:15:17.669Z"
   },
   {
    "duration": 12,
    "start_time": "2023-05-18T16:15:17.997Z"
   },
   {
    "duration": 12,
    "start_time": "2023-05-18T16:15:18.011Z"
   },
   {
    "duration": 67,
    "start_time": "2023-05-18T16:15:18.025Z"
   },
   {
    "duration": 2533,
    "start_time": "2023-05-18T16:15:18.094Z"
   },
   {
    "duration": 1116,
    "start_time": "2023-05-18T16:15:20.629Z"
   },
   {
    "duration": 46,
    "start_time": "2023-05-18T16:15:21.747Z"
   },
   {
    "duration": 3,
    "start_time": "2023-05-18T16:15:21.795Z"
   },
   {
    "duration": 1448,
    "start_time": "2023-05-18T16:15:21.800Z"
   },
   {
    "duration": 27,
    "start_time": "2023-05-18T16:15:23.249Z"
   },
   {
    "duration": 31,
    "start_time": "2023-05-18T16:15:23.289Z"
   },
   {
    "duration": 19,
    "start_time": "2023-05-18T16:15:23.322Z"
   },
   {
    "duration": 6,
    "start_time": "2023-05-18T16:15:23.343Z"
   },
   {
    "duration": 18,
    "start_time": "2023-05-18T16:15:23.351Z"
   },
   {
    "duration": 898,
    "start_time": "2023-05-18T16:15:23.371Z"
   },
   {
    "duration": 885,
    "start_time": "2023-05-18T16:15:24.272Z"
   },
   {
    "duration": 902,
    "start_time": "2023-05-18T16:15:25.161Z"
   },
   {
    "duration": 815,
    "start_time": "2023-05-18T16:19:23.382Z"
   },
   {
    "duration": 5,
    "start_time": "2023-05-18T17:04:19.243Z"
   },
   {
    "duration": 984,
    "start_time": "2023-05-18T17:04:19.250Z"
   },
   {
    "duration": 23,
    "start_time": "2023-05-18T17:04:20.236Z"
   },
   {
    "duration": 37,
    "start_time": "2023-05-18T17:04:20.261Z"
   },
   {
    "duration": 25,
    "start_time": "2023-05-18T17:04:20.300Z"
   },
   {
    "duration": 16,
    "start_time": "2023-05-18T17:04:20.327Z"
   },
   {
    "duration": 26,
    "start_time": "2023-05-18T17:04:20.374Z"
   },
   {
    "duration": 26,
    "start_time": "2023-05-18T17:04:20.402Z"
   },
   {
    "duration": 9,
    "start_time": "2023-05-18T17:04:20.431Z"
   },
   {
    "duration": 38,
    "start_time": "2023-05-18T17:04:20.442Z"
   },
   {
    "duration": 2667,
    "start_time": "2023-05-18T17:04:20.482Z"
   },
   {
    "duration": 341,
    "start_time": "2023-05-18T17:04:23.152Z"
   },
   {
    "duration": 12,
    "start_time": "2023-05-18T17:04:23.495Z"
   },
   {
    "duration": 10,
    "start_time": "2023-05-18T17:04:23.509Z"
   },
   {
    "duration": 71,
    "start_time": "2023-05-18T17:04:23.521Z"
   },
   {
    "duration": 2429,
    "start_time": "2023-05-18T17:04:23.595Z"
   },
   {
    "duration": 1361,
    "start_time": "2023-05-18T17:04:26.027Z"
   },
   {
    "duration": 35,
    "start_time": "2023-05-18T17:04:27.391Z"
   },
   {
    "duration": 3,
    "start_time": "2023-05-18T17:04:27.429Z"
   },
   {
    "duration": 1302,
    "start_time": "2023-05-18T17:04:27.434Z"
   },
   {
    "duration": 12,
    "start_time": "2023-05-18T17:04:28.738Z"
   },
   {
    "duration": 28,
    "start_time": "2023-05-18T17:04:28.752Z"
   },
   {
    "duration": 23,
    "start_time": "2023-05-18T17:04:28.782Z"
   },
   {
    "duration": 17,
    "start_time": "2023-05-18T17:04:28.809Z"
   },
   {
    "duration": 12,
    "start_time": "2023-05-18T17:04:28.828Z"
   },
   {
    "duration": 148,
    "start_time": "2023-05-18T17:04:28.842Z"
   },
   {
    "duration": 0,
    "start_time": "2023-05-18T17:04:28.992Z"
   },
   {
    "duration": 0,
    "start_time": "2023-05-18T17:04:28.994Z"
   },
   {
    "duration": 0,
    "start_time": "2023-05-18T17:04:28.996Z"
   },
   {
    "duration": 0,
    "start_time": "2023-05-18T17:04:28.998Z"
   },
   {
    "duration": 0,
    "start_time": "2023-05-18T17:04:29.000Z"
   },
   {
    "duration": 0,
    "start_time": "2023-05-18T17:04:29.003Z"
   },
   {
    "duration": 0,
    "start_time": "2023-05-18T17:04:29.005Z"
   },
   {
    "duration": 19,
    "start_time": "2023-05-18T17:04:47.266Z"
   },
   {
    "duration": 1000,
    "start_time": "2023-05-18T17:04:47.288Z"
   },
   {
    "duration": 25,
    "start_time": "2023-05-18T17:04:48.290Z"
   },
   {
    "duration": 28,
    "start_time": "2023-05-18T17:04:48.318Z"
   },
   {
    "duration": 51,
    "start_time": "2023-05-18T17:04:48.348Z"
   },
   {
    "duration": 16,
    "start_time": "2023-05-18T17:04:48.401Z"
   },
   {
    "duration": 54,
    "start_time": "2023-05-18T17:04:48.419Z"
   },
   {
    "duration": 26,
    "start_time": "2023-05-18T17:04:48.478Z"
   },
   {
    "duration": 27,
    "start_time": "2023-05-18T17:04:48.506Z"
   },
   {
    "duration": 25,
    "start_time": "2023-05-18T17:04:48.536Z"
   },
   {
    "duration": 2672,
    "start_time": "2023-05-18T17:04:48.563Z"
   },
   {
    "duration": 346,
    "start_time": "2023-05-18T17:04:51.237Z"
   },
   {
    "duration": 13,
    "start_time": "2023-05-18T17:04:51.591Z"
   },
   {
    "duration": 15,
    "start_time": "2023-05-18T17:04:51.606Z"
   },
   {
    "duration": 66,
    "start_time": "2023-05-18T17:04:51.623Z"
   },
   {
    "duration": 2542,
    "start_time": "2023-05-18T17:04:51.691Z"
   },
   {
    "duration": 1360,
    "start_time": "2023-05-18T17:04:54.235Z"
   },
   {
    "duration": 28,
    "start_time": "2023-05-18T17:04:55.597Z"
   },
   {
    "duration": 3,
    "start_time": "2023-05-18T17:04:55.627Z"
   },
   {
    "duration": 1567,
    "start_time": "2023-05-18T17:04:55.632Z"
   },
   {
    "duration": 13,
    "start_time": "2023-05-18T17:04:57.202Z"
   },
   {
    "duration": 11,
    "start_time": "2023-05-18T17:04:57.217Z"
   },
   {
    "duration": 29,
    "start_time": "2023-05-18T17:04:57.230Z"
   },
   {
    "duration": 37,
    "start_time": "2023-05-18T17:04:57.262Z"
   },
   {
    "duration": 9,
    "start_time": "2023-05-18T17:04:57.301Z"
   },
   {
    "duration": 7,
    "start_time": "2023-05-18T17:04:57.312Z"
   },
   {
    "duration": 31389,
    "start_time": "2023-05-18T17:04:57.321Z"
   },
   {
    "duration": 16216,
    "start_time": "2023-05-18T17:05:28.713Z"
   },
   {
    "duration": 2749,
    "start_time": "2023-05-18T17:05:44.931Z"
   },
   {
    "duration": 2418,
    "start_time": "2023-05-18T17:05:47.683Z"
   },
   {
    "duration": 2309,
    "start_time": "2023-05-18T17:05:50.103Z"
   },
   {
    "duration": 1678,
    "start_time": "2023-05-18T17:10:20.510Z"
   },
   {
    "duration": 943,
    "start_time": "2023-05-18T17:10:22.191Z"
   },
   {
    "duration": 47,
    "start_time": "2023-05-18T17:10:23.136Z"
   },
   {
    "duration": 22,
    "start_time": "2023-05-18T17:10:23.190Z"
   },
   {
    "duration": 26,
    "start_time": "2023-05-18T17:10:23.214Z"
   },
   {
    "duration": 44,
    "start_time": "2023-05-18T17:10:23.242Z"
   },
   {
    "duration": 26,
    "start_time": "2023-05-18T17:10:23.288Z"
   },
   {
    "duration": 36,
    "start_time": "2023-05-18T17:10:23.317Z"
   },
   {
    "duration": 22,
    "start_time": "2023-05-18T17:10:23.356Z"
   },
   {
    "duration": 8,
    "start_time": "2023-05-18T17:10:23.387Z"
   },
   {
    "duration": 2728,
    "start_time": "2023-05-18T17:10:23.397Z"
   },
   {
    "duration": 362,
    "start_time": "2023-05-18T17:10:26.129Z"
   },
   {
    "duration": 11,
    "start_time": "2023-05-18T17:10:26.493Z"
   },
   {
    "duration": 10,
    "start_time": "2023-05-18T17:10:26.506Z"
   },
   {
    "duration": 57,
    "start_time": "2023-05-18T17:10:26.518Z"
   },
   {
    "duration": 2612,
    "start_time": "2023-05-18T17:10:26.577Z"
   },
   {
    "duration": 1151,
    "start_time": "2023-05-18T17:10:29.191Z"
   },
   {
    "duration": 51,
    "start_time": "2023-05-18T17:10:30.345Z"
   },
   {
    "duration": 32,
    "start_time": "2023-05-18T17:10:30.398Z"
   },
   {
    "duration": 1583,
    "start_time": "2023-05-18T17:10:30.433Z"
   },
   {
    "duration": 15,
    "start_time": "2023-05-18T17:10:32.019Z"
   },
   {
    "duration": 42,
    "start_time": "2023-05-18T17:10:32.037Z"
   },
   {
    "duration": 25,
    "start_time": "2023-05-18T17:10:32.086Z"
   },
   {
    "duration": 40,
    "start_time": "2023-05-18T17:10:32.113Z"
   },
   {
    "duration": 17,
    "start_time": "2023-05-18T17:10:32.155Z"
   },
   {
    "duration": 62,
    "start_time": "2023-05-18T17:10:32.185Z"
   },
   {
    "duration": 31487,
    "start_time": "2023-05-18T17:10:32.249Z"
   },
   {
    "duration": 15415,
    "start_time": "2023-05-18T17:11:03.740Z"
   },
   {
    "duration": 2041,
    "start_time": "2023-05-18T17:11:19.157Z"
   },
   {
    "duration": 2334,
    "start_time": "2023-05-18T17:11:21.201Z"
   },
   {
    "duration": 2265,
    "start_time": "2023-05-18T17:11:23.538Z"
   },
   {
    "duration": 1176,
    "start_time": "2023-05-18T17:44:26.592Z"
   },
   {
    "duration": 1176,
    "start_time": "2023-05-18T17:44:38.651Z"
   },
   {
    "duration": 1681,
    "start_time": "2023-05-18T17:53:43.507Z"
   },
   {
    "duration": 978,
    "start_time": "2023-05-18T17:53:45.191Z"
   },
   {
    "duration": 43,
    "start_time": "2023-05-18T17:53:46.172Z"
   },
   {
    "duration": 24,
    "start_time": "2023-05-18T17:53:46.217Z"
   },
   {
    "duration": 59,
    "start_time": "2023-05-18T17:53:46.244Z"
   },
   {
    "duration": 21,
    "start_time": "2023-05-18T17:53:46.306Z"
   },
   {
    "duration": 44,
    "start_time": "2023-05-18T17:53:46.329Z"
   },
   {
    "duration": 31,
    "start_time": "2023-05-18T17:53:46.374Z"
   },
   {
    "duration": 14,
    "start_time": "2023-05-18T17:53:46.406Z"
   },
   {
    "duration": 18,
    "start_time": "2023-05-18T17:53:46.422Z"
   },
   {
    "duration": 2751,
    "start_time": "2023-05-18T17:53:46.442Z"
   },
   {
    "duration": 297,
    "start_time": "2023-05-18T17:53:49.196Z"
   },
   {
    "duration": 11,
    "start_time": "2023-05-18T17:53:49.496Z"
   },
   {
    "duration": 8,
    "start_time": "2023-05-18T17:53:49.510Z"
   },
   {
    "duration": 74,
    "start_time": "2023-05-18T17:53:49.520Z"
   },
   {
    "duration": 2481,
    "start_time": "2023-05-18T17:53:49.596Z"
   },
   {
    "duration": 1069,
    "start_time": "2023-05-18T17:53:52.083Z"
   },
   {
    "duration": 40,
    "start_time": "2023-05-18T17:53:53.154Z"
   },
   {
    "duration": 3,
    "start_time": "2023-05-18T17:53:53.197Z"
   },
   {
    "duration": 1440,
    "start_time": "2023-05-18T17:53:53.203Z"
   },
   {
    "duration": 14,
    "start_time": "2023-05-18T17:53:54.645Z"
   },
   {
    "duration": 16,
    "start_time": "2023-05-18T17:53:54.672Z"
   },
   {
    "duration": 8,
    "start_time": "2023-05-18T17:53:54.690Z"
   },
   {
    "duration": 18,
    "start_time": "2023-05-18T17:53:54.700Z"
   },
   {
    "duration": 9,
    "start_time": "2023-05-18T17:53:54.720Z"
   },
   {
    "duration": 6,
    "start_time": "2023-05-18T17:53:54.731Z"
   },
   {
    "duration": 31079,
    "start_time": "2023-05-18T17:53:54.739Z"
   },
   {
    "duration": 15310,
    "start_time": "2023-05-18T17:54:25.820Z"
   },
   {
    "duration": 2446,
    "start_time": "2023-05-18T17:54:41.133Z"
   },
   {
    "duration": 1266,
    "start_time": "2023-05-18T17:54:43.581Z"
   },
   {
    "duration": 1250,
    "start_time": "2023-05-18T17:54:44.849Z"
   },
   {
    "duration": 1973,
    "start_time": "2023-05-18T20:40:09.474Z"
   },
   {
    "duration": 2993,
    "start_time": "2023-05-18T20:40:11.449Z"
   },
   {
    "duration": 50,
    "start_time": "2023-05-18T20:40:14.444Z"
   },
   {
    "duration": 34,
    "start_time": "2023-05-18T20:40:14.496Z"
   },
   {
    "duration": 45,
    "start_time": "2023-05-18T20:40:14.532Z"
   },
   {
    "duration": 21,
    "start_time": "2023-05-18T20:40:14.586Z"
   },
   {
    "duration": 28,
    "start_time": "2023-05-18T20:40:14.609Z"
   },
   {
    "duration": 22,
    "start_time": "2023-05-18T20:40:14.639Z"
   },
   {
    "duration": 32,
    "start_time": "2023-05-18T20:40:14.663Z"
   },
   {
    "duration": 13,
    "start_time": "2023-05-18T20:40:14.705Z"
   },
   {
    "duration": 3088,
    "start_time": "2023-05-18T20:40:14.720Z"
   },
   {
    "duration": 380,
    "start_time": "2023-05-18T20:40:17.810Z"
   },
   {
    "duration": 19,
    "start_time": "2023-05-18T20:40:18.193Z"
   },
   {
    "duration": 18,
    "start_time": "2023-05-18T20:40:18.215Z"
   },
   {
    "duration": 51,
    "start_time": "2023-05-18T20:40:18.236Z"
   },
   {
    "duration": 2829,
    "start_time": "2023-05-18T20:40:18.289Z"
   },
   {
    "duration": 1706,
    "start_time": "2023-05-18T20:40:21.120Z"
   },
   {
    "duration": 70,
    "start_time": "2023-05-18T20:40:22.829Z"
   },
   {
    "duration": 4,
    "start_time": "2023-05-18T20:40:22.904Z"
   },
   {
    "duration": 1789,
    "start_time": "2023-05-18T20:40:22.910Z"
   },
   {
    "duration": 17,
    "start_time": "2023-05-18T20:40:24.704Z"
   },
   {
    "duration": 19,
    "start_time": "2023-05-18T20:40:24.724Z"
   },
   {
    "duration": 9,
    "start_time": "2023-05-18T20:40:24.745Z"
   },
   {
    "duration": 36,
    "start_time": "2023-05-18T20:40:24.757Z"
   },
   {
    "duration": 9,
    "start_time": "2023-05-18T20:40:24.795Z"
   },
   {
    "duration": 13,
    "start_time": "2023-05-18T20:40:24.806Z"
   },
   {
    "duration": 32606,
    "start_time": "2023-05-18T20:40:24.822Z"
   },
   {
    "duration": 16531,
    "start_time": "2023-05-18T20:40:57.432Z"
   },
   {
    "duration": 4570,
    "start_time": "2023-05-18T20:41:13.965Z"
   },
   {
    "duration": 1309,
    "start_time": "2023-05-18T20:41:18.575Z"
   },
   {
    "duration": 1241,
    "start_time": "2023-05-18T20:41:19.885Z"
   },
   {
    "duration": 1715,
    "start_time": "2023-05-18T21:51:24.610Z"
   },
   {
    "duration": 939,
    "start_time": "2023-05-18T21:51:26.328Z"
   },
   {
    "duration": 35,
    "start_time": "2023-05-18T21:51:27.272Z"
   },
   {
    "duration": 28,
    "start_time": "2023-05-18T21:51:27.310Z"
   },
   {
    "duration": 64,
    "start_time": "2023-05-18T21:51:27.339Z"
   },
   {
    "duration": 28,
    "start_time": "2023-05-18T21:51:27.406Z"
   },
   {
    "duration": 29,
    "start_time": "2023-05-18T21:51:27.436Z"
   },
   {
    "duration": 59,
    "start_time": "2023-05-18T21:51:27.467Z"
   },
   {
    "duration": 11,
    "start_time": "2023-05-18T21:51:27.529Z"
   },
   {
    "duration": 30,
    "start_time": "2023-05-18T21:51:27.544Z"
   },
   {
    "duration": 2869,
    "start_time": "2023-05-18T21:51:27.588Z"
   },
   {
    "duration": 326,
    "start_time": "2023-05-18T21:51:30.460Z"
   },
   {
    "duration": 14,
    "start_time": "2023-05-18T21:51:30.789Z"
   },
   {
    "duration": 72,
    "start_time": "2023-05-18T21:51:30.805Z"
   },
   {
    "duration": 123,
    "start_time": "2023-05-18T21:51:30.886Z"
   },
   {
    "duration": 2743,
    "start_time": "2023-05-18T21:51:31.011Z"
   },
   {
    "duration": 1198,
    "start_time": "2023-05-18T21:51:33.756Z"
   },
   {
    "duration": 48,
    "start_time": "2023-05-18T21:51:34.957Z"
   },
   {
    "duration": 4,
    "start_time": "2023-05-18T21:51:35.007Z"
   },
   {
    "duration": 1556,
    "start_time": "2023-05-18T21:51:35.012Z"
   },
   {
    "duration": 19,
    "start_time": "2023-05-18T21:51:36.571Z"
   },
   {
    "duration": 29,
    "start_time": "2023-05-18T21:51:36.592Z"
   },
   {
    "duration": 25,
    "start_time": "2023-05-18T21:51:36.623Z"
   },
   {
    "duration": 38,
    "start_time": "2023-05-18T21:51:36.649Z"
   },
   {
    "duration": 26,
    "start_time": "2023-05-18T21:51:36.690Z"
   },
   {
    "duration": 16,
    "start_time": "2023-05-18T21:51:36.717Z"
   },
   {
    "duration": 32431,
    "start_time": "2023-05-18T21:51:36.735Z"
   },
   {
    "duration": 15956,
    "start_time": "2023-05-18T21:52:09.171Z"
   },
   {
    "duration": 5857,
    "start_time": "2023-05-18T21:52:25.130Z"
   },
   {
    "duration": 1314,
    "start_time": "2023-05-18T21:52:30.989Z"
   },
   {
    "duration": 1236,
    "start_time": "2023-05-18T21:52:32.305Z"
   },
   {
    "duration": 1655,
    "start_time": "2023-05-18T21:54:05.210Z"
   },
   {
    "duration": 941,
    "start_time": "2023-05-18T21:54:06.867Z"
   },
   {
    "duration": 46,
    "start_time": "2023-05-18T21:54:07.810Z"
   },
   {
    "duration": 44,
    "start_time": "2023-05-18T21:54:07.858Z"
   },
   {
    "duration": 33,
    "start_time": "2023-05-18T21:54:07.908Z"
   },
   {
    "duration": 43,
    "start_time": "2023-05-18T21:54:07.944Z"
   },
   {
    "duration": 28,
    "start_time": "2023-05-18T21:54:07.990Z"
   },
   {
    "duration": 33,
    "start_time": "2023-05-18T21:54:08.020Z"
   },
   {
    "duration": 24,
    "start_time": "2023-05-18T21:54:08.055Z"
   },
   {
    "duration": 43,
    "start_time": "2023-05-18T21:54:08.080Z"
   },
   {
    "duration": 2743,
    "start_time": "2023-05-18T21:54:08.126Z"
   },
   {
    "duration": 322,
    "start_time": "2023-05-18T21:54:10.881Z"
   },
   {
    "duration": 12,
    "start_time": "2023-05-18T21:54:11.206Z"
   },
   {
    "duration": 68,
    "start_time": "2023-05-18T21:54:11.223Z"
   },
   {
    "duration": 87,
    "start_time": "2023-05-18T21:54:11.293Z"
   },
   {
    "duration": 2613,
    "start_time": "2023-05-18T21:54:11.382Z"
   },
   {
    "duration": 1184,
    "start_time": "2023-05-18T21:54:13.997Z"
   },
   {
    "duration": 31,
    "start_time": "2023-05-18T21:54:15.184Z"
   },
   {
    "duration": 3,
    "start_time": "2023-05-18T21:54:15.218Z"
   },
   {
    "duration": 1569,
    "start_time": "2023-05-18T21:54:15.223Z"
   },
   {
    "duration": 17,
    "start_time": "2023-05-18T21:54:16.793Z"
   },
   {
    "duration": 27,
    "start_time": "2023-05-18T21:54:16.812Z"
   },
   {
    "duration": 21,
    "start_time": "2023-05-18T21:54:16.841Z"
   },
   {
    "duration": 56,
    "start_time": "2023-05-18T21:54:16.864Z"
   },
   {
    "duration": 26,
    "start_time": "2023-05-18T21:54:16.922Z"
   },
   {
    "duration": 12,
    "start_time": "2023-05-18T21:54:16.950Z"
   },
   {
    "duration": 31703,
    "start_time": "2023-05-18T21:54:16.964Z"
   },
   {
    "duration": 24405,
    "start_time": "2023-05-18T21:54:48.676Z"
   },
   {
    "duration": 6124,
    "start_time": "2023-05-18T21:55:13.085Z"
   },
   {
    "duration": 1294,
    "start_time": "2023-05-18T21:55:19.218Z"
   },
   {
    "duration": 1221,
    "start_time": "2023-05-18T21:55:20.514Z"
   },
   {
    "duration": 1837,
    "start_time": "2023-05-18T21:58:55.700Z"
   },
   {
    "duration": 981,
    "start_time": "2023-05-18T21:58:57.540Z"
   },
   {
    "duration": 29,
    "start_time": "2023-05-18T21:58:58.523Z"
   },
   {
    "duration": 52,
    "start_time": "2023-05-18T21:58:58.555Z"
   },
   {
    "duration": 26,
    "start_time": "2023-05-18T21:58:58.610Z"
   },
   {
    "duration": 15,
    "start_time": "2023-05-18T21:58:58.638Z"
   },
   {
    "duration": 53,
    "start_time": "2023-05-18T21:58:58.655Z"
   },
   {
    "duration": 33,
    "start_time": "2023-05-18T21:58:58.711Z"
   },
   {
    "duration": 31,
    "start_time": "2023-05-18T21:58:58.746Z"
   },
   {
    "duration": 17,
    "start_time": "2023-05-18T21:58:58.787Z"
   },
   {
    "duration": 3039,
    "start_time": "2023-05-18T21:58:58.807Z"
   },
   {
    "duration": 361,
    "start_time": "2023-05-18T21:59:01.849Z"
   },
   {
    "duration": 59,
    "start_time": "2023-05-18T21:59:02.218Z"
   },
   {
    "duration": 44,
    "start_time": "2023-05-18T21:59:02.281Z"
   },
   {
    "duration": 88,
    "start_time": "2023-05-18T21:59:02.327Z"
   },
   {
    "duration": 2721,
    "start_time": "2023-05-18T21:59:02.418Z"
   },
   {
    "duration": 1264,
    "start_time": "2023-05-18T21:59:05.141Z"
   },
   {
    "duration": 33,
    "start_time": "2023-05-18T21:59:06.412Z"
   },
   {
    "duration": 3,
    "start_time": "2023-05-18T21:59:06.448Z"
   },
   {
    "duration": 1627,
    "start_time": "2023-05-18T21:59:06.473Z"
   },
   {
    "duration": 17,
    "start_time": "2023-05-18T21:59:08.103Z"
   },
   {
    "duration": 31,
    "start_time": "2023-05-18T21:59:08.122Z"
   },
   {
    "duration": 65,
    "start_time": "2023-05-18T21:59:08.155Z"
   },
   {
    "duration": 26,
    "start_time": "2023-05-18T21:59:08.223Z"
   },
   {
    "duration": 8,
    "start_time": "2023-05-18T21:59:08.251Z"
   },
   {
    "duration": 44,
    "start_time": "2023-05-18T21:59:08.262Z"
   },
   {
    "duration": 32199,
    "start_time": "2023-05-18T21:59:08.309Z"
   },
   {
    "duration": 26035,
    "start_time": "2023-05-18T21:59:40.514Z"
   },
   {
    "duration": 3265,
    "start_time": "2023-05-18T22:00:06.551Z"
   },
   {
    "duration": 3504,
    "start_time": "2023-05-18T22:00:09.818Z"
   },
   {
    "duration": 3462,
    "start_time": "2023-05-18T22:00:13.324Z"
   },
   {
    "duration": 1703,
    "start_time": "2023-05-18T23:38:31.808Z"
   },
   {
    "duration": 975,
    "start_time": "2023-05-18T23:38:33.513Z"
   },
   {
    "duration": 31,
    "start_time": "2023-05-18T23:38:34.490Z"
   },
   {
    "duration": 33,
    "start_time": "2023-05-18T23:38:34.524Z"
   },
   {
    "duration": 51,
    "start_time": "2023-05-18T23:38:34.559Z"
   },
   {
    "duration": 39,
    "start_time": "2023-05-18T23:38:34.615Z"
   },
   {
    "duration": 50,
    "start_time": "2023-05-18T23:38:34.656Z"
   },
   {
    "duration": 28,
    "start_time": "2023-05-18T23:38:34.708Z"
   },
   {
    "duration": 9,
    "start_time": "2023-05-18T23:38:34.738Z"
   },
   {
    "duration": 10,
    "start_time": "2023-05-18T23:38:34.777Z"
   },
   {
    "duration": 2940,
    "start_time": "2023-05-18T23:38:34.788Z"
   },
   {
    "duration": 377,
    "start_time": "2023-05-18T23:38:37.731Z"
   },
   {
    "duration": 13,
    "start_time": "2023-05-18T23:38:38.110Z"
   },
   {
    "duration": 16,
    "start_time": "2023-05-18T23:38:38.178Z"
   },
   {
    "duration": 98,
    "start_time": "2023-05-18T23:38:38.197Z"
   },
   {
    "duration": 2800,
    "start_time": "2023-05-18T23:38:38.297Z"
   },
   {
    "duration": 1146,
    "start_time": "2023-05-18T23:38:41.099Z"
   },
   {
    "duration": 55,
    "start_time": "2023-05-18T23:38:42.246Z"
   },
   {
    "duration": 2,
    "start_time": "2023-05-18T23:38:42.303Z"
   },
   {
    "duration": 1465,
    "start_time": "2023-05-18T23:38:42.308Z"
   },
   {
    "duration": 18,
    "start_time": "2023-05-18T23:38:43.780Z"
   },
   {
    "duration": 59,
    "start_time": "2023-05-18T23:38:43.800Z"
   },
   {
    "duration": 24,
    "start_time": "2023-05-18T23:38:43.860Z"
   },
   {
    "duration": 45,
    "start_time": "2023-05-18T23:38:43.890Z"
   },
   {
    "duration": 12,
    "start_time": "2023-05-18T23:38:43.937Z"
   },
   {
    "duration": 9,
    "start_time": "2023-05-18T23:38:43.951Z"
   },
   {
    "duration": 31450,
    "start_time": "2023-05-18T23:38:43.962Z"
   },
   {
    "duration": 24550,
    "start_time": "2023-05-18T23:39:15.416Z"
   },
   {
    "duration": 4247,
    "start_time": "2023-05-18T23:39:39.968Z"
   },
   {
    "duration": 3458,
    "start_time": "2023-05-18T23:39:44.277Z"
   },
   {
    "duration": 3430,
    "start_time": "2023-05-18T23:39:47.737Z"
   },
   {
    "duration": 1660,
    "start_time": "2023-05-19T00:21:49.588Z"
   },
   {
    "duration": 979,
    "start_time": "2023-05-19T00:21:51.251Z"
   },
   {
    "duration": 50,
    "start_time": "2023-05-19T00:21:52.232Z"
   },
   {
    "duration": 37,
    "start_time": "2023-05-19T00:21:52.285Z"
   },
   {
    "duration": 22,
    "start_time": "2023-05-19T00:21:52.324Z"
   },
   {
    "duration": 37,
    "start_time": "2023-05-19T00:21:52.348Z"
   },
   {
    "duration": 49,
    "start_time": "2023-05-19T00:21:52.388Z"
   },
   {
    "duration": 47,
    "start_time": "2023-05-19T00:21:52.440Z"
   },
   {
    "duration": 22,
    "start_time": "2023-05-19T00:21:52.496Z"
   },
   {
    "duration": 29,
    "start_time": "2023-05-19T00:21:52.521Z"
   },
   {
    "duration": 2749,
    "start_time": "2023-05-19T00:21:52.551Z"
   },
   {
    "duration": 369,
    "start_time": "2023-05-19T00:21:55.305Z"
   },
   {
    "duration": 35,
    "start_time": "2023-05-19T00:21:55.678Z"
   },
   {
    "duration": 13,
    "start_time": "2023-05-19T00:21:55.715Z"
   },
   {
    "duration": 96,
    "start_time": "2023-05-19T00:21:55.776Z"
   },
   {
    "duration": 2650,
    "start_time": "2023-05-19T00:21:55.875Z"
   },
   {
    "duration": 1106,
    "start_time": "2023-05-19T00:21:58.527Z"
   },
   {
    "duration": 56,
    "start_time": "2023-05-19T00:21:59.636Z"
   },
   {
    "duration": 9,
    "start_time": "2023-05-19T00:21:59.697Z"
   },
   {
    "duration": 1445,
    "start_time": "2023-05-19T00:21:59.708Z"
   },
   {
    "duration": 31,
    "start_time": "2023-05-19T00:22:01.155Z"
   },
   {
    "duration": 50,
    "start_time": "2023-05-19T00:22:01.187Z"
   },
   {
    "duration": 63,
    "start_time": "2023-05-19T00:22:01.238Z"
   },
   {
    "duration": 47,
    "start_time": "2023-05-19T00:22:01.304Z"
   },
   {
    "duration": 71,
    "start_time": "2023-05-19T00:22:01.353Z"
   },
   {
    "duration": 75,
    "start_time": "2023-05-19T00:22:01.425Z"
   },
   {
    "duration": 31786,
    "start_time": "2023-05-19T00:22:01.502Z"
   },
   {
    "duration": 23918,
    "start_time": "2023-05-19T00:22:33.301Z"
   },
   {
    "duration": 3155,
    "start_time": "2023-05-19T00:22:57.221Z"
   },
   {
    "duration": 3395,
    "start_time": "2023-05-19T00:23:00.383Z"
   },
   {
    "duration": 3400,
    "start_time": "2023-05-19T00:23:03.780Z"
   },
   {
    "duration": 1648,
    "start_time": "2023-05-19T01:34:34.831Z"
   },
   {
    "duration": 955,
    "start_time": "2023-05-19T01:34:36.481Z"
   },
   {
    "duration": 34,
    "start_time": "2023-05-19T01:34:37.438Z"
   },
   {
    "duration": 26,
    "start_time": "2023-05-19T01:34:37.475Z"
   },
   {
    "duration": 30,
    "start_time": "2023-05-19T01:34:37.507Z"
   },
   {
    "duration": 45,
    "start_time": "2023-05-19T01:34:37.539Z"
   },
   {
    "duration": 28,
    "start_time": "2023-05-19T01:34:37.585Z"
   },
   {
    "duration": 30,
    "start_time": "2023-05-19T01:34:37.615Z"
   },
   {
    "duration": 9,
    "start_time": "2023-05-19T01:34:37.646Z"
   },
   {
    "duration": 13,
    "start_time": "2023-05-19T01:34:37.677Z"
   },
   {
    "duration": 2832,
    "start_time": "2023-05-19T01:34:37.693Z"
   },
   {
    "duration": 385,
    "start_time": "2023-05-19T01:34:40.527Z"
   },
   {
    "duration": 70,
    "start_time": "2023-05-19T01:34:40.914Z"
   },
   {
    "duration": 38,
    "start_time": "2023-05-19T01:34:40.986Z"
   },
   {
    "duration": 61,
    "start_time": "2023-05-19T01:34:41.026Z"
   },
   {
    "duration": 2547,
    "start_time": "2023-05-19T01:34:41.093Z"
   },
   {
    "duration": 1162,
    "start_time": "2023-05-19T01:34:43.642Z"
   },
   {
    "duration": 32,
    "start_time": "2023-05-19T01:34:44.806Z"
   },
   {
    "duration": 1518,
    "start_time": "2023-05-19T01:34:44.839Z"
   },
   {
    "duration": 32,
    "start_time": "2023-05-19T01:34:46.359Z"
   },
   {
    "duration": 24,
    "start_time": "2023-05-19T01:34:46.398Z"
   },
   {
    "duration": 29,
    "start_time": "2023-05-19T01:34:46.424Z"
   },
   {
    "duration": 75,
    "start_time": "2023-05-19T01:34:46.455Z"
   },
   {
    "duration": 16,
    "start_time": "2023-05-19T01:34:46.532Z"
   },
   {
    "duration": 62,
    "start_time": "2023-05-19T01:34:46.550Z"
   },
   {
    "duration": 31209,
    "start_time": "2023-05-19T01:34:46.614Z"
   },
   {
    "duration": 23939,
    "start_time": "2023-05-19T01:35:17.826Z"
   },
   {
    "duration": 3102,
    "start_time": "2023-05-19T01:35:41.772Z"
   },
   {
    "duration": 3428,
    "start_time": "2023-05-19T01:35:44.881Z"
   },
   {
    "duration": 3318,
    "start_time": "2023-05-19T01:35:48.312Z"
   },
   {
    "duration": 1685,
    "start_time": "2023-05-19T01:38:47.761Z"
   },
   {
    "duration": 955,
    "start_time": "2023-05-19T01:38:49.449Z"
   },
   {
    "duration": 29,
    "start_time": "2023-05-19T01:38:50.407Z"
   },
   {
    "duration": 50,
    "start_time": "2023-05-19T01:38:50.439Z"
   },
   {
    "duration": 37,
    "start_time": "2023-05-19T01:38:50.492Z"
   },
   {
    "duration": 15,
    "start_time": "2023-05-19T01:38:50.530Z"
   },
   {
    "duration": 57,
    "start_time": "2023-05-19T01:38:50.547Z"
   },
   {
    "duration": 29,
    "start_time": "2023-05-19T01:38:50.605Z"
   },
   {
    "duration": 15,
    "start_time": "2023-05-19T01:38:50.637Z"
   },
   {
    "duration": 29,
    "start_time": "2023-05-19T01:38:50.655Z"
   },
   {
    "duration": 2862,
    "start_time": "2023-05-19T01:38:50.691Z"
   },
   {
    "duration": 332,
    "start_time": "2023-05-19T01:38:53.556Z"
   },
   {
    "duration": 12,
    "start_time": "2023-05-19T01:38:53.891Z"
   },
   {
    "duration": 73,
    "start_time": "2023-05-19T01:38:53.907Z"
   },
   {
    "duration": 32,
    "start_time": "2023-05-19T01:38:53.983Z"
   },
   {
    "duration": 2624,
    "start_time": "2023-05-19T01:38:54.017Z"
   },
   {
    "duration": 1111,
    "start_time": "2023-05-19T01:38:56.642Z"
   },
   {
    "duration": 50,
    "start_time": "2023-05-19T01:38:57.756Z"
   },
   {
    "duration": 1442,
    "start_time": "2023-05-19T01:38:57.808Z"
   },
   {
    "duration": 27,
    "start_time": "2023-05-19T01:38:59.252Z"
   },
   {
    "duration": 33,
    "start_time": "2023-05-19T01:38:59.281Z"
   },
   {
    "duration": 9,
    "start_time": "2023-05-19T01:38:59.316Z"
   },
   {
    "duration": 38,
    "start_time": "2023-05-19T01:38:59.326Z"
   },
   {
    "duration": 41,
    "start_time": "2023-05-19T01:38:59.366Z"
   },
   {
    "duration": 30940,
    "start_time": "2023-05-19T01:38:59.409Z"
   },
   {
    "duration": 23907,
    "start_time": "2023-05-19T01:39:30.351Z"
   },
   {
    "duration": 3930,
    "start_time": "2023-05-19T01:39:54.261Z"
   },
   {
    "duration": 3416,
    "start_time": "2023-05-19T01:39:58.199Z"
   },
   {
    "duration": 3338,
    "start_time": "2023-05-19T01:40:01.617Z"
   },
   {
    "duration": 1917,
    "start_time": "2023-05-19T01:44:38.397Z"
   },
   {
    "duration": 1096,
    "start_time": "2023-05-19T01:44:40.316Z"
   },
   {
    "duration": 32,
    "start_time": "2023-05-19T01:44:41.425Z"
   },
   {
    "duration": 33,
    "start_time": "2023-05-19T01:44:41.460Z"
   },
   {
    "duration": 120,
    "start_time": "2023-05-19T01:44:41.497Z"
   },
   {
    "duration": 42,
    "start_time": "2023-05-19T01:44:41.619Z"
   },
   {
    "duration": 98,
    "start_time": "2023-05-19T01:44:41.663Z"
   },
   {
    "duration": 78,
    "start_time": "2023-05-19T01:44:41.763Z"
   },
   {
    "duration": 16,
    "start_time": "2023-05-19T01:44:41.844Z"
   },
   {
    "duration": 74,
    "start_time": "2023-05-19T01:44:41.862Z"
   },
   {
    "duration": 3319,
    "start_time": "2023-05-19T01:44:41.938Z"
   },
   {
    "duration": 281,
    "start_time": "2023-05-19T01:44:45.259Z"
   },
   {
    "duration": 24,
    "start_time": "2023-05-19T01:44:45.573Z"
   },
   {
    "duration": 46,
    "start_time": "2023-05-19T01:44:45.603Z"
   },
   {
    "duration": 87,
    "start_time": "2023-05-19T01:44:45.651Z"
   },
   {
    "duration": 3042,
    "start_time": "2023-05-19T01:44:45.775Z"
   },
   {
    "duration": 1288,
    "start_time": "2023-05-19T01:44:48.819Z"
   },
   {
    "duration": 37,
    "start_time": "2023-05-19T01:44:50.112Z"
   },
   {
    "duration": 1635,
    "start_time": "2023-05-19T01:44:50.151Z"
   },
   {
    "duration": 17,
    "start_time": "2023-05-19T01:44:51.788Z"
   },
   {
    "duration": 56,
    "start_time": "2023-05-19T01:44:51.807Z"
   },
   {
    "duration": 67,
    "start_time": "2023-05-19T01:44:51.864Z"
   },
   {
    "duration": 31,
    "start_time": "2023-05-19T01:44:51.932Z"
   },
   {
    "duration": 65,
    "start_time": "2023-05-19T01:44:51.966Z"
   },
   {
    "duration": 33358,
    "start_time": "2023-05-19T01:44:52.033Z"
   },
   {
    "duration": 25373,
    "start_time": "2023-05-19T01:45:25.393Z"
   },
   {
    "duration": 4542,
    "start_time": "2023-05-19T01:45:50.768Z"
   },
   {
    "duration": 3563,
    "start_time": "2023-05-19T01:45:55.321Z"
   },
   {
    "duration": 3448,
    "start_time": "2023-05-19T01:45:58.886Z"
   },
   {
    "duration": 1741,
    "start_time": "2023-05-19T01:48:55.461Z"
   },
   {
    "duration": 1013,
    "start_time": "2023-05-19T01:48:57.204Z"
   },
   {
    "duration": 29,
    "start_time": "2023-05-19T01:48:58.221Z"
   },
   {
    "duration": 34,
    "start_time": "2023-05-19T01:48:58.252Z"
   },
   {
    "duration": 37,
    "start_time": "2023-05-19T01:48:58.288Z"
   },
   {
    "duration": 25,
    "start_time": "2023-05-19T01:48:58.328Z"
   },
   {
    "duration": 63,
    "start_time": "2023-05-19T01:48:58.355Z"
   },
   {
    "duration": 49,
    "start_time": "2023-05-19T01:48:58.421Z"
   },
   {
    "duration": 35,
    "start_time": "2023-05-19T01:48:58.472Z"
   },
   {
    "duration": 28,
    "start_time": "2023-05-19T01:48:58.510Z"
   },
   {
    "duration": 3026,
    "start_time": "2023-05-19T01:48:58.540Z"
   },
   {
    "duration": 421,
    "start_time": "2023-05-19T01:49:01.568Z"
   },
   {
    "duration": 15,
    "start_time": "2023-05-19T01:49:01.990Z"
   },
   {
    "duration": 88,
    "start_time": "2023-05-19T01:49:02.007Z"
   },
   {
    "duration": 59,
    "start_time": "2023-05-19T01:49:02.097Z"
   },
   {
    "duration": 2787,
    "start_time": "2023-05-19T01:49:02.159Z"
   },
   {
    "duration": 1266,
    "start_time": "2023-05-19T01:49:04.948Z"
   },
   {
    "duration": 31,
    "start_time": "2023-05-19T01:49:06.217Z"
   },
   {
    "duration": 1514,
    "start_time": "2023-05-19T01:49:06.250Z"
   },
   {
    "duration": 44,
    "start_time": "2023-05-19T01:49:07.766Z"
   },
   {
    "duration": 49,
    "start_time": "2023-05-19T01:49:07.815Z"
   },
   {
    "duration": 66,
    "start_time": "2023-05-19T01:49:07.866Z"
   },
   {
    "duration": 26,
    "start_time": "2023-05-19T01:49:07.935Z"
   },
   {
    "duration": 20,
    "start_time": "2023-05-19T01:49:07.963Z"
   },
   {
    "duration": 31798,
    "start_time": "2023-05-19T01:49:08.001Z"
   },
   {
    "duration": 24788,
    "start_time": "2023-05-19T01:49:39.808Z"
   },
   {
    "duration": 4197,
    "start_time": "2023-05-19T01:50:04.598Z"
   },
   {
    "duration": 3446,
    "start_time": "2023-05-19T01:50:08.800Z"
   },
   {
    "duration": 3414,
    "start_time": "2023-05-19T01:50:12.248Z"
   },
   {
    "duration": 1713,
    "start_time": "2023-05-19T02:01:36.436Z"
   },
   {
    "duration": 1029,
    "start_time": "2023-05-19T02:01:38.151Z"
   },
   {
    "duration": 45,
    "start_time": "2023-05-19T02:01:39.182Z"
   },
   {
    "duration": 26,
    "start_time": "2023-05-19T02:01:39.229Z"
   },
   {
    "duration": 57,
    "start_time": "2023-05-19T02:01:39.257Z"
   },
   {
    "duration": 27,
    "start_time": "2023-05-19T02:01:39.317Z"
   },
   {
    "duration": 49,
    "start_time": "2023-05-19T02:01:39.345Z"
   },
   {
    "duration": 39,
    "start_time": "2023-05-19T02:01:39.397Z"
   },
   {
    "duration": 16,
    "start_time": "2023-05-19T02:01:39.438Z"
   },
   {
    "duration": 18,
    "start_time": "2023-05-19T02:01:39.458Z"
   },
   {
    "duration": 3039,
    "start_time": "2023-05-19T02:01:39.478Z"
   },
   {
    "duration": 364,
    "start_time": "2023-05-19T02:01:42.519Z"
   },
   {
    "duration": 24,
    "start_time": "2023-05-19T02:01:42.885Z"
   },
   {
    "duration": 65,
    "start_time": "2023-05-19T02:01:42.911Z"
   },
   {
    "duration": 41,
    "start_time": "2023-05-19T02:01:42.986Z"
   },
   {
    "duration": 2713,
    "start_time": "2023-05-19T02:01:43.029Z"
   },
   {
    "duration": 1241,
    "start_time": "2023-05-19T02:01:45.745Z"
   },
   {
    "duration": 38,
    "start_time": "2023-05-19T02:01:46.991Z"
   },
   {
    "duration": 1500,
    "start_time": "2023-05-19T02:01:47.030Z"
   },
   {
    "duration": 18,
    "start_time": "2023-05-19T02:01:48.532Z"
   },
   {
    "duration": 32,
    "start_time": "2023-05-19T02:01:48.553Z"
   },
   {
    "duration": 49,
    "start_time": "2023-05-19T02:01:48.588Z"
   },
   {
    "duration": 48,
    "start_time": "2023-05-19T02:01:48.639Z"
   },
   {
    "duration": 35,
    "start_time": "2023-05-19T02:01:48.694Z"
   },
   {
    "duration": 33031,
    "start_time": "2023-05-19T02:01:48.732Z"
   },
   {
    "duration": 24774,
    "start_time": "2023-05-19T02:02:21.765Z"
   },
   {
    "duration": 6165,
    "start_time": "2023-05-19T02:02:46.541Z"
   },
   {
    "duration": 3469,
    "start_time": "2023-05-19T02:02:52.716Z"
   },
   {
    "duration": 3435,
    "start_time": "2023-05-19T02:02:56.192Z"
   },
   {
    "duration": 1462,
    "start_time": "2023-05-19T09:24:28.432Z"
   },
   {
    "duration": 2753,
    "start_time": "2023-05-19T09:24:29.896Z"
   },
   {
    "duration": 21,
    "start_time": "2023-05-19T09:24:32.650Z"
   },
   {
    "duration": 16,
    "start_time": "2023-05-19T09:24:32.673Z"
   },
   {
    "duration": 23,
    "start_time": "2023-05-19T09:24:32.690Z"
   },
   {
    "duration": 11,
    "start_time": "2023-05-19T09:24:32.714Z"
   },
   {
    "duration": 31,
    "start_time": "2023-05-19T09:24:32.726Z"
   },
   {
    "duration": 16,
    "start_time": "2023-05-19T09:24:32.758Z"
   },
   {
    "duration": 6,
    "start_time": "2023-05-19T09:24:32.775Z"
   },
   {
    "duration": 14,
    "start_time": "2023-05-19T09:24:32.784Z"
   },
   {
    "duration": 1947,
    "start_time": "2023-05-19T09:24:32.806Z"
   },
   {
    "duration": 194,
    "start_time": "2023-05-19T09:24:34.755Z"
   },
   {
    "duration": 8,
    "start_time": "2023-05-19T09:24:34.950Z"
   },
   {
    "duration": 6,
    "start_time": "2023-05-19T09:24:34.959Z"
   },
   {
    "duration": 53,
    "start_time": "2023-05-19T09:24:34.966Z"
   },
   {
    "duration": 1769,
    "start_time": "2023-05-19T09:24:35.020Z"
   },
   {
    "duration": 771,
    "start_time": "2023-05-19T09:24:36.790Z"
   },
   {
    "duration": 26,
    "start_time": "2023-05-19T09:24:37.563Z"
   },
   {
    "duration": 980,
    "start_time": "2023-05-19T09:24:37.591Z"
   },
   {
    "duration": 10,
    "start_time": "2023-05-19T09:24:38.572Z"
   },
   {
    "duration": 11,
    "start_time": "2023-05-19T09:24:38.583Z"
   },
   {
    "duration": 15,
    "start_time": "2023-05-19T09:24:38.595Z"
   },
   {
    "duration": 13,
    "start_time": "2023-05-19T09:24:38.612Z"
   },
   {
    "duration": 3,
    "start_time": "2023-05-19T09:24:38.626Z"
   },
   {
    "duration": 24693,
    "start_time": "2023-05-19T09:24:38.630Z"
   },
   {
    "duration": 18815,
    "start_time": "2023-05-19T09:25:03.324Z"
   },
   {
    "duration": 1770,
    "start_time": "2023-05-19T09:25:22.141Z"
   },
   {
    "duration": 2730,
    "start_time": "2023-05-19T09:25:23.915Z"
   },
   {
    "duration": 2567,
    "start_time": "2023-05-19T09:25:26.646Z"
   },
   {
    "duration": 833,
    "start_time": "2023-05-19T11:13:48.287Z"
   },
   {
    "duration": 945,
    "start_time": "2023-05-19T11:13:54.446Z"
   },
   {
    "duration": 1554,
    "start_time": "2023-09-07T22:33:47.070Z"
   },
   {
    "duration": 3690,
    "start_time": "2023-09-07T22:33:48.626Z"
   },
   {
    "duration": 24,
    "start_time": "2023-09-07T22:33:52.318Z"
   },
   {
    "duration": 26,
    "start_time": "2023-09-07T22:33:52.344Z"
   },
   {
    "duration": 22,
    "start_time": "2023-09-07T22:33:52.371Z"
   },
   {
    "duration": 12,
    "start_time": "2023-09-07T22:33:52.395Z"
   },
   {
    "duration": 24,
    "start_time": "2023-09-07T22:33:52.408Z"
   },
   {
    "duration": 47,
    "start_time": "2023-09-07T22:33:52.434Z"
   },
   {
    "duration": 7,
    "start_time": "2023-09-07T22:33:52.482Z"
   },
   {
    "duration": 27,
    "start_time": "2023-09-07T22:33:52.491Z"
   },
   {
    "duration": 2457,
    "start_time": "2023-09-07T22:33:52.520Z"
   },
   {
    "duration": 298,
    "start_time": "2023-09-07T22:33:54.979Z"
   },
   {
    "duration": 9,
    "start_time": "2023-09-07T22:33:55.279Z"
   },
   {
    "duration": 24,
    "start_time": "2023-09-07T22:33:55.290Z"
   },
   {
    "duration": 40,
    "start_time": "2023-09-07T22:33:55.316Z"
   },
   {
    "duration": 2135,
    "start_time": "2023-09-07T22:33:55.369Z"
   },
   {
    "duration": 989,
    "start_time": "2023-09-07T22:33:57.507Z"
   },
   {
    "duration": 28,
    "start_time": "2023-09-07T22:33:58.498Z"
   },
   {
    "duration": 1216,
    "start_time": "2023-09-07T22:33:58.528Z"
   },
   {
    "duration": 27,
    "start_time": "2023-09-07T22:33:59.745Z"
   },
   {
    "duration": 11,
    "start_time": "2023-09-07T22:33:59.774Z"
   },
   {
    "duration": 23,
    "start_time": "2023-09-07T22:33:59.787Z"
   },
   {
    "duration": 29,
    "start_time": "2023-09-07T22:33:59.811Z"
   },
   {
    "duration": 44,
    "start_time": "2023-09-07T22:33:59.842Z"
   },
   {
    "duration": 29,
    "start_time": "2023-09-07T22:33:59.888Z"
   },
   {
    "duration": 28146,
    "start_time": "2023-09-07T22:33:59.919Z"
   },
   {
    "duration": 1621,
    "start_time": "2023-09-07T22:34:42.345Z"
   },
   {
    "duration": 946,
    "start_time": "2023-09-07T22:34:43.968Z"
   },
   {
    "duration": 25,
    "start_time": "2023-09-07T22:34:44.916Z"
   },
   {
    "duration": 21,
    "start_time": "2023-09-07T22:34:44.956Z"
   },
   {
    "duration": 25,
    "start_time": "2023-09-07T22:34:44.979Z"
   },
   {
    "duration": 88,
    "start_time": "2023-09-07T22:34:45.005Z"
   },
   {
    "duration": 60,
    "start_time": "2023-09-07T22:34:45.095Z"
   },
   {
    "duration": 21,
    "start_time": "2023-09-07T22:34:45.156Z"
   },
   {
    "duration": 7,
    "start_time": "2023-09-07T22:34:45.179Z"
   },
   {
    "duration": 7,
    "start_time": "2023-09-07T22:34:45.188Z"
   },
   {
    "duration": 2332,
    "start_time": "2023-09-07T22:34:45.197Z"
   },
   {
    "duration": 258,
    "start_time": "2023-09-07T22:34:47.531Z"
   },
   {
    "duration": 10,
    "start_time": "2023-09-07T22:34:47.790Z"
   },
   {
    "duration": 58,
    "start_time": "2023-09-07T22:34:47.802Z"
   },
   {
    "duration": 25,
    "start_time": "2023-09-07T22:34:47.864Z"
   },
   {
    "duration": 2311,
    "start_time": "2023-09-07T22:34:47.891Z"
   },
   {
    "duration": 995,
    "start_time": "2023-09-07T22:34:50.204Z"
   },
   {
    "duration": 29,
    "start_time": "2023-09-07T22:34:51.201Z"
   },
   {
    "duration": 1286,
    "start_time": "2023-09-07T22:34:51.232Z"
   },
   {
    "duration": 12,
    "start_time": "2023-09-07T22:34:52.520Z"
   },
   {
    "duration": 30,
    "start_time": "2023-09-07T22:34:52.533Z"
   },
   {
    "duration": 9,
    "start_time": "2023-09-07T22:34:52.565Z"
   },
   {
    "duration": 34,
    "start_time": "2023-09-07T22:34:52.576Z"
   },
   {
    "duration": 9,
    "start_time": "2023-09-07T22:34:52.614Z"
   },
   {
    "duration": 29081,
    "start_time": "2023-09-07T22:34:52.625Z"
   },
   {
    "duration": 22375,
    "start_time": "2023-09-07T22:35:21.709Z"
   },
   {
    "duration": 1672,
    "start_time": "2023-09-07T22:35:44.086Z"
   },
   {
    "duration": 3159,
    "start_time": "2023-09-07T22:35:45.767Z"
   },
   {
    "duration": 3065,
    "start_time": "2023-09-07T22:35:48.928Z"
   },
   {
    "duration": 1342,
    "start_time": "2024-01-04T12:38:24.978Z"
   },
   {
    "duration": 2072,
    "start_time": "2024-01-04T12:38:26.322Z"
   },
   {
    "duration": 22,
    "start_time": "2024-01-04T12:38:28.395Z"
   },
   {
    "duration": 25,
    "start_time": "2024-01-04T12:38:28.419Z"
   },
   {
    "duration": 23,
    "start_time": "2024-01-04T12:38:28.446Z"
   },
   {
    "duration": 19,
    "start_time": "2024-01-04T12:38:28.470Z"
   },
   {
    "duration": 29,
    "start_time": "2024-01-04T12:38:28.490Z"
   },
   {
    "duration": 38,
    "start_time": "2024-01-04T12:38:28.521Z"
   },
   {
    "duration": 7,
    "start_time": "2024-01-04T12:38:28.560Z"
   },
   {
    "duration": 34,
    "start_time": "2024-01-04T12:38:28.569Z"
   },
   {
    "duration": 2121,
    "start_time": "2024-01-04T12:38:28.605Z"
   },
   {
    "duration": 238,
    "start_time": "2024-01-04T12:38:30.728Z"
   },
   {
    "duration": 9,
    "start_time": "2024-01-04T12:38:30.967Z"
   },
   {
    "duration": 28,
    "start_time": "2024-01-04T12:38:30.977Z"
   },
   {
    "duration": 41,
    "start_time": "2024-01-04T12:38:31.006Z"
   },
   {
    "duration": 1972,
    "start_time": "2024-01-04T12:38:31.049Z"
   },
   {
    "duration": 901,
    "start_time": "2024-01-04T12:38:33.023Z"
   },
   {
    "duration": 25,
    "start_time": "2024-01-04T12:38:33.925Z"
   },
   {
    "duration": 1098,
    "start_time": "2024-01-04T12:38:33.951Z"
   },
   {
    "duration": 16,
    "start_time": "2024-01-04T12:38:35.050Z"
   },
   {
    "duration": 34,
    "start_time": "2024-01-04T12:38:35.067Z"
   },
   {
    "duration": 4,
    "start_time": "2024-01-04T12:38:35.103Z"
   },
   {
    "duration": 13,
    "start_time": "2024-01-04T12:38:35.108Z"
   },
   {
    "duration": 2,
    "start_time": "2024-01-04T12:38:35.122Z"
   },
   {
    "duration": 27186,
    "start_time": "2024-01-04T12:38:35.126Z"
   },
   {
    "duration": 20886,
    "start_time": "2024-01-04T12:39:02.314Z"
   },
   {
    "duration": 1565,
    "start_time": "2024-01-04T12:39:23.202Z"
   },
   {
    "duration": 2988,
    "start_time": "2024-01-04T12:39:24.771Z"
   },
   {
    "duration": 2860,
    "start_time": "2024-01-04T12:39:27.761Z"
   },
   {
    "duration": 1696,
    "start_time": "2024-01-12T16:29:18.951Z"
   },
   {
    "duration": 3323,
    "start_time": "2024-01-12T16:29:20.649Z"
   },
   {
    "duration": 34,
    "start_time": "2024-01-12T16:29:23.974Z"
   },
   {
    "duration": 24,
    "start_time": "2024-01-12T16:29:24.010Z"
   },
   {
    "duration": 28,
    "start_time": "2024-01-12T16:29:24.037Z"
   },
   {
    "duration": 34,
    "start_time": "2024-01-12T16:29:24.066Z"
   },
   {
    "duration": 22,
    "start_time": "2024-01-12T16:29:24.102Z"
   },
   {
    "duration": 30,
    "start_time": "2024-01-12T16:29:24.125Z"
   },
   {
    "duration": 8,
    "start_time": "2024-01-12T16:29:24.157Z"
   },
   {
    "duration": 10,
    "start_time": "2024-01-12T16:29:24.167Z"
   },
   {
    "duration": 153,
    "start_time": "2024-01-12T16:29:24.179Z"
   },
   {
    "duration": 0,
    "start_time": "2024-01-12T16:29:24.333Z"
   },
   {
    "duration": 0,
    "start_time": "2024-01-12T16:29:24.334Z"
   },
   {
    "duration": 0,
    "start_time": "2024-01-12T16:29:24.336Z"
   },
   {
    "duration": 0,
    "start_time": "2024-01-12T16:29:24.337Z"
   },
   {
    "duration": 0,
    "start_time": "2024-01-12T16:29:24.338Z"
   },
   {
    "duration": 0,
    "start_time": "2024-01-12T16:29:24.339Z"
   },
   {
    "duration": 0,
    "start_time": "2024-01-12T16:29:24.341Z"
   },
   {
    "duration": 0,
    "start_time": "2024-01-12T16:29:24.342Z"
   },
   {
    "duration": 0,
    "start_time": "2024-01-12T16:29:24.343Z"
   },
   {
    "duration": 0,
    "start_time": "2024-01-12T16:29:24.344Z"
   },
   {
    "duration": 0,
    "start_time": "2024-01-12T16:29:24.345Z"
   },
   {
    "duration": 0,
    "start_time": "2024-01-12T16:29:24.347Z"
   },
   {
    "duration": 0,
    "start_time": "2024-01-12T16:29:24.348Z"
   },
   {
    "duration": 0,
    "start_time": "2024-01-12T16:29:24.349Z"
   },
   {
    "duration": 0,
    "start_time": "2024-01-12T16:29:24.350Z"
   },
   {
    "duration": 0,
    "start_time": "2024-01-12T16:29:24.351Z"
   },
   {
    "duration": 0,
    "start_time": "2024-01-12T16:29:24.352Z"
   },
   {
    "duration": 0,
    "start_time": "2024-01-12T16:29:24.353Z"
   },
   {
    "duration": 43,
    "start_time": "2024-01-12T16:29:51.712Z"
   },
   {
    "duration": 962,
    "start_time": "2024-01-12T16:29:58.906Z"
   },
   {
    "duration": 34,
    "start_time": "2024-01-12T16:30:10.583Z"
   },
   {
    "duration": 1557,
    "start_time": "2024-01-12T16:38:27.116Z"
   },
   {
    "duration": 938,
    "start_time": "2024-01-12T16:38:28.675Z"
   },
   {
    "duration": 26,
    "start_time": "2024-01-12T16:38:29.614Z"
   },
   {
    "duration": 19,
    "start_time": "2024-01-12T16:38:29.642Z"
   },
   {
    "duration": 43,
    "start_time": "2024-01-12T16:38:29.663Z"
   },
   {
    "duration": 21,
    "start_time": "2024-01-12T16:38:29.707Z"
   },
   {
    "duration": 57,
    "start_time": "2024-01-12T16:38:29.729Z"
   },
   {
    "duration": 22,
    "start_time": "2024-01-12T16:38:29.788Z"
   },
   {
    "duration": 8,
    "start_time": "2024-01-12T16:38:29.812Z"
   },
   {
    "duration": 11,
    "start_time": "2024-01-12T16:38:29.822Z"
   },
   {
    "duration": 39,
    "start_time": "2024-01-12T16:38:29.835Z"
   },
   {
    "duration": 166,
    "start_time": "2024-01-12T16:38:29.899Z"
   },
   {
    "duration": 10,
    "start_time": "2024-01-12T16:38:30.067Z"
   },
   {
    "duration": 125,
    "start_time": "2024-01-12T16:38:30.080Z"
   },
   {
    "duration": 154,
    "start_time": "2024-01-12T16:38:30.206Z"
   },
   {
    "duration": 2404,
    "start_time": "2024-01-12T16:38:30.362Z"
   },
   {
    "duration": 1073,
    "start_time": "2024-01-12T16:38:32.768Z"
   },
   {
    "duration": 28,
    "start_time": "2024-01-12T16:38:33.842Z"
   },
   {
    "duration": 1349,
    "start_time": "2024-01-12T16:38:33.872Z"
   },
   {
    "duration": 12,
    "start_time": "2024-01-12T16:38:35.223Z"
   },
   {
    "duration": 10,
    "start_time": "2024-01-12T16:38:35.237Z"
   },
   {
    "duration": 6,
    "start_time": "2024-01-12T16:38:35.249Z"
   },
   {
    "duration": 47,
    "start_time": "2024-01-12T16:38:35.257Z"
   },
   {
    "duration": 3,
    "start_time": "2024-01-12T16:38:35.306Z"
   },
   {
    "duration": 30829,
    "start_time": "2024-01-12T16:38:35.311Z"
   },
   {
    "duration": 23947,
    "start_time": "2024-01-12T16:39:06.142Z"
   },
   {
    "duration": 1710,
    "start_time": "2024-01-12T16:39:30.091Z"
   },
   {
    "duration": 3393,
    "start_time": "2024-01-12T16:39:31.804Z"
   },
   {
    "duration": 3452,
    "start_time": "2024-01-12T16:39:35.200Z"
   }
  ],
  "kernelspec": {
   "display_name": "Python 3 (ipykernel)",
   "language": "python",
   "name": "python3"
  },
  "language_info": {
   "codemirror_mode": {
    "name": "ipython",
    "version": 3
   },
   "file_extension": ".py",
   "mimetype": "text/x-python",
   "name": "python",
   "nbconvert_exporter": "python",
   "pygments_lexer": "ipython3",
   "version": "3.9.5"
  },
  "toc": {
   "base_numbering": 1,
   "nav_menu": {},
   "number_sections": false,
   "sideBar": true,
   "skip_h1_title": false,
   "title_cell": "Содержание",
   "title_sidebar": "Contents",
   "toc_cell": true,
   "toc_position": {
    "height": "calc(100% - 180px)",
    "left": "10px",
    "top": "150px",
    "width": "165px"
   },
   "toc_section_display": true,
   "toc_window_display": true
  }
 },
 "nbformat": 4,
 "nbformat_minor": 2
}
