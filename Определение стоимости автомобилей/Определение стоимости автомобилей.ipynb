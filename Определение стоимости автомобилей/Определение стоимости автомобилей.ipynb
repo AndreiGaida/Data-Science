{
 "cells": [
  {
   "cell_type": "markdown",
   "metadata": {
    "toc": true
   },
   "source": [
    "<h1>Содержание<span class=\"tocSkip\"></span></h1>\n",
    "<div class=\"toc\"><ul class=\"toc-item\"><li><span><a href=\"#Определение-стоимости-автомобилей\" data-toc-modified-id=\"Определение-стоимости-автомобилей-1\">Определение стоимости автомобилей</a></span></li><li><span><a href=\"#Подготовка-данных\" data-toc-modified-id=\"Подготовка-данных-2\">Подготовка данных</a></span></li><li><span><a href=\"#Обучение-моделей\" data-toc-modified-id=\"Обучение-моделей-3\">Обучение моделей</a></span></li><li><span><a href=\"#Анализ-моделей\" data-toc-modified-id=\"Анализ-моделей-4\">Анализ моделей</a></span></li><li><span><a href=\"#Тестирование-модели\" data-toc-modified-id=\"Тестирование-модели-5\">Тестирование модели</a></span></li><li><span><a href=\"#Вывод\" data-toc-modified-id=\"Вывод-6\">Вывод</a></span></li></ul></div>"
   ]
  },
  {
   "cell_type": "markdown",
   "metadata": {},
   "source": [
    "# Определение стоимости автомобилей"
   ]
  },
  {
   "cell_type": "markdown",
   "metadata": {},
   "source": [
    "Сервис по продаже автомобилей с пробегом «Не бит, не крашен» разрабатывает приложение для привлечения новых клиентов. В нём можно быстро узнать рыночную стоимость своего автомобиля. В нашем распоряжении исторические данные: технические характеристики, комплектации и цены автомобилей. Необходимо построить модель для определения стоимости. \n",
    "\n",
    "Заказчику важны:\n",
    "\n",
    "- качество предсказания;\n",
    "- скорость предсказания;\n",
    "- время обучения."
   ]
  },
  {
   "cell_type": "markdown",
   "metadata": {},
   "source": [
    "# Подготовка данных"
   ]
  },
  {
   "cell_type": "code",
   "execution_count": 1,
   "metadata": {},
   "outputs": [],
   "source": [
    "import pandas as pd\n",
    "import numpy as np\n",
    "from sklearn.model_selection import train_test_split\n",
    "from sklearn.model_selection import cross_val_score\n",
    "from sklearn.model_selection import GridSearchCV\n",
    "from sklearn.linear_model import LinearRegression\n",
    "from sklearn.metrics import mean_squared_error\n",
    "from sklearn.preprocessing import OrdinalEncoder\n",
    "from sklearn.preprocessing import StandardScaler\n",
    "from catboost import CatBoostRegressor\n",
    "from lightgbm import LGBMRegressor\n",
    "import warnings\n",
    "warnings.filterwarnings('ignore')"
   ]
  },
  {
   "cell_type": "code",
   "execution_count": 2,
   "metadata": {},
   "outputs": [],
   "source": [
    "try:\n",
    "    data = pd.read_csv('C:/Users/datasets/autos.csv')\n",
    "except:\n",
    "    data = pd.read_csv('//datasets/autos.csv')\n"
   ]
  },
  {
   "cell_type": "markdown",
   "metadata": {},
   "source": [
    "*Изучим общую информацию.*"
   ]
  },
  {
   "cell_type": "code",
   "execution_count": 3,
   "metadata": {},
   "outputs": [
    {
     "data": {
      "text/html": [
       "<div>\n",
       "<style scoped>\n",
       "    .dataframe tbody tr th:only-of-type {\n",
       "        vertical-align: middle;\n",
       "    }\n",
       "\n",
       "    .dataframe tbody tr th {\n",
       "        vertical-align: top;\n",
       "    }\n",
       "\n",
       "    .dataframe thead th {\n",
       "        text-align: right;\n",
       "    }\n",
       "</style>\n",
       "<table border=\"1\" class=\"dataframe\">\n",
       "  <thead>\n",
       "    <tr style=\"text-align: right;\">\n",
       "      <th></th>\n",
       "      <th>DateCrawled</th>\n",
       "      <th>Price</th>\n",
       "      <th>VehicleType</th>\n",
       "      <th>RegistrationYear</th>\n",
       "      <th>Gearbox</th>\n",
       "      <th>Power</th>\n",
       "      <th>Model</th>\n",
       "      <th>Kilometer</th>\n",
       "      <th>RegistrationMonth</th>\n",
       "      <th>FuelType</th>\n",
       "      <th>Brand</th>\n",
       "      <th>Repaired</th>\n",
       "      <th>DateCreated</th>\n",
       "      <th>NumberOfPictures</th>\n",
       "      <th>PostalCode</th>\n",
       "      <th>LastSeen</th>\n",
       "    </tr>\n",
       "  </thead>\n",
       "  <tbody>\n",
       "    <tr>\n",
       "      <th>0</th>\n",
       "      <td>2016-03-24 11:52:17</td>\n",
       "      <td>480</td>\n",
       "      <td>NaN</td>\n",
       "      <td>1993</td>\n",
       "      <td>manual</td>\n",
       "      <td>0</td>\n",
       "      <td>golf</td>\n",
       "      <td>150000</td>\n",
       "      <td>0</td>\n",
       "      <td>petrol</td>\n",
       "      <td>volkswagen</td>\n",
       "      <td>NaN</td>\n",
       "      <td>2016-03-24 00:00:00</td>\n",
       "      <td>0</td>\n",
       "      <td>70435</td>\n",
       "      <td>2016-04-07 03:16:57</td>\n",
       "    </tr>\n",
       "    <tr>\n",
       "      <th>1</th>\n",
       "      <td>2016-03-24 10:58:45</td>\n",
       "      <td>18300</td>\n",
       "      <td>coupe</td>\n",
       "      <td>2011</td>\n",
       "      <td>manual</td>\n",
       "      <td>190</td>\n",
       "      <td>NaN</td>\n",
       "      <td>125000</td>\n",
       "      <td>5</td>\n",
       "      <td>gasoline</td>\n",
       "      <td>audi</td>\n",
       "      <td>yes</td>\n",
       "      <td>2016-03-24 00:00:00</td>\n",
       "      <td>0</td>\n",
       "      <td>66954</td>\n",
       "      <td>2016-04-07 01:46:50</td>\n",
       "    </tr>\n",
       "    <tr>\n",
       "      <th>2</th>\n",
       "      <td>2016-03-14 12:52:21</td>\n",
       "      <td>9800</td>\n",
       "      <td>suv</td>\n",
       "      <td>2004</td>\n",
       "      <td>auto</td>\n",
       "      <td>163</td>\n",
       "      <td>grand</td>\n",
       "      <td>125000</td>\n",
       "      <td>8</td>\n",
       "      <td>gasoline</td>\n",
       "      <td>jeep</td>\n",
       "      <td>NaN</td>\n",
       "      <td>2016-03-14 00:00:00</td>\n",
       "      <td>0</td>\n",
       "      <td>90480</td>\n",
       "      <td>2016-04-05 12:47:46</td>\n",
       "    </tr>\n",
       "    <tr>\n",
       "      <th>3</th>\n",
       "      <td>2016-03-17 16:54:04</td>\n",
       "      <td>1500</td>\n",
       "      <td>small</td>\n",
       "      <td>2001</td>\n",
       "      <td>manual</td>\n",
       "      <td>75</td>\n",
       "      <td>golf</td>\n",
       "      <td>150000</td>\n",
       "      <td>6</td>\n",
       "      <td>petrol</td>\n",
       "      <td>volkswagen</td>\n",
       "      <td>no</td>\n",
       "      <td>2016-03-17 00:00:00</td>\n",
       "      <td>0</td>\n",
       "      <td>91074</td>\n",
       "      <td>2016-03-17 17:40:17</td>\n",
       "    </tr>\n",
       "    <tr>\n",
       "      <th>4</th>\n",
       "      <td>2016-03-31 17:25:20</td>\n",
       "      <td>3600</td>\n",
       "      <td>small</td>\n",
       "      <td>2008</td>\n",
       "      <td>manual</td>\n",
       "      <td>69</td>\n",
       "      <td>fabia</td>\n",
       "      <td>90000</td>\n",
       "      <td>7</td>\n",
       "      <td>gasoline</td>\n",
       "      <td>skoda</td>\n",
       "      <td>no</td>\n",
       "      <td>2016-03-31 00:00:00</td>\n",
       "      <td>0</td>\n",
       "      <td>60437</td>\n",
       "      <td>2016-04-06 10:17:21</td>\n",
       "    </tr>\n",
       "    <tr>\n",
       "      <th>5</th>\n",
       "      <td>2016-04-04 17:36:23</td>\n",
       "      <td>650</td>\n",
       "      <td>sedan</td>\n",
       "      <td>1995</td>\n",
       "      <td>manual</td>\n",
       "      <td>102</td>\n",
       "      <td>3er</td>\n",
       "      <td>150000</td>\n",
       "      <td>10</td>\n",
       "      <td>petrol</td>\n",
       "      <td>bmw</td>\n",
       "      <td>yes</td>\n",
       "      <td>2016-04-04 00:00:00</td>\n",
       "      <td>0</td>\n",
       "      <td>33775</td>\n",
       "      <td>2016-04-06 19:17:07</td>\n",
       "    </tr>\n",
       "    <tr>\n",
       "      <th>6</th>\n",
       "      <td>2016-04-01 20:48:51</td>\n",
       "      <td>2200</td>\n",
       "      <td>convertible</td>\n",
       "      <td>2004</td>\n",
       "      <td>manual</td>\n",
       "      <td>109</td>\n",
       "      <td>2_reihe</td>\n",
       "      <td>150000</td>\n",
       "      <td>8</td>\n",
       "      <td>petrol</td>\n",
       "      <td>peugeot</td>\n",
       "      <td>no</td>\n",
       "      <td>2016-04-01 00:00:00</td>\n",
       "      <td>0</td>\n",
       "      <td>67112</td>\n",
       "      <td>2016-04-05 18:18:39</td>\n",
       "    </tr>\n",
       "    <tr>\n",
       "      <th>7</th>\n",
       "      <td>2016-03-21 18:54:38</td>\n",
       "      <td>0</td>\n",
       "      <td>sedan</td>\n",
       "      <td>1980</td>\n",
       "      <td>manual</td>\n",
       "      <td>50</td>\n",
       "      <td>other</td>\n",
       "      <td>40000</td>\n",
       "      <td>7</td>\n",
       "      <td>petrol</td>\n",
       "      <td>volkswagen</td>\n",
       "      <td>no</td>\n",
       "      <td>2016-03-21 00:00:00</td>\n",
       "      <td>0</td>\n",
       "      <td>19348</td>\n",
       "      <td>2016-03-25 16:47:58</td>\n",
       "    </tr>\n",
       "    <tr>\n",
       "      <th>8</th>\n",
       "      <td>2016-04-04 23:42:13</td>\n",
       "      <td>14500</td>\n",
       "      <td>bus</td>\n",
       "      <td>2014</td>\n",
       "      <td>manual</td>\n",
       "      <td>125</td>\n",
       "      <td>c_max</td>\n",
       "      <td>30000</td>\n",
       "      <td>8</td>\n",
       "      <td>petrol</td>\n",
       "      <td>ford</td>\n",
       "      <td>NaN</td>\n",
       "      <td>2016-04-04 00:00:00</td>\n",
       "      <td>0</td>\n",
       "      <td>94505</td>\n",
       "      <td>2016-04-04 23:42:13</td>\n",
       "    </tr>\n",
       "    <tr>\n",
       "      <th>9</th>\n",
       "      <td>2016-03-17 10:53:50</td>\n",
       "      <td>999</td>\n",
       "      <td>small</td>\n",
       "      <td>1998</td>\n",
       "      <td>manual</td>\n",
       "      <td>101</td>\n",
       "      <td>golf</td>\n",
       "      <td>150000</td>\n",
       "      <td>0</td>\n",
       "      <td>NaN</td>\n",
       "      <td>volkswagen</td>\n",
       "      <td>NaN</td>\n",
       "      <td>2016-03-17 00:00:00</td>\n",
       "      <td>0</td>\n",
       "      <td>27472</td>\n",
       "      <td>2016-03-31 17:17:06</td>\n",
       "    </tr>\n",
       "  </tbody>\n",
       "</table>\n",
       "</div>"
      ],
      "text/plain": [
       "           DateCrawled  Price  VehicleType  RegistrationYear Gearbox  Power  \\\n",
       "0  2016-03-24 11:52:17    480          NaN              1993  manual      0   \n",
       "1  2016-03-24 10:58:45  18300        coupe              2011  manual    190   \n",
       "2  2016-03-14 12:52:21   9800          suv              2004    auto    163   \n",
       "3  2016-03-17 16:54:04   1500        small              2001  manual     75   \n",
       "4  2016-03-31 17:25:20   3600        small              2008  manual     69   \n",
       "5  2016-04-04 17:36:23    650        sedan              1995  manual    102   \n",
       "6  2016-04-01 20:48:51   2200  convertible              2004  manual    109   \n",
       "7  2016-03-21 18:54:38      0        sedan              1980  manual     50   \n",
       "8  2016-04-04 23:42:13  14500          bus              2014  manual    125   \n",
       "9  2016-03-17 10:53:50    999        small              1998  manual    101   \n",
       "\n",
       "     Model  Kilometer  RegistrationMonth  FuelType       Brand Repaired  \\\n",
       "0     golf     150000                  0    petrol  volkswagen      NaN   \n",
       "1      NaN     125000                  5  gasoline        audi      yes   \n",
       "2    grand     125000                  8  gasoline        jeep      NaN   \n",
       "3     golf     150000                  6    petrol  volkswagen       no   \n",
       "4    fabia      90000                  7  gasoline       skoda       no   \n",
       "5      3er     150000                 10    petrol         bmw      yes   \n",
       "6  2_reihe     150000                  8    petrol     peugeot       no   \n",
       "7    other      40000                  7    petrol  volkswagen       no   \n",
       "8    c_max      30000                  8    petrol        ford      NaN   \n",
       "9     golf     150000                  0       NaN  volkswagen      NaN   \n",
       "\n",
       "           DateCreated  NumberOfPictures  PostalCode             LastSeen  \n",
       "0  2016-03-24 00:00:00                 0       70435  2016-04-07 03:16:57  \n",
       "1  2016-03-24 00:00:00                 0       66954  2016-04-07 01:46:50  \n",
       "2  2016-03-14 00:00:00                 0       90480  2016-04-05 12:47:46  \n",
       "3  2016-03-17 00:00:00                 0       91074  2016-03-17 17:40:17  \n",
       "4  2016-03-31 00:00:00                 0       60437  2016-04-06 10:17:21  \n",
       "5  2016-04-04 00:00:00                 0       33775  2016-04-06 19:17:07  \n",
       "6  2016-04-01 00:00:00                 0       67112  2016-04-05 18:18:39  \n",
       "7  2016-03-21 00:00:00                 0       19348  2016-03-25 16:47:58  \n",
       "8  2016-04-04 00:00:00                 0       94505  2016-04-04 23:42:13  \n",
       "9  2016-03-17 00:00:00                 0       27472  2016-03-31 17:17:06  "
      ]
     },
     "execution_count": 3,
     "metadata": {},
     "output_type": "execute_result"
    }
   ],
   "source": [
    "data.head(10)"
   ]
  },
  {
   "cell_type": "code",
   "execution_count": 4,
   "metadata": {},
   "outputs": [
    {
     "data": {
      "text/html": [
       "<div>\n",
       "<style scoped>\n",
       "    .dataframe tbody tr th:only-of-type {\n",
       "        vertical-align: middle;\n",
       "    }\n",
       "\n",
       "    .dataframe tbody tr th {\n",
       "        vertical-align: top;\n",
       "    }\n",
       "\n",
       "    .dataframe thead th {\n",
       "        text-align: right;\n",
       "    }\n",
       "</style>\n",
       "<table border=\"1\" class=\"dataframe\">\n",
       "  <thead>\n",
       "    <tr style=\"text-align: right;\">\n",
       "      <th></th>\n",
       "      <th>Price</th>\n",
       "      <th>RegistrationYear</th>\n",
       "      <th>Power</th>\n",
       "      <th>Kilometer</th>\n",
       "      <th>RegistrationMonth</th>\n",
       "      <th>NumberOfPictures</th>\n",
       "      <th>PostalCode</th>\n",
       "    </tr>\n",
       "  </thead>\n",
       "  <tbody>\n",
       "    <tr>\n",
       "      <th>count</th>\n",
       "      <td>354369.000000</td>\n",
       "      <td>354369.000000</td>\n",
       "      <td>354369.000000</td>\n",
       "      <td>354369.000000</td>\n",
       "      <td>354369.000000</td>\n",
       "      <td>354369.0</td>\n",
       "      <td>354369.000000</td>\n",
       "    </tr>\n",
       "    <tr>\n",
       "      <th>mean</th>\n",
       "      <td>4416.656776</td>\n",
       "      <td>2004.234448</td>\n",
       "      <td>110.094337</td>\n",
       "      <td>128211.172535</td>\n",
       "      <td>5.714645</td>\n",
       "      <td>0.0</td>\n",
       "      <td>50508.689087</td>\n",
       "    </tr>\n",
       "    <tr>\n",
       "      <th>std</th>\n",
       "      <td>4514.158514</td>\n",
       "      <td>90.227958</td>\n",
       "      <td>189.850405</td>\n",
       "      <td>37905.341530</td>\n",
       "      <td>3.726421</td>\n",
       "      <td>0.0</td>\n",
       "      <td>25783.096248</td>\n",
       "    </tr>\n",
       "    <tr>\n",
       "      <th>min</th>\n",
       "      <td>0.000000</td>\n",
       "      <td>1000.000000</td>\n",
       "      <td>0.000000</td>\n",
       "      <td>5000.000000</td>\n",
       "      <td>0.000000</td>\n",
       "      <td>0.0</td>\n",
       "      <td>1067.000000</td>\n",
       "    </tr>\n",
       "    <tr>\n",
       "      <th>25%</th>\n",
       "      <td>1050.000000</td>\n",
       "      <td>1999.000000</td>\n",
       "      <td>69.000000</td>\n",
       "      <td>125000.000000</td>\n",
       "      <td>3.000000</td>\n",
       "      <td>0.0</td>\n",
       "      <td>30165.000000</td>\n",
       "    </tr>\n",
       "    <tr>\n",
       "      <th>50%</th>\n",
       "      <td>2700.000000</td>\n",
       "      <td>2003.000000</td>\n",
       "      <td>105.000000</td>\n",
       "      <td>150000.000000</td>\n",
       "      <td>6.000000</td>\n",
       "      <td>0.0</td>\n",
       "      <td>49413.000000</td>\n",
       "    </tr>\n",
       "    <tr>\n",
       "      <th>75%</th>\n",
       "      <td>6400.000000</td>\n",
       "      <td>2008.000000</td>\n",
       "      <td>143.000000</td>\n",
       "      <td>150000.000000</td>\n",
       "      <td>9.000000</td>\n",
       "      <td>0.0</td>\n",
       "      <td>71083.000000</td>\n",
       "    </tr>\n",
       "    <tr>\n",
       "      <th>max</th>\n",
       "      <td>20000.000000</td>\n",
       "      <td>9999.000000</td>\n",
       "      <td>20000.000000</td>\n",
       "      <td>150000.000000</td>\n",
       "      <td>12.000000</td>\n",
       "      <td>0.0</td>\n",
       "      <td>99998.000000</td>\n",
       "    </tr>\n",
       "  </tbody>\n",
       "</table>\n",
       "</div>"
      ],
      "text/plain": [
       "               Price  RegistrationYear          Power      Kilometer  \\\n",
       "count  354369.000000     354369.000000  354369.000000  354369.000000   \n",
       "mean     4416.656776       2004.234448     110.094337  128211.172535   \n",
       "std      4514.158514         90.227958     189.850405   37905.341530   \n",
       "min         0.000000       1000.000000       0.000000    5000.000000   \n",
       "25%      1050.000000       1999.000000      69.000000  125000.000000   \n",
       "50%      2700.000000       2003.000000     105.000000  150000.000000   \n",
       "75%      6400.000000       2008.000000     143.000000  150000.000000   \n",
       "max     20000.000000       9999.000000   20000.000000  150000.000000   \n",
       "\n",
       "       RegistrationMonth  NumberOfPictures     PostalCode  \n",
       "count      354369.000000          354369.0  354369.000000  \n",
       "mean            5.714645               0.0   50508.689087  \n",
       "std             3.726421               0.0   25783.096248  \n",
       "min             0.000000               0.0    1067.000000  \n",
       "25%             3.000000               0.0   30165.000000  \n",
       "50%             6.000000               0.0   49413.000000  \n",
       "75%             9.000000               0.0   71083.000000  \n",
       "max            12.000000               0.0   99998.000000  "
      ]
     },
     "execution_count": 4,
     "metadata": {},
     "output_type": "execute_result"
    }
   ],
   "source": [
    "data.describe()"
   ]
  },
  {
   "cell_type": "markdown",
   "metadata": {},
   "source": [
    "*Проверим данные на наличие явных дубликатов.*"
   ]
  },
  {
   "cell_type": "code",
   "execution_count": 5,
   "metadata": {},
   "outputs": [
    {
     "data": {
      "text/plain": [
       "4"
      ]
     },
     "execution_count": 5,
     "metadata": {},
     "output_type": "execute_result"
    }
   ],
   "source": [
    "data.duplicated().sum()"
   ]
  },
  {
   "cell_type": "markdown",
   "metadata": {},
   "source": [
    "*Удалим явные дубликты.*"
   ]
  },
  {
   "cell_type": "code",
   "execution_count": 6,
   "metadata": {},
   "outputs": [],
   "source": [
    "data = data.drop_duplicates().reset_index(drop=True)"
   ]
  },
  {
   "cell_type": "markdown",
   "metadata": {},
   "source": [
    "*Сохраним в новой переменной \"data_filtered\" информативные признаки.*"
   ]
  },
  {
   "cell_type": "code",
   "execution_count": 7,
   "metadata": {},
   "outputs": [],
   "source": [
    "data_filtered = data[['Price', 'VehicleType', 'RegistrationYear', 'Gearbox', 'Power', 'Model',\n",
    "                             'Kilometer', 'FuelType', 'Brand', 'Repaired']]"
   ]
  },
  {
   "cell_type": "markdown",
   "metadata": {},
   "source": [
    "*Ознакомимся с количеством пропусков.*"
   ]
  },
  {
   "cell_type": "code",
   "execution_count": 8,
   "metadata": {},
   "outputs": [
    {
     "data": {
      "text/plain": [
       "Price               0.000000\n",
       "VehicleType         0.105795\n",
       "RegistrationYear    0.000000\n",
       "Gearbox             0.055968\n",
       "Power               0.000000\n",
       "Model               0.055607\n",
       "Kilometer           0.000000\n",
       "FuelType            0.092828\n",
       "Brand               0.000000\n",
       "Repaired            0.200793\n",
       "dtype: float64"
      ]
     },
     "execution_count": 8,
     "metadata": {},
     "output_type": "execute_result"
    }
   ],
   "source": [
    "data_filtered.isna().mean()\n"
   ]
  },
  {
   "cell_type": "markdown",
   "metadata": {},
   "source": [
    "*Рассмотрим значения 'Gearbox'.*"
   ]
  },
  {
   "cell_type": "code",
   "execution_count": 9,
   "metadata": {},
   "outputs": [
    {
     "data": {
      "text/plain": [
       "manual    268249\n",
       "auto       66283\n",
       "Name: Gearbox, dtype: int64"
      ]
     },
     "execution_count": 9,
     "metadata": {},
     "output_type": "execute_result"
    }
   ],
   "source": [
    "data_filtered['Gearbox'].value_counts()"
   ]
  },
  {
   "cell_type": "markdown",
   "metadata": {},
   "source": [
    "*Заменим пропуски в \"Gearbox\" на \"manual\".*"
   ]
  },
  {
   "cell_type": "code",
   "execution_count": 10,
   "metadata": {},
   "outputs": [],
   "source": [
    "data_filtered['Gearbox'] = data_filtered['Gearbox'].fillna('manual')"
   ]
  },
  {
   "cell_type": "markdown",
   "metadata": {},
   "source": [
    "*Рассмотрим значения 'Repaired'.*"
   ]
  },
  {
   "cell_type": "code",
   "execution_count": 11,
   "metadata": {},
   "outputs": [
    {
     "data": {
      "text/plain": [
       "array([nan, 'yes', 'no'], dtype=object)"
      ]
     },
     "execution_count": 11,
     "metadata": {},
     "output_type": "execute_result"
    }
   ],
   "source": [
    "data_filtered['Repaired'].unique()"
   ]
  },
  {
   "cell_type": "markdown",
   "metadata": {},
   "source": [
    "*Логично предположить,что пользователь не указал наличие ремонта из-за его отсутствия.Заменим пропуски на \"no\".*"
   ]
  },
  {
   "cell_type": "code",
   "execution_count": 12,
   "metadata": {},
   "outputs": [],
   "source": [
    "data_filtered['Repaired'] = data_filtered['Repaired'].fillna('no')"
   ]
  },
  {
   "cell_type": "markdown",
   "metadata": {},
   "source": [
    "*Рассмотрим значения \"Model\".*"
   ]
  },
  {
   "cell_type": "code",
   "execution_count": 13,
   "metadata": {},
   "outputs": [
    {
     "data": {
      "text/plain": [
       "array(['golf', nan, 'grand', 'fabia', '3er', '2_reihe', 'other', 'c_max',\n",
       "       '3_reihe', 'passat', 'navara', 'ka', 'polo', 'twingo', 'a_klasse',\n",
       "       'scirocco', '5er', 'meriva', 'arosa', 'c4', 'civic', 'transporter',\n",
       "       'punto', 'e_klasse', 'clio', 'kadett', 'kangoo', 'corsa', 'one',\n",
       "       'fortwo', '1er', 'b_klasse', 'signum', 'astra', 'a8', 'jetta',\n",
       "       'fiesta', 'c_klasse', 'micra', 'vito', 'sprinter', '156', 'escort',\n",
       "       'forester', 'xc_reihe', 'scenic', 'a4', 'a1', 'insignia', 'combo',\n",
       "       'focus', 'tt', 'a6', 'jazz', 'omega', 'slk', '7er', '80', '147',\n",
       "       '100', 'z_reihe', 'sportage', 'sorento', 'v40', 'ibiza', 'mustang',\n",
       "       'eos', 'touran', 'getz', 'a3', 'almera', 'megane', 'lupo', 'r19',\n",
       "       'zafira', 'caddy', 'mondeo', 'cordoba', 'colt', 'impreza',\n",
       "       'vectra', 'berlingo', 'tiguan', 'i_reihe', 'espace', 'sharan',\n",
       "       '6_reihe', 'panda', 'up', 'seicento', 'ceed', '5_reihe', 'yeti',\n",
       "       'octavia', 'mii', 'rx_reihe', '6er', 'modus', 'fox', 'matiz',\n",
       "       'beetle', 'c1', 'rio', 'touareg', 'logan', 'spider', 'cuore',\n",
       "       's_max', 'a2', 'galaxy', 'c3', 'viano', 's_klasse', '1_reihe',\n",
       "       'avensis', 'roomster', 'sl', 'kaefer', 'santa', 'cooper', 'leon',\n",
       "       '4_reihe', 'a5', '500', 'laguna', 'ptcruiser', 'clk', 'primera',\n",
       "       'x_reihe', 'exeo', '159', 'transit', 'juke', 'qashqai', 'carisma',\n",
       "       'accord', 'corolla', 'lanos', 'phaeton', 'verso', 'swift', 'rav',\n",
       "       'picanto', 'boxster', 'kalos', 'superb', 'stilo', 'alhambra',\n",
       "       'mx_reihe', 'roadster', 'ypsilon', 'cayenne', 'galant', 'justy',\n",
       "       '90', 'sirion', 'crossfire', 'agila', 'duster', 'cr_reihe', 'v50',\n",
       "       'c_reihe', 'v_klasse', 'm_klasse', 'yaris', 'c5', 'aygo', 'cc',\n",
       "       'carnival', 'fusion', '911', 'bora', 'forfour', 'm_reihe', 'cl',\n",
       "       'tigra', '300c', 'spark', 'v70', 'kuga', 'x_type', 'ducato',\n",
       "       's_type', 'x_trail', 'toledo', 'altea', 'voyager', 'calibra',\n",
       "       'bravo', 'antara', 'tucson', 'citigo', 'jimny', 'wrangler',\n",
       "       'lybra', 'q7', 'lancer', 'captiva', 'c2', 'discovery',\n",
       "       'freelander', 'sandero', 'note', '900', 'cherokee', 'clubman',\n",
       "       'samara', 'defender', '601', 'cx_reihe', 'legacy', 'pajero',\n",
       "       'auris', 'niva', 's60', 'nubira', 'vivaro', 'g_klasse', 'lodgy',\n",
       "       '850', 'range_rover', 'q3', 'serie_2', 'glk', 'charade', 'croma',\n",
       "       'outlander', 'doblo', 'musa', 'move', '9000', 'v60', '145', 'aveo',\n",
       "       '200', 'b_max', 'range_rover_sport', 'terios', 'rangerover', 'q5',\n",
       "       'range_rover_evoque', 'materia', 'delta', 'gl', 'kalina', 'amarok',\n",
       "       'elefantino', 'i3', 'kappa', 'serie_3', 'serie_1'], dtype=object)"
      ]
     },
     "execution_count": 13,
     "metadata": {},
     "output_type": "execute_result"
    }
   ],
   "source": [
    "data_filtered['Model'].unique()"
   ]
  },
  {
   "cell_type": "markdown",
   "metadata": {},
   "source": [
    "*По причине отсутствия возможностей логично заменить пропуски, поставим на их место заглушки \"unknown\".*"
   ]
  },
  {
   "cell_type": "code",
   "execution_count": 14,
   "metadata": {},
   "outputs": [],
   "source": [
    "data_filtered['Model'] = data_filtered['Model'].fillna('unknown')"
   ]
  },
  {
   "cell_type": "markdown",
   "metadata": {},
   "source": [
    "*Рассмотрим значения \"VehicleType\".*"
   ]
  },
  {
   "cell_type": "code",
   "execution_count": 15,
   "metadata": {},
   "outputs": [
    {
     "data": {
      "text/plain": [
       "array([nan, 'coupe', 'suv', 'small', 'sedan', 'convertible', 'bus',\n",
       "       'wagon', 'other'], dtype=object)"
      ]
     },
     "execution_count": 15,
     "metadata": {},
     "output_type": "execute_result"
    }
   ],
   "source": [
    "data_filtered['VehicleType'].unique()"
   ]
  },
  {
   "cell_type": "code",
   "execution_count": 16,
   "metadata": {},
   "outputs": [
    {
     "data": {
      "text/plain": [
       "sedan          91457\n",
       "small          79830\n",
       "wagon          65165\n",
       "bus            28775\n",
       "convertible    20203\n",
       "coupe          16161\n",
       "suv            11996\n",
       "other           3288\n",
       "Name: VehicleType, dtype: int64"
      ]
     },
     "execution_count": 16,
     "metadata": {},
     "output_type": "execute_result"
    }
   ],
   "source": [
    "data_filtered['VehicleType'].value_counts()"
   ]
  },
  {
   "cell_type": "markdown",
   "metadata": {},
   "source": [
    "*Заполним пропуски самым популярным кузовом для каждой модели.*"
   ]
  },
  {
   "cell_type": "code",
   "execution_count": 17,
   "metadata": {},
   "outputs": [],
   "source": [
    "dictionary_vehicle_type = data_filtered.groupby('Model')['VehicleType'].agg(lambda x:x.value_counts().index[0]).to_dict()"
   ]
  },
  {
   "cell_type": "code",
   "execution_count": 18,
   "metadata": {
    "scrolled": true
   },
   "outputs": [],
   "source": [
    "def vehicle_type_function(row):    \n",
    "    if pd.isnull(row['VehicleType']):\n",
    "        return dictionary_vehicle_type[row['Model']]\n",
    "    else:\n",
    "        return row['VehicleType']\n",
    "\n",
    "data_filtered['VehicleType'] = data_filtered.apply(vehicle_type_function, axis=1) "
   ]
  },
  {
   "cell_type": "markdown",
   "metadata": {},
   "source": [
    "*Заполним пропуски самым популярным типом топлива для каждой модели.*"
   ]
  },
  {
   "cell_type": "code",
   "execution_count": 19,
   "metadata": {},
   "outputs": [],
   "source": [
    "dictionary_fuel_type = data_filtered.groupby('Model')['FuelType'].agg(lambda x:x.value_counts().index[0]).to_dict()"
   ]
  },
  {
   "cell_type": "code",
   "execution_count": 20,
   "metadata": {},
   "outputs": [],
   "source": [
    "def fuel_type_function(row):    \n",
    "    if pd.isnull(row['FuelType']):\n",
    "        return dictionary_fuel_type[row['Model']]\n",
    "    else:\n",
    "        return row['FuelType']\n",
    "\n",
    "data_filtered['FuelType'] = data_filtered.apply(fuel_type_function, axis=1)"
   ]
  },
  {
   "cell_type": "markdown",
   "metadata": {},
   "source": [
    "*Рассмотрим значения целевого признака 'Price'.*"
   ]
  },
  {
   "cell_type": "code",
   "execution_count": 21,
   "metadata": {},
   "outputs": [
    {
     "data": {
      "text/plain": [
       "0        10772\n",
       "500       5670\n",
       "1500      5394\n",
       "1000      4648\n",
       "1200      4594\n",
       "         ...  \n",
       "13180        1\n",
       "10879        1\n",
       "2683         1\n",
       "634          1\n",
       "8188         1\n",
       "Name: Price, Length: 3731, dtype: int64"
      ]
     },
     "execution_count": 21,
     "metadata": {},
     "output_type": "execute_result"
    }
   ],
   "source": [
    "data_filtered['Price'].value_counts()"
   ]
  },
  {
   "cell_type": "markdown",
   "metadata": {},
   "source": [
    "*Избавимся от нулевых значений.*"
   ]
  },
  {
   "cell_type": "code",
   "execution_count": 22,
   "metadata": {},
   "outputs": [],
   "source": [
    "data_filtered = data_filtered.query('Price>0')"
   ]
  },
  {
   "cell_type": "markdown",
   "metadata": {},
   "source": [
    "*Рассмотрим значения признака 'RegistrationYear'.*"
   ]
  },
  {
   "cell_type": "code",
   "execution_count": 23,
   "metadata": {},
   "outputs": [
    {
     "data": {
      "text/plain": [
       "array([1993, 2011, 2004, 2001, 2008, 1995, 2014, 1998, 2005, 1910, 2016,\n",
       "       2007, 2009, 2002, 2018, 1997, 1990, 2017, 1981, 2003, 1994, 1991,\n",
       "       1984, 2006, 1999, 2012, 2010, 2000, 1992, 2013, 1996, 1985, 1989,\n",
       "       2015, 1982, 1976, 1983, 1973, 1969, 1971, 1987, 1986, 1988, 1980,\n",
       "       1970, 1965, 1945, 1925, 1974, 1979, 1955, 1978, 1972, 1968, 1977,\n",
       "       1961, 1966, 1975, 1963, 1964, 1960, 5000, 1958, 1967, 1959, 1956,\n",
       "       3200, 1000, 1941, 9999, 8888, 1500, 2200, 4100, 1962, 1929, 1957,\n",
       "       1940, 3000, 2066, 1949, 2019, 1937, 1951, 1800, 1953, 1954, 1234,\n",
       "       8000, 5300, 9000, 2900, 6000, 5900, 5911, 1400, 1950, 4000, 1948,\n",
       "       1952, 8500, 1932, 1255, 3700, 3800, 4800, 1942, 7000, 1935, 1933,\n",
       "       1936, 6500, 1923, 2290, 1930, 1001, 9450, 1944, 2500, 1943, 1934,\n",
       "       1938, 1928, 5555, 5600, 1600, 1111, 2222, 1039, 1300, 2800, 1931,\n",
       "       4500, 1602, 7800, 1947, 1927, 7100, 8200, 1946])"
      ]
     },
     "execution_count": 23,
     "metadata": {},
     "output_type": "execute_result"
    }
   ],
   "source": [
    "data_filtered['RegistrationYear'].unique()"
   ]
  },
  {
   "cell_type": "markdown",
   "metadata": {},
   "source": [
    "*Мы видим некорректные значения. Машина не может быть зарегистрирована позже текущего года. Удалим данные значения.*"
   ]
  },
  {
   "cell_type": "code",
   "execution_count": 24,
   "metadata": {},
   "outputs": [],
   "source": [
    "data_filtered = data_filtered.query('RegistrationYear<2024')"
   ]
  },
  {
   "cell_type": "markdown",
   "metadata": {},
   "source": [
    "*Рассмотрим значения признака 'Power'.*"
   ]
  },
  {
   "cell_type": "code",
   "execution_count": 25,
   "metadata": {
    "scrolled": true
   },
   "outputs": [
    {
     "data": {
      "text/plain": [
       "array([    0,   190,   163,    75,    69,   102,   109,   125,   101,\n",
       "         105,   140,   115,   131,    60,   136,   160,   231,    90,\n",
       "          50,   118,   193,    99,   113,   218,   122,   129,    70,\n",
       "         306,    95,    61,   177,    80,   170,    55,   143,    64,\n",
       "         286,   232,   150,   156,    82,   155,    54,   185,    87,\n",
       "         180,    86,    84,   224,   235,   200,   178,   265,    77,\n",
       "         110,   144,   120,   116,   184,   126,   204,    88,   194,\n",
       "         305,   197,   179,   250,    45,   313,    41,   165,    98,\n",
       "         130,   114,   211,    56,   201,   213,    58,   107,    83,\n",
       "         174,   100,   220,    85,    73,   192,    68,    66,   299,\n",
       "          74,    52,   147,    65,   310,    71,    97,   239,   203,\n",
       "           5,   300,   103,   258,   320,    63,    81,   148,    44,\n",
       "         145,   280,   260,   104,   188,   333,   186,   117,   141,\n",
       "          59,   132,   234,   158,    39,    92,    51,   135,   230,\n",
       "          53,   209,    43,   146,    67,   106,   166,   276,   344,\n",
       "          72,   249,   237,   245,   111,   326,   279,    23,   138,\n",
       "         175,    96,   226,    26,    37,   301,   334,   128,   133,\n",
       "         124,    33,   219,   241,   167,    94,   182,   196,   238,\n",
       "        1398,   228,   112,    48,   272,   139,    40,    79,   256,\n",
       "         360,   243,   252,   396,   340,   108,   121,   345,   187,\n",
       "         289,   222,   198,   284,   450,   233,   387,   347,   172,\n",
       "          57,   137,   212,   476,   314,    30,     7,    47,   173,\n",
       "         290,   207,   205,   171,    78,    91,    89,   349,   325,\n",
       "          76,   151,   350,   953,    93,   142,   343,   199,   119,\n",
       "         164,    16,   264,   152,   367,   240,   208,   210,    46,\n",
       "         435,  1001,   225,   127,   176,   161,   603,   307,   354,\n",
       "          35,   206,   771,   355,   273,   223,   255,   123,   154,\n",
       "         149,  7515,  1400,   268,   620,   169,   400,   275,    34,\n",
       "           2,   242,  1779,   285,   162,   328,  1753,   329,   134,\n",
       "         420,   247,   168,   215,    18,   330,   283,   500,    62,\n",
       "          10,   183,   254,    15,   321,   322,   315,   952,   600,\n",
       "         181,   426,   599,   379,    22,   157,    42,   195,   553,\n",
       "           4,   309,   507,   381,   271,   440,   189,   401,  2729,\n",
       "          21,   236,  1240,  1704,   521,     1,  1900,   270,    24,\n",
       "         159,   292,   808,   515,  1200,   303,    29,    38,  1993,\n",
       "          14,   216,   610,   504,    49,   267,   331,   363,   261,\n",
       "         385,  1011,   253,   696, 10520,   376,   227,   311,    27,\n",
       "         217,    20,  1999,    11,  1056,    25,   394,    12,   298,\n",
       "         296,  1659,   294,   551,  6920,   246,    17,  1800,  1625,\n",
       "         390,   221,  1367,   259,   606,   327,  2017,  1597,   266,\n",
       "         374,   392,     9,   405,    13,   262,   601,   430,   295,\n",
       "           8,   411,   900,   541,  7512,   382, 10218,  7544,   999,\n",
       "         287,    19,   214,   751,   297,  1090,   457,   282,   602,\n",
       "         388,     6,  1000,  5411,   335,  1360,   202,  3750,   805,\n",
       "        1062,   750,  1024, 11530,   364,  1796,   269,   460,  1002,\n",
       "         288,  1780, 12012, 17932,   316,  2005,  1399,   191,   278,\n",
       "        1300,   380,   257,   449,  1256,   153,  1653,   520,   560,\n",
       "         281, 12510,     3,  1500,   386,    32,  1202,  2016,  1436,\n",
       "        1405,   671,   274,  1288,  1055, 10912,  6226,  1115,   277,\n",
       "        1105,   341,  1223,  2340,  8404,  1968,   338,   445,  1920,\n",
       "         370,   517,  4400, 10710, 10522,  9010,   431,  1164, 11509,\n",
       "         371,  1501,   428, 11635,   304,   348,  1703,  1995,   579,\n",
       "       10000,   580,   408,    31,  1005,   358,  1403,   489,  5575,\n",
       "       19211,   585,   365,   353,   490,   352,  1801,   346,   550,\n",
       "        3199,   800,  7508,  1312,   357,  1937,   950,  4700,  1600,\n",
       "        3454, 19208,   251,   850,   337,   700,  2331,  2789,   487,\n",
       "          36,   519,  2461,  6006,  3500,  5815,  6018,  1781,  1503,\n",
       "         612,  1596,   229,  1506,  5809, 15020,  5867,  2172,  1598,\n",
       "       17410,  1363,   584,  1054,   851,  1339,   318,   510,   525,\n",
       "          28,  1151,   685,  6011,   317,   703,  1771, 15001,   514,\n",
       "         362,   332,   324,  6045,   425,   308,  6010,   475,   903,\n",
       "         640,  2000,   248,   651,  2799,   368, 17011,   505,  1103,\n",
       "        1521,   351, 16051,   398,  9000,  1998, 10311,   409,  1230,\n",
       "       17019, 12684,  8259,  1895,   901,  1317,   871,   909,  2201,\n",
       "        1595,   776, 17700, 11011,  1199,   459,  1162,  1120, 15033,\n",
       "        1896,   339,   361,   574,  6512,   454,   650, 13616,   604,\n",
       "         607, 16312,  1082,   336, 20000,   416,   678,  6012,  1401,\n",
       "        1021,  1870,   375, 13636,  1250,   323,  1158,  2009,   902,\n",
       "        6062,  1275,   572,   244,   399,  1016,   743,  1221,  2402,\n",
       "       16011,  1362,   544,   645,   907,   702, 12512,  1986,  1003,\n",
       "        1432,  9013,  9011,   442,  1017,  1394, 15017, 10910,  1992,\n",
       "         540,  2018, 11025,  1433,  1701,  2792,  1502,  1239,  1390,\n",
       "       14009,  1160,  1351, 11111,  1783,  9007,   923,  1149,   754,\n",
       "        1988,   402,  2004,  5420,  1793,  1324,   356,  7511,  1299,\n",
       "         293, 19312,  1079,  1689,   998,  1100,  9012,  1933,   508,\n",
       "       16311,   682,  1252,  1922,  7529,   732,  2389,  1707,  1416,\n",
       "        1700,  8500,  1012, 10110,   421,  4507,  1631,  7518,   377,\n",
       "        1004,  1799,  2007,  2598,  1548,  1241])"
      ]
     },
     "execution_count": 25,
     "metadata": {},
     "output_type": "execute_result"
    }
   ],
   "source": [
    "data_filtered['Power'].unique()"
   ]
  },
  {
   "cell_type": "markdown",
   "metadata": {},
   "source": [
    "*У транспортного средства не может быть 0 лошадиных сил.Верхнюю границу определим в районе 1000 лошадиных сил.*"
   ]
  },
  {
   "cell_type": "code",
   "execution_count": 26,
   "metadata": {},
   "outputs": [],
   "source": [
    "data_filtered = data_filtered.query('0<Power<1000')"
   ]
  },
  {
   "cell_type": "markdown",
   "metadata": {},
   "source": [
    "# Обучение моделей"
   ]
  },
  {
   "cell_type": "markdown",
   "metadata": {},
   "source": [
    "*Обучать будем 3 модели LinearRegression, CatBoost и LightGBM.*"
   ]
  },
  {
   "cell_type": "markdown",
   "metadata": {},
   "source": [
    "**LinearRegression**"
   ]
  },
  {
   "cell_type": "markdown",
   "metadata": {},
   "source": [
    "Воспользуемся OHE,т.к.этот метод лучше всего подходит для линейной регрессии. "
   ]
  },
  {
   "cell_type": "code",
   "execution_count": 27,
   "metadata": {},
   "outputs": [],
   "source": [
    "ohe = pd.get_dummies(data_filtered, drop_first=True)"
   ]
  },
  {
   "cell_type": "markdown",
   "metadata": {},
   "source": [
    "Разделим данные на тренировочные и тестовые выборки."
   ]
  },
  {
   "cell_type": "code",
   "execution_count": 28,
   "metadata": {},
   "outputs": [],
   "source": [
    "features_train_lr, features_test_lr, target_train_lr, target_test_lr = train_test_split(\n",
    "    ohe.drop('Price', axis=1), data_filtered.Price, test_size=0.25, random_state=12345)"
   ]
  },
  {
   "cell_type": "markdown",
   "metadata": {},
   "source": [
    "Масштабируем количественные признаки."
   ]
  },
  {
   "cell_type": "code",
   "execution_count": 29,
   "metadata": {},
   "outputs": [
    {
     "data": {
      "text/html": [
       "<div>\n",
       "<style scoped>\n",
       "    .dataframe tbody tr th:only-of-type {\n",
       "        vertical-align: middle;\n",
       "    }\n",
       "\n",
       "    .dataframe tbody tr th {\n",
       "        vertical-align: top;\n",
       "    }\n",
       "\n",
       "    .dataframe thead th {\n",
       "        text-align: right;\n",
       "    }\n",
       "</style>\n",
       "<table border=\"1\" class=\"dataframe\">\n",
       "  <thead>\n",
       "    <tr style=\"text-align: right;\">\n",
       "      <th></th>\n",
       "      <th>RegistrationYear</th>\n",
       "      <th>Power</th>\n",
       "      <th>Kilometer</th>\n",
       "      <th>VehicleType_convertible</th>\n",
       "      <th>VehicleType_coupe</th>\n",
       "      <th>VehicleType_other</th>\n",
       "      <th>VehicleType_sedan</th>\n",
       "      <th>VehicleType_small</th>\n",
       "      <th>VehicleType_suv</th>\n",
       "      <th>VehicleType_wagon</th>\n",
       "      <th>...</th>\n",
       "      <th>Brand_skoda</th>\n",
       "      <th>Brand_smart</th>\n",
       "      <th>Brand_sonstige_autos</th>\n",
       "      <th>Brand_subaru</th>\n",
       "      <th>Brand_suzuki</th>\n",
       "      <th>Brand_toyota</th>\n",
       "      <th>Brand_trabant</th>\n",
       "      <th>Brand_volkswagen</th>\n",
       "      <th>Brand_volvo</th>\n",
       "      <th>Repaired_yes</th>\n",
       "    </tr>\n",
       "  </thead>\n",
       "  <tbody>\n",
       "    <tr>\n",
       "      <th>117476</th>\n",
       "      <td>-0.037941</td>\n",
       "      <td>0.782005</td>\n",
       "      <td>0.586830</td>\n",
       "      <td>0</td>\n",
       "      <td>0</td>\n",
       "      <td>0</td>\n",
       "      <td>0</td>\n",
       "      <td>0</td>\n",
       "      <td>0</td>\n",
       "      <td>1</td>\n",
       "      <td>...</td>\n",
       "      <td>0</td>\n",
       "      <td>0</td>\n",
       "      <td>0</td>\n",
       "      <td>0</td>\n",
       "      <td>0</td>\n",
       "      <td>0</td>\n",
       "      <td>0</td>\n",
       "      <td>0</td>\n",
       "      <td>0</td>\n",
       "      <td>1</td>\n",
       "    </tr>\n",
       "    <tr>\n",
       "      <th>96367</th>\n",
       "      <td>-1.872300</td>\n",
       "      <td>-1.195379</td>\n",
       "      <td>0.586830</td>\n",
       "      <td>0</td>\n",
       "      <td>0</td>\n",
       "      <td>0</td>\n",
       "      <td>0</td>\n",
       "      <td>1</td>\n",
       "      <td>0</td>\n",
       "      <td>0</td>\n",
       "      <td>...</td>\n",
       "      <td>0</td>\n",
       "      <td>0</td>\n",
       "      <td>0</td>\n",
       "      <td>0</td>\n",
       "      <td>0</td>\n",
       "      <td>0</td>\n",
       "      <td>0</td>\n",
       "      <td>1</td>\n",
       "      <td>0</td>\n",
       "      <td>0</td>\n",
       "    </tr>\n",
       "    <tr>\n",
       "      <th>213297</th>\n",
       "      <td>-0.431018</td>\n",
       "      <td>-1.213688</td>\n",
       "      <td>-0.094017</td>\n",
       "      <td>1</td>\n",
       "      <td>0</td>\n",
       "      <td>0</td>\n",
       "      <td>0</td>\n",
       "      <td>0</td>\n",
       "      <td>0</td>\n",
       "      <td>0</td>\n",
       "      <td>...</td>\n",
       "      <td>0</td>\n",
       "      <td>1</td>\n",
       "      <td>0</td>\n",
       "      <td>0</td>\n",
       "      <td>0</td>\n",
       "      <td>0</td>\n",
       "      <td>0</td>\n",
       "      <td>0</td>\n",
       "      <td>0</td>\n",
       "      <td>0</td>\n",
       "    </tr>\n",
       "    <tr>\n",
       "      <th>239755</th>\n",
       "      <td>1.010264</td>\n",
       "      <td>0.360895</td>\n",
       "      <td>-2.408894</td>\n",
       "      <td>0</td>\n",
       "      <td>0</td>\n",
       "      <td>0</td>\n",
       "      <td>0</td>\n",
       "      <td>0</td>\n",
       "      <td>0</td>\n",
       "      <td>0</td>\n",
       "      <td>...</td>\n",
       "      <td>0</td>\n",
       "      <td>0</td>\n",
       "      <td>0</td>\n",
       "      <td>0</td>\n",
       "      <td>0</td>\n",
       "      <td>0</td>\n",
       "      <td>0</td>\n",
       "      <td>1</td>\n",
       "      <td>0</td>\n",
       "      <td>0</td>\n",
       "    </tr>\n",
       "    <tr>\n",
       "      <th>15443</th>\n",
       "      <td>-0.431018</td>\n",
       "      <td>-0.188378</td>\n",
       "      <td>0.586830</td>\n",
       "      <td>0</td>\n",
       "      <td>0</td>\n",
       "      <td>0</td>\n",
       "      <td>0</td>\n",
       "      <td>0</td>\n",
       "      <td>0</td>\n",
       "      <td>1</td>\n",
       "      <td>...</td>\n",
       "      <td>0</td>\n",
       "      <td>0</td>\n",
       "      <td>0</td>\n",
       "      <td>0</td>\n",
       "      <td>0</td>\n",
       "      <td>1</td>\n",
       "      <td>0</td>\n",
       "      <td>0</td>\n",
       "      <td>0</td>\n",
       "      <td>0</td>\n",
       "    </tr>\n",
       "  </tbody>\n",
       "</table>\n",
       "<p>5 rows × 306 columns</p>\n",
       "</div>"
      ],
      "text/plain": [
       "        RegistrationYear     Power  Kilometer  VehicleType_convertible  \\\n",
       "117476         -0.037941  0.782005   0.586830                        0   \n",
       "96367          -1.872300 -1.195379   0.586830                        0   \n",
       "213297         -0.431018 -1.213688  -0.094017                        1   \n",
       "239755          1.010264  0.360895  -2.408894                        0   \n",
       "15443          -0.431018 -0.188378   0.586830                        0   \n",
       "\n",
       "        VehicleType_coupe  VehicleType_other  VehicleType_sedan  \\\n",
       "117476                  0                  0                  0   \n",
       "96367                   0                  0                  0   \n",
       "213297                  0                  0                  0   \n",
       "239755                  0                  0                  0   \n",
       "15443                   0                  0                  0   \n",
       "\n",
       "        VehicleType_small  VehicleType_suv  VehicleType_wagon  ...  \\\n",
       "117476                  0                0                  1  ...   \n",
       "96367                   1                0                  0  ...   \n",
       "213297                  0                0                  0  ...   \n",
       "239755                  0                0                  0  ...   \n",
       "15443                   0                0                  1  ...   \n",
       "\n",
       "        Brand_skoda  Brand_smart  Brand_sonstige_autos  Brand_subaru  \\\n",
       "117476            0            0                     0             0   \n",
       "96367             0            0                     0             0   \n",
       "213297            0            1                     0             0   \n",
       "239755            0            0                     0             0   \n",
       "15443             0            0                     0             0   \n",
       "\n",
       "        Brand_suzuki  Brand_toyota  Brand_trabant  Brand_volkswagen  \\\n",
       "117476             0             0              0                 0   \n",
       "96367              0             0              0                 1   \n",
       "213297             0             0              0                 0   \n",
       "239755             0             0              0                 1   \n",
       "15443              0             1              0                 0   \n",
       "\n",
       "        Brand_volvo  Repaired_yes  \n",
       "117476            0             1  \n",
       "96367             0             0  \n",
       "213297            0             0  \n",
       "239755            0             0  \n",
       "15443             0             0  \n",
       "\n",
       "[5 rows x 306 columns]"
      ]
     },
     "execution_count": 29,
     "metadata": {},
     "output_type": "execute_result"
    }
   ],
   "source": [
    "numeric = ['RegistrationYear', 'Power', 'Kilometer']\n",
    "\n",
    "scaler = StandardScaler()\n",
    "scaler.fit(features_train_lr[numeric])\n",
    "\n",
    "features_train_lr[numeric] = scaler.transform(features_train_lr[numeric])\n",
    "features_test_lr[numeric] = scaler.transform(features_test_lr[numeric])\n",
    "features_train_lr.head()"
   ]
  },
  {
   "cell_type": "markdown",
   "metadata": {},
   "source": [
    "*Обучим модель и измерим время обучения и предсказания, рассчитаем RMSE.*"
   ]
  },
  {
   "cell_type": "code",
   "execution_count": 30,
   "metadata": {},
   "outputs": [
    {
     "name": "stdout",
     "output_type": "stream",
     "text": [
      "RMSE: 2760.8069265611425\n"
     ]
    }
   ],
   "source": [
    "mse_lr = cross_val_score(LinearRegression(), features_train_lr, target_train_lr, cv=5, scoring='neg_mean_squared_error')\n",
    "print('RMSE:',(mse_lr.mean()* -1)**0.5)"
   ]
  },
  {
   "cell_type": "code",
   "execution_count": 31,
   "metadata": {},
   "outputs": [
    {
     "name": "stdout",
     "output_type": "stream",
     "text": [
      "CPU times: user 14.6 s, sys: 4.41 s, total: 19 s\n",
      "Wall time: 18.9 s\n"
     ]
    },
    {
     "data": {
      "text/plain": [
       "LinearRegression()"
      ]
     },
     "execution_count": 31,
     "metadata": {},
     "output_type": "execute_result"
    }
   ],
   "source": [
    "%%time\n",
    "lr_model = LinearRegression()\n",
    "lr_model.fit(features_train_lr, target_train_lr)"
   ]
  },
  {
   "cell_type": "code",
   "execution_count": 32,
   "metadata": {},
   "outputs": [
    {
     "name": "stdout",
     "output_type": "stream",
     "text": [
      "CPU times: user 208 ms, sys: 146 ms, total: 354 ms\n",
      "Wall time: 312 ms\n"
     ]
    }
   ],
   "source": [
    "%%time\n",
    "lr_prediction = lr_model.predict(features_train_lr)"
   ]
  },
  {
   "cell_type": "markdown",
   "metadata": {},
   "source": [
    "**CatBoost**"
   ]
  },
  {
   "cell_type": "markdown",
   "metadata": {},
   "source": [
    "*Разделим данные на тренировочные и тестовые выборки и выделим категориальные признаки.*"
   ]
  },
  {
   "cell_type": "code",
   "execution_count": 33,
   "metadata": {},
   "outputs": [],
   "source": [
    "cat_features = ['VehicleType', 'Gearbox', 'Model', 'FuelType', 'Brand', 'Repaired']\n",
    "\n",
    "features_train_cat, features_test_cat, target_train_cat, target_test_cat = train_test_split(\n",
    "    data_filtered.drop('Price', axis=1), data_filtered.Price, test_size=0.25, random_state=12345)"
   ]
  },
  {
   "cell_type": "markdown",
   "metadata": {},
   "source": [
    "*Найдём лучшие гиперпараметры используя GridSearchCV.*"
   ]
  },
  {
   "cell_type": "code",
   "execution_count": 34,
   "metadata": {},
   "outputs": [
    {
     "name": "stdout",
     "output_type": "stream",
     "text": [
      "RMSE: 1610.8213953629738 при значениях гиперпараметров: {'depth': 10, 'l2_leaf_reg': 9, 'learning_rate': 0.5}\n"
     ]
    }
   ],
   "source": [
    "params = {\n",
    "    'learning_rate':[0.1, 0.5],\n",
    "    'depth':[2, 10],\n",
    "    'l2_leaf_reg': [1, 9]\n",
    "    \n",
    "}\n",
    "\n",
    "grid = GridSearchCV(CatBoostRegressor(loss_function=\"RMSE\", iterations=200, silent=True),\n",
    "                    param_grid=params,\n",
    "                    cv=5,\n",
    "                    n_jobs=-1,    \n",
    "                    scoring='neg_mean_squared_error',\n",
    "                    verbose=False)\n",
    "\n",
    "grid.fit(features_train_cat, target_train_cat, cat_features=cat_features)\n",
    "print('RMSE: {} при значениях гиперпараметров: {}'.format((-grid.best_score_)**0.5, grid.best_params_))"
   ]
  },
  {
   "cell_type": "markdown",
   "metadata": {},
   "source": [
    "*Обучим модель c наилучшими параметрами и измерим время обучения, предсказания и RMSE.*"
   ]
  },
  {
   "cell_type": "code",
   "execution_count": 35,
   "metadata": {},
   "outputs": [
    {
     "name": "stdout",
     "output_type": "stream",
     "text": [
      "CPU times: user 1min 7s, sys: 322 ms, total: 1min 7s\n",
      "Wall time: 1min 10s\n"
     ]
    },
    {
     "data": {
      "text/plain": [
       "<catboost.core.CatBoostRegressor at 0x7fa96a00eaf0>"
      ]
     },
     "execution_count": 35,
     "metadata": {},
     "output_type": "execute_result"
    }
   ],
   "source": [
    "%%time\n",
    "cat_model = CatBoostRegressor(loss_function=\"RMSE\", iterations=200, \n",
    "                              learning_rate=0.5, depth=10, l2_leaf_reg=9, silent=True)\n",
    "\n",
    "cat_model.fit(features_train_cat, target_train_cat, cat_features=cat_features)"
   ]
  },
  {
   "cell_type": "code",
   "execution_count": 36,
   "metadata": {},
   "outputs": [
    {
     "name": "stdout",
     "output_type": "stream",
     "text": [
      "CPU times: user 861 ms, sys: 7.91 ms, total: 869 ms\n",
      "Wall time: 873 ms\n"
     ]
    }
   ],
   "source": [
    "%%time\n",
    "cat_prediction = cat_model.predict(features_train_cat)"
   ]
  },
  {
   "cell_type": "markdown",
   "metadata": {},
   "source": [
    "**LightGBM**"
   ]
  },
  {
   "cell_type": "markdown",
   "metadata": {},
   "source": [
    "*Возьмём данные Catboost, но изменим тип категориальных данных на \"category\".*"
   ]
  },
  {
   "cell_type": "code",
   "execution_count": 37,
   "metadata": {},
   "outputs": [
    {
     "name": "stdout",
     "output_type": "stream",
     "text": [
      "<class 'pandas.core.frame.DataFrame'>\n",
      "Int64Index: 230188 entries, 117476 to 251243\n",
      "Data columns (total 9 columns):\n",
      " #   Column            Non-Null Count   Dtype   \n",
      "---  ------            --------------   -----   \n",
      " 0   VehicleType       230188 non-null  category\n",
      " 1   RegistrationYear  230188 non-null  int64   \n",
      " 2   Gearbox           230188 non-null  category\n",
      " 3   Power             230188 non-null  int64   \n",
      " 4   Model             230188 non-null  category\n",
      " 5   Kilometer         230188 non-null  int64   \n",
      " 6   FuelType          230188 non-null  category\n",
      " 7   Brand             230188 non-null  category\n",
      " 8   Repaired          230188 non-null  category\n",
      "dtypes: category(6), int64(3)\n",
      "memory usage: 8.6 MB\n"
     ]
    }
   ],
   "source": [
    "features_train_cat[cat_features] = features_train_cat[cat_features].astype('category')\n",
    "features_test_cat[cat_features] = features_test_cat[cat_features].astype('category')\n",
    "features_train_cat.info()"
   ]
  },
  {
   "cell_type": "code",
   "execution_count": 38,
   "metadata": {},
   "outputs": [
    {
     "data": {
      "text/plain": [
       "GridSearchCV(cv=5,\n",
       "             estimator=LGBMRegressor(num_iterations=200, random_state=12345),\n",
       "             n_jobs=-1,\n",
       "             param_grid={'learning_rate': [0.1, 0.5], 'max_depth': [3, 9],\n",
       "                         'num_leaves': [30, 90, 10]},\n",
       "             scoring='neg_mean_squared_error', verbose=False)"
      ]
     },
     "execution_count": 38,
     "metadata": {},
     "output_type": "execute_result"
    }
   ],
   "source": [
    "params = {\n",
    "    'learning_rate': [0.1, 0.5],\n",
    "    'max_depth': [3, 9],\n",
    "    'num_leaves': [30, 90, 10],\n",
    "    \n",
    "}\n",
    "\n",
    "grid = GridSearchCV(LGBMRegressor(random_state=12345, num_iterations=200),\n",
    "                    param_grid=params,\n",
    "                    cv=5,\n",
    "                    n_jobs=-1,\n",
    "                    scoring='neg_mean_squared_error',\n",
    "                    verbose=False)\n",
    "\n",
    "grid.fit(features_train_cat, target_train_cat, categorical_feature=cat_features)"
   ]
  },
  {
   "cell_type": "code",
   "execution_count": 39,
   "metadata": {
    "scrolled": true
   },
   "outputs": [
    {
     "name": "stdout",
     "output_type": "stream",
     "text": [
      "RMSE: 1586.8177859573923 при значениях гиперпараметров: {'learning_rate': 0.1, 'max_depth': 9, 'num_leaves': 90}\n"
     ]
    }
   ],
   "source": [
    "print('RMSE: {} при значениях гиперпараметров: {}'.format((-grid.best_score_)**0.5, grid.best_params_))"
   ]
  },
  {
   "cell_type": "markdown",
   "metadata": {},
   "source": [
    "*Обучим модель c наилучшими параметрами и измерим время обучения, предсказания и RMSE.*"
   ]
  },
  {
   "cell_type": "code",
   "execution_count": 40,
   "metadata": {},
   "outputs": [
    {
     "name": "stdout",
     "output_type": "stream",
     "text": [
      "CPU times: user 18.4 s, sys: 111 ms, total: 18.6 s\n",
      "Wall time: 18.6 s\n"
     ]
    },
    {
     "data": {
      "text/plain": [
       "LGBMRegressor(boost='gbdt', max_depth=9, min_data_in_leaf=50,\n",
       "              num_iterations=200, num_leaves=90, random_state=12345)"
      ]
     },
     "execution_count": 40,
     "metadata": {},
     "output_type": "execute_result"
    }
   ],
   "source": [
    "%%time\n",
    "lgbm_model = LGBMRegressor(random_state=12345, num_iterations=200, min_data_in_leaf=50, \n",
    "                           learning_rate=0.1, max_depth=9, num_leaves=90, boost='gbdt')\n",
    "\n",
    "lgbm_model.fit(features_train_cat, target_train_cat, categorical_feature=cat_features)"
   ]
  },
  {
   "cell_type": "code",
   "execution_count": 41,
   "metadata": {},
   "outputs": [
    {
     "name": "stdout",
     "output_type": "stream",
     "text": [
      "CPU times: user 6.64 s, sys: 0 ns, total: 6.64 s\n",
      "Wall time: 6.56 s\n"
     ]
    }
   ],
   "source": [
    "%%time\n",
    "prediction_lgbm = lgbm_model.predict(features_train_cat)"
   ]
  },
  {
   "cell_type": "markdown",
   "metadata": {},
   "source": [
    "# Анализ моделей"
   ]
  },
  {
   "cell_type": "markdown",
   "metadata": {},
   "source": [
    "*Таблица с результатами скорости обучения, предсказания и RMSE.*"
   ]
  },
  {
   "cell_type": "code",
   "execution_count": 42,
   "metadata": {},
   "outputs": [
    {
     "data": {
      "text/html": [
       "<div>\n",
       "<style scoped>\n",
       "    .dataframe tbody tr th:only-of-type {\n",
       "        vertical-align: middle;\n",
       "    }\n",
       "\n",
       "    .dataframe tbody tr th {\n",
       "        vertical-align: top;\n",
       "    }\n",
       "\n",
       "    .dataframe thead th {\n",
       "        text-align: right;\n",
       "    }\n",
       "</style>\n",
       "<table border=\"1\" class=\"dataframe\">\n",
       "  <thead>\n",
       "    <tr style=\"text-align: right;\">\n",
       "      <th></th>\n",
       "      <th>fit_time</th>\n",
       "      <th>predict_time</th>\n",
       "      <th>RMSE</th>\n",
       "    </tr>\n",
       "  </thead>\n",
       "  <tbody>\n",
       "    <tr>\n",
       "      <th>LinearRegression</th>\n",
       "      <td>18.9 s</td>\n",
       "      <td>312 ms</td>\n",
       "      <td>2760.80</td>\n",
       "    </tr>\n",
       "    <tr>\n",
       "      <th>CatBoost</th>\n",
       "      <td>1min 10s</td>\n",
       "      <td>873 ms</td>\n",
       "      <td>1610.82</td>\n",
       "    </tr>\n",
       "    <tr>\n",
       "      <th>LightGBM</th>\n",
       "      <td>18.6 s</td>\n",
       "      <td>6.56 s</td>\n",
       "      <td>1586.81</td>\n",
       "    </tr>\n",
       "  </tbody>\n",
       "</table>\n",
       "</div>"
      ],
      "text/plain": [
       "                  fit_time predict_time     RMSE\n",
       "LinearRegression    18.9 s       312 ms  2760.80\n",
       "CatBoost          1min 10s       873 ms  1610.82\n",
       "LightGBM            18.6 s       6.56 s  1586.81"
      ]
     },
     "execution_count": 42,
     "metadata": {},
     "output_type": "execute_result"
    }
   ],
   "source": [
    "data = [['18.9 s', '312 ms', 2760.80],\n",
    "        ['1min 10s', '873 ms', 1610.82],\n",
    "        ['18.6 s', '6.56 s', 1586.81]]\n",
    "models = ['LinearRegression', 'CatBoost', 'LightGBM']\n",
    "\n",
    "pd.DataFrame(data=data, index=models, columns=['fit_time', 'predict_time', 'RMSE'])"
   ]
  },
  {
   "cell_type": "markdown",
   "metadata": {},
   "source": [
    "В таблице мы можем наблюдать, что у LinearRegression существенно хуже значение RMSE - 2760.80 в сравнении с другими моделями, поэтому сравнивать будем CatBoost и LGBM. У CatBoost и LGBM значения RMSE очень близки(CatBoost - 1610.82 , LGBM - 1586.81), но чуть лучше у LightGBM - 1586.81. По скорости обучения лидирует модель LGBM у неё время 18.6 s, у CatBoost 1min 10s. В скорости предсказания лучше оказалась модель CatBoost - 873 ms у LGBM - 6.56 s. Поскольку заказчику важны скорость обучения, скорость предсказания и значение RMSE, для проверки на тестовой выборке мы возьмём модель LightGBM, т.к. она оказалась лучше в двух показателях."
   ]
  },
  {
   "cell_type": "markdown",
   "metadata": {},
   "source": [
    "# Тестирование модели"
   ]
  },
  {
   "cell_type": "code",
   "execution_count": 43,
   "metadata": {},
   "outputs": [
    {
     "name": "stdout",
     "output_type": "stream",
     "text": [
      "[LightGBM] [Warning] boosting is set with boosting_type=gbdt, will be overridden by boost=gbdt. Current value: boosting=gbdt\n",
      "[LightGBM] [Warning] min_data_in_leaf is set=50, min_child_samples=20 will be ignored. Current value: min_data_in_leaf=50\n",
      "CPU times: user 19.8 s, sys: 106 ms, total: 19.9 s\n",
      "Wall time: 20 s\n"
     ]
    },
    {
     "data": {
      "text/plain": [
       "LGBMRegressor(boost='gbdt', max_depth=9, min_data_in_leaf=50,\n",
       "              num_iterations=200, num_leaves=90, random_state=12345)"
      ]
     },
     "execution_count": 43,
     "metadata": {},
     "output_type": "execute_result"
    }
   ],
   "source": [
    "%%time\n",
    "\n",
    "lgbm_model = LGBMRegressor(random_state=12345, num_iterations=200, min_data_in_leaf=50, \n",
    "                           learning_rate=0.1, max_depth=9, num_leaves=90, boost='gbdt')\n",
    "\n",
    "lgbm_model.fit(features_train_cat, target_train_cat, categorical_feature=cat_features)"
   ]
  },
  {
   "cell_type": "code",
   "execution_count": 44,
   "metadata": {},
   "outputs": [
    {
     "name": "stdout",
     "output_type": "stream",
     "text": [
      "CPU times: user 2.18 s, sys: 1.27 ms, total: 2.18 s\n",
      "Wall time: 2.12 s\n"
     ]
    }
   ],
   "source": [
    "%%time\n",
    "prediction_lgbm = lgbm_model.predict(features_test_cat)"
   ]
  },
  {
   "cell_type": "code",
   "execution_count": 45,
   "metadata": {
    "scrolled": true
   },
   "outputs": [
    {
     "name": "stdout",
     "output_type": "stream",
     "text": [
      "RMSE : 1595.2568412460757\n"
     ]
    }
   ],
   "source": [
    "print('RMSE :', mean_squared_error(target_test_cat, prediction_lgbm) ** 0.5)"
   ]
  },
  {
   "cell_type": "markdown",
   "metadata": {},
   "source": [
    "# Вывод\n",
    "\n",
    "Обучив модель LightGBM на тестовой выборке мы получили следующие значения:\n",
    "\n",
    "- Время обучения: 20 s\n",
    "- Время предсказания: 2.12 s\n",
    "- RMSE: 1595.2568412460757"
   ]
  }
 ],
 "metadata": {
  "ExecuteTimeLog": [
   {
    "duration": 1873,
    "start_time": "2023-06-30T14:17:33.398Z"
   },
   {
    "duration": 3151,
    "start_time": "2023-06-30T14:17:35.273Z"
   },
   {
    "duration": 23,
    "start_time": "2023-06-30T14:17:38.426Z"
   },
   {
    "duration": 160,
    "start_time": "2023-06-30T14:17:38.451Z"
   },
   {
    "duration": 5,
    "start_time": "2023-06-30T14:18:19.603Z"
   },
   {
    "duration": 914,
    "start_time": "2023-06-30T14:18:19.611Z"
   },
   {
    "duration": 15,
    "start_time": "2023-06-30T14:18:20.526Z"
   },
   {
    "duration": 10,
    "start_time": "2023-06-30T14:18:20.553Z"
   },
   {
    "duration": 5,
    "start_time": "2023-06-30T16:08:21.663Z"
   },
   {
    "duration": 896,
    "start_time": "2023-06-30T16:08:21.671Z"
   },
   {
    "duration": 14,
    "start_time": "2023-06-30T16:08:22.570Z"
   },
   {
    "duration": 117,
    "start_time": "2023-06-30T16:08:22.586Z"
   },
   {
    "duration": 9,
    "start_time": "2023-06-30T16:08:22.705Z"
   },
   {
    "duration": 13,
    "start_time": "2023-06-30T16:09:40.861Z"
   },
   {
    "duration": 478,
    "start_time": "2023-06-30T16:09:51.934Z"
   },
   {
    "duration": 474,
    "start_time": "2023-06-30T16:10:16.741Z"
   },
   {
    "duration": 442,
    "start_time": "2023-06-30T16:10:54.591Z"
   },
   {
    "duration": 560,
    "start_time": "2023-06-30T16:14:48.934Z"
   },
   {
    "duration": 16,
    "start_time": "2023-06-30T18:04:42.484Z"
   },
   {
    "duration": 15,
    "start_time": "2023-06-30T18:04:52.670Z"
   },
   {
    "duration": 15,
    "start_time": "2023-06-30T18:14:04.890Z"
   },
   {
    "duration": 15,
    "start_time": "2023-06-30T18:14:11.190Z"
   },
   {
    "duration": 129,
    "start_time": "2023-06-30T18:25:40.007Z"
   },
   {
    "duration": 4,
    "start_time": "2023-06-30T18:26:00.349Z"
   },
   {
    "duration": 924,
    "start_time": "2023-06-30T18:26:00.356Z"
   },
   {
    "duration": 17,
    "start_time": "2023-06-30T18:26:01.282Z"
   },
   {
    "duration": 116,
    "start_time": "2023-06-30T18:26:01.302Z"
   },
   {
    "duration": 462,
    "start_time": "2023-06-30T18:26:01.421Z"
   },
   {
    "duration": 554,
    "start_time": "2023-06-30T18:26:01.885Z"
   },
   {
    "duration": 137,
    "start_time": "2023-06-30T18:26:02.441Z"
   },
   {
    "duration": 67,
    "start_time": "2023-06-30T18:26:02.580Z"
   },
   {
    "duration": 0,
    "start_time": "2023-06-30T18:26:02.649Z"
   },
   {
    "duration": 0,
    "start_time": "2023-06-30T18:26:02.651Z"
   },
   {
    "duration": 4,
    "start_time": "2023-06-30T18:26:12.841Z"
   },
   {
    "duration": 878,
    "start_time": "2023-06-30T18:26:12.848Z"
   },
   {
    "duration": 16,
    "start_time": "2023-06-30T18:26:13.728Z"
   },
   {
    "duration": 111,
    "start_time": "2023-06-30T18:26:13.746Z"
   },
   {
    "duration": 445,
    "start_time": "2023-06-30T18:26:13.859Z"
   },
   {
    "duration": 510,
    "start_time": "2023-06-30T18:26:14.306Z"
   },
   {
    "duration": 145,
    "start_time": "2023-06-30T18:26:14.818Z"
   },
   {
    "duration": 11,
    "start_time": "2023-06-30T18:26:14.966Z"
   },
   {
    "duration": 0,
    "start_time": "2023-06-30T18:26:14.978Z"
   },
   {
    "duration": 20,
    "start_time": "2023-06-30T18:27:09.773Z"
   },
   {
    "duration": 6,
    "start_time": "2023-06-30T18:27:12.208Z"
   },
   {
    "duration": 915,
    "start_time": "2023-06-30T18:27:12.217Z"
   },
   {
    "duration": 30,
    "start_time": "2023-06-30T18:27:13.134Z"
   },
   {
    "duration": 114,
    "start_time": "2023-06-30T18:27:13.168Z"
   },
   {
    "duration": 448,
    "start_time": "2023-06-30T18:27:13.284Z"
   },
   {
    "duration": 491,
    "start_time": "2023-06-30T18:27:13.733Z"
   },
   {
    "duration": 139,
    "start_time": "2023-06-30T18:27:14.226Z"
   },
   {
    "duration": 28,
    "start_time": "2023-06-30T18:27:14.367Z"
   },
   {
    "duration": 151,
    "start_time": "2023-06-30T18:27:14.397Z"
   },
   {
    "duration": 4,
    "start_time": "2023-06-30T18:44:39.911Z"
   },
   {
    "duration": 880,
    "start_time": "2023-06-30T18:44:39.917Z"
   },
   {
    "duration": 16,
    "start_time": "2023-06-30T18:44:40.799Z"
   },
   {
    "duration": 118,
    "start_time": "2023-06-30T18:44:40.817Z"
   },
   {
    "duration": 441,
    "start_time": "2023-06-30T18:44:40.937Z"
   },
   {
    "duration": 523,
    "start_time": "2023-06-30T18:44:41.380Z"
   },
   {
    "duration": 141,
    "start_time": "2023-06-30T18:44:41.905Z"
   },
   {
    "duration": 19,
    "start_time": "2023-06-30T18:44:42.053Z"
   },
   {
    "duration": 145,
    "start_time": "2023-06-30T18:44:42.074Z"
   },
   {
    "duration": 6,
    "start_time": "2023-06-30T20:57:23.046Z"
   },
   {
    "duration": 876,
    "start_time": "2023-06-30T20:57:23.055Z"
   },
   {
    "duration": 21,
    "start_time": "2023-06-30T20:57:23.933Z"
   },
   {
    "duration": 101,
    "start_time": "2023-06-30T20:57:23.956Z"
   },
   {
    "duration": 443,
    "start_time": "2023-06-30T20:57:24.060Z"
   },
   {
    "duration": 540,
    "start_time": "2023-06-30T20:57:24.504Z"
   },
   {
    "duration": 136,
    "start_time": "2023-06-30T20:57:25.046Z"
   },
   {
    "duration": 20,
    "start_time": "2023-06-30T20:57:25.183Z"
   },
   {
    "duration": 158,
    "start_time": "2023-06-30T20:57:25.204Z"
   },
   {
    "duration": 98,
    "start_time": "2023-06-30T20:57:53.122Z"
   },
   {
    "duration": 1889,
    "start_time": "2023-07-01T12:47:11.272Z"
   },
   {
    "duration": 2892,
    "start_time": "2023-07-01T12:47:13.163Z"
   },
   {
    "duration": 18,
    "start_time": "2023-07-01T12:47:16.057Z"
   },
   {
    "duration": 171,
    "start_time": "2023-07-01T12:47:16.077Z"
   },
   {
    "duration": 460,
    "start_time": "2023-07-01T12:47:16.250Z"
   },
   {
    "duration": 562,
    "start_time": "2023-07-01T12:47:16.711Z"
   },
   {
    "duration": 17,
    "start_time": "2023-07-01T12:47:17.275Z"
   },
   {
    "duration": 128,
    "start_time": "2023-07-01T12:47:17.294Z"
   },
   {
    "duration": 71,
    "start_time": "2023-07-01T12:47:25.256Z"
   },
   {
    "duration": 12,
    "start_time": "2023-07-01T12:50:36.661Z"
   },
   {
    "duration": 12,
    "start_time": "2023-07-01T12:50:41.205Z"
   },
   {
    "duration": 20,
    "start_time": "2023-07-01T12:51:07.084Z"
   },
   {
    "duration": 4,
    "start_time": "2023-07-01T14:38:24.616Z"
   },
   {
    "duration": 850,
    "start_time": "2023-07-01T14:38:24.622Z"
   },
   {
    "duration": 14,
    "start_time": "2023-07-01T14:38:25.474Z"
   },
   {
    "duration": 112,
    "start_time": "2023-07-01T14:38:25.491Z"
   },
   {
    "duration": 421,
    "start_time": "2023-07-01T14:38:25.613Z"
   },
   {
    "duration": 480,
    "start_time": "2023-07-01T14:38:26.036Z"
   },
   {
    "duration": 16,
    "start_time": "2023-07-01T14:38:26.518Z"
   },
   {
    "duration": 81,
    "start_time": "2023-07-01T14:38:26.536Z"
   },
   {
    "duration": 35,
    "start_time": "2023-07-01T14:38:26.619Z"
   },
   {
    "duration": 0,
    "start_time": "2023-07-01T14:38:26.656Z"
   },
   {
    "duration": 0,
    "start_time": "2023-07-01T14:38:26.657Z"
   },
   {
    "duration": 19,
    "start_time": "2023-07-01T14:42:57.524Z"
   },
   {
    "duration": 19,
    "start_time": "2023-07-01T14:43:07.583Z"
   },
   {
    "duration": 19,
    "start_time": "2023-07-01T14:43:17.575Z"
   },
   {
    "duration": 18,
    "start_time": "2023-07-01T14:43:21.095Z"
   },
   {
    "duration": 25,
    "start_time": "2023-07-01T14:43:30.127Z"
   },
   {
    "duration": 17,
    "start_time": "2023-07-01T14:44:17.719Z"
   },
   {
    "duration": 29,
    "start_time": "2023-07-01T14:45:28.320Z"
   },
   {
    "duration": 3,
    "start_time": "2023-07-01T14:46:09.229Z"
   },
   {
    "duration": 879,
    "start_time": "2023-07-01T14:46:09.234Z"
   },
   {
    "duration": 14,
    "start_time": "2023-07-01T14:46:10.114Z"
   },
   {
    "duration": 99,
    "start_time": "2023-07-01T14:46:10.130Z"
   },
   {
    "duration": 397,
    "start_time": "2023-07-01T14:46:10.231Z"
   },
   {
    "duration": 452,
    "start_time": "2023-07-01T14:46:10.629Z"
   },
   {
    "duration": 19,
    "start_time": "2023-07-01T14:46:11.083Z"
   },
   {
    "duration": 66,
    "start_time": "2023-07-01T14:46:11.113Z"
   },
   {
    "duration": 44,
    "start_time": "2023-07-01T14:46:11.181Z"
   },
   {
    "duration": 28,
    "start_time": "2023-07-01T14:46:11.227Z"
   },
   {
    "duration": 33,
    "start_time": "2023-07-01T14:46:11.257Z"
   },
   {
    "duration": 131,
    "start_time": "2023-07-01T14:46:11.292Z"
   },
   {
    "duration": 19,
    "start_time": "2023-07-01T14:46:11.424Z"
   },
   {
    "duration": 11,
    "start_time": "2023-07-01T14:46:11.444Z"
   },
   {
    "duration": 30,
    "start_time": "2023-07-01T14:47:00.009Z"
   },
   {
    "duration": 51,
    "start_time": "2023-07-01T14:53:49.826Z"
   },
   {
    "duration": 32,
    "start_time": "2023-07-01T14:53:59.661Z"
   },
   {
    "duration": 18,
    "start_time": "2023-07-01T14:56:27.911Z"
   },
   {
    "duration": 4,
    "start_time": "2023-07-01T14:56:43.538Z"
   },
   {
    "duration": 819,
    "start_time": "2023-07-01T14:56:43.544Z"
   },
   {
    "duration": 15,
    "start_time": "2023-07-01T14:56:44.364Z"
   },
   {
    "duration": 98,
    "start_time": "2023-07-01T14:56:44.380Z"
   },
   {
    "duration": 402,
    "start_time": "2023-07-01T14:56:44.481Z"
   },
   {
    "duration": 485,
    "start_time": "2023-07-01T14:56:44.885Z"
   },
   {
    "duration": 19,
    "start_time": "2023-07-01T14:56:45.372Z"
   },
   {
    "duration": 84,
    "start_time": "2023-07-01T14:56:45.393Z"
   },
   {
    "duration": 37,
    "start_time": "2023-07-01T14:56:45.478Z"
   },
   {
    "duration": 23,
    "start_time": "2023-07-01T14:56:45.516Z"
   },
   {
    "duration": 18,
    "start_time": "2023-07-01T14:56:45.541Z"
   },
   {
    "duration": 59,
    "start_time": "2023-07-01T14:56:45.561Z"
   },
   {
    "duration": 0,
    "start_time": "2023-07-01T14:56:45.622Z"
   },
   {
    "duration": 0,
    "start_time": "2023-07-01T14:56:45.623Z"
   },
   {
    "duration": 0,
    "start_time": "2023-07-01T14:56:45.625Z"
   },
   {
    "duration": 1475,
    "start_time": "2023-07-01T14:57:02.697Z"
   },
   {
    "duration": 835,
    "start_time": "2023-07-01T14:57:04.174Z"
   },
   {
    "duration": 22,
    "start_time": "2023-07-01T14:57:05.010Z"
   },
   {
    "duration": 157,
    "start_time": "2023-07-01T14:57:05.034Z"
   },
   {
    "duration": 463,
    "start_time": "2023-07-01T14:57:05.194Z"
   },
   {
    "duration": 561,
    "start_time": "2023-07-01T14:57:05.659Z"
   },
   {
    "duration": 18,
    "start_time": "2023-07-01T14:57:06.227Z"
   },
   {
    "duration": 75,
    "start_time": "2023-07-01T14:57:06.247Z"
   },
   {
    "duration": 28,
    "start_time": "2023-07-01T14:57:06.323Z"
   },
   {
    "duration": 25,
    "start_time": "2023-07-01T14:57:06.352Z"
   },
   {
    "duration": 42,
    "start_time": "2023-07-01T14:57:06.379Z"
   },
   {
    "duration": 27,
    "start_time": "2023-07-01T14:57:06.423Z"
   },
   {
    "duration": 26,
    "start_time": "2023-07-01T14:57:06.451Z"
   },
   {
    "duration": 117,
    "start_time": "2023-07-01T14:57:06.479Z"
   },
   {
    "duration": 19,
    "start_time": "2023-07-01T15:00:12.051Z"
   },
   {
    "duration": 29,
    "start_time": "2023-07-01T15:01:10.740Z"
   },
   {
    "duration": 1456,
    "start_time": "2023-07-01T15:01:16.879Z"
   },
   {
    "duration": 848,
    "start_time": "2023-07-01T15:01:18.337Z"
   },
   {
    "duration": 16,
    "start_time": "2023-07-01T15:01:19.187Z"
   },
   {
    "duration": 150,
    "start_time": "2023-07-01T15:01:19.205Z"
   },
   {
    "duration": 510,
    "start_time": "2023-07-01T15:01:19.358Z"
   },
   {
    "duration": 549,
    "start_time": "2023-07-01T15:01:19.869Z"
   },
   {
    "duration": 17,
    "start_time": "2023-07-01T15:01:20.420Z"
   },
   {
    "duration": 86,
    "start_time": "2023-07-01T15:01:20.439Z"
   },
   {
    "duration": 32,
    "start_time": "2023-07-01T15:01:20.527Z"
   },
   {
    "duration": 23,
    "start_time": "2023-07-01T15:01:20.560Z"
   },
   {
    "duration": 161,
    "start_time": "2023-07-01T15:01:20.585Z"
   },
   {
    "duration": 1,
    "start_time": "2023-07-01T15:01:20.747Z"
   },
   {
    "duration": 0,
    "start_time": "2023-07-01T15:01:20.749Z"
   },
   {
    "duration": 0,
    "start_time": "2023-07-01T15:01:20.750Z"
   },
   {
    "duration": 0,
    "start_time": "2023-07-01T15:01:20.752Z"
   },
   {
    "duration": 1529,
    "start_time": "2023-07-01T15:02:30.400Z"
   },
   {
    "duration": 878,
    "start_time": "2023-07-01T15:02:31.931Z"
   },
   {
    "duration": 20,
    "start_time": "2023-07-01T15:02:32.812Z"
   },
   {
    "duration": 270,
    "start_time": "2023-07-01T15:02:32.834Z"
   },
   {
    "duration": 487,
    "start_time": "2023-07-01T15:02:33.112Z"
   },
   {
    "duration": 608,
    "start_time": "2023-07-01T15:02:33.601Z"
   },
   {
    "duration": 16,
    "start_time": "2023-07-01T15:02:34.214Z"
   },
   {
    "duration": 81,
    "start_time": "2023-07-01T15:02:34.232Z"
   },
   {
    "duration": 28,
    "start_time": "2023-07-01T15:02:34.315Z"
   },
   {
    "duration": 29,
    "start_time": "2023-07-01T15:02:34.345Z"
   },
   {
    "duration": 20,
    "start_time": "2023-07-01T15:02:34.376Z"
   },
   {
    "duration": 35,
    "start_time": "2023-07-01T15:02:34.398Z"
   },
   {
    "duration": 20,
    "start_time": "2023-07-01T15:02:34.435Z"
   },
   {
    "duration": 35,
    "start_time": "2023-07-01T15:02:34.458Z"
   },
   {
    "duration": 121,
    "start_time": "2023-07-01T15:02:34.495Z"
   },
   {
    "duration": 18,
    "start_time": "2023-07-01T15:27:12.050Z"
   },
   {
    "duration": 17,
    "start_time": "2023-07-01T15:27:32.474Z"
   },
   {
    "duration": 88,
    "start_time": "2023-07-01T15:27:40.751Z"
   },
   {
    "duration": 159,
    "start_time": "2023-07-01T15:32:30.843Z"
   },
   {
    "duration": 29,
    "start_time": "2023-07-01T15:37:53.562Z"
   },
   {
    "duration": 4,
    "start_time": "2023-07-01T16:21:53.495Z"
   },
   {
    "duration": 848,
    "start_time": "2023-07-01T16:21:53.500Z"
   },
   {
    "duration": 15,
    "start_time": "2023-07-01T16:21:54.350Z"
   },
   {
    "duration": 108,
    "start_time": "2023-07-01T16:21:54.366Z"
   },
   {
    "duration": 419,
    "start_time": "2023-07-01T16:21:54.477Z"
   },
   {
    "duration": 515,
    "start_time": "2023-07-01T16:21:54.898Z"
   },
   {
    "duration": 19,
    "start_time": "2023-07-01T16:21:55.415Z"
   },
   {
    "duration": 89,
    "start_time": "2023-07-01T16:21:55.436Z"
   },
   {
    "duration": 44,
    "start_time": "2023-07-01T16:21:55.527Z"
   },
   {
    "duration": 24,
    "start_time": "2023-07-01T16:21:55.572Z"
   },
   {
    "duration": 42,
    "start_time": "2023-07-01T16:21:55.597Z"
   },
   {
    "duration": 35,
    "start_time": "2023-07-01T16:21:55.641Z"
   },
   {
    "duration": 34,
    "start_time": "2023-07-01T16:21:55.678Z"
   },
   {
    "duration": 35,
    "start_time": "2023-07-01T16:21:55.715Z"
   },
   {
    "duration": 90,
    "start_time": "2023-07-01T16:21:55.752Z"
   },
   {
    "duration": 58,
    "start_time": "2023-07-01T16:21:55.843Z"
   },
   {
    "duration": 58,
    "start_time": "2023-07-01T16:21:55.903Z"
   },
   {
    "duration": 166,
    "start_time": "2023-07-01T16:21:55.963Z"
   },
   {
    "duration": 12,
    "start_time": "2023-07-01T16:21:56.131Z"
   },
   {
    "duration": 1437,
    "start_time": "2023-07-01T20:36:01.866Z"
   },
   {
    "duration": 844,
    "start_time": "2023-07-01T20:36:03.305Z"
   },
   {
    "duration": 17,
    "start_time": "2023-07-01T20:36:04.151Z"
   },
   {
    "duration": 154,
    "start_time": "2023-07-01T20:36:04.170Z"
   },
   {
    "duration": 466,
    "start_time": "2023-07-01T20:36:04.327Z"
   },
   {
    "duration": 555,
    "start_time": "2023-07-01T20:36:04.795Z"
   },
   {
    "duration": 16,
    "start_time": "2023-07-01T20:36:05.352Z"
   },
   {
    "duration": 84,
    "start_time": "2023-07-01T20:36:05.369Z"
   },
   {
    "duration": 28,
    "start_time": "2023-07-01T20:36:05.455Z"
   },
   {
    "duration": 50,
    "start_time": "2023-07-01T20:36:05.485Z"
   },
   {
    "duration": 32,
    "start_time": "2023-07-01T20:36:05.536Z"
   },
   {
    "duration": 43,
    "start_time": "2023-07-01T20:36:05.570Z"
   },
   {
    "duration": 53,
    "start_time": "2023-07-01T20:36:05.614Z"
   },
   {
    "duration": 53,
    "start_time": "2023-07-01T20:36:05.669Z"
   },
   {
    "duration": 85,
    "start_time": "2023-07-01T20:36:05.724Z"
   },
   {
    "duration": 20,
    "start_time": "2023-07-01T20:36:05.811Z"
   },
   {
    "duration": 35,
    "start_time": "2023-07-01T20:36:05.832Z"
   },
   {
    "duration": 165,
    "start_time": "2023-07-01T20:36:05.869Z"
   },
   {
    "duration": 114,
    "start_time": "2023-07-01T20:36:06.036Z"
   },
   {
    "duration": 3087,
    "start_time": "2023-07-01T20:44:03.074Z"
   },
   {
    "duration": 16,
    "start_time": "2023-07-01T20:44:37.722Z"
   },
   {
    "duration": 268,
    "start_time": "2023-07-01T20:46:28.121Z"
   },
   {
    "duration": 4,
    "start_time": "2023-07-01T20:46:48.575Z"
   },
   {
    "duration": 850,
    "start_time": "2023-07-01T20:46:48.581Z"
   },
   {
    "duration": 15,
    "start_time": "2023-07-01T20:46:49.433Z"
   },
   {
    "duration": 107,
    "start_time": "2023-07-01T20:46:49.450Z"
   },
   {
    "duration": 428,
    "start_time": "2023-07-01T20:46:49.559Z"
   },
   {
    "duration": 484,
    "start_time": "2023-07-01T20:46:49.988Z"
   },
   {
    "duration": 16,
    "start_time": "2023-07-01T20:46:50.474Z"
   },
   {
    "duration": 97,
    "start_time": "2023-07-01T20:46:50.492Z"
   },
   {
    "duration": 34,
    "start_time": "2023-07-01T20:46:50.591Z"
   },
   {
    "duration": 51,
    "start_time": "2023-07-01T20:46:50.627Z"
   },
   {
    "duration": 30,
    "start_time": "2023-07-01T20:46:50.680Z"
   },
   {
    "duration": 55,
    "start_time": "2023-07-01T20:46:50.712Z"
   },
   {
    "duration": 28,
    "start_time": "2023-07-01T20:46:50.769Z"
   },
   {
    "duration": 41,
    "start_time": "2023-07-01T20:46:50.800Z"
   },
   {
    "duration": 99,
    "start_time": "2023-07-01T20:46:50.843Z"
   },
   {
    "duration": 29,
    "start_time": "2023-07-01T20:46:50.943Z"
   },
   {
    "duration": 56,
    "start_time": "2023-07-01T20:46:50.973Z"
   },
   {
    "duration": 172,
    "start_time": "2023-07-01T20:46:51.031Z"
   },
   {
    "duration": 3090,
    "start_time": "2023-07-01T20:46:51.204Z"
   },
   {
    "duration": 20,
    "start_time": "2023-07-01T20:46:54.296Z"
   },
   {
    "duration": 233,
    "start_time": "2023-07-01T20:46:54.318Z"
   },
   {
    "duration": 3234,
    "start_time": "2023-07-01T20:48:45.623Z"
   },
   {
    "duration": 69,
    "start_time": "2023-07-01T20:49:07.162Z"
   },
   {
    "duration": 4,
    "start_time": "2023-07-01T20:54:30.264Z"
   },
   {
    "duration": 1780,
    "start_time": "2023-07-02T14:19:00.908Z"
   },
   {
    "duration": 1323,
    "start_time": "2023-07-02T14:19:02.690Z"
   },
   {
    "duration": 23,
    "start_time": "2023-07-02T14:19:04.015Z"
   },
   {
    "duration": 146,
    "start_time": "2023-07-02T14:19:04.040Z"
   },
   {
    "duration": 445,
    "start_time": "2023-07-02T14:19:04.188Z"
   },
   {
    "duration": 605,
    "start_time": "2023-07-02T14:19:04.635Z"
   },
   {
    "duration": 20,
    "start_time": "2023-07-02T14:19:05.242Z"
   },
   {
    "duration": 117,
    "start_time": "2023-07-02T14:19:05.264Z"
   },
   {
    "duration": 40,
    "start_time": "2023-07-02T14:19:05.383Z"
   },
   {
    "duration": 25,
    "start_time": "2023-07-02T14:19:05.425Z"
   },
   {
    "duration": 48,
    "start_time": "2023-07-02T14:19:05.452Z"
   },
   {
    "duration": 24,
    "start_time": "2023-07-02T14:19:05.502Z"
   },
   {
    "duration": 22,
    "start_time": "2023-07-02T14:19:05.528Z"
   },
   {
    "duration": 42,
    "start_time": "2023-07-02T14:19:05.554Z"
   },
   {
    "duration": 108,
    "start_time": "2023-07-02T14:19:05.599Z"
   },
   {
    "duration": 34,
    "start_time": "2023-07-02T14:19:05.709Z"
   },
   {
    "duration": 67,
    "start_time": "2023-07-02T14:19:05.745Z"
   },
   {
    "duration": 197,
    "start_time": "2023-07-02T14:19:05.814Z"
   },
   {
    "duration": 3838,
    "start_time": "2023-07-02T14:19:06.013Z"
   },
   {
    "duration": 31,
    "start_time": "2023-07-02T14:19:09.853Z"
   },
   {
    "duration": 3520,
    "start_time": "2023-07-02T14:19:09.885Z"
   },
   {
    "duration": 128,
    "start_time": "2023-07-02T14:19:13.408Z"
   },
   {
    "duration": 25,
    "start_time": "2023-07-02T14:19:13.538Z"
   },
   {
    "duration": 331,
    "start_time": "2023-07-02T14:20:43.106Z"
   },
   {
    "duration": 9,
    "start_time": "2023-07-02T14:21:51.318Z"
   },
   {
    "duration": 10,
    "start_time": "2023-07-02T14:22:08.925Z"
   },
   {
    "duration": 316,
    "start_time": "2023-07-02T14:25:22.667Z"
   },
   {
    "duration": 8,
    "start_time": "2023-07-02T14:25:38.734Z"
   },
   {
    "duration": 244,
    "start_time": "2023-07-02T14:25:39.677Z"
   },
   {
    "duration": 33,
    "start_time": "2023-07-02T14:27:28.200Z"
   },
   {
    "duration": 45,
    "start_time": "2023-07-02T14:29:19.025Z"
   },
   {
    "duration": 7,
    "start_time": "2023-07-02T14:30:33.813Z"
   },
   {
    "duration": 6,
    "start_time": "2023-07-02T14:30:57.745Z"
   },
   {
    "duration": 244,
    "start_time": "2023-07-02T14:31:37.440Z"
   },
   {
    "duration": 219,
    "start_time": "2023-07-02T14:39:43.832Z"
   },
   {
    "duration": 156,
    "start_time": "2023-07-02T14:41:55.562Z"
   },
   {
    "duration": 51,
    "start_time": "2023-07-02T14:43:22.917Z"
   },
   {
    "duration": 267,
    "start_time": "2023-07-02T14:43:45.227Z"
   },
   {
    "duration": 274,
    "start_time": "2023-07-02T14:43:56.312Z"
   },
   {
    "duration": 4,
    "start_time": "2023-07-02T14:44:06.650Z"
   },
   {
    "duration": 866,
    "start_time": "2023-07-02T14:44:06.656Z"
   },
   {
    "duration": 14,
    "start_time": "2023-07-02T14:44:07.524Z"
   },
   {
    "duration": 98,
    "start_time": "2023-07-02T14:44:07.539Z"
   },
   {
    "duration": 425,
    "start_time": "2023-07-02T14:44:07.639Z"
   },
   {
    "duration": 516,
    "start_time": "2023-07-02T14:44:08.066Z"
   },
   {
    "duration": 30,
    "start_time": "2023-07-02T14:44:08.588Z"
   },
   {
    "duration": 118,
    "start_time": "2023-07-02T14:44:08.621Z"
   },
   {
    "duration": 41,
    "start_time": "2023-07-02T14:44:08.740Z"
   },
   {
    "duration": 57,
    "start_time": "2023-07-02T14:44:08.785Z"
   },
   {
    "duration": 25,
    "start_time": "2023-07-02T14:44:08.844Z"
   },
   {
    "duration": 153,
    "start_time": "2023-07-02T14:44:08.870Z"
   },
   {
    "duration": 32,
    "start_time": "2023-07-02T14:44:09.027Z"
   },
   {
    "duration": 49,
    "start_time": "2023-07-02T14:44:09.061Z"
   },
   {
    "duration": 112,
    "start_time": "2023-07-02T14:44:09.118Z"
   },
   {
    "duration": 23,
    "start_time": "2023-07-02T14:44:09.231Z"
   },
   {
    "duration": 59,
    "start_time": "2023-07-02T14:44:09.255Z"
   },
   {
    "duration": 162,
    "start_time": "2023-07-02T14:44:09.316Z"
   },
   {
    "duration": 3247,
    "start_time": "2023-07-02T14:44:09.483Z"
   },
   {
    "duration": 18,
    "start_time": "2023-07-02T14:44:12.731Z"
   },
   {
    "duration": 3307,
    "start_time": "2023-07-02T14:44:12.751Z"
   },
   {
    "duration": 91,
    "start_time": "2023-07-02T14:44:16.060Z"
   },
   {
    "duration": 8,
    "start_time": "2023-07-02T14:44:16.153Z"
   },
   {
    "duration": 356,
    "start_time": "2023-07-02T14:44:16.177Z"
   },
   {
    "duration": 61,
    "start_time": "2023-07-02T14:44:16.536Z"
   },
   {
    "duration": 129,
    "start_time": "2023-07-02T14:44:16.601Z"
   },
   {
    "duration": 0,
    "start_time": "2023-07-02T14:44:16.733Z"
   },
   {
    "duration": 0,
    "start_time": "2023-07-02T14:44:16.734Z"
   },
   {
    "duration": 0,
    "start_time": "2023-07-02T14:44:16.735Z"
   },
   {
    "duration": 5,
    "start_time": "2023-07-02T14:44:25.660Z"
   },
   {
    "duration": 926,
    "start_time": "2023-07-02T14:44:25.668Z"
   },
   {
    "duration": 18,
    "start_time": "2023-07-02T14:44:26.595Z"
   },
   {
    "duration": 142,
    "start_time": "2023-07-02T14:44:26.616Z"
   },
   {
    "duration": 476,
    "start_time": "2023-07-02T14:44:26.761Z"
   },
   {
    "duration": 529,
    "start_time": "2023-07-02T14:44:27.240Z"
   },
   {
    "duration": 34,
    "start_time": "2023-07-02T14:44:27.771Z"
   },
   {
    "duration": 118,
    "start_time": "2023-07-02T14:44:27.806Z"
   },
   {
    "duration": 32,
    "start_time": "2023-07-02T14:44:27.926Z"
   },
   {
    "duration": 34,
    "start_time": "2023-07-02T14:44:27.974Z"
   },
   {
    "duration": 23,
    "start_time": "2023-07-02T14:44:28.010Z"
   },
   {
    "duration": 45,
    "start_time": "2023-07-02T14:44:28.035Z"
   },
   {
    "duration": 58,
    "start_time": "2023-07-02T14:44:28.084Z"
   },
   {
    "duration": 36,
    "start_time": "2023-07-02T14:44:28.145Z"
   },
   {
    "duration": 135,
    "start_time": "2023-07-02T14:44:28.183Z"
   },
   {
    "duration": 24,
    "start_time": "2023-07-02T14:44:28.320Z"
   },
   {
    "duration": 53,
    "start_time": "2023-07-02T14:44:28.346Z"
   },
   {
    "duration": 199,
    "start_time": "2023-07-02T14:44:28.400Z"
   },
   {
    "duration": 3246,
    "start_time": "2023-07-02T14:44:28.601Z"
   },
   {
    "duration": 18,
    "start_time": "2023-07-02T14:44:31.848Z"
   },
   {
    "duration": 3379,
    "start_time": "2023-07-02T14:44:31.875Z"
   },
   {
    "duration": 99,
    "start_time": "2023-07-02T14:44:35.256Z"
   },
   {
    "duration": 25,
    "start_time": "2023-07-02T14:44:35.357Z"
   },
   {
    "duration": 295,
    "start_time": "2023-07-02T14:44:35.383Z"
   },
   {
    "duration": 42,
    "start_time": "2023-07-02T14:44:35.679Z"
   },
   {
    "duration": 6,
    "start_time": "2023-07-02T14:44:35.723Z"
   },
   {
    "duration": 83,
    "start_time": "2023-07-02T14:44:35.731Z"
   },
   {
    "duration": 219,
    "start_time": "2023-07-02T14:44:35.816Z"
   },
   {
    "duration": 46,
    "start_time": "2023-07-02T14:45:12.305Z"
   },
   {
    "duration": 6,
    "start_time": "2023-07-02T14:45:15.872Z"
   },
   {
    "duration": 1020,
    "start_time": "2023-07-02T14:45:15.880Z"
   },
   {
    "duration": 22,
    "start_time": "2023-07-02T14:45:16.902Z"
   },
   {
    "duration": 103,
    "start_time": "2023-07-02T14:45:16.927Z"
   },
   {
    "duration": 434,
    "start_time": "2023-07-02T14:45:17.032Z"
   },
   {
    "duration": 514,
    "start_time": "2023-07-02T14:45:17.469Z"
   },
   {
    "duration": 37,
    "start_time": "2023-07-02T14:45:17.986Z"
   },
   {
    "duration": 138,
    "start_time": "2023-07-02T14:45:18.025Z"
   },
   {
    "duration": 63,
    "start_time": "2023-07-02T14:45:18.167Z"
   },
   {
    "duration": 24,
    "start_time": "2023-07-02T14:45:18.232Z"
   },
   {
    "duration": 42,
    "start_time": "2023-07-02T14:45:18.258Z"
   },
   {
    "duration": 39,
    "start_time": "2023-07-02T14:45:18.302Z"
   },
   {
    "duration": 51,
    "start_time": "2023-07-02T14:45:18.343Z"
   },
   {
    "duration": 54,
    "start_time": "2023-07-02T14:45:18.398Z"
   },
   {
    "duration": 159,
    "start_time": "2023-07-02T14:45:18.454Z"
   },
   {
    "duration": 22,
    "start_time": "2023-07-02T14:45:18.615Z"
   },
   {
    "duration": 86,
    "start_time": "2023-07-02T14:45:18.640Z"
   },
   {
    "duration": 179,
    "start_time": "2023-07-02T14:45:18.728Z"
   },
   {
    "duration": 3494,
    "start_time": "2023-07-02T14:45:18.909Z"
   },
   {
    "duration": 37,
    "start_time": "2023-07-02T14:45:22.408Z"
   },
   {
    "duration": 3601,
    "start_time": "2023-07-02T14:45:22.448Z"
   },
   {
    "duration": 100,
    "start_time": "2023-07-02T14:45:26.051Z"
   },
   {
    "duration": 33,
    "start_time": "2023-07-02T14:45:26.153Z"
   },
   {
    "duration": 354,
    "start_time": "2023-07-02T14:45:26.191Z"
   },
   {
    "duration": 59,
    "start_time": "2023-07-02T14:45:26.547Z"
   },
   {
    "duration": 11,
    "start_time": "2023-07-02T14:45:26.608Z"
   },
   {
    "duration": 87,
    "start_time": "2023-07-02T14:45:26.621Z"
   },
   {
    "duration": 235,
    "start_time": "2023-07-02T14:45:26.711Z"
   },
   {
    "duration": 4,
    "start_time": "2023-07-02T14:46:30.543Z"
   },
   {
    "duration": 923,
    "start_time": "2023-07-02T14:46:30.549Z"
   },
   {
    "duration": 17,
    "start_time": "2023-07-02T14:46:31.479Z"
   },
   {
    "duration": 118,
    "start_time": "2023-07-02T14:46:31.497Z"
   },
   {
    "duration": 560,
    "start_time": "2023-07-02T14:46:31.618Z"
   },
   {
    "duration": 563,
    "start_time": "2023-07-02T14:46:32.179Z"
   },
   {
    "duration": 32,
    "start_time": "2023-07-02T14:46:32.744Z"
   },
   {
    "duration": 121,
    "start_time": "2023-07-02T14:46:32.782Z"
   },
   {
    "duration": 63,
    "start_time": "2023-07-02T14:46:32.905Z"
   },
   {
    "duration": 41,
    "start_time": "2023-07-02T14:46:32.983Z"
   },
   {
    "duration": 39,
    "start_time": "2023-07-02T14:46:33.026Z"
   },
   {
    "duration": 42,
    "start_time": "2023-07-02T14:46:33.067Z"
   },
   {
    "duration": 27,
    "start_time": "2023-07-02T14:46:33.111Z"
   },
   {
    "duration": 51,
    "start_time": "2023-07-02T14:46:33.141Z"
   },
   {
    "duration": 171,
    "start_time": "2023-07-02T14:46:33.198Z"
   },
   {
    "duration": 31,
    "start_time": "2023-07-02T14:46:33.375Z"
   },
   {
    "duration": 87,
    "start_time": "2023-07-02T14:46:33.408Z"
   },
   {
    "duration": 156,
    "start_time": "2023-07-02T14:46:33.497Z"
   },
   {
    "duration": 3378,
    "start_time": "2023-07-02T14:46:33.655Z"
   },
   {
    "duration": 18,
    "start_time": "2023-07-02T14:46:37.034Z"
   },
   {
    "duration": 3449,
    "start_time": "2023-07-02T14:46:37.054Z"
   },
   {
    "duration": 80,
    "start_time": "2023-07-02T14:46:40.505Z"
   },
   {
    "duration": 27,
    "start_time": "2023-07-02T14:46:40.586Z"
   },
   {
    "duration": 523,
    "start_time": "2023-07-02T14:46:40.615Z"
   },
   {
    "duration": 59,
    "start_time": "2023-07-02T14:46:41.140Z"
   },
   {
    "duration": 9,
    "start_time": "2023-07-02T14:46:41.202Z"
   },
   {
    "duration": 54,
    "start_time": "2023-07-02T14:46:41.213Z"
   },
   {
    "duration": 202,
    "start_time": "2023-07-02T14:46:41.269Z"
   },
   {
    "duration": 315,
    "start_time": "2023-07-02T14:46:56.017Z"
   },
   {
    "duration": 219,
    "start_time": "2023-07-02T14:47:03.197Z"
   },
   {
    "duration": 8,
    "start_time": "2023-07-02T15:03:31.136Z"
   },
   {
    "duration": 190,
    "start_time": "2023-07-02T15:03:34.717Z"
   },
   {
    "duration": 8,
    "start_time": "2023-07-02T15:03:47.702Z"
   },
   {
    "duration": 40,
    "start_time": "2023-07-02T15:09:16.021Z"
   },
   {
    "duration": 200,
    "start_time": "2023-07-02T15:09:19.800Z"
   },
   {
    "duration": 41,
    "start_time": "2023-07-02T15:09:36.155Z"
   },
   {
    "duration": 175,
    "start_time": "2023-07-02T15:09:39.730Z"
   },
   {
    "duration": 40,
    "start_time": "2023-07-02T15:11:16.833Z"
   },
   {
    "duration": 207,
    "start_time": "2023-07-02T15:11:21.860Z"
   },
   {
    "duration": 2120,
    "start_time": "2023-07-02T19:13:06.471Z"
   },
   {
    "duration": 1705,
    "start_time": "2023-07-02T19:13:08.601Z"
   },
   {
    "duration": 28,
    "start_time": "2023-07-02T19:13:10.309Z"
   },
   {
    "duration": 210,
    "start_time": "2023-07-02T19:13:10.339Z"
   },
   {
    "duration": 829,
    "start_time": "2023-07-02T19:13:10.552Z"
   },
   {
    "duration": 818,
    "start_time": "2023-07-02T19:13:11.384Z"
   },
   {
    "duration": 19,
    "start_time": "2023-07-02T19:13:12.204Z"
   },
   {
    "duration": 90,
    "start_time": "2023-07-02T19:13:12.226Z"
   },
   {
    "duration": 31,
    "start_time": "2023-07-02T19:13:12.319Z"
   },
   {
    "duration": 57,
    "start_time": "2023-07-02T19:13:12.357Z"
   },
   {
    "duration": 36,
    "start_time": "2023-07-02T19:13:12.417Z"
   },
   {
    "duration": 49,
    "start_time": "2023-07-02T19:13:12.456Z"
   },
   {
    "duration": 39,
    "start_time": "2023-07-02T19:13:12.508Z"
   },
   {
    "duration": 21,
    "start_time": "2023-07-02T19:13:12.549Z"
   },
   {
    "duration": 55,
    "start_time": "2023-07-02T19:13:12.572Z"
   },
   {
    "duration": 77,
    "start_time": "2023-07-02T19:13:12.630Z"
   },
   {
    "duration": 248,
    "start_time": "2023-07-02T19:13:12.710Z"
   },
   {
    "duration": 4175,
    "start_time": "2023-07-02T19:13:12.965Z"
   },
   {
    "duration": 32,
    "start_time": "2023-07-02T19:13:17.142Z"
   },
   {
    "duration": 3841,
    "start_time": "2023-07-02T19:13:17.176Z"
   },
   {
    "duration": 84,
    "start_time": "2023-07-02T19:13:21.019Z"
   },
   {
    "duration": 20,
    "start_time": "2023-07-02T19:13:21.107Z"
   },
   {
    "duration": 353,
    "start_time": "2023-07-02T19:13:21.128Z"
   },
   {
    "duration": 74,
    "start_time": "2023-07-02T19:13:21.483Z"
   },
   {
    "duration": 114,
    "start_time": "2023-07-02T19:13:21.559Z"
   },
   {
    "duration": 71,
    "start_time": "2023-07-02T19:13:21.675Z"
   },
   {
    "duration": 231,
    "start_time": "2023-07-02T19:13:21.748Z"
   },
   {
    "duration": 19,
    "start_time": "2023-07-02T19:13:21.984Z"
   },
   {
    "duration": 56,
    "start_time": "2023-07-02T19:13:22.004Z"
   },
   {
    "duration": 245,
    "start_time": "2023-07-02T19:13:22.062Z"
   },
   {
    "duration": 1684,
    "start_time": "2023-07-03T14:19:56.928Z"
   },
   {
    "duration": 3325,
    "start_time": "2023-07-03T14:19:58.615Z"
   },
   {
    "duration": 19,
    "start_time": "2023-07-03T14:20:01.942Z"
   },
   {
    "duration": 178,
    "start_time": "2023-07-03T14:20:01.962Z"
   },
   {
    "duration": 517,
    "start_time": "2023-07-03T14:20:02.143Z"
   },
   {
    "duration": 582,
    "start_time": "2023-07-03T14:20:02.662Z"
   },
   {
    "duration": 20,
    "start_time": "2023-07-03T14:20:03.246Z"
   },
   {
    "duration": 94,
    "start_time": "2023-07-03T14:20:03.268Z"
   },
   {
    "duration": 40,
    "start_time": "2023-07-03T14:20:03.363Z"
   },
   {
    "duration": 42,
    "start_time": "2023-07-03T14:20:03.405Z"
   },
   {
    "duration": 31,
    "start_time": "2023-07-03T14:20:03.449Z"
   },
   {
    "duration": 38,
    "start_time": "2023-07-03T14:20:03.482Z"
   },
   {
    "duration": 46,
    "start_time": "2023-07-03T14:20:03.522Z"
   },
   {
    "duration": 33,
    "start_time": "2023-07-03T14:20:03.572Z"
   },
   {
    "duration": 50,
    "start_time": "2023-07-03T14:20:03.606Z"
   },
   {
    "duration": 55,
    "start_time": "2023-07-03T14:20:03.658Z"
   },
   {
    "duration": 186,
    "start_time": "2023-07-03T14:20:03.715Z"
   },
   {
    "duration": 3630,
    "start_time": "2023-07-03T14:20:03.903Z"
   },
   {
    "duration": 22,
    "start_time": "2023-07-03T14:20:07.536Z"
   },
   {
    "duration": 3587,
    "start_time": "2023-07-03T14:20:07.560Z"
   },
   {
    "duration": 77,
    "start_time": "2023-07-03T14:20:11.149Z"
   },
   {
    "duration": 21,
    "start_time": "2023-07-03T14:20:11.227Z"
   },
   {
    "duration": 339,
    "start_time": "2023-07-03T14:20:11.249Z"
   },
   {
    "duration": 63,
    "start_time": "2023-07-03T14:20:11.589Z"
   },
   {
    "duration": 8,
    "start_time": "2023-07-03T14:20:11.654Z"
   },
   {
    "duration": 141,
    "start_time": "2023-07-03T14:20:11.664Z"
   },
   {
    "duration": 233,
    "start_time": "2023-07-03T14:20:11.806Z"
   },
   {
    "duration": 7,
    "start_time": "2023-07-03T14:20:12.042Z"
   },
   {
    "duration": 57,
    "start_time": "2023-07-03T14:20:12.051Z"
   },
   {
    "duration": 228,
    "start_time": "2023-07-03T14:20:12.110Z"
   },
   {
    "duration": 130,
    "start_time": "2023-07-03T14:20:12.339Z"
   },
   {
    "duration": 4,
    "start_time": "2023-07-03T14:24:20.393Z"
   },
   {
    "duration": 871,
    "start_time": "2023-07-03T14:24:20.399Z"
   },
   {
    "duration": 16,
    "start_time": "2023-07-03T14:24:21.272Z"
   },
   {
    "duration": 112,
    "start_time": "2023-07-03T14:24:21.289Z"
   },
   {
    "duration": 424,
    "start_time": "2023-07-03T14:24:21.404Z"
   },
   {
    "duration": 514,
    "start_time": "2023-07-03T14:24:21.830Z"
   },
   {
    "duration": 24,
    "start_time": "2023-07-03T14:24:22.346Z"
   },
   {
    "duration": 83,
    "start_time": "2023-07-03T14:24:22.372Z"
   },
   {
    "duration": 30,
    "start_time": "2023-07-03T14:24:22.457Z"
   },
   {
    "duration": 44,
    "start_time": "2023-07-03T14:24:22.488Z"
   },
   {
    "duration": 24,
    "start_time": "2023-07-03T14:24:22.535Z"
   },
   {
    "duration": 33,
    "start_time": "2023-07-03T14:24:22.561Z"
   },
   {
    "duration": 32,
    "start_time": "2023-07-03T14:24:22.595Z"
   },
   {
    "duration": 18,
    "start_time": "2023-07-03T14:24:22.630Z"
   },
   {
    "duration": 28,
    "start_time": "2023-07-03T14:24:22.650Z"
   },
   {
    "duration": 51,
    "start_time": "2023-07-03T14:24:22.680Z"
   },
   {
    "duration": 163,
    "start_time": "2023-07-03T14:24:22.732Z"
   },
   {
    "duration": 3152,
    "start_time": "2023-07-03T14:24:22.897Z"
   },
   {
    "duration": 17,
    "start_time": "2023-07-03T14:24:26.051Z"
   },
   {
    "duration": 3386,
    "start_time": "2023-07-03T14:24:26.070Z"
   },
   {
    "duration": 72,
    "start_time": "2023-07-03T14:24:29.458Z"
   },
   {
    "duration": 13,
    "start_time": "2023-07-03T14:24:29.532Z"
   },
   {
    "duration": 423,
    "start_time": "2023-07-03T14:24:29.547Z"
   },
   {
    "duration": 50,
    "start_time": "2023-07-03T14:24:29.972Z"
   },
   {
    "duration": 8,
    "start_time": "2023-07-03T14:24:30.024Z"
   },
   {
    "duration": 151,
    "start_time": "2023-07-03T14:24:30.035Z"
   },
   {
    "duration": 222,
    "start_time": "2023-07-03T14:24:30.188Z"
   },
   {
    "duration": 10,
    "start_time": "2023-07-03T14:24:30.413Z"
   },
   {
    "duration": 88,
    "start_time": "2023-07-03T14:24:30.425Z"
   },
   {
    "duration": 244,
    "start_time": "2023-07-03T14:24:30.515Z"
   },
   {
    "duration": 25,
    "start_time": "2023-07-03T14:24:30.761Z"
   },
   {
    "duration": 202,
    "start_time": "2023-07-03T14:24:30.788Z"
   },
   {
    "duration": 6,
    "start_time": "2023-07-03T18:19:38.110Z"
   },
   {
    "duration": 3188,
    "start_time": "2023-07-03T18:19:38.119Z"
   },
   {
    "duration": 17,
    "start_time": "2023-07-03T18:19:41.309Z"
   },
   {
    "duration": 126,
    "start_time": "2023-07-03T18:19:41.329Z"
   },
   {
    "duration": 430,
    "start_time": "2023-07-03T18:19:41.458Z"
   },
   {
    "duration": 478,
    "start_time": "2023-07-03T18:19:41.890Z"
   },
   {
    "duration": 49,
    "start_time": "2023-07-03T18:19:42.371Z"
   },
   {
    "duration": 96,
    "start_time": "2023-07-03T18:19:42.423Z"
   },
   {
    "duration": 35,
    "start_time": "2023-07-03T18:19:42.521Z"
   },
   {
    "duration": 23,
    "start_time": "2023-07-03T18:19:42.558Z"
   },
   {
    "duration": 41,
    "start_time": "2023-07-03T18:19:42.583Z"
   },
   {
    "duration": 22,
    "start_time": "2023-07-03T18:19:42.626Z"
   },
   {
    "duration": 22,
    "start_time": "2023-07-03T18:19:42.650Z"
   },
   {
    "duration": 42,
    "start_time": "2023-07-03T18:19:42.676Z"
   },
   {
    "duration": 24,
    "start_time": "2023-07-03T18:19:42.720Z"
   },
   {
    "duration": 52,
    "start_time": "2023-07-03T18:19:42.746Z"
   },
   {
    "duration": 166,
    "start_time": "2023-07-03T18:19:42.800Z"
   },
   {
    "duration": 3430,
    "start_time": "2023-07-03T18:19:42.968Z"
   },
   {
    "duration": 25,
    "start_time": "2023-07-03T18:19:46.401Z"
   },
   {
    "duration": 3515,
    "start_time": "2023-07-03T18:19:46.428Z"
   },
   {
    "duration": 78,
    "start_time": "2023-07-03T18:19:49.945Z"
   },
   {
    "duration": 36,
    "start_time": "2023-07-03T18:19:50.025Z"
   },
   {
    "duration": 337,
    "start_time": "2023-07-03T18:19:50.063Z"
   },
   {
    "duration": 48,
    "start_time": "2023-07-03T18:19:50.402Z"
   },
   {
    "duration": 6,
    "start_time": "2023-07-03T18:19:50.452Z"
   },
   {
    "duration": 71,
    "start_time": "2023-07-03T18:19:50.460Z"
   },
   {
    "duration": 254,
    "start_time": "2023-07-03T18:19:50.534Z"
   },
   {
    "duration": 11,
    "start_time": "2023-07-03T18:19:50.790Z"
   },
   {
    "duration": 45,
    "start_time": "2023-07-03T18:19:50.814Z"
   },
   {
    "duration": 252,
    "start_time": "2023-07-03T18:19:50.861Z"
   },
   {
    "duration": 44,
    "start_time": "2023-07-03T18:19:51.115Z"
   },
   {
    "duration": 206,
    "start_time": "2023-07-03T18:19:51.161Z"
   },
   {
    "duration": 1679,
    "start_time": "2023-07-03T18:20:39.928Z"
   },
   {
    "duration": 3135,
    "start_time": "2023-07-03T18:20:41.610Z"
   },
   {
    "duration": 24,
    "start_time": "2023-07-03T18:20:44.747Z"
   },
   {
    "duration": 103,
    "start_time": "2023-07-03T18:20:44.773Z"
   },
   {
    "duration": 492,
    "start_time": "2023-07-03T18:20:44.879Z"
   },
   {
    "duration": 594,
    "start_time": "2023-07-03T18:20:45.373Z"
   },
   {
    "duration": 21,
    "start_time": "2023-07-03T18:20:45.969Z"
   },
   {
    "duration": 89,
    "start_time": "2023-07-03T18:20:45.992Z"
   },
   {
    "duration": 50,
    "start_time": "2023-07-03T18:20:46.083Z"
   },
   {
    "duration": 38,
    "start_time": "2023-07-03T18:20:46.135Z"
   },
   {
    "duration": 23,
    "start_time": "2023-07-03T18:20:46.175Z"
   },
   {
    "duration": 34,
    "start_time": "2023-07-03T18:20:46.200Z"
   },
   {
    "duration": 24,
    "start_time": "2023-07-03T18:20:46.237Z"
   },
   {
    "duration": 26,
    "start_time": "2023-07-03T18:20:46.265Z"
   },
   {
    "duration": 31,
    "start_time": "2023-07-03T18:20:46.294Z"
   },
   {
    "duration": 36,
    "start_time": "2023-07-03T18:20:46.327Z"
   },
   {
    "duration": 190,
    "start_time": "2023-07-03T18:20:46.366Z"
   },
   {
    "duration": 3505,
    "start_time": "2023-07-03T18:20:46.558Z"
   },
   {
    "duration": 19,
    "start_time": "2023-07-03T18:20:50.065Z"
   },
   {
    "duration": 3547,
    "start_time": "2023-07-03T18:20:50.086Z"
   },
   {
    "duration": 98,
    "start_time": "2023-07-03T18:20:53.635Z"
   },
   {
    "duration": 22,
    "start_time": "2023-07-03T18:20:53.735Z"
   },
   {
    "duration": 383,
    "start_time": "2023-07-03T18:20:53.759Z"
   },
   {
    "duration": 100,
    "start_time": "2023-07-03T18:20:54.146Z"
   },
   {
    "duration": 11,
    "start_time": "2023-07-03T18:20:54.249Z"
   },
   {
    "duration": 195,
    "start_time": "2023-07-03T18:20:54.263Z"
   },
   {
    "duration": 225,
    "start_time": "2023-07-03T18:20:54.460Z"
   },
   {
    "duration": 8,
    "start_time": "2023-07-03T18:20:54.687Z"
   },
   {
    "duration": 47,
    "start_time": "2023-07-03T18:20:54.713Z"
   },
   {
    "duration": 251,
    "start_time": "2023-07-03T18:20:54.762Z"
   },
   {
    "duration": 37,
    "start_time": "2023-07-03T18:20:55.015Z"
   },
   {
    "duration": 178,
    "start_time": "2023-07-03T18:20:55.054Z"
   },
   {
    "duration": 1817,
    "start_time": "2023-07-03T18:21:38.694Z"
   },
   {
    "duration": 3094,
    "start_time": "2023-07-03T18:21:40.516Z"
   },
   {
    "duration": 28,
    "start_time": "2023-07-03T18:21:43.612Z"
   },
   {
    "duration": 172,
    "start_time": "2023-07-03T18:21:43.642Z"
   },
   {
    "duration": 534,
    "start_time": "2023-07-03T18:21:43.817Z"
   },
   {
    "duration": 602,
    "start_time": "2023-07-03T18:21:44.352Z"
   },
   {
    "duration": 17,
    "start_time": "2023-07-03T18:21:44.955Z"
   },
   {
    "duration": 111,
    "start_time": "2023-07-03T18:21:44.974Z"
   },
   {
    "duration": 38,
    "start_time": "2023-07-03T18:21:45.087Z"
   },
   {
    "duration": 57,
    "start_time": "2023-07-03T18:21:45.127Z"
   },
   {
    "duration": 28,
    "start_time": "2023-07-03T18:21:45.186Z"
   },
   {
    "duration": 128,
    "start_time": "2023-07-03T18:21:45.216Z"
   },
   {
    "duration": 56,
    "start_time": "2023-07-03T18:21:45.347Z"
   },
   {
    "duration": 41,
    "start_time": "2023-07-03T18:21:45.409Z"
   },
   {
    "duration": 45,
    "start_time": "2023-07-03T18:21:45.453Z"
   },
   {
    "duration": 80,
    "start_time": "2023-07-03T18:21:45.500Z"
   },
   {
    "duration": 237,
    "start_time": "2023-07-03T18:21:45.582Z"
   },
   {
    "duration": 3511,
    "start_time": "2023-07-03T18:21:45.821Z"
   },
   {
    "duration": 19,
    "start_time": "2023-07-03T18:21:49.334Z"
   },
   {
    "duration": 3727,
    "start_time": "2023-07-03T18:21:49.356Z"
   },
   {
    "duration": 81,
    "start_time": "2023-07-03T18:21:53.085Z"
   },
   {
    "duration": 13,
    "start_time": "2023-07-03T18:21:53.168Z"
   },
   {
    "duration": 347,
    "start_time": "2023-07-03T18:21:53.187Z"
   },
   {
    "duration": 54,
    "start_time": "2023-07-03T18:21:53.536Z"
   },
   {
    "duration": 30,
    "start_time": "2023-07-03T18:21:53.592Z"
   },
   {
    "duration": 207,
    "start_time": "2023-07-03T18:21:53.624Z"
   },
   {
    "duration": 248,
    "start_time": "2023-07-03T18:21:53.834Z"
   },
   {
    "duration": 8,
    "start_time": "2023-07-03T18:21:54.084Z"
   },
   {
    "duration": 61,
    "start_time": "2023-07-03T18:21:54.094Z"
   },
   {
    "duration": 318,
    "start_time": "2023-07-03T18:21:54.158Z"
   },
   {
    "duration": 35,
    "start_time": "2023-07-03T18:21:54.478Z"
   },
   {
    "duration": 169,
    "start_time": "2023-07-03T18:21:54.515Z"
   },
   {
    "duration": 1756,
    "start_time": "2023-07-03T18:24:18.233Z"
   },
   {
    "duration": 3503,
    "start_time": "2023-07-03T18:24:19.992Z"
   },
   {
    "duration": 21,
    "start_time": "2023-07-03T18:24:23.496Z"
   },
   {
    "duration": 167,
    "start_time": "2023-07-03T18:24:23.520Z"
   },
   {
    "duration": 612,
    "start_time": "2023-07-03T18:24:23.689Z"
   },
   {
    "duration": 657,
    "start_time": "2023-07-03T18:24:24.303Z"
   },
   {
    "duration": 17,
    "start_time": "2023-07-03T18:24:24.962Z"
   },
   {
    "duration": 105,
    "start_time": "2023-07-03T18:24:24.980Z"
   },
   {
    "duration": 57,
    "start_time": "2023-07-03T18:24:25.087Z"
   },
   {
    "duration": 23,
    "start_time": "2023-07-03T18:24:25.146Z"
   },
   {
    "duration": 42,
    "start_time": "2023-07-03T18:24:25.171Z"
   },
   {
    "duration": 32,
    "start_time": "2023-07-03T18:24:25.216Z"
   },
   {
    "duration": 26,
    "start_time": "2023-07-03T18:24:25.249Z"
   },
   {
    "duration": 46,
    "start_time": "2023-07-03T18:24:25.277Z"
   },
   {
    "duration": 26,
    "start_time": "2023-07-03T18:24:25.324Z"
   },
   {
    "duration": 38,
    "start_time": "2023-07-03T18:24:25.351Z"
   },
   {
    "duration": 221,
    "start_time": "2023-07-03T18:24:25.390Z"
   },
   {
    "duration": 3671,
    "start_time": "2023-07-03T18:24:25.624Z"
   },
   {
    "duration": 24,
    "start_time": "2023-07-03T18:24:29.297Z"
   },
   {
    "duration": 3984,
    "start_time": "2023-07-03T18:24:29.324Z"
   },
   {
    "duration": 86,
    "start_time": "2023-07-03T18:24:33.310Z"
   },
   {
    "duration": 26,
    "start_time": "2023-07-03T18:24:33.400Z"
   },
   {
    "duration": 397,
    "start_time": "2023-07-03T18:24:33.428Z"
   },
   {
    "duration": 70,
    "start_time": "2023-07-03T18:24:33.828Z"
   },
   {
    "duration": 12,
    "start_time": "2023-07-03T18:24:33.914Z"
   },
   {
    "duration": 182,
    "start_time": "2023-07-03T18:24:33.929Z"
   },
   {
    "duration": 240,
    "start_time": "2023-07-03T18:24:34.113Z"
   },
   {
    "duration": 8,
    "start_time": "2023-07-03T18:24:34.355Z"
   },
   {
    "duration": 66,
    "start_time": "2023-07-03T18:24:34.365Z"
   },
   {
    "duration": 250,
    "start_time": "2023-07-03T18:24:34.433Z"
   },
   {
    "duration": 34,
    "start_time": "2023-07-03T18:24:34.685Z"
   },
   {
    "duration": 172,
    "start_time": "2023-07-03T18:24:34.721Z"
   },
   {
    "duration": 2046,
    "start_time": "2023-07-04T12:27:07.624Z"
   },
   {
    "duration": 4058,
    "start_time": "2023-07-04T12:27:09.675Z"
   },
   {
    "duration": 42,
    "start_time": "2023-07-04T12:27:13.735Z"
   },
   {
    "duration": 164,
    "start_time": "2023-07-04T12:27:13.779Z"
   },
   {
    "duration": 625,
    "start_time": "2023-07-04T12:27:13.946Z"
   },
   {
    "duration": 760,
    "start_time": "2023-07-04T12:27:14.574Z"
   },
   {
    "duration": 35,
    "start_time": "2023-07-04T12:27:15.337Z"
   },
   {
    "duration": 142,
    "start_time": "2023-07-04T12:27:15.380Z"
   },
   {
    "duration": 63,
    "start_time": "2023-07-04T12:27:15.524Z"
   },
   {
    "duration": 39,
    "start_time": "2023-07-04T12:27:15.589Z"
   },
   {
    "duration": 22,
    "start_time": "2023-07-04T12:27:15.630Z"
   },
   {
    "duration": 52,
    "start_time": "2023-07-04T12:27:15.654Z"
   },
   {
    "duration": 31,
    "start_time": "2023-07-04T12:27:15.709Z"
   },
   {
    "duration": 51,
    "start_time": "2023-07-04T12:27:15.743Z"
   },
   {
    "duration": 27,
    "start_time": "2023-07-04T12:27:15.804Z"
   },
   {
    "duration": 65,
    "start_time": "2023-07-04T12:27:15.833Z"
   },
   {
    "duration": 223,
    "start_time": "2023-07-04T12:27:15.901Z"
   },
   {
    "duration": 4213,
    "start_time": "2023-07-04T12:27:16.126Z"
   },
   {
    "duration": 40,
    "start_time": "2023-07-04T12:27:20.347Z"
   },
   {
    "duration": 4268,
    "start_time": "2023-07-04T12:27:20.389Z"
   },
   {
    "duration": 130,
    "start_time": "2023-07-04T12:27:24.666Z"
   },
   {
    "duration": 15,
    "start_time": "2023-07-04T12:27:24.805Z"
   },
   {
    "duration": 403,
    "start_time": "2023-07-04T12:27:24.821Z"
   },
   {
    "duration": 74,
    "start_time": "2023-07-04T12:27:25.225Z"
   },
   {
    "duration": 8,
    "start_time": "2023-07-04T12:27:25.303Z"
   },
   {
    "duration": 159,
    "start_time": "2023-07-04T12:27:25.313Z"
   },
   {
    "duration": 243,
    "start_time": "2023-07-04T12:27:25.484Z"
   },
   {
    "duration": 9,
    "start_time": "2023-07-04T12:27:25.729Z"
   },
   {
    "duration": 61,
    "start_time": "2023-07-04T12:27:25.753Z"
   },
   {
    "duration": 273,
    "start_time": "2023-07-04T12:27:25.816Z"
   },
   {
    "duration": 29,
    "start_time": "2023-07-04T12:27:26.091Z"
   },
   {
    "duration": 185,
    "start_time": "2023-07-04T12:27:26.122Z"
   },
   {
    "duration": 2613,
    "start_time": "2023-07-04T13:33:39.815Z"
   },
   {
    "duration": 5363,
    "start_time": "2023-07-04T13:33:42.435Z"
   },
   {
    "duration": 38,
    "start_time": "2023-07-04T13:33:47.801Z"
   },
   {
    "duration": 216,
    "start_time": "2023-07-04T13:33:47.842Z"
   },
   {
    "duration": 714,
    "start_time": "2023-07-04T13:33:48.061Z"
   },
   {
    "duration": 795,
    "start_time": "2023-07-04T13:33:48.781Z"
   },
   {
    "duration": 26,
    "start_time": "2023-07-04T13:33:49.577Z"
   },
   {
    "duration": 153,
    "start_time": "2023-07-04T13:33:49.613Z"
   },
   {
    "duration": 100,
    "start_time": "2023-07-04T13:33:49.772Z"
   },
   {
    "duration": 51,
    "start_time": "2023-07-04T13:33:49.874Z"
   },
   {
    "duration": 55,
    "start_time": "2023-07-04T13:33:49.927Z"
   },
   {
    "duration": 43,
    "start_time": "2023-07-04T13:33:49.987Z"
   },
   {
    "duration": 50,
    "start_time": "2023-07-04T13:33:50.033Z"
   },
   {
    "duration": 45,
    "start_time": "2023-07-04T13:33:50.097Z"
   },
   {
    "duration": 62,
    "start_time": "2023-07-04T13:33:50.144Z"
   },
   {
    "duration": 71,
    "start_time": "2023-07-04T13:33:50.210Z"
   },
   {
    "duration": 342,
    "start_time": "2023-07-04T13:33:50.283Z"
   },
   {
    "duration": 5282,
    "start_time": "2023-07-04T13:33:50.634Z"
   },
   {
    "duration": 46,
    "start_time": "2023-07-04T13:33:55.918Z"
   },
   {
    "duration": 4948,
    "start_time": "2023-07-04T13:33:55.967Z"
   },
   {
    "duration": 145,
    "start_time": "2023-07-04T13:34:00.918Z"
   },
   {
    "duration": 42,
    "start_time": "2023-07-04T13:34:01.068Z"
   },
   {
    "duration": 428,
    "start_time": "2023-07-04T13:34:01.120Z"
   },
   {
    "duration": 74,
    "start_time": "2023-07-04T13:34:01.549Z"
   },
   {
    "duration": 9,
    "start_time": "2023-07-04T13:34:01.626Z"
   },
   {
    "duration": 195,
    "start_time": "2023-07-04T13:34:01.637Z"
   },
   {
    "duration": 281,
    "start_time": "2023-07-04T13:34:01.834Z"
   },
   {
    "duration": 7,
    "start_time": "2023-07-04T13:34:02.118Z"
   },
   {
    "duration": 106,
    "start_time": "2023-07-04T13:34:02.127Z"
   },
   {
    "duration": 292,
    "start_time": "2023-07-04T13:34:02.235Z"
   },
   {
    "duration": 42,
    "start_time": "2023-07-04T13:34:02.530Z"
   },
   {
    "duration": 191,
    "start_time": "2023-07-04T13:34:02.577Z"
   },
   {
    "duration": 4041,
    "start_time": "2023-07-04T13:35:01.698Z"
   },
   {
    "duration": 4262,
    "start_time": "2023-07-04T13:35:05.741Z"
   },
   {
    "duration": 32,
    "start_time": "2023-07-04T13:35:10.005Z"
   },
   {
    "duration": 192,
    "start_time": "2023-07-04T13:35:10.039Z"
   },
   {
    "duration": 681,
    "start_time": "2023-07-04T13:35:10.234Z"
   },
   {
    "duration": 781,
    "start_time": "2023-07-04T13:35:10.917Z"
   },
   {
    "duration": 21,
    "start_time": "2023-07-04T13:35:11.700Z"
   },
   {
    "duration": 152,
    "start_time": "2023-07-04T13:35:11.723Z"
   },
   {
    "duration": 44,
    "start_time": "2023-07-04T13:35:11.877Z"
   },
   {
    "duration": 41,
    "start_time": "2023-07-04T13:35:11.923Z"
   },
   {
    "duration": 32,
    "start_time": "2023-07-04T13:35:11.978Z"
   },
   {
    "duration": 64,
    "start_time": "2023-07-04T13:35:12.012Z"
   },
   {
    "duration": 32,
    "start_time": "2023-07-04T13:35:12.079Z"
   },
   {
    "duration": 32,
    "start_time": "2023-07-04T13:35:12.116Z"
   },
   {
    "duration": 67,
    "start_time": "2023-07-04T13:35:12.150Z"
   },
   {
    "duration": 48,
    "start_time": "2023-07-04T13:35:12.218Z"
   },
   {
    "duration": 245,
    "start_time": "2023-07-04T13:35:12.270Z"
   },
   {
    "duration": 4374,
    "start_time": "2023-07-04T13:35:12.517Z"
   },
   {
    "duration": 40,
    "start_time": "2023-07-04T13:35:16.898Z"
   },
   {
    "duration": 4621,
    "start_time": "2023-07-04T13:35:16.941Z"
   },
   {
    "duration": 143,
    "start_time": "2023-07-04T13:35:21.568Z"
   },
   {
    "duration": 19,
    "start_time": "2023-07-04T13:35:21.715Z"
   },
   {
    "duration": 442,
    "start_time": "2023-07-04T13:35:21.737Z"
   },
   {
    "duration": 61,
    "start_time": "2023-07-04T13:35:22.181Z"
   },
   {
    "duration": 121,
    "start_time": "2023-07-04T13:35:22.244Z"
   },
   {
    "duration": 79,
    "start_time": "2023-07-04T13:35:22.371Z"
   },
   {
    "duration": 284,
    "start_time": "2023-07-04T13:35:22.452Z"
   },
   {
    "duration": 37,
    "start_time": "2023-07-04T13:35:22.738Z"
   },
   {
    "duration": 69,
    "start_time": "2023-07-04T13:35:22.779Z"
   },
   {
    "duration": 356,
    "start_time": "2023-07-04T13:35:22.850Z"
   },
   {
    "duration": 31,
    "start_time": "2023-07-04T13:35:23.208Z"
   },
   {
    "duration": 196,
    "start_time": "2023-07-04T13:35:23.241Z"
   },
   {
    "duration": 81,
    "start_time": "2023-07-04T13:45:06.005Z"
   },
   {
    "duration": 7,
    "start_time": "2023-07-04T13:45:26.620Z"
   },
   {
    "duration": 2442,
    "start_time": "2023-07-04T13:45:29.305Z"
   },
   {
    "duration": 4287,
    "start_time": "2023-07-04T13:45:31.750Z"
   },
   {
    "duration": 32,
    "start_time": "2023-07-04T13:45:36.039Z"
   },
   {
    "duration": 165,
    "start_time": "2023-07-04T13:45:36.078Z"
   },
   {
    "duration": 657,
    "start_time": "2023-07-04T13:45:36.246Z"
   },
   {
    "duration": 709,
    "start_time": "2023-07-04T13:45:36.905Z"
   },
   {
    "duration": 45,
    "start_time": "2023-07-04T13:45:37.623Z"
   },
   {
    "duration": 171,
    "start_time": "2023-07-04T13:45:37.670Z"
   },
   {
    "duration": 88,
    "start_time": "2023-07-04T13:45:37.844Z"
   },
   {
    "duration": 39,
    "start_time": "2023-07-04T13:45:37.934Z"
   },
   {
    "duration": 49,
    "start_time": "2023-07-04T13:45:37.976Z"
   },
   {
    "duration": 42,
    "start_time": "2023-07-04T13:45:38.027Z"
   },
   {
    "duration": 48,
    "start_time": "2023-07-04T13:45:38.073Z"
   },
   {
    "duration": 39,
    "start_time": "2023-07-04T13:45:38.126Z"
   },
   {
    "duration": 55,
    "start_time": "2023-07-04T13:45:38.167Z"
   },
   {
    "duration": 67,
    "start_time": "2023-07-04T13:45:38.224Z"
   },
   {
    "duration": 298,
    "start_time": "2023-07-04T13:45:38.295Z"
   },
   {
    "duration": 4349,
    "start_time": "2023-07-04T13:45:38.596Z"
   },
   {
    "duration": 61,
    "start_time": "2023-07-04T13:45:42.947Z"
   },
   {
    "duration": 4576,
    "start_time": "2023-07-04T13:45:43.013Z"
   },
   {
    "duration": 184,
    "start_time": "2023-07-04T13:45:47.592Z"
   },
   {
    "duration": 17,
    "start_time": "2023-07-04T13:45:47.778Z"
   },
   {
    "duration": 535,
    "start_time": "2023-07-04T13:45:47.798Z"
   },
   {
    "duration": 85,
    "start_time": "2023-07-04T13:45:48.335Z"
   },
   {
    "duration": 9,
    "start_time": "2023-07-04T13:45:48.426Z"
   },
   {
    "duration": 169,
    "start_time": "2023-07-04T13:45:48.437Z"
   },
   {
    "duration": 233,
    "start_time": "2023-07-04T13:45:48.607Z"
   },
   {
    "duration": 22,
    "start_time": "2023-07-04T13:45:48.842Z"
   },
   {
    "duration": 51,
    "start_time": "2023-07-04T13:45:48.873Z"
   },
   {
    "duration": 279,
    "start_time": "2023-07-04T13:45:48.926Z"
   },
   {
    "duration": 159,
    "start_time": "2023-07-04T13:45:49.206Z"
   },
   {
    "duration": 36,
    "start_time": "2023-07-04T13:45:49.378Z"
   },
   {
    "duration": 188,
    "start_time": "2023-07-04T13:45:49.416Z"
   },
   {
    "duration": 69,
    "start_time": "2023-07-04T14:36:52.004Z"
   },
   {
    "duration": 1730,
    "start_time": "2023-07-04T14:37:21.351Z"
   },
   {
    "duration": 3831,
    "start_time": "2023-07-04T14:37:23.096Z"
   },
   {
    "duration": 38,
    "start_time": "2023-07-04T14:37:26.929Z"
   },
   {
    "duration": 103,
    "start_time": "2023-07-04T14:37:26.969Z"
   },
   {
    "duration": 614,
    "start_time": "2023-07-04T14:37:27.074Z"
   },
   {
    "duration": 695,
    "start_time": "2023-07-04T14:37:27.691Z"
   },
   {
    "duration": 25,
    "start_time": "2023-07-04T14:37:28.391Z"
   },
   {
    "duration": 124,
    "start_time": "2023-07-04T14:37:28.418Z"
   },
   {
    "duration": 73,
    "start_time": "2023-07-04T14:37:28.544Z"
   },
   {
    "duration": 23,
    "start_time": "2023-07-04T14:37:28.619Z"
   },
   {
    "duration": 75,
    "start_time": "2023-07-04T14:37:28.644Z"
   },
   {
    "duration": 80,
    "start_time": "2023-07-04T14:37:28.721Z"
   },
   {
    "duration": 65,
    "start_time": "2023-07-04T14:37:28.803Z"
   },
   {
    "duration": 27,
    "start_time": "2023-07-04T14:37:28.878Z"
   },
   {
    "duration": 41,
    "start_time": "2023-07-04T14:37:28.907Z"
   },
   {
    "duration": 62,
    "start_time": "2023-07-04T14:37:28.950Z"
   },
   {
    "duration": 218,
    "start_time": "2023-07-04T14:37:29.014Z"
   },
   {
    "duration": 4082,
    "start_time": "2023-07-04T14:37:29.234Z"
   },
   {
    "duration": 42,
    "start_time": "2023-07-04T14:37:33.318Z"
   },
   {
    "duration": 4107,
    "start_time": "2023-07-04T14:37:33.368Z"
   },
   {
    "duration": 118,
    "start_time": "2023-07-04T14:37:37.480Z"
   },
   {
    "duration": 18,
    "start_time": "2023-07-04T14:37:37.600Z"
   },
   {
    "duration": 391,
    "start_time": "2023-07-04T14:37:37.620Z"
   },
   {
    "duration": 71,
    "start_time": "2023-07-04T14:37:38.013Z"
   },
   {
    "duration": 7,
    "start_time": "2023-07-04T14:37:38.086Z"
   },
   {
    "duration": 150,
    "start_time": "2023-07-04T14:37:38.094Z"
   },
   {
    "duration": 265,
    "start_time": "2023-07-04T14:37:38.246Z"
   },
   {
    "duration": 116,
    "start_time": "2023-07-04T14:37:38.512Z"
   },
   {
    "duration": 9,
    "start_time": "2023-07-04T14:37:38.631Z"
   },
   {
    "duration": 61,
    "start_time": "2023-07-04T14:37:38.641Z"
   },
   {
    "duration": 244,
    "start_time": "2023-07-04T14:37:38.704Z"
   },
   {
    "duration": 156,
    "start_time": "2023-07-04T14:37:38.954Z"
   },
   {
    "duration": 58,
    "start_time": "2023-07-04T14:37:39.111Z"
   },
   {
    "duration": 154,
    "start_time": "2023-07-04T14:37:39.176Z"
   },
   {
    "duration": 1909,
    "start_time": "2023-07-04T14:40:44.551Z"
   },
   {
    "duration": 4280,
    "start_time": "2023-07-04T14:40:47.334Z"
   },
   {
    "duration": 21,
    "start_time": "2023-07-04T14:40:53.108Z"
   },
   {
    "duration": 170,
    "start_time": "2023-07-04T14:40:53.724Z"
   },
   {
    "duration": 601,
    "start_time": "2023-07-04T14:40:54.837Z"
   },
   {
    "duration": 728,
    "start_time": "2023-07-04T14:40:56.604Z"
   },
   {
    "duration": 25,
    "start_time": "2023-07-04T14:41:01.251Z"
   },
   {
    "duration": 151,
    "start_time": "2023-07-04T14:41:02.750Z"
   },
   {
    "duration": 60,
    "start_time": "2023-07-04T14:41:04.554Z"
   },
   {
    "duration": 43,
    "start_time": "2023-07-04T14:41:06.974Z"
   },
   {
    "duration": 44,
    "start_time": "2023-07-04T14:41:08.844Z"
   },
   {
    "duration": 33,
    "start_time": "2023-07-04T14:41:11.742Z"
   },
   {
    "duration": 25,
    "start_time": "2023-07-04T14:41:14.700Z"
   },
   {
    "duration": 49,
    "start_time": "2023-07-04T14:41:17.524Z"
   },
   {
    "duration": 40,
    "start_time": "2023-07-04T14:41:19.044Z"
   },
   {
    "duration": 36,
    "start_time": "2023-07-04T14:41:20.099Z"
   },
   {
    "duration": 225,
    "start_time": "2023-07-04T14:41:22.336Z"
   },
   {
    "duration": 3996,
    "start_time": "2023-07-04T14:41:23.148Z"
   },
   {
    "duration": 46,
    "start_time": "2023-07-04T14:41:27.146Z"
   },
   {
    "duration": 4049,
    "start_time": "2023-07-04T14:41:32.544Z"
   },
   {
    "duration": 118,
    "start_time": "2023-07-04T14:41:36.595Z"
   },
   {
    "duration": 13,
    "start_time": "2023-07-04T14:41:39.216Z"
   },
   {
    "duration": 368,
    "start_time": "2023-07-04T14:41:40.128Z"
   },
   {
    "duration": 62,
    "start_time": "2023-07-04T14:41:41.774Z"
   },
   {
    "duration": 8,
    "start_time": "2023-07-04T14:41:43.040Z"
   },
   {
    "duration": 128,
    "start_time": "2023-07-04T14:41:46.208Z"
   },
   {
    "duration": 257,
    "start_time": "2023-07-04T14:41:46.936Z"
   },
   {
    "duration": 119,
    "start_time": "2023-07-04T14:41:47.912Z"
   },
   {
    "duration": 16,
    "start_time": "2023-07-04T14:41:50.244Z"
   },
   {
    "duration": 46,
    "start_time": "2023-07-04T14:41:50.895Z"
   },
   {
    "duration": 262,
    "start_time": "2023-07-04T14:41:54.124Z"
   },
   {
    "duration": 166,
    "start_time": "2023-07-04T14:41:54.704Z"
   },
   {
    "duration": 4,
    "start_time": "2023-07-04T15:00:59.034Z"
   },
   {
    "duration": 1060,
    "start_time": "2023-07-04T15:00:59.040Z"
   },
   {
    "duration": 20,
    "start_time": "2023-07-04T15:01:00.103Z"
   },
   {
    "duration": 141,
    "start_time": "2023-07-04T15:01:00.125Z"
   },
   {
    "duration": 523,
    "start_time": "2023-07-04T15:01:00.277Z"
   },
   {
    "duration": 596,
    "start_time": "2023-07-04T15:01:00.801Z"
   },
   {
    "duration": 25,
    "start_time": "2023-07-04T15:01:01.399Z"
   },
   {
    "duration": 147,
    "start_time": "2023-07-04T15:01:01.426Z"
   },
   {
    "duration": 46,
    "start_time": "2023-07-04T15:01:01.577Z"
   },
   {
    "duration": 22,
    "start_time": "2023-07-04T15:01:01.626Z"
   },
   {
    "duration": 63,
    "start_time": "2023-07-04T15:01:01.660Z"
   },
   {
    "duration": 81,
    "start_time": "2023-07-04T15:01:01.725Z"
   },
   {
    "duration": 84,
    "start_time": "2023-07-04T15:01:01.808Z"
   },
   {
    "duration": 24,
    "start_time": "2023-07-04T15:01:01.894Z"
   },
   {
    "duration": 45,
    "start_time": "2023-07-04T15:01:01.920Z"
   },
   {
    "duration": 66,
    "start_time": "2023-07-04T15:01:01.967Z"
   },
   {
    "duration": 252,
    "start_time": "2023-07-04T15:01:02.035Z"
   },
   {
    "duration": 3969,
    "start_time": "2023-07-04T15:01:02.289Z"
   },
   {
    "duration": 41,
    "start_time": "2023-07-04T15:01:06.259Z"
   },
   {
    "duration": 4218,
    "start_time": "2023-07-04T15:01:06.302Z"
   },
   {
    "duration": 120,
    "start_time": "2023-07-04T15:01:10.522Z"
   },
   {
    "duration": 35,
    "start_time": "2023-07-04T15:01:10.643Z"
   },
   {
    "duration": 353,
    "start_time": "2023-07-04T15:01:10.680Z"
   },
   {
    "duration": 47,
    "start_time": "2023-07-04T15:01:11.035Z"
   },
   {
    "duration": 13,
    "start_time": "2023-07-04T15:01:11.089Z"
   },
   {
    "duration": 27,
    "start_time": "2023-07-04T15:01:11.104Z"
   },
   {
    "duration": 274,
    "start_time": "2023-07-04T15:01:11.133Z"
   },
   {
    "duration": 128,
    "start_time": "2023-07-04T15:01:11.413Z"
   },
   {
    "duration": 12,
    "start_time": "2023-07-04T15:01:11.543Z"
   },
   {
    "duration": 55,
    "start_time": "2023-07-04T15:01:11.556Z"
   },
   {
    "duration": 269,
    "start_time": "2023-07-04T15:01:11.613Z"
   },
   {
    "duration": 116,
    "start_time": "2023-07-04T15:01:11.885Z"
   },
   {
    "duration": 15,
    "start_time": "2023-07-04T15:01:12.003Z"
   },
   {
    "duration": 88,
    "start_time": "2023-07-04T15:01:12.020Z"
   },
   {
    "duration": 1410,
    "start_time": "2023-07-04T15:01:12.109Z"
   },
   {
    "duration": 489005,
    "start_time": "2023-07-04T15:01:13.521Z"
   },
   {
    "duration": 1720,
    "start_time": "2023-07-04T16:05:36.418Z"
   },
   {
    "duration": 993,
    "start_time": "2023-07-04T16:05:38.140Z"
   },
   {
    "duration": 30,
    "start_time": "2023-07-04T16:05:39.136Z"
   },
   {
    "duration": 159,
    "start_time": "2023-07-04T16:05:39.168Z"
   },
   {
    "duration": 540,
    "start_time": "2023-07-04T16:05:39.329Z"
   },
   {
    "duration": 784,
    "start_time": "2023-07-04T16:05:39.871Z"
   },
   {
    "duration": 19,
    "start_time": "2023-07-04T16:05:40.657Z"
   },
   {
    "duration": 100,
    "start_time": "2023-07-04T16:05:40.678Z"
   },
   {
    "duration": 34,
    "start_time": "2023-07-04T16:05:40.779Z"
   },
   {
    "duration": 21,
    "start_time": "2023-07-04T16:05:40.815Z"
   },
   {
    "duration": 37,
    "start_time": "2023-07-04T16:05:40.838Z"
   },
   {
    "duration": 24,
    "start_time": "2023-07-04T16:05:40.877Z"
   },
   {
    "duration": 92,
    "start_time": "2023-07-04T16:05:40.903Z"
   },
   {
    "duration": 83,
    "start_time": "2023-07-04T16:05:41.000Z"
   },
   {
    "duration": 87,
    "start_time": "2023-07-04T16:05:41.085Z"
   },
   {
    "duration": 87,
    "start_time": "2023-07-04T16:05:41.174Z"
   },
   {
    "duration": 333,
    "start_time": "2023-07-04T16:05:41.263Z"
   },
   {
    "duration": 3568,
    "start_time": "2023-07-04T16:05:41.598Z"
   },
   {
    "duration": 21,
    "start_time": "2023-07-04T16:05:45.172Z"
   },
   {
    "duration": 3804,
    "start_time": "2023-07-04T16:05:45.194Z"
   },
   {
    "duration": 104,
    "start_time": "2023-07-04T16:05:49.000Z"
   },
   {
    "duration": 13,
    "start_time": "2023-07-04T16:05:49.106Z"
   },
   {
    "duration": 349,
    "start_time": "2023-07-04T16:05:49.120Z"
   },
   {
    "duration": 38,
    "start_time": "2023-07-04T16:05:49.471Z"
   },
   {
    "duration": 10,
    "start_time": "2023-07-04T16:05:49.511Z"
   },
   {
    "duration": 124,
    "start_time": "2023-07-04T16:05:49.523Z"
   },
   {
    "duration": 238,
    "start_time": "2023-07-04T16:05:49.649Z"
   },
   {
    "duration": 111,
    "start_time": "2023-07-04T16:05:49.889Z"
   },
   {
    "duration": 8,
    "start_time": "2023-07-04T16:05:50.002Z"
   },
   {
    "duration": 76,
    "start_time": "2023-07-04T16:05:50.011Z"
   },
   {
    "duration": 235,
    "start_time": "2023-07-04T16:05:50.089Z"
   },
   {
    "duration": 105,
    "start_time": "2023-07-04T16:05:50.326Z"
   },
   {
    "duration": 33,
    "start_time": "2023-07-04T16:05:50.432Z"
   },
   {
    "duration": 75,
    "start_time": "2023-07-04T16:05:50.467Z"
   },
   {
    "duration": 1338,
    "start_time": "2023-07-04T16:05:50.555Z"
   },
   {
    "duration": 451102,
    "start_time": "2023-07-04T16:05:51.895Z"
   },
   {
    "duration": 4,
    "start_time": "2023-07-04T16:13:22.999Z"
   },
   {
    "duration": 18846559,
    "start_time": "2023-07-04T16:13:23.005Z"
   },
   {
    "duration": 1675,
    "start_time": "2023-07-05T13:17:27.560Z"
   },
   {
    "duration": 2876,
    "start_time": "2023-07-05T13:17:29.775Z"
   },
   {
    "duration": 4,
    "start_time": "2023-07-05T13:17:35.226Z"
   },
   {
    "duration": 886,
    "start_time": "2023-07-05T13:17:35.232Z"
   },
   {
    "duration": 19,
    "start_time": "2023-07-05T13:17:36.120Z"
   },
   {
    "duration": 106,
    "start_time": "2023-07-05T13:17:36.141Z"
   },
   {
    "duration": 469,
    "start_time": "2023-07-05T13:17:36.260Z"
   },
   {
    "duration": 566,
    "start_time": "2023-07-05T13:17:36.731Z"
   },
   {
    "duration": 17,
    "start_time": "2023-07-05T13:17:37.299Z"
   },
   {
    "duration": 82,
    "start_time": "2023-07-05T13:17:37.318Z"
   },
   {
    "duration": 32,
    "start_time": "2023-07-05T13:17:37.402Z"
   },
   {
    "duration": 35,
    "start_time": "2023-07-05T13:17:37.435Z"
   },
   {
    "duration": 23,
    "start_time": "2023-07-05T13:17:37.472Z"
   },
   {
    "duration": 39,
    "start_time": "2023-07-05T13:17:37.497Z"
   },
   {
    "duration": 32,
    "start_time": "2023-07-05T13:17:37.538Z"
   },
   {
    "duration": 26,
    "start_time": "2023-07-05T13:17:37.573Z"
   },
   {
    "duration": 22,
    "start_time": "2023-07-05T13:17:37.601Z"
   },
   {
    "duration": 37,
    "start_time": "2023-07-05T13:17:37.625Z"
   },
   {
    "duration": 166,
    "start_time": "2023-07-05T13:17:37.664Z"
   },
   {
    "duration": 3186,
    "start_time": "2023-07-05T13:17:37.832Z"
   },
   {
    "duration": 16,
    "start_time": "2023-07-05T13:17:41.020Z"
   },
   {
    "duration": 3424,
    "start_time": "2023-07-05T13:17:41.038Z"
   },
   {
    "duration": 68,
    "start_time": "2023-07-05T13:17:44.465Z"
   },
   {
    "duration": 25,
    "start_time": "2023-07-05T13:17:44.535Z"
   },
   {
    "duration": 311,
    "start_time": "2023-07-05T13:17:44.561Z"
   },
   {
    "duration": 28,
    "start_time": "2023-07-05T13:17:44.874Z"
   },
   {
    "duration": 6,
    "start_time": "2023-07-05T13:17:44.904Z"
   },
   {
    "duration": 137,
    "start_time": "2023-07-05T13:17:44.911Z"
   },
   {
    "duration": 213,
    "start_time": "2023-07-05T13:17:45.050Z"
   },
   {
    "duration": 85,
    "start_time": "2023-07-05T13:17:45.264Z"
   },
   {
    "duration": 7,
    "start_time": "2023-07-05T13:17:45.360Z"
   },
   {
    "duration": 58,
    "start_time": "2023-07-05T13:17:45.369Z"
   },
   {
    "duration": 236,
    "start_time": "2023-07-05T13:17:45.429Z"
   },
   {
    "duration": 71,
    "start_time": "2023-07-05T13:17:45.666Z"
   },
   {
    "duration": 33,
    "start_time": "2023-07-05T13:17:45.739Z"
   },
   {
    "duration": 90,
    "start_time": "2023-07-05T13:17:45.774Z"
   },
   {
    "duration": 1557,
    "start_time": "2023-07-05T13:17:45.866Z"
   },
   {
    "duration": 480729,
    "start_time": "2023-07-05T13:17:47.425Z"
   },
   {
    "duration": 2,
    "start_time": "2023-07-05T13:25:48.159Z"
   },
   {
    "duration": 728002,
    "start_time": "2023-07-05T13:25:48.163Z"
   },
   {
    "duration": 12,
    "start_time": "2023-07-05T13:41:44.821Z"
   },
   {
    "duration": 11,
    "start_time": "2023-07-05T13:41:55.682Z"
   },
   {
    "duration": 18,
    "start_time": "2023-07-05T13:45:01.204Z"
   },
   {
    "duration": 10,
    "start_time": "2023-07-05T13:45:53.777Z"
   },
   {
    "duration": 1649,
    "start_time": "2023-07-05T13:50:00.370Z"
   },
   {
    "duration": 876,
    "start_time": "2023-07-05T13:50:02.023Z"
   },
   {
    "duration": 19,
    "start_time": "2023-07-05T13:50:02.901Z"
   },
   {
    "duration": 168,
    "start_time": "2023-07-05T13:50:02.921Z"
   },
   {
    "duration": 488,
    "start_time": "2023-07-05T13:50:03.091Z"
   },
   {
    "duration": 603,
    "start_time": "2023-07-05T13:50:03.581Z"
   },
   {
    "duration": 20,
    "start_time": "2023-07-05T13:50:04.187Z"
   },
   {
    "duration": 102,
    "start_time": "2023-07-05T13:50:04.209Z"
   },
   {
    "duration": 36,
    "start_time": "2023-07-05T13:50:04.312Z"
   },
   {
    "duration": 29,
    "start_time": "2023-07-05T13:50:04.350Z"
   },
   {
    "duration": 29,
    "start_time": "2023-07-05T13:50:04.381Z"
   },
   {
    "duration": 45,
    "start_time": "2023-07-05T13:50:04.412Z"
   },
   {
    "duration": 57,
    "start_time": "2023-07-05T13:50:04.459Z"
   },
   {
    "duration": 34,
    "start_time": "2023-07-05T13:50:04.519Z"
   },
   {
    "duration": 23,
    "start_time": "2023-07-05T13:50:04.556Z"
   },
   {
    "duration": 42,
    "start_time": "2023-07-05T13:50:04.581Z"
   },
   {
    "duration": 175,
    "start_time": "2023-07-05T13:50:04.625Z"
   },
   {
    "duration": 3246,
    "start_time": "2023-07-05T13:50:04.802Z"
   },
   {
    "duration": 17,
    "start_time": "2023-07-05T13:50:08.050Z"
   },
   {
    "duration": 3248,
    "start_time": "2023-07-05T13:50:08.068Z"
   },
   {
    "duration": 76,
    "start_time": "2023-07-05T13:50:11.318Z"
   },
   {
    "duration": 17,
    "start_time": "2023-07-05T13:50:11.396Z"
   },
   {
    "duration": 318,
    "start_time": "2023-07-05T13:50:11.415Z"
   },
   {
    "duration": 46,
    "start_time": "2023-07-05T13:50:11.734Z"
   },
   {
    "duration": 6,
    "start_time": "2023-07-05T13:50:11.782Z"
   },
   {
    "duration": 125,
    "start_time": "2023-07-05T13:50:11.789Z"
   },
   {
    "duration": 216,
    "start_time": "2023-07-05T13:50:11.916Z"
   },
   {
    "duration": 89,
    "start_time": "2023-07-05T13:50:12.134Z"
   },
   {
    "duration": 8,
    "start_time": "2023-07-05T13:50:12.225Z"
   },
   {
    "duration": 76,
    "start_time": "2023-07-05T13:50:12.234Z"
   },
   {
    "duration": 221,
    "start_time": "2023-07-05T13:50:12.312Z"
   },
   {
    "duration": 71,
    "start_time": "2023-07-05T13:50:12.535Z"
   },
   {
    "duration": 17,
    "start_time": "2023-07-05T13:50:12.608Z"
   },
   {
    "duration": 85,
    "start_time": "2023-07-05T13:50:12.627Z"
   },
   {
    "duration": 1261,
    "start_time": "2023-07-05T13:50:12.714Z"
   },
   {
    "duration": 470841,
    "start_time": "2023-07-05T13:50:13.977Z"
   },
   {
    "duration": 2698680,
    "start_time": "2023-07-05T13:58:04.821Z"
   },
   {
    "duration": 864070,
    "start_time": "2023-07-05T14:43:03.504Z"
   },
   {
    "duration": 65429,
    "start_time": "2023-07-05T15:12:14.718Z"
   },
   {
    "duration": 299,
    "start_time": "2023-07-05T15:13:26.457Z"
   },
   {
    "duration": 6,
    "start_time": "2023-07-05T15:13:30.169Z"
   },
   {
    "duration": 202709,
    "start_time": "2023-07-05T15:13:34.840Z"
   },
   {
    "duration": 573,
    "start_time": "2023-07-05T15:22:00.049Z"
   },
   {
    "duration": 5,
    "start_time": "2023-07-05T15:22:01.899Z"
   },
   {
    "duration": 23291,
    "start_time": "2023-07-05T15:22:08.478Z"
   },
   {
    "duration": 1875,
    "start_time": "2023-07-05T15:23:08.890Z"
   },
   {
    "duration": 4,
    "start_time": "2023-07-05T15:23:11.569Z"
   },
   {
    "duration": 56,
    "start_time": "2023-07-06T10:35:53.382Z"
   },
   {
    "duration": 2441,
    "start_time": "2023-07-06T10:36:03.820Z"
   },
   {
    "duration": 3462,
    "start_time": "2023-07-06T10:36:06.265Z"
   },
   {
    "duration": 47,
    "start_time": "2023-07-06T10:36:10.851Z"
   },
   {
    "duration": 179,
    "start_time": "2023-07-06T10:36:11.458Z"
   },
   {
    "duration": 651,
    "start_time": "2023-07-06T10:36:12.417Z"
   },
   {
    "duration": 821,
    "start_time": "2023-07-06T10:36:13.394Z"
   },
   {
    "duration": 28,
    "start_time": "2023-07-06T10:36:14.220Z"
   },
   {
    "duration": 94,
    "start_time": "2023-07-06T10:36:15.126Z"
   },
   {
    "duration": 52,
    "start_time": "2023-07-06T10:36:18.522Z"
   },
   {
    "duration": 23,
    "start_time": "2023-07-06T10:36:19.303Z"
   },
   {
    "duration": 33,
    "start_time": "2023-07-06T10:36:20.022Z"
   },
   {
    "duration": 35,
    "start_time": "2023-07-06T10:36:23.048Z"
   },
   {
    "duration": 35,
    "start_time": "2023-07-06T10:36:23.532Z"
   },
   {
    "duration": 28,
    "start_time": "2023-07-06T10:36:27.222Z"
   },
   {
    "duration": 36,
    "start_time": "2023-07-06T10:36:27.710Z"
   },
   {
    "duration": 54,
    "start_time": "2023-07-06T10:36:27.912Z"
   },
   {
    "duration": 276,
    "start_time": "2023-07-06T10:36:28.348Z"
   },
   {
    "duration": 4474,
    "start_time": "2023-07-06T10:36:31.560Z"
   },
   {
    "duration": 36,
    "start_time": "2023-07-06T10:36:36.036Z"
   },
   {
    "duration": 5109,
    "start_time": "2023-07-06T10:36:36.074Z"
   },
   {
    "duration": 24,
    "start_time": "2023-07-06T10:36:41.186Z"
   },
   {
    "duration": 210,
    "start_time": "2023-07-06T10:38:56.154Z"
   },
   {
    "duration": 4447,
    "start_time": "2023-07-06T10:39:02.960Z"
   },
   {
    "duration": 129,
    "start_time": "2023-07-06T11:33:45.032Z"
   },
   {
    "duration": 4,
    "start_time": "2023-07-06T11:33:51.012Z"
   },
   {
    "duration": 3431,
    "start_time": "2023-07-06T11:33:51.019Z"
   },
   {
    "duration": 19,
    "start_time": "2023-07-06T11:33:54.452Z"
   },
   {
    "duration": 114,
    "start_time": "2023-07-06T11:33:54.473Z"
   },
   {
    "duration": 495,
    "start_time": "2023-07-06T11:33:54.590Z"
   },
   {
    "duration": 574,
    "start_time": "2023-07-06T11:33:55.087Z"
   },
   {
    "duration": 26,
    "start_time": "2023-07-06T11:33:55.663Z"
   },
   {
    "duration": 86,
    "start_time": "2023-07-06T11:33:55.691Z"
   },
   {
    "duration": 40,
    "start_time": "2023-07-06T11:33:55.784Z"
   },
   {
    "duration": 24,
    "start_time": "2023-07-06T11:33:55.826Z"
   },
   {
    "duration": 42,
    "start_time": "2023-07-06T11:33:55.851Z"
   },
   {
    "duration": 23,
    "start_time": "2023-07-06T11:33:55.895Z"
   },
   {
    "duration": 22,
    "start_time": "2023-07-06T11:33:55.920Z"
   },
   {
    "duration": 48,
    "start_time": "2023-07-06T11:33:55.946Z"
   },
   {
    "duration": 22,
    "start_time": "2023-07-06T11:33:55.995Z"
   },
   {
    "duration": 35,
    "start_time": "2023-07-06T11:33:56.019Z"
   },
   {
    "duration": 184,
    "start_time": "2023-07-06T11:33:56.067Z"
   },
   {
    "duration": 3530,
    "start_time": "2023-07-06T11:33:56.253Z"
   },
   {
    "duration": 166,
    "start_time": "2023-07-06T11:33:59.789Z"
   },
   {
    "duration": 3706,
    "start_time": "2023-07-06T11:33:59.957Z"
   },
   {
    "duration": 12,
    "start_time": "2023-07-06T11:34:03.665Z"
   },
   {
    "duration": 38,
    "start_time": "2023-07-06T11:34:03.682Z"
   },
   {
    "duration": 10,
    "start_time": "2023-07-06T11:34:03.722Z"
   },
   {
    "duration": 51,
    "start_time": "2023-07-06T11:34:03.734Z"
   },
   {
    "duration": 0,
    "start_time": "2023-07-06T11:34:03.789Z"
   },
   {
    "duration": 0,
    "start_time": "2023-07-06T11:34:03.791Z"
   },
   {
    "duration": 0,
    "start_time": "2023-07-06T11:34:03.793Z"
   },
   {
    "duration": 0,
    "start_time": "2023-07-06T11:34:03.794Z"
   },
   {
    "duration": 0,
    "start_time": "2023-07-06T11:34:03.796Z"
   },
   {
    "duration": 0,
    "start_time": "2023-07-06T11:34:03.798Z"
   },
   {
    "duration": 0,
    "start_time": "2023-07-06T11:34:03.799Z"
   },
   {
    "duration": 0,
    "start_time": "2023-07-06T11:34:03.800Z"
   },
   {
    "duration": 0,
    "start_time": "2023-07-06T11:34:03.802Z"
   },
   {
    "duration": 0,
    "start_time": "2023-07-06T11:34:03.803Z"
   },
   {
    "duration": 0,
    "start_time": "2023-07-06T11:34:03.805Z"
   },
   {
    "duration": 0,
    "start_time": "2023-07-06T11:34:03.806Z"
   },
   {
    "duration": 0,
    "start_time": "2023-07-06T11:34:03.809Z"
   },
   {
    "duration": 0,
    "start_time": "2023-07-06T11:34:03.809Z"
   },
   {
    "duration": 0,
    "start_time": "2023-07-06T11:34:03.810Z"
   },
   {
    "duration": 0,
    "start_time": "2023-07-06T11:34:03.812Z"
   },
   {
    "duration": 0,
    "start_time": "2023-07-06T11:34:03.813Z"
   },
   {
    "duration": 1,
    "start_time": "2023-07-06T11:34:03.813Z"
   },
   {
    "duration": 0,
    "start_time": "2023-07-06T11:34:03.815Z"
   },
   {
    "duration": 0,
    "start_time": "2023-07-06T11:34:03.816Z"
   },
   {
    "duration": 308,
    "start_time": "2023-07-06T11:34:11.783Z"
   },
   {
    "duration": 30,
    "start_time": "2023-07-06T11:35:28.494Z"
   },
   {
    "duration": 250,
    "start_time": "2023-07-06T11:35:45.944Z"
   },
   {
    "duration": 447,
    "start_time": "2023-07-06T11:35:54.388Z"
   },
   {
    "duration": 255,
    "start_time": "2023-07-06T11:36:03.017Z"
   },
   {
    "duration": 1877,
    "start_time": "2023-07-06T11:48:59.746Z"
   },
   {
    "duration": 1145,
    "start_time": "2023-07-06T11:49:01.626Z"
   },
   {
    "duration": 27,
    "start_time": "2023-07-06T11:49:02.773Z"
   },
   {
    "duration": 184,
    "start_time": "2023-07-06T11:49:02.804Z"
   },
   {
    "duration": 578,
    "start_time": "2023-07-06T11:49:02.992Z"
   },
   {
    "duration": 696,
    "start_time": "2023-07-06T11:49:03.576Z"
   },
   {
    "duration": 29,
    "start_time": "2023-07-06T11:49:04.279Z"
   },
   {
    "duration": 124,
    "start_time": "2023-07-06T11:49:04.311Z"
   },
   {
    "duration": 79,
    "start_time": "2023-07-06T11:49:04.438Z"
   },
   {
    "duration": 32,
    "start_time": "2023-07-06T11:49:04.521Z"
   },
   {
    "duration": 37,
    "start_time": "2023-07-06T11:49:04.555Z"
   },
   {
    "duration": 28,
    "start_time": "2023-07-06T11:49:04.594Z"
   },
   {
    "duration": 44,
    "start_time": "2023-07-06T11:49:04.624Z"
   },
   {
    "duration": 30,
    "start_time": "2023-07-06T11:49:04.675Z"
   },
   {
    "duration": 26,
    "start_time": "2023-07-06T11:49:04.708Z"
   },
   {
    "duration": 61,
    "start_time": "2023-07-06T11:49:04.737Z"
   },
   {
    "duration": 333,
    "start_time": "2023-07-06T11:49:04.801Z"
   },
   {
    "duration": 0,
    "start_time": "2023-07-06T11:49:05.137Z"
   },
   {
    "duration": 0,
    "start_time": "2023-07-06T11:49:05.139Z"
   },
   {
    "duration": 0,
    "start_time": "2023-07-06T11:49:05.140Z"
   },
   {
    "duration": 0,
    "start_time": "2023-07-06T11:49:05.141Z"
   },
   {
    "duration": 0,
    "start_time": "2023-07-06T11:49:05.142Z"
   },
   {
    "duration": 0,
    "start_time": "2023-07-06T11:49:05.144Z"
   },
   {
    "duration": 0,
    "start_time": "2023-07-06T11:49:05.145Z"
   },
   {
    "duration": 0,
    "start_time": "2023-07-06T11:49:05.146Z"
   },
   {
    "duration": 0,
    "start_time": "2023-07-06T11:49:05.147Z"
   },
   {
    "duration": 0,
    "start_time": "2023-07-06T11:49:05.149Z"
   },
   {
    "duration": 0,
    "start_time": "2023-07-06T11:49:05.150Z"
   },
   {
    "duration": 0,
    "start_time": "2023-07-06T11:49:05.150Z"
   },
   {
    "duration": 0,
    "start_time": "2023-07-06T11:49:05.151Z"
   },
   {
    "duration": 0,
    "start_time": "2023-07-06T11:49:05.168Z"
   },
   {
    "duration": 0,
    "start_time": "2023-07-06T11:49:05.171Z"
   },
   {
    "duration": 0,
    "start_time": "2023-07-06T11:49:05.173Z"
   },
   {
    "duration": 0,
    "start_time": "2023-07-06T11:49:05.174Z"
   },
   {
    "duration": 0,
    "start_time": "2023-07-06T11:49:05.175Z"
   },
   {
    "duration": 0,
    "start_time": "2023-07-06T11:49:05.176Z"
   },
   {
    "duration": 0,
    "start_time": "2023-07-06T11:49:05.177Z"
   },
   {
    "duration": 0,
    "start_time": "2023-07-06T11:49:05.178Z"
   },
   {
    "duration": 0,
    "start_time": "2023-07-06T11:49:05.179Z"
   },
   {
    "duration": 0,
    "start_time": "2023-07-06T11:49:05.180Z"
   },
   {
    "duration": 0,
    "start_time": "2023-07-06T11:49:05.180Z"
   },
   {
    "duration": 0,
    "start_time": "2023-07-06T11:49:05.181Z"
   },
   {
    "duration": 245,
    "start_time": "2023-07-06T11:50:08.693Z"
   },
   {
    "duration": 5138,
    "start_time": "2023-07-06T11:50:10.421Z"
   },
   {
    "duration": 186,
    "start_time": "2023-07-06T11:50:16.806Z"
   },
   {
    "duration": 4267,
    "start_time": "2023-07-06T11:50:17.726Z"
   },
   {
    "duration": 21,
    "start_time": "2023-07-06T11:50:26.828Z"
   },
   {
    "duration": 58,
    "start_time": "2023-07-06T11:50:28.236Z"
   },
   {
    "duration": 18,
    "start_time": "2023-07-06T11:50:29.104Z"
   },
   {
    "duration": 37,
    "start_time": "2023-07-06T11:50:29.933Z"
   },
   {
    "duration": 14,
    "start_time": "2023-07-06T11:50:31.222Z"
   },
   {
    "duration": 32,
    "start_time": "2023-07-06T11:50:31.818Z"
   },
   {
    "duration": 362,
    "start_time": "2023-07-06T11:50:32.533Z"
   },
   {
    "duration": 19,
    "start_time": "2023-07-06T11:51:32.320Z"
   },
   {
    "duration": 15,
    "start_time": "2023-07-06T11:51:46.305Z"
   },
   {
    "duration": 8,
    "start_time": "2023-07-06T11:52:44.029Z"
   },
   {
    "duration": 6,
    "start_time": "2023-07-06T12:07:44.610Z"
   },
   {
    "duration": 6,
    "start_time": "2023-07-06T12:09:50.642Z"
   },
   {
    "duration": 5,
    "start_time": "2023-07-06T12:09:59.936Z"
   },
   {
    "duration": 1846,
    "start_time": "2023-07-06T12:25:04.458Z"
   },
   {
    "duration": 1016,
    "start_time": "2023-07-06T12:25:06.306Z"
   },
   {
    "duration": 21,
    "start_time": "2023-07-06T12:25:07.324Z"
   },
   {
    "duration": 177,
    "start_time": "2023-07-06T12:25:07.346Z"
   },
   {
    "duration": 565,
    "start_time": "2023-07-06T12:25:07.527Z"
   },
   {
    "duration": 666,
    "start_time": "2023-07-06T12:25:08.095Z"
   },
   {
    "duration": 24,
    "start_time": "2023-07-06T12:25:08.763Z"
   },
   {
    "duration": 99,
    "start_time": "2023-07-06T12:25:08.792Z"
   },
   {
    "duration": 35,
    "start_time": "2023-07-06T12:25:08.902Z"
   },
   {
    "duration": 20,
    "start_time": "2023-07-06T12:25:08.939Z"
   },
   {
    "duration": 50,
    "start_time": "2023-07-06T12:25:08.961Z"
   },
   {
    "duration": 46,
    "start_time": "2023-07-06T12:25:09.013Z"
   },
   {
    "duration": 40,
    "start_time": "2023-07-06T12:25:09.061Z"
   },
   {
    "duration": 20,
    "start_time": "2023-07-06T12:25:09.105Z"
   },
   {
    "duration": 30,
    "start_time": "2023-07-06T12:25:09.127Z"
   },
   {
    "duration": 65,
    "start_time": "2023-07-06T12:25:09.159Z"
   },
   {
    "duration": 208,
    "start_time": "2023-07-06T12:25:09.226Z"
   },
   {
    "duration": 3829,
    "start_time": "2023-07-06T12:25:09.436Z"
   },
   {
    "duration": 237,
    "start_time": "2023-07-06T12:25:13.272Z"
   },
   {
    "duration": 4250,
    "start_time": "2023-07-06T12:25:13.511Z"
   },
   {
    "duration": 19,
    "start_time": "2023-07-06T12:25:17.763Z"
   },
   {
    "duration": 43,
    "start_time": "2023-07-06T12:25:17.784Z"
   },
   {
    "duration": 9,
    "start_time": "2023-07-06T12:25:17.829Z"
   },
   {
    "duration": 77,
    "start_time": "2023-07-06T12:25:17.840Z"
   },
   {
    "duration": 11,
    "start_time": "2023-07-06T12:25:17.919Z"
   },
   {
    "duration": 42,
    "start_time": "2023-07-06T12:25:17.931Z"
   },
   {
    "duration": 319,
    "start_time": "2023-07-06T12:25:17.974Z"
   },
   {
    "duration": 19,
    "start_time": "2023-07-06T12:25:18.294Z"
   },
   {
    "duration": 85,
    "start_time": "2023-07-06T12:25:18.315Z"
   },
   {
    "duration": 1558,
    "start_time": "2023-07-06T12:25:18.402Z"
   },
   {
    "duration": 240,
    "start_time": "2023-07-06T12:25:19.963Z"
   },
   {
    "duration": 1698,
    "start_time": "2023-07-06T12:26:07.017Z"
   },
   {
    "duration": 1060,
    "start_time": "2023-07-06T12:26:08.718Z"
   },
   {
    "duration": 24,
    "start_time": "2023-07-06T12:26:09.782Z"
   },
   {
    "duration": 184,
    "start_time": "2023-07-06T12:26:09.809Z"
   },
   {
    "duration": 578,
    "start_time": "2023-07-06T12:26:09.997Z"
   },
   {
    "duration": 683,
    "start_time": "2023-07-06T12:26:10.577Z"
   },
   {
    "duration": 18,
    "start_time": "2023-07-06T12:26:11.262Z"
   },
   {
    "duration": 107,
    "start_time": "2023-07-06T12:26:11.283Z"
   },
   {
    "duration": 36,
    "start_time": "2023-07-06T12:26:11.395Z"
   },
   {
    "duration": 38,
    "start_time": "2023-07-06T12:26:11.433Z"
   },
   {
    "duration": 31,
    "start_time": "2023-07-06T12:26:11.474Z"
   },
   {
    "duration": 26,
    "start_time": "2023-07-06T12:26:11.507Z"
   },
   {
    "duration": 49,
    "start_time": "2023-07-06T12:26:11.537Z"
   },
   {
    "duration": 24,
    "start_time": "2023-07-06T12:26:11.591Z"
   },
   {
    "duration": 23,
    "start_time": "2023-07-06T12:26:11.617Z"
   },
   {
    "duration": 64,
    "start_time": "2023-07-06T12:26:11.642Z"
   },
   {
    "duration": 197,
    "start_time": "2023-07-06T12:26:11.709Z"
   },
   {
    "duration": 4036,
    "start_time": "2023-07-06T12:26:11.908Z"
   },
   {
    "duration": 186,
    "start_time": "2023-07-06T12:26:15.946Z"
   },
   {
    "duration": 3828,
    "start_time": "2023-07-06T12:26:16.134Z"
   },
   {
    "duration": 30,
    "start_time": "2023-07-06T12:26:19.964Z"
   },
   {
    "duration": 37,
    "start_time": "2023-07-06T12:26:19.998Z"
   },
   {
    "duration": 6,
    "start_time": "2023-07-06T12:26:20.037Z"
   },
   {
    "duration": 53,
    "start_time": "2023-07-06T12:26:20.045Z"
   },
   {
    "duration": 8,
    "start_time": "2023-07-06T12:26:20.101Z"
   },
   {
    "duration": 39,
    "start_time": "2023-07-06T12:26:20.110Z"
   },
   {
    "duration": 268,
    "start_time": "2023-07-06T12:26:20.151Z"
   },
   {
    "duration": 15,
    "start_time": "2023-07-06T12:26:20.421Z"
   },
   {
    "duration": 92,
    "start_time": "2023-07-06T12:26:20.438Z"
   },
   {
    "duration": 1532,
    "start_time": "2023-07-06T12:26:20.532Z"
   },
   {
    "duration": 540579,
    "start_time": "2023-07-06T12:26:22.069Z"
   },
   {
    "duration": 2613188,
    "start_time": "2023-07-06T12:35:22.650Z"
   },
   {
    "duration": 1823,
    "start_time": "2023-07-06T14:17:42.362Z"
   },
   {
    "duration": 1149,
    "start_time": "2023-07-06T14:17:44.192Z"
   },
   {
    "duration": 38,
    "start_time": "2023-07-06T14:17:45.344Z"
   },
   {
    "duration": 167,
    "start_time": "2023-07-06T14:17:45.385Z"
   },
   {
    "duration": 593,
    "start_time": "2023-07-06T14:17:45.554Z"
   },
   {
    "duration": 705,
    "start_time": "2023-07-06T14:17:46.222Z"
   },
   {
    "duration": 24,
    "start_time": "2023-07-06T14:17:46.930Z"
   },
   {
    "duration": 77,
    "start_time": "2023-07-06T14:17:47.186Z"
   },
   {
    "duration": 33,
    "start_time": "2023-07-06T14:17:47.611Z"
   },
   {
    "duration": 21,
    "start_time": "2023-07-06T14:17:48.485Z"
   },
   {
    "duration": 22,
    "start_time": "2023-07-06T14:17:49.346Z"
   },
   {
    "duration": 22,
    "start_time": "2023-07-06T14:17:50.107Z"
   },
   {
    "duration": 31,
    "start_time": "2023-07-06T14:17:50.650Z"
   },
   {
    "duration": 26,
    "start_time": "2023-07-06T14:17:51.058Z"
   },
   {
    "duration": 32,
    "start_time": "2023-07-06T14:17:51.448Z"
   },
   {
    "duration": 39,
    "start_time": "2023-07-06T14:17:51.640Z"
   },
   {
    "duration": 203,
    "start_time": "2023-07-06T14:17:52.022Z"
   },
   {
    "duration": 3823,
    "start_time": "2023-07-06T14:17:52.228Z"
   },
   {
    "duration": 179,
    "start_time": "2023-07-06T14:17:56.053Z"
   },
   {
    "duration": 3657,
    "start_time": "2023-07-06T14:17:56.234Z"
   },
   {
    "duration": 13,
    "start_time": "2023-07-06T14:17:59.894Z"
   },
   {
    "duration": 58,
    "start_time": "2023-07-06T14:17:59.910Z"
   },
   {
    "duration": 12,
    "start_time": "2023-07-06T14:17:59.976Z"
   },
   {
    "duration": 46,
    "start_time": "2023-07-06T14:17:59.990Z"
   },
   {
    "duration": 90,
    "start_time": "2023-07-06T14:18:00.039Z"
   },
   {
    "duration": 53,
    "start_time": "2023-07-06T14:18:00.132Z"
   },
   {
    "duration": 257,
    "start_time": "2023-07-06T14:18:00.188Z"
   },
   {
    "duration": 28,
    "start_time": "2023-07-06T14:18:00.448Z"
   },
   {
    "duration": 130,
    "start_time": "2023-07-06T14:18:00.481Z"
   },
   {
    "duration": 1882,
    "start_time": "2023-07-06T14:18:01.043Z"
   },
   {
    "duration": 10166,
    "start_time": "2023-07-06T14:18:02.928Z"
   },
   {
    "duration": 1644,
    "start_time": "2023-07-06T14:18:34.442Z"
   },
   {
    "duration": 1039,
    "start_time": "2023-07-06T14:18:36.865Z"
   },
   {
    "duration": 22,
    "start_time": "2023-07-06T14:18:39.509Z"
   },
   {
    "duration": 216,
    "start_time": "2023-07-06T14:18:40.121Z"
   },
   {
    "duration": 640,
    "start_time": "2023-07-06T14:18:41.206Z"
   },
   {
    "duration": 690,
    "start_time": "2023-07-06T14:18:42.394Z"
   },
   {
    "duration": 24,
    "start_time": "2023-07-06T14:18:44.034Z"
   },
   {
    "duration": 143,
    "start_time": "2023-07-06T14:18:45.144Z"
   },
   {
    "duration": 31,
    "start_time": "2023-07-06T14:18:46.212Z"
   },
   {
    "duration": 21,
    "start_time": "2023-07-06T14:18:47.209Z"
   },
   {
    "duration": 28,
    "start_time": "2023-07-06T14:18:48.364Z"
   },
   {
    "duration": 36,
    "start_time": "2023-07-06T14:18:49.345Z"
   },
   {
    "duration": 24,
    "start_time": "2023-07-06T14:18:50.422Z"
   },
   {
    "duration": 19,
    "start_time": "2023-07-06T14:18:51.515Z"
   },
   {
    "duration": 23,
    "start_time": "2023-07-06T14:18:52.415Z"
   },
   {
    "duration": 34,
    "start_time": "2023-07-06T14:18:53.017Z"
   },
   {
    "duration": 253,
    "start_time": "2023-07-06T14:18:54.046Z"
   },
   {
    "duration": 3863,
    "start_time": "2023-07-06T14:18:54.486Z"
   },
   {
    "duration": 175,
    "start_time": "2023-07-06T14:18:59.690Z"
   },
   {
    "duration": 3869,
    "start_time": "2023-07-06T14:19:00.152Z"
   },
   {
    "duration": 18,
    "start_time": "2023-07-06T14:19:05.024Z"
   },
   {
    "duration": 52,
    "start_time": "2023-07-06T14:19:05.945Z"
   },
   {
    "duration": 8,
    "start_time": "2023-07-06T14:19:06.741Z"
   },
   {
    "duration": 36,
    "start_time": "2023-07-06T14:19:07.692Z"
   },
   {
    "duration": 12,
    "start_time": "2023-07-06T14:19:08.711Z"
   },
   {
    "duration": 35,
    "start_time": "2023-07-06T14:19:09.298Z"
   },
   {
    "duration": 261,
    "start_time": "2023-07-06T14:19:09.845Z"
   },
   {
    "duration": 20,
    "start_time": "2023-07-06T14:19:12.000Z"
   },
   {
    "duration": 77,
    "start_time": "2023-07-06T14:19:13.589Z"
   },
   {
    "duration": 1834,
    "start_time": "2023-07-06T14:19:18.489Z"
   },
   {
    "duration": 7358,
    "start_time": "2023-07-06T14:19:25.123Z"
   },
   {
    "duration": 1795,
    "start_time": "2023-07-06T14:46:27.344Z"
   },
   {
    "duration": 1082,
    "start_time": "2023-07-06T14:46:29.141Z"
   },
   {
    "duration": 21,
    "start_time": "2023-07-06T14:46:30.225Z"
   },
   {
    "duration": 213,
    "start_time": "2023-07-06T14:46:30.248Z"
   },
   {
    "duration": 654,
    "start_time": "2023-07-06T14:46:30.468Z"
   },
   {
    "duration": 775,
    "start_time": "2023-07-06T14:46:31.124Z"
   },
   {
    "duration": 25,
    "start_time": "2023-07-06T14:46:31.905Z"
   },
   {
    "duration": 129,
    "start_time": "2023-07-06T14:46:31.932Z"
   },
   {
    "duration": 60,
    "start_time": "2023-07-06T14:46:32.063Z"
   },
   {
    "duration": 19,
    "start_time": "2023-07-06T14:46:32.127Z"
   },
   {
    "duration": 67,
    "start_time": "2023-07-06T14:46:32.151Z"
   },
   {
    "duration": 91,
    "start_time": "2023-07-06T14:46:32.220Z"
   },
   {
    "duration": 30,
    "start_time": "2023-07-06T14:46:32.314Z"
   },
   {
    "duration": 43,
    "start_time": "2023-07-06T14:46:32.347Z"
   },
   {
    "duration": 40,
    "start_time": "2023-07-06T14:46:32.400Z"
   },
   {
    "duration": 59,
    "start_time": "2023-07-06T14:46:32.443Z"
   },
   {
    "duration": 213,
    "start_time": "2023-07-06T14:46:32.503Z"
   },
   {
    "duration": 3873,
    "start_time": "2023-07-06T14:46:32.719Z"
   },
   {
    "duration": 163,
    "start_time": "2023-07-06T14:46:36.598Z"
   },
   {
    "duration": 3762,
    "start_time": "2023-07-06T14:46:36.763Z"
   },
   {
    "duration": 15,
    "start_time": "2023-07-06T14:46:40.527Z"
   },
   {
    "duration": 62,
    "start_time": "2023-07-06T14:46:40.544Z"
   },
   {
    "duration": 6,
    "start_time": "2023-07-06T14:46:40.608Z"
   },
   {
    "duration": 41,
    "start_time": "2023-07-06T14:46:40.616Z"
   },
   {
    "duration": 32,
    "start_time": "2023-07-06T14:46:40.659Z"
   },
   {
    "duration": 34,
    "start_time": "2023-07-06T14:46:40.693Z"
   },
   {
    "duration": 295,
    "start_time": "2023-07-06T14:46:40.729Z"
   },
   {
    "duration": 16,
    "start_time": "2023-07-06T14:46:41.028Z"
   },
   {
    "duration": 109,
    "start_time": "2023-07-06T14:46:41.046Z"
   },
   {
    "duration": 1694,
    "start_time": "2023-07-06T14:46:41.157Z"
   },
   {
    "duration": 518443,
    "start_time": "2023-07-06T14:46:42.853Z"
   },
   {
    "duration": 1640,
    "start_time": "2023-07-06T15:24:54.392Z"
   },
   {
    "duration": 933,
    "start_time": "2023-07-06T15:24:56.034Z"
   },
   {
    "duration": 27,
    "start_time": "2023-07-06T15:24:56.969Z"
   },
   {
    "duration": 165,
    "start_time": "2023-07-06T15:24:56.998Z"
   },
   {
    "duration": 548,
    "start_time": "2023-07-06T15:24:57.177Z"
   },
   {
    "duration": 657,
    "start_time": "2023-07-06T15:24:57.727Z"
   },
   {
    "duration": 23,
    "start_time": "2023-07-06T15:24:58.386Z"
   },
   {
    "duration": 86,
    "start_time": "2023-07-06T15:24:58.411Z"
   },
   {
    "duration": 36,
    "start_time": "2023-07-06T15:24:58.499Z"
   },
   {
    "duration": 47,
    "start_time": "2023-07-06T15:24:58.537Z"
   },
   {
    "duration": 23,
    "start_time": "2023-07-06T15:24:58.586Z"
   },
   {
    "duration": 21,
    "start_time": "2023-07-06T15:24:58.611Z"
   },
   {
    "duration": 41,
    "start_time": "2023-07-06T15:24:58.634Z"
   },
   {
    "duration": 21,
    "start_time": "2023-07-06T15:24:58.679Z"
   },
   {
    "duration": 21,
    "start_time": "2023-07-06T15:24:58.702Z"
   },
   {
    "duration": 55,
    "start_time": "2023-07-06T15:24:58.725Z"
   },
   {
    "duration": 183,
    "start_time": "2023-07-06T15:24:58.782Z"
   },
   {
    "duration": 3540,
    "start_time": "2023-07-06T15:24:58.969Z"
   },
   {
    "duration": 184,
    "start_time": "2023-07-06T15:25:02.512Z"
   },
   {
    "duration": 3512,
    "start_time": "2023-07-06T15:25:02.698Z"
   },
   {
    "duration": 14,
    "start_time": "2023-07-06T15:25:06.212Z"
   },
   {
    "duration": 54,
    "start_time": "2023-07-06T15:25:06.229Z"
   },
   {
    "duration": 9,
    "start_time": "2023-07-06T15:25:06.284Z"
   },
   {
    "duration": 36,
    "start_time": "2023-07-06T15:25:06.295Z"
   },
   {
    "duration": 8,
    "start_time": "2023-07-06T15:25:06.333Z"
   },
   {
    "duration": 54,
    "start_time": "2023-07-06T15:25:06.343Z"
   },
   {
    "duration": 260,
    "start_time": "2023-07-06T15:25:06.399Z"
   },
   {
    "duration": 22,
    "start_time": "2023-07-06T15:25:06.666Z"
   },
   {
    "duration": 93,
    "start_time": "2023-07-06T15:25:06.690Z"
   },
   {
    "duration": 1462,
    "start_time": "2023-07-06T15:25:06.785Z"
   },
   {
    "duration": 547762,
    "start_time": "2023-07-06T15:25:08.248Z"
   },
   {
    "duration": 2698507,
    "start_time": "2023-07-06T15:34:16.014Z"
   },
   {
    "duration": 1611,
    "start_time": "2023-07-06T18:08:36.409Z"
   },
   {
    "duration": 1005,
    "start_time": "2023-07-06T18:08:38.022Z"
   },
   {
    "duration": 25,
    "start_time": "2023-07-06T18:08:39.030Z"
   },
   {
    "duration": 177,
    "start_time": "2023-07-06T18:08:39.057Z"
   },
   {
    "duration": 551,
    "start_time": "2023-07-06T18:08:39.236Z"
   },
   {
    "duration": 668,
    "start_time": "2023-07-06T18:08:39.791Z"
   },
   {
    "duration": 32,
    "start_time": "2023-07-06T18:08:40.461Z"
   },
   {
    "duration": 91,
    "start_time": "2023-07-06T18:08:40.499Z"
   },
   {
    "duration": 32,
    "start_time": "2023-07-06T18:08:40.593Z"
   },
   {
    "duration": 20,
    "start_time": "2023-07-06T18:08:40.627Z"
   },
   {
    "duration": 24,
    "start_time": "2023-07-06T18:08:40.649Z"
   },
   {
    "duration": 33,
    "start_time": "2023-07-06T18:08:40.676Z"
   },
   {
    "duration": 22,
    "start_time": "2023-07-06T18:08:40.710Z"
   },
   {
    "duration": 44,
    "start_time": "2023-07-06T18:08:40.735Z"
   },
   {
    "duration": 28,
    "start_time": "2023-07-06T18:08:40.786Z"
   },
   {
    "duration": 45,
    "start_time": "2023-07-06T18:08:40.816Z"
   },
   {
    "duration": 190,
    "start_time": "2023-07-06T18:08:40.862Z"
   },
   {
    "duration": 3836,
    "start_time": "2023-07-06T18:08:41.054Z"
   },
   {
    "duration": 184,
    "start_time": "2023-07-06T18:08:44.891Z"
   },
   {
    "duration": 3853,
    "start_time": "2023-07-06T18:08:45.077Z"
   },
   {
    "duration": 14,
    "start_time": "2023-07-06T18:08:48.932Z"
   },
   {
    "duration": 58,
    "start_time": "2023-07-06T18:08:48.948Z"
   },
   {
    "duration": 7,
    "start_time": "2023-07-06T18:08:49.008Z"
   },
   {
    "duration": 55,
    "start_time": "2023-07-06T18:08:49.016Z"
   },
   {
    "duration": 14,
    "start_time": "2023-07-06T18:08:49.073Z"
   },
   {
    "duration": 30,
    "start_time": "2023-07-06T18:08:49.093Z"
   },
   {
    "duration": 261,
    "start_time": "2023-07-06T18:08:49.125Z"
   },
   {
    "duration": 18,
    "start_time": "2023-07-06T18:08:49.388Z"
   },
   {
    "duration": 89,
    "start_time": "2023-07-06T18:08:49.408Z"
   },
   {
    "duration": 1418,
    "start_time": "2023-07-06T18:08:49.499Z"
   },
   {
    "duration": 2,
    "start_time": "2023-07-06T18:08:50.919Z"
   },
   {
    "duration": 20,
    "start_time": "2023-07-06T18:08:50.923Z"
   },
   {
    "duration": 3186331,
    "start_time": "2023-07-06T18:08:50.944Z"
   },
   {
    "duration": 63693,
    "start_time": "2023-07-06T19:01:57.276Z"
   },
   {
    "duration": 347,
    "start_time": "2023-07-06T19:03:00.971Z"
   },
   {
    "duration": 5,
    "start_time": "2023-07-06T19:03:01.320Z"
   },
   {
    "duration": 248,
    "start_time": "2023-07-06T19:03:01.326Z"
   },
   {
    "duration": 102,
    "start_time": "2023-07-06T19:03:01.576Z"
   },
   {
    "duration": 5,
    "start_time": "2023-07-06T19:03:01.680Z"
   },
   {
    "duration": 27188,
    "start_time": "2023-07-06T19:03:01.687Z"
   },
   {
    "duration": 1902,
    "start_time": "2023-07-06T19:03:28.880Z"
   },
   {
    "duration": 5,
    "start_time": "2023-07-06T19:03:30.784Z"
   },
   {
    "duration": 29,
    "start_time": "2023-07-06T20:35:53.236Z"
   },
   {
    "duration": 13,
    "start_time": "2023-07-06T20:36:15.878Z"
   },
   {
    "duration": 1630,
    "start_time": "2023-07-06T22:05:58.751Z"
   },
   {
    "duration": 993,
    "start_time": "2023-07-06T22:06:00.384Z"
   },
   {
    "duration": 22,
    "start_time": "2023-07-06T22:06:01.379Z"
   },
   {
    "duration": 219,
    "start_time": "2023-07-06T22:06:01.403Z"
   },
   {
    "duration": 582,
    "start_time": "2023-07-06T22:06:01.624Z"
   },
   {
    "duration": 685,
    "start_time": "2023-07-06T22:06:02.208Z"
   },
   {
    "duration": 19,
    "start_time": "2023-07-06T22:06:02.894Z"
   },
   {
    "duration": 89,
    "start_time": "2023-07-06T22:06:02.915Z"
   },
   {
    "duration": 35,
    "start_time": "2023-07-06T22:06:03.005Z"
   },
   {
    "duration": 40,
    "start_time": "2023-07-06T22:06:03.042Z"
   },
   {
    "duration": 40,
    "start_time": "2023-07-06T22:06:03.085Z"
   },
   {
    "duration": 25,
    "start_time": "2023-07-06T22:06:03.127Z"
   },
   {
    "duration": 27,
    "start_time": "2023-07-06T22:06:03.154Z"
   },
   {
    "duration": 42,
    "start_time": "2023-07-06T22:06:03.185Z"
   },
   {
    "duration": 41,
    "start_time": "2023-07-06T22:06:03.230Z"
   },
   {
    "duration": 32,
    "start_time": "2023-07-06T22:06:03.274Z"
   },
   {
    "duration": 193,
    "start_time": "2023-07-06T22:06:03.308Z"
   },
   {
    "duration": 3293,
    "start_time": "2023-07-06T22:06:03.503Z"
   },
   {
    "duration": 169,
    "start_time": "2023-07-06T22:06:06.798Z"
   },
   {
    "duration": 3246,
    "start_time": "2023-07-06T22:06:06.969Z"
   },
   {
    "duration": 21,
    "start_time": "2023-07-06T22:06:10.218Z"
   },
   {
    "duration": 50,
    "start_time": "2023-07-06T22:06:10.241Z"
   },
   {
    "duration": 6,
    "start_time": "2023-07-06T22:06:10.293Z"
   },
   {
    "duration": 37,
    "start_time": "2023-07-06T22:06:10.301Z"
   },
   {
    "duration": 28,
    "start_time": "2023-07-06T22:06:10.340Z"
   },
   {
    "duration": 33,
    "start_time": "2023-07-06T22:06:10.370Z"
   },
   {
    "duration": 17,
    "start_time": "2023-07-06T22:06:10.405Z"
   },
   {
    "duration": 96,
    "start_time": "2023-07-06T22:06:10.424Z"
   },
   {
    "duration": 1527,
    "start_time": "2023-07-06T22:06:10.522Z"
   },
   {
    "duration": 464670,
    "start_time": "2023-07-06T22:06:12.051Z"
   },
   {
    "duration": 2313700,
    "start_time": "2023-07-06T22:13:56.722Z"
   },
   {
    "duration": 1067352,
    "start_time": "2023-07-06T22:52:30.423Z"
   },
   {
    "duration": 64679,
    "start_time": "2023-07-06T23:10:17.777Z"
   },
   {
    "duration": 353,
    "start_time": "2023-07-06T23:11:22.458Z"
   },
   {
    "duration": 5,
    "start_time": "2023-07-06T23:11:22.813Z"
   },
   {
    "duration": 223,
    "start_time": "2023-07-06T23:11:22.820Z"
   },
   {
    "duration": 134,
    "start_time": "2023-07-06T23:11:23.045Z"
   },
   {
    "duration": 6,
    "start_time": "2023-07-06T23:11:23.181Z"
   },
   {
    "duration": 363601,
    "start_time": "2023-07-06T23:11:23.189Z"
   },
   {
    "duration": 92,
    "start_time": "2023-07-06T23:17:26.793Z"
   },
   {
    "duration": 5,
    "start_time": "2023-07-06T23:17:26.889Z"
   },
   {
    "duration": 28,
    "start_time": "2023-07-06T23:17:26.895Z"
   },
   {
    "duration": 179852,
    "start_time": "2023-07-06T23:17:26.925Z"
   },
   {
    "duration": 178973,
    "start_time": "2023-07-06T23:21:00.252Z"
   },
   {
    "duration": 65045,
    "start_time": "2023-07-06T23:23:59.227Z"
   },
   {
    "duration": 151,
    "start_time": "2023-07-06T23:28:53.463Z"
   },
   {
    "duration": 99,
    "start_time": "2023-07-06T23:29:19.353Z"
   },
   {
    "duration": 353,
    "start_time": "2023-07-06T23:29:30.815Z"
   },
   {
    "duration": 5,
    "start_time": "2023-07-06T23:29:34.152Z"
   },
   {
    "duration": 180632,
    "start_time": "2023-07-06T23:29:38.207Z"
   },
   {
    "duration": 856,
    "start_time": "2023-07-06T23:34:20.527Z"
   },
   {
    "duration": 5,
    "start_time": "2023-07-06T23:34:22.610Z"
   },
   {
    "duration": 21099,
    "start_time": "2023-07-06T23:55:42.776Z"
   },
   {
    "duration": 2091,
    "start_time": "2023-07-06T23:56:03.877Z"
   },
   {
    "duration": 1983,
    "start_time": "2023-07-06T23:58:31.004Z"
   },
   {
    "duration": 5,
    "start_time": "2023-07-06T23:58:34.706Z"
   },
   {
    "duration": 11,
    "start_time": "2023-07-06T23:59:56.366Z"
   },
   {
    "duration": 2119,
    "start_time": "2023-07-07T04:47:17.563Z"
   },
   {
    "duration": 1490,
    "start_time": "2023-07-07T04:47:19.683Z"
   },
   {
    "duration": 18,
    "start_time": "2023-07-07T04:47:21.175Z"
   },
   {
    "duration": 168,
    "start_time": "2023-07-07T04:47:21.195Z"
   },
   {
    "duration": 497,
    "start_time": "2023-07-07T04:47:21.367Z"
   },
   {
    "duration": 585,
    "start_time": "2023-07-07T04:47:21.866Z"
   },
   {
    "duration": 17,
    "start_time": "2023-07-07T04:47:22.453Z"
   },
   {
    "duration": 106,
    "start_time": "2023-07-07T04:47:22.471Z"
   },
   {
    "duration": 53,
    "start_time": "2023-07-07T04:47:22.579Z"
   },
   {
    "duration": 27,
    "start_time": "2023-07-07T04:47:22.638Z"
   },
   {
    "duration": 50,
    "start_time": "2023-07-07T04:47:22.667Z"
   },
   {
    "duration": 47,
    "start_time": "2023-07-07T04:47:22.718Z"
   },
   {
    "duration": 72,
    "start_time": "2023-07-07T04:47:22.767Z"
   },
   {
    "duration": 20,
    "start_time": "2023-07-07T04:47:22.841Z"
   },
   {
    "duration": 27,
    "start_time": "2023-07-07T04:47:22.862Z"
   },
   {
    "duration": 66,
    "start_time": "2023-07-07T04:47:22.891Z"
   },
   {
    "duration": 238,
    "start_time": "2023-07-07T04:47:22.959Z"
   },
   {
    "duration": 3598,
    "start_time": "2023-07-07T04:47:23.199Z"
   },
   {
    "duration": 154,
    "start_time": "2023-07-07T04:47:26.799Z"
   },
   {
    "duration": 3511,
    "start_time": "2023-07-07T04:47:26.955Z"
   },
   {
    "duration": 14,
    "start_time": "2023-07-07T04:47:30.468Z"
   },
   {
    "duration": 56,
    "start_time": "2023-07-07T04:47:30.484Z"
   },
   {
    "duration": 14,
    "start_time": "2023-07-07T04:47:30.542Z"
   },
   {
    "duration": 58,
    "start_time": "2023-07-07T04:47:30.558Z"
   },
   {
    "duration": 19,
    "start_time": "2023-07-07T04:47:30.624Z"
   },
   {
    "duration": 74,
    "start_time": "2023-07-07T04:47:30.645Z"
   },
   {
    "duration": 18,
    "start_time": "2023-07-07T04:47:30.730Z"
   },
   {
    "duration": 75,
    "start_time": "2023-07-07T04:47:30.750Z"
   },
   {
    "duration": 971,
    "start_time": "2023-07-07T04:47:30.826Z"
   },
   {
    "duration": 10114,
    "start_time": "2023-07-07T04:47:31.799Z"
   },
   {
    "duration": 1476,
    "start_time": "2023-07-07T04:47:54.178Z"
   },
   {
    "duration": 1228,
    "start_time": "2023-07-07T04:47:55.657Z"
   },
   {
    "duration": 51,
    "start_time": "2023-07-07T04:47:56.887Z"
   },
   {
    "duration": 123,
    "start_time": "2023-07-07T04:47:56.940Z"
   },
   {
    "duration": 474,
    "start_time": "2023-07-07T04:47:57.065Z"
   },
   {
    "duration": 612,
    "start_time": "2023-07-07T04:47:57.541Z"
   },
   {
    "duration": 19,
    "start_time": "2023-07-07T04:47:58.155Z"
   },
   {
    "duration": 120,
    "start_time": "2023-07-07T04:47:58.176Z"
   },
   {
    "duration": 92,
    "start_time": "2023-07-07T04:47:58.297Z"
   },
   {
    "duration": 78,
    "start_time": "2023-07-07T04:47:58.390Z"
   },
   {
    "duration": 20,
    "start_time": "2023-07-07T04:47:58.469Z"
   },
   {
    "duration": 39,
    "start_time": "2023-07-07T04:47:58.491Z"
   },
   {
    "duration": 22,
    "start_time": "2023-07-07T04:47:58.540Z"
   },
   {
    "duration": 24,
    "start_time": "2023-07-07T04:47:58.564Z"
   },
   {
    "duration": 63,
    "start_time": "2023-07-07T04:47:58.590Z"
   },
   {
    "duration": 33,
    "start_time": "2023-07-07T04:47:58.655Z"
   },
   {
    "duration": 170,
    "start_time": "2023-07-07T04:47:58.689Z"
   },
   {
    "duration": 3836,
    "start_time": "2023-07-07T04:47:58.860Z"
   },
   {
    "duration": 170,
    "start_time": "2023-07-07T04:48:02.698Z"
   },
   {
    "duration": 3608,
    "start_time": "2023-07-07T04:48:02.869Z"
   },
   {
    "duration": 10,
    "start_time": "2023-07-07T04:48:06.479Z"
   },
   {
    "duration": 43,
    "start_time": "2023-07-07T04:48:06.491Z"
   },
   {
    "duration": 8,
    "start_time": "2023-07-07T04:48:06.536Z"
   },
   {
    "duration": 35,
    "start_time": "2023-07-07T04:48:06.545Z"
   },
   {
    "duration": 21,
    "start_time": "2023-07-07T04:48:06.582Z"
   },
   {
    "duration": 38,
    "start_time": "2023-07-07T04:48:06.613Z"
   },
   {
    "duration": 14,
    "start_time": "2023-07-07T04:48:06.652Z"
   },
   {
    "duration": 65,
    "start_time": "2023-07-07T04:48:06.668Z"
   },
   {
    "duration": 1173,
    "start_time": "2023-07-07T04:48:06.735Z"
   },
   {
    "duration": 376265,
    "start_time": "2023-07-07T04:48:07.909Z"
   },
   {
    "duration": 2454313,
    "start_time": "2023-07-07T04:54:24.175Z"
   },
   {
    "duration": 47202,
    "start_time": "2023-07-07T06:51:41.383Z"
   },
   {
    "duration": 257,
    "start_time": "2023-07-07T06:52:28.586Z"
   },
   {
    "duration": 3,
    "start_time": "2023-07-07T06:52:28.845Z"
   },
   {
    "duration": 188520,
    "start_time": "2023-07-07T06:52:28.849Z"
   },
   {
    "duration": 926,
    "start_time": "2023-07-07T06:55:37.371Z"
   },
   {
    "duration": 6,
    "start_time": "2023-07-07T06:55:38.300Z"
   },
   {
    "duration": 1523,
    "start_time": "2023-07-07T07:09:25.888Z"
   },
   {
    "duration": 898,
    "start_time": "2023-07-07T07:09:27.413Z"
   },
   {
    "duration": 23,
    "start_time": "2023-07-07T07:09:28.314Z"
   },
   {
    "duration": 127,
    "start_time": "2023-07-07T07:09:28.340Z"
   },
   {
    "duration": 448,
    "start_time": "2023-07-07T07:09:28.469Z"
   },
   {
    "duration": 519,
    "start_time": "2023-07-07T07:09:28.919Z"
   },
   {
    "duration": 18,
    "start_time": "2023-07-07T07:09:29.439Z"
   },
   {
    "duration": 113,
    "start_time": "2023-07-07T07:09:29.458Z"
   },
   {
    "duration": 65,
    "start_time": "2023-07-07T07:09:29.572Z"
   },
   {
    "duration": 23,
    "start_time": "2023-07-07T07:09:29.639Z"
   },
   {
    "duration": 18,
    "start_time": "2023-07-07T07:09:29.663Z"
   },
   {
    "duration": 39,
    "start_time": "2023-07-07T07:09:29.683Z"
   },
   {
    "duration": 42,
    "start_time": "2023-07-07T07:09:29.727Z"
   },
   {
    "duration": 50,
    "start_time": "2023-07-07T07:09:29.770Z"
   },
   {
    "duration": 37,
    "start_time": "2023-07-07T07:09:29.824Z"
   },
   {
    "duration": 46,
    "start_time": "2023-07-07T07:09:29.862Z"
   },
   {
    "duration": 192,
    "start_time": "2023-07-07T07:09:29.909Z"
   },
   {
    "duration": 3541,
    "start_time": "2023-07-07T07:09:30.109Z"
   },
   {
    "duration": 172,
    "start_time": "2023-07-07T07:09:33.651Z"
   },
   {
    "duration": 3585,
    "start_time": "2023-07-07T07:09:33.824Z"
   },
   {
    "duration": 14,
    "start_time": "2023-07-07T07:09:37.414Z"
   },
   {
    "duration": 51,
    "start_time": "2023-07-07T07:09:37.429Z"
   },
   {
    "duration": 7,
    "start_time": "2023-07-07T07:09:37.482Z"
   },
   {
    "duration": 43,
    "start_time": "2023-07-07T07:09:37.490Z"
   },
   {
    "duration": 22,
    "start_time": "2023-07-07T07:09:37.535Z"
   },
   {
    "duration": 26,
    "start_time": "2023-07-07T07:09:37.558Z"
   },
   {
    "duration": 20,
    "start_time": "2023-07-07T07:09:37.586Z"
   },
   {
    "duration": 75,
    "start_time": "2023-07-07T07:09:37.608Z"
   },
   {
    "duration": 984,
    "start_time": "2023-07-07T07:09:37.685Z"
   },
   {
    "duration": 364743,
    "start_time": "2023-07-07T07:09:38.670Z"
   },
   {
    "duration": 2474255,
    "start_time": "2023-07-07T07:15:43.417Z"
   },
   {
    "duration": 45673,
    "start_time": "2023-07-07T08:33:38.584Z"
   },
   {
    "duration": 254,
    "start_time": "2023-07-07T08:34:24.258Z"
   },
   {
    "duration": 7,
    "start_time": "2023-07-07T08:34:24.514Z"
   },
   {
    "duration": 176504,
    "start_time": "2023-07-07T08:34:24.523Z"
   },
   {
    "duration": 826,
    "start_time": "2023-07-07T08:37:21.030Z"
   },
   {
    "duration": 4,
    "start_time": "2023-07-07T08:37:21.858Z"
   },
   {
    "duration": 1905707,
    "start_time": "2023-07-07T08:37:21.864Z"
   },
   {
    "duration": 446,
    "start_time": "2023-07-07T09:09:07.575Z"
   },
   {
    "duration": 4,
    "start_time": "2023-07-07T09:09:08.024Z"
   },
   {
    "duration": 30,
    "start_time": "2023-07-07T09:09:08.030Z"
   },
   {
    "duration": 1407,
    "start_time": "2023-07-07T09:10:28.552Z"
   },
   {
    "duration": 881,
    "start_time": "2023-07-07T09:10:29.961Z"
   },
   {
    "duration": 29,
    "start_time": "2023-07-07T09:10:30.846Z"
   },
   {
    "duration": 161,
    "start_time": "2023-07-07T09:10:30.879Z"
   },
   {
    "duration": 440,
    "start_time": "2023-07-07T09:10:31.042Z"
   },
   {
    "duration": 565,
    "start_time": "2023-07-07T09:10:31.484Z"
   },
   {
    "duration": 22,
    "start_time": "2023-07-07T09:10:32.050Z"
   },
   {
    "duration": 152,
    "start_time": "2023-07-07T09:10:32.074Z"
   },
   {
    "duration": 40,
    "start_time": "2023-07-07T09:10:32.232Z"
   },
   {
    "duration": 45,
    "start_time": "2023-07-07T09:10:32.274Z"
   },
   {
    "duration": 54,
    "start_time": "2023-07-07T09:10:32.320Z"
   },
   {
    "duration": 72,
    "start_time": "2023-07-07T09:10:32.376Z"
   },
   {
    "duration": 32,
    "start_time": "2023-07-07T09:10:32.453Z"
   },
   {
    "duration": 56,
    "start_time": "2023-07-07T09:10:32.487Z"
   },
   {
    "duration": 69,
    "start_time": "2023-07-07T09:10:32.544Z"
   },
   {
    "duration": 54,
    "start_time": "2023-07-07T09:10:32.614Z"
   },
   {
    "duration": 200,
    "start_time": "2023-07-07T09:10:32.669Z"
   },
   {
    "duration": 3479,
    "start_time": "2023-07-07T09:10:32.870Z"
   },
   {
    "duration": 228,
    "start_time": "2023-07-07T09:10:36.351Z"
   },
   {
    "duration": 3405,
    "start_time": "2023-07-07T09:10:36.581Z"
   },
   {
    "duration": 8,
    "start_time": "2023-07-07T09:10:39.987Z"
   },
   {
    "duration": 47,
    "start_time": "2023-07-07T09:10:39.999Z"
   },
   {
    "duration": 31,
    "start_time": "2023-07-07T09:10:40.048Z"
   },
   {
    "duration": 26,
    "start_time": "2023-07-07T09:10:40.081Z"
   },
   {
    "duration": 8,
    "start_time": "2023-07-07T09:10:40.108Z"
   },
   {
    "duration": 26,
    "start_time": "2023-07-07T09:10:40.118Z"
   },
   {
    "duration": 29,
    "start_time": "2023-07-07T09:10:40.146Z"
   },
   {
    "duration": 67,
    "start_time": "2023-07-07T09:10:40.177Z"
   },
   {
    "duration": 893,
    "start_time": "2023-07-07T09:10:40.246Z"
   },
   {
    "duration": 365494,
    "start_time": "2023-07-07T09:10:41.146Z"
   },
   {
    "duration": 1718,
    "start_time": "2023-07-07T10:10:31.632Z"
   },
   {
    "duration": 1175,
    "start_time": "2023-07-07T10:10:33.355Z"
   },
   {
    "duration": 32,
    "start_time": "2023-07-07T10:10:34.534Z"
   },
   {
    "duration": 126,
    "start_time": "2023-07-07T10:10:34.568Z"
   },
   {
    "duration": 646,
    "start_time": "2023-07-07T10:10:34.697Z"
   },
   {
    "duration": 584,
    "start_time": "2023-07-07T10:10:35.345Z"
   },
   {
    "duration": 23,
    "start_time": "2023-07-07T10:10:35.930Z"
   },
   {
    "duration": 145,
    "start_time": "2023-07-07T10:10:35.955Z"
   },
   {
    "duration": 135,
    "start_time": "2023-07-07T10:10:36.102Z"
   },
   {
    "duration": 63,
    "start_time": "2023-07-07T10:10:36.240Z"
   },
   {
    "duration": 106,
    "start_time": "2023-07-07T10:10:36.305Z"
   },
   {
    "duration": 78,
    "start_time": "2023-07-07T10:10:36.415Z"
   },
   {
    "duration": 65,
    "start_time": "2023-07-07T10:10:36.495Z"
   },
   {
    "duration": 22,
    "start_time": "2023-07-07T10:10:36.562Z"
   },
   {
    "duration": 85,
    "start_time": "2023-07-07T10:10:36.586Z"
   },
   {
    "duration": 70,
    "start_time": "2023-07-07T10:10:36.673Z"
   },
   {
    "duration": 228,
    "start_time": "2023-07-07T10:10:36.745Z"
   },
   {
    "duration": 3911,
    "start_time": "2023-07-07T10:10:36.974Z"
   },
   {
    "duration": 239,
    "start_time": "2023-07-07T10:10:40.887Z"
   },
   {
    "duration": 3934,
    "start_time": "2023-07-07T10:10:41.127Z"
   },
   {
    "duration": 11,
    "start_time": "2023-07-07T10:10:45.062Z"
   },
   {
    "duration": 52,
    "start_time": "2023-07-07T10:10:45.074Z"
   },
   {
    "duration": 29,
    "start_time": "2023-07-07T10:10:45.128Z"
   },
   {
    "duration": 52,
    "start_time": "2023-07-07T10:10:45.158Z"
   },
   {
    "duration": 9,
    "start_time": "2023-07-07T10:10:45.214Z"
   },
   {
    "duration": 56,
    "start_time": "2023-07-07T10:10:45.225Z"
   },
   {
    "duration": 23,
    "start_time": "2023-07-07T10:10:45.283Z"
   },
   {
    "duration": 116,
    "start_time": "2023-07-07T10:10:45.310Z"
   },
   {
    "duration": 1082,
    "start_time": "2023-07-07T10:10:45.428Z"
   },
   {
    "duration": 415940,
    "start_time": "2023-07-07T10:10:46.511Z"
   },
   {
    "duration": 1417,
    "start_time": "2023-07-07T10:52:26.710Z"
   },
   {
    "duration": 892,
    "start_time": "2023-07-07T10:52:28.132Z"
   },
   {
    "duration": 22,
    "start_time": "2023-07-07T10:52:29.025Z"
   },
   {
    "duration": 99,
    "start_time": "2023-07-07T10:52:29.048Z"
   },
   {
    "duration": 435,
    "start_time": "2023-07-07T10:52:29.149Z"
   },
   {
    "duration": 564,
    "start_time": "2023-07-07T10:52:29.585Z"
   },
   {
    "duration": 21,
    "start_time": "2023-07-07T10:52:30.150Z"
   },
   {
    "duration": 123,
    "start_time": "2023-07-07T10:52:30.172Z"
   },
   {
    "duration": 94,
    "start_time": "2023-07-07T10:52:30.296Z"
   },
   {
    "duration": 81,
    "start_time": "2023-07-07T10:52:30.391Z"
   },
   {
    "duration": 57,
    "start_time": "2023-07-07T10:52:30.473Z"
   },
   {
    "duration": 97,
    "start_time": "2023-07-07T10:52:30.532Z"
   },
   {
    "duration": 92,
    "start_time": "2023-07-07T10:52:30.633Z"
   },
   {
    "duration": 74,
    "start_time": "2023-07-07T10:52:30.736Z"
   },
   {
    "duration": 136,
    "start_time": "2023-07-07T10:52:30.811Z"
   },
   {
    "duration": 165,
    "start_time": "2023-07-07T10:52:30.949Z"
   },
   {
    "duration": 313,
    "start_time": "2023-07-07T10:52:31.116Z"
   },
   {
    "duration": 3594,
    "start_time": "2023-07-07T10:52:31.434Z"
   },
   {
    "duration": 149,
    "start_time": "2023-07-07T10:52:35.030Z"
   },
   {
    "duration": 3618,
    "start_time": "2023-07-07T10:52:35.181Z"
   },
   {
    "duration": 10,
    "start_time": "2023-07-07T10:52:38.808Z"
   },
   {
    "duration": 51,
    "start_time": "2023-07-07T10:52:38.825Z"
   },
   {
    "duration": 6,
    "start_time": "2023-07-07T10:52:38.878Z"
   },
   {
    "duration": 36,
    "start_time": "2023-07-07T10:52:38.885Z"
   },
   {
    "duration": 16,
    "start_time": "2023-07-07T10:52:38.922Z"
   },
   {
    "duration": 30,
    "start_time": "2023-07-07T10:52:38.940Z"
   },
   {
    "duration": 14,
    "start_time": "2023-07-07T10:52:38.972Z"
   },
   {
    "duration": 66,
    "start_time": "2023-07-07T10:52:38.987Z"
   },
   {
    "duration": 867,
    "start_time": "2023-07-07T10:52:39.054Z"
   },
   {
    "duration": 367230,
    "start_time": "2023-07-07T10:52:39.922Z"
   },
   {
    "duration": 1874,
    "start_time": "2023-07-07T11:48:09.076Z"
   },
   {
    "duration": 1341,
    "start_time": "2023-07-07T11:48:10.952Z"
   },
   {
    "duration": 46,
    "start_time": "2023-07-07T11:48:12.295Z"
   },
   {
    "duration": 121,
    "start_time": "2023-07-07T11:48:12.343Z"
   },
   {
    "duration": 578,
    "start_time": "2023-07-07T11:48:12.467Z"
   },
   {
    "duration": 650,
    "start_time": "2023-07-07T11:48:13.054Z"
   },
   {
    "duration": 23,
    "start_time": "2023-07-07T11:48:13.707Z"
   },
   {
    "duration": 157,
    "start_time": "2023-07-07T11:48:13.732Z"
   },
   {
    "duration": 53,
    "start_time": "2023-07-07T11:48:13.891Z"
   },
   {
    "duration": 41,
    "start_time": "2023-07-07T11:48:13.946Z"
   },
   {
    "duration": 37,
    "start_time": "2023-07-07T11:48:13.989Z"
   },
   {
    "duration": 50,
    "start_time": "2023-07-07T11:48:14.028Z"
   },
   {
    "duration": 96,
    "start_time": "2023-07-07T11:48:14.083Z"
   },
   {
    "duration": 33,
    "start_time": "2023-07-07T11:48:14.180Z"
   },
   {
    "duration": 52,
    "start_time": "2023-07-07T11:48:14.223Z"
   },
   {
    "duration": 70,
    "start_time": "2023-07-07T11:48:14.277Z"
   },
   {
    "duration": 205,
    "start_time": "2023-07-07T11:48:14.349Z"
   },
   {
    "duration": 4208,
    "start_time": "2023-07-07T11:48:14.558Z"
   },
   {
    "duration": 163,
    "start_time": "2023-07-07T11:48:18.767Z"
   },
   {
    "duration": 3887,
    "start_time": "2023-07-07T11:48:18.931Z"
   },
   {
    "duration": 17,
    "start_time": "2023-07-07T11:48:22.836Z"
   },
   {
    "duration": 41,
    "start_time": "2023-07-07T11:48:22.855Z"
   },
   {
    "duration": 40,
    "start_time": "2023-07-07T11:48:22.897Z"
   },
   {
    "duration": 32,
    "start_time": "2023-07-07T11:48:22.939Z"
   },
   {
    "duration": 7,
    "start_time": "2023-07-07T11:48:22.972Z"
   },
   {
    "duration": 40,
    "start_time": "2023-07-07T11:48:22.981Z"
   },
   {
    "duration": 25,
    "start_time": "2023-07-07T11:48:23.024Z"
   },
   {
    "duration": 89,
    "start_time": "2023-07-07T11:48:23.051Z"
   },
   {
    "duration": 970,
    "start_time": "2023-07-07T11:48:23.142Z"
   },
   {
    "duration": 396000,
    "start_time": "2023-07-07T11:48:24.116Z"
   },
   {
    "duration": 1537,
    "start_time": "2023-07-07T13:11:54.118Z"
   },
   {
    "duration": 1096,
    "start_time": "2023-07-07T13:11:55.666Z"
   },
   {
    "duration": 35,
    "start_time": "2023-07-07T13:11:56.766Z"
   },
   {
    "duration": 166,
    "start_time": "2023-07-07T13:11:56.806Z"
   },
   {
    "duration": 713,
    "start_time": "2023-07-07T13:11:56.976Z"
   },
   {
    "duration": 596,
    "start_time": "2023-07-07T13:11:57.690Z"
   },
   {
    "duration": 29,
    "start_time": "2023-07-07T13:11:58.287Z"
   },
   {
    "duration": 159,
    "start_time": "2023-07-07T13:11:58.324Z"
   },
   {
    "duration": 70,
    "start_time": "2023-07-07T13:11:58.485Z"
   },
   {
    "duration": 19,
    "start_time": "2023-07-07T13:11:58.570Z"
   },
   {
    "duration": 36,
    "start_time": "2023-07-07T13:11:58.591Z"
   },
   {
    "duration": 64,
    "start_time": "2023-07-07T13:11:58.631Z"
   },
   {
    "duration": 81,
    "start_time": "2023-07-07T13:11:58.697Z"
   },
   {
    "duration": 15,
    "start_time": "2023-07-07T13:11:58.783Z"
   },
   {
    "duration": 89,
    "start_time": "2023-07-07T13:11:58.817Z"
   },
   {
    "duration": 108,
    "start_time": "2023-07-07T13:11:58.909Z"
   },
   {
    "duration": 224,
    "start_time": "2023-07-07T13:11:59.019Z"
   },
   {
    "duration": 4205,
    "start_time": "2023-07-07T13:11:59.244Z"
   },
   {
    "duration": 195,
    "start_time": "2023-07-07T13:12:03.450Z"
   },
   {
    "duration": 4091,
    "start_time": "2023-07-07T13:12:03.646Z"
   },
   {
    "duration": 14,
    "start_time": "2023-07-07T13:12:07.738Z"
   },
   {
    "duration": 85,
    "start_time": "2023-07-07T13:12:07.756Z"
   },
   {
    "duration": 11,
    "start_time": "2023-07-07T13:12:07.848Z"
   },
   {
    "duration": 60,
    "start_time": "2023-07-07T13:12:07.861Z"
   },
   {
    "duration": 15,
    "start_time": "2023-07-07T13:12:07.922Z"
   },
   {
    "duration": 54,
    "start_time": "2023-07-07T13:12:07.940Z"
   },
   {
    "duration": 43,
    "start_time": "2023-07-07T13:12:07.996Z"
   },
   {
    "duration": 124,
    "start_time": "2023-07-07T13:12:08.050Z"
   },
   {
    "duration": 988,
    "start_time": "2023-07-07T13:12:08.177Z"
   },
   {
    "duration": 393944,
    "start_time": "2023-07-07T13:12:09.167Z"
   },
   {
    "duration": 1514,
    "start_time": "2023-07-07T14:20:48.777Z"
   },
   {
    "duration": 884,
    "start_time": "2023-07-07T14:20:50.293Z"
   },
   {
    "duration": 31,
    "start_time": "2023-07-07T14:20:51.178Z"
   },
   {
    "duration": 130,
    "start_time": "2023-07-07T14:20:51.224Z"
   },
   {
    "duration": 422,
    "start_time": "2023-07-07T14:20:51.355Z"
   },
   {
    "duration": 759,
    "start_time": "2023-07-07T14:20:51.778Z"
   },
   {
    "duration": 15,
    "start_time": "2023-07-07T14:20:52.539Z"
   },
   {
    "duration": 92,
    "start_time": "2023-07-07T14:20:52.556Z"
   },
   {
    "duration": 79,
    "start_time": "2023-07-07T14:20:52.650Z"
   },
   {
    "duration": 86,
    "start_time": "2023-07-07T14:20:52.731Z"
   },
   {
    "duration": 60,
    "start_time": "2023-07-07T14:20:52.820Z"
   },
   {
    "duration": 45,
    "start_time": "2023-07-07T14:20:52.882Z"
   },
   {
    "duration": 52,
    "start_time": "2023-07-07T14:20:52.933Z"
   },
   {
    "duration": 58,
    "start_time": "2023-07-07T14:20:52.987Z"
   },
   {
    "duration": 62,
    "start_time": "2023-07-07T14:20:53.046Z"
   },
   {
    "duration": 55,
    "start_time": "2023-07-07T14:20:53.109Z"
   },
   {
    "duration": 179,
    "start_time": "2023-07-07T14:20:53.165Z"
   },
   {
    "duration": 3567,
    "start_time": "2023-07-07T14:20:53.346Z"
   },
   {
    "duration": 158,
    "start_time": "2023-07-07T14:20:56.915Z"
   },
   {
    "duration": 3664,
    "start_time": "2023-07-07T14:20:57.075Z"
   },
   {
    "duration": 18,
    "start_time": "2023-07-07T14:21:00.743Z"
   },
   {
    "duration": 117,
    "start_time": "2023-07-07T14:21:00.764Z"
   },
   {
    "duration": 77,
    "start_time": "2023-07-07T14:21:00.882Z"
   },
   {
    "duration": 90,
    "start_time": "2023-07-07T14:21:00.961Z"
   },
   {
    "duration": 107,
    "start_time": "2023-07-07T14:21:01.052Z"
   },
   {
    "duration": 78,
    "start_time": "2023-07-07T14:21:01.163Z"
   },
   {
    "duration": 132,
    "start_time": "2023-07-07T14:21:01.249Z"
   },
   {
    "duration": 160,
    "start_time": "2023-07-07T14:21:01.384Z"
   },
   {
    "duration": 1083,
    "start_time": "2023-07-07T14:21:01.547Z"
   },
   {
    "duration": 1307,
    "start_time": "2023-07-07T15:27:24.673Z"
   },
   {
    "duration": 897,
    "start_time": "2023-07-07T15:27:25.982Z"
   },
   {
    "duration": 49,
    "start_time": "2023-07-07T15:27:26.880Z"
   },
   {
    "duration": 99,
    "start_time": "2023-07-07T15:27:26.931Z"
   },
   {
    "duration": 408,
    "start_time": "2023-07-07T15:27:27.033Z"
   },
   {
    "duration": 495,
    "start_time": "2023-07-07T15:27:27.442Z"
   },
   {
    "duration": 15,
    "start_time": "2023-07-07T15:27:27.939Z"
   },
   {
    "duration": 93,
    "start_time": "2023-07-07T15:27:27.956Z"
   },
   {
    "duration": 27,
    "start_time": "2023-07-07T15:27:28.051Z"
   },
   {
    "duration": 58,
    "start_time": "2023-07-07T15:27:28.079Z"
   },
   {
    "duration": 23,
    "start_time": "2023-07-07T15:27:28.139Z"
   },
   {
    "duration": 23,
    "start_time": "2023-07-07T15:27:28.164Z"
   },
   {
    "duration": 41,
    "start_time": "2023-07-07T15:27:28.189Z"
   },
   {
    "duration": 18,
    "start_time": "2023-07-07T15:27:28.234Z"
   },
   {
    "duration": 20,
    "start_time": "2023-07-07T15:27:28.253Z"
   },
   {
    "duration": 56,
    "start_time": "2023-07-07T15:27:28.274Z"
   },
   {
    "duration": 141,
    "start_time": "2023-07-07T15:27:28.332Z"
   },
   {
    "duration": 3379,
    "start_time": "2023-07-07T15:27:28.474Z"
   },
   {
    "duration": 139,
    "start_time": "2023-07-07T15:27:31.854Z"
   },
   {
    "duration": 3308,
    "start_time": "2023-07-07T15:27:31.994Z"
   },
   {
    "duration": 23,
    "start_time": "2023-07-07T15:27:35.310Z"
   },
   {
    "duration": 43,
    "start_time": "2023-07-07T15:27:35.335Z"
   },
   {
    "duration": 8,
    "start_time": "2023-07-07T15:27:35.379Z"
   },
   {
    "duration": 42,
    "start_time": "2023-07-07T15:27:35.388Z"
   },
   {
    "duration": 17,
    "start_time": "2023-07-07T15:27:35.432Z"
   },
   {
    "duration": 28,
    "start_time": "2023-07-07T15:27:35.450Z"
   },
   {
    "duration": 15,
    "start_time": "2023-07-07T15:27:35.479Z"
   },
   {
    "duration": 76,
    "start_time": "2023-07-07T15:27:35.496Z"
   },
   {
    "duration": 902,
    "start_time": "2023-07-07T15:27:35.574Z"
   },
   {
    "duration": 1285,
    "start_time": "2023-07-07T15:37:11.976Z"
   },
   {
    "duration": 834,
    "start_time": "2023-07-07T15:37:13.264Z"
   },
   {
    "duration": 20,
    "start_time": "2023-07-07T15:37:14.106Z"
   },
   {
    "duration": 99,
    "start_time": "2023-07-07T15:37:14.128Z"
   },
   {
    "duration": 413,
    "start_time": "2023-07-07T15:37:14.229Z"
   },
   {
    "duration": 490,
    "start_time": "2023-07-07T15:37:14.644Z"
   },
   {
    "duration": 16,
    "start_time": "2023-07-07T15:37:15.136Z"
   },
   {
    "duration": 101,
    "start_time": "2023-07-07T15:37:15.154Z"
   },
   {
    "duration": 29,
    "start_time": "2023-07-07T15:37:15.256Z"
   },
   {
    "duration": 35,
    "start_time": "2023-07-07T15:37:15.286Z"
   },
   {
    "duration": 29,
    "start_time": "2023-07-07T15:37:15.322Z"
   },
   {
    "duration": 51,
    "start_time": "2023-07-07T15:37:15.353Z"
   },
   {
    "duration": 34,
    "start_time": "2023-07-07T15:37:15.407Z"
   },
   {
    "duration": 29,
    "start_time": "2023-07-07T15:37:15.443Z"
   },
   {
    "duration": 41,
    "start_time": "2023-07-07T15:37:15.474Z"
   },
   {
    "duration": 49,
    "start_time": "2023-07-07T15:37:15.517Z"
   },
   {
    "duration": 159,
    "start_time": "2023-07-07T15:37:15.567Z"
   },
   {
    "duration": 3316,
    "start_time": "2023-07-07T15:37:15.729Z"
   },
   {
    "duration": 137,
    "start_time": "2023-07-07T15:37:19.046Z"
   },
   {
    "duration": 3112,
    "start_time": "2023-07-07T15:37:19.185Z"
   },
   {
    "duration": 19,
    "start_time": "2023-07-07T15:37:22.299Z"
   },
   {
    "duration": 51,
    "start_time": "2023-07-07T15:37:22.320Z"
   },
   {
    "duration": 8,
    "start_time": "2023-07-07T15:37:22.372Z"
   },
   {
    "duration": 46,
    "start_time": "2023-07-07T15:37:22.382Z"
   },
   {
    "duration": 20,
    "start_time": "2023-07-07T15:37:22.429Z"
   },
   {
    "duration": 29,
    "start_time": "2023-07-07T15:37:22.451Z"
   },
   {
    "duration": 31,
    "start_time": "2023-07-07T15:37:22.481Z"
   },
   {
    "duration": 53,
    "start_time": "2023-07-07T15:37:22.515Z"
   },
   {
    "duration": 813,
    "start_time": "2023-07-07T15:37:22.569Z"
   },
   {
    "duration": 44535,
    "start_time": "2023-07-07T15:37:23.383Z"
   },
   {
    "duration": 1186,
    "start_time": "2023-07-07T15:41:00.563Z"
   },
   {
    "duration": 769,
    "start_time": "2023-07-07T15:41:01.751Z"
   },
   {
    "duration": 19,
    "start_time": "2023-07-07T15:41:02.522Z"
   },
   {
    "duration": 109,
    "start_time": "2023-07-07T15:41:02.543Z"
   },
   {
    "duration": 383,
    "start_time": "2023-07-07T15:41:02.654Z"
   },
   {
    "duration": 448,
    "start_time": "2023-07-07T15:41:03.038Z"
   },
   {
    "duration": 30,
    "start_time": "2023-07-07T15:41:03.488Z"
   },
   {
    "duration": 68,
    "start_time": "2023-07-07T15:41:03.519Z"
   },
   {
    "duration": 49,
    "start_time": "2023-07-07T15:41:03.589Z"
   },
   {
    "duration": 17,
    "start_time": "2023-07-07T15:41:03.640Z"
   },
   {
    "duration": 16,
    "start_time": "2023-07-07T15:41:03.659Z"
   },
   {
    "duration": 25,
    "start_time": "2023-07-07T15:41:03.676Z"
   },
   {
    "duration": 23,
    "start_time": "2023-07-07T15:41:03.707Z"
   },
   {
    "duration": 19,
    "start_time": "2023-07-07T15:41:03.731Z"
   },
   {
    "duration": 23,
    "start_time": "2023-07-07T15:41:03.751Z"
   },
   {
    "duration": 64,
    "start_time": "2023-07-07T15:41:03.775Z"
   },
   {
    "duration": 125,
    "start_time": "2023-07-07T15:41:03.841Z"
   },
   {
    "duration": 3047,
    "start_time": "2023-07-07T15:41:03.967Z"
   },
   {
    "duration": 129,
    "start_time": "2023-07-07T15:41:07.015Z"
   },
   {
    "duration": 2938,
    "start_time": "2023-07-07T15:41:07.146Z"
   },
   {
    "duration": 8,
    "start_time": "2023-07-07T15:41:10.086Z"
   },
   {
    "duration": 57,
    "start_time": "2023-07-07T15:41:10.099Z"
   },
   {
    "duration": 5,
    "start_time": "2023-07-07T15:41:10.158Z"
   },
   {
    "duration": 24,
    "start_time": "2023-07-07T15:41:10.164Z"
   },
   {
    "duration": 9,
    "start_time": "2023-07-07T15:41:10.190Z"
   },
   {
    "duration": 44,
    "start_time": "2023-07-07T15:41:10.200Z"
   },
   {
    "duration": 26,
    "start_time": "2023-07-07T15:41:10.246Z"
   },
   {
    "duration": 57,
    "start_time": "2023-07-07T15:41:10.274Z"
   },
   {
    "duration": 825,
    "start_time": "2023-07-07T15:41:10.332Z"
   },
   {
    "duration": 1244,
    "start_time": "2023-07-07T15:42:55.415Z"
   },
   {
    "duration": 772,
    "start_time": "2023-07-07T15:42:56.661Z"
   },
   {
    "duration": 19,
    "start_time": "2023-07-07T15:42:57.435Z"
   },
   {
    "duration": 95,
    "start_time": "2023-07-07T15:42:57.455Z"
   },
   {
    "duration": 373,
    "start_time": "2023-07-07T15:42:57.551Z"
   },
   {
    "duration": 451,
    "start_time": "2023-07-07T15:42:57.926Z"
   },
   {
    "duration": 14,
    "start_time": "2023-07-07T15:42:58.379Z"
   },
   {
    "duration": 73,
    "start_time": "2023-07-07T15:42:58.399Z"
   },
   {
    "duration": 41,
    "start_time": "2023-07-07T15:42:58.473Z"
   },
   {
    "duration": 19,
    "start_time": "2023-07-07T15:42:58.515Z"
   },
   {
    "duration": 17,
    "start_time": "2023-07-07T15:42:58.535Z"
   },
   {
    "duration": 22,
    "start_time": "2023-07-07T15:42:58.554Z"
   },
   {
    "duration": 37,
    "start_time": "2023-07-07T15:42:58.578Z"
   },
   {
    "duration": 17,
    "start_time": "2023-07-07T15:42:58.619Z"
   },
   {
    "duration": 18,
    "start_time": "2023-07-07T15:42:58.637Z"
   },
   {
    "duration": 33,
    "start_time": "2023-07-07T15:42:58.656Z"
   },
   {
    "duration": 145,
    "start_time": "2023-07-07T15:42:58.691Z"
   },
   {
    "duration": 2976,
    "start_time": "2023-07-07T15:42:58.838Z"
   },
   {
    "duration": 133,
    "start_time": "2023-07-07T15:43:01.815Z"
   },
   {
    "duration": 2977,
    "start_time": "2023-07-07T15:43:01.949Z"
   },
   {
    "duration": 10,
    "start_time": "2023-07-07T15:43:04.928Z"
   },
   {
    "duration": 32,
    "start_time": "2023-07-07T15:43:04.939Z"
   },
   {
    "duration": 5,
    "start_time": "2023-07-07T15:43:04.972Z"
   },
   {
    "duration": 51,
    "start_time": "2023-07-07T15:43:04.978Z"
   },
   {
    "duration": 7,
    "start_time": "2023-07-07T15:43:05.030Z"
   },
   {
    "duration": 29,
    "start_time": "2023-07-07T15:43:05.038Z"
   },
   {
    "duration": 13,
    "start_time": "2023-07-07T15:43:05.069Z"
   },
   {
    "duration": 54,
    "start_time": "2023-07-07T15:43:05.084Z"
   },
   {
    "duration": 873,
    "start_time": "2023-07-07T15:43:05.140Z"
   },
   {
    "duration": 1165,
    "start_time": "2023-07-07T16:14:37.363Z"
   },
   {
    "duration": 771,
    "start_time": "2023-07-07T16:14:39.156Z"
   },
   {
    "duration": 17,
    "start_time": "2023-07-07T16:14:41.825Z"
   },
   {
    "duration": 93,
    "start_time": "2023-07-07T16:14:43.226Z"
   },
   {
    "duration": 375,
    "start_time": "2023-07-07T16:14:45.508Z"
   },
   {
    "duration": 476,
    "start_time": "2023-07-07T16:14:47.729Z"
   },
   {
    "duration": 23,
    "start_time": "2023-07-07T16:14:50.709Z"
   },
   {
    "duration": 71,
    "start_time": "2023-07-07T16:14:51.791Z"
   },
   {
    "duration": 35,
    "start_time": "2023-07-07T16:14:53.389Z"
   },
   {
    "duration": 18,
    "start_time": "2023-07-07T16:14:55.159Z"
   },
   {
    "duration": 17,
    "start_time": "2023-07-07T16:14:56.411Z"
   },
   {
    "duration": 18,
    "start_time": "2023-07-07T16:14:57.453Z"
   },
   {
    "duration": 19,
    "start_time": "2023-07-07T16:14:58.880Z"
   },
   {
    "duration": 16,
    "start_time": "2023-07-07T16:15:00.165Z"
   },
   {
    "duration": 17,
    "start_time": "2023-07-07T16:15:01.247Z"
   },
   {
    "duration": 35,
    "start_time": "2023-07-07T16:15:01.789Z"
   },
   {
    "duration": 128,
    "start_time": "2023-07-07T16:15:02.822Z"
   },
   {
    "duration": 3055,
    "start_time": "2023-07-07T16:15:03.540Z"
   },
   {
    "duration": 134,
    "start_time": "2023-07-07T16:15:08.234Z"
   },
   {
    "duration": 2981,
    "start_time": "2023-07-07T16:15:08.866Z"
   },
   {
    "duration": 9,
    "start_time": "2023-07-07T16:15:14.011Z"
   },
   {
    "duration": 32,
    "start_time": "2023-07-07T16:15:15.660Z"
   },
   {
    "duration": 6,
    "start_time": "2023-07-07T16:15:17.456Z"
   },
   {
    "duration": 23,
    "start_time": "2023-07-07T16:15:18.911Z"
   },
   {
    "duration": 6,
    "start_time": "2023-07-07T16:15:20.125Z"
   },
   {
    "duration": 23,
    "start_time": "2023-07-07T16:15:21.841Z"
   },
   {
    "duration": 14,
    "start_time": "2023-07-07T16:15:24.433Z"
   },
   {
    "duration": 48,
    "start_time": "2023-07-07T16:15:28.215Z"
   },
   {
    "duration": 824,
    "start_time": "2023-07-07T16:15:30.611Z"
   },
   {
    "duration": 2451008,
    "start_time": "2023-07-07T16:15:34.898Z"
   },
   {
    "duration": 307533,
    "start_time": "2023-07-07T17:01:05.248Z"
   },
   {
    "duration": 2118875,
    "start_time": "2023-07-07T17:10:11.421Z"
   },
   {
    "duration": 40321,
    "start_time": "2023-07-07T17:48:44.358Z"
   },
   {
    "duration": 213,
    "start_time": "2023-07-07T17:49:28.386Z"
   },
   {
    "duration": 4,
    "start_time": "2023-07-07T17:49:32.576Z"
   },
   {
    "duration": 157317,
    "start_time": "2023-07-07T17:49:36.028Z"
   },
   {
    "duration": 659,
    "start_time": "2023-07-07T17:52:17.076Z"
   },
   {
    "duration": 4,
    "start_time": "2023-07-07T17:52:21.227Z"
   },
   {
    "duration": 50381,
    "start_time": "2023-07-07T17:52:27.227Z"
   },
   {
    "duration": 1754,
    "start_time": "2023-07-07T17:53:30.776Z"
   },
   {
    "duration": 4,
    "start_time": "2023-07-07T17:53:34.130Z"
   },
   {
    "duration": 20,
    "start_time": "2023-07-07T18:30:04.185Z"
   },
   {
    "duration": 1329,
    "start_time": "2023-07-08T22:56:20.757Z"
   },
   {
    "duration": 1319,
    "start_time": "2023-07-08T22:56:22.087Z"
   },
   {
    "duration": 23,
    "start_time": "2023-07-08T22:56:23.407Z"
   },
   {
    "duration": 166,
    "start_time": "2023-07-08T22:56:23.433Z"
   },
   {
    "duration": 498,
    "start_time": "2023-07-08T22:56:23.601Z"
   },
   {
    "duration": 586,
    "start_time": "2023-07-08T22:56:24.101Z"
   },
   {
    "duration": 24,
    "start_time": "2023-07-08T22:56:24.689Z"
   },
   {
    "duration": 162,
    "start_time": "2023-07-08T22:56:24.715Z"
   },
   {
    "duration": 34,
    "start_time": "2023-07-08T22:56:24.879Z"
   },
   {
    "duration": 62,
    "start_time": "2023-07-08T22:56:24.916Z"
   },
   {
    "duration": 20,
    "start_time": "2023-07-08T22:56:24.980Z"
   },
   {
    "duration": 23,
    "start_time": "2023-07-08T22:56:25.002Z"
   },
   {
    "duration": 62,
    "start_time": "2023-07-08T22:56:25.026Z"
   },
   {
    "duration": 32,
    "start_time": "2023-07-08T22:56:25.090Z"
   },
   {
    "duration": 34,
    "start_time": "2023-07-08T22:56:25.124Z"
   },
   {
    "duration": 35,
    "start_time": "2023-07-08T22:56:25.165Z"
   },
   {
    "duration": 190,
    "start_time": "2023-07-08T22:56:25.201Z"
   },
   {
    "duration": 3398,
    "start_time": "2023-07-08T22:56:25.393Z"
   },
   {
    "duration": 193,
    "start_time": "2023-07-08T22:56:28.793Z"
   },
   {
    "duration": 3399,
    "start_time": "2023-07-08T22:56:28.987Z"
   },
   {
    "duration": 14,
    "start_time": "2023-07-08T22:56:32.388Z"
   },
   {
    "duration": 91,
    "start_time": "2023-07-08T22:56:32.404Z"
   },
   {
    "duration": 7,
    "start_time": "2023-07-08T22:56:32.497Z"
   },
   {
    "duration": 73,
    "start_time": "2023-07-08T22:56:32.505Z"
   },
   {
    "duration": 10,
    "start_time": "2023-07-08T22:56:32.580Z"
   },
   {
    "duration": 27,
    "start_time": "2023-07-08T22:56:32.591Z"
   },
   {
    "duration": 37,
    "start_time": "2023-07-08T22:56:32.621Z"
   },
   {
    "duration": 1222,
    "start_time": "2023-07-08T23:00:15.272Z"
   },
   {
    "duration": 1163,
    "start_time": "2023-07-08T23:00:16.496Z"
   },
   {
    "duration": 35,
    "start_time": "2023-07-08T23:00:17.661Z"
   },
   {
    "duration": 166,
    "start_time": "2023-07-08T23:00:17.698Z"
   },
   {
    "duration": 451,
    "start_time": "2023-07-08T23:00:17.867Z"
   },
   {
    "duration": 533,
    "start_time": "2023-07-08T23:00:18.320Z"
   },
   {
    "duration": 21,
    "start_time": "2023-07-08T23:00:18.856Z"
   },
   {
    "duration": 141,
    "start_time": "2023-07-08T23:00:18.879Z"
   },
   {
    "duration": 45,
    "start_time": "2023-07-08T23:00:19.022Z"
   },
   {
    "duration": 30,
    "start_time": "2023-07-08T23:00:19.069Z"
   },
   {
    "duration": 47,
    "start_time": "2023-07-08T23:00:19.103Z"
   },
   {
    "duration": 28,
    "start_time": "2023-07-08T23:00:19.152Z"
   },
   {
    "duration": 24,
    "start_time": "2023-07-08T23:00:19.181Z"
   },
   {
    "duration": 31,
    "start_time": "2023-07-08T23:00:19.208Z"
   },
   {
    "duration": 24,
    "start_time": "2023-07-08T23:00:19.245Z"
   },
   {
    "duration": 36,
    "start_time": "2023-07-08T23:00:19.271Z"
   },
   {
    "duration": 159,
    "start_time": "2023-07-08T23:00:19.308Z"
   },
   {
    "duration": 3119,
    "start_time": "2023-07-08T23:00:19.469Z"
   },
   {
    "duration": 161,
    "start_time": "2023-07-08T23:00:22.590Z"
   },
   {
    "duration": 3151,
    "start_time": "2023-07-08T23:00:22.753Z"
   },
   {
    "duration": 9,
    "start_time": "2023-07-08T23:00:25.906Z"
   },
   {
    "duration": 49,
    "start_time": "2023-07-08T23:00:25.917Z"
   },
   {
    "duration": 7,
    "start_time": "2023-07-08T23:00:25.968Z"
   },
   {
    "duration": 32,
    "start_time": "2023-07-08T23:00:25.977Z"
   },
   {
    "duration": 9,
    "start_time": "2023-07-08T23:00:26.011Z"
   },
   {
    "duration": 46,
    "start_time": "2023-07-08T23:00:26.031Z"
   },
   {
    "duration": 2,
    "start_time": "2023-07-08T23:00:26.079Z"
   },
   {
    "duration": 1201,
    "start_time": "2023-07-08T23:00:26.083Z"
   },
   {
    "duration": 0,
    "start_time": "2023-07-08T23:00:27.286Z"
   },
   {
    "duration": 0,
    "start_time": "2023-07-08T23:00:27.287Z"
   },
   {
    "duration": 0,
    "start_time": "2023-07-08T23:00:27.288Z"
   },
   {
    "duration": 0,
    "start_time": "2023-07-08T23:00:27.290Z"
   },
   {
    "duration": 0,
    "start_time": "2023-07-08T23:00:27.291Z"
   },
   {
    "duration": 0,
    "start_time": "2023-07-08T23:00:27.292Z"
   },
   {
    "duration": 0,
    "start_time": "2023-07-08T23:00:27.293Z"
   },
   {
    "duration": 0,
    "start_time": "2023-07-08T23:00:27.293Z"
   },
   {
    "duration": 0,
    "start_time": "2023-07-08T23:00:27.294Z"
   },
   {
    "duration": 0,
    "start_time": "2023-07-08T23:00:27.296Z"
   },
   {
    "duration": 0,
    "start_time": "2023-07-08T23:00:27.297Z"
   },
   {
    "duration": 0,
    "start_time": "2023-07-08T23:00:27.298Z"
   },
   {
    "duration": 0,
    "start_time": "2023-07-08T23:00:27.299Z"
   },
   {
    "duration": 0,
    "start_time": "2023-07-08T23:00:27.300Z"
   },
   {
    "duration": 0,
    "start_time": "2023-07-08T23:00:27.301Z"
   },
   {
    "duration": 0,
    "start_time": "2023-07-08T23:00:27.302Z"
   },
   {
    "duration": 0,
    "start_time": "2023-07-08T23:00:27.303Z"
   },
   {
    "duration": 0,
    "start_time": "2023-07-08T23:00:27.336Z"
   },
   {
    "duration": 0,
    "start_time": "2023-07-08T23:00:27.337Z"
   },
   {
    "duration": 1222,
    "start_time": "2023-07-08T23:01:45.443Z"
   },
   {
    "duration": 876,
    "start_time": "2023-07-08T23:01:46.668Z"
   },
   {
    "duration": 21,
    "start_time": "2023-07-08T23:01:47.546Z"
   },
   {
    "duration": 157,
    "start_time": "2023-07-08T23:01:47.568Z"
   },
   {
    "duration": 464,
    "start_time": "2023-07-08T23:01:47.728Z"
   },
   {
    "duration": 521,
    "start_time": "2023-07-08T23:01:48.194Z"
   },
   {
    "duration": 29,
    "start_time": "2023-07-08T23:01:48.717Z"
   },
   {
    "duration": 100,
    "start_time": "2023-07-08T23:01:48.748Z"
   },
   {
    "duration": 32,
    "start_time": "2023-07-08T23:01:48.850Z"
   },
   {
    "duration": 22,
    "start_time": "2023-07-08T23:01:48.884Z"
   },
   {
    "duration": 33,
    "start_time": "2023-07-08T23:01:48.907Z"
   },
   {
    "duration": 32,
    "start_time": "2023-07-08T23:01:48.948Z"
   },
   {
    "duration": 27,
    "start_time": "2023-07-08T23:01:48.982Z"
   },
   {
    "duration": 35,
    "start_time": "2023-07-08T23:01:49.012Z"
   },
   {
    "duration": 19,
    "start_time": "2023-07-08T23:01:49.051Z"
   },
   {
    "duration": 36,
    "start_time": "2023-07-08T23:01:49.072Z"
   },
   {
    "duration": 159,
    "start_time": "2023-07-08T23:01:49.109Z"
   },
   {
    "duration": 3248,
    "start_time": "2023-07-08T23:01:49.269Z"
   },
   {
    "duration": 166,
    "start_time": "2023-07-08T23:01:52.519Z"
   },
   {
    "duration": 3226,
    "start_time": "2023-07-08T23:01:52.686Z"
   },
   {
    "duration": 19,
    "start_time": "2023-07-08T23:01:55.913Z"
   },
   {
    "duration": 51,
    "start_time": "2023-07-08T23:01:55.934Z"
   },
   {
    "duration": 6,
    "start_time": "2023-07-08T23:01:55.987Z"
   },
   {
    "duration": 41,
    "start_time": "2023-07-08T23:01:55.994Z"
   },
   {
    "duration": 27,
    "start_time": "2023-07-08T23:01:56.038Z"
   },
   {
    "duration": 29,
    "start_time": "2023-07-08T23:01:56.067Z"
   },
   {
    "duration": 3,
    "start_time": "2023-07-08T23:01:56.098Z"
   },
   {
    "duration": 1303,
    "start_time": "2023-07-08T23:01:56.103Z"
   },
   {
    "duration": 181444,
    "start_time": "2023-07-08T23:01:57.408Z"
   },
   {
    "duration": 57897,
    "start_time": "2023-07-08T23:04:58.854Z"
   },
   {
    "duration": 199,
    "start_time": "2023-07-08T23:05:56.753Z"
   },
   {
    "duration": 90,
    "start_time": "2023-07-08T23:05:56.954Z"
   },
   {
    "duration": 0,
    "start_time": "2023-07-08T23:05:57.047Z"
   },
   {
    "duration": 0,
    "start_time": "2023-07-08T23:05:57.049Z"
   },
   {
    "duration": 0,
    "start_time": "2023-07-08T23:05:57.053Z"
   },
   {
    "duration": 0,
    "start_time": "2023-07-08T23:05:57.054Z"
   },
   {
    "duration": 0,
    "start_time": "2023-07-08T23:05:57.056Z"
   },
   {
    "duration": 0,
    "start_time": "2023-07-08T23:05:57.057Z"
   },
   {
    "duration": 0,
    "start_time": "2023-07-08T23:05:57.059Z"
   },
   {
    "duration": 0,
    "start_time": "2023-07-08T23:05:57.131Z"
   },
   {
    "duration": 0,
    "start_time": "2023-07-08T23:05:57.132Z"
   },
   {
    "duration": 0,
    "start_time": "2023-07-08T23:05:57.133Z"
   },
   {
    "duration": 0,
    "start_time": "2023-07-08T23:05:57.134Z"
   },
   {
    "duration": 0,
    "start_time": "2023-07-08T23:05:57.135Z"
   },
   {
    "duration": 0,
    "start_time": "2023-07-08T23:05:57.136Z"
   },
   {
    "duration": 0,
    "start_time": "2023-07-08T23:05:57.137Z"
   },
   {
    "duration": 0,
    "start_time": "2023-07-08T23:05:57.138Z"
   },
   {
    "duration": 9,
    "start_time": "2023-07-08T23:07:31.744Z"
   },
   {
    "duration": 1005,
    "start_time": "2023-07-08T23:07:31.758Z"
   },
   {
    "duration": 16,
    "start_time": "2023-07-08T23:07:32.765Z"
   },
   {
    "duration": 272,
    "start_time": "2023-07-08T23:07:32.783Z"
   },
   {
    "duration": 463,
    "start_time": "2023-07-08T23:07:33.065Z"
   },
   {
    "duration": 695,
    "start_time": "2023-07-08T23:07:33.538Z"
   },
   {
    "duration": 23,
    "start_time": "2023-07-08T23:07:34.235Z"
   },
   {
    "duration": 158,
    "start_time": "2023-07-08T23:07:34.260Z"
   },
   {
    "duration": 75,
    "start_time": "2023-07-08T23:07:34.420Z"
   },
   {
    "duration": 21,
    "start_time": "2023-07-08T23:07:34.498Z"
   },
   {
    "duration": 46,
    "start_time": "2023-07-08T23:07:34.521Z"
   },
   {
    "duration": 46,
    "start_time": "2023-07-08T23:07:34.572Z"
   },
   {
    "duration": 47,
    "start_time": "2023-07-08T23:07:34.620Z"
   },
   {
    "duration": 34,
    "start_time": "2023-07-08T23:07:34.673Z"
   },
   {
    "duration": 64,
    "start_time": "2023-07-08T23:07:34.709Z"
   },
   {
    "duration": 69,
    "start_time": "2023-07-08T23:07:34.775Z"
   },
   {
    "duration": 223,
    "start_time": "2023-07-08T23:07:34.846Z"
   },
   {
    "duration": 3566,
    "start_time": "2023-07-08T23:07:35.071Z"
   },
   {
    "duration": 341,
    "start_time": "2023-07-08T23:07:38.639Z"
   },
   {
    "duration": 3279,
    "start_time": "2023-07-08T23:07:38.983Z"
   },
   {
    "duration": 10,
    "start_time": "2023-07-08T23:07:42.264Z"
   },
   {
    "duration": 23,
    "start_time": "2023-07-08T23:07:42.276Z"
   },
   {
    "duration": 6,
    "start_time": "2023-07-08T23:07:42.301Z"
   },
   {
    "duration": 70,
    "start_time": "2023-07-08T23:07:42.308Z"
   },
   {
    "duration": 7,
    "start_time": "2023-07-08T23:07:42.380Z"
   },
   {
    "duration": 29,
    "start_time": "2023-07-08T23:07:42.389Z"
   },
   {
    "duration": 16,
    "start_time": "2023-07-08T23:07:42.421Z"
   },
   {
    "duration": 1371,
    "start_time": "2023-07-08T23:07:42.444Z"
   },
   {
    "duration": 189411,
    "start_time": "2023-07-08T23:07:43.820Z"
   },
   {
    "duration": 42314,
    "start_time": "2023-07-08T23:10:53.241Z"
   },
   {
    "duration": 206,
    "start_time": "2023-07-08T23:11:35.635Z"
   },
   {
    "duration": 93,
    "start_time": "2023-07-08T23:11:35.843Z"
   },
   {
    "duration": 0,
    "start_time": "2023-07-08T23:11:35.938Z"
   },
   {
    "duration": 0,
    "start_time": "2023-07-08T23:11:35.939Z"
   },
   {
    "duration": 0,
    "start_time": "2023-07-08T23:11:35.940Z"
   },
   {
    "duration": 0,
    "start_time": "2023-07-08T23:11:35.941Z"
   },
   {
    "duration": 0,
    "start_time": "2023-07-08T23:11:35.943Z"
   },
   {
    "duration": 0,
    "start_time": "2023-07-08T23:11:35.944Z"
   },
   {
    "duration": 0,
    "start_time": "2023-07-08T23:11:35.945Z"
   },
   {
    "duration": 0,
    "start_time": "2023-07-08T23:11:35.946Z"
   },
   {
    "duration": 0,
    "start_time": "2023-07-08T23:11:35.947Z"
   },
   {
    "duration": 0,
    "start_time": "2023-07-08T23:11:35.948Z"
   },
   {
    "duration": 0,
    "start_time": "2023-07-08T23:11:35.949Z"
   },
   {
    "duration": 0,
    "start_time": "2023-07-08T23:11:35.951Z"
   },
   {
    "duration": 0,
    "start_time": "2023-07-08T23:11:35.952Z"
   },
   {
    "duration": 0,
    "start_time": "2023-07-08T23:11:35.953Z"
   },
   {
    "duration": 0,
    "start_time": "2023-07-08T23:11:35.954Z"
   },
   {
    "duration": 6,
    "start_time": "2023-07-08T23:12:21.161Z"
   },
   {
    "duration": 71,
    "start_time": "2023-07-08T23:12:26.250Z"
   },
   {
    "duration": 35,
    "start_time": "2023-07-08T23:12:36.650Z"
   },
   {
    "duration": 88,
    "start_time": "2023-07-08T23:13:14.427Z"
   },
   {
    "duration": 568,
    "start_time": "2023-07-08T23:13:18.398Z"
   },
   {
    "duration": 99,
    "start_time": "2023-07-08T23:14:27.824Z"
   },
   {
    "duration": 1524903,
    "start_time": "2023-07-08T23:14:32.900Z"
   },
   {
    "duration": 4,
    "start_time": "2023-07-09T00:39:45.060Z"
   },
   {
    "duration": 79903,
    "start_time": "2023-07-09T00:39:49.593Z"
   },
   {
    "duration": 376,
    "start_time": "2023-07-09T00:41:28.323Z"
   },
   {
    "duration": 4,
    "start_time": "2023-07-09T00:41:30.812Z"
   },
   {
    "duration": 197,
    "start_time": "2023-07-09T00:41:40.937Z"
   },
   {
    "duration": 188,
    "start_time": "2023-07-09T00:41:51.893Z"
   },
   {
    "duration": 1361,
    "start_time": "2023-07-09T01:41:06.978Z"
   },
   {
    "duration": 945,
    "start_time": "2023-07-09T01:41:08.344Z"
   },
   {
    "duration": 23,
    "start_time": "2023-07-09T01:41:09.291Z"
   },
   {
    "duration": 164,
    "start_time": "2023-07-09T01:41:09.316Z"
   },
   {
    "duration": 507,
    "start_time": "2023-07-09T01:41:09.482Z"
   },
   {
    "duration": 570,
    "start_time": "2023-07-09T01:41:09.990Z"
   },
   {
    "duration": 23,
    "start_time": "2023-07-09T01:41:10.563Z"
   },
   {
    "duration": 111,
    "start_time": "2023-07-09T01:41:10.588Z"
   },
   {
    "duration": 38,
    "start_time": "2023-07-09T01:41:10.701Z"
   },
   {
    "duration": 56,
    "start_time": "2023-07-09T01:41:10.742Z"
   },
   {
    "duration": 20,
    "start_time": "2023-07-09T01:41:10.799Z"
   },
   {
    "duration": 40,
    "start_time": "2023-07-09T01:41:10.820Z"
   },
   {
    "duration": 33,
    "start_time": "2023-07-09T01:41:10.861Z"
   },
   {
    "duration": 32,
    "start_time": "2023-07-09T01:41:10.897Z"
   },
   {
    "duration": 41,
    "start_time": "2023-07-09T01:41:10.931Z"
   },
   {
    "duration": 50,
    "start_time": "2023-07-09T01:41:10.974Z"
   },
   {
    "duration": 182,
    "start_time": "2023-07-09T01:41:11.026Z"
   },
   {
    "duration": 3410,
    "start_time": "2023-07-09T01:41:11.210Z"
   },
   {
    "duration": 239,
    "start_time": "2023-07-09T01:41:14.622Z"
   },
   {
    "duration": 3442,
    "start_time": "2023-07-09T01:41:14.864Z"
   },
   {
    "duration": 10,
    "start_time": "2023-07-09T01:41:18.308Z"
   },
   {
    "duration": 110,
    "start_time": "2023-07-09T01:41:18.320Z"
   },
   {
    "duration": 8,
    "start_time": "2023-07-09T01:41:18.436Z"
   },
   {
    "duration": 93,
    "start_time": "2023-07-09T01:41:18.445Z"
   },
   {
    "duration": 43,
    "start_time": "2023-07-09T01:41:18.540Z"
   },
   {
    "duration": 104,
    "start_time": "2023-07-09T01:41:18.585Z"
   },
   {
    "duration": 3,
    "start_time": "2023-07-09T01:41:18.691Z"
   },
   {
    "duration": 1427,
    "start_time": "2023-07-09T01:41:18.695Z"
   },
   {
    "duration": 308707,
    "start_time": "2023-07-09T01:41:20.125Z"
   },
   {
    "duration": 73842,
    "start_time": "2023-07-09T01:46:28.836Z"
   },
   {
    "duration": 170,
    "start_time": "2023-07-09T01:47:42.680Z"
   },
   {
    "duration": 7,
    "start_time": "2023-07-09T01:47:42.854Z"
   },
   {
    "duration": 135,
    "start_time": "2023-07-09T01:47:42.932Z"
   },
   {
    "duration": 1529901,
    "start_time": "2023-07-09T01:47:43.072Z"
   },
   {
    "duration": 4,
    "start_time": "2023-07-09T02:13:12.974Z"
   },
   {
    "duration": 83267,
    "start_time": "2023-07-09T02:13:12.979Z"
   },
   {
    "duration": 362,
    "start_time": "2023-07-09T02:14:36.247Z"
   },
   {
    "duration": 4,
    "start_time": "2023-07-09T02:14:36.611Z"
   },
   {
    "duration": 183,
    "start_time": "2023-07-09T02:14:36.633Z"
   },
   {
    "duration": 12665958,
    "start_time": "2023-07-09T02:14:36.818Z"
   },
   {
    "duration": 4,
    "start_time": "2023-07-09T05:45:42.779Z"
   },
   {
    "duration": 1378298,
    "start_time": "2023-07-09T05:45:42.835Z"
   },
   {
    "duration": 2335,
    "start_time": "2023-07-09T06:08:41.137Z"
   },
   {
    "duration": 4,
    "start_time": "2023-07-09T06:08:43.474Z"
   },
   {
    "duration": 26,
    "start_time": "2023-07-09T06:08:43.479Z"
   },
   {
    "duration": 164,
    "start_time": "2023-07-09T13:54:28.588Z"
   },
   {
    "duration": 1173,
    "start_time": "2023-07-09T14:48:52.258Z"
   },
   {
    "duration": 838,
    "start_time": "2023-07-09T14:48:54.946Z"
   },
   {
    "duration": 21,
    "start_time": "2023-07-09T14:48:57.832Z"
   },
   {
    "duration": 140,
    "start_time": "2023-07-09T14:48:59.493Z"
   },
   {
    "duration": 455,
    "start_time": "2023-07-09T14:49:01.086Z"
   },
   {
    "duration": 512,
    "start_time": "2023-07-09T14:49:02.872Z"
   },
   {
    "duration": 22,
    "start_time": "2023-07-09T14:49:04.715Z"
   },
   {
    "duration": 79,
    "start_time": "2023-07-09T14:49:07.129Z"
   },
   {
    "duration": 31,
    "start_time": "2023-07-09T14:49:09.011Z"
   },
   {
    "duration": 19,
    "start_time": "2023-07-09T14:49:10.429Z"
   },
   {
    "duration": 18,
    "start_time": "2023-07-09T14:49:11.520Z"
   },
   {
    "duration": 20,
    "start_time": "2023-07-09T14:49:14.891Z"
   },
   {
    "duration": 21,
    "start_time": "2023-07-09T14:49:16.749Z"
   },
   {
    "duration": 26,
    "start_time": "2023-07-09T14:49:19.649Z"
   },
   {
    "duration": 19,
    "start_time": "2023-07-09T14:49:21.836Z"
   },
   {
    "duration": 32,
    "start_time": "2023-07-09T14:49:26.033Z"
   },
   {
    "duration": 151,
    "start_time": "2023-07-09T14:49:29.940Z"
   },
   {
    "duration": 2912,
    "start_time": "2023-07-09T14:49:30.805Z"
   },
   {
    "duration": 147,
    "start_time": "2023-07-09T14:49:35.964Z"
   },
   {
    "duration": 2951,
    "start_time": "2023-07-09T14:49:37.654Z"
   },
   {
    "duration": 8,
    "start_time": "2023-07-09T14:49:44.930Z"
   },
   {
    "duration": 35,
    "start_time": "2023-07-09T14:49:48.314Z"
   },
   {
    "duration": 5,
    "start_time": "2023-07-09T14:49:59.079Z"
   },
   {
    "duration": 25,
    "start_time": "2023-07-09T14:50:00.202Z"
   },
   {
    "duration": 6,
    "start_time": "2023-07-09T14:50:04.188Z"
   },
   {
    "duration": 25,
    "start_time": "2023-07-09T14:50:08.315Z"
   },
   {
    "duration": 2,
    "start_time": "2023-07-09T14:50:13.821Z"
   },
   {
    "duration": 1255,
    "start_time": "2023-07-09T14:50:19.588Z"
   },
   {
    "duration": 113610,
    "start_time": "2023-07-09T14:50:28.624Z"
   },
   {
    "duration": 25302,
    "start_time": "2023-07-09T14:54:06.532Z"
   },
   {
    "duration": 143,
    "start_time": "2023-07-09T14:54:45.192Z"
   },
   {
    "duration": 5,
    "start_time": "2023-07-09T14:56:41.854Z"
   },
   {
    "duration": 66,
    "start_time": "2023-07-09T14:56:47.596Z"
   },
   {
    "duration": 1320863,
    "start_time": "2023-07-09T14:56:56.420Z"
   },
   {
    "duration": 97,
    "start_time": "2023-07-09T15:19:34.940Z"
   },
   {
    "duration": 3,
    "start_time": "2023-07-09T15:20:10.442Z"
   },
   {
    "duration": 85,
    "start_time": "2023-07-09T15:21:00.290Z"
   },
   {
    "duration": 66266,
    "start_time": "2023-07-09T15:21:25.002Z"
   },
   {
    "duration": 75,
    "start_time": "2023-07-09T15:26:58.796Z"
   },
   {
    "duration": 277,
    "start_time": "2023-07-09T15:27:09.744Z"
   },
   {
    "duration": 4,
    "start_time": "2023-07-09T15:29:50.860Z"
   },
   {
    "duration": 149,
    "start_time": "2023-07-09T15:30:24.256Z"
   },
   {
    "duration": 1105749,
    "start_time": "2023-07-09T15:30:31.184Z"
   },
   {
    "duration": 4,
    "start_time": "2023-07-09T15:51:16.585Z"
   },
   {
    "duration": 42492,
    "start_time": "2023-07-09T15:52:13.946Z"
   },
   {
    "duration": 301,
    "start_time": "2023-07-09T15:53:17.555Z"
   },
   {
    "duration": 2194,
    "start_time": "2023-07-09T15:53:31.062Z"
   },
   {
    "duration": 6,
    "start_time": "2023-07-09T15:55:00.546Z"
   },
   {
    "duration": 10,
    "start_time": "2023-07-09T15:55:13.346Z"
   },
   {
    "duration": 3,
    "start_time": "2023-07-09T16:13:51.705Z"
   },
   {
    "duration": 1445,
    "start_time": "2023-07-09T16:25:14.410Z"
   },
   {
    "duration": 1226,
    "start_time": "2023-07-09T16:54:16.830Z"
   },
   {
    "duration": 787,
    "start_time": "2023-07-09T16:54:21.445Z"
   },
   {
    "duration": 23,
    "start_time": "2023-07-09T16:54:29.677Z"
   },
   {
    "duration": 145,
    "start_time": "2023-07-09T16:54:32.787Z"
   },
   {
    "duration": 407,
    "start_time": "2023-07-09T16:54:35.582Z"
   },
   {
    "duration": 475,
    "start_time": "2023-07-09T16:54:38.625Z"
   },
   {
    "duration": 14,
    "start_time": "2023-07-09T16:54:40.941Z"
   },
   {
    "duration": 76,
    "start_time": "2023-07-09T16:54:44.263Z"
   },
   {
    "duration": 31,
    "start_time": "2023-07-09T16:54:46.804Z"
   },
   {
    "duration": 20,
    "start_time": "2023-07-09T16:54:48.028Z"
   },
   {
    "duration": 18,
    "start_time": "2023-07-09T16:54:50.336Z"
   },
   {
    "duration": 20,
    "start_time": "2023-07-09T16:54:53.113Z"
   },
   {
    "duration": 21,
    "start_time": "2023-07-09T16:54:56.957Z"
   },
   {
    "duration": 19,
    "start_time": "2023-07-09T16:55:01.716Z"
   },
   {
    "duration": 20,
    "start_time": "2023-07-09T16:55:02.799Z"
   },
   {
    "duration": 36,
    "start_time": "2023-07-09T16:55:03.375Z"
   },
   {
    "duration": 146,
    "start_time": "2023-07-09T16:55:12.316Z"
   },
   {
    "duration": 2899,
    "start_time": "2023-07-09T16:55:13.232Z"
   },
   {
    "duration": 152,
    "start_time": "2023-07-09T16:55:22.271Z"
   },
   {
    "duration": 2911,
    "start_time": "2023-07-09T16:55:23.051Z"
   },
   {
    "duration": 9,
    "start_time": "2023-07-09T16:55:39.928Z"
   },
   {
    "duration": 34,
    "start_time": "2023-07-09T16:55:43.490Z"
   },
   {
    "duration": 6,
    "start_time": "2023-07-09T16:55:46.172Z"
   },
   {
    "duration": 24,
    "start_time": "2023-07-09T16:55:47.868Z"
   },
   {
    "duration": 8,
    "start_time": "2023-07-09T16:55:51.235Z"
   },
   {
    "duration": 24,
    "start_time": "2023-07-09T16:55:56.176Z"
   },
   {
    "duration": 3,
    "start_time": "2023-07-09T16:56:04.669Z"
   },
   {
    "duration": 1134,
    "start_time": "2023-07-09T16:57:49.631Z"
   },
   {
    "duration": 80443,
    "start_time": "2023-07-09T16:58:02.194Z"
   },
   {
    "duration": 19056,
    "start_time": "2023-07-09T16:59:45.481Z"
   },
   {
    "duration": 80937,
    "start_time": "2023-07-09T17:00:53.396Z"
   },
   {
    "duration": 19305,
    "start_time": "2023-07-09T17:02:19.328Z"
   },
   {
    "duration": 106,
    "start_time": "2023-07-09T17:02:51.636Z"
   },
   {
    "duration": 4,
    "start_time": "2023-07-09T17:02:55.506Z"
   },
   {
    "duration": 1322,
    "start_time": "2023-07-09T17:03:20.750Z"
   },
   {
    "duration": 863,
    "start_time": "2023-07-09T17:03:24.770Z"
   },
   {
    "duration": 25,
    "start_time": "2023-07-09T17:03:29.797Z"
   },
   {
    "duration": 141,
    "start_time": "2023-07-09T17:03:37.592Z"
   },
   {
    "duration": 437,
    "start_time": "2023-07-09T17:03:39.343Z"
   },
   {
    "duration": 513,
    "start_time": "2023-07-09T17:03:43.351Z"
   },
   {
    "duration": 24,
    "start_time": "2023-07-09T17:03:45.423Z"
   },
   {
    "duration": 109,
    "start_time": "2023-07-09T17:03:48.864Z"
   },
   {
    "duration": 36,
    "start_time": "2023-07-09T17:03:52.243Z"
   },
   {
    "duration": 31,
    "start_time": "2023-07-09T17:03:54.646Z"
   },
   {
    "duration": 19,
    "start_time": "2023-07-09T17:03:56.351Z"
   },
   {
    "duration": 25,
    "start_time": "2023-07-09T17:03:58.860Z"
   },
   {
    "duration": 22,
    "start_time": "2023-07-09T17:04:01.970Z"
   },
   {
    "duration": 24,
    "start_time": "2023-07-09T17:04:05.355Z"
   },
   {
    "duration": 20,
    "start_time": "2023-07-09T17:04:07.534Z"
   },
   {
    "duration": 37,
    "start_time": "2023-07-09T17:04:09.234Z"
   },
   {
    "duration": 149,
    "start_time": "2023-07-09T17:04:12.446Z"
   },
   {
    "duration": 2922,
    "start_time": "2023-07-09T17:04:13.273Z"
   },
   {
    "duration": 143,
    "start_time": "2023-07-09T17:04:22.781Z"
   },
   {
    "duration": 2858,
    "start_time": "2023-07-09T17:04:23.687Z"
   },
   {
    "duration": 8,
    "start_time": "2023-07-09T17:04:38.299Z"
   },
   {
    "duration": 35,
    "start_time": "2023-07-09T17:04:42.236Z"
   },
   {
    "duration": 6,
    "start_time": "2023-07-09T17:04:47.900Z"
   },
   {
    "duration": 26,
    "start_time": "2023-07-09T17:04:54.161Z"
   },
   {
    "duration": 7,
    "start_time": "2023-07-09T17:04:58.996Z"
   },
   {
    "duration": 26,
    "start_time": "2023-07-09T17:05:02.404Z"
   },
   {
    "duration": 2,
    "start_time": "2023-07-09T17:05:09.837Z"
   },
   {
    "duration": 1151,
    "start_time": "2023-07-09T17:05:18.440Z"
   },
   {
    "duration": 82297,
    "start_time": "2023-07-09T17:05:24.137Z"
   },
   {
    "duration": 30454,
    "start_time": "2023-07-09T17:06:57.785Z"
   },
   {
    "duration": 134,
    "start_time": "2023-07-09T17:07:43.201Z"
   },
   {
    "duration": 4,
    "start_time": "2023-07-09T17:10:42.257Z"
   },
   {
    "duration": 66,
    "start_time": "2023-07-09T17:10:54.892Z"
   },
   {
    "duration": 1298235,
    "start_time": "2023-07-09T17:11:01.799Z"
   },
   {
    "duration": 4,
    "start_time": "2023-07-09T17:34:39.831Z"
   },
   {
    "duration": 3,
    "start_time": "2023-07-09T17:35:32.971Z"
   },
   {
    "duration": 71811,
    "start_time": "2023-07-09T17:35:37.584Z"
   },
   {
    "duration": 285,
    "start_time": "2023-07-09T17:36:52.005Z"
   },
   {
    "duration": 5,
    "start_time": "2023-07-09T17:38:43.418Z"
   },
   {
    "duration": 5,
    "start_time": "2023-07-09T17:38:54.288Z"
   },
   {
    "duration": 181,
    "start_time": "2023-07-09T17:39:03.491Z"
   },
   {
    "duration": 2807138,
    "start_time": "2023-07-09T17:39:06.609Z"
   },
   {
    "duration": 4788429,
    "start_time": "2023-07-09T18:29:16.919Z"
   },
   {
    "duration": 3,
    "start_time": "2023-07-09T19:52:32.068Z"
   },
   {
    "duration": 80504,
    "start_time": "2023-07-09T19:52:43.650Z"
   },
   {
    "duration": 2393,
    "start_time": "2023-07-09T19:58:17.695Z"
   },
   {
    "duration": 4,
    "start_time": "2023-07-09T20:04:48.066Z"
   },
   {
    "duration": 5,
    "start_time": "2023-07-09T20:05:46.664Z"
   },
   {
    "duration": 4,
    "start_time": "2023-07-09T20:05:55.649Z"
   },
   {
    "duration": 4,
    "start_time": "2023-07-09T20:06:12.082Z"
   },
   {
    "duration": 1199,
    "start_time": "2023-07-09T20:06:56.232Z"
   },
   {
    "duration": 838,
    "start_time": "2023-07-09T20:07:03.077Z"
   },
   {
    "duration": 20,
    "start_time": "2023-07-09T20:07:10.542Z"
   },
   {
    "duration": 145,
    "start_time": "2023-07-09T20:07:12.937Z"
   },
   {
    "duration": 436,
    "start_time": "2023-07-09T20:07:15.420Z"
   },
   {
    "duration": 547,
    "start_time": "2023-07-09T20:07:17.533Z"
   },
   {
    "duration": 22,
    "start_time": "2023-07-09T20:07:19.555Z"
   },
   {
    "duration": 82,
    "start_time": "2023-07-09T20:07:23.167Z"
   },
   {
    "duration": 31,
    "start_time": "2023-07-09T20:07:24.170Z"
   },
   {
    "duration": 19,
    "start_time": "2023-07-09T20:07:25.147Z"
   },
   {
    "duration": 21,
    "start_time": "2023-07-09T20:07:26.059Z"
   },
   {
    "duration": 21,
    "start_time": "2023-07-09T20:07:29.332Z"
   },
   {
    "duration": 21,
    "start_time": "2023-07-09T20:07:30.296Z"
   },
   {
    "duration": 20,
    "start_time": "2023-07-09T20:07:32.521Z"
   },
   {
    "duration": 21,
    "start_time": "2023-07-09T20:07:33.281Z"
   },
   {
    "duration": 35,
    "start_time": "2023-07-09T20:07:33.854Z"
   },
   {
    "duration": 139,
    "start_time": "2023-07-09T20:07:35.884Z"
   },
   {
    "duration": 3002,
    "start_time": "2023-07-09T20:07:36.288Z"
   },
   {
    "duration": 153,
    "start_time": "2023-07-09T20:07:41.756Z"
   },
   {
    "duration": 2973,
    "start_time": "2023-07-09T20:07:43.301Z"
   },
   {
    "duration": 9,
    "start_time": "2023-07-09T20:07:50.070Z"
   },
   {
    "duration": 33,
    "start_time": "2023-07-09T20:07:52.529Z"
   },
   {
    "duration": 6,
    "start_time": "2023-07-09T20:07:55.297Z"
   },
   {
    "duration": 24,
    "start_time": "2023-07-09T20:07:56.257Z"
   },
   {
    "duration": 8,
    "start_time": "2023-07-09T20:07:58.493Z"
   },
   {
    "duration": 24,
    "start_time": "2023-07-09T20:07:59.309Z"
   },
   {
    "duration": 3,
    "start_time": "2023-07-09T20:08:03.169Z"
   },
   {
    "duration": 1155,
    "start_time": "2023-07-09T20:08:05.461Z"
   },
   {
    "duration": 80545,
    "start_time": "2023-07-09T20:08:12.287Z"
   },
   {
    "duration": 18639,
    "start_time": "2023-07-09T20:10:30.501Z"
   },
   {
    "duration": 197,
    "start_time": "2023-07-09T20:10:49.142Z"
   },
   {
    "duration": 5,
    "start_time": "2023-07-09T20:11:55.082Z"
   },
   {
    "duration": 67,
    "start_time": "2023-07-09T20:12:09.054Z"
   },
   {
    "duration": 1278291,
    "start_time": "2023-07-09T20:12:15.029Z"
   },
   {
    "duration": 4,
    "start_time": "2023-07-09T20:38:49.658Z"
   },
   {
    "duration": 65673,
    "start_time": "2023-07-09T20:39:01.808Z"
   },
   {
    "duration": 283,
    "start_time": "2023-07-09T20:40:27.247Z"
   },
   {
    "duration": 4,
    "start_time": "2023-07-09T20:41:12.992Z"
   },
   {
    "duration": 150,
    "start_time": "2023-07-09T20:41:18.214Z"
   },
   {
    "duration": 530358,
    "start_time": "2023-07-09T20:41:25.474Z"
   },
   {
    "duration": 4,
    "start_time": "2023-07-09T20:55:31.406Z"
   },
   {
    "duration": 11785,
    "start_time": "2023-07-09T20:57:02.754Z"
   },
   {
    "duration": 2197,
    "start_time": "2023-07-09T20:57:59.248Z"
   },
   {
    "duration": 4,
    "start_time": "2023-07-09T20:58:20.749Z"
   },
   {
    "duration": 8,
    "start_time": "2023-07-09T20:58:50.944Z"
   },
   {
    "duration": 1377,
    "start_time": "2023-07-10T13:06:21.951Z"
   },
   {
    "duration": 1320,
    "start_time": "2023-07-10T13:06:26.561Z"
   },
   {
    "duration": 22,
    "start_time": "2023-07-10T13:06:29.957Z"
   },
   {
    "duration": 165,
    "start_time": "2023-07-10T13:06:30.586Z"
   },
   {
    "duration": 483,
    "start_time": "2023-07-10T13:06:32.990Z"
   },
   {
    "duration": 565,
    "start_time": "2023-07-10T13:06:34.286Z"
   },
   {
    "duration": 36,
    "start_time": "2023-07-10T13:06:37.313Z"
   },
   {
    "duration": 99,
    "start_time": "2023-07-10T13:06:39.021Z"
   },
   {
    "duration": 31,
    "start_time": "2023-07-10T13:06:41.286Z"
   },
   {
    "duration": 30,
    "start_time": "2023-07-10T13:06:43.738Z"
   },
   {
    "duration": 23,
    "start_time": "2023-07-10T13:06:45.347Z"
   },
   {
    "duration": 30,
    "start_time": "2023-07-10T13:06:54.559Z"
   },
   {
    "duration": 20,
    "start_time": "2023-07-10T13:06:57.008Z"
   },
   {
    "duration": 19,
    "start_time": "2023-07-10T13:06:59.259Z"
   },
   {
    "duration": 23,
    "start_time": "2023-07-10T13:07:00.151Z"
   },
   {
    "duration": 32,
    "start_time": "2023-07-10T13:07:00.686Z"
   },
   {
    "duration": 187,
    "start_time": "2023-07-10T13:07:03.587Z"
   },
   {
    "duration": 3239,
    "start_time": "2023-07-10T13:07:04.428Z"
   },
   {
    "duration": 161,
    "start_time": "2023-07-10T13:07:08.894Z"
   },
   {
    "duration": 3196,
    "start_time": "2023-07-10T13:07:09.904Z"
   },
   {
    "duration": 12,
    "start_time": "2023-07-10T13:07:14.688Z"
   },
   {
    "duration": 42,
    "start_time": "2023-07-10T13:07:16.926Z"
   },
   {
    "duration": 6,
    "start_time": "2023-07-10T13:07:19.621Z"
   },
   {
    "duration": 24,
    "start_time": "2023-07-10T13:07:22.057Z"
   },
   {
    "duration": 7,
    "start_time": "2023-07-10T13:07:26.290Z"
   },
   {
    "duration": 24,
    "start_time": "2023-07-10T13:07:29.001Z"
   },
   {
    "duration": 3,
    "start_time": "2023-07-10T13:07:38.426Z"
   },
   {
    "duration": 2,
    "start_time": "2023-07-10T13:41:59.550Z"
   },
   {
    "duration": 1243,
    "start_time": "2023-07-10T13:49:36.467Z"
   },
   {
    "duration": 188152,
    "start_time": "2023-07-10T14:03:58.901Z"
   },
   {
    "duration": 42547,
    "start_time": "2023-07-10T14:07:26.205Z"
   },
   {
    "duration": 341,
    "start_time": "2023-07-10T14:08:13.205Z"
   },
   {
    "duration": 4,
    "start_time": "2023-07-10T14:10:28.048Z"
   },
   {
    "duration": 73,
    "start_time": "2023-07-10T14:10:38.285Z"
   },
   {
    "duration": 1513192,
    "start_time": "2023-07-10T14:11:28.796Z"
   },
   {
    "duration": 5,
    "start_time": "2023-07-10T14:40:14.640Z"
   },
   {
    "duration": 66242,
    "start_time": "2023-07-10T14:40:33.124Z"
   },
   {
    "duration": 846,
    "start_time": "2023-07-10T14:42:05.135Z"
   },
   {
    "duration": 4,
    "start_time": "2023-07-10T14:43:33.061Z"
   },
   {
    "duration": 162,
    "start_time": "2023-07-10T14:44:51.132Z"
   },
   {
    "duration": 986303,
    "start_time": "2023-07-10T14:45:41.442Z"
   },
   {
    "duration": 5,
    "start_time": "2023-07-10T15:02:47.159Z"
   },
   {
    "duration": 30597,
    "start_time": "2023-07-10T15:03:01.043Z"
   },
   {
    "duration": 6306,
    "start_time": "2023-07-10T15:03:54.245Z"
   },
   {
    "duration": 4,
    "start_time": "2023-07-10T15:04:37.213Z"
   },
   {
    "duration": 11,
    "start_time": "2023-07-10T15:04:45.760Z"
   },
   {
    "duration": 26826,
    "start_time": "2023-07-10T16:52:39.551Z"
   },
   {
    "duration": 259,
    "start_time": "2023-07-10T16:54:12.144Z"
   },
   {
    "duration": 82,
    "start_time": "2023-07-10T16:54:14.839Z"
   },
   {
    "duration": 5,
    "start_time": "2023-07-10T16:54:31.070Z"
   },
   {
    "duration": 1397,
    "start_time": "2023-07-10T20:34:38.018Z"
   },
   {
    "duration": 3410,
    "start_time": "2023-07-10T20:34:39.417Z"
   },
   {
    "duration": 30,
    "start_time": "2023-07-10T20:34:42.829Z"
   },
   {
    "duration": 177,
    "start_time": "2023-07-10T20:34:42.861Z"
   },
   {
    "duration": 555,
    "start_time": "2023-07-10T20:34:43.040Z"
   },
   {
    "duration": 646,
    "start_time": "2023-07-10T20:34:43.597Z"
   },
   {
    "duration": 44,
    "start_time": "2023-07-10T20:34:44.247Z"
   },
   {
    "duration": 161,
    "start_time": "2023-07-10T20:34:44.293Z"
   },
   {
    "duration": 44,
    "start_time": "2023-07-10T20:34:44.456Z"
   },
   {
    "duration": 49,
    "start_time": "2023-07-10T20:34:44.502Z"
   },
   {
    "duration": 29,
    "start_time": "2023-07-10T20:34:44.553Z"
   },
   {
    "duration": 44,
    "start_time": "2023-07-10T20:34:44.584Z"
   },
   {
    "duration": 29,
    "start_time": "2023-07-10T20:34:44.629Z"
   },
   {
    "duration": 25,
    "start_time": "2023-07-10T20:34:44.661Z"
   },
   {
    "duration": 20,
    "start_time": "2023-07-10T20:34:44.689Z"
   },
   {
    "duration": 31,
    "start_time": "2023-07-10T20:34:44.710Z"
   },
   {
    "duration": 203,
    "start_time": "2023-07-10T20:34:44.742Z"
   },
   {
    "duration": 3308,
    "start_time": "2023-07-10T20:34:44.947Z"
   },
   {
    "duration": 169,
    "start_time": "2023-07-10T20:34:48.257Z"
   },
   {
    "duration": 3383,
    "start_time": "2023-07-10T20:34:48.428Z"
   },
   {
    "duration": 10,
    "start_time": "2023-07-10T20:34:51.813Z"
   },
   {
    "duration": 57,
    "start_time": "2023-07-10T20:34:51.824Z"
   },
   {
    "duration": 9,
    "start_time": "2023-07-10T20:34:51.882Z"
   },
   {
    "duration": 39,
    "start_time": "2023-07-10T20:34:51.893Z"
   },
   {
    "duration": 7,
    "start_time": "2023-07-10T20:34:51.934Z"
   },
   {
    "duration": 44,
    "start_time": "2023-07-10T20:34:51.944Z"
   },
   {
    "duration": 4,
    "start_time": "2023-07-10T20:34:51.989Z"
   },
   {
    "duration": 1633,
    "start_time": "2023-07-10T20:34:51.995Z"
   },
   {
    "duration": 1263,
    "start_time": "2023-07-10T20:35:35.124Z"
   },
   {
    "duration": 958,
    "start_time": "2023-07-10T20:35:36.504Z"
   },
   {
    "duration": 29,
    "start_time": "2023-07-10T20:35:39.344Z"
   },
   {
    "duration": 170,
    "start_time": "2023-07-10T20:35:39.801Z"
   },
   {
    "duration": 491,
    "start_time": "2023-07-10T20:35:40.702Z"
   },
   {
    "duration": 604,
    "start_time": "2023-07-10T20:35:41.782Z"
   },
   {
    "duration": 29,
    "start_time": "2023-07-10T20:35:42.954Z"
   },
   {
    "duration": 69,
    "start_time": "2023-07-10T20:35:44.287Z"
   },
   {
    "duration": 39,
    "start_time": "2023-07-10T20:35:45.167Z"
   },
   {
    "duration": 23,
    "start_time": "2023-07-10T20:35:46.007Z"
   },
   {
    "duration": 47,
    "start_time": "2023-07-10T20:35:46.871Z"
   },
   {
    "duration": 27,
    "start_time": "2023-07-10T20:35:47.556Z"
   },
   {
    "duration": 22,
    "start_time": "2023-07-10T20:35:48.414Z"
   },
   {
    "duration": 19,
    "start_time": "2023-07-10T20:35:49.533Z"
   },
   {
    "duration": 21,
    "start_time": "2023-07-10T20:35:50.540Z"
   },
   {
    "duration": 30,
    "start_time": "2023-07-10T20:35:51.098Z"
   },
   {
    "duration": 165,
    "start_time": "2023-07-10T20:35:52.571Z"
   },
   {
    "duration": 3504,
    "start_time": "2023-07-10T20:35:53.719Z"
   },
   {
    "duration": 221,
    "start_time": "2023-07-10T20:35:58.817Z"
   },
   {
    "duration": 3546,
    "start_time": "2023-07-10T20:36:00.942Z"
   },
   {
    "duration": 10,
    "start_time": "2023-07-10T20:36:07.321Z"
   },
   {
    "duration": 40,
    "start_time": "2023-07-10T20:36:08.444Z"
   },
   {
    "duration": 6,
    "start_time": "2023-07-10T20:36:11.481Z"
   },
   {
    "duration": 29,
    "start_time": "2023-07-10T20:36:13.783Z"
   },
   {
    "duration": 8,
    "start_time": "2023-07-10T20:36:16.226Z"
   },
   {
    "duration": 27,
    "start_time": "2023-07-10T20:36:19.706Z"
   },
   {
    "duration": 3,
    "start_time": "2023-07-10T20:36:24.438Z"
   },
   {
    "duration": 1550,
    "start_time": "2023-07-10T20:36:29.210Z"
   },
   {
    "duration": 215415,
    "start_time": "2023-07-10T20:36:30.762Z"
   },
   {
    "duration": 38394,
    "start_time": "2023-07-10T20:40:50.475Z"
   },
   {
    "duration": 383,
    "start_time": "2023-07-10T20:41:36.598Z"
   },
   {
    "duration": 5,
    "start_time": "2023-07-10T20:41:39.097Z"
   },
   {
    "duration": 93,
    "start_time": "2023-07-10T20:41:44.561Z"
   },
   {
    "duration": 1687037,
    "start_time": "2023-07-10T20:41:52.715Z"
   },
   {
    "duration": 5,
    "start_time": "2023-07-10T21:29:26.961Z"
   },
   {
    "duration": 5,
    "start_time": "2023-07-10T21:32:16.071Z"
   },
   {
    "duration": 5,
    "start_time": "2023-07-10T21:33:58.183Z"
   },
   {
    "duration": 6,
    "start_time": "2023-07-11T01:21:20.966Z"
   },
   {
    "duration": 1198,
    "start_time": "2023-07-11T01:21:25.624Z"
   },
   {
    "duration": 924,
    "start_time": "2023-07-11T01:21:30.717Z"
   },
   {
    "duration": 24,
    "start_time": "2023-07-11T01:21:32.206Z"
   },
   {
    "duration": 183,
    "start_time": "2023-07-11T01:21:32.719Z"
   },
   {
    "duration": 473,
    "start_time": "2023-07-11T01:21:33.954Z"
   },
   {
    "duration": 561,
    "start_time": "2023-07-11T01:21:35.681Z"
   },
   {
    "duration": 25,
    "start_time": "2023-07-11T01:21:37.934Z"
   },
   {
    "duration": 67,
    "start_time": "2023-07-11T01:21:39.861Z"
   },
   {
    "duration": 28,
    "start_time": "2023-07-11T01:21:41.320Z"
   },
   {
    "duration": 19,
    "start_time": "2023-07-11T01:21:42.474Z"
   },
   {
    "duration": 20,
    "start_time": "2023-07-11T01:21:43.542Z"
   },
   {
    "duration": 20,
    "start_time": "2023-07-11T01:21:45.951Z"
   },
   {
    "duration": 21,
    "start_time": "2023-07-11T01:21:47.204Z"
   },
   {
    "duration": 19,
    "start_time": "2023-07-11T01:21:49.545Z"
   },
   {
    "duration": 19,
    "start_time": "2023-07-11T01:21:51.590Z"
   },
   {
    "duration": 30,
    "start_time": "2023-07-11T01:21:52.033Z"
   },
   {
    "duration": 154,
    "start_time": "2023-07-11T01:21:54.179Z"
   },
   {
    "duration": 3077,
    "start_time": "2023-07-11T01:21:54.984Z"
   },
   {
    "duration": 151,
    "start_time": "2023-07-11T01:22:00.046Z"
   },
   {
    "duration": 3224,
    "start_time": "2023-07-11T01:22:01.152Z"
   },
   {
    "duration": 10,
    "start_time": "2023-07-11T01:22:09.043Z"
   },
   {
    "duration": 40,
    "start_time": "2023-07-11T01:22:11.478Z"
   },
   {
    "duration": 6,
    "start_time": "2023-07-11T01:22:13.023Z"
   },
   {
    "duration": 29,
    "start_time": "2023-07-11T01:22:15.096Z"
   },
   {
    "duration": 9,
    "start_time": "2023-07-11T01:22:17.902Z"
   },
   {
    "duration": 29,
    "start_time": "2023-07-11T01:22:19.316Z"
   },
   {
    "duration": 106,
    "start_time": "2023-07-11T01:22:39.709Z"
   },
   {
    "duration": 4,
    "start_time": "2023-07-11T01:24:18.216Z"
   },
   {
    "duration": 1228,
    "start_time": "2023-07-11T01:24:22.094Z"
   },
   {
    "duration": 911,
    "start_time": "2023-07-11T01:24:29.978Z"
   },
   {
    "duration": 24,
    "start_time": "2023-07-11T01:24:33.082Z"
   },
   {
    "duration": 175,
    "start_time": "2023-07-11T01:24:33.843Z"
   },
   {
    "duration": 501,
    "start_time": "2023-07-11T01:24:35.543Z"
   },
   {
    "duration": 589,
    "start_time": "2023-07-11T01:24:38.590Z"
   },
   {
    "duration": 25,
    "start_time": "2023-07-11T01:24:40.961Z"
   },
   {
    "duration": 66,
    "start_time": "2023-07-11T01:24:42.986Z"
   },
   {
    "duration": 31,
    "start_time": "2023-07-11T01:24:44.263Z"
   },
   {
    "duration": 18,
    "start_time": "2023-07-11T01:24:45.213Z"
   },
   {
    "duration": 19,
    "start_time": "2023-07-11T01:24:46.167Z"
   },
   {
    "duration": 21,
    "start_time": "2023-07-11T01:24:47.155Z"
   },
   {
    "duration": 21,
    "start_time": "2023-07-11T01:24:48.154Z"
   },
   {
    "duration": 17,
    "start_time": "2023-07-11T01:24:49.230Z"
   },
   {
    "duration": 21,
    "start_time": "2023-07-11T01:24:50.284Z"
   },
   {
    "duration": 31,
    "start_time": "2023-07-11T01:24:50.933Z"
   },
   {
    "duration": 158,
    "start_time": "2023-07-11T01:24:52.043Z"
   },
   {
    "duration": 3174,
    "start_time": "2023-07-11T01:24:52.519Z"
   },
   {
    "duration": 152,
    "start_time": "2023-07-11T01:24:57.107Z"
   },
   {
    "duration": 3179,
    "start_time": "2023-07-11T01:24:57.720Z"
   },
   {
    "duration": 9,
    "start_time": "2023-07-11T01:25:00.901Z"
   },
   {
    "duration": 39,
    "start_time": "2023-07-11T01:25:01.687Z"
   },
   {
    "duration": 6,
    "start_time": "2023-07-11T01:25:03.803Z"
   },
   {
    "duration": 27,
    "start_time": "2023-07-11T01:25:06.935Z"
   },
   {
    "duration": 8,
    "start_time": "2023-07-11T01:25:08.277Z"
   },
   {
    "duration": 29,
    "start_time": "2023-07-11T01:25:09.350Z"
   },
   {
    "duration": 4,
    "start_time": "2023-07-11T01:25:11.889Z"
   },
   {
    "duration": 1608,
    "start_time": "2023-07-11T01:25:31.555Z"
   },
   {
    "duration": 107820,
    "start_time": "2023-07-11T01:25:44.252Z"
   },
   {
    "duration": 171,
    "start_time": "2023-07-11T01:29:22.150Z"
   },
   {
    "duration": 4,
    "start_time": "2023-07-11T01:30:27.564Z"
   },
   {
    "duration": 99,
    "start_time": "2023-07-11T01:30:42.915Z"
   },
   {
    "duration": 29115,
    "start_time": "2023-07-11T01:31:55.552Z"
   },
   {
    "duration": 2,
    "start_time": "2023-07-11T01:34:26.392Z"
   },
   {
    "duration": 75,
    "start_time": "2023-07-11T01:43:04.526Z"
   },
   {
    "duration": 12,
    "start_time": "2023-07-11T01:53:28.284Z"
   },
   {
    "duration": 91,
    "start_time": "2023-07-11T01:54:00.984Z"
   },
   {
    "duration": 12,
    "start_time": "2023-07-11T01:54:02.757Z"
   },
   {
    "duration": 11677,
    "start_time": "2023-07-11T01:54:29.732Z"
   },
   {
    "duration": 14478,
    "start_time": "2023-07-11T02:00:02.280Z"
   },
   {
    "duration": 13449,
    "start_time": "2023-07-11T02:00:57.191Z"
   },
   {
    "duration": 15470,
    "start_time": "2023-07-11T02:01:35.583Z"
   },
   {
    "duration": 1410,
    "start_time": "2023-07-11T02:25:24.379Z"
   },
   {
    "duration": 4,
    "start_time": "2023-07-11T02:25:39.954Z"
   },
   {
    "duration": 1151,
    "start_time": "2023-07-11T02:25:44.625Z"
   },
   {
    "duration": 850,
    "start_time": "2023-07-11T02:25:46.017Z"
   },
   {
    "duration": 23,
    "start_time": "2023-07-11T02:25:47.614Z"
   },
   {
    "duration": 163,
    "start_time": "2023-07-11T02:25:48.208Z"
   },
   {
    "duration": 460,
    "start_time": "2023-07-11T02:25:49.368Z"
   },
   {
    "duration": 552,
    "start_time": "2023-07-11T02:25:52.049Z"
   },
   {
    "duration": 25,
    "start_time": "2023-07-11T02:25:53.066Z"
   },
   {
    "duration": 67,
    "start_time": "2023-07-11T02:25:54.432Z"
   },
   {
    "duration": 30,
    "start_time": "2023-07-11T02:25:55.375Z"
   },
   {
    "duration": 18,
    "start_time": "2023-07-11T02:25:56.312Z"
   },
   {
    "duration": 18,
    "start_time": "2023-07-11T02:25:57.222Z"
   },
   {
    "duration": 20,
    "start_time": "2023-07-11T02:25:58.253Z"
   },
   {
    "duration": 20,
    "start_time": "2023-07-11T02:25:59.363Z"
   },
   {
    "duration": 18,
    "start_time": "2023-07-11T02:26:00.463Z"
   },
   {
    "duration": 19,
    "start_time": "2023-07-11T02:26:01.527Z"
   },
   {
    "duration": 30,
    "start_time": "2023-07-11T02:26:02.057Z"
   },
   {
    "duration": 153,
    "start_time": "2023-07-11T02:26:03.227Z"
   },
   {
    "duration": 3116,
    "start_time": "2023-07-11T02:26:03.917Z"
   },
   {
    "duration": 149,
    "start_time": "2023-07-11T02:26:07.035Z"
   },
   {
    "duration": 3086,
    "start_time": "2023-07-11T02:26:07.186Z"
   },
   {
    "duration": 10,
    "start_time": "2023-07-11T02:26:11.915Z"
   },
   {
    "duration": 38,
    "start_time": "2023-07-11T02:26:12.920Z"
   },
   {
    "duration": 7,
    "start_time": "2023-07-11T02:26:14.284Z"
   },
   {
    "duration": 29,
    "start_time": "2023-07-11T02:26:15.324Z"
   },
   {
    "duration": 8,
    "start_time": "2023-07-11T02:26:16.914Z"
   },
   {
    "duration": 28,
    "start_time": "2023-07-11T02:26:17.867Z"
   },
   {
    "duration": 2,
    "start_time": "2023-07-11T02:26:20.532Z"
   },
   {
    "duration": 1466,
    "start_time": "2023-07-11T02:26:24.401Z"
   },
   {
    "duration": 84311,
    "start_time": "2023-07-11T02:26:30.764Z"
   },
   {
    "duration": 21450,
    "start_time": "2023-07-11T02:39:23.826Z"
   },
   {
    "duration": 2,
    "start_time": "2023-07-11T02:40:44.860Z"
   },
   {
    "duration": 96,
    "start_time": "2023-07-11T02:57:07.443Z"
   },
   {
    "duration": 74,
    "start_time": "2023-07-11T02:57:36.608Z"
   },
   {
    "duration": 1377488,
    "start_time": "2023-07-11T02:57:39.161Z"
   },
   {
    "duration": 5,
    "start_time": "2023-07-11T03:23:26.865Z"
   },
   {
    "duration": 4,
    "start_time": "2023-07-11T04:18:19.073Z"
   },
   {
    "duration": 855,
    "start_time": "2023-07-11T04:18:22.967Z"
   },
   {
    "duration": 15,
    "start_time": "2023-07-11T04:18:26.956Z"
   },
   {
    "duration": 91,
    "start_time": "2023-07-11T04:18:28.410Z"
   },
   {
    "duration": 427,
    "start_time": "2023-07-11T04:18:30.152Z"
   },
   {
    "duration": 525,
    "start_time": "2023-07-11T04:18:38.196Z"
   },
   {
    "duration": 1279,
    "start_time": "2023-07-11T04:18:46.256Z"
   },
   {
    "duration": 883,
    "start_time": "2023-07-11T04:18:51.093Z"
   },
   {
    "duration": 24,
    "start_time": "2023-07-11T04:18:54.450Z"
   },
   {
    "duration": 169,
    "start_time": "2023-07-11T04:18:56.230Z"
   },
   {
    "duration": 480,
    "start_time": "2023-07-11T04:18:59.191Z"
   },
   {
    "duration": 571,
    "start_time": "2023-07-11T04:19:01.008Z"
   },
   {
    "duration": 26,
    "start_time": "2023-07-11T04:19:05.002Z"
   },
   {
    "duration": 78,
    "start_time": "2023-07-11T04:19:12.250Z"
   },
   {
    "duration": 30,
    "start_time": "2023-07-11T04:19:13.710Z"
   },
   {
    "duration": 19,
    "start_time": "2023-07-11T04:19:16.136Z"
   },
   {
    "duration": 20,
    "start_time": "2023-07-11T04:19:17.663Z"
   },
   {
    "duration": 20,
    "start_time": "2023-07-11T04:19:20.028Z"
   },
   {
    "duration": 21,
    "start_time": "2023-07-11T04:19:21.150Z"
   },
   {
    "duration": 20,
    "start_time": "2023-07-11T04:19:22.642Z"
   },
   {
    "duration": 18,
    "start_time": "2023-07-11T04:19:24.501Z"
   },
   {
    "duration": 30,
    "start_time": "2023-07-11T04:19:25.025Z"
   },
   {
    "duration": 150,
    "start_time": "2023-07-11T04:19:26.022Z"
   },
   {
    "duration": 3251,
    "start_time": "2023-07-11T04:19:26.455Z"
   },
   {
    "duration": 153,
    "start_time": "2023-07-11T04:19:30.904Z"
   },
   {
    "duration": 3229,
    "start_time": "2023-07-11T04:19:31.990Z"
   },
   {
    "duration": 11,
    "start_time": "2023-07-11T04:19:37.314Z"
   },
   {
    "duration": 39,
    "start_time": "2023-07-11T04:19:38.645Z"
   },
   {
    "duration": 6,
    "start_time": "2023-07-11T04:19:41.488Z"
   },
   {
    "duration": 29,
    "start_time": "2023-07-11T04:19:42.852Z"
   },
   {
    "duration": 8,
    "start_time": "2023-07-11T04:19:45.771Z"
   },
   {
    "duration": 28,
    "start_time": "2023-07-11T04:19:48.281Z"
   },
   {
    "duration": 3,
    "start_time": "2023-07-11T04:19:52.607Z"
   },
   {
    "duration": 1448,
    "start_time": "2023-07-11T04:19:56.629Z"
   },
   {
    "duration": 86485,
    "start_time": "2023-07-11T04:20:02.687Z"
   },
   {
    "duration": 21883,
    "start_time": "2023-07-11T04:22:11.886Z"
   },
   {
    "duration": 469,
    "start_time": "2023-07-11T04:22:37.298Z"
   },
   {
    "duration": 5,
    "start_time": "2023-07-11T04:23:18.273Z"
   },
   {
    "duration": 102,
    "start_time": "2023-07-11T04:24:29.288Z"
   },
   {
    "duration": 85,
    "start_time": "2023-07-11T04:25:01.153Z"
   },
   {
    "duration": 1369778,
    "start_time": "2023-07-11T04:25:03.884Z"
   },
   {
    "duration": 4,
    "start_time": "2023-07-11T04:48:40.393Z"
   },
   {
    "duration": 4,
    "start_time": "2023-07-11T04:48:44.191Z"
   },
   {
    "duration": 5,
    "start_time": "2023-07-11T04:54:21.311Z"
   },
   {
    "duration": 4,
    "start_time": "2023-07-11T04:54:27.832Z"
   },
   {
    "duration": 8,
    "start_time": "2023-07-11T04:55:56.130Z"
   },
   {
    "duration": 146,
    "start_time": "2023-07-11T04:58:36.441Z"
   },
   {
    "duration": 3,
    "start_time": "2023-07-11T04:59:17.230Z"
   },
   {
    "duration": 1385825,
    "start_time": "2023-07-11T05:07:21.456Z"
   },
   {
    "duration": 86707,
    "start_time": "2023-07-11T05:48:58.461Z"
   },
   {
    "duration": 22559,
    "start_time": "2023-07-11T05:52:14.111Z"
   },
   {
    "duration": 360,
    "start_time": "2023-07-11T05:52:50.015Z"
   },
   {
    "duration": 445,
    "start_time": "2023-07-11T05:52:57.027Z"
   },
   {
    "duration": 401,
    "start_time": "2023-07-11T05:53:15.767Z"
   },
   {
    "duration": 76312,
    "start_time": "2023-07-11T05:56:48.610Z"
   },
   {
    "duration": 1422,
    "start_time": "2023-07-11T05:58:04.925Z"
   },
   {
    "duration": 84002,
    "start_time": "2023-07-11T05:58:11.066Z"
   },
   {
    "duration": 4,
    "start_time": "2023-07-11T06:04:25.719Z"
   },
   {
    "duration": 1273,
    "start_time": "2023-07-11T06:04:29.949Z"
   },
   {
    "duration": 845,
    "start_time": "2023-07-11T06:04:33.019Z"
   },
   {
    "duration": 24,
    "start_time": "2023-07-11T06:04:36.240Z"
   },
   {
    "duration": 174,
    "start_time": "2023-07-11T06:04:37.252Z"
   },
   {
    "duration": 477,
    "start_time": "2023-07-11T06:04:39.811Z"
   },
   {
    "duration": 558,
    "start_time": "2023-07-11T06:04:42.474Z"
   },
   {
    "duration": 25,
    "start_time": "2023-07-11T06:04:44.411Z"
   },
   {
    "duration": 68,
    "start_time": "2023-07-11T06:04:46.854Z"
   },
   {
    "duration": 28,
    "start_time": "2023-07-11T06:04:49.716Z"
   },
   {
    "duration": 20,
    "start_time": "2023-07-11T06:04:51.050Z"
   },
   {
    "duration": 21,
    "start_time": "2023-07-11T06:04:53.225Z"
   },
   {
    "duration": 21,
    "start_time": "2023-07-11T06:04:54.376Z"
   },
   {
    "duration": 22,
    "start_time": "2023-07-11T06:04:56.770Z"
   },
   {
    "duration": 18,
    "start_time": "2023-07-11T06:05:00.399Z"
   },
   {
    "duration": 20,
    "start_time": "2023-07-11T06:05:01.819Z"
   },
   {
    "duration": 28,
    "start_time": "2023-07-11T06:05:02.719Z"
   },
   {
    "duration": 142,
    "start_time": "2023-07-11T06:05:05.224Z"
   },
   {
    "duration": 3020,
    "start_time": "2023-07-11T06:05:05.934Z"
   },
   {
    "duration": 147,
    "start_time": "2023-07-11T06:05:10.074Z"
   },
   {
    "duration": 3074,
    "start_time": "2023-07-11T06:05:10.760Z"
   },
   {
    "duration": 9,
    "start_time": "2023-07-11T06:05:15.803Z"
   },
   {
    "duration": 38,
    "start_time": "2023-07-11T06:05:18.327Z"
   },
   {
    "duration": 6,
    "start_time": "2023-07-11T06:05:20.087Z"
   },
   {
    "duration": 27,
    "start_time": "2023-07-11T06:05:22.428Z"
   },
   {
    "duration": 8,
    "start_time": "2023-07-11T06:05:24.103Z"
   },
   {
    "duration": 28,
    "start_time": "2023-07-11T06:05:26.011Z"
   },
   {
    "duration": 1493,
    "start_time": "2023-07-11T06:05:31.311Z"
   },
   {
    "duration": 84270,
    "start_time": "2023-07-11T06:05:36.503Z"
   },
   {
    "duration": 85754,
    "start_time": "2023-07-11T06:08:47.419Z"
   },
   {
    "duration": 40,
    "start_time": "2023-07-11T06:14:36.417Z"
   },
   {
    "duration": 5,
    "start_time": "2023-07-11T06:18:26.753Z"
   },
   {
    "duration": 4,
    "start_time": "2023-07-11T06:19:44.306Z"
   },
   {
    "duration": 1382,
    "start_time": "2023-07-11T06:47:52.299Z"
   },
   {
    "duration": 21137,
    "start_time": "2023-07-11T06:48:19.331Z"
   },
   {
    "duration": 1314,
    "start_time": "2023-07-11T06:51:00.430Z"
   },
   {
    "duration": 884,
    "start_time": "2023-07-11T06:51:04.725Z"
   },
   {
    "duration": 27,
    "start_time": "2023-07-11T06:51:07.909Z"
   },
   {
    "duration": 173,
    "start_time": "2023-07-11T06:51:08.634Z"
   },
   {
    "duration": 500,
    "start_time": "2023-07-11T06:51:10.558Z"
   },
   {
    "duration": 570,
    "start_time": "2023-07-11T06:51:13.259Z"
   },
   {
    "duration": 27,
    "start_time": "2023-07-11T06:51:14.826Z"
   },
   {
    "duration": 66,
    "start_time": "2023-07-11T06:51:16.624Z"
   },
   {
    "duration": 30,
    "start_time": "2023-07-11T06:51:17.722Z"
   },
   {
    "duration": 19,
    "start_time": "2023-07-11T06:51:19.144Z"
   },
   {
    "duration": 19,
    "start_time": "2023-07-11T06:51:20.393Z"
   },
   {
    "duration": 21,
    "start_time": "2023-07-11T06:51:21.519Z"
   },
   {
    "duration": 21,
    "start_time": "2023-07-11T06:51:23.058Z"
   },
   {
    "duration": 17,
    "start_time": "2023-07-11T06:51:24.267Z"
   },
   {
    "duration": 18,
    "start_time": "2023-07-11T06:51:25.622Z"
   },
   {
    "duration": 30,
    "start_time": "2023-07-11T06:51:26.115Z"
   },
   {
    "duration": 149,
    "start_time": "2023-07-11T06:51:27.001Z"
   },
   {
    "duration": 3083,
    "start_time": "2023-07-11T06:51:27.469Z"
   },
   {
    "duration": 153,
    "start_time": "2023-07-11T06:51:31.329Z"
   },
   {
    "duration": 3069,
    "start_time": "2023-07-11T06:51:32.302Z"
   },
   {
    "duration": 9,
    "start_time": "2023-07-11T06:51:35.374Z"
   },
   {
    "duration": 40,
    "start_time": "2023-07-11T06:51:37.164Z"
   },
   {
    "duration": 6,
    "start_time": "2023-07-11T06:51:38.770Z"
   },
   {
    "duration": 27,
    "start_time": "2023-07-11T06:51:40.114Z"
   },
   {
    "duration": 8,
    "start_time": "2023-07-11T06:51:41.875Z"
   },
   {
    "duration": 28,
    "start_time": "2023-07-11T06:51:44.638Z"
   },
   {
    "duration": 1530,
    "start_time": "2023-07-11T06:52:01.153Z"
   },
   {
    "duration": 85311,
    "start_time": "2023-07-11T06:52:51.662Z"
   },
   {
    "duration": 1239,
    "start_time": "2023-07-11T07:14:21.912Z"
   },
   {
    "duration": 901,
    "start_time": "2023-07-11T07:14:25.946Z"
   },
   {
    "duration": 23,
    "start_time": "2023-07-11T07:14:29.207Z"
   },
   {
    "duration": 172,
    "start_time": "2023-07-11T07:14:30.360Z"
   },
   {
    "duration": 502,
    "start_time": "2023-07-11T07:14:32.291Z"
   },
   {
    "duration": 566,
    "start_time": "2023-07-11T07:14:34.588Z"
   },
   {
    "duration": 26,
    "start_time": "2023-07-11T07:14:37.019Z"
   },
   {
    "duration": 76,
    "start_time": "2023-07-11T07:14:40.502Z"
   },
   {
    "duration": 29,
    "start_time": "2023-07-11T07:14:41.822Z"
   },
   {
    "duration": 19,
    "start_time": "2023-07-11T07:14:42.926Z"
   },
   {
    "duration": 20,
    "start_time": "2023-07-11T07:14:43.932Z"
   },
   {
    "duration": 20,
    "start_time": "2023-07-11T07:14:44.870Z"
   },
   {
    "duration": 21,
    "start_time": "2023-07-11T07:14:46.278Z"
   },
   {
    "duration": 19,
    "start_time": "2023-07-11T07:14:47.540Z"
   },
   {
    "duration": 20,
    "start_time": "2023-07-11T07:14:48.515Z"
   },
   {
    "duration": 32,
    "start_time": "2023-07-11T07:14:49.069Z"
   },
   {
    "duration": 150,
    "start_time": "2023-07-11T07:14:50.110Z"
   },
   {
    "duration": 3199,
    "start_time": "2023-07-11T07:14:50.742Z"
   },
   {
    "duration": 157,
    "start_time": "2023-07-11T07:14:55.085Z"
   },
   {
    "duration": 3186,
    "start_time": "2023-07-11T07:14:56.049Z"
   },
   {
    "duration": 10,
    "start_time": "2023-07-11T07:15:01.898Z"
   },
   {
    "duration": 39,
    "start_time": "2023-07-11T07:15:03.330Z"
   },
   {
    "duration": 7,
    "start_time": "2023-07-11T07:15:05.048Z"
   },
   {
    "duration": 29,
    "start_time": "2023-07-11T07:15:06.212Z"
   },
   {
    "duration": 9,
    "start_time": "2023-07-11T07:15:07.851Z"
   },
   {
    "duration": 28,
    "start_time": "2023-07-11T07:15:09.016Z"
   },
   {
    "duration": 1417,
    "start_time": "2023-07-11T07:15:16.690Z"
   },
   {
    "duration": 93625,
    "start_time": "2023-07-11T07:15:22.748Z"
   },
   {
    "duration": 100592,
    "start_time": "2023-07-11T07:29:25.780Z"
   },
   {
    "duration": 25850,
    "start_time": "2023-07-11T07:38:53.734Z"
   },
   {
    "duration": 359,
    "start_time": "2023-07-11T07:39:35.121Z"
   },
   {
    "duration": 1222,
    "start_time": "2023-07-11T07:49:53.905Z"
   },
   {
    "duration": 869,
    "start_time": "2023-07-11T07:49:55.128Z"
   },
   {
    "duration": 22,
    "start_time": "2023-07-11T07:49:55.998Z"
   },
   {
    "duration": 184,
    "start_time": "2023-07-11T07:49:56.021Z"
   },
   {
    "duration": 506,
    "start_time": "2023-07-11T07:49:56.208Z"
   },
   {
    "duration": 594,
    "start_time": "2023-07-11T07:49:56.715Z"
   },
   {
    "duration": 23,
    "start_time": "2023-07-11T07:49:57.310Z"
   },
   {
    "duration": 89,
    "start_time": "2023-07-11T07:49:57.335Z"
   },
   {
    "duration": 37,
    "start_time": "2023-07-11T07:49:57.426Z"
   },
   {
    "duration": 27,
    "start_time": "2023-07-11T07:49:57.467Z"
   },
   {
    "duration": 20,
    "start_time": "2023-07-11T07:49:57.495Z"
   },
   {
    "duration": 37,
    "start_time": "2023-07-11T07:49:57.517Z"
   },
   {
    "duration": 26,
    "start_time": "2023-07-11T07:49:57.556Z"
   },
   {
    "duration": 31,
    "start_time": "2023-07-11T07:49:57.587Z"
   },
   {
    "duration": 21,
    "start_time": "2023-07-11T07:49:57.620Z"
   },
   {
    "duration": 47,
    "start_time": "2023-07-11T07:49:57.642Z"
   },
   {
    "duration": 176,
    "start_time": "2023-07-11T07:49:57.691Z"
   },
   {
    "duration": 3219,
    "start_time": "2023-07-11T07:49:57.869Z"
   },
   {
    "duration": 158,
    "start_time": "2023-07-11T07:50:01.090Z"
   },
   {
    "duration": 3224,
    "start_time": "2023-07-11T07:50:01.250Z"
   },
   {
    "duration": 10,
    "start_time": "2023-07-11T07:50:04.477Z"
   },
   {
    "duration": 47,
    "start_time": "2023-07-11T07:50:04.489Z"
   },
   {
    "duration": 6,
    "start_time": "2023-07-11T07:50:04.538Z"
   },
   {
    "duration": 45,
    "start_time": "2023-07-11T07:50:04.545Z"
   },
   {
    "duration": 7,
    "start_time": "2023-07-11T07:50:04.592Z"
   },
   {
    "duration": 33,
    "start_time": "2023-07-11T07:50:04.600Z"
   },
   {
    "duration": 1453,
    "start_time": "2023-07-11T07:50:04.636Z"
   },
   {
    "duration": 104781,
    "start_time": "2023-07-11T07:50:06.091Z"
   },
   {
    "duration": 26201,
    "start_time": "2023-07-11T07:51:50.874Z"
   },
   {
    "duration": 406,
    "start_time": "2023-07-11T07:52:17.079Z"
   },
   {
    "duration": 234,
    "start_time": "2023-07-11T07:52:17.487Z"
   },
   {
    "duration": 1485340,
    "start_time": "2023-07-11T07:52:17.723Z"
   },
   {
    "duration": 76483,
    "start_time": "2023-07-11T08:17:03.066Z"
   },
   {
    "duration": 989,
    "start_time": "2023-07-11T08:18:19.551Z"
   },
   {
    "duration": 177,
    "start_time": "2023-07-11T08:18:20.542Z"
   },
   {
    "duration": 3182,
    "start_time": "2023-07-11T09:30:03.105Z"
   },
   {
    "duration": 1256,
    "start_time": "2023-07-11T09:30:06.290Z"
   },
   {
    "duration": 47,
    "start_time": "2023-07-11T09:30:07.548Z"
   },
   {
    "duration": 212,
    "start_time": "2023-07-11T09:30:07.598Z"
   },
   {
    "duration": 753,
    "start_time": "2023-07-11T09:30:07.811Z"
   },
   {
    "duration": 827,
    "start_time": "2023-07-11T09:30:08.570Z"
   },
   {
    "duration": 32,
    "start_time": "2023-07-11T09:30:09.400Z"
   },
   {
    "duration": 129,
    "start_time": "2023-07-11T09:30:09.435Z"
   },
   {
    "duration": 68,
    "start_time": "2023-07-11T09:30:09.566Z"
   },
   {
    "duration": 29,
    "start_time": "2023-07-11T09:30:09.639Z"
   },
   {
    "duration": 32,
    "start_time": "2023-07-11T09:30:09.671Z"
   },
   {
    "duration": 30,
    "start_time": "2023-07-11T09:30:09.705Z"
   },
   {
    "duration": 55,
    "start_time": "2023-07-11T09:30:09.737Z"
   },
   {
    "duration": 29,
    "start_time": "2023-07-11T09:30:09.798Z"
   },
   {
    "duration": 51,
    "start_time": "2023-07-11T09:30:09.830Z"
   },
   {
    "duration": 64,
    "start_time": "2023-07-11T09:30:09.883Z"
   },
   {
    "duration": 285,
    "start_time": "2023-07-11T09:30:09.950Z"
   },
   {
    "duration": 4955,
    "start_time": "2023-07-11T09:30:10.240Z"
   },
   {
    "duration": 215,
    "start_time": "2023-07-11T09:30:15.204Z"
   },
   {
    "duration": 3954,
    "start_time": "2023-07-11T09:30:15.421Z"
   },
   {
    "duration": 13,
    "start_time": "2023-07-11T09:30:19.382Z"
   },
   {
    "duration": 89,
    "start_time": "2023-07-11T09:30:19.398Z"
   },
   {
    "duration": 11,
    "start_time": "2023-07-11T09:30:19.490Z"
   },
   {
    "duration": 57,
    "start_time": "2023-07-11T09:30:19.504Z"
   },
   {
    "duration": 22,
    "start_time": "2023-07-11T09:30:19.564Z"
   },
   {
    "duration": 41,
    "start_time": "2023-07-11T09:30:19.591Z"
   },
   {
    "duration": 1870,
    "start_time": "2023-07-11T09:30:19.635Z"
   },
   {
    "duration": 1572,
    "start_time": "2023-07-11T09:36:34.770Z"
   },
   {
    "duration": 1227,
    "start_time": "2023-07-11T09:36:36.349Z"
   },
   {
    "duration": 117,
    "start_time": "2023-07-11T09:36:37.578Z"
   },
   {
    "duration": 127,
    "start_time": "2023-07-11T09:36:37.700Z"
   },
   {
    "duration": 634,
    "start_time": "2023-07-11T09:36:37.830Z"
   },
   {
    "duration": 766,
    "start_time": "2023-07-11T09:36:38.467Z"
   },
   {
    "duration": 40,
    "start_time": "2023-07-11T09:36:39.236Z"
   },
   {
    "duration": 97,
    "start_time": "2023-07-11T09:36:39.284Z"
   },
   {
    "duration": 47,
    "start_time": "2023-07-11T09:36:39.382Z"
   },
   {
    "duration": 90,
    "start_time": "2023-07-11T09:36:39.431Z"
   },
   {
    "duration": 39,
    "start_time": "2023-07-11T09:36:39.523Z"
   },
   {
    "duration": 54,
    "start_time": "2023-07-11T09:36:39.565Z"
   },
   {
    "duration": 62,
    "start_time": "2023-07-11T09:36:39.624Z"
   },
   {
    "duration": 33,
    "start_time": "2023-07-11T09:36:39.693Z"
   },
   {
    "duration": 45,
    "start_time": "2023-07-11T09:36:39.729Z"
   },
   {
    "duration": 75,
    "start_time": "2023-07-11T09:36:39.777Z"
   },
   {
    "duration": 278,
    "start_time": "2023-07-11T09:36:39.857Z"
   },
   {
    "duration": 4499,
    "start_time": "2023-07-11T09:36:40.137Z"
   },
   {
    "duration": 305,
    "start_time": "2023-07-11T09:36:44.639Z"
   },
   {
    "duration": 4056,
    "start_time": "2023-07-11T09:36:44.947Z"
   },
   {
    "duration": 13,
    "start_time": "2023-07-11T09:36:49.005Z"
   },
   {
    "duration": 63,
    "start_time": "2023-07-11T09:36:49.020Z"
   },
   {
    "duration": 8,
    "start_time": "2023-07-11T09:36:49.085Z"
   },
   {
    "duration": 36,
    "start_time": "2023-07-11T09:36:49.095Z"
   },
   {
    "duration": 10,
    "start_time": "2023-07-11T09:36:49.133Z"
   },
   {
    "duration": 59,
    "start_time": "2023-07-11T09:36:49.145Z"
   },
   {
    "duration": 1963,
    "start_time": "2023-07-11T09:36:49.207Z"
   },
   {
    "duration": 229092,
    "start_time": "2023-07-11T09:36:51.179Z"
   },
   {
    "duration": 67113,
    "start_time": "2023-07-11T09:40:40.274Z"
   },
   {
    "duration": 481,
    "start_time": "2023-07-11T09:41:47.389Z"
   },
   {
    "duration": 167,
    "start_time": "2023-07-11T09:41:47.883Z"
   },
   {
    "duration": 1864974,
    "start_time": "2023-07-11T09:41:48.052Z"
   },
   {
    "duration": 93156,
    "start_time": "2023-07-11T10:12:53.033Z"
   },
   {
    "duration": 1166,
    "start_time": "2023-07-11T10:14:26.194Z"
   },
   {
    "duration": 208,
    "start_time": "2023-07-11T10:14:27.362Z"
   },
   {
    "duration": 1456,
    "start_time": "2023-07-11T12:57:36.751Z"
   },
   {
    "duration": 1025,
    "start_time": "2023-07-11T12:57:38.210Z"
   },
   {
    "duration": 32,
    "start_time": "2023-07-11T12:57:39.237Z"
   },
   {
    "duration": 230,
    "start_time": "2023-07-11T12:57:39.271Z"
   },
   {
    "duration": 646,
    "start_time": "2023-07-11T12:57:39.506Z"
   },
   {
    "duration": 671,
    "start_time": "2023-07-11T12:57:40.154Z"
   },
   {
    "duration": 27,
    "start_time": "2023-07-11T12:57:40.827Z"
   },
   {
    "duration": 117,
    "start_time": "2023-07-11T12:57:40.856Z"
   },
   {
    "duration": 35,
    "start_time": "2023-07-11T12:57:40.975Z"
   },
   {
    "duration": 27,
    "start_time": "2023-07-11T12:57:41.012Z"
   },
   {
    "duration": 48,
    "start_time": "2023-07-11T12:57:41.041Z"
   },
   {
    "duration": 32,
    "start_time": "2023-07-11T12:57:41.091Z"
   },
   {
    "duration": 23,
    "start_time": "2023-07-11T12:57:41.125Z"
   },
   {
    "duration": 43,
    "start_time": "2023-07-11T12:57:41.152Z"
   },
   {
    "duration": 41,
    "start_time": "2023-07-11T12:57:41.197Z"
   },
   {
    "duration": 41,
    "start_time": "2023-07-11T12:57:41.240Z"
   },
   {
    "duration": 171,
    "start_time": "2023-07-11T12:57:41.283Z"
   },
   {
    "duration": 3679,
    "start_time": "2023-07-11T12:57:41.457Z"
   },
   {
    "duration": 182,
    "start_time": "2023-07-11T12:57:45.139Z"
   },
   {
    "duration": 3744,
    "start_time": "2023-07-11T12:57:45.323Z"
   },
   {
    "duration": 13,
    "start_time": "2023-07-11T12:57:49.069Z"
   },
   {
    "duration": 47,
    "start_time": "2023-07-11T12:57:49.084Z"
   },
   {
    "duration": 9,
    "start_time": "2023-07-11T12:57:49.134Z"
   },
   {
    "duration": 64,
    "start_time": "2023-07-11T12:57:49.145Z"
   },
   {
    "duration": 11,
    "start_time": "2023-07-11T12:57:49.211Z"
   },
   {
    "duration": 45,
    "start_time": "2023-07-11T12:57:49.225Z"
   },
   {
    "duration": 1893,
    "start_time": "2023-07-11T12:57:49.272Z"
   },
   {
    "duration": 173559,
    "start_time": "2023-07-11T12:57:51.167Z"
   },
   {
    "duration": 49741,
    "start_time": "2023-07-11T13:00:44.729Z"
   },
   {
    "duration": 407,
    "start_time": "2023-07-11T13:01:34.476Z"
   },
   {
    "duration": 200,
    "start_time": "2023-07-11T13:01:34.889Z"
   },
   {
    "duration": 1856464,
    "start_time": "2023-07-11T13:01:35.092Z"
   },
   {
    "duration": 1365,
    "start_time": "2023-07-11T13:33:50.041Z"
   },
   {
    "duration": 1013,
    "start_time": "2023-07-11T13:33:51.408Z"
   },
   {
    "duration": 26,
    "start_time": "2023-07-11T13:33:52.423Z"
   },
   {
    "duration": 211,
    "start_time": "2023-07-11T13:33:52.451Z"
   },
   {
    "duration": 606,
    "start_time": "2023-07-11T13:33:52.669Z"
   },
   {
    "duration": 696,
    "start_time": "2023-07-11T13:33:53.278Z"
   },
   {
    "duration": 31,
    "start_time": "2023-07-11T13:33:53.976Z"
   },
   {
    "duration": 139,
    "start_time": "2023-07-11T13:33:54.010Z"
   },
   {
    "duration": 64,
    "start_time": "2023-07-11T13:33:54.151Z"
   },
   {
    "duration": 32,
    "start_time": "2023-07-11T13:33:54.218Z"
   },
   {
    "duration": 47,
    "start_time": "2023-07-11T13:33:54.252Z"
   },
   {
    "duration": 32,
    "start_time": "2023-07-11T13:33:54.301Z"
   },
   {
    "duration": 48,
    "start_time": "2023-07-11T13:33:54.336Z"
   },
   {
    "duration": 29,
    "start_time": "2023-07-11T13:33:54.388Z"
   },
   {
    "duration": 23,
    "start_time": "2023-07-11T13:33:54.419Z"
   },
   {
    "duration": 56,
    "start_time": "2023-07-11T13:33:54.444Z"
   },
   {
    "duration": 186,
    "start_time": "2023-07-11T13:33:54.502Z"
   },
   {
    "duration": 3521,
    "start_time": "2023-07-11T13:33:54.690Z"
   },
   {
    "duration": 197,
    "start_time": "2023-07-11T13:33:58.213Z"
   },
   {
    "duration": 3628,
    "start_time": "2023-07-11T13:33:58.412Z"
   },
   {
    "duration": 14,
    "start_time": "2023-07-11T13:34:02.043Z"
   },
   {
    "duration": 74,
    "start_time": "2023-07-11T13:34:02.068Z"
   },
   {
    "duration": 7,
    "start_time": "2023-07-11T13:34:02.144Z"
   },
   {
    "duration": 136,
    "start_time": "2023-07-11T13:34:02.153Z"
   },
   {
    "duration": 41,
    "start_time": "2023-07-11T13:34:02.291Z"
   },
   {
    "duration": 87,
    "start_time": "2023-07-11T13:34:02.334Z"
   },
   {
    "duration": 1756,
    "start_time": "2023-07-11T13:34:02.424Z"
   },
   {
    "duration": 129492,
    "start_time": "2023-07-11T13:34:04.182Z"
   },
   {
    "duration": 32306,
    "start_time": "2023-07-11T13:36:13.677Z"
   },
   {
    "duration": 495,
    "start_time": "2023-07-11T13:36:45.989Z"
   },
   {
    "duration": 165,
    "start_time": "2023-07-11T13:36:46.492Z"
   },
   {
    "duration": 1683919,
    "start_time": "2023-07-11T13:36:46.660Z"
   },
   {
    "duration": 87922,
    "start_time": "2023-07-11T14:04:50.581Z"
   },
   {
    "duration": 1109,
    "start_time": "2023-07-11T14:06:18.506Z"
   },
   {
    "duration": 223,
    "start_time": "2023-07-11T14:06:19.618Z"
   },
   {
    "duration": 1651,
    "start_time": "2023-07-11T15:50:03.819Z"
   },
   {
    "duration": 1432,
    "start_time": "2023-07-11T15:50:05.473Z"
   },
   {
    "duration": 41,
    "start_time": "2023-07-11T15:50:06.908Z"
   },
   {
    "duration": 264,
    "start_time": "2023-07-11T15:50:06.951Z"
   },
   {
    "duration": 815,
    "start_time": "2023-07-11T15:50:07.218Z"
   },
   {
    "duration": 967,
    "start_time": "2023-07-11T15:50:08.035Z"
   },
   {
    "duration": 25,
    "start_time": "2023-07-11T15:50:09.004Z"
   },
   {
    "duration": 166,
    "start_time": "2023-07-11T15:50:09.033Z"
   },
   {
    "duration": 68,
    "start_time": "2023-07-11T15:50:09.201Z"
   },
   {
    "duration": 31,
    "start_time": "2023-07-11T15:50:09.272Z"
   },
   {
    "duration": 32,
    "start_time": "2023-07-11T15:50:09.305Z"
   },
   {
    "duration": 57,
    "start_time": "2023-07-11T15:50:09.339Z"
   },
   {
    "duration": 90,
    "start_time": "2023-07-11T15:50:09.398Z"
   },
   {
    "duration": 31,
    "start_time": "2023-07-11T15:50:09.494Z"
   },
   {
    "duration": 49,
    "start_time": "2023-07-11T15:50:09.528Z"
   },
   {
    "duration": 61,
    "start_time": "2023-07-11T15:50:09.579Z"
   },
   {
    "duration": 273,
    "start_time": "2023-07-11T15:50:09.642Z"
   },
   {
    "duration": 5492,
    "start_time": "2023-07-11T15:50:09.918Z"
   },
   {
    "duration": 255,
    "start_time": "2023-07-11T15:50:15.413Z"
   },
   {
    "duration": 5113,
    "start_time": "2023-07-11T15:50:15.670Z"
   },
   {
    "duration": 16,
    "start_time": "2023-07-11T15:50:20.785Z"
   },
   {
    "duration": 91,
    "start_time": "2023-07-11T15:50:20.804Z"
   },
   {
    "duration": 12,
    "start_time": "2023-07-11T15:50:20.898Z"
   },
   {
    "duration": 58,
    "start_time": "2023-07-11T15:50:20.915Z"
   },
   {
    "duration": 11,
    "start_time": "2023-07-11T15:50:20.976Z"
   },
   {
    "duration": 44,
    "start_time": "2023-07-11T15:50:20.989Z"
   },
   {
    "duration": 2251,
    "start_time": "2023-07-11T15:50:21.035Z"
   },
   {
    "duration": 144983,
    "start_time": "2023-07-11T15:50:23.288Z"
   },
   {
    "duration": 23495,
    "start_time": "2023-07-11T15:52:48.274Z"
   },
   {
    "duration": 502,
    "start_time": "2023-07-11T15:53:11.771Z"
   },
   {
    "duration": 174,
    "start_time": "2023-07-11T15:53:12.276Z"
   },
   {
    "duration": 1696,
    "start_time": "2023-07-11T15:57:24.704Z"
   },
   {
    "duration": 1746,
    "start_time": "2023-07-11T15:57:26.403Z"
   },
   {
    "duration": 39,
    "start_time": "2023-07-11T15:57:28.152Z"
   },
   {
    "duration": 250,
    "start_time": "2023-07-11T15:57:28.194Z"
   },
   {
    "duration": 869,
    "start_time": "2023-07-11T15:57:28.446Z"
   },
   {
    "duration": 987,
    "start_time": "2023-07-11T15:57:29.317Z"
   },
   {
    "duration": 35,
    "start_time": "2023-07-11T15:57:30.307Z"
   },
   {
    "duration": 173,
    "start_time": "2023-07-11T15:57:30.345Z"
   },
   {
    "duration": 74,
    "start_time": "2023-07-11T15:57:30.522Z"
   },
   {
    "duration": 70,
    "start_time": "2023-07-11T15:57:30.601Z"
   },
   {
    "duration": 51,
    "start_time": "2023-07-11T15:57:30.674Z"
   },
   {
    "duration": 71,
    "start_time": "2023-07-11T15:57:30.728Z"
   },
   {
    "duration": 62,
    "start_time": "2023-07-11T15:57:30.802Z"
   },
   {
    "duration": 84,
    "start_time": "2023-07-11T15:57:30.866Z"
   },
   {
    "duration": 65,
    "start_time": "2023-07-11T15:57:30.953Z"
   },
   {
    "duration": 93,
    "start_time": "2023-07-11T15:57:31.021Z"
   },
   {
    "duration": 345,
    "start_time": "2023-07-11T15:57:31.117Z"
   },
   {
    "duration": 5247,
    "start_time": "2023-07-11T15:57:31.466Z"
   },
   {
    "duration": 252,
    "start_time": "2023-07-11T15:57:36.716Z"
   },
   {
    "duration": 5364,
    "start_time": "2023-07-11T15:57:36.970Z"
   },
   {
    "duration": 21,
    "start_time": "2023-07-11T15:57:42.336Z"
   },
   {
    "duration": 58,
    "start_time": "2023-07-11T15:57:42.359Z"
   },
   {
    "duration": 10,
    "start_time": "2023-07-11T15:57:42.420Z"
   },
   {
    "duration": 61,
    "start_time": "2023-07-11T15:57:42.433Z"
   },
   {
    "duration": 13,
    "start_time": "2023-07-11T15:57:42.496Z"
   },
   {
    "duration": 226,
    "start_time": "2023-07-11T15:57:42.513Z"
   },
   {
    "duration": 2325,
    "start_time": "2023-07-11T15:57:42.741Z"
   },
   {
    "duration": 124214,
    "start_time": "2023-07-11T15:57:45.075Z"
   },
   {
    "duration": 53604,
    "start_time": "2023-07-11T15:59:49.367Z"
   },
   {
    "duration": 498,
    "start_time": "2023-07-11T16:00:42.973Z"
   },
   {
    "duration": 163,
    "start_time": "2023-07-11T16:00:43.476Z"
   },
   {
    "duration": 2046373,
    "start_time": "2023-07-11T16:00:43.641Z"
   },
   {
    "duration": 83515,
    "start_time": "2023-07-11T16:34:50.016Z"
   },
   {
    "duration": 1112,
    "start_time": "2023-07-11T16:36:13.533Z"
   },
   {
    "duration": 205,
    "start_time": "2023-07-11T16:36:14.647Z"
   },
   {
    "duration": 1283,
    "start_time": "2023-07-11T18:54:13.372Z"
   },
   {
    "duration": 1266,
    "start_time": "2023-07-11T18:54:24.509Z"
   },
   {
    "duration": 981,
    "start_time": "2023-07-11T18:54:25.777Z"
   },
   {
    "duration": 30,
    "start_time": "2023-07-11T18:54:26.760Z"
   },
   {
    "duration": 219,
    "start_time": "2023-07-11T18:54:26.793Z"
   },
   {
    "duration": 553,
    "start_time": "2023-07-11T18:54:27.014Z"
   },
   {
    "duration": 639,
    "start_time": "2023-07-11T18:54:27.569Z"
   },
   {
    "duration": 26,
    "start_time": "2023-07-11T18:54:28.210Z"
   },
   {
    "duration": 86,
    "start_time": "2023-07-11T18:54:28.238Z"
   },
   {
    "duration": 34,
    "start_time": "2023-07-11T18:54:28.326Z"
   },
   {
    "duration": 20,
    "start_time": "2023-07-11T18:54:28.368Z"
   },
   {
    "duration": 35,
    "start_time": "2023-07-11T18:54:28.390Z"
   },
   {
    "duration": 32,
    "start_time": "2023-07-11T18:54:28.427Z"
   },
   {
    "duration": 25,
    "start_time": "2023-07-11T18:54:28.461Z"
   },
   {
    "duration": 24,
    "start_time": "2023-07-11T18:54:28.488Z"
   },
   {
    "duration": 21,
    "start_time": "2023-07-11T18:54:28.514Z"
   },
   {
    "duration": 80,
    "start_time": "2023-07-11T18:54:28.536Z"
   },
   {
    "duration": 177,
    "start_time": "2023-07-11T18:54:28.618Z"
   },
   {
    "duration": 3251,
    "start_time": "2023-07-11T18:54:28.797Z"
   },
   {
    "duration": 172,
    "start_time": "2023-07-11T18:54:32.050Z"
   },
   {
    "duration": 3311,
    "start_time": "2023-07-11T18:54:32.225Z"
   },
   {
    "duration": 11,
    "start_time": "2023-07-11T18:54:35.538Z"
   },
   {
    "duration": 55,
    "start_time": "2023-07-11T18:54:35.550Z"
   },
   {
    "duration": 8,
    "start_time": "2023-07-11T18:54:35.607Z"
   },
   {
    "duration": 36,
    "start_time": "2023-07-11T18:54:35.617Z"
   },
   {
    "duration": 9,
    "start_time": "2023-07-11T18:54:35.666Z"
   },
   {
    "duration": 47,
    "start_time": "2023-07-11T18:54:35.677Z"
   },
   {
    "duration": 1671,
    "start_time": "2023-07-11T18:54:35.726Z"
   },
   {
    "duration": 112973,
    "start_time": "2023-07-11T18:54:37.400Z"
   },
   {
    "duration": 27594,
    "start_time": "2023-07-11T18:56:30.375Z"
   },
   {
    "duration": 497,
    "start_time": "2023-07-11T18:56:57.970Z"
   },
   {
    "duration": 141,
    "start_time": "2023-07-11T18:56:58.470Z"
   },
   {
    "duration": 1498022,
    "start_time": "2023-07-11T18:56:58.613Z"
   },
   {
    "duration": 74917,
    "start_time": "2023-07-11T19:21:56.637Z"
   },
   {
    "duration": 950,
    "start_time": "2023-07-11T19:23:11.555Z"
   },
   {
    "duration": 186,
    "start_time": "2023-07-11T19:23:12.508Z"
   },
   {
    "duration": 1292,
    "start_time": "2023-07-11T20:31:21.448Z"
   },
   {
    "duration": 929,
    "start_time": "2023-07-11T20:31:22.742Z"
   },
   {
    "duration": 32,
    "start_time": "2023-07-11T20:31:23.673Z"
   },
   {
    "duration": 210,
    "start_time": "2023-07-11T20:31:23.707Z"
   },
   {
    "duration": 533,
    "start_time": "2023-07-11T20:31:23.920Z"
   },
   {
    "duration": 609,
    "start_time": "2023-07-11T20:31:24.455Z"
   },
   {
    "duration": 20,
    "start_time": "2023-07-11T20:31:25.067Z"
   },
   {
    "duration": 86,
    "start_time": "2023-07-11T20:31:25.090Z"
   },
   {
    "duration": 32,
    "start_time": "2023-07-11T20:31:25.178Z"
   },
   {
    "duration": 28,
    "start_time": "2023-07-11T20:31:25.212Z"
   },
   {
    "duration": 33,
    "start_time": "2023-07-11T20:31:25.242Z"
   },
   {
    "duration": 24,
    "start_time": "2023-07-11T20:31:25.277Z"
   },
   {
    "duration": 22,
    "start_time": "2023-07-11T20:31:25.303Z"
   },
   {
    "duration": 43,
    "start_time": "2023-07-11T20:31:25.329Z"
   },
   {
    "duration": 22,
    "start_time": "2023-07-11T20:31:25.373Z"
   },
   {
    "duration": 36,
    "start_time": "2023-07-11T20:31:25.396Z"
   },
   {
    "duration": 172,
    "start_time": "2023-07-11T20:31:25.433Z"
   },
   {
    "duration": 3193,
    "start_time": "2023-07-11T20:31:25.607Z"
   },
   {
    "duration": 170,
    "start_time": "2023-07-11T20:31:28.802Z"
   },
   {
    "duration": 3214,
    "start_time": "2023-07-11T20:31:28.974Z"
   },
   {
    "duration": 11,
    "start_time": "2023-07-11T20:31:32.191Z"
   },
   {
    "duration": 52,
    "start_time": "2023-07-11T20:31:32.204Z"
   },
   {
    "duration": 15,
    "start_time": "2023-07-11T20:31:32.258Z"
   },
   {
    "duration": 70,
    "start_time": "2023-07-11T20:31:32.275Z"
   },
   {
    "duration": 8,
    "start_time": "2023-07-11T20:31:32.347Z"
   },
   {
    "duration": 30,
    "start_time": "2023-07-11T20:31:32.356Z"
   },
   {
    "duration": 1695,
    "start_time": "2023-07-11T20:31:32.388Z"
   },
   {
    "duration": 105489,
    "start_time": "2023-07-11T20:31:34.085Z"
   },
   {
    "duration": 27593,
    "start_time": "2023-07-11T20:33:19.576Z"
   },
   {
    "duration": 497,
    "start_time": "2023-07-11T20:33:47.171Z"
   },
   {
    "duration": 161,
    "start_time": "2023-07-11T20:33:47.670Z"
   },
   {
    "duration": 1474393,
    "start_time": "2023-07-11T20:33:47.833Z"
   },
   {
    "duration": 74926,
    "start_time": "2023-07-11T20:58:22.227Z"
   },
   {
    "duration": 1004,
    "start_time": "2023-07-11T20:59:37.155Z"
   },
   {
    "duration": 184,
    "start_time": "2023-07-11T20:59:38.161Z"
   },
   {
    "duration": 2965039,
    "start_time": "2023-07-11T20:59:38.347Z"
   },
   {
    "duration": 0,
    "start_time": "2023-07-11T21:49:03.388Z"
   },
   {
    "duration": 0,
    "start_time": "2023-07-11T21:49:03.390Z"
   },
   {
    "duration": 1,
    "start_time": "2023-07-11T21:49:03.391Z"
   },
   {
    "duration": 0,
    "start_time": "2023-07-11T21:49:03.394Z"
   },
   {
    "duration": 0,
    "start_time": "2023-07-11T21:49:03.395Z"
   },
   {
    "duration": 0,
    "start_time": "2023-07-11T21:49:03.397Z"
   },
   {
    "duration": 3492844,
    "start_time": "2023-07-11T21:49:41.228Z"
   },
   {
    "duration": 4,
    "start_time": "2023-07-11T23:02:59.128Z"
   },
   {
    "duration": 975426,
    "start_time": "2023-07-11T23:29:10.677Z"
   },
   {
    "duration": 4,
    "start_time": "2023-07-11T23:45:26.106Z"
   },
   {
    "duration": 1327,
    "start_time": "2023-07-11T23:48:55.725Z"
   },
   {
    "duration": 957,
    "start_time": "2023-07-11T23:48:57.054Z"
   },
   {
    "duration": 27,
    "start_time": "2023-07-11T23:48:58.013Z"
   },
   {
    "duration": 199,
    "start_time": "2023-07-11T23:48:58.042Z"
   },
   {
    "duration": 548,
    "start_time": "2023-07-11T23:48:58.244Z"
   },
   {
    "duration": 624,
    "start_time": "2023-07-11T23:48:58.794Z"
   },
   {
    "duration": 26,
    "start_time": "2023-07-11T23:48:59.420Z"
   },
   {
    "duration": 81,
    "start_time": "2023-07-11T23:48:59.448Z"
   },
   {
    "duration": 39,
    "start_time": "2023-07-11T23:48:59.531Z"
   },
   {
    "duration": 27,
    "start_time": "2023-07-11T23:48:59.571Z"
   },
   {
    "duration": 21,
    "start_time": "2023-07-11T23:48:59.600Z"
   },
   {
    "duration": 29,
    "start_time": "2023-07-11T23:48:59.623Z"
   },
   {
    "duration": 34,
    "start_time": "2023-07-11T23:48:59.654Z"
   },
   {
    "duration": 20,
    "start_time": "2023-07-11T23:48:59.691Z"
   },
   {
    "duration": 21,
    "start_time": "2023-07-11T23:48:59.713Z"
   },
   {
    "duration": 54,
    "start_time": "2023-07-11T23:48:59.736Z"
   },
   {
    "duration": 186,
    "start_time": "2023-07-11T23:48:59.792Z"
   },
   {
    "duration": 3214,
    "start_time": "2023-07-11T23:48:59.980Z"
   },
   {
    "duration": 176,
    "start_time": "2023-07-11T23:49:03.196Z"
   },
   {
    "duration": 3208,
    "start_time": "2023-07-11T23:49:03.374Z"
   },
   {
    "duration": 12,
    "start_time": "2023-07-11T23:49:06.584Z"
   },
   {
    "duration": 40,
    "start_time": "2023-07-11T23:49:06.598Z"
   },
   {
    "duration": 28,
    "start_time": "2023-07-11T23:49:06.640Z"
   },
   {
    "duration": 28,
    "start_time": "2023-07-11T23:49:06.670Z"
   },
   {
    "duration": 8,
    "start_time": "2023-07-11T23:49:06.700Z"
   },
   {
    "duration": 28,
    "start_time": "2023-07-11T23:49:06.710Z"
   },
   {
    "duration": 1662,
    "start_time": "2023-07-11T23:49:06.739Z"
   },
   {
    "duration": 108670,
    "start_time": "2023-07-11T23:49:08.403Z"
   },
   {
    "duration": 26603,
    "start_time": "2023-07-11T23:50:57.075Z"
   },
   {
    "duration": 409,
    "start_time": "2023-07-11T23:51:23.766Z"
   },
   {
    "duration": 241,
    "start_time": "2023-07-11T23:51:24.177Z"
   },
   {
    "duration": 1465736,
    "start_time": "2023-07-11T23:51:24.421Z"
   },
   {
    "duration": 74272,
    "start_time": "2023-07-12T00:15:50.159Z"
   },
   {
    "duration": 960,
    "start_time": "2023-07-12T00:17:04.433Z"
   },
   {
    "duration": 179,
    "start_time": "2023-07-12T00:17:05.395Z"
   },
   {
    "duration": 3770909,
    "start_time": "2023-07-12T00:17:05.576Z"
   },
   {
    "duration": 4,
    "start_time": "2023-07-12T01:19:56.568Z"
   },
   {
    "duration": 12903,
    "start_time": "2023-07-12T01:19:56.574Z"
   },
   {
    "duration": 7202,
    "start_time": "2023-07-12T01:20:09.478Z"
   },
   {
    "duration": 53,
    "start_time": "2023-07-12T01:20:16.682Z"
   },
   {
    "duration": 192,
    "start_time": "2023-07-12T01:20:16.767Z"
   },
   {
    "duration": 74,
    "start_time": "2023-07-12T01:20:16.961Z"
   },
   {
    "duration": 11,
    "start_time": "2023-07-12T01:20:17.037Z"
   },
   {
    "duration": 6990,
    "start_time": "2023-07-12T01:37:56.587Z"
   },
   {
    "duration": 6864,
    "start_time": "2023-07-12T01:44:15.817Z"
   },
   {
    "duration": 2290,
    "start_time": "2023-07-12T01:44:30.416Z"
   },
   {
    "duration": 4,
    "start_time": "2023-07-12T01:44:35.625Z"
   },
   {
    "duration": 4,
    "start_time": "2023-07-12T01:45:48.154Z"
   },
   {
    "duration": 161,
    "start_time": "2023-07-12T08:09:21.783Z"
   },
   {
    "duration": 1475,
    "start_time": "2023-07-12T08:18:50.143Z"
   },
   {
    "duration": 1309,
    "start_time": "2023-07-12T08:18:51.620Z"
   },
   {
    "duration": 26,
    "start_time": "2023-07-12T08:18:52.931Z"
   },
   {
    "duration": 229,
    "start_time": "2023-07-12T08:18:52.959Z"
   },
   {
    "duration": 539,
    "start_time": "2023-07-12T08:18:53.192Z"
   },
   {
    "duration": 606,
    "start_time": "2023-07-12T08:18:53.733Z"
   },
   {
    "duration": 23,
    "start_time": "2023-07-12T08:18:54.341Z"
   },
   {
    "duration": 88,
    "start_time": "2023-07-12T08:18:54.366Z"
   },
   {
    "duration": 38,
    "start_time": "2023-07-12T08:18:54.456Z"
   },
   {
    "duration": 46,
    "start_time": "2023-07-12T08:18:54.496Z"
   },
   {
    "duration": 31,
    "start_time": "2023-07-12T08:18:54.544Z"
   },
   {
    "duration": 35,
    "start_time": "2023-07-12T08:18:54.577Z"
   },
   {
    "duration": 22,
    "start_time": "2023-07-12T08:18:54.615Z"
   },
   {
    "duration": 23,
    "start_time": "2023-07-12T08:18:54.640Z"
   },
   {
    "duration": 23,
    "start_time": "2023-07-12T08:18:54.665Z"
   },
   {
    "duration": 48,
    "start_time": "2023-07-12T08:18:54.690Z"
   },
   {
    "duration": 175,
    "start_time": "2023-07-12T08:18:54.740Z"
   },
   {
    "duration": 3285,
    "start_time": "2023-07-12T08:18:54.917Z"
   },
   {
    "duration": 162,
    "start_time": "2023-07-12T08:18:58.204Z"
   },
   {
    "duration": 3320,
    "start_time": "2023-07-12T08:18:58.368Z"
   },
   {
    "duration": 10,
    "start_time": "2023-07-12T08:19:01.690Z"
   },
   {
    "duration": 428,
    "start_time": "2023-07-12T08:19:01.709Z"
   },
   {
    "duration": 8,
    "start_time": "2023-07-12T08:19:02.139Z"
   },
   {
    "duration": 37,
    "start_time": "2023-07-12T08:19:02.149Z"
   },
   {
    "duration": 21,
    "start_time": "2023-07-12T08:19:02.188Z"
   },
   {
    "duration": 32,
    "start_time": "2023-07-12T08:19:02.211Z"
   },
   {
    "duration": 1903,
    "start_time": "2023-07-12T08:19:02.245Z"
   },
   {
    "duration": 204169,
    "start_time": "2023-07-12T08:19:04.150Z"
   },
   {
    "duration": 43003,
    "start_time": "2023-07-12T08:22:28.322Z"
   },
   {
    "duration": 396,
    "start_time": "2023-07-12T08:23:11.328Z"
   },
   {
    "duration": 179,
    "start_time": "2023-07-12T08:23:11.813Z"
   },
   {
    "duration": 1670166,
    "start_time": "2023-07-12T08:23:11.994Z"
   },
   {
    "duration": 82375,
    "start_time": "2023-07-12T08:51:02.163Z"
   },
   {
    "duration": 1047,
    "start_time": "2023-07-12T08:52:24.540Z"
   },
   {
    "duration": 215,
    "start_time": "2023-07-12T08:52:25.589Z"
   },
   {
    "duration": 593611,
    "start_time": "2023-07-12T08:52:25.809Z"
   },
   {
    "duration": 6,
    "start_time": "2023-07-12T09:02:19.422Z"
   },
   {
    "duration": 17587,
    "start_time": "2023-07-12T09:02:19.430Z"
   },
   {
    "duration": 7495,
    "start_time": "2023-07-12T09:02:37.019Z"
   },
   {
    "duration": 24,
    "start_time": "2023-07-12T09:02:44.516Z"
   },
   {
    "duration": 17273,
    "start_time": "2023-07-12T09:02:44.543Z"
   },
   {
    "duration": 2414,
    "start_time": "2023-07-12T09:03:01.818Z"
   },
   {
    "duration": 78,
    "start_time": "2023-07-12T09:03:04.234Z"
   },
   {
    "duration": 16154,
    "start_time": "2023-07-12T09:22:17.466Z"
   },
   {
    "duration": 17403,
    "start_time": "2023-07-12T09:22:53.123Z"
   },
   {
    "duration": 2348,
    "start_time": "2023-07-12T09:23:19.478Z"
   },
   {
    "duration": 4,
    "start_time": "2023-07-12T09:23:22.575Z"
   },
   {
    "duration": 14960,
    "start_time": "2023-07-12T09:25:29.956Z"
   },
   {
    "duration": 14110,
    "start_time": "2023-07-12T09:25:50.708Z"
   },
   {
    "duration": 2434,
    "start_time": "2023-07-12T09:26:28.290Z"
   },
   {
    "duration": 6,
    "start_time": "2023-07-12T09:26:31.814Z"
   },
   {
    "duration": 1175,
    "start_time": "2024-01-07T15:43:45.987Z"
   },
   {
    "duration": 1122,
    "start_time": "2024-01-07T15:43:47.164Z"
   },
   {
    "duration": 20,
    "start_time": "2024-01-07T15:43:48.288Z"
   },
   {
    "duration": 129,
    "start_time": "2024-01-07T15:43:48.309Z"
   },
   {
    "duration": 449,
    "start_time": "2024-01-07T15:43:48.440Z"
   },
   {
    "duration": 479,
    "start_time": "2024-01-07T15:43:48.890Z"
   },
   {
    "duration": 20,
    "start_time": "2024-01-07T15:43:49.371Z"
   },
   {
    "duration": 104,
    "start_time": "2024-01-07T15:43:49.393Z"
   },
   {
    "duration": 34,
    "start_time": "2024-01-07T15:43:49.499Z"
   },
   {
    "duration": 28,
    "start_time": "2024-01-07T15:43:49.545Z"
   },
   {
    "duration": 24,
    "start_time": "2024-01-07T15:43:49.574Z"
   },
   {
    "duration": 33,
    "start_time": "2024-01-07T15:43:49.599Z"
   },
   {
    "duration": 28,
    "start_time": "2024-01-07T15:43:49.634Z"
   },
   {
    "duration": 22,
    "start_time": "2024-01-07T15:43:49.664Z"
   },
   {
    "duration": 20,
    "start_time": "2024-01-07T15:43:49.687Z"
   },
   {
    "duration": 55,
    "start_time": "2024-01-07T15:43:49.708Z"
   },
   {
    "duration": 163,
    "start_time": "2024-01-07T15:43:49.764Z"
   },
   {
    "duration": 3096,
    "start_time": "2024-01-07T15:43:49.928Z"
   },
   {
    "duration": 167,
    "start_time": "2024-01-07T15:43:53.026Z"
   },
   {
    "duration": 3083,
    "start_time": "2024-01-07T15:43:53.195Z"
   },
   {
    "duration": 9,
    "start_time": "2024-01-07T15:43:56.280Z"
   },
   {
    "duration": 42,
    "start_time": "2024-01-07T15:43:56.290Z"
   },
   {
    "duration": 26,
    "start_time": "2024-01-07T15:43:56.333Z"
   },
   {
    "duration": 21,
    "start_time": "2024-01-07T15:43:56.360Z"
   },
   {
    "duration": 7,
    "start_time": "2024-01-07T15:43:56.382Z"
   },
   {
    "duration": 29,
    "start_time": "2024-01-07T15:43:56.391Z"
   },
   {
    "duration": 1133,
    "start_time": "2024-01-07T15:43:56.422Z"
   },
   {
    "duration": 125502,
    "start_time": "2024-01-07T15:43:57.556Z"
   },
   {
    "duration": 29596,
    "start_time": "2024-01-07T15:46:03.060Z"
   },
   {
    "duration": 401,
    "start_time": "2024-01-07T15:46:32.658Z"
   },
   {
    "duration": 149,
    "start_time": "2024-01-07T15:46:33.146Z"
   },
   {
    "duration": 1211,
    "start_time": "2024-01-07T15:49:13.456Z"
   },
   {
    "duration": 917,
    "start_time": "2024-01-07T15:49:14.668Z"
   },
   {
    "duration": 20,
    "start_time": "2024-01-07T15:49:15.586Z"
   },
   {
    "duration": 147,
    "start_time": "2024-01-07T15:49:15.607Z"
   },
   {
    "duration": 437,
    "start_time": "2024-01-07T15:49:15.757Z"
   },
   {
    "duration": 516,
    "start_time": "2024-01-07T15:49:16.195Z"
   },
   {
    "duration": 22,
    "start_time": "2024-01-07T15:49:16.712Z"
   },
   {
    "duration": 96,
    "start_time": "2024-01-07T15:49:16.735Z"
   },
   {
    "duration": 44,
    "start_time": "2024-01-07T15:49:16.833Z"
   },
   {
    "duration": 27,
    "start_time": "2024-01-07T15:49:16.878Z"
   },
   {
    "duration": 24,
    "start_time": "2024-01-07T15:49:16.907Z"
   },
   {
    "duration": 25,
    "start_time": "2024-01-07T15:49:16.933Z"
   },
   {
    "duration": 21,
    "start_time": "2024-01-07T15:49:16.960Z"
   },
   {
    "duration": 26,
    "start_time": "2024-01-07T15:49:16.984Z"
   },
   {
    "duration": 20,
    "start_time": "2024-01-07T15:49:17.012Z"
   },
   {
    "duration": 40,
    "start_time": "2024-01-07T15:49:17.046Z"
   },
   {
    "duration": 216,
    "start_time": "2024-01-07T15:49:17.087Z"
   },
   {
    "duration": 3131,
    "start_time": "2024-01-07T15:49:17.304Z"
   },
   {
    "duration": 164,
    "start_time": "2024-01-07T15:49:20.437Z"
   },
   {
    "duration": 3076,
    "start_time": "2024-01-07T15:49:20.603Z"
   },
   {
    "duration": 8,
    "start_time": "2024-01-07T15:49:23.681Z"
   },
   {
    "duration": 33,
    "start_time": "2024-01-07T15:49:23.690Z"
   },
   {
    "duration": 30,
    "start_time": "2024-01-07T15:49:23.725Z"
   },
   {
    "duration": 22,
    "start_time": "2024-01-07T15:49:23.757Z"
   },
   {
    "duration": 7,
    "start_time": "2024-01-07T15:49:23.780Z"
   },
   {
    "duration": 22,
    "start_time": "2024-01-07T15:49:23.788Z"
   },
   {
    "duration": 552,
    "start_time": "2024-01-07T15:49:23.811Z"
   },
   {
    "duration": 453,
    "start_time": "2024-01-07T15:49:24.364Z"
   },
   {
    "duration": 166,
    "start_time": "2024-01-07T15:49:24.818Z"
   },
   {
    "duration": 125899,
    "start_time": "2024-01-07T15:49:24.986Z"
   },
   {
    "duration": 29602,
    "start_time": "2024-01-07T15:51:30.947Z"
   },
   {
    "duration": 398,
    "start_time": "2024-01-07T15:52:00.551Z"
   },
   {
    "duration": 156,
    "start_time": "2024-01-07T15:52:00.950Z"
   },
   {
    "duration": 5937025,
    "start_time": "2024-01-07T15:52:01.108Z"
   },
   {
    "duration": 62198,
    "start_time": "2024-01-07T17:30:58.135Z"
   },
   {
    "duration": 830,
    "start_time": "2024-01-07T17:32:00.335Z"
   },
   {
    "duration": 179,
    "start_time": "2024-01-07T17:32:01.167Z"
   },
   {
    "duration": 1761411,
    "start_time": "2024-01-07T17:32:01.347Z"
   },
   {
    "duration": 87,
    "start_time": "2024-01-07T18:01:22.760Z"
   },
   {
    "duration": 16505,
    "start_time": "2024-01-07T18:01:22.848Z"
   },
   {
    "duration": 6311,
    "start_time": "2024-01-07T18:01:39.356Z"
   },
   {
    "duration": 22,
    "start_time": "2024-01-07T18:01:45.668Z"
   },
   {
    "duration": 13274,
    "start_time": "2024-01-07T18:01:45.691Z"
   },
   {
    "duration": 2103,
    "start_time": "2024-01-07T18:01:58.967Z"
   },
   {
    "duration": 4,
    "start_time": "2024-01-07T18:02:01.072Z"
   },
   {
    "duration": 1316,
    "start_time": "2024-01-08T14:06:10.031Z"
   },
   {
    "duration": 1173,
    "start_time": "2024-01-08T14:06:13.700Z"
   },
   {
    "duration": 22,
    "start_time": "2024-01-08T14:06:18.739Z"
   },
   {
    "duration": 137,
    "start_time": "2024-01-08T14:06:22.437Z"
   },
   {
    "duration": 489,
    "start_time": "2024-01-08T14:06:31.057Z"
   },
   {
    "duration": 552,
    "start_time": "2024-01-08T14:06:34.092Z"
   },
   {
    "duration": 26,
    "start_time": "2024-01-08T14:06:45.542Z"
   },
   {
    "duration": 91,
    "start_time": "2024-01-08T14:07:10.171Z"
   },
   {
    "duration": 91,
    "start_time": "2024-01-08T14:07:33.976Z"
   },
   {
    "duration": 44,
    "start_time": "2024-01-08T14:07:38.712Z"
   },
   {
    "duration": 22,
    "start_time": "2024-01-08T14:07:42.489Z"
   },
   {
    "duration": 20,
    "start_time": "2024-01-08T14:07:44.645Z"
   },
   {
    "duration": 23,
    "start_time": "2024-01-08T14:07:49.641Z"
   },
   {
    "duration": 22,
    "start_time": "2024-01-08T14:07:53.870Z"
   },
   {
    "duration": 22,
    "start_time": "2024-01-08T14:08:01.060Z"
   },
   {
    "duration": 20,
    "start_time": "2024-01-08T14:08:05.962Z"
   },
   {
    "duration": 37,
    "start_time": "2024-01-08T14:08:09.306Z"
   },
   {
    "duration": 147,
    "start_time": "2024-01-08T14:08:36.760Z"
   },
   {
    "duration": 3090,
    "start_time": "2024-01-08T14:08:37.942Z"
   },
   {
    "duration": 157,
    "start_time": "2024-01-08T14:08:44.067Z"
   },
   {
    "duration": 3187,
    "start_time": "2024-01-08T14:08:44.973Z"
   },
   {
    "duration": 9,
    "start_time": "2024-01-08T14:08:50.088Z"
   },
   {
    "duration": 39,
    "start_time": "2024-01-08T14:08:53.535Z"
   },
   {
    "duration": 5,
    "start_time": "2024-01-08T14:08:55.703Z"
   },
   {
    "duration": 25,
    "start_time": "2024-01-08T14:08:58.470Z"
   },
   {
    "duration": 9,
    "start_time": "2024-01-08T14:09:00.948Z"
   },
   {
    "duration": 24,
    "start_time": "2024-01-08T14:09:03.844Z"
   },
   {
    "duration": 628,
    "start_time": "2024-01-08T14:09:14.760Z"
   },
   {
    "duration": 456,
    "start_time": "2024-01-08T14:09:16.981Z"
   },
   {
    "duration": 155,
    "start_time": "2024-01-08T14:09:23.254Z"
   },
   {
    "duration": 81623,
    "start_time": "2024-01-08T14:09:28.721Z"
   },
   {
    "duration": 20863,
    "start_time": "2024-01-08T14:10:53.983Z"
   },
   {
    "duration": 322,
    "start_time": "2024-01-08T14:11:21.826Z"
   },
   {
    "duration": 70,
    "start_time": "2024-01-08T14:11:27.837Z"
   },
   {
    "duration": 1376054,
    "start_time": "2024-01-08T14:11:36.795Z"
   },
   {
    "duration": 67974,
    "start_time": "2024-01-08T14:35:57.367Z"
   },
   {
    "duration": 902,
    "start_time": "2024-01-08T14:37:32.279Z"
   },
   {
    "duration": 165,
    "start_time": "2024-01-08T14:37:52.299Z"
   },
   {
    "duration": 819290,
    "start_time": "2024-01-08T14:37:55.057Z"
   },
   {
    "duration": 3,
    "start_time": "2024-01-08T14:52:53.552Z"
   },
   {
    "duration": 954170,
    "start_time": "2024-01-08T14:54:25.778Z"
   },
   {
    "duration": 6582,
    "start_time": "2024-01-08T15:10:24.770Z"
   },
   {
    "duration": 27,
    "start_time": "2024-01-08T15:12:37.428Z"
   },
   {
    "duration": 13,
    "start_time": "2024-01-08T15:13:23.078Z"
   },
   {
    "duration": 1234,
    "start_time": "2024-01-08T23:38:44.643Z"
   },
   {
    "duration": 971,
    "start_time": "2024-01-08T23:38:46.584Z"
   },
   {
    "duration": 22,
    "start_time": "2024-01-08T23:38:49.593Z"
   },
   {
    "duration": 154,
    "start_time": "2024-01-08T23:38:51.640Z"
   },
   {
    "duration": 432,
    "start_time": "2024-01-08T23:38:54.392Z"
   },
   {
    "duration": 519,
    "start_time": "2024-01-08T23:38:55.735Z"
   },
   {
    "duration": 21,
    "start_time": "2024-01-08T23:38:56.579Z"
   },
   {
    "duration": 89,
    "start_time": "2024-01-08T23:38:58.645Z"
   },
   {
    "duration": 42,
    "start_time": "2024-01-08T23:39:01.100Z"
   },
   {
    "duration": 21,
    "start_time": "2024-01-08T23:39:02.160Z"
   },
   {
    "duration": 22,
    "start_time": "2024-01-08T23:39:03.044Z"
   },
   {
    "duration": 32,
    "start_time": "2024-01-08T23:39:03.994Z"
   },
   {
    "duration": 23,
    "start_time": "2024-01-08T23:39:05.800Z"
   },
   {
    "duration": 21,
    "start_time": "2024-01-08T23:39:08.659Z"
   },
   {
    "duration": 21,
    "start_time": "2024-01-08T23:39:10.143Z"
   },
   {
    "duration": 38,
    "start_time": "2024-01-08T23:39:10.868Z"
   },
   {
    "duration": 159,
    "start_time": "2024-01-08T23:39:13.073Z"
   },
   {
    "duration": 3067,
    "start_time": "2024-01-08T23:39:13.566Z"
   },
   {
    "duration": 161,
    "start_time": "2024-01-08T23:39:16.635Z"
   },
   {
    "duration": 3043,
    "start_time": "2024-01-08T23:39:16.797Z"
   },
   {
    "duration": 8,
    "start_time": "2024-01-08T23:39:21.001Z"
   },
   {
    "duration": 35,
    "start_time": "2024-01-08T23:39:23.483Z"
   },
   {
    "duration": 6,
    "start_time": "2024-01-08T23:39:24.535Z"
   },
   {
    "duration": 23,
    "start_time": "2024-01-08T23:39:26.881Z"
   },
   {
    "duration": 7,
    "start_time": "2024-01-08T23:39:28.136Z"
   },
   {
    "duration": 24,
    "start_time": "2024-01-08T23:39:30.315Z"
   },
   {
    "duration": 606,
    "start_time": "2024-01-08T23:39:34.558Z"
   },
   {
    "duration": 438,
    "start_time": "2024-01-08T23:39:37.315Z"
   },
   {
    "duration": 157,
    "start_time": "2024-01-08T23:39:40.187Z"
   },
   {
    "duration": 79796,
    "start_time": "2024-01-08T23:39:42.952Z"
   },
   {
    "duration": 19507,
    "start_time": "2024-01-08T23:41:05.740Z"
   },
   {
    "duration": 372,
    "start_time": "2024-01-08T23:41:28.372Z"
   },
   {
    "duration": 75,
    "start_time": "2024-01-08T23:41:34.646Z"
   },
   {
    "duration": 97012,
    "start_time": "2024-01-08T23:41:37.917Z"
   },
   {
    "duration": 1223,
    "start_time": "2024-01-09T12:43:06.679Z"
   },
   {
    "duration": 1141,
    "start_time": "2024-01-09T12:43:07.903Z"
   },
   {
    "duration": 22,
    "start_time": "2024-01-09T12:43:09.045Z"
   },
   {
    "duration": 145,
    "start_time": "2024-01-09T12:43:09.069Z"
   },
   {
    "duration": 457,
    "start_time": "2024-01-09T12:43:09.216Z"
   },
   {
    "duration": 522,
    "start_time": "2024-01-09T12:43:10.331Z"
   },
   {
    "duration": 21,
    "start_time": "2024-01-09T12:43:12.390Z"
   },
   {
    "duration": 86,
    "start_time": "2024-01-09T12:43:13.374Z"
   },
   {
    "duration": 53,
    "start_time": "2024-01-09T12:43:14.317Z"
   },
   {
    "duration": 22,
    "start_time": "2024-01-09T12:43:15.042Z"
   },
   {
    "duration": 21,
    "start_time": "2024-01-09T12:43:15.673Z"
   },
   {
    "duration": 22,
    "start_time": "2024-01-09T12:43:16.438Z"
   },
   {
    "duration": 24,
    "start_time": "2024-01-09T12:43:17.142Z"
   },
   {
    "duration": 24,
    "start_time": "2024-01-09T12:43:18.136Z"
   },
   {
    "duration": 22,
    "start_time": "2024-01-09T12:43:18.866Z"
   },
   {
    "duration": 36,
    "start_time": "2024-01-09T12:43:19.294Z"
   },
   {
    "duration": 157,
    "start_time": "2024-01-09T12:43:20.205Z"
   },
   {
    "duration": 3049,
    "start_time": "2024-01-09T12:43:20.545Z"
   },
   {
    "duration": 157,
    "start_time": "2024-01-09T12:43:23.595Z"
   },
   {
    "duration": 3017,
    "start_time": "2024-01-09T12:43:23.754Z"
   },
   {
    "duration": 9,
    "start_time": "2024-01-09T12:43:26.773Z"
   },
   {
    "duration": 50,
    "start_time": "2024-01-09T12:43:26.783Z"
   },
   {
    "duration": 6,
    "start_time": "2024-01-09T12:43:30.128Z"
   },
   {
    "duration": 24,
    "start_time": "2024-01-09T12:43:31.255Z"
   },
   {
    "duration": 7,
    "start_time": "2024-01-09T12:43:33.090Z"
   },
   {
    "duration": 25,
    "start_time": "2024-01-09T12:43:34.090Z"
   },
   {
    "duration": 541,
    "start_time": "2024-01-09T12:43:37.150Z"
   },
   {
    "duration": 455,
    "start_time": "2024-01-09T12:43:38.610Z"
   },
   {
    "duration": 153,
    "start_time": "2024-01-09T12:43:43.179Z"
   },
   {
    "duration": 78575,
    "start_time": "2024-01-09T12:43:45.741Z"
   },
   {
    "duration": 19010,
    "start_time": "2024-01-09T12:53:00.202Z"
   },
   {
    "duration": 317,
    "start_time": "2024-01-09T12:53:32.400Z"
   },
   {
    "duration": 69,
    "start_time": "2024-01-09T12:53:36.917Z"
   },
   {
    "duration": 1347816,
    "start_time": "2024-01-09T12:53:43.410Z"
   },
   {
    "duration": 70273,
    "start_time": "2024-01-09T13:54:50.343Z"
   },
   {
    "duration": 875,
    "start_time": "2024-01-09T13:56:20.526Z"
   },
   {
    "duration": 162,
    "start_time": "2024-01-09T13:56:27.726Z"
   },
   {
    "duration": 505646,
    "start_time": "2024-01-09T13:56:30.484Z"
   },
   {
    "duration": 3,
    "start_time": "2024-01-09T14:05:17.483Z"
   },
   {
    "duration": 18568,
    "start_time": "2024-01-09T14:05:30.159Z"
   },
   {
    "duration": 6570,
    "start_time": "2024-01-09T14:05:51.180Z"
   },
   {
    "duration": 28,
    "start_time": "2024-01-09T14:39:36.109Z"
   },
   {
    "duration": 19990,
    "start_time": "2024-01-09T14:43:46.036Z"
   },
   {
    "duration": 2125,
    "start_time": "2024-01-09T14:44:06.112Z"
   },
   {
    "duration": 4,
    "start_time": "2024-01-09T14:44:10.260Z"
   }
  ],
  "kernelspec": {
   "display_name": "Python 3 (ipykernel)",
   "language": "python",
   "name": "python3"
  },
  "language_info": {
   "codemirror_mode": {
    "name": "ipython",
    "version": 3
   },
   "file_extension": ".py",
   "mimetype": "text/x-python",
   "name": "python",
   "nbconvert_exporter": "python",
   "pygments_lexer": "ipython3",
   "version": "3.9.5"
  },
  "toc": {
   "base_numbering": 1,
   "nav_menu": {},
   "number_sections": false,
   "sideBar": true,
   "skip_h1_title": false,
   "title_cell": "Содержание",
   "title_sidebar": "Contents",
   "toc_cell": true,
   "toc_position": {
    "height": "calc(100% - 180px)",
    "left": "10px",
    "top": "150px",
    "width": "165px"
   },
   "toc_section_display": true,
   "toc_window_display": false
  }
 },
 "nbformat": 4,
 "nbformat_minor": 2
}
